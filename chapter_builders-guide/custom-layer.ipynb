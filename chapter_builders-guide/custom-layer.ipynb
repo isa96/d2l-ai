{
  "cells": [
    {
      "cell_type": "markdown",
      "id": "48ae80d0",
      "metadata": {
        "id": "48ae80d0"
      },
      "source": [
        "The following additional libraries are needed to run this\n",
        "notebook. Note that running on Colab is experimental, please report a Github\n",
        "issue if you have any problem."
      ]
    },
    {
      "cell_type": "code",
      "execution_count": 1,
      "id": "3f7038c6",
      "metadata": {
        "id": "3f7038c6",
        "outputId": "28ee65a4-a025-40b3-f88f-3ba2987dfb24",
        "colab": {
          "base_uri": "https://localhost:8080/"
        }
      },
      "outputs": [
        {
          "output_type": "stream",
          "name": "stdout",
          "text": [
            "Looking in indexes: https://pypi.org/simple, https://us-python.pkg.dev/colab-wheels/public/simple/\n",
            "Collecting d2l==1.0.0-alpha1.post0\n",
            "  Downloading d2l-1.0.0a1.post0-py3-none-any.whl (93 kB)\n",
            "\u001b[K     |████████████████████████████████| 93 kB 1.1 MB/s \n",
            "\u001b[?25hRequirement already satisfied: numpy in /usr/local/lib/python3.7/dist-packages (from d2l==1.0.0-alpha1.post0) (1.21.6)\n",
            "Collecting jupyter\n",
            "  Downloading jupyter-1.0.0-py2.py3-none-any.whl (2.7 kB)\n",
            "Requirement already satisfied: matplotlib in /usr/local/lib/python3.7/dist-packages (from d2l==1.0.0-alpha1.post0) (3.2.2)\n",
            "Requirement already satisfied: requests in /usr/local/lib/python3.7/dist-packages (from d2l==1.0.0-alpha1.post0) (2.23.0)\n",
            "Collecting matplotlib-inline\n",
            "  Downloading matplotlib_inline-0.1.6-py3-none-any.whl (9.4 kB)\n",
            "Requirement already satisfied: gym in /usr/local/lib/python3.7/dist-packages (from d2l==1.0.0-alpha1.post0) (0.25.2)\n",
            "Requirement already satisfied: pandas in /usr/local/lib/python3.7/dist-packages (from d2l==1.0.0-alpha1.post0) (1.3.5)\n",
            "Requirement already satisfied: gym-notices>=0.0.4 in /usr/local/lib/python3.7/dist-packages (from gym->d2l==1.0.0-alpha1.post0) (0.0.8)\n",
            "Requirement already satisfied: importlib-metadata>=4.8.0 in /usr/local/lib/python3.7/dist-packages (from gym->d2l==1.0.0-alpha1.post0) (4.13.0)\n",
            "Requirement already satisfied: cloudpickle>=1.2.0 in /usr/local/lib/python3.7/dist-packages (from gym->d2l==1.0.0-alpha1.post0) (1.5.0)\n",
            "Requirement already satisfied: typing-extensions>=3.6.4 in /usr/local/lib/python3.7/dist-packages (from importlib-metadata>=4.8.0->gym->d2l==1.0.0-alpha1.post0) (4.1.1)\n",
            "Requirement already satisfied: zipp>=0.5 in /usr/local/lib/python3.7/dist-packages (from importlib-metadata>=4.8.0->gym->d2l==1.0.0-alpha1.post0) (3.9.0)\n",
            "Requirement already satisfied: notebook in /usr/local/lib/python3.7/dist-packages (from jupyter->d2l==1.0.0-alpha1.post0) (5.5.0)\n",
            "Requirement already satisfied: ipykernel in /usr/local/lib/python3.7/dist-packages (from jupyter->d2l==1.0.0-alpha1.post0) (5.3.4)\n",
            "Requirement already satisfied: ipywidgets in /usr/local/lib/python3.7/dist-packages (from jupyter->d2l==1.0.0-alpha1.post0) (7.7.1)\n",
            "Requirement already satisfied: jupyter-console in /usr/local/lib/python3.7/dist-packages (from jupyter->d2l==1.0.0-alpha1.post0) (6.1.0)\n",
            "Collecting qtconsole\n",
            "  Downloading qtconsole-5.3.2-py3-none-any.whl (120 kB)\n",
            "\u001b[K     |████████████████████████████████| 120 kB 25.8 MB/s \n",
            "\u001b[?25hRequirement already satisfied: nbconvert in /usr/local/lib/python3.7/dist-packages (from jupyter->d2l==1.0.0-alpha1.post0) (5.6.1)\n",
            "Requirement already satisfied: ipython>=5.0.0 in /usr/local/lib/python3.7/dist-packages (from ipykernel->jupyter->d2l==1.0.0-alpha1.post0) (7.9.0)\n",
            "Requirement already satisfied: tornado>=4.2 in /usr/local/lib/python3.7/dist-packages (from ipykernel->jupyter->d2l==1.0.0-alpha1.post0) (5.1.1)\n",
            "Requirement already satisfied: traitlets>=4.1.0 in /usr/local/lib/python3.7/dist-packages (from ipykernel->jupyter->d2l==1.0.0-alpha1.post0) (5.1.1)\n",
            "Requirement already satisfied: jupyter-client in /usr/local/lib/python3.7/dist-packages (from ipykernel->jupyter->d2l==1.0.0-alpha1.post0) (6.1.12)\n",
            "Requirement already satisfied: pexpect in /usr/local/lib/python3.7/dist-packages (from ipython>=5.0.0->ipykernel->jupyter->d2l==1.0.0-alpha1.post0) (4.8.0)\n",
            "Requirement already satisfied: decorator in /usr/local/lib/python3.7/dist-packages (from ipython>=5.0.0->ipykernel->jupyter->d2l==1.0.0-alpha1.post0) (4.4.2)\n",
            "Collecting jedi>=0.10\n",
            "  Downloading jedi-0.18.1-py2.py3-none-any.whl (1.6 MB)\n",
            "\u001b[K     |████████████████████████████████| 1.6 MB 48.5 MB/s \n",
            "\u001b[?25hRequirement already satisfied: pickleshare in /usr/local/lib/python3.7/dist-packages (from ipython>=5.0.0->ipykernel->jupyter->d2l==1.0.0-alpha1.post0) (0.7.5)\n",
            "Requirement already satisfied: setuptools>=18.5 in /usr/local/lib/python3.7/dist-packages (from ipython>=5.0.0->ipykernel->jupyter->d2l==1.0.0-alpha1.post0) (57.4.0)\n",
            "Requirement already satisfied: prompt-toolkit<2.1.0,>=2.0.0 in /usr/local/lib/python3.7/dist-packages (from ipython>=5.0.0->ipykernel->jupyter->d2l==1.0.0-alpha1.post0) (2.0.10)\n",
            "Requirement already satisfied: pygments in /usr/local/lib/python3.7/dist-packages (from ipython>=5.0.0->ipykernel->jupyter->d2l==1.0.0-alpha1.post0) (2.6.1)\n",
            "Requirement already satisfied: backcall in /usr/local/lib/python3.7/dist-packages (from ipython>=5.0.0->ipykernel->jupyter->d2l==1.0.0-alpha1.post0) (0.2.0)\n",
            "Requirement already satisfied: parso<0.9.0,>=0.8.0 in /usr/local/lib/python3.7/dist-packages (from jedi>=0.10->ipython>=5.0.0->ipykernel->jupyter->d2l==1.0.0-alpha1.post0) (0.8.3)\n",
            "Requirement already satisfied: six>=1.9.0 in /usr/local/lib/python3.7/dist-packages (from prompt-toolkit<2.1.0,>=2.0.0->ipython>=5.0.0->ipykernel->jupyter->d2l==1.0.0-alpha1.post0) (1.15.0)\n",
            "Requirement already satisfied: wcwidth in /usr/local/lib/python3.7/dist-packages (from prompt-toolkit<2.1.0,>=2.0.0->ipython>=5.0.0->ipykernel->jupyter->d2l==1.0.0-alpha1.post0) (0.2.5)\n",
            "Requirement already satisfied: ipython-genutils~=0.2.0 in /usr/local/lib/python3.7/dist-packages (from ipywidgets->jupyter->d2l==1.0.0-alpha1.post0) (0.2.0)\n",
            "Requirement already satisfied: widgetsnbextension~=3.6.0 in /usr/local/lib/python3.7/dist-packages (from ipywidgets->jupyter->d2l==1.0.0-alpha1.post0) (3.6.1)\n",
            "Requirement already satisfied: jupyterlab-widgets>=1.0.0 in /usr/local/lib/python3.7/dist-packages (from ipywidgets->jupyter->d2l==1.0.0-alpha1.post0) (3.0.3)\n",
            "Requirement already satisfied: Send2Trash in /usr/local/lib/python3.7/dist-packages (from notebook->jupyter->d2l==1.0.0-alpha1.post0) (1.8.0)\n",
            "Requirement already satisfied: jinja2 in /usr/local/lib/python3.7/dist-packages (from notebook->jupyter->d2l==1.0.0-alpha1.post0) (2.11.3)\n",
            "Requirement already satisfied: jupyter-core>=4.4.0 in /usr/local/lib/python3.7/dist-packages (from notebook->jupyter->d2l==1.0.0-alpha1.post0) (4.11.1)\n",
            "Requirement already satisfied: pyzmq>=17 in /usr/local/lib/python3.7/dist-packages (from notebook->jupyter->d2l==1.0.0-alpha1.post0) (23.2.1)\n",
            "Requirement already satisfied: nbformat in /usr/local/lib/python3.7/dist-packages (from notebook->jupyter->d2l==1.0.0-alpha1.post0) (5.7.0)\n",
            "Requirement already satisfied: terminado>=0.8.1 in /usr/local/lib/python3.7/dist-packages (from notebook->jupyter->d2l==1.0.0-alpha1.post0) (0.13.3)\n",
            "Requirement already satisfied: python-dateutil>=2.1 in /usr/local/lib/python3.7/dist-packages (from jupyter-client->ipykernel->jupyter->d2l==1.0.0-alpha1.post0) (2.8.2)\n",
            "Requirement already satisfied: ptyprocess in /usr/local/lib/python3.7/dist-packages (from terminado>=0.8.1->notebook->jupyter->d2l==1.0.0-alpha1.post0) (0.7.0)\n",
            "Requirement already satisfied: MarkupSafe>=0.23 in /usr/local/lib/python3.7/dist-packages (from jinja2->notebook->jupyter->d2l==1.0.0-alpha1.post0) (2.0.1)\n",
            "Requirement already satisfied: cycler>=0.10 in /usr/local/lib/python3.7/dist-packages (from matplotlib->d2l==1.0.0-alpha1.post0) (0.11.0)\n",
            "Requirement already satisfied: pyparsing!=2.0.4,!=2.1.2,!=2.1.6,>=2.0.1 in /usr/local/lib/python3.7/dist-packages (from matplotlib->d2l==1.0.0-alpha1.post0) (3.0.9)\n",
            "Requirement already satisfied: kiwisolver>=1.0.1 in /usr/local/lib/python3.7/dist-packages (from matplotlib->d2l==1.0.0-alpha1.post0) (1.4.4)\n",
            "Requirement already satisfied: mistune<2,>=0.8.1 in /usr/local/lib/python3.7/dist-packages (from nbconvert->jupyter->d2l==1.0.0-alpha1.post0) (0.8.4)\n",
            "Requirement already satisfied: pandocfilters>=1.4.1 in /usr/local/lib/python3.7/dist-packages (from nbconvert->jupyter->d2l==1.0.0-alpha1.post0) (1.5.0)\n",
            "Requirement already satisfied: testpath in /usr/local/lib/python3.7/dist-packages (from nbconvert->jupyter->d2l==1.0.0-alpha1.post0) (0.6.0)\n",
            "Requirement already satisfied: bleach in /usr/local/lib/python3.7/dist-packages (from nbconvert->jupyter->d2l==1.0.0-alpha1.post0) (5.0.1)\n",
            "Requirement already satisfied: defusedxml in /usr/local/lib/python3.7/dist-packages (from nbconvert->jupyter->d2l==1.0.0-alpha1.post0) (0.7.1)\n",
            "Requirement already satisfied: entrypoints>=0.2.2 in /usr/local/lib/python3.7/dist-packages (from nbconvert->jupyter->d2l==1.0.0-alpha1.post0) (0.4)\n",
            "Requirement already satisfied: jsonschema>=2.6 in /usr/local/lib/python3.7/dist-packages (from nbformat->notebook->jupyter->d2l==1.0.0-alpha1.post0) (4.3.3)\n",
            "Requirement already satisfied: fastjsonschema in /usr/local/lib/python3.7/dist-packages (from nbformat->notebook->jupyter->d2l==1.0.0-alpha1.post0) (2.16.2)\n",
            "Requirement already satisfied: importlib-resources>=1.4.0 in /usr/local/lib/python3.7/dist-packages (from jsonschema>=2.6->nbformat->notebook->jupyter->d2l==1.0.0-alpha1.post0) (5.10.0)\n",
            "Requirement already satisfied: pyrsistent!=0.17.0,!=0.17.1,!=0.17.2,>=0.14.0 in /usr/local/lib/python3.7/dist-packages (from jsonschema>=2.6->nbformat->notebook->jupyter->d2l==1.0.0-alpha1.post0) (0.18.1)\n",
            "Requirement already satisfied: attrs>=17.4.0 in /usr/local/lib/python3.7/dist-packages (from jsonschema>=2.6->nbformat->notebook->jupyter->d2l==1.0.0-alpha1.post0) (22.1.0)\n",
            "Requirement already satisfied: webencodings in /usr/local/lib/python3.7/dist-packages (from bleach->nbconvert->jupyter->d2l==1.0.0-alpha1.post0) (0.5.1)\n",
            "Requirement already satisfied: pytz>=2017.3 in /usr/local/lib/python3.7/dist-packages (from pandas->d2l==1.0.0-alpha1.post0) (2022.4)\n",
            "Collecting qtpy>=2.0.1\n",
            "  Downloading QtPy-2.2.1-py3-none-any.whl (82 kB)\n",
            "\u001b[K     |████████████████████████████████| 82 kB 876 kB/s \n",
            "\u001b[?25hRequirement already satisfied: packaging in /usr/local/lib/python3.7/dist-packages (from qtpy>=2.0.1->qtconsole->jupyter->d2l==1.0.0-alpha1.post0) (21.3)\n",
            "Requirement already satisfied: idna<3,>=2.5 in /usr/local/lib/python3.7/dist-packages (from requests->d2l==1.0.0-alpha1.post0) (2.10)\n",
            "Requirement already satisfied: urllib3!=1.25.0,!=1.25.1,<1.26,>=1.21.1 in /usr/local/lib/python3.7/dist-packages (from requests->d2l==1.0.0-alpha1.post0) (1.24.3)\n",
            "Requirement already satisfied: chardet<4,>=3.0.2 in /usr/local/lib/python3.7/dist-packages (from requests->d2l==1.0.0-alpha1.post0) (3.0.4)\n",
            "Requirement already satisfied: certifi>=2017.4.17 in /usr/local/lib/python3.7/dist-packages (from requests->d2l==1.0.0-alpha1.post0) (2022.9.24)\n",
            "Installing collected packages: jedi, qtpy, qtconsole, matplotlib-inline, jupyter, d2l\n",
            "Successfully installed d2l-1.0.0a1.post0 jedi-0.18.1 jupyter-1.0.0 matplotlib-inline-0.1.6 qtconsole-5.3.2 qtpy-2.2.1\n"
          ]
        }
      ],
      "source": [
        "!pip install d2l==1.0.0-alpha1.post0\n"
      ]
    },
    {
      "cell_type": "markdown",
      "id": "bb268424",
      "metadata": {
        "origin_pos": 0,
        "id": "bb268424"
      },
      "source": [
        "# Custom Layers\n",
        "\n",
        "One factor behind deep learning's success\n",
        "is the availability of a wide range of layers\n",
        "that can be composed in creative ways\n",
        "to design architectures suitable\n",
        "for a wide variety of tasks.\n",
        "For instance, researchers have invented layers\n",
        "specifically for handling images, text,\n",
        "looping over sequential data,\n",
        "and\n",
        "performing dynamic programming.\n",
        "Sooner or later, you will encounter or invent\n",
        "a layer that does not exist yet in the deep learning framework.\n",
        "In these cases, you must build a custom layer.\n",
        "In this section, we show you how.\n",
        "\n",
        "## (**Layers without Parameters**)\n",
        "\n",
        "To start, we construct a custom layer\n",
        "that does not have any parameters of its own.\n",
        "This should look familiar if you recall our\n",
        "introduction to module in :numref:`sec_model_construction`.\n",
        "The following `CenteredLayer` class simply\n",
        "subtracts the mean from its input.\n",
        "To build it, we simply need to inherit\n",
        "from the base layer class and implement the forward propagation function.\n"
      ]
    },
    {
      "cell_type": "code",
      "execution_count": 2,
      "id": "980f04ea",
      "metadata": {
        "execution": {
          "iopub.execute_input": "2022-09-07T22:03:43.855047Z",
          "iopub.status.busy": "2022-09-07T22:03:43.854353Z",
          "iopub.status.idle": "2022-09-07T22:03:45.820708Z",
          "shell.execute_reply": "2022-09-07T22:03:45.819818Z"
        },
        "origin_pos": 3,
        "tab": [
          "pytorch"
        ],
        "id": "980f04ea"
      },
      "outputs": [],
      "source": [
        "import torch\n",
        "from torch import nn\n",
        "from torch.nn import functional as F\n",
        "from d2l import torch as d2l\n",
        "\n",
        "\n",
        "class CenteredLayer(nn.Module):\n",
        "    def __init__(self):\n",
        "        super().__init__()\n",
        "\n",
        "    def forward(self, X):\n",
        "        return X - X.mean()"
      ]
    },
    {
      "cell_type": "markdown",
      "id": "cecea020",
      "metadata": {
        "origin_pos": 5,
        "id": "cecea020"
      },
      "source": [
        "Let's verify that our layer works as intended by feeding some data through it.\n"
      ]
    },
    {
      "cell_type": "code",
      "execution_count": 3,
      "id": "a2fe6434",
      "metadata": {
        "execution": {
          "iopub.execute_input": "2022-09-07T22:03:45.825229Z",
          "iopub.status.busy": "2022-09-07T22:03:45.824561Z",
          "iopub.status.idle": "2022-09-07T22:03:45.854935Z",
          "shell.execute_reply": "2022-09-07T22:03:45.854115Z"
        },
        "origin_pos": 6,
        "tab": [
          "pytorch"
        ],
        "id": "a2fe6434",
        "outputId": "f37d1f6e-3dc4-443e-9ce4-787ca59c13f2",
        "colab": {
          "base_uri": "https://localhost:8080/"
        }
      },
      "outputs": [
        {
          "output_type": "execute_result",
          "data": {
            "text/plain": [
              "tensor([-2., -1.,  0.,  1.,  2.])"
            ]
          },
          "metadata": {},
          "execution_count": 3
        }
      ],
      "source": [
        "layer = CenteredLayer()\n",
        "layer(torch.tensor([1.0, 2, 3, 4, 5]))"
      ]
    },
    {
      "cell_type": "markdown",
      "id": "3a0d9d50",
      "metadata": {
        "origin_pos": 7,
        "id": "3a0d9d50"
      },
      "source": [
        "We can now [**incorporate our layer as a component\n",
        "in constructing more complex models.**]\n"
      ]
    },
    {
      "cell_type": "code",
      "execution_count": 4,
      "id": "ad437e03",
      "metadata": {
        "execution": {
          "iopub.execute_input": "2022-09-07T22:03:45.860886Z",
          "iopub.status.busy": "2022-09-07T22:03:45.860220Z",
          "iopub.status.idle": "2022-09-07T22:03:45.866181Z",
          "shell.execute_reply": "2022-09-07T22:03:45.865381Z"
        },
        "origin_pos": 9,
        "tab": [
          "pytorch"
        ],
        "id": "ad437e03",
        "outputId": "1fb26be0-99e5-4b7e-c62b-6882f9893b7a",
        "colab": {
          "base_uri": "https://localhost:8080/"
        }
      },
      "outputs": [
        {
          "output_type": "stream",
          "name": "stderr",
          "text": [
            "/usr/local/lib/python3.7/dist-packages/torch/nn/modules/lazy.py:178: UserWarning: Lazy modules are a new feature under heavy development so changes to the API or functionality can happen at any moment.\n",
            "  warnings.warn('Lazy modules are a new feature under heavy development '\n"
          ]
        }
      ],
      "source": [
        "net = nn.Sequential(nn.LazyLinear(128), CenteredLayer())"
      ]
    },
    {
      "cell_type": "markdown",
      "id": "1e9b454e",
      "metadata": {
        "origin_pos": 11,
        "id": "1e9b454e"
      },
      "source": [
        "As an extra sanity check, we can send random data\n",
        "through the network and check that the mean is in fact 0.\n",
        "Because we are dealing with floating point numbers,\n",
        "we may still see a very small nonzero number\n",
        "due to quantization.\n"
      ]
    },
    {
      "cell_type": "code",
      "execution_count": 5,
      "id": "082ddbbc",
      "metadata": {
        "execution": {
          "iopub.execute_input": "2022-09-07T22:03:45.870699Z",
          "iopub.status.busy": "2022-09-07T22:03:45.870174Z",
          "iopub.status.idle": "2022-09-07T22:03:45.877660Z",
          "shell.execute_reply": "2022-09-07T22:03:45.876708Z"
        },
        "origin_pos": 12,
        "tab": [
          "pytorch"
        ],
        "id": "082ddbbc",
        "outputId": "3b9caf87-d10e-45a3-a0cc-b758e08cc45d",
        "colab": {
          "base_uri": "https://localhost:8080/"
        }
      },
      "outputs": [
        {
          "output_type": "execute_result",
          "data": {
            "text/plain": [
              "tensor(4.6566e-09, grad_fn=<MeanBackward0>)"
            ]
          },
          "metadata": {},
          "execution_count": 5
        }
      ],
      "source": [
        "Y = net(torch.rand(4, 8))\n",
        "Y.mean()"
      ]
    },
    {
      "cell_type": "markdown",
      "id": "ad43de17",
      "metadata": {
        "origin_pos": 14,
        "id": "ad43de17"
      },
      "source": [
        "## [**Layers with Parameters**]\n",
        "\n",
        "Now that we know how to define simple layers,\n",
        "let's move on to defining layers with parameters\n",
        "that can be adjusted through training.\n",
        "We can use built-in functions to create parameters, which\n",
        "provide some basic housekeeping functionality.\n",
        "In particular, they govern access, initialization,\n",
        "sharing, saving, and loading model parameters.\n",
        "This way, among other benefits, we will not need to write\n",
        "custom serialization routines for every custom layer.\n",
        "\n",
        "Now let's implement our own version of the  fully connected layer.\n",
        "Recall that this layer requires two parameters,\n",
        "one to represent the weight and the other for the bias.\n",
        "In this implementation, we bake in the ReLU activation as a default.\n",
        "This layer requires two input arguments: `in_units` and `units`, which\n",
        "denote the number of inputs and outputs, respectively.\n"
      ]
    },
    {
      "cell_type": "code",
      "execution_count": 6,
      "id": "66abe573",
      "metadata": {
        "execution": {
          "iopub.execute_input": "2022-09-07T22:03:45.883218Z",
          "iopub.status.busy": "2022-09-07T22:03:45.882275Z",
          "iopub.status.idle": "2022-09-07T22:03:45.888884Z",
          "shell.execute_reply": "2022-09-07T22:03:45.887879Z"
        },
        "origin_pos": 16,
        "tab": [
          "pytorch"
        ],
        "id": "66abe573"
      },
      "outputs": [],
      "source": [
        "class MyLinear(nn.Module):\n",
        "    def __init__(self, in_units, units):\n",
        "        super().__init__()\n",
        "        self.weight = nn.Parameter(torch.randn(in_units, units))\n",
        "        self.bias = nn.Parameter(torch.randn(units,))\n",
        "\n",
        "    def forward(self, X):\n",
        "        linear = torch.matmul(X, self.weight.data) + self.bias.data\n",
        "        return F.relu(linear)"
      ]
    },
    {
      "cell_type": "markdown",
      "id": "056a0cd8",
      "metadata": {
        "origin_pos": 19,
        "tab": [
          "pytorch"
        ],
        "id": "056a0cd8"
      },
      "source": [
        "Next, we instantiate the `MyLinear` class\n",
        "and access its model parameters.\n"
      ]
    },
    {
      "cell_type": "code",
      "execution_count": 7,
      "id": "44ae1f6b",
      "metadata": {
        "execution": {
          "iopub.execute_input": "2022-09-07T22:03:45.894348Z",
          "iopub.status.busy": "2022-09-07T22:03:45.893524Z",
          "iopub.status.idle": "2022-09-07T22:03:45.900410Z",
          "shell.execute_reply": "2022-09-07T22:03:45.899559Z"
        },
        "origin_pos": 21,
        "tab": [
          "pytorch"
        ],
        "id": "44ae1f6b",
        "outputId": "c56f788c-b6ba-46fc-8694-61a7e83b73ae",
        "colab": {
          "base_uri": "https://localhost:8080/"
        }
      },
      "outputs": [
        {
          "output_type": "execute_result",
          "data": {
            "text/plain": [
              "Parameter containing:\n",
              "tensor([[-1.0450,  1.1993, -1.6831],\n",
              "        [ 0.9541,  0.2167,  0.7617],\n",
              "        [ 0.1754, -1.8046, -0.2173],\n",
              "        [-0.8680,  0.0374,  0.1903],\n",
              "        [ 0.6652, -1.7456,  0.9327]], requires_grad=True)"
            ]
          },
          "metadata": {},
          "execution_count": 7
        }
      ],
      "source": [
        "linear = MyLinear(5, 3)\n",
        "linear.weight"
      ]
    },
    {
      "cell_type": "markdown",
      "id": "d1314722",
      "metadata": {
        "origin_pos": 23,
        "id": "d1314722"
      },
      "source": [
        "We can [**directly carry out forward propagation calculations using custom layers.**]\n"
      ]
    },
    {
      "cell_type": "code",
      "execution_count": 8,
      "id": "229181ad",
      "metadata": {
        "execution": {
          "iopub.execute_input": "2022-09-07T22:03:45.905161Z",
          "iopub.status.busy": "2022-09-07T22:03:45.904623Z",
          "iopub.status.idle": "2022-09-07T22:03:45.913350Z",
          "shell.execute_reply": "2022-09-07T22:03:45.912279Z"
        },
        "origin_pos": 25,
        "tab": [
          "pytorch"
        ],
        "id": "229181ad",
        "outputId": "2ba4856f-b461-42e7-a2e6-0216edafb162",
        "colab": {
          "base_uri": "https://localhost:8080/"
        }
      },
      "outputs": [
        {
          "output_type": "execute_result",
          "data": {
            "text/plain": [
              "tensor([[0.0000, 0.0000, 1.5445],\n",
              "        [0.0000, 0.0000, 0.2595]])"
            ]
          },
          "metadata": {},
          "execution_count": 8
        }
      ],
      "source": [
        "linear(torch.rand(2, 5))"
      ]
    },
    {
      "cell_type": "markdown",
      "id": "678b21fe",
      "metadata": {
        "origin_pos": 27,
        "id": "678b21fe"
      },
      "source": [
        "We can also (**construct models using custom layers.**)\n",
        "Once we have that we can use it just like the built-in fully connected layer.\n"
      ]
    },
    {
      "cell_type": "code",
      "execution_count": 9,
      "id": "5853c0a8",
      "metadata": {
        "execution": {
          "iopub.execute_input": "2022-09-07T22:03:45.917284Z",
          "iopub.status.busy": "2022-09-07T22:03:45.916454Z",
          "iopub.status.idle": "2022-09-07T22:03:45.924589Z",
          "shell.execute_reply": "2022-09-07T22:03:45.923511Z"
        },
        "origin_pos": 29,
        "tab": [
          "pytorch"
        ],
        "id": "5853c0a8",
        "outputId": "e7bf6f9f-f049-475a-aebd-5e09de7a898c",
        "colab": {
          "base_uri": "https://localhost:8080/"
        }
      },
      "outputs": [
        {
          "output_type": "execute_result",
          "data": {
            "text/plain": [
              "tensor([[0.],\n",
              "        [0.]])"
            ]
          },
          "metadata": {},
          "execution_count": 9
        }
      ],
      "source": [
        "net = nn.Sequential(MyLinear(64, 8), MyLinear(8, 1))\n",
        "net(torch.rand(2, 64))"
      ]
    },
    {
      "cell_type": "markdown",
      "id": "9ff9ebb2",
      "metadata": {
        "origin_pos": 31,
        "id": "9ff9ebb2"
      },
      "source": [
        "## Summary\n",
        "\n",
        "* We can design custom layers via the basic layer class. This allows us to define flexible new layers that behave differently from any existing layers in the library.\n",
        "* Once defined, custom layers can be invoked in arbitrary contexts and architectures.\n",
        "* Layers can have local parameters, which can be created through built-in functions.\n",
        "\n",
        "\n",
        "## Exercises\n",
        "\n",
        "1. Design a layer that takes an input and computes a tensor reduction,\n",
        "   i.e., it returns $y_k = \\sum_{i, j} W_{ijk} x_i x_j$.\n",
        "1. Design a layer that returns the leading half of the Fourier coefficients of the data.\n"
      ]
    },
    {
      "cell_type": "markdown",
      "id": "9f3e7852",
      "metadata": {
        "origin_pos": 33,
        "tab": [
          "pytorch"
        ],
        "id": "9f3e7852"
      },
      "source": [
        "[Discussions](https://discuss.d2l.ai/t/59)\n"
      ]
    }
  ],
  "metadata": {
    "kernelspec": {
      "display_name": "Python 3",
      "name": "python3"
    },
    "language_info": {
      "name": "python"
    },
    "colab": {
      "provenance": []
    }
  },
  "nbformat": 4,
  "nbformat_minor": 5
}