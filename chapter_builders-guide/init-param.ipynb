{
  "cells": [
    {
      "cell_type": "markdown",
      "id": "634b8ccf",
      "metadata": {
        "origin_pos": 0,
        "id": "634b8ccf"
      },
      "source": [
        "# Parameter Initialization\n",
        "\n",
        "Now that we know how to access the parameters,\n",
        "let's look at how to initialize them properly.\n",
        "We discussed the need for proper initialization in :numref:`sec_numerical_stability`.\n",
        "The deep learning framework provides default random initializations to its layers.\n",
        "However, we often want to initialize our weights\n",
        "according to various other protocols. The framework provides most commonly\n",
        "used protocols, and also allows to create a custom initializer.\n"
      ]
    },
    {
      "cell_type": "markdown",
      "id": "f0435f87",
      "metadata": {
        "origin_pos": 2,
        "tab": [
          "pytorch"
        ],
        "id": "f0435f87"
      },
      "source": [
        "By default, PyTorch initializes weight and bias matrices\n",
        "uniformly by drawing from a range that is computed according to the input and output dimension.\n",
        "PyTorch's `nn.init` module provides a variety\n",
        "of preset initialization methods.\n"
      ]
    },
    {
      "cell_type": "code",
      "execution_count": 1,
      "id": "10de729f",
      "metadata": {
        "attributes": {
          "classes": [],
          "id": "",
          "n": "3"
        },
        "execution": {
          "iopub.execute_input": "2022-09-07T22:06:38.059511Z",
          "iopub.status.busy": "2022-09-07T22:06:38.058599Z",
          "iopub.status.idle": "2022-09-07T22:06:39.095470Z",
          "shell.execute_reply": "2022-09-07T22:06:39.094621Z"
        },
        "origin_pos": 6,
        "tab": [
          "pytorch"
        ],
        "id": "10de729f",
        "outputId": "9e5eb8d9-c498-4367-dfa3-0982680c3e3d",
        "colab": {
          "base_uri": "https://localhost:8080/"
        }
      },
      "outputs": [
        {
          "output_type": "stream",
          "name": "stderr",
          "text": [
            "/usr/local/lib/python3.7/dist-packages/torch/nn/modules/lazy.py:178: UserWarning: Lazy modules are a new feature under heavy development so changes to the API or functionality can happen at any moment.\n",
            "  warnings.warn('Lazy modules are a new feature under heavy development '\n"
          ]
        },
        {
          "output_type": "execute_result",
          "data": {
            "text/plain": [
              "torch.Size([2, 1])"
            ]
          },
          "metadata": {},
          "execution_count": 1
        }
      ],
      "source": [
        "import torch\n",
        "from torch import nn\n",
        "\n",
        "net = nn.Sequential(nn.LazyLinear(8), nn.ReLU(), nn.LazyLinear(1))\n",
        "X = torch.rand(size=(2, 4))\n",
        "net(X).shape"
      ]
    },
    {
      "cell_type": "markdown",
      "id": "37fe4066",
      "metadata": {
        "origin_pos": 8,
        "id": "37fe4066"
      },
      "source": [
        "## [**Built-in Initialization**]\n",
        "\n",
        "Let's begin by calling on built-in initializers.\n",
        "The code below initializes all weight parameters\n",
        "as Gaussian random variables\n",
        "with standard deviation 0.01, while bias parameters cleared to zero.\n"
      ]
    },
    {
      "cell_type": "code",
      "execution_count": 2,
      "id": "2d17ddf2",
      "metadata": {
        "attributes": {
          "classes": [],
          "id": "",
          "n": "6"
        },
        "execution": {
          "iopub.execute_input": "2022-09-07T22:06:39.102420Z",
          "iopub.status.busy": "2022-09-07T22:06:39.101927Z",
          "iopub.status.idle": "2022-09-07T22:06:39.110014Z",
          "shell.execute_reply": "2022-09-07T22:06:39.109222Z"
        },
        "origin_pos": 10,
        "tab": [
          "pytorch"
        ],
        "id": "2d17ddf2",
        "outputId": "9c110618-27ab-49fc-ad3b-c145d6304024",
        "colab": {
          "base_uri": "https://localhost:8080/"
        }
      },
      "outputs": [
        {
          "output_type": "execute_result",
          "data": {
            "text/plain": [
              "(tensor([-0.0028,  0.0198,  0.0057,  0.0063]), tensor(0.))"
            ]
          },
          "metadata": {},
          "execution_count": 2
        }
      ],
      "source": [
        "def init_normal(module):\n",
        "    if type(module) == nn.Linear:\n",
        "        nn.init.normal_(module.weight, mean=0, std=0.01)\n",
        "        nn.init.zeros_(module.bias)\n",
        "net.apply(init_normal)\n",
        "net[0].weight.data[0], net[0].bias.data[0]"
      ]
    },
    {
      "cell_type": "markdown",
      "id": "e2478776",
      "metadata": {
        "origin_pos": 12,
        "id": "e2478776"
      },
      "source": [
        "We can also initialize all the parameters\n",
        "to a given constant value (say, 1).\n"
      ]
    },
    {
      "cell_type": "code",
      "execution_count": 3,
      "id": "835d39c9",
      "metadata": {
        "attributes": {
          "classes": [],
          "id": "",
          "n": "9"
        },
        "execution": {
          "iopub.execute_input": "2022-09-07T22:06:39.115200Z",
          "iopub.status.busy": "2022-09-07T22:06:39.114598Z",
          "iopub.status.idle": "2022-09-07T22:06:39.122545Z",
          "shell.execute_reply": "2022-09-07T22:06:39.121754Z"
        },
        "origin_pos": 14,
        "tab": [
          "pytorch"
        ],
        "id": "835d39c9",
        "outputId": "fa65642f-c722-4fc9-8f88-7d29410e20f3",
        "colab": {
          "base_uri": "https://localhost:8080/"
        }
      },
      "outputs": [
        {
          "output_type": "execute_result",
          "data": {
            "text/plain": [
              "(tensor([1., 1., 1., 1.]), tensor(0.))"
            ]
          },
          "metadata": {},
          "execution_count": 3
        }
      ],
      "source": [
        "def init_constant(module):\n",
        "    if type(module) == nn.Linear:\n",
        "        nn.init.constant_(module.weight, 1)\n",
        "        nn.init.zeros_(module.bias)\n",
        "net.apply(init_constant)\n",
        "net[0].weight.data[0], net[0].bias.data[0]"
      ]
    },
    {
      "cell_type": "markdown",
      "id": "3151aa8f",
      "metadata": {
        "origin_pos": 16,
        "id": "3151aa8f"
      },
      "source": [
        "[**We can also apply different initializers for certain blocks.**]\n",
        "For example, below we initialize the first layer\n",
        "with the Xavier initializer\n",
        "and initialize the second layer\n",
        "to a constant value of 42.\n"
      ]
    },
    {
      "cell_type": "code",
      "execution_count": 4,
      "id": "50df87b5",
      "metadata": {
        "attributes": {
          "classes": [],
          "id": "",
          "n": "12"
        },
        "execution": {
          "iopub.execute_input": "2022-09-07T22:06:39.128204Z",
          "iopub.status.busy": "2022-09-07T22:06:39.127139Z",
          "iopub.status.idle": "2022-09-07T22:06:39.134996Z",
          "shell.execute_reply": "2022-09-07T22:06:39.134182Z"
        },
        "origin_pos": 18,
        "tab": [
          "pytorch"
        ],
        "id": "50df87b5",
        "outputId": "51059a85-bb54-4743-edb2-e8e65a22d596",
        "colab": {
          "base_uri": "https://localhost:8080/"
        }
      },
      "outputs": [
        {
          "output_type": "stream",
          "name": "stdout",
          "text": [
            "tensor([ 0.0433,  0.6165, -0.2723,  0.0808])\n",
            "tensor([[42., 42., 42., 42., 42., 42., 42., 42.]])\n"
          ]
        }
      ],
      "source": [
        "def init_xavier(module):\n",
        "    if type(module) == nn.Linear:\n",
        "        nn.init.xavier_uniform_(module.weight)\n",
        "def init_42(module):\n",
        "    if type(module) == nn.Linear:\n",
        "        nn.init.constant_(module.weight, 42)\n",
        "\n",
        "net[0].apply(init_xavier)\n",
        "net[2].apply(init_42)\n",
        "print(net[0].weight.data[0])\n",
        "print(net[2].weight.data)"
      ]
    },
    {
      "cell_type": "markdown",
      "id": "24e18520",
      "metadata": {
        "origin_pos": 20,
        "id": "24e18520"
      },
      "source": [
        "### [**Custom Initialization**]\n",
        "\n",
        "Sometimes, the initialization methods we need\n",
        "are not provided by the deep learning framework.\n",
        "In the example below, we define an initializer\n",
        "for any weight parameter $w$ using the following strange distribution:\n",
        "\n",
        "$$\n",
        "\\begin{aligned}\n",
        "    w \\sim \\begin{cases}\n",
        "        U(5, 10) & \\text{ with probability } \\frac{1}{4} \\\\\n",
        "            0    & \\text{ with probability } \\frac{1}{2} \\\\\n",
        "        U(-10, -5) & \\text{ with probability } \\frac{1}{4}\n",
        "    \\end{cases}\n",
        "\\end{aligned}\n",
        "$$\n"
      ]
    },
    {
      "cell_type": "markdown",
      "id": "827f2f57",
      "metadata": {
        "origin_pos": 22,
        "tab": [
          "pytorch"
        ],
        "id": "827f2f57"
      },
      "source": [
        "Again, we implement a `my_init` function to apply to `net`.\n"
      ]
    },
    {
      "cell_type": "code",
      "execution_count": 5,
      "id": "0f2b2846",
      "metadata": {
        "attributes": {
          "classes": [],
          "id": "",
          "n": "15"
        },
        "execution": {
          "iopub.execute_input": "2022-09-07T22:06:39.140184Z",
          "iopub.status.busy": "2022-09-07T22:06:39.139344Z",
          "iopub.status.idle": "2022-09-07T22:06:39.149297Z",
          "shell.execute_reply": "2022-09-07T22:06:39.148212Z"
        },
        "origin_pos": 25,
        "tab": [
          "pytorch"
        ],
        "id": "0f2b2846",
        "outputId": "7d6bf966-6e48-4698-a917-9456b9abd1d3",
        "colab": {
          "base_uri": "https://localhost:8080/"
        }
      },
      "outputs": [
        {
          "output_type": "stream",
          "name": "stdout",
          "text": [
            "Init weight torch.Size([8, 4])\n",
            "Init weight torch.Size([1, 8])\n"
          ]
        },
        {
          "output_type": "execute_result",
          "data": {
            "text/plain": [
              "tensor([[ 0.0000,  0.0000, -7.7366,  8.8306],\n",
              "        [-6.2501, -6.8506, -6.3578, -9.6300]], grad_fn=<SliceBackward0>)"
            ]
          },
          "metadata": {},
          "execution_count": 5
        }
      ],
      "source": [
        "def my_init(module):\n",
        "    if type(module) == nn.Linear:\n",
        "        print(\"Init\", *[(name, param.shape)\n",
        "                        for name, param in module.named_parameters()][0])\n",
        "        nn.init.uniform_(module.weight, -10, 10)\n",
        "        module.weight.data *= module.weight.data.abs() >= 5\n",
        "\n",
        "net.apply(my_init)\n",
        "net[0].weight[:2]"
      ]
    },
    {
      "cell_type": "markdown",
      "id": "bc9867c5",
      "metadata": {
        "origin_pos": 27,
        "id": "bc9867c5"
      },
      "source": [
        "Note that we always have the option\n",
        "of setting parameters directly.\n"
      ]
    },
    {
      "cell_type": "code",
      "execution_count": 6,
      "id": "ca6fdea3",
      "metadata": {
        "attributes": {
          "classes": [],
          "id": "",
          "n": "18"
        },
        "execution": {
          "iopub.execute_input": "2022-09-07T22:06:39.154416Z",
          "iopub.status.busy": "2022-09-07T22:06:39.153594Z",
          "iopub.status.idle": "2022-09-07T22:06:39.161118Z",
          "shell.execute_reply": "2022-09-07T22:06:39.160310Z"
        },
        "origin_pos": 29,
        "tab": [
          "pytorch"
        ],
        "id": "ca6fdea3",
        "outputId": "650548a2-e6d1-4d0b-9335-7461c25bf509",
        "colab": {
          "base_uri": "https://localhost:8080/"
        }
      },
      "outputs": [
        {
          "output_type": "execute_result",
          "data": {
            "text/plain": [
              "tensor([42.0000,  1.0000, -6.7366,  9.8306])"
            ]
          },
          "metadata": {},
          "execution_count": 6
        }
      ],
      "source": [
        "net[0].weight.data[:] += 1\n",
        "net[0].weight.data[0, 0] = 42\n",
        "net[0].weight.data[0]"
      ]
    },
    {
      "cell_type": "markdown",
      "id": "12d57496",
      "metadata": {
        "origin_pos": 31,
        "id": "12d57496"
      },
      "source": [
        "## Summary\n",
        "\n",
        "We can initialize parameters using built-in and custom initializers.\n",
        "\n",
        "## Exercises\n",
        "\n",
        "Look up the online documentation for more built-in initializers.\n"
      ]
    },
    {
      "cell_type": "markdown",
      "id": "b90937c0",
      "metadata": {
        "origin_pos": 33,
        "tab": [
          "pytorch"
        ],
        "id": "b90937c0"
      },
      "source": [
        "[Discussions](https://discuss.d2l.ai/t/8090)\n"
      ]
    }
  ],
  "metadata": {
    "kernelspec": {
      "display_name": "Python 3",
      "name": "python3"
    },
    "language_info": {
      "name": "python"
    },
    "colab": {
      "provenance": []
    }
  },
  "nbformat": 4,
  "nbformat_minor": 5
}