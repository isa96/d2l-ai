{
  "cells": [
    {
      "cell_type": "markdown",
      "id": "eb6c9429",
      "metadata": {
        "origin_pos": 0,
        "id": "eb6c9429"
      },
      "source": [
        "# Parameter Management\n",
        "\n",
        "Once we have chosen an architecture\n",
        "and set our hyperparameters,\n",
        "we proceed to the training loop,\n",
        "where our goal is to find parameter values\n",
        "that minimize our loss function.\n",
        "After training, we will need these parameters\n",
        "in order to make future predictions.\n",
        "Additionally, we will sometimes wish\n",
        "to extract the parameters\n",
        "either to reuse them in some other context,\n",
        "to save our model to disk so that\n",
        "it may be executed in other software,\n",
        "or for examination in the hope of\n",
        "gaining scientific understanding.\n",
        "\n",
        "Most of the time, we will be able\n",
        "to ignore the nitty-gritty details\n",
        "of how parameters are declared\n",
        "and manipulated, relying on deep learning frameworks\n",
        "to do the heavy lifting.\n",
        "However, when we move away from\n",
        "stacked architectures with standard layers,\n",
        "we will sometimes need to get into the weeds\n",
        "of declaring and manipulating parameters.\n",
        "In this section, we cover the following:\n",
        "\n",
        "* Accessing parameters for debugging, diagnostics, and visualizations.\n",
        "* Sharing parameters across different model components.\n",
        "\n",
        "(**We start by focusing on an MLP with one hidden layer.**)\n"
      ]
    },
    {
      "cell_type": "code",
      "execution_count": 1,
      "id": "22da9831",
      "metadata": {
        "execution": {
          "iopub.execute_input": "2022-09-07T22:11:07.950245Z",
          "iopub.status.busy": "2022-09-07T22:11:07.949584Z",
          "iopub.status.idle": "2022-09-07T22:11:08.746025Z",
          "shell.execute_reply": "2022-09-07T22:11:08.745216Z"
        },
        "origin_pos": 3,
        "tab": [
          "pytorch"
        ],
        "id": "22da9831",
        "outputId": "5559618f-2699-40ad-ce83-da45197a7ff6",
        "colab": {
          "base_uri": "https://localhost:8080/"
        }
      },
      "outputs": [
        {
          "output_type": "stream",
          "name": "stderr",
          "text": [
            "/usr/local/lib/python3.7/dist-packages/torch/nn/modules/lazy.py:178: UserWarning: Lazy modules are a new feature under heavy development so changes to the API or functionality can happen at any moment.\n",
            "  warnings.warn('Lazy modules are a new feature under heavy development '\n"
          ]
        },
        {
          "output_type": "execute_result",
          "data": {
            "text/plain": [
              "torch.Size([2, 1])"
            ]
          },
          "metadata": {},
          "execution_count": 1
        }
      ],
      "source": [
        "import torch\n",
        "from torch import nn\n",
        "\n",
        "net = nn.Sequential(nn.LazyLinear(8), nn.ReLU(), nn.LazyLinear(1))\n",
        "X = torch.rand(size=(2, 4))\n",
        "net(X).shape"
      ]
    },
    {
      "cell_type": "markdown",
      "id": "ac51a487",
      "metadata": {
        "origin_pos": 5,
        "id": "ac51a487"
      },
      "source": [
        "## [**Parameter Access**]\n",
        "\n",
        "Let's start with how to access parameters\n",
        "from the models that you already know.\n",
        "When a model is defined via the `Sequential` class,\n",
        "we can first access any layer by indexing\n",
        "into the model as though it were a list.\n",
        "Each layer's parameters are conveniently\n",
        "located in its attribute.\n",
        "We can inspect the parameters of the second fully connected layer as follows.\n"
      ]
    },
    {
      "cell_type": "code",
      "execution_count": 2,
      "id": "0be79de0",
      "metadata": {
        "execution": {
          "iopub.execute_input": "2022-09-07T22:11:08.750757Z",
          "iopub.status.busy": "2022-09-07T22:11:08.750174Z",
          "iopub.status.idle": "2022-09-07T22:11:08.757640Z",
          "shell.execute_reply": "2022-09-07T22:11:08.756855Z"
        },
        "origin_pos": 7,
        "tab": [
          "pytorch"
        ],
        "id": "0be79de0",
        "outputId": "07f27275-984d-4b49-a210-5809d276a574",
        "colab": {
          "base_uri": "https://localhost:8080/"
        }
      },
      "outputs": [
        {
          "output_type": "execute_result",
          "data": {
            "text/plain": [
              "OrderedDict([('weight',\n",
              "              tensor([[ 0.2567,  0.0877,  0.3039,  0.1611,  0.2213, -0.0418, -0.0425,  0.1044]])),\n",
              "             ('bias', tensor([-0.1684]))])"
            ]
          },
          "metadata": {},
          "execution_count": 2
        }
      ],
      "source": [
        "net[2].state_dict()"
      ]
    },
    {
      "cell_type": "markdown",
      "id": "ed1078fc",
      "metadata": {
        "origin_pos": 9,
        "id": "ed1078fc"
      },
      "source": [
        "We can see that this fully connected layer\n",
        "contains two parameters,\n",
        "corresponding to that layer's\n",
        "weights and biases, respectively.\n",
        "\n",
        "\n",
        "### [**Targeted Parameters**]\n",
        "\n",
        "Note that each parameter is represented\n",
        "as an instance of the parameter class.\n",
        "To do anything useful with the parameters,\n",
        "we first need to access the underlying numerical values.\n",
        "There are several ways to do this.\n",
        "Some are simpler while others are more general.\n",
        "The following code extracts the bias\n",
        "from the second neural network layer, which returns a parameter class instance, and\n",
        "further accesses that parameter's value.\n"
      ]
    },
    {
      "cell_type": "code",
      "execution_count": 3,
      "id": "a1333805",
      "metadata": {
        "execution": {
          "iopub.execute_input": "2022-09-07T22:11:08.761292Z",
          "iopub.status.busy": "2022-09-07T22:11:08.760831Z",
          "iopub.status.idle": "2022-09-07T22:11:08.766984Z",
          "shell.execute_reply": "2022-09-07T22:11:08.766132Z"
        },
        "origin_pos": 11,
        "tab": [
          "pytorch"
        ],
        "id": "a1333805",
        "outputId": "16612498-5899-4682-9ded-ce38a800e74f",
        "colab": {
          "base_uri": "https://localhost:8080/"
        }
      },
      "outputs": [
        {
          "output_type": "execute_result",
          "data": {
            "text/plain": [
              "(torch.nn.parameter.Parameter, tensor([-0.1684]))"
            ]
          },
          "metadata": {},
          "execution_count": 3
        }
      ],
      "source": [
        "type(net[2].bias), net[2].bias.data"
      ]
    },
    {
      "cell_type": "markdown",
      "id": "a0032c0b",
      "metadata": {
        "origin_pos": 13,
        "tab": [
          "pytorch"
        ],
        "id": "a0032c0b"
      },
      "source": [
        "Parameters are complex objects,\n",
        "containing values, gradients,\n",
        "and additional information.\n",
        "That's why we need to request the value explicitly.\n",
        "\n",
        "In addition to the value, each parameter also allows us to access the gradient. Because we have not invoked backpropagation for this network yet, it is in its initial state.\n"
      ]
    },
    {
      "cell_type": "code",
      "execution_count": 4,
      "id": "4bc3779a",
      "metadata": {
        "execution": {
          "iopub.execute_input": "2022-09-07T22:11:08.771850Z",
          "iopub.status.busy": "2022-09-07T22:11:08.771301Z",
          "iopub.status.idle": "2022-09-07T22:11:08.776642Z",
          "shell.execute_reply": "2022-09-07T22:11:08.775850Z"
        },
        "origin_pos": 15,
        "tab": [
          "pytorch"
        ],
        "id": "4bc3779a",
        "outputId": "e72d1dfe-6db5-4867-fe65-fd88e2923f5d",
        "colab": {
          "base_uri": "https://localhost:8080/"
        }
      },
      "outputs": [
        {
          "output_type": "execute_result",
          "data": {
            "text/plain": [
              "True"
            ]
          },
          "metadata": {},
          "execution_count": 4
        }
      ],
      "source": [
        "net[2].weight.grad == None"
      ]
    },
    {
      "cell_type": "markdown",
      "id": "f37b4347",
      "metadata": {
        "origin_pos": 16,
        "id": "f37b4347"
      },
      "source": [
        "### [**All Parameters at Once**]\n",
        "\n",
        "When we need to perform operations on all parameters,\n",
        "accessing them one-by-one can grow tedious.\n",
        "The situation can grow especially unwieldy\n",
        "when we work with more complex modules (e.g., nested modules),\n",
        "since we would need to recurse\n",
        "through the entire tree to extract\n",
        "each sub-module's parameters. Below we demonstrate accessing the parameters of all layers.\n"
      ]
    },
    {
      "cell_type": "code",
      "execution_count": 5,
      "id": "627c0029",
      "metadata": {
        "execution": {
          "iopub.execute_input": "2022-09-07T22:11:08.782126Z",
          "iopub.status.busy": "2022-09-07T22:11:08.781581Z",
          "iopub.status.idle": "2022-09-07T22:11:08.787442Z",
          "shell.execute_reply": "2022-09-07T22:11:08.786606Z"
        },
        "origin_pos": 18,
        "tab": [
          "pytorch"
        ],
        "id": "627c0029",
        "outputId": "33309f1d-d1b3-46cb-eeeb-90bf64bb8378",
        "colab": {
          "base_uri": "https://localhost:8080/"
        }
      },
      "outputs": [
        {
          "output_type": "execute_result",
          "data": {
            "text/plain": [
              "[('0.weight', torch.Size([8, 4])),\n",
              " ('0.bias', torch.Size([8])),\n",
              " ('2.weight', torch.Size([1, 8])),\n",
              " ('2.bias', torch.Size([1]))]"
            ]
          },
          "metadata": {},
          "execution_count": 5
        }
      ],
      "source": [
        "[(name, param.shape) for name, param in net.named_parameters()]"
      ]
    },
    {
      "cell_type": "markdown",
      "id": "6fc6bec8",
      "metadata": {
        "origin_pos": 20,
        "id": "6fc6bec8"
      },
      "source": [
        "## [**Tied Parameters**]\n",
        "\n",
        "Often, we want to share parameters across multiple layers.\n",
        "Let's see how to do this elegantly.\n",
        "In the following we allocate a fully connected layer\n",
        "and then use its parameters specifically\n",
        "to set those of another layer.\n",
        "Here we need to run the forward propagation\n",
        "`net(X)` before accessing the parameters.\n"
      ]
    },
    {
      "cell_type": "code",
      "execution_count": 6,
      "id": "57febc86",
      "metadata": {
        "execution": {
          "iopub.execute_input": "2022-09-07T22:11:08.792045Z",
          "iopub.status.busy": "2022-09-07T22:11:08.791504Z",
          "iopub.status.idle": "2022-09-07T22:11:08.800193Z",
          "shell.execute_reply": "2022-09-07T22:11:08.799380Z"
        },
        "origin_pos": 22,
        "tab": [
          "pytorch"
        ],
        "id": "57febc86",
        "outputId": "b6ebc107-d23f-4d8a-92ab-00c4a0856135",
        "colab": {
          "base_uri": "https://localhost:8080/"
        }
      },
      "outputs": [
        {
          "output_type": "stream",
          "name": "stdout",
          "text": [
            "tensor([True, True, True, True, True, True, True, True])\n",
            "tensor([True, True, True, True, True, True, True, True])\n"
          ]
        }
      ],
      "source": [
        "# We need to give the shared layer a name so that we can refer to its\n",
        "# parameters\n",
        "shared = nn.LazyLinear(8)\n",
        "net = nn.Sequential(nn.LazyLinear(8), nn.ReLU(),\n",
        "                    shared, nn.ReLU(),\n",
        "                    shared, nn.ReLU(),\n",
        "                    nn.LazyLinear(1))\n",
        "net(X)\n",
        "# Check whether the parameters are the same\n",
        "print(net[2].weight.data[0] == net[4].weight.data[0])\n",
        "net[2].weight.data[0, 0] = 100\n",
        "# Make sure that they are actually the same object rather than just having the\n",
        "# same value\n",
        "print(net[2].weight.data[0] == net[4].weight.data[0])"
      ]
    },
    {
      "cell_type": "markdown",
      "id": "7bcbc11e",
      "metadata": {
        "origin_pos": 24,
        "id": "7bcbc11e"
      },
      "source": [
        "This example shows that the parameters\n",
        "of the second and third layer are tied.\n",
        "They are not just equal, they are\n",
        "represented by the same exact tensor.\n",
        "Thus, if we change one of the parameters,\n",
        "the other one changes, too.\n",
        "You might wonder,\n",
        "when parameters are tied\n",
        "what happens to the gradients?\n",
        "Since the model parameters contain gradients,\n",
        "the gradients of the second hidden layer\n",
        "and the third hidden layer are added together\n",
        "during backpropagation.\n",
        "\n",
        "## Summary\n",
        "\n",
        "We have several ways to access and tie model parameters.\n",
        "\n",
        "\n",
        "## Exercises\n",
        "\n",
        "1. Use the `NestMLP` model defined in :numref:`sec_model_construction` and access the parameters of the various layers.\n",
        "1. Construct an MLP containing a shared parameter layer and train it. During the training process, observe the model parameters and gradients of each layer.\n",
        "1. Why is sharing parameters a good idea?\n"
      ]
    },
    {
      "cell_type": "markdown",
      "id": "7cdb52fd",
      "metadata": {
        "origin_pos": 26,
        "tab": [
          "pytorch"
        ],
        "id": "7cdb52fd"
      },
      "source": [
        "[Discussions](https://discuss.d2l.ai/t/57)\n"
      ]
    }
  ],
  "metadata": {
    "kernelspec": {
      "display_name": "Python 3",
      "name": "python3"
    },
    "language_info": {
      "name": "python"
    },
    "colab": {
      "provenance": []
    }
  },
  "nbformat": 4,
  "nbformat_minor": 5
}