{
  "cells": [
    {
      "cell_type": "markdown",
      "id": "a7e6df7c",
      "metadata": {
        "id": "a7e6df7c"
      },
      "source": [
        "The following additional libraries are needed to run this\n",
        "notebook. Note that running on Colab is experimental, please report a Github\n",
        "issue if you have any problem."
      ]
    },
    {
      "cell_type": "code",
      "execution_count": 21,
      "id": "99038eda",
      "metadata": {
        "id": "99038eda",
        "outputId": "83bf3e9b-2f70-486d-f85a-030b7d840738",
        "colab": {
          "base_uri": "https://localhost:8080/"
        }
      },
      "outputs": [
        {
          "output_type": "stream",
          "name": "stdout",
          "text": [
            "Looking in indexes: https://pypi.org/simple, https://us-python.pkg.dev/colab-wheels/public/simple/\n",
            "Requirement already satisfied: d2l==1.0.0-alpha1.post0 in /usr/local/lib/python3.7/dist-packages (1.0.0a1.post0)\n",
            "Requirement already satisfied: pandas in /usr/local/lib/python3.7/dist-packages (from d2l==1.0.0-alpha1.post0) (1.3.5)\n",
            "Requirement already satisfied: jupyter in /usr/local/lib/python3.7/dist-packages (from d2l==1.0.0-alpha1.post0) (1.0.0)\n",
            "Requirement already satisfied: gym in /usr/local/lib/python3.7/dist-packages (from d2l==1.0.0-alpha1.post0) (0.25.2)\n",
            "Requirement already satisfied: matplotlib-inline in /usr/local/lib/python3.7/dist-packages (from d2l==1.0.0-alpha1.post0) (0.1.6)\n",
            "Requirement already satisfied: matplotlib in /usr/local/lib/python3.7/dist-packages (from d2l==1.0.0-alpha1.post0) (3.2.2)\n",
            "Requirement already satisfied: numpy in /usr/local/lib/python3.7/dist-packages (from d2l==1.0.0-alpha1.post0) (1.21.6)\n",
            "Requirement already satisfied: requests in /usr/local/lib/python3.7/dist-packages (from d2l==1.0.0-alpha1.post0) (2.23.0)\n",
            "Requirement already satisfied: gym-notices>=0.0.4 in /usr/local/lib/python3.7/dist-packages (from gym->d2l==1.0.0-alpha1.post0) (0.0.8)\n",
            "Requirement already satisfied: cloudpickle>=1.2.0 in /usr/local/lib/python3.7/dist-packages (from gym->d2l==1.0.0-alpha1.post0) (1.5.0)\n",
            "Requirement already satisfied: importlib-metadata>=4.8.0 in /usr/local/lib/python3.7/dist-packages (from gym->d2l==1.0.0-alpha1.post0) (4.13.0)\n",
            "Requirement already satisfied: typing-extensions>=3.6.4 in /usr/local/lib/python3.7/dist-packages (from importlib-metadata>=4.8.0->gym->d2l==1.0.0-alpha1.post0) (4.1.1)\n",
            "Requirement already satisfied: zipp>=0.5 in /usr/local/lib/python3.7/dist-packages (from importlib-metadata>=4.8.0->gym->d2l==1.0.0-alpha1.post0) (3.9.0)\n",
            "Requirement already satisfied: ipykernel in /usr/local/lib/python3.7/dist-packages (from jupyter->d2l==1.0.0-alpha1.post0) (5.3.4)\n",
            "Requirement already satisfied: notebook in /usr/local/lib/python3.7/dist-packages (from jupyter->d2l==1.0.0-alpha1.post0) (5.5.0)\n",
            "Requirement already satisfied: ipywidgets in /usr/local/lib/python3.7/dist-packages (from jupyter->d2l==1.0.0-alpha1.post0) (7.7.1)\n",
            "Requirement already satisfied: jupyter-console in /usr/local/lib/python3.7/dist-packages (from jupyter->d2l==1.0.0-alpha1.post0) (6.1.0)\n",
            "Requirement already satisfied: nbconvert in /usr/local/lib/python3.7/dist-packages (from jupyter->d2l==1.0.0-alpha1.post0) (5.6.1)\n",
            "Requirement already satisfied: qtconsole in /usr/local/lib/python3.7/dist-packages (from jupyter->d2l==1.0.0-alpha1.post0) (5.3.2)\n",
            "Requirement already satisfied: ipython>=5.0.0 in /usr/local/lib/python3.7/dist-packages (from ipykernel->jupyter->d2l==1.0.0-alpha1.post0) (7.9.0)\n",
            "Requirement already satisfied: jupyter-client in /usr/local/lib/python3.7/dist-packages (from ipykernel->jupyter->d2l==1.0.0-alpha1.post0) (6.1.12)\n",
            "Requirement already satisfied: tornado>=4.2 in /usr/local/lib/python3.7/dist-packages (from ipykernel->jupyter->d2l==1.0.0-alpha1.post0) (5.1.1)\n",
            "Requirement already satisfied: traitlets>=4.1.0 in /usr/local/lib/python3.7/dist-packages (from ipykernel->jupyter->d2l==1.0.0-alpha1.post0) (5.1.1)\n",
            "Requirement already satisfied: pickleshare in /usr/local/lib/python3.7/dist-packages (from ipython>=5.0.0->ipykernel->jupyter->d2l==1.0.0-alpha1.post0) (0.7.5)\n",
            "Requirement already satisfied: pexpect in /usr/local/lib/python3.7/dist-packages (from ipython>=5.0.0->ipykernel->jupyter->d2l==1.0.0-alpha1.post0) (4.8.0)\n",
            "Requirement already satisfied: pygments in /usr/local/lib/python3.7/dist-packages (from ipython>=5.0.0->ipykernel->jupyter->d2l==1.0.0-alpha1.post0) (2.6.1)\n",
            "Requirement already satisfied: decorator in /usr/local/lib/python3.7/dist-packages (from ipython>=5.0.0->ipykernel->jupyter->d2l==1.0.0-alpha1.post0) (4.4.2)\n",
            "Requirement already satisfied: jedi>=0.10 in /usr/local/lib/python3.7/dist-packages (from ipython>=5.0.0->ipykernel->jupyter->d2l==1.0.0-alpha1.post0) (0.18.1)\n",
            "Requirement already satisfied: prompt-toolkit<2.1.0,>=2.0.0 in /usr/local/lib/python3.7/dist-packages (from ipython>=5.0.0->ipykernel->jupyter->d2l==1.0.0-alpha1.post0) (2.0.10)\n",
            "Requirement already satisfied: setuptools>=18.5 in /usr/local/lib/python3.7/dist-packages (from ipython>=5.0.0->ipykernel->jupyter->d2l==1.0.0-alpha1.post0) (57.4.0)\n",
            "Requirement already satisfied: backcall in /usr/local/lib/python3.7/dist-packages (from ipython>=5.0.0->ipykernel->jupyter->d2l==1.0.0-alpha1.post0) (0.2.0)\n",
            "Requirement already satisfied: parso<0.9.0,>=0.8.0 in /usr/local/lib/python3.7/dist-packages (from jedi>=0.10->ipython>=5.0.0->ipykernel->jupyter->d2l==1.0.0-alpha1.post0) (0.8.3)\n",
            "Requirement already satisfied: wcwidth in /usr/local/lib/python3.7/dist-packages (from prompt-toolkit<2.1.0,>=2.0.0->ipython>=5.0.0->ipykernel->jupyter->d2l==1.0.0-alpha1.post0) (0.2.5)\n",
            "Requirement already satisfied: six>=1.9.0 in /usr/local/lib/python3.7/dist-packages (from prompt-toolkit<2.1.0,>=2.0.0->ipython>=5.0.0->ipykernel->jupyter->d2l==1.0.0-alpha1.post0) (1.15.0)\n",
            "Requirement already satisfied: widgetsnbextension~=3.6.0 in /usr/local/lib/python3.7/dist-packages (from ipywidgets->jupyter->d2l==1.0.0-alpha1.post0) (3.6.1)\n",
            "Requirement already satisfied: ipython-genutils~=0.2.0 in /usr/local/lib/python3.7/dist-packages (from ipywidgets->jupyter->d2l==1.0.0-alpha1.post0) (0.2.0)\n",
            "Requirement already satisfied: jupyterlab-widgets>=1.0.0 in /usr/local/lib/python3.7/dist-packages (from ipywidgets->jupyter->d2l==1.0.0-alpha1.post0) (3.0.3)\n",
            "Requirement already satisfied: pyzmq>=17 in /usr/local/lib/python3.7/dist-packages (from notebook->jupyter->d2l==1.0.0-alpha1.post0) (23.2.1)\n",
            "Requirement already satisfied: jupyter-core>=4.4.0 in /usr/local/lib/python3.7/dist-packages (from notebook->jupyter->d2l==1.0.0-alpha1.post0) (4.11.1)\n",
            "Requirement already satisfied: jinja2 in /usr/local/lib/python3.7/dist-packages (from notebook->jupyter->d2l==1.0.0-alpha1.post0) (2.11.3)\n",
            "Requirement already satisfied: nbformat in /usr/local/lib/python3.7/dist-packages (from notebook->jupyter->d2l==1.0.0-alpha1.post0) (5.7.0)\n",
            "Requirement already satisfied: terminado>=0.8.1 in /usr/local/lib/python3.7/dist-packages (from notebook->jupyter->d2l==1.0.0-alpha1.post0) (0.13.3)\n",
            "Requirement already satisfied: Send2Trash in /usr/local/lib/python3.7/dist-packages (from notebook->jupyter->d2l==1.0.0-alpha1.post0) (1.8.0)\n",
            "Requirement already satisfied: python-dateutil>=2.1 in /usr/local/lib/python3.7/dist-packages (from jupyter-client->ipykernel->jupyter->d2l==1.0.0-alpha1.post0) (2.8.2)\n",
            "Requirement already satisfied: ptyprocess in /usr/local/lib/python3.7/dist-packages (from terminado>=0.8.1->notebook->jupyter->d2l==1.0.0-alpha1.post0) (0.7.0)\n",
            "Requirement already satisfied: MarkupSafe>=0.23 in /usr/local/lib/python3.7/dist-packages (from jinja2->notebook->jupyter->d2l==1.0.0-alpha1.post0) (2.0.1)\n",
            "Requirement already satisfied: kiwisolver>=1.0.1 in /usr/local/lib/python3.7/dist-packages (from matplotlib->d2l==1.0.0-alpha1.post0) (1.4.4)\n",
            "Requirement already satisfied: cycler>=0.10 in /usr/local/lib/python3.7/dist-packages (from matplotlib->d2l==1.0.0-alpha1.post0) (0.11.0)\n",
            "Requirement already satisfied: pyparsing!=2.0.4,!=2.1.2,!=2.1.6,>=2.0.1 in /usr/local/lib/python3.7/dist-packages (from matplotlib->d2l==1.0.0-alpha1.post0) (3.0.9)\n",
            "Requirement already satisfied: testpath in /usr/local/lib/python3.7/dist-packages (from nbconvert->jupyter->d2l==1.0.0-alpha1.post0) (0.6.0)\n",
            "Requirement already satisfied: pandocfilters>=1.4.1 in /usr/local/lib/python3.7/dist-packages (from nbconvert->jupyter->d2l==1.0.0-alpha1.post0) (1.5.0)\n",
            "Requirement already satisfied: mistune<2,>=0.8.1 in /usr/local/lib/python3.7/dist-packages (from nbconvert->jupyter->d2l==1.0.0-alpha1.post0) (0.8.4)\n",
            "Requirement already satisfied: entrypoints>=0.2.2 in /usr/local/lib/python3.7/dist-packages (from nbconvert->jupyter->d2l==1.0.0-alpha1.post0) (0.4)\n",
            "Requirement already satisfied: bleach in /usr/local/lib/python3.7/dist-packages (from nbconvert->jupyter->d2l==1.0.0-alpha1.post0) (5.0.1)\n",
            "Requirement already satisfied: defusedxml in /usr/local/lib/python3.7/dist-packages (from nbconvert->jupyter->d2l==1.0.0-alpha1.post0) (0.7.1)\n",
            "Requirement already satisfied: jsonschema>=2.6 in /usr/local/lib/python3.7/dist-packages (from nbformat->notebook->jupyter->d2l==1.0.0-alpha1.post0) (4.3.3)\n",
            "Requirement already satisfied: fastjsonschema in /usr/local/lib/python3.7/dist-packages (from nbformat->notebook->jupyter->d2l==1.0.0-alpha1.post0) (2.16.2)\n",
            "Requirement already satisfied: attrs>=17.4.0 in /usr/local/lib/python3.7/dist-packages (from jsonschema>=2.6->nbformat->notebook->jupyter->d2l==1.0.0-alpha1.post0) (22.1.0)\n",
            "Requirement already satisfied: pyrsistent!=0.17.0,!=0.17.1,!=0.17.2,>=0.14.0 in /usr/local/lib/python3.7/dist-packages (from jsonschema>=2.6->nbformat->notebook->jupyter->d2l==1.0.0-alpha1.post0) (0.18.1)\n",
            "Requirement already satisfied: importlib-resources>=1.4.0 in /usr/local/lib/python3.7/dist-packages (from jsonschema>=2.6->nbformat->notebook->jupyter->d2l==1.0.0-alpha1.post0) (5.10.0)\n",
            "Requirement already satisfied: webencodings in /usr/local/lib/python3.7/dist-packages (from bleach->nbconvert->jupyter->d2l==1.0.0-alpha1.post0) (0.5.1)\n",
            "Requirement already satisfied: pytz>=2017.3 in /usr/local/lib/python3.7/dist-packages (from pandas->d2l==1.0.0-alpha1.post0) (2022.4)\n",
            "Requirement already satisfied: qtpy>=2.0.1 in /usr/local/lib/python3.7/dist-packages (from qtconsole->jupyter->d2l==1.0.0-alpha1.post0) (2.2.1)\n",
            "Requirement already satisfied: packaging in /usr/local/lib/python3.7/dist-packages (from qtpy>=2.0.1->qtconsole->jupyter->d2l==1.0.0-alpha1.post0) (21.3)\n",
            "Requirement already satisfied: certifi>=2017.4.17 in /usr/local/lib/python3.7/dist-packages (from requests->d2l==1.0.0-alpha1.post0) (2022.9.24)\n",
            "Requirement already satisfied: chardet<4,>=3.0.2 in /usr/local/lib/python3.7/dist-packages (from requests->d2l==1.0.0-alpha1.post0) (3.0.4)\n",
            "Requirement already satisfied: idna<3,>=2.5 in /usr/local/lib/python3.7/dist-packages (from requests->d2l==1.0.0-alpha1.post0) (2.10)\n",
            "Requirement already satisfied: urllib3!=1.25.0,!=1.25.1,<1.26,>=1.21.1 in /usr/local/lib/python3.7/dist-packages (from requests->d2l==1.0.0-alpha1.post0) (1.24.3)\n"
          ]
        }
      ],
      "source": [
        "!pip install d2l==1.0.0-alpha1.post0\n"
      ]
    },
    {
      "cell_type": "markdown",
      "id": "bc92ac61",
      "metadata": {
        "origin_pos": 1,
        "id": "bc92ac61"
      },
      "source": [
        "# GPUs\n",
        ":label:`sec_use_gpu`\n",
        "\n",
        "In :numref:`tab_intro_decade`, we discussed the rapid growth\n",
        "of computation over the past two decades.\n",
        "In a nutshell, GPU performance has increased\n",
        "by a factor of 1000 every decade since 2000.\n",
        "This offers great opportunities but it also suggests\n",
        "a significant need to provide such performance.\n",
        "\n",
        "\n",
        "In this section, we begin to discuss how to harness\n",
        "this computational performance for your research.\n",
        "First by using single GPUs and at a later point,\n",
        "how to use multiple GPUs and multiple servers (with multiple GPUs).\n",
        "\n",
        "Specifically, we will discuss how\n",
        "to use a single NVIDIA GPU for calculations.\n",
        "First, make sure you have at least one NVIDIA GPU installed.\n",
        "Then, download the [NVIDIA driver and CUDA](https://developer.nvidia.com/cuda-downloads)\n",
        "and follow the prompts to set the appropriate path.\n",
        "Once these preparations are complete,\n",
        "the `nvidia-smi` command can be used\n",
        "to (**view the graphics card information**).\n"
      ]
    },
    {
      "cell_type": "code",
      "execution_count": 22,
      "id": "6517d924",
      "metadata": {
        "execution": {
          "iopub.execute_input": "2022-09-07T22:07:35.793409Z",
          "iopub.status.busy": "2022-09-07T22:07:35.792718Z",
          "iopub.status.idle": "2022-09-07T22:07:36.704469Z",
          "shell.execute_reply": "2022-09-07T22:07:36.703244Z"
        },
        "origin_pos": 2,
        "tab": [
          "pytorch"
        ],
        "id": "6517d924",
        "outputId": "da6b3962-bc10-46be-cdb6-d89a6fefad9b",
        "colab": {
          "base_uri": "https://localhost:8080/"
        }
      },
      "outputs": [
        {
          "output_type": "stream",
          "name": "stdout",
          "text": [
            "Tue Oct 18 20:30:03 2022       \n",
            "+-----------------------------------------------------------------------------+\n",
            "| NVIDIA-SMI 460.32.03    Driver Version: 460.32.03    CUDA Version: 11.2     |\n",
            "|-------------------------------+----------------------+----------------------+\n",
            "| GPU  Name        Persistence-M| Bus-Id        Disp.A | Volatile Uncorr. ECC |\n",
            "| Fan  Temp  Perf  Pwr:Usage/Cap|         Memory-Usage | GPU-Util  Compute M. |\n",
            "|                               |                      |               MIG M. |\n",
            "|===============================+======================+======================|\n",
            "|   0  Tesla T4            Off  | 00000000:00:04.0 Off |                    0 |\n",
            "| N/A   47C    P0    28W /  70W |    612MiB / 15109MiB |      0%      Default |\n",
            "|                               |                      |                  N/A |\n",
            "+-------------------------------+----------------------+----------------------+\n",
            "                                                                               \n",
            "+-----------------------------------------------------------------------------+\n",
            "| Processes:                                                                  |\n",
            "|  GPU   GI   CI        PID   Type   Process name                  GPU Memory |\n",
            "|        ID   ID                                                   Usage      |\n",
            "|=============================================================================|\n",
            "+-----------------------------------------------------------------------------+\n"
          ]
        }
      ],
      "source": [
        "!nvidia-smi"
      ]
    },
    {
      "cell_type": "markdown",
      "id": "44ddf017",
      "metadata": {
        "origin_pos": 4,
        "tab": [
          "pytorch"
        ],
        "id": "44ddf017"
      },
      "source": [
        "In PyTorch, every array has a device, we often refer it as a context.\n",
        "So far, by default, all variables\n",
        "and associated computation\n",
        "have been assigned to the CPU.\n",
        "Typically, other contexts might be various GPUs.\n",
        "Things can get even hairier when\n",
        "we deploy jobs across multiple servers.\n",
        "By assigning arrays to contexts intelligently,\n",
        "we can minimize the time spent\n",
        "transferring data between devices.\n",
        "For example, when training neural networks on a server with a GPU,\n",
        "we typically prefer for the model's parameters to live on the GPU.\n"
      ]
    },
    {
      "cell_type": "markdown",
      "id": "5cb573f3",
      "metadata": {
        "origin_pos": 5,
        "id": "5cb573f3"
      },
      "source": [
        "To run the programs in this section,\n",
        "you need at least two GPUs.\n",
        "Note that this might be extravagant for most desktop computers\n",
        "but it is easily available in the cloud, e.g.,\n",
        "by using the AWS EC2 multi-GPU instances.\n",
        "Almost all other sections do *not* require multiple GPUs.\n",
        "Instead, this is simply to illustrate\n",
        "how data flow between different devices.\n",
        "\n",
        "## [**Computing Devices**]\n",
        "\n",
        "We can specify devices, such as CPUs and GPUs,\n",
        "for storage and calculation.\n",
        "By default, tensors are created in the main memory\n",
        "and then use the CPU to calculate it.\n"
      ]
    },
    {
      "cell_type": "markdown",
      "id": "c343cd02",
      "metadata": {
        "origin_pos": 7,
        "tab": [
          "pytorch"
        ],
        "id": "c343cd02"
      },
      "source": [
        "In PyTorch, the CPU and GPU can be indicated by `torch.device('cpu')` and `torch.device('cuda')`.\n",
        "It should be noted that the `cpu` device\n",
        "means all physical CPUs and memory.\n",
        "This means that PyTorch's calculations\n",
        "will try to use all CPU cores.\n",
        "However, a `gpu` device only represents one card\n",
        "and the corresponding memory.\n",
        "If there are multiple GPUs, we use `torch.device(f'cuda:{i}')`\n",
        "to represent the $i^\\mathrm{th}$ GPU ($i$ starts from 0).\n",
        "Also, `gpu:0` and `gpu` are equivalent.\n"
      ]
    },
    {
      "cell_type": "code",
      "execution_count": 23,
      "id": "550a1fa2",
      "metadata": {
        "execution": {
          "iopub.execute_input": "2022-09-07T22:07:36.710926Z",
          "iopub.status.busy": "2022-09-07T22:07:36.710314Z",
          "iopub.status.idle": "2022-09-07T22:07:38.944628Z",
          "shell.execute_reply": "2022-09-07T22:07:38.943551Z"
        },
        "origin_pos": 9,
        "tab": [
          "pytorch"
        ],
        "id": "550a1fa2"
      },
      "outputs": [],
      "source": [
        "import torch\n",
        "from torch import nn\n",
        "from d2l import torch as d2l"
      ]
    },
    {
      "cell_type": "code",
      "execution_count": 41,
      "id": "f80d78d0",
      "metadata": {
        "execution": {
          "iopub.execute_input": "2022-09-07T22:07:38.949160Z",
          "iopub.status.busy": "2022-09-07T22:07:38.948388Z",
          "iopub.status.idle": "2022-09-07T22:07:38.956871Z",
          "shell.execute_reply": "2022-09-07T22:07:38.956144Z"
        },
        "origin_pos": 11,
        "tab": [
          "pytorch"
        ],
        "id": "f80d78d0",
        "outputId": "51278020-f204-441e-97ac-0d1bf8ee9a79",
        "colab": {
          "base_uri": "https://localhost:8080/"
        }
      },
      "outputs": [
        {
          "output_type": "execute_result",
          "data": {
            "text/plain": [
              "(device(type='cpu'),\n",
              " device(type='cuda', index=0),\n",
              " device(type='cuda', index=1))"
            ]
          },
          "metadata": {},
          "execution_count": 41
        }
      ],
      "source": [
        "def cpu():  #@save\n",
        "    return torch.device('cpu')\n",
        "def gpu(i=0):  #@save\n",
        "    return torch.device(f'cuda:{i}')\n",
        "cpu(), gpu(), gpu(1)"
      ]
    },
    {
      "cell_type": "markdown",
      "id": "c41e97c8",
      "metadata": {
        "origin_pos": 12,
        "id": "c41e97c8"
      },
      "source": [
        "We can (**query the number of available GPUs.**)\n"
      ]
    },
    {
      "cell_type": "code",
      "execution_count": 42,
      "id": "0eba961a",
      "metadata": {
        "execution": {
          "iopub.execute_input": "2022-09-07T22:07:38.961011Z",
          "iopub.status.busy": "2022-09-07T22:07:38.960224Z",
          "iopub.status.idle": "2022-09-07T22:07:38.966533Z",
          "shell.execute_reply": "2022-09-07T22:07:38.965609Z"
        },
        "origin_pos": 13,
        "tab": [
          "pytorch"
        ],
        "id": "0eba961a",
        "outputId": "43c79def-4f93-4a60-f0d7-3cd465f356c7",
        "colab": {
          "base_uri": "https://localhost:8080/"
        }
      },
      "outputs": [
        {
          "output_type": "execute_result",
          "data": {
            "text/plain": [
              "1"
            ]
          },
          "metadata": {},
          "execution_count": 42
        }
      ],
      "source": [
        "def num_gpus():  #@save\n",
        "    return torch.cuda.device_count()\n",
        "num_gpus()"
      ]
    },
    {
      "cell_type": "markdown",
      "id": "def1ca1c",
      "metadata": {
        "origin_pos": 14,
        "id": "def1ca1c"
      },
      "source": [
        "Now we [**define two convenient functions that allow us\n",
        "to run code even if the requested GPUs do not exist.**]\n"
      ]
    },
    {
      "cell_type": "code",
      "execution_count": 43,
      "id": "23837c22",
      "metadata": {
        "execution": {
          "iopub.execute_input": "2022-09-07T22:07:38.971522Z",
          "iopub.status.busy": "2022-09-07T22:07:38.970646Z",
          "iopub.status.idle": "2022-09-07T22:07:38.981119Z",
          "shell.execute_reply": "2022-09-07T22:07:38.980115Z"
        },
        "origin_pos": 15,
        "tab": [
          "pytorch"
        ],
        "id": "23837c22",
        "outputId": "513dc8c1-62ab-4877-aaeb-c096a7ad225b",
        "colab": {
          "base_uri": "https://localhost:8080/"
        }
      },
      "outputs": [
        {
          "output_type": "execute_result",
          "data": {
            "text/plain": [
              "(device(type='cuda', index=0),\n",
              " device(type='cpu'),\n",
              " [device(type='cuda', index=0)])"
            ]
          },
          "metadata": {},
          "execution_count": 43
        }
      ],
      "source": [
        "def try_gpu(i=0):  #@save\n",
        "    \"\"\"Return gpu(i) if exists, otherwise return cpu().\"\"\"\n",
        "    if num_gpus() >= i + 1:\n",
        "        return gpu(i)\n",
        "    return cpu()\n",
        "\n",
        "def try_all_gpus():  #@save\n",
        "    \"\"\"Return all available GPUs, or [cpu(),] if no GPU exists.\"\"\"\n",
        "    return [gpu(i) for i in range(num_gpus())]\n",
        "\n",
        "try_gpu(), try_gpu(10), try_all_gpus()"
      ]
    },
    {
      "cell_type": "markdown",
      "id": "8ed7b5aa",
      "metadata": {
        "origin_pos": 16,
        "id": "8ed7b5aa"
      },
      "source": [
        "## Tensors and GPUs\n",
        "\n",
        "By default, tensors are created on the CPU.\n",
        "We can [**query the device where the tensor is located.**]\n"
      ]
    },
    {
      "cell_type": "code",
      "execution_count": 44,
      "id": "04a04924",
      "metadata": {
        "execution": {
          "iopub.execute_input": "2022-09-07T22:07:38.985870Z",
          "iopub.status.busy": "2022-09-07T22:07:38.985227Z",
          "iopub.status.idle": "2022-09-07T22:07:38.992500Z",
          "shell.execute_reply": "2022-09-07T22:07:38.991470Z"
        },
        "origin_pos": 18,
        "tab": [
          "pytorch"
        ],
        "id": "04a04924",
        "outputId": "f2865edb-b871-40bb-8c06-4fa49631958b",
        "colab": {
          "base_uri": "https://localhost:8080/"
        }
      },
      "outputs": [
        {
          "output_type": "execute_result",
          "data": {
            "text/plain": [
              "device(type='cuda', index=0)"
            ]
          },
          "metadata": {},
          "execution_count": 44
        }
      ],
      "source": [
        "x = torch.tensor([1, 2, 3])\n",
        "x.device"
      ]
    },
    {
      "cell_type": "markdown",
      "id": "ff7ba7c1",
      "metadata": {
        "origin_pos": 20,
        "id": "ff7ba7c1"
      },
      "source": [
        "It is important to note that whenever we want\n",
        "to operate on multiple terms,\n",
        "they need to be on the same device.\n",
        "For instance, if we sum two tensors,\n",
        "we need to make sure that both arguments\n",
        "live on the same device---otherwise the framework\n",
        "would not know where to store the result\n",
        "or even how to decide where to perform the computation.\n",
        "\n",
        "### Storage on the GPU\n",
        "\n",
        "There are several ways to [**store a tensor on the GPU.**]\n",
        "For example, we can specify a storage device when creating a tensor.\n",
        "Next, we create the tensor variable `X` on the first `gpu`.\n",
        "The tensor created on a GPU only consumes the memory of this GPU.\n",
        "We can use the `nvidia-smi` command to view GPU memory usage.\n",
        "In general, we need to make sure that we do not create data that exceeds the GPU memory limit.\n"
      ]
    },
    {
      "cell_type": "code",
      "execution_count": 45,
      "id": "a189ff2d",
      "metadata": {
        "execution": {
          "iopub.execute_input": "2022-09-07T22:07:38.997188Z",
          "iopub.status.busy": "2022-09-07T22:07:38.996534Z",
          "iopub.status.idle": "2022-09-07T22:07:42.090352Z",
          "shell.execute_reply": "2022-09-07T22:07:42.089574Z"
        },
        "origin_pos": 22,
        "tab": [
          "pytorch"
        ],
        "id": "a189ff2d",
        "outputId": "b008d0b8-e3a6-4c01-954a-e89da7081926",
        "colab": {
          "base_uri": "https://localhost:8080/"
        }
      },
      "outputs": [
        {
          "output_type": "execute_result",
          "data": {
            "text/plain": [
              "tensor([[1., 1., 1.],\n",
              "        [1., 1., 1.]])"
            ]
          },
          "metadata": {},
          "execution_count": 45
        }
      ],
      "source": [
        "X = torch.ones(2, 3, device=try_gpu())\n",
        "X"
      ]
    },
    {
      "cell_type": "markdown",
      "id": "8964d517",
      "metadata": {
        "origin_pos": 24,
        "id": "8964d517"
      },
      "source": [
        "Assuming that you have at least two GPUs, the following code will (**create a random tensor on the second GPU.**)\n"
      ]
    },
    {
      "cell_type": "code",
      "execution_count": 50,
      "id": "a3fe9d67",
      "metadata": {
        "execution": {
          "iopub.execute_input": "2022-09-07T22:07:42.094113Z",
          "iopub.status.busy": "2022-09-07T22:07:42.093539Z",
          "iopub.status.idle": "2022-09-07T22:07:44.893959Z",
          "shell.execute_reply": "2022-09-07T22:07:44.893183Z"
        },
        "origin_pos": 26,
        "tab": [
          "pytorch"
        ],
        "id": "a3fe9d67",
        "outputId": "ba0e8ec1-0294-4ee1-c80a-76c1b008d958",
        "colab": {
          "base_uri": "https://localhost:8080/"
        }
      },
      "outputs": [
        {
          "output_type": "execute_result",
          "data": {
            "text/plain": [
              "tensor([[0.5336, 0.8585, 0.2509],\n",
              "        [0.7684, 0.9914, 0.3578]])"
            ]
          },
          "metadata": {},
          "execution_count": 50
        }
      ],
      "source": [
        "Y = torch.rand(2, 3, device=try_gpu(0))\n",
        "Y"
      ]
    },
    {
      "cell_type": "markdown",
      "id": "187ea1d5",
      "metadata": {
        "origin_pos": 28,
        "id": "187ea1d5"
      },
      "source": [
        "### Copying\n",
        "\n",
        "[**If we want to compute `X + Y`,\n",
        "we need to decide where to perform this operation.**]\n",
        "For instance, as shown in :numref:`fig_copyto`,\n",
        "we can transfer `X` to the second GPU\n",
        "and perform the operation there.\n",
        "*Do not* simply add `X` and `Y`,\n",
        "since this will result in an exception.\n",
        "The runtime engine would not know what to do:\n",
        "it cannot find data on the same device and it fails.\n",
        "Since `Y` lives on the second GPU,\n",
        "we need to move `X` there before we can add the two.\n",
        "\n",
        "![Copy data to perform an operation on the same device.](http://d2l.ai/_images/copyto.svg)\n",
        ":label:`fig_copyto`\n"
      ]
    },
    {
      "cell_type": "code",
      "execution_count": 51,
      "id": "dfe0767e",
      "metadata": {
        "execution": {
          "iopub.execute_input": "2022-09-07T22:07:44.899098Z",
          "iopub.status.busy": "2022-09-07T22:07:44.898389Z",
          "iopub.status.idle": "2022-09-07T22:07:44.906274Z",
          "shell.execute_reply": "2022-09-07T22:07:44.905332Z"
        },
        "origin_pos": 30,
        "tab": [
          "pytorch"
        ],
        "id": "dfe0767e",
        "outputId": "fe19100e-9bdc-42a0-ad63-2917e64c83dd",
        "colab": {
          "base_uri": "https://localhost:8080/"
        }
      },
      "outputs": [
        {
          "output_type": "stream",
          "name": "stdout",
          "text": [
            "tensor([[1., 1., 1.],\n",
            "        [1., 1., 1.]])\n",
            "tensor([[1., 1., 1.],\n",
            "        [1., 1., 1.]])\n"
          ]
        }
      ],
      "source": [
        "Z = X.cuda(0)\n",
        "print(X)\n",
        "print(Z)"
      ]
    },
    {
      "cell_type": "markdown",
      "id": "af77e5e7",
      "metadata": {
        "origin_pos": 32,
        "id": "af77e5e7"
      },
      "source": [
        "Now that [**the data is on the same GPU\n",
        "(both `Z` and `Y` are),\n",
        "we can add them up.**]\n"
      ]
    },
    {
      "cell_type": "code",
      "execution_count": 52,
      "id": "9b1eb653",
      "metadata": {
        "execution": {
          "iopub.execute_input": "2022-09-07T22:07:44.911003Z",
          "iopub.status.busy": "2022-09-07T22:07:44.910309Z",
          "iopub.status.idle": "2022-09-07T22:07:44.917158Z",
          "shell.execute_reply": "2022-09-07T22:07:44.916219Z"
        },
        "origin_pos": 33,
        "tab": [
          "pytorch"
        ],
        "id": "9b1eb653",
        "outputId": "712476a7-e72b-4173-8376-e5403d14d5cb",
        "colab": {
          "base_uri": "https://localhost:8080/"
        }
      },
      "outputs": [
        {
          "output_type": "execute_result",
          "data": {
            "text/plain": [
              "tensor([[1.5336, 1.8585, 1.2509],\n",
              "        [1.7684, 1.9914, 1.3578]])"
            ]
          },
          "metadata": {},
          "execution_count": 52
        }
      ],
      "source": [
        "Y + Z"
      ]
    },
    {
      "cell_type": "markdown",
      "id": "09a4c9a8",
      "metadata": {
        "origin_pos": 35,
        "tab": [
          "pytorch"
        ],
        "id": "09a4c9a8"
      },
      "source": [
        "Imagine that your variable `Z` already lives on your second GPU.\n",
        "What happens if we still call `Z.cuda(1)`?\n",
        "It will return `Z` instead of making a copy and allocating new memory.\n"
      ]
    },
    {
      "cell_type": "code",
      "execution_count": 53,
      "id": "783f459c",
      "metadata": {
        "execution": {
          "iopub.execute_input": "2022-09-07T22:07:44.920871Z",
          "iopub.status.busy": "2022-09-07T22:07:44.920279Z",
          "iopub.status.idle": "2022-09-07T22:07:44.926678Z",
          "shell.execute_reply": "2022-09-07T22:07:44.925577Z"
        },
        "origin_pos": 38,
        "tab": [
          "pytorch"
        ],
        "id": "783f459c",
        "outputId": "03ef9c3c-7b2b-4705-d177-ee3a306ef679",
        "colab": {
          "base_uri": "https://localhost:8080/"
        }
      },
      "outputs": [
        {
          "output_type": "execute_result",
          "data": {
            "text/plain": [
              "True"
            ]
          },
          "metadata": {},
          "execution_count": 53
        }
      ],
      "source": [
        "Z.cuda(0) is Z"
      ]
    },
    {
      "cell_type": "markdown",
      "id": "ad0320f2",
      "metadata": {
        "origin_pos": 40,
        "id": "ad0320f2"
      },
      "source": [
        "### Side Notes\n",
        "\n",
        "People use GPUs to do machine learning\n",
        "because they expect them to be fast.\n",
        "But transferring variables between devices is slow.\n",
        "So we want you to be 100% certain\n",
        "that you want to do something slow before we let you do it.\n",
        "If the deep learning framework just did the copy automatically\n",
        "without crashing then you might not realize\n",
        "that you had written some slow code.\n",
        "\n",
        "Also, transferring data between devices (CPU, GPUs, and other machines)\n",
        "is something that is much slower than computation.\n",
        "It also makes parallelization a lot more difficult,\n",
        "since we have to wait for data to be sent (or rather to be received)\n",
        "before we can proceed with more operations.\n",
        "This is why copy operations should be taken with great care.\n",
        "As a rule of thumb, many small operations\n",
        "are much worse than one big operation.\n",
        "Moreover, several operations at a time\n",
        "are much better than many single operations interspersed in the code\n",
        "unless you know what you are doing.\n",
        "This is the case since such operations can block if one device\n",
        "has to wait for the other before it can do something else.\n",
        "It is a bit like ordering your coffee in a queue\n",
        "rather than pre-ordering it by phone\n",
        "and finding out that it is ready when you are.\n",
        "\n",
        "Last, when we print tensors or convert tensors to the NumPy format,\n",
        "if the data is not in the main memory,\n",
        "the framework will copy it to the main memory first,\n",
        "resulting in additional transmission overhead.\n",
        "Even worse, it is now subject to the dreaded global interpreter lock\n",
        "that makes everything wait for Python to complete.\n",
        "\n",
        "\n",
        "## [**Neural Networks and GPUs**]\n",
        "\n",
        "Similarly, a neural network model can specify devices.\n",
        "The following code puts the model parameters on the GPU.\n"
      ]
    },
    {
      "cell_type": "code",
      "execution_count": 54,
      "id": "02b174b6",
      "metadata": {
        "execution": {
          "iopub.execute_input": "2022-09-07T22:07:44.930916Z",
          "iopub.status.busy": "2022-09-07T22:07:44.930183Z",
          "iopub.status.idle": "2022-09-07T22:07:44.937711Z",
          "shell.execute_reply": "2022-09-07T22:07:44.936654Z"
        },
        "origin_pos": 42,
        "tab": [
          "pytorch"
        ],
        "id": "02b174b6",
        "outputId": "26f99175-21b2-44a5-ad75-469355b7a6a3",
        "colab": {
          "base_uri": "https://localhost:8080/"
        }
      },
      "outputs": [
        {
          "output_type": "stream",
          "name": "stderr",
          "text": [
            "/usr/local/lib/python3.7/dist-packages/torch/nn/modules/lazy.py:178: UserWarning: Lazy modules are a new feature under heavy development so changes to the API or functionality can happen at any moment.\n",
            "  warnings.warn('Lazy modules are a new feature under heavy development '\n"
          ]
        }
      ],
      "source": [
        "net = nn.Sequential(nn.LazyLinear(1))\n",
        "net = net.to(device=try_gpu())"
      ]
    },
    {
      "cell_type": "markdown",
      "id": "74bc267b",
      "metadata": {
        "origin_pos": 44,
        "id": "74bc267b"
      },
      "source": [
        "We will see many more examples of\n",
        "how to run models on GPUs in the following chapters,\n",
        "simply since they will become somewhat more computationally intensive.\n",
        "\n",
        "When the input is a tensor on the GPU, the model will calculate the result on the same GPU.\n"
      ]
    },
    {
      "cell_type": "code",
      "execution_count": 55,
      "id": "c833038d",
      "metadata": {
        "execution": {
          "iopub.execute_input": "2022-09-07T22:07:44.941910Z",
          "iopub.status.busy": "2022-09-07T22:07:44.941221Z",
          "iopub.status.idle": "2022-09-07T22:07:45.216215Z",
          "shell.execute_reply": "2022-09-07T22:07:45.215334Z"
        },
        "origin_pos": 45,
        "tab": [
          "pytorch"
        ],
        "id": "c833038d",
        "outputId": "584809f8-0320-4b67-b3db-e125634b72e9",
        "colab": {
          "base_uri": "https://localhost:8080/"
        }
      },
      "outputs": [
        {
          "output_type": "execute_result",
          "data": {
            "text/plain": [
              "tensor([[-1.6793],\n",
              "        [-1.6793]], grad_fn=<AddmmBackward0>)"
            ]
          },
          "metadata": {},
          "execution_count": 55
        }
      ],
      "source": [
        "net(X)"
      ]
    },
    {
      "cell_type": "markdown",
      "id": "74342527",
      "metadata": {
        "origin_pos": 46,
        "id": "74342527"
      },
      "source": [
        "Let's (**confirm that the model parameters are stored on the same GPU.**)\n"
      ]
    },
    {
      "cell_type": "code",
      "execution_count": 56,
      "id": "ddbb3672",
      "metadata": {
        "execution": {
          "iopub.execute_input": "2022-09-07T22:07:45.220583Z",
          "iopub.status.busy": "2022-09-07T22:07:45.219857Z",
          "iopub.status.idle": "2022-09-07T22:07:45.227027Z",
          "shell.execute_reply": "2022-09-07T22:07:45.226268Z"
        },
        "origin_pos": 48,
        "tab": [
          "pytorch"
        ],
        "id": "ddbb3672",
        "outputId": "02ac28f6-0441-4087-ae59-a40c60d97973",
        "colab": {
          "base_uri": "https://localhost:8080/"
        }
      },
      "outputs": [
        {
          "output_type": "execute_result",
          "data": {
            "text/plain": [
              "device(type='cuda', index=0)"
            ]
          },
          "metadata": {},
          "execution_count": 56
        }
      ],
      "source": [
        "net[0].weight.data.device"
      ]
    },
    {
      "cell_type": "markdown",
      "id": "f2970777",
      "metadata": {
        "origin_pos": 50,
        "id": "f2970777"
      },
      "source": [
        "Let the trainer support GPU.\n"
      ]
    },
    {
      "cell_type": "code",
      "execution_count": 57,
      "id": "c1d4e3e5",
      "metadata": {
        "execution": {
          "iopub.execute_input": "2022-09-07T22:07:45.230798Z",
          "iopub.status.busy": "2022-09-07T22:07:45.230475Z",
          "iopub.status.idle": "2022-09-07T22:07:45.237114Z",
          "shell.execute_reply": "2022-09-07T22:07:45.236370Z"
        },
        "origin_pos": 52,
        "tab": [
          "pytorch"
        ],
        "id": "c1d4e3e5"
      },
      "outputs": [],
      "source": [
        "@d2l.add_to_class(d2l.Trainer)  #@save\n",
        "def __init__(self, max_epochs, num_gpus=0, gradient_clip_val=0):\n",
        "    self.save_hyperparameters()\n",
        "    self.gpus = [d2l.gpu(i) for i in range(min(num_gpus, d2l.num_gpus()))]\n",
        "\n",
        "@d2l.add_to_class(d2l.Trainer)  #@save\n",
        "def prepare_batch(self, batch):\n",
        "    if self.gpus:\n",
        "        batch = [a.to(self.gpus[0]) for a in batch]\n",
        "    return batch\n",
        "\n",
        "@d2l.add_to_class(d2l.Trainer)  #@save\n",
        "def prepare_model(self, model):\n",
        "    model.trainer = self\n",
        "    model.board.xlim = [0, self.max_epochs]\n",
        "    if self.gpus:\n",
        "        model.to(self.gpus[0])\n",
        "    self.model = model"
      ]
    },
    {
      "cell_type": "markdown",
      "id": "4e75cb1f",
      "metadata": {
        "origin_pos": 53,
        "id": "4e75cb1f"
      },
      "source": [
        "In short, as long as all data and parameters are on the same device, we can learn models efficiently. In the following chapters we will see several such examples.\n",
        "\n",
        "## Summary\n",
        "\n",
        "* We can specify devices for storage and calculation, such as the CPU or GPU.\n",
        "  By default, data is created in the main memory\n",
        "  and then uses the CPU for calculations.\n",
        "* The deep learning framework requires all input data for calculation\n",
        "  to be on the same device,\n",
        "  be it CPU or the same GPU.\n",
        "* You can lose significant performance by moving data without care.\n",
        "  A typical mistake is as follows: computing the loss\n",
        "  for every minibatch on the GPU and reporting it back\n",
        "  to the user on the command line (or logging it in a NumPy `ndarray`)\n",
        "  will trigger a global interpreter lock which stalls all GPUs.\n",
        "  It is much better to allocate memory\n",
        "  for logging inside the GPU and only move larger logs.\n",
        "\n",
        "## Exercises\n",
        "\n",
        "1. Try a larger computation task, such as the multiplication of large matrices,\n",
        "   and see the difference in speed between the CPU and GPU.\n",
        "   What about a task with a small amount of calculations?\n",
        "1. How should we read and write model parameters on the GPU?\n",
        "1. Measure the time it takes to compute 1000\n",
        "   matrix-matrix multiplications of $100 \\times 100$ matrices\n",
        "   and log the Frobenius norm of the output matrix one result at a time\n",
        "   vs. keeping a log on the GPU and transferring only the final result.\n",
        "1. Measure how much time it takes to perform two matrix-matrix multiplications\n",
        "   on two GPUs at the same time vs. in sequence\n",
        "   on one GPU. Hint: you should see almost linear scaling.\n"
      ]
    },
    {
      "cell_type": "markdown",
      "id": "af044948",
      "metadata": {
        "origin_pos": 55,
        "tab": [
          "pytorch"
        ],
        "id": "af044948"
      },
      "source": [
        "[Discussions](https://discuss.d2l.ai/t/63)\n"
      ]
    }
  ],
  "metadata": {
    "accelerator": "GPU",
    "kernelspec": {
      "display_name": "Python 3",
      "name": "python3"
    },
    "language_info": {
      "name": "python"
    },
    "colab": {
      "provenance": []
    }
  },
  "nbformat": 4,
  "nbformat_minor": 5
}