{
  "cells": [
    {
      "cell_type": "markdown",
      "id": "3ff6a122",
      "metadata": {
        "id": "3ff6a122"
      },
      "source": [
        "The following additional libraries are needed to run this\n",
        "notebook. Note that running on Colab is experimental, please report a Github\n",
        "issue if you have any problem."
      ]
    },
    {
      "cell_type": "code",
      "execution_count": 1,
      "id": "9d7dbc95",
      "metadata": {
        "id": "9d7dbc95",
        "outputId": "de5f4c5c-a443-4545-dcab-d41ee3533721",
        "colab": {
          "base_uri": "https://localhost:8080/"
        }
      },
      "outputs": [
        {
          "output_type": "stream",
          "name": "stdout",
          "text": [
            "Looking in indexes: https://pypi.org/simple, https://us-python.pkg.dev/colab-wheels/public/simple/\n",
            "Collecting d2l==1.0.0-alpha1.post0\n",
            "  Downloading d2l-1.0.0a1.post0-py3-none-any.whl (93 kB)\n",
            "\u001b[K     |████████████████████████████████| 93 kB 957 kB/s \n",
            "\u001b[?25hRequirement already satisfied: numpy in /usr/local/lib/python3.7/dist-packages (from d2l==1.0.0-alpha1.post0) (1.21.6)\n",
            "Requirement already satisfied: pandas in /usr/local/lib/python3.7/dist-packages (from d2l==1.0.0-alpha1.post0) (1.3.5)\n",
            "Collecting matplotlib-inline\n",
            "  Downloading matplotlib_inline-0.1.6-py3-none-any.whl (9.4 kB)\n",
            "Collecting jupyter\n",
            "  Downloading jupyter-1.0.0-py2.py3-none-any.whl (2.7 kB)\n",
            "Requirement already satisfied: matplotlib in /usr/local/lib/python3.7/dist-packages (from d2l==1.0.0-alpha1.post0) (3.2.2)\n",
            "Requirement already satisfied: requests in /usr/local/lib/python3.7/dist-packages (from d2l==1.0.0-alpha1.post0) (2.23.0)\n",
            "Requirement already satisfied: gym in /usr/local/lib/python3.7/dist-packages (from d2l==1.0.0-alpha1.post0) (0.25.2)\n",
            "Requirement already satisfied: cloudpickle>=1.2.0 in /usr/local/lib/python3.7/dist-packages (from gym->d2l==1.0.0-alpha1.post0) (1.5.0)\n",
            "Requirement already satisfied: gym-notices>=0.0.4 in /usr/local/lib/python3.7/dist-packages (from gym->d2l==1.0.0-alpha1.post0) (0.0.8)\n",
            "Requirement already satisfied: importlib-metadata>=4.8.0 in /usr/local/lib/python3.7/dist-packages (from gym->d2l==1.0.0-alpha1.post0) (4.13.0)\n",
            "Requirement already satisfied: zipp>=0.5 in /usr/local/lib/python3.7/dist-packages (from importlib-metadata>=4.8.0->gym->d2l==1.0.0-alpha1.post0) (3.9.0)\n",
            "Requirement already satisfied: typing-extensions>=3.6.4 in /usr/local/lib/python3.7/dist-packages (from importlib-metadata>=4.8.0->gym->d2l==1.0.0-alpha1.post0) (4.1.1)\n",
            "Requirement already satisfied: ipykernel in /usr/local/lib/python3.7/dist-packages (from jupyter->d2l==1.0.0-alpha1.post0) (5.3.4)\n",
            "Requirement already satisfied: notebook in /usr/local/lib/python3.7/dist-packages (from jupyter->d2l==1.0.0-alpha1.post0) (5.5.0)\n",
            "Requirement already satisfied: ipywidgets in /usr/local/lib/python3.7/dist-packages (from jupyter->d2l==1.0.0-alpha1.post0) (7.7.1)\n",
            "Requirement already satisfied: nbconvert in /usr/local/lib/python3.7/dist-packages (from jupyter->d2l==1.0.0-alpha1.post0) (5.6.1)\n",
            "Requirement already satisfied: jupyter-console in /usr/local/lib/python3.7/dist-packages (from jupyter->d2l==1.0.0-alpha1.post0) (6.1.0)\n",
            "Collecting qtconsole\n",
            "  Downloading qtconsole-5.3.2-py3-none-any.whl (120 kB)\n",
            "\u001b[K     |████████████████████████████████| 120 kB 36.4 MB/s \n",
            "\u001b[?25hRequirement already satisfied: traitlets>=4.1.0 in /usr/local/lib/python3.7/dist-packages (from ipykernel->jupyter->d2l==1.0.0-alpha1.post0) (5.1.1)\n",
            "Requirement already satisfied: tornado>=4.2 in /usr/local/lib/python3.7/dist-packages (from ipykernel->jupyter->d2l==1.0.0-alpha1.post0) (5.1.1)\n",
            "Requirement already satisfied: jupyter-client in /usr/local/lib/python3.7/dist-packages (from ipykernel->jupyter->d2l==1.0.0-alpha1.post0) (6.1.12)\n",
            "Requirement already satisfied: ipython>=5.0.0 in /usr/local/lib/python3.7/dist-packages (from ipykernel->jupyter->d2l==1.0.0-alpha1.post0) (7.9.0)\n",
            "Requirement already satisfied: prompt-toolkit<2.1.0,>=2.0.0 in /usr/local/lib/python3.7/dist-packages (from ipython>=5.0.0->ipykernel->jupyter->d2l==1.0.0-alpha1.post0) (2.0.10)\n",
            "Requirement already satisfied: pickleshare in /usr/local/lib/python3.7/dist-packages (from ipython>=5.0.0->ipykernel->jupyter->d2l==1.0.0-alpha1.post0) (0.7.5)\n",
            "Requirement already satisfied: decorator in /usr/local/lib/python3.7/dist-packages (from ipython>=5.0.0->ipykernel->jupyter->d2l==1.0.0-alpha1.post0) (4.4.2)\n",
            "Requirement already satisfied: pygments in /usr/local/lib/python3.7/dist-packages (from ipython>=5.0.0->ipykernel->jupyter->d2l==1.0.0-alpha1.post0) (2.6.1)\n",
            "Requirement already satisfied: pexpect in /usr/local/lib/python3.7/dist-packages (from ipython>=5.0.0->ipykernel->jupyter->d2l==1.0.0-alpha1.post0) (4.8.0)\n",
            "Requirement already satisfied: setuptools>=18.5 in /usr/local/lib/python3.7/dist-packages (from ipython>=5.0.0->ipykernel->jupyter->d2l==1.0.0-alpha1.post0) (57.4.0)\n",
            "Requirement already satisfied: backcall in /usr/local/lib/python3.7/dist-packages (from ipython>=5.0.0->ipykernel->jupyter->d2l==1.0.0-alpha1.post0) (0.2.0)\n",
            "Collecting jedi>=0.10\n",
            "  Downloading jedi-0.18.1-py2.py3-none-any.whl (1.6 MB)\n",
            "\u001b[K     |████████████████████████████████| 1.6 MB 42.8 MB/s \n",
            "\u001b[?25hRequirement already satisfied: parso<0.9.0,>=0.8.0 in /usr/local/lib/python3.7/dist-packages (from jedi>=0.10->ipython>=5.0.0->ipykernel->jupyter->d2l==1.0.0-alpha1.post0) (0.8.3)\n",
            "Requirement already satisfied: six>=1.9.0 in /usr/local/lib/python3.7/dist-packages (from prompt-toolkit<2.1.0,>=2.0.0->ipython>=5.0.0->ipykernel->jupyter->d2l==1.0.0-alpha1.post0) (1.15.0)\n",
            "Requirement already satisfied: wcwidth in /usr/local/lib/python3.7/dist-packages (from prompt-toolkit<2.1.0,>=2.0.0->ipython>=5.0.0->ipykernel->jupyter->d2l==1.0.0-alpha1.post0) (0.2.5)\n",
            "Requirement already satisfied: jupyterlab-widgets>=1.0.0 in /usr/local/lib/python3.7/dist-packages (from ipywidgets->jupyter->d2l==1.0.0-alpha1.post0) (3.0.3)\n",
            "Requirement already satisfied: widgetsnbextension~=3.6.0 in /usr/local/lib/python3.7/dist-packages (from ipywidgets->jupyter->d2l==1.0.0-alpha1.post0) (3.6.1)\n",
            "Requirement already satisfied: ipython-genutils~=0.2.0 in /usr/local/lib/python3.7/dist-packages (from ipywidgets->jupyter->d2l==1.0.0-alpha1.post0) (0.2.0)\n",
            "Requirement already satisfied: terminado>=0.8.1 in /usr/local/lib/python3.7/dist-packages (from notebook->jupyter->d2l==1.0.0-alpha1.post0) (0.13.3)\n",
            "Requirement already satisfied: nbformat in /usr/local/lib/python3.7/dist-packages (from notebook->jupyter->d2l==1.0.0-alpha1.post0) (5.7.0)\n",
            "Requirement already satisfied: pyzmq>=17 in /usr/local/lib/python3.7/dist-packages (from notebook->jupyter->d2l==1.0.0-alpha1.post0) (23.2.1)\n",
            "Requirement already satisfied: jupyter-core>=4.4.0 in /usr/local/lib/python3.7/dist-packages (from notebook->jupyter->d2l==1.0.0-alpha1.post0) (4.11.1)\n",
            "Requirement already satisfied: jinja2 in /usr/local/lib/python3.7/dist-packages (from notebook->jupyter->d2l==1.0.0-alpha1.post0) (2.11.3)\n",
            "Requirement already satisfied: Send2Trash in /usr/local/lib/python3.7/dist-packages (from notebook->jupyter->d2l==1.0.0-alpha1.post0) (1.8.0)\n",
            "Requirement already satisfied: python-dateutil>=2.1 in /usr/local/lib/python3.7/dist-packages (from jupyter-client->ipykernel->jupyter->d2l==1.0.0-alpha1.post0) (2.8.2)\n",
            "Requirement already satisfied: ptyprocess in /usr/local/lib/python3.7/dist-packages (from terminado>=0.8.1->notebook->jupyter->d2l==1.0.0-alpha1.post0) (0.7.0)\n",
            "Requirement already satisfied: MarkupSafe>=0.23 in /usr/local/lib/python3.7/dist-packages (from jinja2->notebook->jupyter->d2l==1.0.0-alpha1.post0) (2.0.1)\n",
            "Requirement already satisfied: kiwisolver>=1.0.1 in /usr/local/lib/python3.7/dist-packages (from matplotlib->d2l==1.0.0-alpha1.post0) (1.4.4)\n",
            "Requirement already satisfied: cycler>=0.10 in /usr/local/lib/python3.7/dist-packages (from matplotlib->d2l==1.0.0-alpha1.post0) (0.11.0)\n",
            "Requirement already satisfied: pyparsing!=2.0.4,!=2.1.2,!=2.1.6,>=2.0.1 in /usr/local/lib/python3.7/dist-packages (from matplotlib->d2l==1.0.0-alpha1.post0) (3.0.9)\n",
            "Requirement already satisfied: testpath in /usr/local/lib/python3.7/dist-packages (from nbconvert->jupyter->d2l==1.0.0-alpha1.post0) (0.6.0)\n",
            "Requirement already satisfied: bleach in /usr/local/lib/python3.7/dist-packages (from nbconvert->jupyter->d2l==1.0.0-alpha1.post0) (5.0.1)\n",
            "Requirement already satisfied: entrypoints>=0.2.2 in /usr/local/lib/python3.7/dist-packages (from nbconvert->jupyter->d2l==1.0.0-alpha1.post0) (0.4)\n",
            "Requirement already satisfied: defusedxml in /usr/local/lib/python3.7/dist-packages (from nbconvert->jupyter->d2l==1.0.0-alpha1.post0) (0.7.1)\n",
            "Requirement already satisfied: mistune<2,>=0.8.1 in /usr/local/lib/python3.7/dist-packages (from nbconvert->jupyter->d2l==1.0.0-alpha1.post0) (0.8.4)\n",
            "Requirement already satisfied: pandocfilters>=1.4.1 in /usr/local/lib/python3.7/dist-packages (from nbconvert->jupyter->d2l==1.0.0-alpha1.post0) (1.5.0)\n",
            "Requirement already satisfied: fastjsonschema in /usr/local/lib/python3.7/dist-packages (from nbformat->notebook->jupyter->d2l==1.0.0-alpha1.post0) (2.16.2)\n",
            "Requirement already satisfied: jsonschema>=2.6 in /usr/local/lib/python3.7/dist-packages (from nbformat->notebook->jupyter->d2l==1.0.0-alpha1.post0) (4.3.3)\n",
            "Requirement already satisfied: importlib-resources>=1.4.0 in /usr/local/lib/python3.7/dist-packages (from jsonschema>=2.6->nbformat->notebook->jupyter->d2l==1.0.0-alpha1.post0) (5.10.0)\n",
            "Requirement already satisfied: pyrsistent!=0.17.0,!=0.17.1,!=0.17.2,>=0.14.0 in /usr/local/lib/python3.7/dist-packages (from jsonschema>=2.6->nbformat->notebook->jupyter->d2l==1.0.0-alpha1.post0) (0.18.1)\n",
            "Requirement already satisfied: attrs>=17.4.0 in /usr/local/lib/python3.7/dist-packages (from jsonschema>=2.6->nbformat->notebook->jupyter->d2l==1.0.0-alpha1.post0) (22.1.0)\n",
            "Requirement already satisfied: webencodings in /usr/local/lib/python3.7/dist-packages (from bleach->nbconvert->jupyter->d2l==1.0.0-alpha1.post0) (0.5.1)\n",
            "Requirement already satisfied: pytz>=2017.3 in /usr/local/lib/python3.7/dist-packages (from pandas->d2l==1.0.0-alpha1.post0) (2022.4)\n",
            "Collecting qtpy>=2.0.1\n",
            "  Downloading QtPy-2.2.1-py3-none-any.whl (82 kB)\n",
            "\u001b[K     |████████████████████████████████| 82 kB 832 kB/s \n",
            "\u001b[?25hRequirement already satisfied: packaging in /usr/local/lib/python3.7/dist-packages (from qtpy>=2.0.1->qtconsole->jupyter->d2l==1.0.0-alpha1.post0) (21.3)\n",
            "Requirement already satisfied: certifi>=2017.4.17 in /usr/local/lib/python3.7/dist-packages (from requests->d2l==1.0.0-alpha1.post0) (2022.9.24)\n",
            "Requirement already satisfied: chardet<4,>=3.0.2 in /usr/local/lib/python3.7/dist-packages (from requests->d2l==1.0.0-alpha1.post0) (3.0.4)\n",
            "Requirement already satisfied: idna<3,>=2.5 in /usr/local/lib/python3.7/dist-packages (from requests->d2l==1.0.0-alpha1.post0) (2.10)\n",
            "Requirement already satisfied: urllib3!=1.25.0,!=1.25.1,<1.26,>=1.21.1 in /usr/local/lib/python3.7/dist-packages (from requests->d2l==1.0.0-alpha1.post0) (1.24.3)\n",
            "Installing collected packages: jedi, qtpy, qtconsole, matplotlib-inline, jupyter, d2l\n",
            "Successfully installed d2l-1.0.0a1.post0 jedi-0.18.1 jupyter-1.0.0 matplotlib-inline-0.1.6 qtconsole-5.3.2 qtpy-2.2.1\n"
          ]
        }
      ],
      "source": [
        "!pip install d2l==1.0.0-alpha1.post0\n"
      ]
    },
    {
      "cell_type": "markdown",
      "id": "fabfdda2",
      "metadata": {
        "origin_pos": 0,
        "id": "fabfdda2"
      },
      "source": [
        "# Anchor Boxes\n",
        ":label:`sec_anchor`\n",
        "\n",
        "\n",
        "Object detection algorithms usually\n",
        "sample a large number of regions in the input image, determine whether these regions contain\n",
        "objects of interest, and adjust the boundaries\n",
        "of the regions so as to predict the\n",
        "*ground-truth bounding boxes*\n",
        "of the objects more accurately.\n",
        "Different models may adopt\n",
        "different region sampling schemes. \n",
        "Here we introduce one of such methods:\n",
        "it generates multiple bounding boxes with varying scales and aspect ratios centered on each pixel. \n",
        "These bounding boxes are called *anchor boxes*.\n",
        "We will design an object detection model\n",
        "based on anchor boxes in :numref:`sec_ssd`.\n",
        "\n",
        "First, let's modify the printing accuracy\n",
        "just for more concise outputs.\n"
      ]
    },
    {
      "cell_type": "code",
      "execution_count": 2,
      "id": "8ac712ed",
      "metadata": {
        "execution": {
          "iopub.execute_input": "2022-09-07T22:12:47.759899Z",
          "iopub.status.busy": "2022-09-07T22:12:47.758801Z",
          "iopub.status.idle": "2022-09-07T22:12:49.854812Z",
          "shell.execute_reply": "2022-09-07T22:12:49.853976Z"
        },
        "origin_pos": 2,
        "tab": [
          "pytorch"
        ],
        "id": "8ac712ed"
      },
      "outputs": [],
      "source": [
        "%matplotlib inline\n",
        "import torch\n",
        "from d2l import torch as d2l\n",
        "\n",
        "torch.set_printoptions(2)  # Simplify printing accuracy"
      ]
    },
    {
      "cell_type": "markdown",
      "id": "aecdd99d",
      "metadata": {
        "origin_pos": 3,
        "id": "aecdd99d"
      },
      "source": [
        "## Generating Multiple Anchor Boxes\n",
        "\n",
        "Suppose that the input image has a height of $h$ and width of $w$. \n",
        "We generate anchor boxes with different shapes centered on each pixel of the image.\n",
        "Let the *scale* be $s\\in (0, 1]$ and\n",
        "the *aspect ratio* (ratio of width to height) is $r > 0$. \n",
        "Then [**the width and height of the anchor box are $ws\\sqrt{r}$ and $hs/\\sqrt{r}$, respectively.**]\n",
        "Note that when the center position is given, an anchor box with known width and height is determined.\n",
        "\n",
        "To generate multiple anchor boxes with different shapes,\n",
        "let's set a series of scales\n",
        "$s_1,\\ldots, s_n$ and \n",
        "a series of aspect ratios $r_1,\\ldots, r_m$.\n",
        "When using all the combinations of these scales and aspect ratios with each pixel as the center,\n",
        "the input image will have a total of $whnm$ anchor boxes. Although these anchor boxes may cover all the\n",
        "ground-truth bounding boxes, the computational complexity is easily too high.\n",
        "In practice,\n",
        "we can only (**consider those combinations\n",
        "containing**) $s_1$ or $r_1$:\n",
        "\n",
        "(**$$(s_1, r_1), (s_1, r_2), \\ldots, (s_1, r_m), (s_2, r_1), (s_3, r_1), \\ldots, (s_n, r_1).$$**)\n",
        "\n",
        "That is to say, the number of anchor boxes centered on the same pixel is $n+m-1$. For the entire input image, we will generate a total of $wh(n+m-1)$ anchor boxes.\n",
        "\n",
        "The above method of generating anchor boxes is implemented in the following `multibox_prior` function. We specify the input image, a list of scales, and a list of aspect ratios, then this function will return all the anchor boxes.\n"
      ]
    },
    {
      "cell_type": "code",
      "execution_count": 3,
      "id": "2e5dbe30",
      "metadata": {
        "execution": {
          "iopub.execute_input": "2022-09-07T22:12:49.860462Z",
          "iopub.status.busy": "2022-09-07T22:12:49.860059Z",
          "iopub.status.idle": "2022-09-07T22:12:49.872403Z",
          "shell.execute_reply": "2022-09-07T22:12:49.871612Z"
        },
        "origin_pos": 5,
        "tab": [
          "pytorch"
        ],
        "id": "2e5dbe30"
      },
      "outputs": [],
      "source": [
        "#@save\n",
        "def multibox_prior(data, sizes, ratios):\n",
        "    \"\"\"Generate anchor boxes with different shapes centered on each pixel.\"\"\"\n",
        "    in_height, in_width = data.shape[-2:]\n",
        "    device, num_sizes, num_ratios = data.device, len(sizes), len(ratios)\n",
        "    boxes_per_pixel = (num_sizes + num_ratios - 1)\n",
        "    size_tensor = torch.tensor(sizes, device=device)\n",
        "    ratio_tensor = torch.tensor(ratios, device=device)\n",
        "    # Offsets are required to move the anchor to the center of a pixel. Since\n",
        "    # a pixel has height=1 and width=1, we choose to offset our centers by 0.5\n",
        "    offset_h, offset_w = 0.5, 0.5\n",
        "    steps_h = 1.0 / in_height  # Scaled steps in y axis\n",
        "    steps_w = 1.0 / in_width  # Scaled steps in x axis\n",
        "\n",
        "    # Generate all center points for the anchor boxes\n",
        "    center_h = (torch.arange(in_height, device=device) + offset_h) * steps_h\n",
        "    center_w = (torch.arange(in_width, device=device) + offset_w) * steps_w\n",
        "    shift_y, shift_x = torch.meshgrid(center_h, center_w, indexing='ij')\n",
        "    shift_y, shift_x = shift_y.reshape(-1), shift_x.reshape(-1)\n",
        "\n",
        "    # Generate `boxes_per_pixel` number of heights and widths that are later\n",
        "    # used to create anchor box corner coordinates (xmin, xmax, ymin, ymax)\n",
        "    w = torch.cat((size_tensor * torch.sqrt(ratio_tensor[0]),\n",
        "                   sizes[0] * torch.sqrt(ratio_tensor[1:])))\\\n",
        "                   * in_height / in_width  # Handle rectangular inputs\n",
        "    h = torch.cat((size_tensor / torch.sqrt(ratio_tensor[0]),\n",
        "                   sizes[0] / torch.sqrt(ratio_tensor[1:])))\n",
        "    # Divide by 2 to get half height and half width\n",
        "    anchor_manipulations = torch.stack((-w, -h, w, h)).T.repeat(\n",
        "                                        in_height * in_width, 1) / 2\n",
        "\n",
        "    # Each center point will have `boxes_per_pixel` number of anchor boxes, so\n",
        "    # generate a grid of all anchor box centers with `boxes_per_pixel` repeats\n",
        "    out_grid = torch.stack([shift_x, shift_y, shift_x, shift_y],\n",
        "                dim=1).repeat_interleave(boxes_per_pixel, dim=0)\n",
        "    output = out_grid + anchor_manipulations\n",
        "    return output.unsqueeze(0)"
      ]
    },
    {
      "cell_type": "markdown",
      "id": "77eed185",
      "metadata": {
        "origin_pos": 6,
        "id": "77eed185"
      },
      "source": [
        "We can see that [**the shape of the returned anchor box variable `Y`**] is\n",
        "(batch size, number of anchor boxes, 4).\n"
      ]
    },
    {
      "cell_type": "code",
      "execution_count": 4,
      "id": "87a7778a",
      "metadata": {
        "execution": {
          "iopub.execute_input": "2022-09-07T22:12:49.875832Z",
          "iopub.status.busy": "2022-09-07T22:12:49.875360Z",
          "iopub.status.idle": "2022-09-07T22:12:49.971790Z",
          "shell.execute_reply": "2022-09-07T22:12:49.970860Z"
        },
        "origin_pos": 8,
        "tab": [
          "pytorch"
        ],
        "id": "87a7778a",
        "outputId": "54d33c9e-f99f-4d5c-ffa7-3a3205cd34b0",
        "colab": {
          "base_uri": "https://localhost:8080/"
        }
      },
      "outputs": [
        {
          "output_type": "stream",
          "name": "stdout",
          "text": [
            "472 800\n"
          ]
        },
        {
          "output_type": "execute_result",
          "data": {
            "text/plain": [
              "torch.Size([1, 1888000, 4])"
            ]
          },
          "metadata": {},
          "execution_count": 4
        }
      ],
      "source": [
        "img = d2l.plt.imread('1.jpg')\n",
        "h, w = img.shape[:2]\n",
        "\n",
        "print(h, w)\n",
        "X = torch.rand(size=(1, 3, h, w))  # Construct input data\n",
        "Y = multibox_prior(X, sizes=[0.75, 0.5, 0.25], ratios=[1, 2, 0.5])\n",
        "Y.shape"
      ]
    },
    {
      "cell_type": "markdown",
      "id": "6eab0bc2",
      "metadata": {
        "origin_pos": 9,
        "id": "6eab0bc2"
      },
      "source": [
        "After changing the shape of the anchor box variable `Y` to (image height, image width, number of anchor boxes centered on the same pixel, 4),\n",
        "we can obtain all the anchor boxes centered on a specified pixel position.\n",
        "In the following,\n",
        "we [**access the first anchor box centered on (250, 250)**]. It has four elements: the $(x, y)$-axis coordinates at the upper-left corner and the $(x, y)$-axis coordinates at the lower-right corner of the anchor box.\n",
        "The coordinate values of both axes\n",
        "are divided by the width and height of the image, respectively; thus, the range is between 0 and 1.\n"
      ]
    },
    {
      "cell_type": "code",
      "execution_count": 5,
      "id": "9dba92d8",
      "metadata": {
        "execution": {
          "iopub.execute_input": "2022-09-07T22:12:49.975625Z",
          "iopub.status.busy": "2022-09-07T22:12:49.975072Z",
          "iopub.status.idle": "2022-09-07T22:12:49.983161Z",
          "shell.execute_reply": "2022-09-07T22:12:49.981936Z"
        },
        "origin_pos": 10,
        "tab": [
          "pytorch"
        ],
        "id": "9dba92d8",
        "outputId": "4fc6c064-044a-4236-e534-56be6e5e84df",
        "colab": {
          "base_uri": "https://localhost:8080/"
        }
      },
      "outputs": [
        {
          "output_type": "execute_result",
          "data": {
            "text/plain": [
              "tensor([0.09, 0.16, 0.53, 0.91])"
            ]
          },
          "metadata": {},
          "execution_count": 5
        }
      ],
      "source": [
        "boxes = Y.reshape(h, w, 5, 4)\n",
        "boxes[250, 250, 0, :]"
      ]
    },
    {
      "cell_type": "markdown",
      "id": "68f7729b",
      "metadata": {
        "origin_pos": 11,
        "id": "68f7729b"
      },
      "source": [
        "In order to [**show all the anchor boxes centered on one pixel in the image**],\n",
        "we define the following `show_bboxes` function to draw multiple bounding boxes on the image.\n"
      ]
    },
    {
      "cell_type": "code",
      "execution_count": 6,
      "id": "457002d1",
      "metadata": {
        "execution": {
          "iopub.execute_input": "2022-09-07T22:12:49.988070Z",
          "iopub.status.busy": "2022-09-07T22:12:49.987291Z",
          "iopub.status.idle": "2022-09-07T22:12:49.998877Z",
          "shell.execute_reply": "2022-09-07T22:12:49.997497Z"
        },
        "origin_pos": 12,
        "tab": [
          "pytorch"
        ],
        "id": "457002d1"
      },
      "outputs": [],
      "source": [
        "#@save\n",
        "def show_bboxes(axes, bboxes, labels=None, colors=None):\n",
        "    \"\"\"Show bounding boxes.\"\"\"\n",
        "\n",
        "    def make_list(obj, default_values=None):\n",
        "        if obj is None:\n",
        "            obj = default_values\n",
        "        elif not isinstance(obj, (list, tuple)):\n",
        "            obj = [obj]\n",
        "        return obj\n",
        "\n",
        "    labels = make_list(labels)\n",
        "    colors = make_list(colors, ['b', 'g', 'r', 'm', 'c'])\n",
        "    for i, bbox in enumerate(bboxes):\n",
        "        color = colors[i % len(colors)]\n",
        "        rect = d2l.bbox_to_rect(bbox.detach().numpy(), color)\n",
        "        axes.add_patch(rect)\n",
        "        if labels and len(labels) > i:\n",
        "            text_color = 'k' if color == 'w' else 'w'\n",
        "            axes.text(rect.xy[0], rect.xy[1], labels[i],\n",
        "                      va='center', ha='center', fontsize=9, color=text_color,\n",
        "                      bbox=dict(facecolor=color, lw=0))"
      ]
    },
    {
      "cell_type": "markdown",
      "id": "f5f70831",
      "metadata": {
        "origin_pos": 13,
        "id": "f5f70831"
      },
      "source": [
        "As we just saw, the coordinate values of the $x$ and $y$ axes in the variable `boxes` have been divided by the width and height of the image, respectively.\n",
        "When drawing anchor boxes,\n",
        "we need to restore their original coordinate values;\n",
        "thus, we define variable `bbox_scale` below. \n",
        "Now, we can draw all the anchor boxes centered on (250, 250) in the image.\n",
        "As you can see, the blue anchor box with a scale of 0.75 and an aspect ratio of 1 well\n",
        "surrounds the dog in the image.\n"
      ]
    },
    {
      "cell_type": "code",
      "execution_count": 7,
      "id": "30f07137",
      "metadata": {
        "execution": {
          "iopub.execute_input": "2022-09-07T22:12:50.002924Z",
          "iopub.status.busy": "2022-09-07T22:12:50.002311Z",
          "iopub.status.idle": "2022-09-07T22:12:50.411269Z",
          "shell.execute_reply": "2022-09-07T22:12:50.410424Z"
        },
        "origin_pos": 14,
        "tab": [
          "pytorch"
        ],
        "id": "30f07137",
        "outputId": "93377e78-ed26-4435-e8e2-e826e6d1ea2f",
        "colab": {
          "base_uri": "https://localhost:8080/",
          "height": 221
        }
      },
      "outputs": [
        {
          "output_type": "display_data",
          "data": {
            "text/plain": [
              "<Figure size 252x180 with 1 Axes>"
            ],
            "image/svg+xml": "<?xml version=\"1.0\" encoding=\"utf-8\" standalone=\"no\"?>\n<!DOCTYPE svg PUBLIC \"-//W3C//DTD SVG 1.1//EN\"\n  \"http://www.w3.org/Graphics/SVG/1.1/DTD/svg11.dtd\">\n<!-- Created with matplotlib (https://matplotlib.org/) -->\n<svg height=\"150.493247pt\" version=\"1.1\" viewBox=\"0 0 237.011797 150.493247\" width=\"237.011797pt\" xmlns=\"http://www.w3.org/2000/svg\" xmlns:xlink=\"http://www.w3.org/1999/xlink\">\n <defs>\n  <style type=\"text/css\">\n*{stroke-linecap:butt;stroke-linejoin:round;}\n  </style>\n </defs>\n <g id=\"figure_1\">\n  <g id=\"patch_1\">\n   <path d=\"M 0 150.493247 \nL 237.011797 150.493247 \nL 237.011797 0 \nL 0 0 \nz\n\" style=\"fill:none;\"/>\n  </g>\n  <g id=\"axes_1\">\n   <g id=\"patch_2\">\n    <path d=\"M 34.511797 126.615122 \nL 229.811797 126.615122 \nL 229.811797 11.388122 \nL 34.511797 11.388122 \nz\n\" style=\"fill:#ffffff;\"/>\n   </g>\n   <g clip-path=\"url(#pa27aac9f66)\">\n    <image height=\"116\" id=\"imagea174dda3c7\" transform=\"scale(1 -1)translate(0 -116)\" width=\"196\" x=\"34.511797\" xlink:href=\"data:image/png;base64,\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\" y=\"-10.615122\"/>\n   </g>\n   <g id=\"patch_3\">\n    <path clip-path=\"url(#pa27aac9f66)\" d=\"M 52.577045 29.453374 \nL 138.99729 29.453374 \nL 138.99729 115.873622 \nL 52.577045 115.873622 \nz\n\" style=\"fill:none;stroke:#0000ff;stroke-linejoin:miter;stroke-width:2;\"/>\n   </g>\n   <g id=\"patch_4\">\n    <path clip-path=\"url(#pa27aac9f66)\" d=\"M 66.980422 43.856747 \nL 124.593922 43.856747 \nL 124.593922 101.470247 \nL 66.980422 101.470247 \nz\n\" style=\"fill:none;stroke:#008000;stroke-linejoin:miter;stroke-width:2;\"/>\n   </g>\n   <g id=\"patch_5\">\n    <path clip-path=\"url(#pa27aac9f66)\" d=\"M 81.383797 58.260122 \nL 110.19054 58.260122 \nL 110.19054 87.066872 \nL 81.383797 87.066872 \nz\n\" style=\"fill:none;stroke:#ff0000;stroke-linejoin:miter;stroke-width:2;\"/>\n   </g>\n   <g id=\"patch_6\">\n    <path clip-path=\"url(#pa27aac9f66)\" d=\"M 34.678828 42.109327 \nL 156.895508 42.109327 \nL 156.895508 103.217669 \nL 34.678828 103.217669 \nz\n\" style=\"fill:none;stroke:#bf00bf;stroke-linejoin:miter;stroke-width:2;\"/>\n   </g>\n   <g id=\"patch_7\">\n    <path clip-path=\"url(#pa27aac9f66)\" d=\"M 65.232999 11.555156 \nL 126.341344 11.555156 \nL 126.341344 133.77184 \nL 65.232999 133.77184 \nz\n\" style=\"fill:none;stroke:#00bfbf;stroke-linejoin:miter;stroke-width:2;\"/>\n   </g>\n   <g id=\"matplotlib.axis_1\">\n    <g id=\"xtick_1\">\n     <g id=\"line2d_1\">\n      <defs>\n       <path d=\"M 0 0 \nL 0 3.5 \n\" id=\"med852bd6d6\" style=\"stroke:#000000;stroke-width:0.8;\"/>\n      </defs>\n      <g>\n       <use style=\"stroke:#000000;stroke-width:0.8;\" x=\"34.63386\" xlink:href=\"#med852bd6d6\" y=\"126.615122\"/>\n      </g>\n     </g>\n     <g id=\"text_1\">\n      <!-- 0 -->\n      <defs>\n       <path d=\"M 31.78125 66.40625 \nQ 24.171875 66.40625 20.328125 58.90625 \nQ 16.5 51.421875 16.5 36.375 \nQ 16.5 21.390625 20.328125 13.890625 \nQ 24.171875 6.390625 31.78125 6.390625 \nQ 39.453125 6.390625 43.28125 13.890625 \nQ 47.125 21.390625 47.125 36.375 \nQ 47.125 51.421875 43.28125 58.90625 \nQ 39.453125 66.40625 31.78125 66.40625 \nz\nM 31.78125 74.21875 \nQ 44.046875 74.21875 50.515625 64.515625 \nQ 56.984375 54.828125 56.984375 36.375 \nQ 56.984375 17.96875 50.515625 8.265625 \nQ 44.046875 -1.421875 31.78125 -1.421875 \nQ 19.53125 -1.421875 13.0625 8.265625 \nQ 6.59375 17.96875 6.59375 36.375 \nQ 6.59375 54.828125 13.0625 64.515625 \nQ 19.53125 74.21875 31.78125 74.21875 \nz\n\" id=\"DejaVuSans-48\"/>\n      </defs>\n      <g transform=\"translate(31.45261 141.213559)scale(0.1 -0.1)\">\n       <use xlink:href=\"#DejaVuSans-48\"/>\n      </g>\n     </g>\n    </g>\n    <g id=\"xtick_2\">\n     <g id=\"line2d_2\">\n      <g>\n       <use style=\"stroke:#000000;stroke-width:0.8;\" x=\"83.45886\" xlink:href=\"#med852bd6d6\" y=\"126.615122\"/>\n      </g>\n     </g>\n     <g id=\"text_2\">\n      <!-- 200 -->\n      <defs>\n       <path d=\"M 19.1875 8.296875 \nL 53.609375 8.296875 \nL 53.609375 0 \nL 7.328125 0 \nL 7.328125 8.296875 \nQ 12.9375 14.109375 22.625 23.890625 \nQ 32.328125 33.6875 34.8125 36.53125 \nQ 39.546875 41.84375 41.421875 45.53125 \nQ 43.3125 49.21875 43.3125 52.78125 \nQ 43.3125 58.59375 39.234375 62.25 \nQ 35.15625 65.921875 28.609375 65.921875 \nQ 23.96875 65.921875 18.8125 64.3125 \nQ 13.671875 62.703125 7.8125 59.421875 \nL 7.8125 69.390625 \nQ 13.765625 71.78125 18.9375 73 \nQ 24.125 74.21875 28.421875 74.21875 \nQ 39.75 74.21875 46.484375 68.546875 \nQ 53.21875 62.890625 53.21875 53.421875 \nQ 53.21875 48.921875 51.53125 44.890625 \nQ 49.859375 40.875 45.40625 35.40625 \nQ 44.1875 33.984375 37.640625 27.21875 \nQ 31.109375 20.453125 19.1875 8.296875 \nz\n\" id=\"DejaVuSans-50\"/>\n      </defs>\n      <g transform=\"translate(73.91511 141.213559)scale(0.1 -0.1)\">\n       <use xlink:href=\"#DejaVuSans-50\"/>\n       <use x=\"63.623047\" xlink:href=\"#DejaVuSans-48\"/>\n       <use x=\"127.246094\" xlink:href=\"#DejaVuSans-48\"/>\n      </g>\n     </g>\n    </g>\n    <g id=\"xtick_3\">\n     <g id=\"line2d_3\">\n      <g>\n       <use style=\"stroke:#000000;stroke-width:0.8;\" x=\"132.28386\" xlink:href=\"#med852bd6d6\" y=\"126.615122\"/>\n      </g>\n     </g>\n     <g id=\"text_3\">\n      <!-- 400 -->\n      <defs>\n       <path d=\"M 37.796875 64.3125 \nL 12.890625 25.390625 \nL 37.796875 25.390625 \nz\nM 35.203125 72.90625 \nL 47.609375 72.90625 \nL 47.609375 25.390625 \nL 58.015625 25.390625 \nL 58.015625 17.1875 \nL 47.609375 17.1875 \nL 47.609375 0 \nL 37.796875 0 \nL 37.796875 17.1875 \nL 4.890625 17.1875 \nL 4.890625 26.703125 \nz\n\" id=\"DejaVuSans-52\"/>\n      </defs>\n      <g transform=\"translate(122.74011 141.213559)scale(0.1 -0.1)\">\n       <use xlink:href=\"#DejaVuSans-52\"/>\n       <use x=\"63.623047\" xlink:href=\"#DejaVuSans-48\"/>\n       <use x=\"127.246094\" xlink:href=\"#DejaVuSans-48\"/>\n      </g>\n     </g>\n    </g>\n    <g id=\"xtick_4\">\n     <g id=\"line2d_4\">\n      <g>\n       <use style=\"stroke:#000000;stroke-width:0.8;\" x=\"181.10886\" xlink:href=\"#med852bd6d6\" y=\"126.615122\"/>\n      </g>\n     </g>\n     <g id=\"text_4\">\n      <!-- 600 -->\n      <defs>\n       <path d=\"M 33.015625 40.375 \nQ 26.375 40.375 22.484375 35.828125 \nQ 18.609375 31.296875 18.609375 23.390625 \nQ 18.609375 15.53125 22.484375 10.953125 \nQ 26.375 6.390625 33.015625 6.390625 \nQ 39.65625 6.390625 43.53125 10.953125 \nQ 47.40625 15.53125 47.40625 23.390625 \nQ 47.40625 31.296875 43.53125 35.828125 \nQ 39.65625 40.375 33.015625 40.375 \nz\nM 52.59375 71.296875 \nL 52.59375 62.3125 \nQ 48.875 64.0625 45.09375 64.984375 \nQ 41.3125 65.921875 37.59375 65.921875 \nQ 27.828125 65.921875 22.671875 59.328125 \nQ 17.53125 52.734375 16.796875 39.40625 \nQ 19.671875 43.65625 24.015625 45.921875 \nQ 28.375 48.1875 33.59375 48.1875 \nQ 44.578125 48.1875 50.953125 41.515625 \nQ 57.328125 34.859375 57.328125 23.390625 \nQ 57.328125 12.15625 50.6875 5.359375 \nQ 44.046875 -1.421875 33.015625 -1.421875 \nQ 20.359375 -1.421875 13.671875 8.265625 \nQ 6.984375 17.96875 6.984375 36.375 \nQ 6.984375 53.65625 15.1875 63.9375 \nQ 23.390625 74.21875 37.203125 74.21875 \nQ 40.921875 74.21875 44.703125 73.484375 \nQ 48.484375 72.75 52.59375 71.296875 \nz\n\" id=\"DejaVuSans-54\"/>\n      </defs>\n      <g transform=\"translate(171.56511 141.213559)scale(0.1 -0.1)\">\n       <use xlink:href=\"#DejaVuSans-54\"/>\n       <use x=\"63.623047\" xlink:href=\"#DejaVuSans-48\"/>\n       <use x=\"127.246094\" xlink:href=\"#DejaVuSans-48\"/>\n      </g>\n     </g>\n    </g>\n   </g>\n   <g id=\"matplotlib.axis_2\">\n    <g id=\"ytick_1\">\n     <g id=\"line2d_5\">\n      <defs>\n       <path d=\"M 0 0 \nL -3.5 0 \n\" id=\"m4de812aba4\" style=\"stroke:#000000;stroke-width:0.8;\"/>\n      </defs>\n      <g>\n       <use style=\"stroke:#000000;stroke-width:0.8;\" x=\"34.511797\" xlink:href=\"#m4de812aba4\" y=\"11.510184\"/>\n      </g>\n     </g>\n     <g id=\"text_5\">\n      <!-- 0 -->\n      <g transform=\"translate(21.149297 15.309403)scale(0.1 -0.1)\">\n       <use xlink:href=\"#DejaVuSans-48\"/>\n      </g>\n     </g>\n    </g>\n    <g id=\"ytick_2\">\n     <g id=\"line2d_6\">\n      <g>\n       <use style=\"stroke:#000000;stroke-width:0.8;\" x=\"34.511797\" xlink:href=\"#m4de812aba4\" y=\"35.922684\"/>\n      </g>\n     </g>\n     <g id=\"text_6\">\n      <!-- 100 -->\n      <defs>\n       <path d=\"M 12.40625 8.296875 \nL 28.515625 8.296875 \nL 28.515625 63.921875 \nL 10.984375 60.40625 \nL 10.984375 69.390625 \nL 28.421875 72.90625 \nL 38.28125 72.90625 \nL 38.28125 8.296875 \nL 54.390625 8.296875 \nL 54.390625 0 \nL 12.40625 0 \nz\n\" id=\"DejaVuSans-49\"/>\n      </defs>\n      <g transform=\"translate(8.424297 39.721903)scale(0.1 -0.1)\">\n       <use xlink:href=\"#DejaVuSans-49\"/>\n       <use x=\"63.623047\" xlink:href=\"#DejaVuSans-48\"/>\n       <use x=\"127.246094\" xlink:href=\"#DejaVuSans-48\"/>\n      </g>\n     </g>\n    </g>\n    <g id=\"ytick_3\">\n     <g id=\"line2d_7\">\n      <g>\n       <use style=\"stroke:#000000;stroke-width:0.8;\" x=\"34.511797\" xlink:href=\"#m4de812aba4\" y=\"60.335184\"/>\n      </g>\n     </g>\n     <g id=\"text_7\">\n      <!-- 200 -->\n      <g transform=\"translate(8.424297 64.134403)scale(0.1 -0.1)\">\n       <use xlink:href=\"#DejaVuSans-50\"/>\n       <use x=\"63.623047\" xlink:href=\"#DejaVuSans-48\"/>\n       <use x=\"127.246094\" xlink:href=\"#DejaVuSans-48\"/>\n      </g>\n     </g>\n    </g>\n    <g id=\"ytick_4\">\n     <g id=\"line2d_8\">\n      <g>\n       <use style=\"stroke:#000000;stroke-width:0.8;\" x=\"34.511797\" xlink:href=\"#m4de812aba4\" y=\"84.747684\"/>\n      </g>\n     </g>\n     <g id=\"text_8\">\n      <!-- 300 -->\n      <defs>\n       <path d=\"M 40.578125 39.3125 \nQ 47.65625 37.796875 51.625 33 \nQ 55.609375 28.21875 55.609375 21.1875 \nQ 55.609375 10.40625 48.1875 4.484375 \nQ 40.765625 -1.421875 27.09375 -1.421875 \nQ 22.515625 -1.421875 17.65625 -0.515625 \nQ 12.796875 0.390625 7.625 2.203125 \nL 7.625 11.71875 \nQ 11.71875 9.328125 16.59375 8.109375 \nQ 21.484375 6.890625 26.8125 6.890625 \nQ 36.078125 6.890625 40.9375 10.546875 \nQ 45.796875 14.203125 45.796875 21.1875 \nQ 45.796875 27.640625 41.28125 31.265625 \nQ 36.765625 34.90625 28.71875 34.90625 \nL 20.21875 34.90625 \nL 20.21875 43.015625 \nL 29.109375 43.015625 \nQ 36.375 43.015625 40.234375 45.921875 \nQ 44.09375 48.828125 44.09375 54.296875 \nQ 44.09375 59.90625 40.109375 62.90625 \nQ 36.140625 65.921875 28.71875 65.921875 \nQ 24.65625 65.921875 20.015625 65.03125 \nQ 15.375 64.15625 9.8125 62.3125 \nL 9.8125 71.09375 \nQ 15.4375 72.65625 20.34375 73.4375 \nQ 25.25 74.21875 29.59375 74.21875 \nQ 40.828125 74.21875 47.359375 69.109375 \nQ 53.90625 64.015625 53.90625 55.328125 \nQ 53.90625 49.265625 50.4375 45.09375 \nQ 46.96875 40.921875 40.578125 39.3125 \nz\n\" id=\"DejaVuSans-51\"/>\n      </defs>\n      <g transform=\"translate(8.424297 88.546903)scale(0.1 -0.1)\">\n       <use xlink:href=\"#DejaVuSans-51\"/>\n       <use x=\"63.623047\" xlink:href=\"#DejaVuSans-48\"/>\n       <use x=\"127.246094\" xlink:href=\"#DejaVuSans-48\"/>\n      </g>\n     </g>\n    </g>\n    <g id=\"ytick_5\">\n     <g id=\"line2d_9\">\n      <g>\n       <use style=\"stroke:#000000;stroke-width:0.8;\" x=\"34.511797\" xlink:href=\"#m4de812aba4\" y=\"109.160184\"/>\n      </g>\n     </g>\n     <g id=\"text_9\">\n      <!-- 400 -->\n      <g transform=\"translate(8.424297 112.959403)scale(0.1 -0.1)\">\n       <use xlink:href=\"#DejaVuSans-52\"/>\n       <use x=\"63.623047\" xlink:href=\"#DejaVuSans-48\"/>\n       <use x=\"127.246094\" xlink:href=\"#DejaVuSans-48\"/>\n      </g>\n     </g>\n    </g>\n   </g>\n   <g id=\"patch_8\">\n    <path d=\"M 34.511797 126.615122 \nL 34.511797 11.388122 \n\" style=\"fill:none;stroke:#000000;stroke-linecap:square;stroke-linejoin:miter;stroke-width:0.8;\"/>\n   </g>\n   <g id=\"patch_9\">\n    <path d=\"M 229.811797 126.615122 \nL 229.811797 11.388122 \n\" style=\"fill:none;stroke:#000000;stroke-linecap:square;stroke-linejoin:miter;stroke-width:0.8;\"/>\n   </g>\n   <g id=\"patch_10\">\n    <path d=\"M 34.511797 126.615122 \nL 229.811797 126.615122 \n\" style=\"fill:none;stroke:#000000;stroke-linecap:square;stroke-linejoin:miter;stroke-width:0.8;\"/>\n   </g>\n   <g id=\"patch_11\">\n    <path d=\"M 34.511797 11.388122 \nL 229.811797 11.388122 \n\" style=\"fill:none;stroke:#000000;stroke-linecap:square;stroke-linejoin:miter;stroke-width:0.8;\"/>\n   </g>\n   <g id=\"text_10\">\n    <g id=\"patch_12\">\n     <path d=\"M 21.138217 37.76853 \nL 84.015874 37.76853 \nL 84.015874 21.138217 \nL 21.138217 21.138217 \nz\n\" style=\"fill:#0000ff;\"/>\n    </g>\n    <!-- s=0.75, r=1 -->\n    <defs>\n     <path d=\"M 44.28125 53.078125 \nL 44.28125 44.578125 \nQ 40.484375 46.53125 36.375 47.5 \nQ 32.28125 48.484375 27.875 48.484375 \nQ 21.1875 48.484375 17.84375 46.4375 \nQ 14.5 44.390625 14.5 40.28125 \nQ 14.5 37.15625 16.890625 35.375 \nQ 19.28125 33.59375 26.515625 31.984375 \nL 29.59375 31.296875 \nQ 39.15625 29.25 43.1875 25.515625 \nQ 47.21875 21.78125 47.21875 15.09375 \nQ 47.21875 7.46875 41.1875 3.015625 \nQ 35.15625 -1.421875 24.609375 -1.421875 \nQ 20.21875 -1.421875 15.453125 -0.5625 \nQ 10.6875 0.296875 5.421875 2 \nL 5.421875 11.28125 \nQ 10.40625 8.6875 15.234375 7.390625 \nQ 20.0625 6.109375 24.8125 6.109375 \nQ 31.15625 6.109375 34.5625 8.28125 \nQ 37.984375 10.453125 37.984375 14.40625 \nQ 37.984375 18.0625 35.515625 20.015625 \nQ 33.0625 21.96875 24.703125 23.78125 \nL 21.578125 24.515625 \nQ 13.234375 26.265625 9.515625 29.90625 \nQ 5.8125 33.546875 5.8125 39.890625 \nQ 5.8125 47.609375 11.28125 51.796875 \nQ 16.75 56 26.8125 56 \nQ 31.78125 56 36.171875 55.265625 \nQ 40.578125 54.546875 44.28125 53.078125 \nz\n\" id=\"DejaVuSans-115\"/>\n     <path d=\"M 10.59375 45.40625 \nL 73.1875 45.40625 \nL 73.1875 37.203125 \nL 10.59375 37.203125 \nz\nM 10.59375 25.484375 \nL 73.1875 25.484375 \nL 73.1875 17.1875 \nL 10.59375 17.1875 \nz\n\" id=\"DejaVuSans-61\"/>\n     <path d=\"M 10.6875 12.40625 \nL 21 12.40625 \nL 21 0 \nL 10.6875 0 \nz\n\" id=\"DejaVuSans-46\"/>\n     <path d=\"M 8.203125 72.90625 \nL 55.078125 72.90625 \nL 55.078125 68.703125 \nL 28.609375 0 \nL 18.3125 0 \nL 43.21875 64.59375 \nL 8.203125 64.59375 \nz\n\" id=\"DejaVuSans-55\"/>\n     <path d=\"M 10.796875 72.90625 \nL 49.515625 72.90625 \nL 49.515625 64.59375 \nL 19.828125 64.59375 \nL 19.828125 46.734375 \nQ 21.96875 47.46875 24.109375 47.828125 \nQ 26.265625 48.1875 28.421875 48.1875 \nQ 40.625 48.1875 47.75 41.5 \nQ 54.890625 34.8125 54.890625 23.390625 \nQ 54.890625 11.625 47.5625 5.09375 \nQ 40.234375 -1.421875 26.90625 -1.421875 \nQ 22.3125 -1.421875 17.546875 -0.640625 \nQ 12.796875 0.140625 7.71875 1.703125 \nL 7.71875 11.625 \nQ 12.109375 9.234375 16.796875 8.0625 \nQ 21.484375 6.890625 26.703125 6.890625 \nQ 35.15625 6.890625 40.078125 11.328125 \nQ 45.015625 15.765625 45.015625 23.390625 \nQ 45.015625 31 40.078125 35.4375 \nQ 35.15625 39.890625 26.703125 39.890625 \nQ 22.75 39.890625 18.8125 39.015625 \nQ 14.890625 38.140625 10.796875 36.28125 \nz\n\" id=\"DejaVuSans-53\"/>\n     <path d=\"M 11.71875 12.40625 \nL 22.015625 12.40625 \nL 22.015625 4 \nL 14.015625 -11.625 \nL 7.71875 -11.625 \nL 11.71875 4 \nz\n\" id=\"DejaVuSans-44\"/>\n     <path id=\"DejaVuSans-32\"/>\n     <path d=\"M 41.109375 46.296875 \nQ 39.59375 47.171875 37.8125 47.578125 \nQ 36.03125 48 33.890625 48 \nQ 26.265625 48 22.1875 43.046875 \nQ 18.109375 38.09375 18.109375 28.8125 \nL 18.109375 0 \nL 9.078125 0 \nL 9.078125 54.6875 \nL 18.109375 54.6875 \nL 18.109375 46.1875 \nQ 20.953125 51.171875 25.484375 53.578125 \nQ 30.03125 56 36.53125 56 \nQ 37.453125 56 38.578125 55.875 \nQ 39.703125 55.765625 41.0625 55.515625 \nz\n\" id=\"DejaVuSans-114\"/>\n    </defs>\n    <g style=\"fill:#ffffff;\" transform=\"translate(25.098217 31.936811)scale(0.09 -0.09)\">\n     <use xlink:href=\"#DejaVuSans-115\"/>\n     <use x=\"52.099609\" xlink:href=\"#DejaVuSans-61\"/>\n     <use x=\"135.888672\" xlink:href=\"#DejaVuSans-48\"/>\n     <use x=\"199.511719\" xlink:href=\"#DejaVuSans-46\"/>\n     <use x=\"231.298828\" xlink:href=\"#DejaVuSans-55\"/>\n     <use x=\"294.921875\" xlink:href=\"#DejaVuSans-53\"/>\n     <use x=\"358.544922\" xlink:href=\"#DejaVuSans-44\"/>\n     <use x=\"390.332031\" xlink:href=\"#DejaVuSans-32\"/>\n     <use x=\"422.119141\" xlink:href=\"#DejaVuSans-114\"/>\n     <use x=\"463.232422\" xlink:href=\"#DejaVuSans-61\"/>\n     <use x=\"547.021484\" xlink:href=\"#DejaVuSans-49\"/>\n    </g>\n   </g>\n   <g id=\"text_11\">\n    <g id=\"patch_13\">\n     <path d=\"M 38.404719 52.171903 \nL 95.556125 52.171903 \nL 95.556125 35.54159 \nL 38.404719 35.54159 \nz\n\" style=\"fill:#008000;\"/>\n    </g>\n    <!-- s=0.5, r=1 -->\n    <g style=\"fill:#ffffff;\" transform=\"translate(42.364719 46.340184)scale(0.09 -0.09)\">\n     <use xlink:href=\"#DejaVuSans-115\"/>\n     <use x=\"52.099609\" xlink:href=\"#DejaVuSans-61\"/>\n     <use x=\"135.888672\" xlink:href=\"#DejaVuSans-48\"/>\n     <use x=\"199.511719\" xlink:href=\"#DejaVuSans-46\"/>\n     <use x=\"231.298828\" xlink:href=\"#DejaVuSans-53\"/>\n     <use x=\"294.921875\" xlink:href=\"#DejaVuSans-44\"/>\n     <use x=\"326.708984\" xlink:href=\"#DejaVuSans-32\"/>\n     <use x=\"358.496094\" xlink:href=\"#DejaVuSans-114\"/>\n     <use x=\"399.609375\" xlink:href=\"#DejaVuSans-61\"/>\n     <use x=\"483.398438\" xlink:href=\"#DejaVuSans-49\"/>\n    </g>\n   </g>\n   <g id=\"text_12\">\n    <g id=\"patch_14\">\n     <path d=\"M 49.944969 66.575278 \nL 112.822625 66.575278 \nL 112.822625 49.944965 \nL 49.944969 49.944965 \nz\n\" style=\"fill:#ff0000;\"/>\n    </g>\n    <!-- s=0.25, r=1 -->\n    <g style=\"fill:#ffffff;\" transform=\"translate(53.904969 60.743559)scale(0.09 -0.09)\">\n     <use xlink:href=\"#DejaVuSans-115\"/>\n     <use x=\"52.099609\" xlink:href=\"#DejaVuSans-61\"/>\n     <use x=\"135.888672\" xlink:href=\"#DejaVuSans-48\"/>\n     <use x=\"199.511719\" xlink:href=\"#DejaVuSans-46\"/>\n     <use x=\"231.298828\" xlink:href=\"#DejaVuSans-50\"/>\n     <use x=\"294.921875\" xlink:href=\"#DejaVuSans-53\"/>\n     <use x=\"358.544922\" xlink:href=\"#DejaVuSans-44\"/>\n     <use x=\"390.332031\" xlink:href=\"#DejaVuSans-32\"/>\n     <use x=\"422.119141\" xlink:href=\"#DejaVuSans-114\"/>\n     <use x=\"463.232422\" xlink:href=\"#DejaVuSans-61\"/>\n     <use x=\"547.021484\" xlink:href=\"#DejaVuSans-49\"/>\n    </g>\n   </g>\n   <g id=\"text_13\">\n    <g id=\"patch_15\">\n     <path d=\"M 3.24 50.424483 \nL 66.117656 50.424483 \nL 66.117656 33.79417 \nL 3.24 33.79417 \nz\n\" style=\"fill:#bf00bf;\"/>\n    </g>\n    <!-- s=0.75, r=2 -->\n    <g style=\"fill:#ffffff;\" transform=\"translate(7.2 44.592764)scale(0.09 -0.09)\">\n     <use xlink:href=\"#DejaVuSans-115\"/>\n     <use x=\"52.099609\" xlink:href=\"#DejaVuSans-61\"/>\n     <use x=\"135.888672\" xlink:href=\"#DejaVuSans-48\"/>\n     <use x=\"199.511719\" xlink:href=\"#DejaVuSans-46\"/>\n     <use x=\"231.298828\" xlink:href=\"#DejaVuSans-55\"/>\n     <use x=\"294.921875\" xlink:href=\"#DejaVuSans-53\"/>\n     <use x=\"358.544922\" xlink:href=\"#DejaVuSans-44\"/>\n     <use x=\"390.332031\" xlink:href=\"#DejaVuSans-32\"/>\n     <use x=\"422.119141\" xlink:href=\"#DejaVuSans-114\"/>\n     <use x=\"463.232422\" xlink:href=\"#DejaVuSans-61\"/>\n     <use x=\"547.021484\" xlink:href=\"#DejaVuSans-50\"/>\n    </g>\n   </g>\n   <g id=\"text_14\">\n    <g id=\"patch_16\">\n     <path d=\"M 29.500889 19.870313 \nL 100.965108 19.870313 \nL 100.965108 3.24 \nL 29.500889 3.24 \nz\n\" style=\"fill:#00bfbf;\"/>\n    </g>\n    <!-- s=0.75, r=0.5 -->\n    <g style=\"fill:#ffffff;\" transform=\"translate(33.460889 14.038594)scale(0.09 -0.09)\">\n     <use xlink:href=\"#DejaVuSans-115\"/>\n     <use x=\"52.099609\" xlink:href=\"#DejaVuSans-61\"/>\n     <use x=\"135.888672\" xlink:href=\"#DejaVuSans-48\"/>\n     <use x=\"199.511719\" xlink:href=\"#DejaVuSans-46\"/>\n     <use x=\"231.298828\" xlink:href=\"#DejaVuSans-55\"/>\n     <use x=\"294.921875\" xlink:href=\"#DejaVuSans-53\"/>\n     <use x=\"358.544922\" xlink:href=\"#DejaVuSans-44\"/>\n     <use x=\"390.332031\" xlink:href=\"#DejaVuSans-32\"/>\n     <use x=\"422.119141\" xlink:href=\"#DejaVuSans-114\"/>\n     <use x=\"463.232422\" xlink:href=\"#DejaVuSans-61\"/>\n     <use x=\"547.021484\" xlink:href=\"#DejaVuSans-48\"/>\n     <use x=\"610.644531\" xlink:href=\"#DejaVuSans-46\"/>\n     <use x=\"642.431641\" xlink:href=\"#DejaVuSans-53\"/>\n    </g>\n   </g>\n  </g>\n </g>\n <defs>\n  <clipPath id=\"pa27aac9f66\">\n   <rect height=\"115.227\" width=\"195.3\" x=\"34.511797\" y=\"11.388122\"/>\n  </clipPath>\n </defs>\n</svg>\n"
          },
          "metadata": {
            "needs_background": "light"
          }
        }
      ],
      "source": [
        "d2l.set_figsize()\n",
        "bbox_scale = torch.tensor((w, h, w, h))\n",
        "fig = d2l.plt.imshow(img)\n",
        "show_bboxes(fig.axes, boxes[250, 250, :, :] * bbox_scale,\n",
        "            ['s=0.75, r=1', 's=0.5, r=1', 's=0.25, r=1', 's=0.75, r=2',\n",
        "             's=0.75, r=0.5'])"
      ]
    },
    {
      "cell_type": "markdown",
      "id": "22d07918",
      "metadata": {
        "origin_pos": 15,
        "id": "22d07918"
      },
      "source": [
        "## [**Intersection over Union (IoU)**]\n",
        "\n",
        "We just mentioned that an anchor box \"well\" surrounds the dog in the image.\n",
        "If the ground-truth bounding box of the object is known, how can \"well\" here be quantified?\n",
        "Intuitively, we can measure the similarity between\n",
        "the anchor box and the ground-truth bounding box.\n",
        "We know that the *Jaccard index* can measure the similarity between two sets. Given sets $\\mathcal{A}$ and $\\mathcal{B}$, their Jaccard index is the size of their intersection divided by the size of their union:\n",
        "\n",
        "$$J(\\mathcal{A},\\mathcal{B}) = \\frac{\\left|\\mathcal{A} \\cap \\mathcal{B}\\right|}{\\left| \\mathcal{A} \\cup \\mathcal{B}\\right|}.$$\n",
        "\n",
        "\n",
        "In fact, we can consider the pixel area of any bounding box as a set of pixels. \n",
        "In this way, we can measure the similarity of the two bounding boxes by the Jaccard index of their pixel sets. For two bounding boxes, we usually refer their Jaccard index as *intersection over union* (*IoU*), which is the ratio of their intersection area to their union area, as shown in :numref:`fig_iou`.\n",
        "The range of an IoU is between 0 and 1:\n",
        "0 means that two bounding boxes do not overlap at all,\n",
        "while 1 indicates that the two bounding boxes are equal.\n",
        "\n",
        "![IoU is the ratio of the intersection area to the union area of two bounding boxes.](http://d2l.ai/_images/iou.svg)\n",
        ":label:`fig_iou`\n",
        "\n",
        "For the remainder of this section, we will use IoU to measure the similarity between anchor boxes and ground-truth bounding boxes, and between different anchor boxes.\n",
        "Given two lists of anchor or bounding boxes,\n",
        "the following `box_iou` computes their pairwise IoU\n",
        "across these two lists.\n"
      ]
    },
    {
      "cell_type": "code",
      "execution_count": 8,
      "id": "2499b66d",
      "metadata": {
        "execution": {
          "iopub.execute_input": "2022-09-07T22:12:50.417794Z",
          "iopub.status.busy": "2022-09-07T22:12:50.417521Z",
          "iopub.status.idle": "2022-09-07T22:12:50.424210Z",
          "shell.execute_reply": "2022-09-07T22:12:50.423449Z"
        },
        "origin_pos": 17,
        "tab": [
          "pytorch"
        ],
        "id": "2499b66d"
      },
      "outputs": [],
      "source": [
        "#@save\n",
        "def box_iou(boxes1, boxes2):\n",
        "    \"\"\"Compute pairwise IoU across two lists of anchor or bounding boxes.\"\"\"\n",
        "    box_area = lambda boxes: ((boxes[:, 2] - boxes[:, 0]) *\n",
        "                              (boxes[:, 3] - boxes[:, 1]))\n",
        "    # Shape of `boxes1`, `boxes2`, `areas1`, `areas2`: (no. of boxes1, 4),\n",
        "    # (no. of boxes2, 4), (no. of boxes1,), (no. of boxes2,)\n",
        "    areas1 = box_area(boxes1)\n",
        "    areas2 = box_area(boxes2)\n",
        "    # Shape of `inter_upperlefts`, `inter_lowerrights`, `inters`: (no. of\n",
        "    # boxes1, no. of boxes2, 2)\n",
        "    inter_upperlefts = torch.max(boxes1[:, None, :2], boxes2[:, :2])\n",
        "    inter_lowerrights = torch.min(boxes1[:, None, 2:], boxes2[:, 2:])\n",
        "    inters = (inter_lowerrights - inter_upperlefts).clamp(min=0)\n",
        "    # Shape of `inter_areas` and `union_areas`: (no. of boxes1, no. of boxes2)\n",
        "    inter_areas = inters[:, :, 0] * inters[:, :, 1]\n",
        "    union_areas = areas1[:, None] + areas2 - inter_areas\n",
        "    return inter_areas / union_areas"
      ]
    },
    {
      "cell_type": "markdown",
      "id": "63b07063",
      "metadata": {
        "origin_pos": 18,
        "id": "63b07063"
      },
      "source": [
        "## Labeling Anchor Boxes in Training Data\n",
        ":label:`subsec_labeling-anchor-boxes`\n",
        "\n",
        "\n",
        "In a training dataset,\n",
        "we consider each anchor box as a training example.\n",
        "In order to train an object detection model,\n",
        "we need *class* and *offset* labels for each anchor box,\n",
        "where the former is\n",
        "the class of the object relevant to the anchor box\n",
        "and the latter is the offset\n",
        "of the ground-truth bounding box relative to the anchor box.\n",
        "During the prediction,\n",
        "for each image\n",
        "we generate multiple anchor boxes,\n",
        "predict classes and offsets for all the anchor boxes,\n",
        "adjust their positions according to the predicted offsets to obtain the predicted bounding boxes,\n",
        "and finally only output those \n",
        "predicted bounding boxes that satisfy certain criteria.\n",
        "\n",
        "\n",
        "As we know, an object detection training set\n",
        "comes with labels for\n",
        "locations of *ground-truth bounding boxes*\n",
        "and classes of their surrounded objects.\n",
        "To label any generated *anchor box*,\n",
        "we refer to the labeled\n",
        "location and class of its *assigned* ground-truth bounding box that is closest to the anchor box.\n",
        "In the following,\n",
        "we describe an algorithm for assigning\n",
        "closest ground-truth bounding boxes to anchor boxes. \n",
        "\n",
        "### [**Assigning Ground-Truth Bounding Boxes to Anchor Boxes**]\n",
        "\n",
        "Given an image,\n",
        "suppose that the anchor boxes are $A_1, A_2, \\ldots, A_{n_a}$ and the ground-truth bounding boxes are $B_1, B_2, \\ldots, B_{n_b}$, where $n_a \\geq n_b$.\n",
        "Let's define a matrix $\\mathbf{X} \\in \\mathbb{R}^{n_a \\times n_b}$, whose element $x_{ij}$ in the $i^\\mathrm{th}$ row and $j^\\mathrm{th}$ column is the IoU of the anchor box $A_i$ and the ground-truth bounding box $B_j$. The algorithm consists of the following steps:\n",
        "\n",
        "1. Find the largest element in matrix $\\mathbf{X}$ and denote its row and column indices as $i_1$ and $j_1$, respectively. Then the ground-truth bounding box $B_{j_1}$ is assigned to the anchor box $A_{i_1}$. This is quite intuitive because $A_{i_1}$ and $B_{j_1}$ are the closest among all the pairs of anchor boxes and ground-truth bounding boxes. After the first assignment, discard all the elements in the ${i_1}^\\mathrm{th}$ row and the ${j_1}^\\mathrm{th}$ column in matrix $\\mathbf{X}$. \n",
        "1. Find the largest of the remaining elements in matrix $\\mathbf{X}$ and denote its row and column indices as $i_2$ and $j_2$, respectively. We assign ground-truth bounding box $B_{j_2}$ to anchor box $A_{i_2}$ and discard all the elements in the ${i_2}^\\mathrm{th}$ row and the ${j_2}^\\mathrm{th}$ column in matrix $\\mathbf{X}$.\n",
        "1. At this point, elements in two rows and two columns in  matrix $\\mathbf{X}$ have been discarded. We proceed until all elements in $n_b$ columns in matrix $\\mathbf{X}$ are discarded. At this time, we have assigned a ground-truth bounding box to each of $n_b$ anchor boxes.\n",
        "1. Only traverse through the remaining $n_a - n_b$ anchor boxes. For example, given any anchor box $A_i$, find the ground-truth bounding box $B_j$ with the largest IoU with $A_i$ throughout the $i^\\mathrm{th}$ row of matrix $\\mathbf{X}$, and assign $B_j$ to $A_i$ only if this IoU is greater than a predefined threshold.\n",
        "\n",
        "Let's illustrate the above algorithm using a concrete\n",
        "example.\n",
        "As shown in :numref:`fig_anchor_label` (left), assuming that the maximum value in matrix $\\mathbf{X}$ is $x_{23}$, we assign the ground-truth bounding box $B_3$ to the anchor box $A_2$.\n",
        "Then, we discard all the elements in row 2 and column 3 of the matrix, find the largest $x_{71}$ in the remaining  elements (shaded area), and assign the ground-truth bounding box $B_1$ to the anchor box $A_7$. \n",
        "Next, as shown in :numref:`fig_anchor_label` (middle), discard all the elements in row 7 and column 1 of the matrix, find the largest $x_{54}$ in the remaining  elements (shaded area), and assign the ground-truth bounding box $B_4$ to the anchor box $A_5$. \n",
        "Finally, as shown in :numref:`fig_anchor_label` (right), discard all the elements in row 5 and column 4 of the matrix, find the largest $x_{92}$ in the remaining elements (shaded area), and assign the ground-truth bounding box $B_2$ to the anchor box $A_9$.\n",
        "After that, we only need to traverse through\n",
        "the remaining anchor boxes $A_1, A_3, A_4, A_6, A_8$ and determine whether to assign them ground-truth bounding boxes according to the threshold.\n",
        "\n",
        "![Assigning ground-truth bounding boxes to anchor boxes.](https://github.com/d2l-ai/d2l-pytorch-colab/blob/master/img/anchor-label.svg?raw=1)\n",
        ":label:`fig_anchor_label`\n",
        "\n",
        "This algorithm is implemented in the following `assign_anchor_to_bbox` function.\n"
      ]
    },
    {
      "cell_type": "code",
      "execution_count": 9,
      "id": "2036216f",
      "metadata": {
        "execution": {
          "iopub.execute_input": "2022-09-07T22:12:50.428657Z",
          "iopub.status.busy": "2022-09-07T22:12:50.428389Z",
          "iopub.status.idle": "2022-09-07T22:12:50.435597Z",
          "shell.execute_reply": "2022-09-07T22:12:50.434812Z"
        },
        "origin_pos": 20,
        "tab": [
          "pytorch"
        ],
        "id": "2036216f"
      },
      "outputs": [],
      "source": [
        "#@save\n",
        "def assign_anchor_to_bbox(ground_truth, anchors, device, iou_threshold=0.5):\n",
        "    \"\"\"Assign closest ground-truth bounding boxes to anchor boxes.\"\"\"\n",
        "    num_anchors, num_gt_boxes = anchors.shape[0], ground_truth.shape[0]\n",
        "    # Element x_ij in the i-th row and j-th column is the IoU of the anchor\n",
        "    # box i and the ground-truth bounding box j\n",
        "    jaccard = box_iou(anchors, ground_truth)\n",
        "    # Initialize the tensor to hold the assigned ground-truth bounding box for\n",
        "    # each anchor\n",
        "    anchors_bbox_map = torch.full((num_anchors,), -1, dtype=torch.long,\n",
        "                                  device=device)\n",
        "    # Assign ground-truth bounding boxes according to the threshold\n",
        "    max_ious, indices = torch.max(jaccard, dim=1)\n",
        "    anc_i = torch.nonzero(max_ious >= iou_threshold).reshape(-1)\n",
        "    box_j = indices[max_ious >= iou_threshold]\n",
        "    anchors_bbox_map[anc_i] = box_j\n",
        "    col_discard = torch.full((num_anchors,), -1)\n",
        "    row_discard = torch.full((num_gt_boxes,), -1)\n",
        "    for _ in range(num_gt_boxes):\n",
        "        max_idx = torch.argmax(jaccard)  # Find the largest IoU\n",
        "        box_idx = (max_idx % num_gt_boxes).long()\n",
        "        anc_idx = (max_idx / num_gt_boxes).long()\n",
        "        anchors_bbox_map[anc_idx] = box_idx\n",
        "        jaccard[:, box_idx] = col_discard\n",
        "        jaccard[anc_idx, :] = row_discard\n",
        "    return anchors_bbox_map"
      ]
    },
    {
      "cell_type": "markdown",
      "id": "9c10ba89",
      "metadata": {
        "origin_pos": 21,
        "id": "9c10ba89"
      },
      "source": [
        "### Labeling Classes and Offsets\n",
        "\n",
        "Now we can label the class and offset for each anchor box. Suppose that an anchor box $A$ is assigned\n",
        "a ground-truth bounding box $B$. \n",
        "On the one hand,\n",
        "the class of the anchor box $A$ will be\n",
        "labeled as that of $B$.\n",
        "On the other hand,\n",
        "the offset of the anchor box $A$ \n",
        "will be labeled according to the \n",
        "relative position between\n",
        "the central coordinates of $B$ and $A$\n",
        "together with the relative size between\n",
        "these two boxes.\n",
        "Given varying\n",
        "positions and sizes of different boxes in the dataset,\n",
        "we can apply transformations\n",
        "to those relative positions and sizes\n",
        "that may lead to \n",
        "more uniformly distributed offsets\n",
        "that are easier to fit.\n",
        "Here we describe a common transformation.\n",
        "[**Given the central coordinates of $A$ and $B$ as $(x_a, y_a)$ and $(x_b, y_b)$, \n",
        "their widths as $w_a$ and $w_b$, \n",
        "and their heights as $h_a$ and $h_b$, respectively. \n",
        "We may label the offset of $A$ as\n",
        "\n",
        "$$\\left( \\frac{ \\frac{x_b - x_a}{w_a} - \\mu_x }{\\sigma_x},\n",
        "\\frac{ \\frac{y_b - y_a}{h_a} - \\mu_y }{\\sigma_y},\n",
        "\\frac{ \\log \\frac{w_b}{w_a} - \\mu_w }{\\sigma_w},\n",
        "\\frac{ \\log \\frac{h_b}{h_a} - \\mu_h }{\\sigma_h}\\right),$$\n",
        "**]\n",
        "where default values of the constants are $\\mu_x = \\mu_y = \\mu_w = \\mu_h = 0, \\sigma_x=\\sigma_y=0.1$, and $\\sigma_w=\\sigma_h=0.2$.\n",
        "This transformation is implemented below in the `offset_boxes` function.\n"
      ]
    },
    {
      "cell_type": "code",
      "execution_count": 10,
      "id": "2beb2bfe",
      "metadata": {
        "execution": {
          "iopub.execute_input": "2022-09-07T22:12:50.440646Z",
          "iopub.status.busy": "2022-09-07T22:12:50.439685Z",
          "iopub.status.idle": "2022-09-07T22:12:50.445803Z",
          "shell.execute_reply": "2022-09-07T22:12:50.444828Z"
        },
        "origin_pos": 22,
        "tab": [
          "pytorch"
        ],
        "id": "2beb2bfe"
      },
      "outputs": [],
      "source": [
        "#@save\n",
        "def offset_boxes(anchors, assigned_bb, eps=1e-6):\n",
        "    \"\"\"Transform for anchor box offsets.\"\"\"\n",
        "    c_anc = d2l.box_corner_to_center(anchors)\n",
        "    c_assigned_bb = d2l.box_corner_to_center(assigned_bb)\n",
        "    offset_xy = 10 * (c_assigned_bb[:, :2] - c_anc[:, :2]) / c_anc[:, 2:]\n",
        "    offset_wh = 5 * torch.log(eps + c_assigned_bb[:, 2:] / c_anc[:, 2:])\n",
        "    offset = torch.cat([offset_xy, offset_wh], axis=1)\n",
        "    return offset"
      ]
    },
    {
      "cell_type": "markdown",
      "id": "9d61a522",
      "metadata": {
        "origin_pos": 23,
        "id": "9d61a522"
      },
      "source": [
        "If an anchor box is not assigned a ground-truth bounding box, we just label the class of the anchor box as \"background\".\n",
        "Anchor boxes whose classes are background are often referred to as *negative* anchor boxes,\n",
        "and the rest are called *positive* anchor boxes.\n",
        "We implement the following `multibox_target` function\n",
        "to [**label classes and offsets for anchor boxes**] (the `anchors` argument) using ground-truth bounding boxes (the `labels` argument).\n",
        "This function sets the background class to zero and increments the integer index of a new class by one.\n"
      ]
    },
    {
      "cell_type": "code",
      "execution_count": 11,
      "id": "06395d94",
      "metadata": {
        "execution": {
          "iopub.execute_input": "2022-09-07T22:12:50.449682Z",
          "iopub.status.busy": "2022-09-07T22:12:50.449036Z",
          "iopub.status.idle": "2022-09-07T22:12:50.457468Z",
          "shell.execute_reply": "2022-09-07T22:12:50.456718Z"
        },
        "origin_pos": 25,
        "tab": [
          "pytorch"
        ],
        "id": "06395d94"
      },
      "outputs": [],
      "source": [
        "#@save\n",
        "def multibox_target(anchors, labels):\n",
        "    \"\"\"Label anchor boxes using ground-truth bounding boxes.\"\"\"\n",
        "    batch_size, anchors = labels.shape[0], anchors.squeeze(0)\n",
        "    batch_offset, batch_mask, batch_class_labels = [], [], []\n",
        "    device, num_anchors = anchors.device, anchors.shape[0]\n",
        "    for i in range(batch_size):\n",
        "        label = labels[i, :, :]\n",
        "        anchors_bbox_map = assign_anchor_to_bbox(\n",
        "            label[:, 1:], anchors, device)\n",
        "        bbox_mask = ((anchors_bbox_map >= 0).float().unsqueeze(-1)).repeat(\n",
        "            1, 4)\n",
        "        # Initialize class labels and assigned bounding box coordinates with\n",
        "        # zeros\n",
        "        class_labels = torch.zeros(num_anchors, dtype=torch.long,\n",
        "                                   device=device)\n",
        "        assigned_bb = torch.zeros((num_anchors, 4), dtype=torch.float32,\n",
        "                                  device=device)\n",
        "        # Label classes of anchor boxes using their assigned ground-truth\n",
        "        # bounding boxes. If an anchor box is not assigned any, we label its\n",
        "        # class as background (the value remains zero)\n",
        "        indices_true = torch.nonzero(anchors_bbox_map >= 0)\n",
        "        bb_idx = anchors_bbox_map[indices_true]\n",
        "        class_labels[indices_true] = label[bb_idx, 0].long() + 1\n",
        "        assigned_bb[indices_true] = label[bb_idx, 1:]\n",
        "        # Offset transformation\n",
        "        offset = offset_boxes(anchors, assigned_bb) * bbox_mask\n",
        "        batch_offset.append(offset.reshape(-1))\n",
        "        batch_mask.append(bbox_mask.reshape(-1))\n",
        "        batch_class_labels.append(class_labels)\n",
        "    bbox_offset = torch.stack(batch_offset)\n",
        "    bbox_mask = torch.stack(batch_mask)\n",
        "    class_labels = torch.stack(batch_class_labels)\n",
        "    return (bbox_offset, bbox_mask, class_labels)"
      ]
    },
    {
      "cell_type": "markdown",
      "id": "49746dae",
      "metadata": {
        "origin_pos": 26,
        "id": "49746dae"
      },
      "source": [
        "### An Example\n",
        "\n",
        "Let's illustrate anchor box labeling\n",
        "via a concrete example.\n",
        "We define ground-truth bounding boxes for the dog and cat in the loaded image,\n",
        "where the first element is the class (0 for dog and 1 for cat) and the remaining four elements are the\n",
        "$(x, y)$-axis coordinates\n",
        "at the upper-left corner and the lower-right corner\n",
        "(range is between 0 and 1). \n",
        "We also construct five anchor boxes to be labeled\n",
        "using the coordinates of\n",
        "the upper-left corner and the lower-right corner:\n",
        "$A_0, \\ldots, A_4$ (the index starts from 0).\n",
        "Then we [**plot these ground-truth bounding boxes \n",
        "and anchor boxes \n",
        "in the image.**]\n"
      ]
    },
    {
      "cell_type": "code",
      "execution_count": 12,
      "id": "82f34e41",
      "metadata": {
        "execution": {
          "iopub.execute_input": "2022-09-07T22:12:50.461109Z",
          "iopub.status.busy": "2022-09-07T22:12:50.460459Z",
          "iopub.status.idle": "2022-09-07T22:12:50.752281Z",
          "shell.execute_reply": "2022-09-07T22:12:50.750972Z"
        },
        "origin_pos": 27,
        "tab": [
          "pytorch"
        ],
        "id": "82f34e41",
        "outputId": "ffb36af0-b3e9-4372-8e59-9382865ba24e",
        "colab": {
          "base_uri": "https://localhost:8080/",
          "height": 221
        }
      },
      "outputs": [
        {
          "output_type": "display_data",
          "data": {
            "text/plain": [
              "<Figure size 252x180 with 1 Axes>"
            ],
            "image/svg+xml": "<?xml version=\"1.0\" encoding=\"utf-8\" standalone=\"no\"?>\n<!DOCTYPE svg PUBLIC \"-//W3C//DTD SVG 1.1//EN\"\n  \"http://www.w3.org/Graphics/SVG/1.1/DTD/svg11.dtd\">\n<!-- Created with matplotlib (https://matplotlib.org/) -->\n<svg height=\"149.982281pt\" version=\"1.1\" viewBox=\"0 0 235.7875 149.982281\" width=\"235.7875pt\" xmlns=\"http://www.w3.org/2000/svg\" xmlns:xlink=\"http://www.w3.org/1999/xlink\">\n <defs>\n  <style type=\"text/css\">\n*{stroke-linecap:butt;stroke-linejoin:round;}\n  </style>\n </defs>\n <g id=\"figure_1\">\n  <g id=\"patch_1\">\n   <path d=\"M 0 149.982281 \nL 235.7875 149.982281 \nL 235.7875 0 \nL 0 0 \nz\n\" style=\"fill:none;\"/>\n  </g>\n  <g id=\"axes_1\">\n   <g id=\"patch_2\">\n    <path d=\"M 33.2875 126.104156 \nL 228.5875 126.104156 \nL 228.5875 10.877156 \nL 33.2875 10.877156 \nz\n\" style=\"fill:#ffffff;\"/>\n   </g>\n   <g clip-path=\"url(#pab3041be60)\">\n    <image height=\"116\" id=\"image350624daf0\" transform=\"scale(1 -1)translate(0 -116)\" width=\"196\" x=\"33.2875\" xlink:href=\"data:image/png;base64,\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\" y=\"-10.104156\"/>\n   </g>\n   <g id=\"patch_3\">\n    <path clip-path=\"url(#pab3041be60)\" d=\"M 52.939563 20.217378 \nL 134.965563 20.217378 \nL 134.965563 117.008064 \nL 52.939563 117.008064 \nz\n\" style=\"fill:none;stroke:#000000;stroke-linejoin:miter;stroke-width:2;\"/>\n   </g>\n   <g id=\"patch_4\">\n    <path clip-path=\"url(#pab3041be60)\" d=\"M 140.824563 34.044619 \nL 209.179563 34.044619 \nL 209.179563 112.398975 \nL 140.824563 112.398975 \nz\n\" style=\"fill:none;stroke:#000000;stroke-linejoin:miter;stroke-width:2;\"/>\n   </g>\n   <g id=\"patch_5\">\n    <path clip-path=\"url(#pab3041be60)\" d=\"M 33.409562 22.521919 \nL 72.469562 22.521919 \nL 72.469562 45.56732 \nL 33.409562 45.56732 \nz\n\" style=\"fill:none;stroke:#0000ff;stroke-linejoin:miter;stroke-width:2;\"/>\n   </g>\n   <g id=\"patch_6\">\n    <path clip-path=\"url(#pab3041be60)\" d=\"M 62.704564 34.044619 \nL 111.529562 34.044619 \nL 111.529562 57.090019 \nL 62.704564 57.090019 \nz\n\" style=\"fill:none;stroke:#008000;stroke-linejoin:miter;stroke-width:2;\"/>\n   </g>\n   <g id=\"patch_7\">\n    <path clip-path=\"url(#pab3041be60)\" d=\"M 156.448563 16.760569 \nL 205.273563 16.760569 \nL 205.273563 123.921678 \nL 156.448563 123.921678 \nz\n\" style=\"fill:none;stroke:#ff0000;stroke-linejoin:miter;stroke-width:2;\"/>\n   </g>\n   <g id=\"patch_8\">\n    <path clip-path=\"url(#pab3041be60)\" d=\"M 162.307562 62.851367 \nL 189.649563 62.851367 \nL 189.649563 103.18082 \nL 162.307562 103.18082 \nz\n\" style=\"fill:none;stroke:#bf00bf;stroke-linejoin:miter;stroke-width:2;\"/>\n   </g>\n   <g id=\"patch_9\">\n    <path clip-path=\"url(#pab3041be60)\" d=\"M 144.730562 45.56732 \nL 213.085562 45.56732 \nL 213.085562 114.703516 \nL 144.730562 114.703516 \nz\n\" style=\"fill:none;stroke:#00bfbf;stroke-linejoin:miter;stroke-width:2;\"/>\n   </g>\n   <g id=\"matplotlib.axis_1\">\n    <g id=\"xtick_1\">\n     <g id=\"line2d_1\">\n      <defs>\n       <path d=\"M 0 0 \nL 0 3.5 \n\" id=\"ma9cddf315b\" style=\"stroke:#000000;stroke-width:0.8;\"/>\n      </defs>\n      <g>\n       <use style=\"stroke:#000000;stroke-width:0.8;\" x=\"33.409562\" xlink:href=\"#ma9cddf315b\" y=\"126.104156\"/>\n      </g>\n     </g>\n     <g id=\"text_1\">\n      <!-- 0 -->\n      <defs>\n       <path d=\"M 31.78125 66.40625 \nQ 24.171875 66.40625 20.328125 58.90625 \nQ 16.5 51.421875 16.5 36.375 \nQ 16.5 21.390625 20.328125 13.890625 \nQ 24.171875 6.390625 31.78125 6.390625 \nQ 39.453125 6.390625 43.28125 13.890625 \nQ 47.125 21.390625 47.125 36.375 \nQ 47.125 51.421875 43.28125 58.90625 \nQ 39.453125 66.40625 31.78125 66.40625 \nz\nM 31.78125 74.21875 \nQ 44.046875 74.21875 50.515625 64.515625 \nQ 56.984375 54.828125 56.984375 36.375 \nQ 56.984375 17.96875 50.515625 8.265625 \nQ 44.046875 -1.421875 31.78125 -1.421875 \nQ 19.53125 -1.421875 13.0625 8.265625 \nQ 6.59375 17.96875 6.59375 36.375 \nQ 6.59375 54.828125 13.0625 64.515625 \nQ 19.53125 74.21875 31.78125 74.21875 \nz\n\" id=\"DejaVuSans-48\"/>\n      </defs>\n      <g transform=\"translate(30.228313 140.702594)scale(0.1 -0.1)\">\n       <use xlink:href=\"#DejaVuSans-48\"/>\n      </g>\n     </g>\n    </g>\n    <g id=\"xtick_2\">\n     <g id=\"line2d_2\">\n      <g>\n       <use style=\"stroke:#000000;stroke-width:0.8;\" x=\"82.234563\" xlink:href=\"#ma9cddf315b\" y=\"126.104156\"/>\n      </g>\n     </g>\n     <g id=\"text_2\">\n      <!-- 200 -->\n      <defs>\n       <path d=\"M 19.1875 8.296875 \nL 53.609375 8.296875 \nL 53.609375 0 \nL 7.328125 0 \nL 7.328125 8.296875 \nQ 12.9375 14.109375 22.625 23.890625 \nQ 32.328125 33.6875 34.8125 36.53125 \nQ 39.546875 41.84375 41.421875 45.53125 \nQ 43.3125 49.21875 43.3125 52.78125 \nQ 43.3125 58.59375 39.234375 62.25 \nQ 35.15625 65.921875 28.609375 65.921875 \nQ 23.96875 65.921875 18.8125 64.3125 \nQ 13.671875 62.703125 7.8125 59.421875 \nL 7.8125 69.390625 \nQ 13.765625 71.78125 18.9375 73 \nQ 24.125 74.21875 28.421875 74.21875 \nQ 39.75 74.21875 46.484375 68.546875 \nQ 53.21875 62.890625 53.21875 53.421875 \nQ 53.21875 48.921875 51.53125 44.890625 \nQ 49.859375 40.875 45.40625 35.40625 \nQ 44.1875 33.984375 37.640625 27.21875 \nQ 31.109375 20.453125 19.1875 8.296875 \nz\n\" id=\"DejaVuSans-50\"/>\n      </defs>\n      <g transform=\"translate(72.690813 140.702594)scale(0.1 -0.1)\">\n       <use xlink:href=\"#DejaVuSans-50\"/>\n       <use x=\"63.623047\" xlink:href=\"#DejaVuSans-48\"/>\n       <use x=\"127.246094\" xlink:href=\"#DejaVuSans-48\"/>\n      </g>\n     </g>\n    </g>\n    <g id=\"xtick_3\">\n     <g id=\"line2d_3\">\n      <g>\n       <use style=\"stroke:#000000;stroke-width:0.8;\" x=\"131.059562\" xlink:href=\"#ma9cddf315b\" y=\"126.104156\"/>\n      </g>\n     </g>\n     <g id=\"text_3\">\n      <!-- 400 -->\n      <defs>\n       <path d=\"M 37.796875 64.3125 \nL 12.890625 25.390625 \nL 37.796875 25.390625 \nz\nM 35.203125 72.90625 \nL 47.609375 72.90625 \nL 47.609375 25.390625 \nL 58.015625 25.390625 \nL 58.015625 17.1875 \nL 47.609375 17.1875 \nL 47.609375 0 \nL 37.796875 0 \nL 37.796875 17.1875 \nL 4.890625 17.1875 \nL 4.890625 26.703125 \nz\n\" id=\"DejaVuSans-52\"/>\n      </defs>\n      <g transform=\"translate(121.515812 140.702594)scale(0.1 -0.1)\">\n       <use xlink:href=\"#DejaVuSans-52\"/>\n       <use x=\"63.623047\" xlink:href=\"#DejaVuSans-48\"/>\n       <use x=\"127.246094\" xlink:href=\"#DejaVuSans-48\"/>\n      </g>\n     </g>\n    </g>\n    <g id=\"xtick_4\">\n     <g id=\"line2d_4\">\n      <g>\n       <use style=\"stroke:#000000;stroke-width:0.8;\" x=\"179.884562\" xlink:href=\"#ma9cddf315b\" y=\"126.104156\"/>\n      </g>\n     </g>\n     <g id=\"text_4\">\n      <!-- 600 -->\n      <defs>\n       <path d=\"M 33.015625 40.375 \nQ 26.375 40.375 22.484375 35.828125 \nQ 18.609375 31.296875 18.609375 23.390625 \nQ 18.609375 15.53125 22.484375 10.953125 \nQ 26.375 6.390625 33.015625 6.390625 \nQ 39.65625 6.390625 43.53125 10.953125 \nQ 47.40625 15.53125 47.40625 23.390625 \nQ 47.40625 31.296875 43.53125 35.828125 \nQ 39.65625 40.375 33.015625 40.375 \nz\nM 52.59375 71.296875 \nL 52.59375 62.3125 \nQ 48.875 64.0625 45.09375 64.984375 \nQ 41.3125 65.921875 37.59375 65.921875 \nQ 27.828125 65.921875 22.671875 59.328125 \nQ 17.53125 52.734375 16.796875 39.40625 \nQ 19.671875 43.65625 24.015625 45.921875 \nQ 28.375 48.1875 33.59375 48.1875 \nQ 44.578125 48.1875 50.953125 41.515625 \nQ 57.328125 34.859375 57.328125 23.390625 \nQ 57.328125 12.15625 50.6875 5.359375 \nQ 44.046875 -1.421875 33.015625 -1.421875 \nQ 20.359375 -1.421875 13.671875 8.265625 \nQ 6.984375 17.96875 6.984375 36.375 \nQ 6.984375 53.65625 15.1875 63.9375 \nQ 23.390625 74.21875 37.203125 74.21875 \nQ 40.921875 74.21875 44.703125 73.484375 \nQ 48.484375 72.75 52.59375 71.296875 \nz\n\" id=\"DejaVuSans-54\"/>\n      </defs>\n      <g transform=\"translate(170.340812 140.702594)scale(0.1 -0.1)\">\n       <use xlink:href=\"#DejaVuSans-54\"/>\n       <use x=\"63.623047\" xlink:href=\"#DejaVuSans-48\"/>\n       <use x=\"127.246094\" xlink:href=\"#DejaVuSans-48\"/>\n      </g>\n     </g>\n    </g>\n   </g>\n   <g id=\"matplotlib.axis_2\">\n    <g id=\"ytick_1\">\n     <g id=\"line2d_5\">\n      <defs>\n       <path d=\"M 0 0 \nL -3.5 0 \n\" id=\"m5f3f742f4b\" style=\"stroke:#000000;stroke-width:0.8;\"/>\n      </defs>\n      <g>\n       <use style=\"stroke:#000000;stroke-width:0.8;\" x=\"33.2875\" xlink:href=\"#m5f3f742f4b\" y=\"10.999219\"/>\n      </g>\n     </g>\n     <g id=\"text_5\">\n      <!-- 0 -->\n      <g transform=\"translate(19.925 14.798438)scale(0.1 -0.1)\">\n       <use xlink:href=\"#DejaVuSans-48\"/>\n      </g>\n     </g>\n    </g>\n    <g id=\"ytick_2\">\n     <g id=\"line2d_6\">\n      <g>\n       <use style=\"stroke:#000000;stroke-width:0.8;\" x=\"33.2875\" xlink:href=\"#m5f3f742f4b\" y=\"35.411719\"/>\n      </g>\n     </g>\n     <g id=\"text_6\">\n      <!-- 100 -->\n      <defs>\n       <path d=\"M 12.40625 8.296875 \nL 28.515625 8.296875 \nL 28.515625 63.921875 \nL 10.984375 60.40625 \nL 10.984375 69.390625 \nL 28.421875 72.90625 \nL 38.28125 72.90625 \nL 38.28125 8.296875 \nL 54.390625 8.296875 \nL 54.390625 0 \nL 12.40625 0 \nz\n\" id=\"DejaVuSans-49\"/>\n      </defs>\n      <g transform=\"translate(7.2 39.210938)scale(0.1 -0.1)\">\n       <use xlink:href=\"#DejaVuSans-49\"/>\n       <use x=\"63.623047\" xlink:href=\"#DejaVuSans-48\"/>\n       <use x=\"127.246094\" xlink:href=\"#DejaVuSans-48\"/>\n      </g>\n     </g>\n    </g>\n    <g id=\"ytick_3\">\n     <g id=\"line2d_7\">\n      <g>\n       <use style=\"stroke:#000000;stroke-width:0.8;\" x=\"33.2875\" xlink:href=\"#m5f3f742f4b\" y=\"59.824219\"/>\n      </g>\n     </g>\n     <g id=\"text_7\">\n      <!-- 200 -->\n      <g transform=\"translate(7.2 63.623438)scale(0.1 -0.1)\">\n       <use xlink:href=\"#DejaVuSans-50\"/>\n       <use x=\"63.623047\" xlink:href=\"#DejaVuSans-48\"/>\n       <use x=\"127.246094\" xlink:href=\"#DejaVuSans-48\"/>\n      </g>\n     </g>\n    </g>\n    <g id=\"ytick_4\">\n     <g id=\"line2d_8\">\n      <g>\n       <use style=\"stroke:#000000;stroke-width:0.8;\" x=\"33.2875\" xlink:href=\"#m5f3f742f4b\" y=\"84.236719\"/>\n      </g>\n     </g>\n     <g id=\"text_8\">\n      <!-- 300 -->\n      <defs>\n       <path d=\"M 40.578125 39.3125 \nQ 47.65625 37.796875 51.625 33 \nQ 55.609375 28.21875 55.609375 21.1875 \nQ 55.609375 10.40625 48.1875 4.484375 \nQ 40.765625 -1.421875 27.09375 -1.421875 \nQ 22.515625 -1.421875 17.65625 -0.515625 \nQ 12.796875 0.390625 7.625 2.203125 \nL 7.625 11.71875 \nQ 11.71875 9.328125 16.59375 8.109375 \nQ 21.484375 6.890625 26.8125 6.890625 \nQ 36.078125 6.890625 40.9375 10.546875 \nQ 45.796875 14.203125 45.796875 21.1875 \nQ 45.796875 27.640625 41.28125 31.265625 \nQ 36.765625 34.90625 28.71875 34.90625 \nL 20.21875 34.90625 \nL 20.21875 43.015625 \nL 29.109375 43.015625 \nQ 36.375 43.015625 40.234375 45.921875 \nQ 44.09375 48.828125 44.09375 54.296875 \nQ 44.09375 59.90625 40.109375 62.90625 \nQ 36.140625 65.921875 28.71875 65.921875 \nQ 24.65625 65.921875 20.015625 65.03125 \nQ 15.375 64.15625 9.8125 62.3125 \nL 9.8125 71.09375 \nQ 15.4375 72.65625 20.34375 73.4375 \nQ 25.25 74.21875 29.59375 74.21875 \nQ 40.828125 74.21875 47.359375 69.109375 \nQ 53.90625 64.015625 53.90625 55.328125 \nQ 53.90625 49.265625 50.4375 45.09375 \nQ 46.96875 40.921875 40.578125 39.3125 \nz\n\" id=\"DejaVuSans-51\"/>\n      </defs>\n      <g transform=\"translate(7.2 88.035938)scale(0.1 -0.1)\">\n       <use xlink:href=\"#DejaVuSans-51\"/>\n       <use x=\"63.623047\" xlink:href=\"#DejaVuSans-48\"/>\n       <use x=\"127.246094\" xlink:href=\"#DejaVuSans-48\"/>\n      </g>\n     </g>\n    </g>\n    <g id=\"ytick_5\">\n     <g id=\"line2d_9\">\n      <g>\n       <use style=\"stroke:#000000;stroke-width:0.8;\" x=\"33.2875\" xlink:href=\"#m5f3f742f4b\" y=\"108.649219\"/>\n      </g>\n     </g>\n     <g id=\"text_9\">\n      <!-- 400 -->\n      <g transform=\"translate(7.2 112.448438)scale(0.1 -0.1)\">\n       <use xlink:href=\"#DejaVuSans-52\"/>\n       <use x=\"63.623047\" xlink:href=\"#DejaVuSans-48\"/>\n       <use x=\"127.246094\" xlink:href=\"#DejaVuSans-48\"/>\n      </g>\n     </g>\n    </g>\n   </g>\n   <g id=\"patch_10\">\n    <path d=\"M 33.2875 126.104156 \nL 33.2875 10.877156 \n\" style=\"fill:none;stroke:#000000;stroke-linecap:square;stroke-linejoin:miter;stroke-width:0.8;\"/>\n   </g>\n   <g id=\"patch_11\">\n    <path d=\"M 228.5875 126.104156 \nL 228.5875 10.877156 \n\" style=\"fill:none;stroke:#000000;stroke-linecap:square;stroke-linejoin:miter;stroke-width:0.8;\"/>\n   </g>\n   <g id=\"patch_12\">\n    <path d=\"M 33.2875 126.104156 \nL 228.5875 126.104156 \n\" style=\"fill:none;stroke:#000000;stroke-linecap:square;stroke-linejoin:miter;stroke-width:0.8;\"/>\n   </g>\n   <g id=\"patch_13\">\n    <path d=\"M 33.2875 10.877156 \nL 228.5875 10.877156 \n\" style=\"fill:none;stroke:#000000;stroke-linecap:square;stroke-linejoin:miter;stroke-width:0.8;\"/>\n   </g>\n   <g id=\"text_10\">\n    <g id=\"patch_14\">\n     <path d=\"M 40.512531 28.532535 \nL 65.366594 28.532535 \nL 65.366594 11.902222 \nL 40.512531 11.902222 \nz\n\"/>\n    </g>\n    <!-- dog -->\n    <defs>\n     <path d=\"M 45.40625 46.390625 \nL 45.40625 75.984375 \nL 54.390625 75.984375 \nL 54.390625 0 \nL 45.40625 0 \nL 45.40625 8.203125 \nQ 42.578125 3.328125 38.25 0.953125 \nQ 33.9375 -1.421875 27.875 -1.421875 \nQ 17.96875 -1.421875 11.734375 6.484375 \nQ 5.515625 14.40625 5.515625 27.296875 \nQ 5.515625 40.1875 11.734375 48.09375 \nQ 17.96875 56 27.875 56 \nQ 33.9375 56 38.25 53.625 \nQ 42.578125 51.265625 45.40625 46.390625 \nz\nM 14.796875 27.296875 \nQ 14.796875 17.390625 18.875 11.75 \nQ 22.953125 6.109375 30.078125 6.109375 \nQ 37.203125 6.109375 41.296875 11.75 \nQ 45.40625 17.390625 45.40625 27.296875 \nQ 45.40625 37.203125 41.296875 42.84375 \nQ 37.203125 48.484375 30.078125 48.484375 \nQ 22.953125 48.484375 18.875 42.84375 \nQ 14.796875 37.203125 14.796875 27.296875 \nz\n\" id=\"DejaVuSans-100\"/>\n     <path d=\"M 30.609375 48.390625 \nQ 23.390625 48.390625 19.1875 42.75 \nQ 14.984375 37.109375 14.984375 27.296875 \nQ 14.984375 17.484375 19.15625 11.84375 \nQ 23.34375 6.203125 30.609375 6.203125 \nQ 37.796875 6.203125 41.984375 11.859375 \nQ 46.1875 17.53125 46.1875 27.296875 \nQ 46.1875 37.015625 41.984375 42.703125 \nQ 37.796875 48.390625 30.609375 48.390625 \nz\nM 30.609375 56 \nQ 42.328125 56 49.015625 48.375 \nQ 55.71875 40.765625 55.71875 27.296875 \nQ 55.71875 13.875 49.015625 6.21875 \nQ 42.328125 -1.421875 30.609375 -1.421875 \nQ 18.84375 -1.421875 12.171875 6.21875 \nQ 5.515625 13.875 5.515625 27.296875 \nQ 5.515625 40.765625 12.171875 48.375 \nQ 18.84375 56 30.609375 56 \nz\n\" id=\"DejaVuSans-111\"/>\n     <path d=\"M 45.40625 27.984375 \nQ 45.40625 37.75 41.375 43.109375 \nQ 37.359375 48.484375 30.078125 48.484375 \nQ 22.859375 48.484375 18.828125 43.109375 \nQ 14.796875 37.75 14.796875 27.984375 \nQ 14.796875 18.265625 18.828125 12.890625 \nQ 22.859375 7.515625 30.078125 7.515625 \nQ 37.359375 7.515625 41.375 12.890625 \nQ 45.40625 18.265625 45.40625 27.984375 \nz\nM 54.390625 6.78125 \nQ 54.390625 -7.171875 48.1875 -13.984375 \nQ 42 -20.796875 29.203125 -20.796875 \nQ 24.46875 -20.796875 20.265625 -20.09375 \nQ 16.0625 -19.390625 12.109375 -17.921875 \nL 12.109375 -9.1875 \nQ 16.0625 -11.328125 19.921875 -12.34375 \nQ 23.78125 -13.375 27.78125 -13.375 \nQ 36.625 -13.375 41.015625 -8.765625 \nQ 45.40625 -4.15625 45.40625 5.171875 \nL 45.40625 9.625 \nQ 42.625 4.78125 38.28125 2.390625 \nQ 33.9375 0 27.875 0 \nQ 17.828125 0 11.671875 7.65625 \nQ 5.515625 15.328125 5.515625 27.984375 \nQ 5.515625 40.671875 11.671875 48.328125 \nQ 17.828125 56 27.875 56 \nQ 33.9375 56 38.28125 53.609375 \nQ 42.625 51.21875 45.40625 46.390625 \nL 45.40625 54.6875 \nL 54.390625 54.6875 \nz\n\" id=\"DejaVuSans-103\"/>\n    </defs>\n    <g style=\"fill:#ffffff;\" transform=\"translate(44.472531 22.700816)scale(0.09 -0.09)\">\n     <use xlink:href=\"#DejaVuSans-100\"/>\n     <use x=\"63.476562\" xlink:href=\"#DejaVuSans-111\"/>\n     <use x=\"124.658203\" xlink:href=\"#DejaVuSans-103\"/>\n    </g>\n   </g>\n   <g id=\"text_11\">\n    <g id=\"patch_15\">\n     <path d=\"M 129.868469 42.359775 \nL 151.780656 42.359775 \nL 151.780656 25.729463 \nL 129.868469 25.729463 \nz\n\"/>\n    </g>\n    <!-- cat -->\n    <defs>\n     <path d=\"M 48.78125 52.59375 \nL 48.78125 44.1875 \nQ 44.96875 46.296875 41.140625 47.34375 \nQ 37.3125 48.390625 33.40625 48.390625 \nQ 24.65625 48.390625 19.8125 42.84375 \nQ 14.984375 37.3125 14.984375 27.296875 \nQ 14.984375 17.28125 19.8125 11.734375 \nQ 24.65625 6.203125 33.40625 6.203125 \nQ 37.3125 6.203125 41.140625 7.25 \nQ 44.96875 8.296875 48.78125 10.40625 \nL 48.78125 2.09375 \nQ 45.015625 0.34375 40.984375 -0.53125 \nQ 36.96875 -1.421875 32.421875 -1.421875 \nQ 20.0625 -1.421875 12.78125 6.34375 \nQ 5.515625 14.109375 5.515625 27.296875 \nQ 5.515625 40.671875 12.859375 48.328125 \nQ 20.21875 56 33.015625 56 \nQ 37.15625 56 41.109375 55.140625 \nQ 45.0625 54.296875 48.78125 52.59375 \nz\n\" id=\"DejaVuSans-99\"/>\n     <path d=\"M 34.28125 27.484375 \nQ 23.390625 27.484375 19.1875 25 \nQ 14.984375 22.515625 14.984375 16.5 \nQ 14.984375 11.71875 18.140625 8.90625 \nQ 21.296875 6.109375 26.703125 6.109375 \nQ 34.1875 6.109375 38.703125 11.40625 \nQ 43.21875 16.703125 43.21875 25.484375 \nL 43.21875 27.484375 \nz\nM 52.203125 31.203125 \nL 52.203125 0 \nL 43.21875 0 \nL 43.21875 8.296875 \nQ 40.140625 3.328125 35.546875 0.953125 \nQ 30.953125 -1.421875 24.3125 -1.421875 \nQ 15.921875 -1.421875 10.953125 3.296875 \nQ 6 8.015625 6 15.921875 \nQ 6 25.140625 12.171875 29.828125 \nQ 18.359375 34.515625 30.609375 34.515625 \nL 43.21875 34.515625 \nL 43.21875 35.40625 \nQ 43.21875 41.609375 39.140625 45 \nQ 35.0625 48.390625 27.6875 48.390625 \nQ 23 48.390625 18.546875 47.265625 \nQ 14.109375 46.140625 10.015625 43.890625 \nL 10.015625 52.203125 \nQ 14.9375 54.109375 19.578125 55.046875 \nQ 24.21875 56 28.609375 56 \nQ 40.484375 56 46.34375 49.84375 \nQ 52.203125 43.703125 52.203125 31.203125 \nz\n\" id=\"DejaVuSans-97\"/>\n     <path d=\"M 18.3125 70.21875 \nL 18.3125 54.6875 \nL 36.8125 54.6875 \nL 36.8125 47.703125 \nL 18.3125 47.703125 \nL 18.3125 18.015625 \nQ 18.3125 11.328125 20.140625 9.421875 \nQ 21.96875 7.515625 27.59375 7.515625 \nL 36.8125 7.515625 \nL 36.8125 0 \nL 27.59375 0 \nQ 17.1875 0 13.234375 3.875 \nQ 9.28125 7.765625 9.28125 18.015625 \nL 9.28125 47.703125 \nL 2.6875 47.703125 \nL 2.6875 54.6875 \nL 9.28125 54.6875 \nL 9.28125 70.21875 \nz\n\" id=\"DejaVuSans-116\"/>\n    </defs>\n    <g style=\"fill:#ffffff;\" transform=\"translate(133.828469 36.528057)scale(0.09 -0.09)\">\n     <use xlink:href=\"#DejaVuSans-99\"/>\n     <use x=\"54.980469\" xlink:href=\"#DejaVuSans-97\"/>\n     <use x=\"116.259766\" xlink:href=\"#DejaVuSans-116\"/>\n    </g>\n   </g>\n   <g id=\"text_12\">\n    <g id=\"patch_16\">\n     <path d=\"M 26.586437 30.837075 \nL 40.232687 30.837075 \nL 40.232687 14.206763 \nL 26.586437 14.206763 \nz\n\" style=\"fill:#0000ff;\"/>\n    </g>\n    <!-- 0 -->\n    <g style=\"fill:#ffffff;\" transform=\"translate(30.546437 25.005356)scale(0.09 -0.09)\">\n     <use xlink:href=\"#DejaVuSans-48\"/>\n    </g>\n   </g>\n   <g id=\"text_13\">\n    <g id=\"patch_17\">\n     <path d=\"M 55.881439 42.359775 \nL 69.527689 42.359775 \nL 69.527689 25.729463 \nL 55.881439 25.729463 \nz\n\" style=\"fill:#008000;\"/>\n    </g>\n    <!-- 1 -->\n    <g style=\"fill:#ffffff;\" transform=\"translate(59.841439 36.528057)scale(0.09 -0.09)\">\n     <use xlink:href=\"#DejaVuSans-49\"/>\n    </g>\n   </g>\n   <g id=\"text_14\">\n    <g id=\"patch_18\">\n     <path d=\"M 149.625438 25.075725 \nL 163.271688 25.075725 \nL 163.271688 8.445413 \nL 149.625438 8.445413 \nz\n\" style=\"fill:#ff0000;\"/>\n    </g>\n    <!-- 2 -->\n    <g style=\"fill:#ffffff;\" transform=\"translate(153.585438 19.244006)scale(0.09 -0.09)\">\n     <use xlink:href=\"#DejaVuSans-50\"/>\n    </g>\n   </g>\n   <g id=\"text_15\">\n    <g id=\"patch_19\">\n     <path d=\"M 155.484437 71.166524 \nL 169.130687 71.166524 \nL 169.130687 54.536211 \nL 155.484437 54.536211 \nz\n\" style=\"fill:#bf00bf;\"/>\n    </g>\n    <!-- 3 -->\n    <g style=\"fill:#ffffff;\" transform=\"translate(159.444437 65.334805)scale(0.09 -0.09)\">\n     <use xlink:href=\"#DejaVuSans-51\"/>\n    </g>\n   </g>\n   <g id=\"text_16\">\n    <g id=\"patch_20\">\n     <path d=\"M 137.907437 53.882476 \nL 151.553687 53.882476 \nL 151.553687 37.252164 \nL 137.907437 37.252164 \nz\n\" style=\"fill:#00bfbf;\"/>\n    </g>\n    <!-- 4 -->\n    <g style=\"fill:#ffffff;\" transform=\"translate(141.867437 48.050758)scale(0.09 -0.09)\">\n     <use xlink:href=\"#DejaVuSans-52\"/>\n    </g>\n   </g>\n  </g>\n </g>\n <defs>\n  <clipPath id=\"pab3041be60\">\n   <rect height=\"115.227\" width=\"195.3\" x=\"33.2875\" y=\"10.877156\"/>\n  </clipPath>\n </defs>\n</svg>\n"
          },
          "metadata": {
            "needs_background": "light"
          }
        }
      ],
      "source": [
        "ground_truth = torch.tensor([[0, 0.1, 0.08, 0.52, 0.92],\n",
        "                         [1, 0.55, 0.2, 0.9, 0.88]])\n",
        "anchors = torch.tensor([[0, 0.1, 0.2, 0.3], [0.15, 0.2, 0.4, 0.4],\n",
        "                    [0.63, 0.05, 0.88, 0.98], [0.66, 0.45, 0.8, 0.8],\n",
        "                    [0.57, 0.3, 0.92, 0.9]])\n",
        "\n",
        "fig = d2l.plt.imshow(img)\n",
        "show_bboxes(fig.axes, ground_truth[:, 1:] * bbox_scale, ['dog', 'cat'], 'k')\n",
        "show_bboxes(fig.axes, anchors * bbox_scale, ['0', '1', '2', '3', '4']);"
      ]
    },
    {
      "cell_type": "markdown",
      "id": "04579768",
      "metadata": {
        "origin_pos": 28,
        "id": "04579768"
      },
      "source": [
        "Using the `multibox_target` function defined above,\n",
        "we can [**label classes and offsets\n",
        "of these anchor boxes based on\n",
        "the ground-truth bounding boxes**] for the dog and cat.\n",
        "In this example, indices of\n",
        "the background, dog, and cat classes\n",
        "are 0, 1, and 2, respectively. \n",
        "Below we add an dimension for examples of anchor boxes and ground-truth bounding boxes.\n"
      ]
    },
    {
      "cell_type": "code",
      "execution_count": 13,
      "id": "0bb4848a",
      "metadata": {
        "execution": {
          "iopub.execute_input": "2022-09-07T22:12:50.756626Z",
          "iopub.status.busy": "2022-09-07T22:12:50.756161Z",
          "iopub.status.idle": "2022-09-07T22:12:50.765382Z",
          "shell.execute_reply": "2022-09-07T22:12:50.764353Z"
        },
        "origin_pos": 30,
        "tab": [
          "pytorch"
        ],
        "id": "0bb4848a"
      },
      "outputs": [],
      "source": [
        "labels = multibox_target(anchors.unsqueeze(dim=0),\n",
        "                         ground_truth.unsqueeze(dim=0))"
      ]
    },
    {
      "cell_type": "markdown",
      "id": "db6cb6d8",
      "metadata": {
        "origin_pos": 31,
        "id": "db6cb6d8"
      },
      "source": [
        "There are three items in the returned result, all of which are in the tensor format.\n",
        "The third item contains the labeled classes of the input anchor boxes.\n",
        "\n",
        "Let's analyze the returned class labels below based on\n",
        "anchor box and ground-truth bounding box positions in the image.\n",
        "First, among all the pairs of anchor boxes\n",
        "and ground-truth bounding boxes,\n",
        "the IoU of the anchor box $A_4$ and the ground-truth bounding box of the cat is the largest. \n",
        "Thus, the class of $A_4$ is labeled as the cat.\n",
        "Taking out \n",
        "pairs containing $A_4$ or the ground-truth bounding box of the cat, among the rest \n",
        "the pair of the anchor box $A_1$ and the ground-truth bounding box of the dog has the largest IoU.\n",
        "So the class of $A_1$ is labeled as the dog.\n",
        "Next, we need to traverse through the remaining three unlabeled anchor boxes: $A_0$, $A_2$, and $A_3$.\n",
        "For $A_0$,\n",
        "the class of the ground-truth bounding box with the largest IoU is the dog,\n",
        "but the IoU is below the predefined threshold (0.5),\n",
        "so the class is labeled as background;\n",
        "for $A_2$,\n",
        "the class of the ground-truth bounding box with the largest IoU is the cat and the IoU exceeds the threshold, so the class is labeled as the cat;\n",
        "for $A_3$,\n",
        "the class of the ground-truth bounding box with the largest IoU is the cat, but the value is below the threshold, so the class is labeled as background.\n"
      ]
    },
    {
      "cell_type": "code",
      "execution_count": 14,
      "id": "e9eb25f7",
      "metadata": {
        "execution": {
          "iopub.execute_input": "2022-09-07T22:12:50.770824Z",
          "iopub.status.busy": "2022-09-07T22:12:50.769952Z",
          "iopub.status.idle": "2022-09-07T22:12:50.777952Z",
          "shell.execute_reply": "2022-09-07T22:12:50.776939Z"
        },
        "origin_pos": 32,
        "tab": [
          "pytorch"
        ],
        "id": "e9eb25f7",
        "outputId": "c4107f6b-4682-4735-c385-d0f6bcb7eff8",
        "colab": {
          "base_uri": "https://localhost:8080/"
        }
      },
      "outputs": [
        {
          "output_type": "execute_result",
          "data": {
            "text/plain": [
              "tensor([[0, 1, 2, 0, 2]])"
            ]
          },
          "metadata": {},
          "execution_count": 14
        }
      ],
      "source": [
        "labels[2]"
      ]
    },
    {
      "cell_type": "markdown",
      "id": "023dbbad",
      "metadata": {
        "origin_pos": 33,
        "id": "023dbbad"
      },
      "source": [
        "The second returned item is a mask variable of the shape (batch size, four times the number of anchor boxes).\n",
        "Every four elements in the mask variable \n",
        "correspond to the four offset values of each anchor box.\n",
        "Since we do not care about background detection,\n",
        "offsets of this negative class should not affect the objective function.\n",
        "Through elementwise multiplications, zeros in the mask variable will filter out negative class offsets before calculating the objective function.\n"
      ]
    },
    {
      "cell_type": "code",
      "execution_count": 15,
      "id": "d82247d7",
      "metadata": {
        "execution": {
          "iopub.execute_input": "2022-09-07T22:12:50.782380Z",
          "iopub.status.busy": "2022-09-07T22:12:50.781559Z",
          "iopub.status.idle": "2022-09-07T22:12:50.788470Z",
          "shell.execute_reply": "2022-09-07T22:12:50.787530Z"
        },
        "origin_pos": 34,
        "tab": [
          "pytorch"
        ],
        "id": "d82247d7",
        "outputId": "712870f9-4056-44a4-bfcf-8156f2ce9341",
        "colab": {
          "base_uri": "https://localhost:8080/"
        }
      },
      "outputs": [
        {
          "output_type": "execute_result",
          "data": {
            "text/plain": [
              "tensor([[0., 0., 0., 0., 1., 1., 1., 1., 1., 1., 1., 1., 0., 0., 0., 0., 1., 1.,\n",
              "         1., 1.]])"
            ]
          },
          "metadata": {},
          "execution_count": 15
        }
      ],
      "source": [
        "labels[1]"
      ]
    },
    {
      "cell_type": "markdown",
      "id": "a3f68398",
      "metadata": {
        "origin_pos": 35,
        "id": "a3f68398"
      },
      "source": [
        "The first returned item contains the four offset values labeled for each anchor box.\n",
        "Note that the offsets of negative-class anchor boxes are labeled as zeros.\n"
      ]
    },
    {
      "cell_type": "code",
      "execution_count": 16,
      "id": "d95d4d55",
      "metadata": {
        "execution": {
          "iopub.execute_input": "2022-09-07T22:12:50.793802Z",
          "iopub.status.busy": "2022-09-07T22:12:50.793226Z",
          "iopub.status.idle": "2022-09-07T22:12:50.799557Z",
          "shell.execute_reply": "2022-09-07T22:12:50.798281Z"
        },
        "origin_pos": 36,
        "tab": [
          "pytorch"
        ],
        "id": "d95d4d55",
        "outputId": "511df874-fd89-4be8-91a3-11c693c9cb4a",
        "colab": {
          "base_uri": "https://localhost:8080/"
        }
      },
      "outputs": [
        {
          "output_type": "execute_result",
          "data": {
            "text/plain": [
              "tensor([[-0.00e+00, -0.00e+00, -0.00e+00, -0.00e+00,  1.40e+00,  1.00e+01,\n",
              "          2.59e+00,  7.18e+00, -1.20e+00,  2.69e-01,  1.68e+00, -1.57e+00,\n",
              "         -0.00e+00, -0.00e+00, -0.00e+00, -0.00e+00, -5.71e-01, -1.00e+00,\n",
              "          4.17e-06,  6.26e-01]])"
            ]
          },
          "metadata": {},
          "execution_count": 16
        }
      ],
      "source": [
        "labels[0]"
      ]
    },
    {
      "cell_type": "markdown",
      "id": "5e14f70c",
      "metadata": {
        "origin_pos": 37,
        "id": "5e14f70c"
      },
      "source": [
        "## Predicting Bounding Boxes with Non-Maximum Suppression\n",
        ":label:`subsec_predicting-bounding-boxes-nms`\n",
        "\n",
        "During prediction,\n",
        "we generate multiple anchor boxes for the image and predict classes and offsets for each of them.\n",
        "A *predicted bounding box*\n",
        "is thus obtained according to \n",
        "an anchor box with its predicted offset.\n",
        "Below we implement the `offset_inverse` function\n",
        "that takes in anchors and\n",
        "offset predictions as inputs and [**applies inverse offset transformations to\n",
        "return the predicted bounding box coordinates**].\n"
      ]
    },
    {
      "cell_type": "code",
      "execution_count": 17,
      "id": "f74619d6",
      "metadata": {
        "execution": {
          "iopub.execute_input": "2022-09-07T22:12:50.804585Z",
          "iopub.status.busy": "2022-09-07T22:12:50.804066Z",
          "iopub.status.idle": "2022-09-07T22:12:50.809257Z",
          "shell.execute_reply": "2022-09-07T22:12:50.808504Z"
        },
        "origin_pos": 38,
        "tab": [
          "pytorch"
        ],
        "id": "f74619d6"
      },
      "outputs": [],
      "source": [
        "#@save\n",
        "def offset_inverse(anchors, offset_preds):\n",
        "    \"\"\"Predict bounding boxes based on anchor boxes with predicted offsets.\"\"\"\n",
        "    anc = d2l.box_corner_to_center(anchors)\n",
        "    pred_bbox_xy = (offset_preds[:, :2] * anc[:, 2:] / 10) + anc[:, :2]\n",
        "    pred_bbox_wh = torch.exp(offset_preds[:, 2:] / 5) * anc[:, 2:]\n",
        "    pred_bbox = torch.cat((pred_bbox_xy, pred_bbox_wh), axis=1)\n",
        "    predicted_bbox = d2l.box_center_to_corner(pred_bbox)\n",
        "    return predicted_bbox"
      ]
    },
    {
      "cell_type": "markdown",
      "id": "b95b12d4",
      "metadata": {
        "origin_pos": 39,
        "id": "b95b12d4"
      },
      "source": [
        "When there are many anchor boxes,\n",
        "many similar (with significant overlap)\n",
        "predicted bounding boxes \n",
        "can be potentially output for surrounding the same object.\n",
        "To simplify the output,\n",
        "we can merge similar predicted bounding boxes\n",
        "that belong to the same object\n",
        "by using *non-maximum suppression* (NMS).\n",
        "\n",
        "Here is how non-maximum suppression works.\n",
        "For a predicted bounding box $B$,\n",
        "the object detection model calculates the predicted likelihood\n",
        "for each class.\n",
        "Denoting by $p$ the largest predicted likelihood,\n",
        "the class corresponding to this probability is the predicted class for $B$.\n",
        "Specifically, we refer to $p$ as the *confidence* (score) of the predicted bounding box $B$.\n",
        "On the same image,\n",
        "all the predicted non-background bounding boxes \n",
        "are sorted by confidence in descending order\n",
        "to generate a list $L$.\n",
        "Then we manipulate the sorted list $L$ in the following steps:\n",
        "\n",
        "1. Select the predicted bounding box $B_1$ with the highest confidence from $L$ as a basis and remove all non-basis predicted bounding boxes whose IoU with $B_1$ exceeds a predefined threshold $\\epsilon$ from $L$. At this point, $L$ keeps the predicted bounding box with the highest confidence but drops others that are too similar to it. In a nutshell, those with *non-maximum* confidence scores are *suppressed*.\n",
        "1. Select the predicted bounding box $B_2$ with the second highest confidence from $L$ as another basis and remove all non-basis predicted bounding boxes whose IoU with $B_2$ exceeds $\\epsilon$ from $L$.\n",
        "1. Repeat the above process until all the predicted bounding boxes in $L$ have been used as a basis. At this time, the IoU of any pair of predicted bounding boxes in $L$ is below the threshold $\\epsilon$; thus, no pair is too similar with each other. \n",
        "1. Output all the predicted bounding boxes in the list $L$.\n",
        "\n",
        "[**The following `nms` function sorts confidence scores in descending order and returns their indices.**]\n"
      ]
    },
    {
      "cell_type": "code",
      "execution_count": 18,
      "id": "bc5d76d5",
      "metadata": {
        "execution": {
          "iopub.execute_input": "2022-09-07T22:12:50.813353Z",
          "iopub.status.busy": "2022-09-07T22:12:50.812916Z",
          "iopub.status.idle": "2022-09-07T22:12:50.820002Z",
          "shell.execute_reply": "2022-09-07T22:12:50.818854Z"
        },
        "origin_pos": 41,
        "tab": [
          "pytorch"
        ],
        "id": "bc5d76d5"
      },
      "outputs": [],
      "source": [
        "#@save\n",
        "def nms(boxes, scores, iou_threshold):\n",
        "    \"\"\"Sort confidence scores of predicted bounding boxes.\"\"\"\n",
        "    B = torch.argsort(scores, dim=-1, descending=True)\n",
        "    keep = []  # Indices of predicted bounding boxes that will be kept\n",
        "    while B.numel() > 0:\n",
        "        i = B[0]\n",
        "        keep.append(i)\n",
        "        if B.numel() == 1: break\n",
        "        iou = box_iou(boxes[i, :].reshape(-1, 4),\n",
        "                      boxes[B[1:], :].reshape(-1, 4)).reshape(-1)\n",
        "        inds = torch.nonzero(iou <= iou_threshold).reshape(-1)\n",
        "        B = B[inds + 1]\n",
        "    return torch.tensor(keep, device=boxes.device)"
      ]
    },
    {
      "cell_type": "markdown",
      "id": "6968c477",
      "metadata": {
        "origin_pos": 42,
        "id": "6968c477"
      },
      "source": [
        "We define the following `multibox_detection`\n",
        "to [**apply non-maximum suppression\n",
        "to predicting bounding boxes**].\n",
        "Do not worry if you find the implementation\n",
        "a bit complicated: we will show how it works\n",
        "with a concrete example right after the implementation.\n"
      ]
    },
    {
      "cell_type": "code",
      "execution_count": 19,
      "id": "c8bfe6ba",
      "metadata": {
        "execution": {
          "iopub.execute_input": "2022-09-07T22:12:50.824528Z",
          "iopub.status.busy": "2022-09-07T22:12:50.823654Z",
          "iopub.status.idle": "2022-09-07T22:12:50.835993Z",
          "shell.execute_reply": "2022-09-07T22:12:50.835170Z"
        },
        "origin_pos": 44,
        "tab": [
          "pytorch"
        ],
        "id": "c8bfe6ba"
      },
      "outputs": [],
      "source": [
        "#@save\n",
        "def multibox_detection(cls_probs, offset_preds, anchors, nms_threshold=0.5,\n",
        "                       pos_threshold=0.009999999):\n",
        "    \"\"\"Predict bounding boxes using non-maximum suppression.\"\"\"\n",
        "    device, batch_size = cls_probs.device, cls_probs.shape[0]\n",
        "    anchors = anchors.squeeze(0)\n",
        "    num_classes, num_anchors = cls_probs.shape[1], cls_probs.shape[2]\n",
        "    out = []\n",
        "    for i in range(batch_size):\n",
        "        cls_prob, offset_pred = cls_probs[i], offset_preds[i].reshape(-1, 4)\n",
        "        conf, class_id = torch.max(cls_prob[1:], 0)\n",
        "        predicted_bb = offset_inverse(anchors, offset_pred)\n",
        "        keep = nms(predicted_bb, conf, nms_threshold)\n",
        "        # Find all non-`keep` indices and set the class to background\n",
        "        all_idx = torch.arange(num_anchors, dtype=torch.long, device=device)\n",
        "        combined = torch.cat((keep, all_idx))\n",
        "        uniques, counts = combined.unique(return_counts=True)\n",
        "        non_keep = uniques[counts == 1]\n",
        "        all_id_sorted = torch.cat((keep, non_keep))\n",
        "        class_id[non_keep] = -1\n",
        "        class_id = class_id[all_id_sorted]\n",
        "        conf, predicted_bb = conf[all_id_sorted], predicted_bb[all_id_sorted]\n",
        "        # Here `pos_threshold` is a threshold for positive (non-background)\n",
        "        # predictions\n",
        "        below_min_idx = (conf < pos_threshold)\n",
        "        class_id[below_min_idx] = -1\n",
        "        conf[below_min_idx] = 1 - conf[below_min_idx]\n",
        "        pred_info = torch.cat((class_id.unsqueeze(1),\n",
        "                               conf.unsqueeze(1),\n",
        "                               predicted_bb), dim=1)\n",
        "        out.append(pred_info)\n",
        "    return torch.stack(out)"
      ]
    },
    {
      "cell_type": "markdown",
      "id": "52b37840",
      "metadata": {
        "origin_pos": 45,
        "id": "52b37840"
      },
      "source": [
        "Now let's [**apply the above implementations\n",
        "to a concrete example with four anchor boxes**].\n",
        "For simplicity, we assume that the\n",
        "predicted offsets are all zeros.\n",
        "This means that the predicted bounding boxes are anchor boxes. \n",
        "For each class among the background, dog, and cat,\n",
        "we also define its predicted likelihood.\n"
      ]
    },
    {
      "cell_type": "code",
      "execution_count": 20,
      "id": "e34d7504",
      "metadata": {
        "execution": {
          "iopub.execute_input": "2022-09-07T22:12:50.840835Z",
          "iopub.status.busy": "2022-09-07T22:12:50.840114Z",
          "iopub.status.idle": "2022-09-07T22:12:50.847596Z",
          "shell.execute_reply": "2022-09-07T22:12:50.846472Z"
        },
        "origin_pos": 46,
        "tab": [
          "pytorch"
        ],
        "id": "e34d7504"
      },
      "outputs": [],
      "source": [
        "anchors = torch.tensor([[0.1, 0.08, 0.52, 0.92], [0.08, 0.2, 0.56, 0.95],\n",
        "                      [0.15, 0.3, 0.62, 0.91], [0.55, 0.2, 0.9, 0.88]])\n",
        "offset_preds = torch.tensor([0] * anchors.numel())\n",
        "cls_probs = torch.tensor([[0] * 4,  # Predicted background likelihood\n",
        "                      [0.9, 0.8, 0.7, 0.1],  # Predicted dog likelihood\n",
        "                      [0.1, 0.2, 0.3, 0.9]])  # Predicted cat likelihood"
      ]
    },
    {
      "cell_type": "markdown",
      "id": "5ad1dfc3",
      "metadata": {
        "origin_pos": 47,
        "id": "5ad1dfc3"
      },
      "source": [
        "We can [**plot these predicted bounding boxes with their confidence on the image.**]\n"
      ]
    },
    {
      "cell_type": "code",
      "execution_count": 21,
      "id": "6c4628fe",
      "metadata": {
        "execution": {
          "iopub.execute_input": "2022-09-07T22:12:50.852157Z",
          "iopub.status.busy": "2022-09-07T22:12:50.851627Z",
          "iopub.status.idle": "2022-09-07T22:12:51.111836Z",
          "shell.execute_reply": "2022-09-07T22:12:51.110601Z"
        },
        "origin_pos": 48,
        "tab": [
          "pytorch"
        ],
        "id": "6c4628fe",
        "outputId": "84036be4-fd7a-4fa8-ae37-a68bbd476b3f",
        "colab": {
          "base_uri": "https://localhost:8080/",
          "height": 221
        }
      },
      "outputs": [
        {
          "output_type": "display_data",
          "data": {
            "text/plain": [
              "<Figure size 252x180 with 1 Axes>"
            ],
            "image/svg+xml": "<?xml version=\"1.0\" encoding=\"utf-8\" standalone=\"no\"?>\n<!DOCTYPE svg PUBLIC \"-//W3C//DTD SVG 1.1//EN\"\n  \"http://www.w3.org/Graphics/SVG/1.1/DTD/svg11.dtd\">\n<!-- Created with matplotlib (https://matplotlib.org/) -->\n<svg height=\"149.982281pt\" version=\"1.1\" viewBox=\"0 0 235.7875 149.982281\" width=\"235.7875pt\" xmlns=\"http://www.w3.org/2000/svg\" xmlns:xlink=\"http://www.w3.org/1999/xlink\">\n <defs>\n  <style type=\"text/css\">\n*{stroke-linecap:butt;stroke-linejoin:round;}\n  </style>\n </defs>\n <g id=\"figure_1\">\n  <g id=\"patch_1\">\n   <path d=\"M 0 149.982281 \nL 235.7875 149.982281 \nL 235.7875 0 \nL 0 0 \nz\n\" style=\"fill:none;\"/>\n  </g>\n  <g id=\"axes_1\">\n   <g id=\"patch_2\">\n    <path d=\"M 33.2875 126.104156 \nL 228.5875 126.104156 \nL 228.5875 10.877156 \nL 33.2875 10.877156 \nz\n\" style=\"fill:#ffffff;\"/>\n   </g>\n   <g clip-path=\"url(#pa285e03666)\">\n    <image height=\"116\" id=\"imagefd78ea4878\" transform=\"scale(1 -1)translate(0 -116)\" width=\"196\" x=\"33.2875\" xlink:href=\"data:image/png;base64,\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\" y=\"-10.104156\"/>\n   </g>\n   <g id=\"patch_3\">\n    <path clip-path=\"url(#pa285e03666)\" d=\"M 52.939563 20.217378 \nL 134.965563 20.217378 \nL 134.965563 117.008064 \nL 52.939563 117.008064 \nz\n\" style=\"fill:none;stroke:#0000ff;stroke-linejoin:miter;stroke-width:2;\"/>\n   </g>\n   <g id=\"patch_4\">\n    <path clip-path=\"url(#pa285e03666)\" d=\"M 49.033563 34.044619 \nL 142.777562 34.044619 \nL 142.777562 120.464867 \nL 49.033563 120.464867 \nz\n\" style=\"fill:none;stroke:#008000;stroke-linejoin:miter;stroke-width:2;\"/>\n   </g>\n   <g id=\"patch_5\">\n    <path clip-path=\"url(#pa285e03666)\" d=\"M 62.704564 45.56732 \nL 154.495563 45.56732 \nL 154.495563 115.855794 \nL 62.704564 115.855794 \nz\n\" style=\"fill:none;stroke:#ff0000;stroke-linejoin:miter;stroke-width:2;\"/>\n   </g>\n   <g id=\"patch_6\">\n    <path clip-path=\"url(#pa285e03666)\" d=\"M 140.824563 34.044619 \nL 209.179563 34.044619 \nL 209.179563 112.398975 \nL 140.824563 112.398975 \nz\n\" style=\"fill:none;stroke:#bf00bf;stroke-linejoin:miter;stroke-width:2;\"/>\n   </g>\n   <g id=\"matplotlib.axis_1\">\n    <g id=\"xtick_1\">\n     <g id=\"line2d_1\">\n      <defs>\n       <path d=\"M 0 0 \nL 0 3.5 \n\" id=\"m77a0952cfd\" style=\"stroke:#000000;stroke-width:0.8;\"/>\n      </defs>\n      <g>\n       <use style=\"stroke:#000000;stroke-width:0.8;\" x=\"33.409562\" xlink:href=\"#m77a0952cfd\" y=\"126.104156\"/>\n      </g>\n     </g>\n     <g id=\"text_1\">\n      <!-- 0 -->\n      <defs>\n       <path d=\"M 31.78125 66.40625 \nQ 24.171875 66.40625 20.328125 58.90625 \nQ 16.5 51.421875 16.5 36.375 \nQ 16.5 21.390625 20.328125 13.890625 \nQ 24.171875 6.390625 31.78125 6.390625 \nQ 39.453125 6.390625 43.28125 13.890625 \nQ 47.125 21.390625 47.125 36.375 \nQ 47.125 51.421875 43.28125 58.90625 \nQ 39.453125 66.40625 31.78125 66.40625 \nz\nM 31.78125 74.21875 \nQ 44.046875 74.21875 50.515625 64.515625 \nQ 56.984375 54.828125 56.984375 36.375 \nQ 56.984375 17.96875 50.515625 8.265625 \nQ 44.046875 -1.421875 31.78125 -1.421875 \nQ 19.53125 -1.421875 13.0625 8.265625 \nQ 6.59375 17.96875 6.59375 36.375 \nQ 6.59375 54.828125 13.0625 64.515625 \nQ 19.53125 74.21875 31.78125 74.21875 \nz\n\" id=\"DejaVuSans-48\"/>\n      </defs>\n      <g transform=\"translate(30.228313 140.702594)scale(0.1 -0.1)\">\n       <use xlink:href=\"#DejaVuSans-48\"/>\n      </g>\n     </g>\n    </g>\n    <g id=\"xtick_2\">\n     <g id=\"line2d_2\">\n      <g>\n       <use style=\"stroke:#000000;stroke-width:0.8;\" x=\"82.234563\" xlink:href=\"#m77a0952cfd\" y=\"126.104156\"/>\n      </g>\n     </g>\n     <g id=\"text_2\">\n      <!-- 200 -->\n      <defs>\n       <path d=\"M 19.1875 8.296875 \nL 53.609375 8.296875 \nL 53.609375 0 \nL 7.328125 0 \nL 7.328125 8.296875 \nQ 12.9375 14.109375 22.625 23.890625 \nQ 32.328125 33.6875 34.8125 36.53125 \nQ 39.546875 41.84375 41.421875 45.53125 \nQ 43.3125 49.21875 43.3125 52.78125 \nQ 43.3125 58.59375 39.234375 62.25 \nQ 35.15625 65.921875 28.609375 65.921875 \nQ 23.96875 65.921875 18.8125 64.3125 \nQ 13.671875 62.703125 7.8125 59.421875 \nL 7.8125 69.390625 \nQ 13.765625 71.78125 18.9375 73 \nQ 24.125 74.21875 28.421875 74.21875 \nQ 39.75 74.21875 46.484375 68.546875 \nQ 53.21875 62.890625 53.21875 53.421875 \nQ 53.21875 48.921875 51.53125 44.890625 \nQ 49.859375 40.875 45.40625 35.40625 \nQ 44.1875 33.984375 37.640625 27.21875 \nQ 31.109375 20.453125 19.1875 8.296875 \nz\n\" id=\"DejaVuSans-50\"/>\n      </defs>\n      <g transform=\"translate(72.690813 140.702594)scale(0.1 -0.1)\">\n       <use xlink:href=\"#DejaVuSans-50\"/>\n       <use x=\"63.623047\" xlink:href=\"#DejaVuSans-48\"/>\n       <use x=\"127.246094\" xlink:href=\"#DejaVuSans-48\"/>\n      </g>\n     </g>\n    </g>\n    <g id=\"xtick_3\">\n     <g id=\"line2d_3\">\n      <g>\n       <use style=\"stroke:#000000;stroke-width:0.8;\" x=\"131.059562\" xlink:href=\"#m77a0952cfd\" y=\"126.104156\"/>\n      </g>\n     </g>\n     <g id=\"text_3\">\n      <!-- 400 -->\n      <defs>\n       <path d=\"M 37.796875 64.3125 \nL 12.890625 25.390625 \nL 37.796875 25.390625 \nz\nM 35.203125 72.90625 \nL 47.609375 72.90625 \nL 47.609375 25.390625 \nL 58.015625 25.390625 \nL 58.015625 17.1875 \nL 47.609375 17.1875 \nL 47.609375 0 \nL 37.796875 0 \nL 37.796875 17.1875 \nL 4.890625 17.1875 \nL 4.890625 26.703125 \nz\n\" id=\"DejaVuSans-52\"/>\n      </defs>\n      <g transform=\"translate(121.515812 140.702594)scale(0.1 -0.1)\">\n       <use xlink:href=\"#DejaVuSans-52\"/>\n       <use x=\"63.623047\" xlink:href=\"#DejaVuSans-48\"/>\n       <use x=\"127.246094\" xlink:href=\"#DejaVuSans-48\"/>\n      </g>\n     </g>\n    </g>\n    <g id=\"xtick_4\">\n     <g id=\"line2d_4\">\n      <g>\n       <use style=\"stroke:#000000;stroke-width:0.8;\" x=\"179.884562\" xlink:href=\"#m77a0952cfd\" y=\"126.104156\"/>\n      </g>\n     </g>\n     <g id=\"text_4\">\n      <!-- 600 -->\n      <defs>\n       <path d=\"M 33.015625 40.375 \nQ 26.375 40.375 22.484375 35.828125 \nQ 18.609375 31.296875 18.609375 23.390625 \nQ 18.609375 15.53125 22.484375 10.953125 \nQ 26.375 6.390625 33.015625 6.390625 \nQ 39.65625 6.390625 43.53125 10.953125 \nQ 47.40625 15.53125 47.40625 23.390625 \nQ 47.40625 31.296875 43.53125 35.828125 \nQ 39.65625 40.375 33.015625 40.375 \nz\nM 52.59375 71.296875 \nL 52.59375 62.3125 \nQ 48.875 64.0625 45.09375 64.984375 \nQ 41.3125 65.921875 37.59375 65.921875 \nQ 27.828125 65.921875 22.671875 59.328125 \nQ 17.53125 52.734375 16.796875 39.40625 \nQ 19.671875 43.65625 24.015625 45.921875 \nQ 28.375 48.1875 33.59375 48.1875 \nQ 44.578125 48.1875 50.953125 41.515625 \nQ 57.328125 34.859375 57.328125 23.390625 \nQ 57.328125 12.15625 50.6875 5.359375 \nQ 44.046875 -1.421875 33.015625 -1.421875 \nQ 20.359375 -1.421875 13.671875 8.265625 \nQ 6.984375 17.96875 6.984375 36.375 \nQ 6.984375 53.65625 15.1875 63.9375 \nQ 23.390625 74.21875 37.203125 74.21875 \nQ 40.921875 74.21875 44.703125 73.484375 \nQ 48.484375 72.75 52.59375 71.296875 \nz\n\" id=\"DejaVuSans-54\"/>\n      </defs>\n      <g transform=\"translate(170.340812 140.702594)scale(0.1 -0.1)\">\n       <use xlink:href=\"#DejaVuSans-54\"/>\n       <use x=\"63.623047\" xlink:href=\"#DejaVuSans-48\"/>\n       <use x=\"127.246094\" xlink:href=\"#DejaVuSans-48\"/>\n      </g>\n     </g>\n    </g>\n   </g>\n   <g id=\"matplotlib.axis_2\">\n    <g id=\"ytick_1\">\n     <g id=\"line2d_5\">\n      <defs>\n       <path d=\"M 0 0 \nL -3.5 0 \n\" id=\"m13f1b88122\" style=\"stroke:#000000;stroke-width:0.8;\"/>\n      </defs>\n      <g>\n       <use style=\"stroke:#000000;stroke-width:0.8;\" x=\"33.2875\" xlink:href=\"#m13f1b88122\" y=\"10.999219\"/>\n      </g>\n     </g>\n     <g id=\"text_5\">\n      <!-- 0 -->\n      <g transform=\"translate(19.925 14.798438)scale(0.1 -0.1)\">\n       <use xlink:href=\"#DejaVuSans-48\"/>\n      </g>\n     </g>\n    </g>\n    <g id=\"ytick_2\">\n     <g id=\"line2d_6\">\n      <g>\n       <use style=\"stroke:#000000;stroke-width:0.8;\" x=\"33.2875\" xlink:href=\"#m13f1b88122\" y=\"35.411719\"/>\n      </g>\n     </g>\n     <g id=\"text_6\">\n      <!-- 100 -->\n      <defs>\n       <path d=\"M 12.40625 8.296875 \nL 28.515625 8.296875 \nL 28.515625 63.921875 \nL 10.984375 60.40625 \nL 10.984375 69.390625 \nL 28.421875 72.90625 \nL 38.28125 72.90625 \nL 38.28125 8.296875 \nL 54.390625 8.296875 \nL 54.390625 0 \nL 12.40625 0 \nz\n\" id=\"DejaVuSans-49\"/>\n      </defs>\n      <g transform=\"translate(7.2 39.210938)scale(0.1 -0.1)\">\n       <use xlink:href=\"#DejaVuSans-49\"/>\n       <use x=\"63.623047\" xlink:href=\"#DejaVuSans-48\"/>\n       <use x=\"127.246094\" xlink:href=\"#DejaVuSans-48\"/>\n      </g>\n     </g>\n    </g>\n    <g id=\"ytick_3\">\n     <g id=\"line2d_7\">\n      <g>\n       <use style=\"stroke:#000000;stroke-width:0.8;\" x=\"33.2875\" xlink:href=\"#m13f1b88122\" y=\"59.824219\"/>\n      </g>\n     </g>\n     <g id=\"text_7\">\n      <!-- 200 -->\n      <g transform=\"translate(7.2 63.623438)scale(0.1 -0.1)\">\n       <use xlink:href=\"#DejaVuSans-50\"/>\n       <use x=\"63.623047\" xlink:href=\"#DejaVuSans-48\"/>\n       <use x=\"127.246094\" xlink:href=\"#DejaVuSans-48\"/>\n      </g>\n     </g>\n    </g>\n    <g id=\"ytick_4\">\n     <g id=\"line2d_8\">\n      <g>\n       <use style=\"stroke:#000000;stroke-width:0.8;\" x=\"33.2875\" xlink:href=\"#m13f1b88122\" y=\"84.236719\"/>\n      </g>\n     </g>\n     <g id=\"text_8\">\n      <!-- 300 -->\n      <defs>\n       <path d=\"M 40.578125 39.3125 \nQ 47.65625 37.796875 51.625 33 \nQ 55.609375 28.21875 55.609375 21.1875 \nQ 55.609375 10.40625 48.1875 4.484375 \nQ 40.765625 -1.421875 27.09375 -1.421875 \nQ 22.515625 -1.421875 17.65625 -0.515625 \nQ 12.796875 0.390625 7.625 2.203125 \nL 7.625 11.71875 \nQ 11.71875 9.328125 16.59375 8.109375 \nQ 21.484375 6.890625 26.8125 6.890625 \nQ 36.078125 6.890625 40.9375 10.546875 \nQ 45.796875 14.203125 45.796875 21.1875 \nQ 45.796875 27.640625 41.28125 31.265625 \nQ 36.765625 34.90625 28.71875 34.90625 \nL 20.21875 34.90625 \nL 20.21875 43.015625 \nL 29.109375 43.015625 \nQ 36.375 43.015625 40.234375 45.921875 \nQ 44.09375 48.828125 44.09375 54.296875 \nQ 44.09375 59.90625 40.109375 62.90625 \nQ 36.140625 65.921875 28.71875 65.921875 \nQ 24.65625 65.921875 20.015625 65.03125 \nQ 15.375 64.15625 9.8125 62.3125 \nL 9.8125 71.09375 \nQ 15.4375 72.65625 20.34375 73.4375 \nQ 25.25 74.21875 29.59375 74.21875 \nQ 40.828125 74.21875 47.359375 69.109375 \nQ 53.90625 64.015625 53.90625 55.328125 \nQ 53.90625 49.265625 50.4375 45.09375 \nQ 46.96875 40.921875 40.578125 39.3125 \nz\n\" id=\"DejaVuSans-51\"/>\n      </defs>\n      <g transform=\"translate(7.2 88.035938)scale(0.1 -0.1)\">\n       <use xlink:href=\"#DejaVuSans-51\"/>\n       <use x=\"63.623047\" xlink:href=\"#DejaVuSans-48\"/>\n       <use x=\"127.246094\" xlink:href=\"#DejaVuSans-48\"/>\n      </g>\n     </g>\n    </g>\n    <g id=\"ytick_5\">\n     <g id=\"line2d_9\">\n      <g>\n       <use style=\"stroke:#000000;stroke-width:0.8;\" x=\"33.2875\" xlink:href=\"#m13f1b88122\" y=\"108.649219\"/>\n      </g>\n     </g>\n     <g id=\"text_9\">\n      <!-- 400 -->\n      <g transform=\"translate(7.2 112.448438)scale(0.1 -0.1)\">\n       <use xlink:href=\"#DejaVuSans-52\"/>\n       <use x=\"63.623047\" xlink:href=\"#DejaVuSans-48\"/>\n       <use x=\"127.246094\" xlink:href=\"#DejaVuSans-48\"/>\n      </g>\n     </g>\n    </g>\n   </g>\n   <g id=\"patch_7\">\n    <path d=\"M 33.2875 126.104156 \nL 33.2875 10.877156 \n\" style=\"fill:none;stroke:#000000;stroke-linecap:square;stroke-linejoin:miter;stroke-width:0.8;\"/>\n   </g>\n   <g id=\"patch_8\">\n    <path d=\"M 228.5875 126.104156 \nL 228.5875 10.877156 \n\" style=\"fill:none;stroke:#000000;stroke-linecap:square;stroke-linejoin:miter;stroke-width:0.8;\"/>\n   </g>\n   <g id=\"patch_9\">\n    <path d=\"M 33.2875 126.104156 \nL 228.5875 126.104156 \n\" style=\"fill:none;stroke:#000000;stroke-linecap:square;stroke-linejoin:miter;stroke-width:0.8;\"/>\n   </g>\n   <g id=\"patch_10\">\n    <path d=\"M 33.2875 10.877156 \nL 228.5875 10.877156 \n\" style=\"fill:none;stroke:#000000;stroke-linecap:square;stroke-linejoin:miter;stroke-width:0.8;\"/>\n   </g>\n   <g id=\"text_10\">\n    <g id=\"patch_11\">\n     <path d=\"M 29.585266 28.532535 \nL 76.293859 28.532535 \nL 76.293859 11.902222 \nL 29.585266 11.902222 \nz\n\" style=\"fill:#0000ff;\"/>\n    </g>\n    <!-- dog=0.9 -->\n    <defs>\n     <path d=\"M 45.40625 46.390625 \nL 45.40625 75.984375 \nL 54.390625 75.984375 \nL 54.390625 0 \nL 45.40625 0 \nL 45.40625 8.203125 \nQ 42.578125 3.328125 38.25 0.953125 \nQ 33.9375 -1.421875 27.875 -1.421875 \nQ 17.96875 -1.421875 11.734375 6.484375 \nQ 5.515625 14.40625 5.515625 27.296875 \nQ 5.515625 40.1875 11.734375 48.09375 \nQ 17.96875 56 27.875 56 \nQ 33.9375 56 38.25 53.625 \nQ 42.578125 51.265625 45.40625 46.390625 \nz\nM 14.796875 27.296875 \nQ 14.796875 17.390625 18.875 11.75 \nQ 22.953125 6.109375 30.078125 6.109375 \nQ 37.203125 6.109375 41.296875 11.75 \nQ 45.40625 17.390625 45.40625 27.296875 \nQ 45.40625 37.203125 41.296875 42.84375 \nQ 37.203125 48.484375 30.078125 48.484375 \nQ 22.953125 48.484375 18.875 42.84375 \nQ 14.796875 37.203125 14.796875 27.296875 \nz\n\" id=\"DejaVuSans-100\"/>\n     <path d=\"M 30.609375 48.390625 \nQ 23.390625 48.390625 19.1875 42.75 \nQ 14.984375 37.109375 14.984375 27.296875 \nQ 14.984375 17.484375 19.15625 11.84375 \nQ 23.34375 6.203125 30.609375 6.203125 \nQ 37.796875 6.203125 41.984375 11.859375 \nQ 46.1875 17.53125 46.1875 27.296875 \nQ 46.1875 37.015625 41.984375 42.703125 \nQ 37.796875 48.390625 30.609375 48.390625 \nz\nM 30.609375 56 \nQ 42.328125 56 49.015625 48.375 \nQ 55.71875 40.765625 55.71875 27.296875 \nQ 55.71875 13.875 49.015625 6.21875 \nQ 42.328125 -1.421875 30.609375 -1.421875 \nQ 18.84375 -1.421875 12.171875 6.21875 \nQ 5.515625 13.875 5.515625 27.296875 \nQ 5.515625 40.765625 12.171875 48.375 \nQ 18.84375 56 30.609375 56 \nz\n\" id=\"DejaVuSans-111\"/>\n     <path d=\"M 45.40625 27.984375 \nQ 45.40625 37.75 41.375 43.109375 \nQ 37.359375 48.484375 30.078125 48.484375 \nQ 22.859375 48.484375 18.828125 43.109375 \nQ 14.796875 37.75 14.796875 27.984375 \nQ 14.796875 18.265625 18.828125 12.890625 \nQ 22.859375 7.515625 30.078125 7.515625 \nQ 37.359375 7.515625 41.375 12.890625 \nQ 45.40625 18.265625 45.40625 27.984375 \nz\nM 54.390625 6.78125 \nQ 54.390625 -7.171875 48.1875 -13.984375 \nQ 42 -20.796875 29.203125 -20.796875 \nQ 24.46875 -20.796875 20.265625 -20.09375 \nQ 16.0625 -19.390625 12.109375 -17.921875 \nL 12.109375 -9.1875 \nQ 16.0625 -11.328125 19.921875 -12.34375 \nQ 23.78125 -13.375 27.78125 -13.375 \nQ 36.625 -13.375 41.015625 -8.765625 \nQ 45.40625 -4.15625 45.40625 5.171875 \nL 45.40625 9.625 \nQ 42.625 4.78125 38.28125 2.390625 \nQ 33.9375 0 27.875 0 \nQ 17.828125 0 11.671875 7.65625 \nQ 5.515625 15.328125 5.515625 27.984375 \nQ 5.515625 40.671875 11.671875 48.328125 \nQ 17.828125 56 27.875 56 \nQ 33.9375 56 38.28125 53.609375 \nQ 42.625 51.21875 45.40625 46.390625 \nL 45.40625 54.6875 \nL 54.390625 54.6875 \nz\n\" id=\"DejaVuSans-103\"/>\n     <path d=\"M 10.59375 45.40625 \nL 73.1875 45.40625 \nL 73.1875 37.203125 \nL 10.59375 37.203125 \nz\nM 10.59375 25.484375 \nL 73.1875 25.484375 \nL 73.1875 17.1875 \nL 10.59375 17.1875 \nz\n\" id=\"DejaVuSans-61\"/>\n     <path d=\"M 10.6875 12.40625 \nL 21 12.40625 \nL 21 0 \nL 10.6875 0 \nz\n\" id=\"DejaVuSans-46\"/>\n     <path d=\"M 10.984375 1.515625 \nL 10.984375 10.5 \nQ 14.703125 8.734375 18.5 7.8125 \nQ 22.3125 6.890625 25.984375 6.890625 \nQ 35.75 6.890625 40.890625 13.453125 \nQ 46.046875 20.015625 46.78125 33.40625 \nQ 43.953125 29.203125 39.59375 26.953125 \nQ 35.25 24.703125 29.984375 24.703125 \nQ 19.046875 24.703125 12.671875 31.3125 \nQ 6.296875 37.9375 6.296875 49.421875 \nQ 6.296875 60.640625 12.9375 67.421875 \nQ 19.578125 74.21875 30.609375 74.21875 \nQ 43.265625 74.21875 49.921875 64.515625 \nQ 56.59375 54.828125 56.59375 36.375 \nQ 56.59375 19.140625 48.40625 8.859375 \nQ 40.234375 -1.421875 26.421875 -1.421875 \nQ 22.703125 -1.421875 18.890625 -0.6875 \nQ 15.09375 0.046875 10.984375 1.515625 \nz\nM 30.609375 32.421875 \nQ 37.25 32.421875 41.125 36.953125 \nQ 45.015625 41.5 45.015625 49.421875 \nQ 45.015625 57.28125 41.125 61.84375 \nQ 37.25 66.40625 30.609375 66.40625 \nQ 23.96875 66.40625 20.09375 61.84375 \nQ 16.21875 57.28125 16.21875 49.421875 \nQ 16.21875 41.5 20.09375 36.953125 \nQ 23.96875 32.421875 30.609375 32.421875 \nz\n\" id=\"DejaVuSans-57\"/>\n    </defs>\n    <g style=\"fill:#ffffff;\" transform=\"translate(33.545266 22.700816)scale(0.09 -0.09)\">\n     <use xlink:href=\"#DejaVuSans-100\"/>\n     <use x=\"63.476562\" xlink:href=\"#DejaVuSans-111\"/>\n     <use x=\"124.658203\" xlink:href=\"#DejaVuSans-103\"/>\n     <use x=\"188.134766\" xlink:href=\"#DejaVuSans-61\"/>\n     <use x=\"271.923828\" xlink:href=\"#DejaVuSans-48\"/>\n     <use x=\"335.546875\" xlink:href=\"#DejaVuSans-46\"/>\n     <use x=\"367.333984\" xlink:href=\"#DejaVuSans-57\"/>\n    </g>\n   </g>\n   <g id=\"text_11\">\n    <g id=\"patch_12\">\n     <path d=\"M 25.679266 42.359775 \nL 72.387859 42.359775 \nL 72.387859 25.729463 \nL 25.679266 25.729463 \nz\n\" style=\"fill:#008000;\"/>\n    </g>\n    <!-- dog=0.8 -->\n    <defs>\n     <path d=\"M 31.78125 34.625 \nQ 24.75 34.625 20.71875 30.859375 \nQ 16.703125 27.09375 16.703125 20.515625 \nQ 16.703125 13.921875 20.71875 10.15625 \nQ 24.75 6.390625 31.78125 6.390625 \nQ 38.8125 6.390625 42.859375 10.171875 \nQ 46.921875 13.96875 46.921875 20.515625 \nQ 46.921875 27.09375 42.890625 30.859375 \nQ 38.875 34.625 31.78125 34.625 \nz\nM 21.921875 38.8125 \nQ 15.578125 40.375 12.03125 44.71875 \nQ 8.5 49.078125 8.5 55.328125 \nQ 8.5 64.0625 14.71875 69.140625 \nQ 20.953125 74.21875 31.78125 74.21875 \nQ 42.671875 74.21875 48.875 69.140625 \nQ 55.078125 64.0625 55.078125 55.328125 \nQ 55.078125 49.078125 51.53125 44.71875 \nQ 48 40.375 41.703125 38.8125 \nQ 48.828125 37.15625 52.796875 32.3125 \nQ 56.78125 27.484375 56.78125 20.515625 \nQ 56.78125 9.90625 50.3125 4.234375 \nQ 43.84375 -1.421875 31.78125 -1.421875 \nQ 19.734375 -1.421875 13.25 4.234375 \nQ 6.78125 9.90625 6.78125 20.515625 \nQ 6.78125 27.484375 10.78125 32.3125 \nQ 14.796875 37.15625 21.921875 38.8125 \nz\nM 18.3125 54.390625 \nQ 18.3125 48.734375 21.84375 45.5625 \nQ 25.390625 42.390625 31.78125 42.390625 \nQ 38.140625 42.390625 41.71875 45.5625 \nQ 45.3125 48.734375 45.3125 54.390625 \nQ 45.3125 60.0625 41.71875 63.234375 \nQ 38.140625 66.40625 31.78125 66.40625 \nQ 25.390625 66.40625 21.84375 63.234375 \nQ 18.3125 60.0625 18.3125 54.390625 \nz\n\" id=\"DejaVuSans-56\"/>\n    </defs>\n    <g style=\"fill:#ffffff;\" transform=\"translate(29.639266 36.528057)scale(0.09 -0.09)\">\n     <use xlink:href=\"#DejaVuSans-100\"/>\n     <use x=\"63.476562\" xlink:href=\"#DejaVuSans-111\"/>\n     <use x=\"124.658203\" xlink:href=\"#DejaVuSans-103\"/>\n     <use x=\"188.134766\" xlink:href=\"#DejaVuSans-61\"/>\n     <use x=\"271.923828\" xlink:href=\"#DejaVuSans-48\"/>\n     <use x=\"335.546875\" xlink:href=\"#DejaVuSans-46\"/>\n     <use x=\"367.333984\" xlink:href=\"#DejaVuSans-56\"/>\n    </g>\n   </g>\n   <g id=\"text_12\">\n    <g id=\"patch_13\">\n     <path d=\"M 39.350267 53.882476 \nL 86.058861 53.882476 \nL 86.058861 37.252164 \nL 39.350267 37.252164 \nz\n\" style=\"fill:#ff0000;\"/>\n    </g>\n    <!-- dog=0.7 -->\n    <defs>\n     <path d=\"M 8.203125 72.90625 \nL 55.078125 72.90625 \nL 55.078125 68.703125 \nL 28.609375 0 \nL 18.3125 0 \nL 43.21875 64.59375 \nL 8.203125 64.59375 \nz\n\" id=\"DejaVuSans-55\"/>\n    </defs>\n    <g style=\"fill:#ffffff;\" transform=\"translate(43.310267 48.050758)scale(0.09 -0.09)\">\n     <use xlink:href=\"#DejaVuSans-100\"/>\n     <use x=\"63.476562\" xlink:href=\"#DejaVuSans-111\"/>\n     <use x=\"124.658203\" xlink:href=\"#DejaVuSans-103\"/>\n     <use x=\"188.134766\" xlink:href=\"#DejaVuSans-61\"/>\n     <use x=\"271.923828\" xlink:href=\"#DejaVuSans-48\"/>\n     <use x=\"335.546875\" xlink:href=\"#DejaVuSans-46\"/>\n     <use x=\"367.333984\" xlink:href=\"#DejaVuSans-55\"/>\n    </g>\n   </g>\n   <g id=\"text_13\">\n    <g id=\"patch_14\">\n     <path d=\"M 118.941203 42.359775 \nL 162.707922 42.359775 \nL 162.707922 25.729463 \nL 118.941203 25.729463 \nz\n\" style=\"fill:#bf00bf;\"/>\n    </g>\n    <!-- cat=0.9 -->\n    <defs>\n     <path d=\"M 48.78125 52.59375 \nL 48.78125 44.1875 \nQ 44.96875 46.296875 41.140625 47.34375 \nQ 37.3125 48.390625 33.40625 48.390625 \nQ 24.65625 48.390625 19.8125 42.84375 \nQ 14.984375 37.3125 14.984375 27.296875 \nQ 14.984375 17.28125 19.8125 11.734375 \nQ 24.65625 6.203125 33.40625 6.203125 \nQ 37.3125 6.203125 41.140625 7.25 \nQ 44.96875 8.296875 48.78125 10.40625 \nL 48.78125 2.09375 \nQ 45.015625 0.34375 40.984375 -0.53125 \nQ 36.96875 -1.421875 32.421875 -1.421875 \nQ 20.0625 -1.421875 12.78125 6.34375 \nQ 5.515625 14.109375 5.515625 27.296875 \nQ 5.515625 40.671875 12.859375 48.328125 \nQ 20.21875 56 33.015625 56 \nQ 37.15625 56 41.109375 55.140625 \nQ 45.0625 54.296875 48.78125 52.59375 \nz\n\" id=\"DejaVuSans-99\"/>\n     <path d=\"M 34.28125 27.484375 \nQ 23.390625 27.484375 19.1875 25 \nQ 14.984375 22.515625 14.984375 16.5 \nQ 14.984375 11.71875 18.140625 8.90625 \nQ 21.296875 6.109375 26.703125 6.109375 \nQ 34.1875 6.109375 38.703125 11.40625 \nQ 43.21875 16.703125 43.21875 25.484375 \nL 43.21875 27.484375 \nz\nM 52.203125 31.203125 \nL 52.203125 0 \nL 43.21875 0 \nL 43.21875 8.296875 \nQ 40.140625 3.328125 35.546875 0.953125 \nQ 30.953125 -1.421875 24.3125 -1.421875 \nQ 15.921875 -1.421875 10.953125 3.296875 \nQ 6 8.015625 6 15.921875 \nQ 6 25.140625 12.171875 29.828125 \nQ 18.359375 34.515625 30.609375 34.515625 \nL 43.21875 34.515625 \nL 43.21875 35.40625 \nQ 43.21875 41.609375 39.140625 45 \nQ 35.0625 48.390625 27.6875 48.390625 \nQ 23 48.390625 18.546875 47.265625 \nQ 14.109375 46.140625 10.015625 43.890625 \nL 10.015625 52.203125 \nQ 14.9375 54.109375 19.578125 55.046875 \nQ 24.21875 56 28.609375 56 \nQ 40.484375 56 46.34375 49.84375 \nQ 52.203125 43.703125 52.203125 31.203125 \nz\n\" id=\"DejaVuSans-97\"/>\n     <path d=\"M 18.3125 70.21875 \nL 18.3125 54.6875 \nL 36.8125 54.6875 \nL 36.8125 47.703125 \nL 18.3125 47.703125 \nL 18.3125 18.015625 \nQ 18.3125 11.328125 20.140625 9.421875 \nQ 21.96875 7.515625 27.59375 7.515625 \nL 36.8125 7.515625 \nL 36.8125 0 \nL 27.59375 0 \nQ 17.1875 0 13.234375 3.875 \nQ 9.28125 7.765625 9.28125 18.015625 \nL 9.28125 47.703125 \nL 2.6875 47.703125 \nL 2.6875 54.6875 \nL 9.28125 54.6875 \nL 9.28125 70.21875 \nz\n\" id=\"DejaVuSans-116\"/>\n    </defs>\n    <g style=\"fill:#ffffff;\" transform=\"translate(122.901203 36.528057)scale(0.09 -0.09)\">\n     <use xlink:href=\"#DejaVuSans-99\"/>\n     <use x=\"54.980469\" xlink:href=\"#DejaVuSans-97\"/>\n     <use x=\"116.259766\" xlink:href=\"#DejaVuSans-116\"/>\n     <use x=\"155.46875\" xlink:href=\"#DejaVuSans-61\"/>\n     <use x=\"239.257812\" xlink:href=\"#DejaVuSans-48\"/>\n     <use x=\"302.880859\" xlink:href=\"#DejaVuSans-46\"/>\n     <use x=\"334.667969\" xlink:href=\"#DejaVuSans-57\"/>\n    </g>\n   </g>\n  </g>\n </g>\n <defs>\n  <clipPath id=\"pa285e03666\">\n   <rect height=\"115.227\" width=\"195.3\" x=\"33.2875\" y=\"10.877156\"/>\n  </clipPath>\n </defs>\n</svg>\n"
          },
          "metadata": {
            "needs_background": "light"
          }
        }
      ],
      "source": [
        "fig = d2l.plt.imshow(img)\n",
        "show_bboxes(fig.axes, anchors * bbox_scale,\n",
        "            ['dog=0.9', 'dog=0.8', 'dog=0.7', 'cat=0.9'])"
      ]
    },
    {
      "cell_type": "markdown",
      "id": "10e72cb6",
      "metadata": {
        "origin_pos": 49,
        "id": "10e72cb6"
      },
      "source": [
        "Now we can invoke the `multibox_detection` function\n",
        "to perform non-maximum suppression,\n",
        "where the threshold is set to 0.5.\n",
        "Note that we add\n",
        "a dimension for examples in the tensor input.\n",
        "\n",
        "We can see that [**the shape of the returned result**] is\n",
        "(batch size, number of anchor boxes, 6).\n",
        "The six elements in the innermost dimension\n",
        "gives the output information for the same predicted bounding box.\n",
        "The first element is the predicted class index, which starts from 0 (0 is dog and 1 is cat). The value -1 indicates background or removal in non-maximum suppression.\n",
        "The second element is the confidence of the predicted bounding box.\n",
        "The remaining four elements are the $(x, y)$-axis coordinates of the upper-left corner and \n",
        "the lower-right corner of the predicted bounding box, respectively (range is between 0 and 1).\n"
      ]
    },
    {
      "cell_type": "code",
      "execution_count": 22,
      "id": "83ec63c3",
      "metadata": {
        "execution": {
          "iopub.execute_input": "2022-09-07T22:12:51.117779Z",
          "iopub.status.busy": "2022-09-07T22:12:51.116928Z",
          "iopub.status.idle": "2022-09-07T22:12:51.129003Z",
          "shell.execute_reply": "2022-09-07T22:12:51.127926Z"
        },
        "origin_pos": 51,
        "tab": [
          "pytorch"
        ],
        "id": "83ec63c3",
        "outputId": "37840972-5a74-4032-92e4-397f2a392408",
        "colab": {
          "base_uri": "https://localhost:8080/"
        }
      },
      "outputs": [
        {
          "output_type": "execute_result",
          "data": {
            "text/plain": [
              "tensor([[[ 0.00,  0.90,  0.10,  0.08,  0.52,  0.92],\n",
              "         [ 1.00,  0.90,  0.55,  0.20,  0.90,  0.88],\n",
              "         [-1.00,  0.80,  0.08,  0.20,  0.56,  0.95],\n",
              "         [-1.00,  0.70,  0.15,  0.30,  0.62,  0.91]]])"
            ]
          },
          "metadata": {},
          "execution_count": 22
        }
      ],
      "source": [
        "output = multibox_detection(cls_probs.unsqueeze(dim=0),\n",
        "                            offset_preds.unsqueeze(dim=0),\n",
        "                            anchors.unsqueeze(dim=0),\n",
        "                            nms_threshold=0.5)\n",
        "output"
      ]
    },
    {
      "cell_type": "markdown",
      "id": "7c0ee3f2",
      "metadata": {
        "origin_pos": 52,
        "id": "7c0ee3f2"
      },
      "source": [
        "After removing those predicted bounding boxes\n",
        "of class -1, \n",
        "we can [**output the final predicted bounding box\n",
        "kept by non-maximum suppression**].\n"
      ]
    },
    {
      "cell_type": "code",
      "execution_count": 23,
      "id": "d57e9a99",
      "metadata": {
        "execution": {
          "iopub.execute_input": "2022-09-07T22:12:51.133086Z",
          "iopub.status.busy": "2022-09-07T22:12:51.132192Z",
          "iopub.status.idle": "2022-09-07T22:12:51.379277Z",
          "shell.execute_reply": "2022-09-07T22:12:51.378443Z"
        },
        "origin_pos": 53,
        "tab": [
          "pytorch"
        ],
        "id": "d57e9a99",
        "outputId": "ac2b7c65-335e-4fb5-9cdd-547bcda87950",
        "colab": {
          "base_uri": "https://localhost:8080/",
          "height": 221
        }
      },
      "outputs": [
        {
          "output_type": "display_data",
          "data": {
            "text/plain": [
              "<Figure size 252x180 with 1 Axes>"
            ],
            "image/svg+xml": "<?xml version=\"1.0\" encoding=\"utf-8\" standalone=\"no\"?>\n<!DOCTYPE svg PUBLIC \"-//W3C//DTD SVG 1.1//EN\"\n  \"http://www.w3.org/Graphics/SVG/1.1/DTD/svg11.dtd\">\n<!-- Created with matplotlib (https://matplotlib.org/) -->\n<svg height=\"149.982281pt\" version=\"1.1\" viewBox=\"0 0 235.7875 149.982281\" width=\"235.7875pt\" xmlns=\"http://www.w3.org/2000/svg\" xmlns:xlink=\"http://www.w3.org/1999/xlink\">\n <defs>\n  <style type=\"text/css\">\n*{stroke-linecap:butt;stroke-linejoin:round;}\n  </style>\n </defs>\n <g id=\"figure_1\">\n  <g id=\"patch_1\">\n   <path d=\"M 0 149.982281 \nL 235.7875 149.982281 \nL 235.7875 0 \nL 0 0 \nz\n\" style=\"fill:none;\"/>\n  </g>\n  <g id=\"axes_1\">\n   <g id=\"patch_2\">\n    <path d=\"M 33.2875 126.104156 \nL 228.5875 126.104156 \nL 228.5875 10.877156 \nL 33.2875 10.877156 \nz\n\" style=\"fill:#ffffff;\"/>\n   </g>\n   <g clip-path=\"url(#p741a852883)\">\n    <image height=\"116\" id=\"image5a164f5964\" transform=\"scale(1 -1)translate(0 -116)\" width=\"196\" x=\"33.2875\" xlink:href=\"data:image/png;base64,\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\" y=\"-10.104156\"/>\n   </g>\n   <g id=\"patch_3\">\n    <path clip-path=\"url(#p741a852883)\" d=\"M 52.939564 20.217376 \nL 134.965563 20.217376 \nL 134.965563 117.008064 \nL 52.939564 117.008064 \nz\n\" style=\"fill:none;stroke:#0000ff;stroke-linejoin:miter;stroke-width:2;\"/>\n   </g>\n   <g id=\"patch_4\">\n    <path clip-path=\"url(#p741a852883)\" d=\"M 140.824577 34.044621 \nL 209.179563 34.044621 \nL 209.179563 112.398975 \nL 140.824577 112.398975 \nz\n\" style=\"fill:none;stroke:#0000ff;stroke-linejoin:miter;stroke-width:2;\"/>\n   </g>\n   <g id=\"matplotlib.axis_1\">\n    <g id=\"xtick_1\">\n     <g id=\"line2d_1\">\n      <defs>\n       <path d=\"M 0 0 \nL 0 3.5 \n\" id=\"m56ba7a0aea\" style=\"stroke:#000000;stroke-width:0.8;\"/>\n      </defs>\n      <g>\n       <use style=\"stroke:#000000;stroke-width:0.8;\" x=\"33.409562\" xlink:href=\"#m56ba7a0aea\" y=\"126.104156\"/>\n      </g>\n     </g>\n     <g id=\"text_1\">\n      <!-- 0 -->\n      <defs>\n       <path d=\"M 31.78125 66.40625 \nQ 24.171875 66.40625 20.328125 58.90625 \nQ 16.5 51.421875 16.5 36.375 \nQ 16.5 21.390625 20.328125 13.890625 \nQ 24.171875 6.390625 31.78125 6.390625 \nQ 39.453125 6.390625 43.28125 13.890625 \nQ 47.125 21.390625 47.125 36.375 \nQ 47.125 51.421875 43.28125 58.90625 \nQ 39.453125 66.40625 31.78125 66.40625 \nz\nM 31.78125 74.21875 \nQ 44.046875 74.21875 50.515625 64.515625 \nQ 56.984375 54.828125 56.984375 36.375 \nQ 56.984375 17.96875 50.515625 8.265625 \nQ 44.046875 -1.421875 31.78125 -1.421875 \nQ 19.53125 -1.421875 13.0625 8.265625 \nQ 6.59375 17.96875 6.59375 36.375 \nQ 6.59375 54.828125 13.0625 64.515625 \nQ 19.53125 74.21875 31.78125 74.21875 \nz\n\" id=\"DejaVuSans-48\"/>\n      </defs>\n      <g transform=\"translate(30.228313 140.702594)scale(0.1 -0.1)\">\n       <use xlink:href=\"#DejaVuSans-48\"/>\n      </g>\n     </g>\n    </g>\n    <g id=\"xtick_2\">\n     <g id=\"line2d_2\">\n      <g>\n       <use style=\"stroke:#000000;stroke-width:0.8;\" x=\"82.234563\" xlink:href=\"#m56ba7a0aea\" y=\"126.104156\"/>\n      </g>\n     </g>\n     <g id=\"text_2\">\n      <!-- 200 -->\n      <defs>\n       <path d=\"M 19.1875 8.296875 \nL 53.609375 8.296875 \nL 53.609375 0 \nL 7.328125 0 \nL 7.328125 8.296875 \nQ 12.9375 14.109375 22.625 23.890625 \nQ 32.328125 33.6875 34.8125 36.53125 \nQ 39.546875 41.84375 41.421875 45.53125 \nQ 43.3125 49.21875 43.3125 52.78125 \nQ 43.3125 58.59375 39.234375 62.25 \nQ 35.15625 65.921875 28.609375 65.921875 \nQ 23.96875 65.921875 18.8125 64.3125 \nQ 13.671875 62.703125 7.8125 59.421875 \nL 7.8125 69.390625 \nQ 13.765625 71.78125 18.9375 73 \nQ 24.125 74.21875 28.421875 74.21875 \nQ 39.75 74.21875 46.484375 68.546875 \nQ 53.21875 62.890625 53.21875 53.421875 \nQ 53.21875 48.921875 51.53125 44.890625 \nQ 49.859375 40.875 45.40625 35.40625 \nQ 44.1875 33.984375 37.640625 27.21875 \nQ 31.109375 20.453125 19.1875 8.296875 \nz\n\" id=\"DejaVuSans-50\"/>\n      </defs>\n      <g transform=\"translate(72.690813 140.702594)scale(0.1 -0.1)\">\n       <use xlink:href=\"#DejaVuSans-50\"/>\n       <use x=\"63.623047\" xlink:href=\"#DejaVuSans-48\"/>\n       <use x=\"127.246094\" xlink:href=\"#DejaVuSans-48\"/>\n      </g>\n     </g>\n    </g>\n    <g id=\"xtick_3\">\n     <g id=\"line2d_3\">\n      <g>\n       <use style=\"stroke:#000000;stroke-width:0.8;\" x=\"131.059562\" xlink:href=\"#m56ba7a0aea\" y=\"126.104156\"/>\n      </g>\n     </g>\n     <g id=\"text_3\">\n      <!-- 400 -->\n      <defs>\n       <path d=\"M 37.796875 64.3125 \nL 12.890625 25.390625 \nL 37.796875 25.390625 \nz\nM 35.203125 72.90625 \nL 47.609375 72.90625 \nL 47.609375 25.390625 \nL 58.015625 25.390625 \nL 58.015625 17.1875 \nL 47.609375 17.1875 \nL 47.609375 0 \nL 37.796875 0 \nL 37.796875 17.1875 \nL 4.890625 17.1875 \nL 4.890625 26.703125 \nz\n\" id=\"DejaVuSans-52\"/>\n      </defs>\n      <g transform=\"translate(121.515812 140.702594)scale(0.1 -0.1)\">\n       <use xlink:href=\"#DejaVuSans-52\"/>\n       <use x=\"63.623047\" xlink:href=\"#DejaVuSans-48\"/>\n       <use x=\"127.246094\" xlink:href=\"#DejaVuSans-48\"/>\n      </g>\n     </g>\n    </g>\n    <g id=\"xtick_4\">\n     <g id=\"line2d_4\">\n      <g>\n       <use style=\"stroke:#000000;stroke-width:0.8;\" x=\"179.884562\" xlink:href=\"#m56ba7a0aea\" y=\"126.104156\"/>\n      </g>\n     </g>\n     <g id=\"text_4\">\n      <!-- 600 -->\n      <defs>\n       <path d=\"M 33.015625 40.375 \nQ 26.375 40.375 22.484375 35.828125 \nQ 18.609375 31.296875 18.609375 23.390625 \nQ 18.609375 15.53125 22.484375 10.953125 \nQ 26.375 6.390625 33.015625 6.390625 \nQ 39.65625 6.390625 43.53125 10.953125 \nQ 47.40625 15.53125 47.40625 23.390625 \nQ 47.40625 31.296875 43.53125 35.828125 \nQ 39.65625 40.375 33.015625 40.375 \nz\nM 52.59375 71.296875 \nL 52.59375 62.3125 \nQ 48.875 64.0625 45.09375 64.984375 \nQ 41.3125 65.921875 37.59375 65.921875 \nQ 27.828125 65.921875 22.671875 59.328125 \nQ 17.53125 52.734375 16.796875 39.40625 \nQ 19.671875 43.65625 24.015625 45.921875 \nQ 28.375 48.1875 33.59375 48.1875 \nQ 44.578125 48.1875 50.953125 41.515625 \nQ 57.328125 34.859375 57.328125 23.390625 \nQ 57.328125 12.15625 50.6875 5.359375 \nQ 44.046875 -1.421875 33.015625 -1.421875 \nQ 20.359375 -1.421875 13.671875 8.265625 \nQ 6.984375 17.96875 6.984375 36.375 \nQ 6.984375 53.65625 15.1875 63.9375 \nQ 23.390625 74.21875 37.203125 74.21875 \nQ 40.921875 74.21875 44.703125 73.484375 \nQ 48.484375 72.75 52.59375 71.296875 \nz\n\" id=\"DejaVuSans-54\"/>\n      </defs>\n      <g transform=\"translate(170.340812 140.702594)scale(0.1 -0.1)\">\n       <use xlink:href=\"#DejaVuSans-54\"/>\n       <use x=\"63.623047\" xlink:href=\"#DejaVuSans-48\"/>\n       <use x=\"127.246094\" xlink:href=\"#DejaVuSans-48\"/>\n      </g>\n     </g>\n    </g>\n   </g>\n   <g id=\"matplotlib.axis_2\">\n    <g id=\"ytick_1\">\n     <g id=\"line2d_5\">\n      <defs>\n       <path d=\"M 0 0 \nL -3.5 0 \n\" id=\"mff45ea1cb0\" style=\"stroke:#000000;stroke-width:0.8;\"/>\n      </defs>\n      <g>\n       <use style=\"stroke:#000000;stroke-width:0.8;\" x=\"33.2875\" xlink:href=\"#mff45ea1cb0\" y=\"10.999219\"/>\n      </g>\n     </g>\n     <g id=\"text_5\">\n      <!-- 0 -->\n      <g transform=\"translate(19.925 14.798438)scale(0.1 -0.1)\">\n       <use xlink:href=\"#DejaVuSans-48\"/>\n      </g>\n     </g>\n    </g>\n    <g id=\"ytick_2\">\n     <g id=\"line2d_6\">\n      <g>\n       <use style=\"stroke:#000000;stroke-width:0.8;\" x=\"33.2875\" xlink:href=\"#mff45ea1cb0\" y=\"35.411719\"/>\n      </g>\n     </g>\n     <g id=\"text_6\">\n      <!-- 100 -->\n      <defs>\n       <path d=\"M 12.40625 8.296875 \nL 28.515625 8.296875 \nL 28.515625 63.921875 \nL 10.984375 60.40625 \nL 10.984375 69.390625 \nL 28.421875 72.90625 \nL 38.28125 72.90625 \nL 38.28125 8.296875 \nL 54.390625 8.296875 \nL 54.390625 0 \nL 12.40625 0 \nz\n\" id=\"DejaVuSans-49\"/>\n      </defs>\n      <g transform=\"translate(7.2 39.210938)scale(0.1 -0.1)\">\n       <use xlink:href=\"#DejaVuSans-49\"/>\n       <use x=\"63.623047\" xlink:href=\"#DejaVuSans-48\"/>\n       <use x=\"127.246094\" xlink:href=\"#DejaVuSans-48\"/>\n      </g>\n     </g>\n    </g>\n    <g id=\"ytick_3\">\n     <g id=\"line2d_7\">\n      <g>\n       <use style=\"stroke:#000000;stroke-width:0.8;\" x=\"33.2875\" xlink:href=\"#mff45ea1cb0\" y=\"59.824219\"/>\n      </g>\n     </g>\n     <g id=\"text_7\">\n      <!-- 200 -->\n      <g transform=\"translate(7.2 63.623438)scale(0.1 -0.1)\">\n       <use xlink:href=\"#DejaVuSans-50\"/>\n       <use x=\"63.623047\" xlink:href=\"#DejaVuSans-48\"/>\n       <use x=\"127.246094\" xlink:href=\"#DejaVuSans-48\"/>\n      </g>\n     </g>\n    </g>\n    <g id=\"ytick_4\">\n     <g id=\"line2d_8\">\n      <g>\n       <use style=\"stroke:#000000;stroke-width:0.8;\" x=\"33.2875\" xlink:href=\"#mff45ea1cb0\" y=\"84.236719\"/>\n      </g>\n     </g>\n     <g id=\"text_8\">\n      <!-- 300 -->\n      <defs>\n       <path d=\"M 40.578125 39.3125 \nQ 47.65625 37.796875 51.625 33 \nQ 55.609375 28.21875 55.609375 21.1875 \nQ 55.609375 10.40625 48.1875 4.484375 \nQ 40.765625 -1.421875 27.09375 -1.421875 \nQ 22.515625 -1.421875 17.65625 -0.515625 \nQ 12.796875 0.390625 7.625 2.203125 \nL 7.625 11.71875 \nQ 11.71875 9.328125 16.59375 8.109375 \nQ 21.484375 6.890625 26.8125 6.890625 \nQ 36.078125 6.890625 40.9375 10.546875 \nQ 45.796875 14.203125 45.796875 21.1875 \nQ 45.796875 27.640625 41.28125 31.265625 \nQ 36.765625 34.90625 28.71875 34.90625 \nL 20.21875 34.90625 \nL 20.21875 43.015625 \nL 29.109375 43.015625 \nQ 36.375 43.015625 40.234375 45.921875 \nQ 44.09375 48.828125 44.09375 54.296875 \nQ 44.09375 59.90625 40.109375 62.90625 \nQ 36.140625 65.921875 28.71875 65.921875 \nQ 24.65625 65.921875 20.015625 65.03125 \nQ 15.375 64.15625 9.8125 62.3125 \nL 9.8125 71.09375 \nQ 15.4375 72.65625 20.34375 73.4375 \nQ 25.25 74.21875 29.59375 74.21875 \nQ 40.828125 74.21875 47.359375 69.109375 \nQ 53.90625 64.015625 53.90625 55.328125 \nQ 53.90625 49.265625 50.4375 45.09375 \nQ 46.96875 40.921875 40.578125 39.3125 \nz\n\" id=\"DejaVuSans-51\"/>\n      </defs>\n      <g transform=\"translate(7.2 88.035938)scale(0.1 -0.1)\">\n       <use xlink:href=\"#DejaVuSans-51\"/>\n       <use x=\"63.623047\" xlink:href=\"#DejaVuSans-48\"/>\n       <use x=\"127.246094\" xlink:href=\"#DejaVuSans-48\"/>\n      </g>\n     </g>\n    </g>\n    <g id=\"ytick_5\">\n     <g id=\"line2d_9\">\n      <g>\n       <use style=\"stroke:#000000;stroke-width:0.8;\" x=\"33.2875\" xlink:href=\"#mff45ea1cb0\" y=\"108.649219\"/>\n      </g>\n     </g>\n     <g id=\"text_9\">\n      <!-- 400 -->\n      <g transform=\"translate(7.2 112.448438)scale(0.1 -0.1)\">\n       <use xlink:href=\"#DejaVuSans-52\"/>\n       <use x=\"63.623047\" xlink:href=\"#DejaVuSans-48\"/>\n       <use x=\"127.246094\" xlink:href=\"#DejaVuSans-48\"/>\n      </g>\n     </g>\n    </g>\n   </g>\n   <g id=\"patch_5\">\n    <path d=\"M 33.2875 126.104156 \nL 33.2875 10.877156 \n\" style=\"fill:none;stroke:#000000;stroke-linecap:square;stroke-linejoin:miter;stroke-width:0.8;\"/>\n   </g>\n   <g id=\"patch_6\">\n    <path d=\"M 228.5875 126.104156 \nL 228.5875 10.877156 \n\" style=\"fill:none;stroke:#000000;stroke-linecap:square;stroke-linejoin:miter;stroke-width:0.8;\"/>\n   </g>\n   <g id=\"patch_7\">\n    <path d=\"M 33.2875 126.104156 \nL 228.5875 126.104156 \n\" style=\"fill:none;stroke:#000000;stroke-linecap:square;stroke-linejoin:miter;stroke-width:0.8;\"/>\n   </g>\n   <g id=\"patch_8\">\n    <path d=\"M 33.2875 10.877156 \nL 228.5875 10.877156 \n\" style=\"fill:none;stroke:#000000;stroke-linecap:square;stroke-linejoin:miter;stroke-width:0.8;\"/>\n   </g>\n   <g id=\"text_10\">\n    <g id=\"patch_9\">\n     <path d=\"M 29.585267 28.532533 \nL 76.293861 28.532533 \nL 76.293861 11.90222 \nL 29.585267 11.90222 \nz\n\" style=\"fill:#0000ff;\"/>\n    </g>\n    <!-- dog=0.9 -->\n    <defs>\n     <path d=\"M 45.40625 46.390625 \nL 45.40625 75.984375 \nL 54.390625 75.984375 \nL 54.390625 0 \nL 45.40625 0 \nL 45.40625 8.203125 \nQ 42.578125 3.328125 38.25 0.953125 \nQ 33.9375 -1.421875 27.875 -1.421875 \nQ 17.96875 -1.421875 11.734375 6.484375 \nQ 5.515625 14.40625 5.515625 27.296875 \nQ 5.515625 40.1875 11.734375 48.09375 \nQ 17.96875 56 27.875 56 \nQ 33.9375 56 38.25 53.625 \nQ 42.578125 51.265625 45.40625 46.390625 \nz\nM 14.796875 27.296875 \nQ 14.796875 17.390625 18.875 11.75 \nQ 22.953125 6.109375 30.078125 6.109375 \nQ 37.203125 6.109375 41.296875 11.75 \nQ 45.40625 17.390625 45.40625 27.296875 \nQ 45.40625 37.203125 41.296875 42.84375 \nQ 37.203125 48.484375 30.078125 48.484375 \nQ 22.953125 48.484375 18.875 42.84375 \nQ 14.796875 37.203125 14.796875 27.296875 \nz\n\" id=\"DejaVuSans-100\"/>\n     <path d=\"M 30.609375 48.390625 \nQ 23.390625 48.390625 19.1875 42.75 \nQ 14.984375 37.109375 14.984375 27.296875 \nQ 14.984375 17.484375 19.15625 11.84375 \nQ 23.34375 6.203125 30.609375 6.203125 \nQ 37.796875 6.203125 41.984375 11.859375 \nQ 46.1875 17.53125 46.1875 27.296875 \nQ 46.1875 37.015625 41.984375 42.703125 \nQ 37.796875 48.390625 30.609375 48.390625 \nz\nM 30.609375 56 \nQ 42.328125 56 49.015625 48.375 \nQ 55.71875 40.765625 55.71875 27.296875 \nQ 55.71875 13.875 49.015625 6.21875 \nQ 42.328125 -1.421875 30.609375 -1.421875 \nQ 18.84375 -1.421875 12.171875 6.21875 \nQ 5.515625 13.875 5.515625 27.296875 \nQ 5.515625 40.765625 12.171875 48.375 \nQ 18.84375 56 30.609375 56 \nz\n\" id=\"DejaVuSans-111\"/>\n     <path d=\"M 45.40625 27.984375 \nQ 45.40625 37.75 41.375 43.109375 \nQ 37.359375 48.484375 30.078125 48.484375 \nQ 22.859375 48.484375 18.828125 43.109375 \nQ 14.796875 37.75 14.796875 27.984375 \nQ 14.796875 18.265625 18.828125 12.890625 \nQ 22.859375 7.515625 30.078125 7.515625 \nQ 37.359375 7.515625 41.375 12.890625 \nQ 45.40625 18.265625 45.40625 27.984375 \nz\nM 54.390625 6.78125 \nQ 54.390625 -7.171875 48.1875 -13.984375 \nQ 42 -20.796875 29.203125 -20.796875 \nQ 24.46875 -20.796875 20.265625 -20.09375 \nQ 16.0625 -19.390625 12.109375 -17.921875 \nL 12.109375 -9.1875 \nQ 16.0625 -11.328125 19.921875 -12.34375 \nQ 23.78125 -13.375 27.78125 -13.375 \nQ 36.625 -13.375 41.015625 -8.765625 \nQ 45.40625 -4.15625 45.40625 5.171875 \nL 45.40625 9.625 \nQ 42.625 4.78125 38.28125 2.390625 \nQ 33.9375 0 27.875 0 \nQ 17.828125 0 11.671875 7.65625 \nQ 5.515625 15.328125 5.515625 27.984375 \nQ 5.515625 40.671875 11.671875 48.328125 \nQ 17.828125 56 27.875 56 \nQ 33.9375 56 38.28125 53.609375 \nQ 42.625 51.21875 45.40625 46.390625 \nL 45.40625 54.6875 \nL 54.390625 54.6875 \nz\n\" id=\"DejaVuSans-103\"/>\n     <path d=\"M 10.59375 45.40625 \nL 73.1875 45.40625 \nL 73.1875 37.203125 \nL 10.59375 37.203125 \nz\nM 10.59375 25.484375 \nL 73.1875 25.484375 \nL 73.1875 17.1875 \nL 10.59375 17.1875 \nz\n\" id=\"DejaVuSans-61\"/>\n     <path d=\"M 10.6875 12.40625 \nL 21 12.40625 \nL 21 0 \nL 10.6875 0 \nz\n\" id=\"DejaVuSans-46\"/>\n     <path d=\"M 10.984375 1.515625 \nL 10.984375 10.5 \nQ 14.703125 8.734375 18.5 7.8125 \nQ 22.3125 6.890625 25.984375 6.890625 \nQ 35.75 6.890625 40.890625 13.453125 \nQ 46.046875 20.015625 46.78125 33.40625 \nQ 43.953125 29.203125 39.59375 26.953125 \nQ 35.25 24.703125 29.984375 24.703125 \nQ 19.046875 24.703125 12.671875 31.3125 \nQ 6.296875 37.9375 6.296875 49.421875 \nQ 6.296875 60.640625 12.9375 67.421875 \nQ 19.578125 74.21875 30.609375 74.21875 \nQ 43.265625 74.21875 49.921875 64.515625 \nQ 56.59375 54.828125 56.59375 36.375 \nQ 56.59375 19.140625 48.40625 8.859375 \nQ 40.234375 -1.421875 26.421875 -1.421875 \nQ 22.703125 -1.421875 18.890625 -0.6875 \nQ 15.09375 0.046875 10.984375 1.515625 \nz\nM 30.609375 32.421875 \nQ 37.25 32.421875 41.125 36.953125 \nQ 45.015625 41.5 45.015625 49.421875 \nQ 45.015625 57.28125 41.125 61.84375 \nQ 37.25 66.40625 30.609375 66.40625 \nQ 23.96875 66.40625 20.09375 61.84375 \nQ 16.21875 57.28125 16.21875 49.421875 \nQ 16.21875 41.5 20.09375 36.953125 \nQ 23.96875 32.421875 30.609375 32.421875 \nz\n\" id=\"DejaVuSans-57\"/>\n    </defs>\n    <g style=\"fill:#ffffff;\" transform=\"translate(33.545267 22.700814)scale(0.09 -0.09)\">\n     <use xlink:href=\"#DejaVuSans-100\"/>\n     <use x=\"63.476562\" xlink:href=\"#DejaVuSans-111\"/>\n     <use x=\"124.658203\" xlink:href=\"#DejaVuSans-103\"/>\n     <use x=\"188.134766\" xlink:href=\"#DejaVuSans-61\"/>\n     <use x=\"271.923828\" xlink:href=\"#DejaVuSans-48\"/>\n     <use x=\"335.546875\" xlink:href=\"#DejaVuSans-46\"/>\n     <use x=\"367.333984\" xlink:href=\"#DejaVuSans-57\"/>\n    </g>\n   </g>\n   <g id=\"text_11\">\n    <g id=\"patch_10\">\n     <path d=\"M 118.941218 42.359777 \nL 162.707937 42.359777 \nL 162.707937 25.729465 \nL 118.941218 25.729465 \nz\n\" style=\"fill:#0000ff;\"/>\n    </g>\n    <!-- cat=0.9 -->\n    <defs>\n     <path d=\"M 48.78125 52.59375 \nL 48.78125 44.1875 \nQ 44.96875 46.296875 41.140625 47.34375 \nQ 37.3125 48.390625 33.40625 48.390625 \nQ 24.65625 48.390625 19.8125 42.84375 \nQ 14.984375 37.3125 14.984375 27.296875 \nQ 14.984375 17.28125 19.8125 11.734375 \nQ 24.65625 6.203125 33.40625 6.203125 \nQ 37.3125 6.203125 41.140625 7.25 \nQ 44.96875 8.296875 48.78125 10.40625 \nL 48.78125 2.09375 \nQ 45.015625 0.34375 40.984375 -0.53125 \nQ 36.96875 -1.421875 32.421875 -1.421875 \nQ 20.0625 -1.421875 12.78125 6.34375 \nQ 5.515625 14.109375 5.515625 27.296875 \nQ 5.515625 40.671875 12.859375 48.328125 \nQ 20.21875 56 33.015625 56 \nQ 37.15625 56 41.109375 55.140625 \nQ 45.0625 54.296875 48.78125 52.59375 \nz\n\" id=\"DejaVuSans-99\"/>\n     <path d=\"M 34.28125 27.484375 \nQ 23.390625 27.484375 19.1875 25 \nQ 14.984375 22.515625 14.984375 16.5 \nQ 14.984375 11.71875 18.140625 8.90625 \nQ 21.296875 6.109375 26.703125 6.109375 \nQ 34.1875 6.109375 38.703125 11.40625 \nQ 43.21875 16.703125 43.21875 25.484375 \nL 43.21875 27.484375 \nz\nM 52.203125 31.203125 \nL 52.203125 0 \nL 43.21875 0 \nL 43.21875 8.296875 \nQ 40.140625 3.328125 35.546875 0.953125 \nQ 30.953125 -1.421875 24.3125 -1.421875 \nQ 15.921875 -1.421875 10.953125 3.296875 \nQ 6 8.015625 6 15.921875 \nQ 6 25.140625 12.171875 29.828125 \nQ 18.359375 34.515625 30.609375 34.515625 \nL 43.21875 34.515625 \nL 43.21875 35.40625 \nQ 43.21875 41.609375 39.140625 45 \nQ 35.0625 48.390625 27.6875 48.390625 \nQ 23 48.390625 18.546875 47.265625 \nQ 14.109375 46.140625 10.015625 43.890625 \nL 10.015625 52.203125 \nQ 14.9375 54.109375 19.578125 55.046875 \nQ 24.21875 56 28.609375 56 \nQ 40.484375 56 46.34375 49.84375 \nQ 52.203125 43.703125 52.203125 31.203125 \nz\n\" id=\"DejaVuSans-97\"/>\n     <path d=\"M 18.3125 70.21875 \nL 18.3125 54.6875 \nL 36.8125 54.6875 \nL 36.8125 47.703125 \nL 18.3125 47.703125 \nL 18.3125 18.015625 \nQ 18.3125 11.328125 20.140625 9.421875 \nQ 21.96875 7.515625 27.59375 7.515625 \nL 36.8125 7.515625 \nL 36.8125 0 \nL 27.59375 0 \nQ 17.1875 0 13.234375 3.875 \nQ 9.28125 7.765625 9.28125 18.015625 \nL 9.28125 47.703125 \nL 2.6875 47.703125 \nL 2.6875 54.6875 \nL 9.28125 54.6875 \nL 9.28125 70.21875 \nz\n\" id=\"DejaVuSans-116\"/>\n    </defs>\n    <g style=\"fill:#ffffff;\" transform=\"translate(122.901218 36.528058)scale(0.09 -0.09)\">\n     <use xlink:href=\"#DejaVuSans-99\"/>\n     <use x=\"54.980469\" xlink:href=\"#DejaVuSans-97\"/>\n     <use x=\"116.259766\" xlink:href=\"#DejaVuSans-116\"/>\n     <use x=\"155.46875\" xlink:href=\"#DejaVuSans-61\"/>\n     <use x=\"239.257812\" xlink:href=\"#DejaVuSans-48\"/>\n     <use x=\"302.880859\" xlink:href=\"#DejaVuSans-46\"/>\n     <use x=\"334.667969\" xlink:href=\"#DejaVuSans-57\"/>\n    </g>\n   </g>\n  </g>\n </g>\n <defs>\n  <clipPath id=\"p741a852883\">\n   <rect height=\"115.227\" width=\"195.3\" x=\"33.2875\" y=\"10.877156\"/>\n  </clipPath>\n </defs>\n</svg>\n"
          },
          "metadata": {
            "needs_background": "light"
          }
        }
      ],
      "source": [
        "fig = d2l.plt.imshow(img)\n",
        "for i in output[0].detach().numpy():\n",
        "    if i[0] == -1:\n",
        "        continue\n",
        "    label = ('dog=', 'cat=')[int(i[0])] + str(i[1])\n",
        "    show_bboxes(fig.axes, [torch.tensor(i[2:]) * bbox_scale], label)"
      ]
    },
    {
      "cell_type": "markdown",
      "id": "579371bb",
      "metadata": {
        "origin_pos": 54,
        "id": "579371bb"
      },
      "source": [
        "In practice, we can remove predicted bounding boxes with lower confidence even before performing non-maximum suppression, thereby reducing computation in this algorithm.\n",
        "We may also post-process the output of non-maximum suppression, for example, by only keeping\n",
        "results with higher confidence\n",
        "in the final output.\n",
        "\n",
        "\n",
        "## Summary\n",
        "\n",
        "* We generate anchor boxes with different shapes centered on each pixel of the image.\n",
        "* Intersection over union (IoU), also known as Jaccard index, measures the similarity of two bounding boxes. It is the ratio of their intersection area to their union area.\n",
        "* In a training set, we need two types of labels for each anchor box. One is the class of the object relevant to the anchor box and the other is the offset of the ground-truth bounding box relative to the anchor box.\n",
        "* During prediction, we can use non-maximum suppression (NMS) to remove similar predicted bounding boxes, thereby simplifying the output.\n",
        "\n",
        "\n",
        "## Exercises\n",
        "\n",
        "1. Change values of `sizes` and `ratios` in the `multibox_prior` function. What are the changes to the generated anchor boxes?\n",
        "1. Construct and visualize two bounding boxes with an IoU of 0.5. How do they overlap with each other?\n",
        "1. Modify the variable `anchors` in :numref:`subsec_labeling-anchor-boxes` and :numref:`subsec_predicting-bounding-boxes-nms`. How do the results change?\n",
        "1. Non-maximum suppression is a greedy algorithm that suppresses predicted bounding boxes by *removing* them. Is it possible that some of these removed ones are actually useful? How can this algorithm be modified to suppress *softly*? You may refer to Soft-NMS :cite:`Bodla.Singh.Chellappa.ea.2017`.\n",
        "1. Rather than being hand-crafted, can non-maximum suppression be learned?\n"
      ]
    },
    {
      "cell_type": "markdown",
      "id": "63ed4aaf",
      "metadata": {
        "origin_pos": 56,
        "tab": [
          "pytorch"
        ],
        "id": "63ed4aaf"
      },
      "source": [
        "[Discussions](https://discuss.d2l.ai/t/1603)\n"
      ]
    }
  ],
  "metadata": {
    "kernelspec": {
      "display_name": "Python 3",
      "name": "python3"
    },
    "language_info": {
      "name": "python"
    },
    "colab": {
      "provenance": []
    }
  },
  "nbformat": 4,
  "nbformat_minor": 5
}