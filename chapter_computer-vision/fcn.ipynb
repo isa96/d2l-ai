{
  "cells": [
    {
      "cell_type": "markdown",
      "id": "e57ead6c",
      "metadata": {
        "id": "e57ead6c"
      },
      "source": [
        "The following additional libraries are needed to run this\n",
        "notebook. Note that running on Colab is experimental, please report a Github\n",
        "issue if you have any problem."
      ]
    },
    {
      "cell_type": "code",
      "execution_count": 1,
      "id": "63582215",
      "metadata": {
        "id": "63582215",
        "outputId": "32d03b50-d677-43d3-99b4-dd2edc785389",
        "colab": {
          "base_uri": "https://localhost:8080/"
        }
      },
      "outputs": [
        {
          "output_type": "stream",
          "name": "stdout",
          "text": [
            "Looking in indexes: https://pypi.org/simple, https://us-python.pkg.dev/colab-wheels/public/simple/\n",
            "Collecting d2l==1.0.0-alpha1.post0\n",
            "  Downloading d2l-1.0.0a1.post0-py3-none-any.whl (93 kB)\n",
            "\u001b[K     |████████████████████████████████| 93 kB 1.1 MB/s \n",
            "\u001b[?25hRequirement already satisfied: numpy in /usr/local/lib/python3.7/dist-packages (from d2l==1.0.0-alpha1.post0) (1.21.6)\n",
            "Requirement already satisfied: pandas in /usr/local/lib/python3.7/dist-packages (from d2l==1.0.0-alpha1.post0) (1.3.5)\n",
            "Requirement already satisfied: gym in /usr/local/lib/python3.7/dist-packages (from d2l==1.0.0-alpha1.post0) (0.25.2)\n",
            "Requirement already satisfied: requests in /usr/local/lib/python3.7/dist-packages (from d2l==1.0.0-alpha1.post0) (2.23.0)\n",
            "Collecting matplotlib-inline\n",
            "  Downloading matplotlib_inline-0.1.6-py3-none-any.whl (9.4 kB)\n",
            "Requirement already satisfied: matplotlib in /usr/local/lib/python3.7/dist-packages (from d2l==1.0.0-alpha1.post0) (3.2.2)\n",
            "Collecting jupyter\n",
            "  Downloading jupyter-1.0.0-py2.py3-none-any.whl (2.7 kB)\n",
            "Requirement already satisfied: cloudpickle>=1.2.0 in /usr/local/lib/python3.7/dist-packages (from gym->d2l==1.0.0-alpha1.post0) (1.5.0)\n",
            "Requirement already satisfied: importlib-metadata>=4.8.0 in /usr/local/lib/python3.7/dist-packages (from gym->d2l==1.0.0-alpha1.post0) (4.13.0)\n",
            "Requirement already satisfied: gym-notices>=0.0.4 in /usr/local/lib/python3.7/dist-packages (from gym->d2l==1.0.0-alpha1.post0) (0.0.8)\n",
            "Requirement already satisfied: typing-extensions>=3.6.4 in /usr/local/lib/python3.7/dist-packages (from importlib-metadata>=4.8.0->gym->d2l==1.0.0-alpha1.post0) (4.1.1)\n",
            "Requirement already satisfied: zipp>=0.5 in /usr/local/lib/python3.7/dist-packages (from importlib-metadata>=4.8.0->gym->d2l==1.0.0-alpha1.post0) (3.9.0)\n",
            "Requirement already satisfied: ipywidgets in /usr/local/lib/python3.7/dist-packages (from jupyter->d2l==1.0.0-alpha1.post0) (7.7.1)\n",
            "Collecting qtconsole\n",
            "  Downloading qtconsole-5.3.2-py3-none-any.whl (120 kB)\n",
            "\u001b[K     |████████████████████████████████| 120 kB 68.4 MB/s \n",
            "\u001b[?25hRequirement already satisfied: notebook in /usr/local/lib/python3.7/dist-packages (from jupyter->d2l==1.0.0-alpha1.post0) (5.5.0)\n",
            "Requirement already satisfied: nbconvert in /usr/local/lib/python3.7/dist-packages (from jupyter->d2l==1.0.0-alpha1.post0) (5.6.1)\n",
            "Requirement already satisfied: jupyter-console in /usr/local/lib/python3.7/dist-packages (from jupyter->d2l==1.0.0-alpha1.post0) (6.1.0)\n",
            "Requirement already satisfied: ipykernel in /usr/local/lib/python3.7/dist-packages (from jupyter->d2l==1.0.0-alpha1.post0) (5.3.4)\n",
            "Requirement already satisfied: ipython>=5.0.0 in /usr/local/lib/python3.7/dist-packages (from ipykernel->jupyter->d2l==1.0.0-alpha1.post0) (7.9.0)\n",
            "Requirement already satisfied: jupyter-client in /usr/local/lib/python3.7/dist-packages (from ipykernel->jupyter->d2l==1.0.0-alpha1.post0) (6.1.12)\n",
            "Requirement already satisfied: traitlets>=4.1.0 in /usr/local/lib/python3.7/dist-packages (from ipykernel->jupyter->d2l==1.0.0-alpha1.post0) (5.1.1)\n",
            "Requirement already satisfied: tornado>=4.2 in /usr/local/lib/python3.7/dist-packages (from ipykernel->jupyter->d2l==1.0.0-alpha1.post0) (5.1.1)\n",
            "Requirement already satisfied: prompt-toolkit<2.1.0,>=2.0.0 in /usr/local/lib/python3.7/dist-packages (from ipython>=5.0.0->ipykernel->jupyter->d2l==1.0.0-alpha1.post0) (2.0.10)\n",
            "Requirement already satisfied: setuptools>=18.5 in /usr/local/lib/python3.7/dist-packages (from ipython>=5.0.0->ipykernel->jupyter->d2l==1.0.0-alpha1.post0) (57.4.0)\n",
            "Requirement already satisfied: pygments in /usr/local/lib/python3.7/dist-packages (from ipython>=5.0.0->ipykernel->jupyter->d2l==1.0.0-alpha1.post0) (2.6.1)\n",
            "Requirement already satisfied: pickleshare in /usr/local/lib/python3.7/dist-packages (from ipython>=5.0.0->ipykernel->jupyter->d2l==1.0.0-alpha1.post0) (0.7.5)\n",
            "Requirement already satisfied: decorator in /usr/local/lib/python3.7/dist-packages (from ipython>=5.0.0->ipykernel->jupyter->d2l==1.0.0-alpha1.post0) (4.4.2)\n",
            "Requirement already satisfied: backcall in /usr/local/lib/python3.7/dist-packages (from ipython>=5.0.0->ipykernel->jupyter->d2l==1.0.0-alpha1.post0) (0.2.0)\n",
            "Collecting jedi>=0.10\n",
            "  Downloading jedi-0.18.1-py2.py3-none-any.whl (1.6 MB)\n",
            "\u001b[K     |████████████████████████████████| 1.6 MB 54.0 MB/s \n",
            "\u001b[?25hRequirement already satisfied: pexpect in /usr/local/lib/python3.7/dist-packages (from ipython>=5.0.0->ipykernel->jupyter->d2l==1.0.0-alpha1.post0) (4.8.0)\n",
            "Requirement already satisfied: parso<0.9.0,>=0.8.0 in /usr/local/lib/python3.7/dist-packages (from jedi>=0.10->ipython>=5.0.0->ipykernel->jupyter->d2l==1.0.0-alpha1.post0) (0.8.3)\n",
            "Requirement already satisfied: wcwidth in /usr/local/lib/python3.7/dist-packages (from prompt-toolkit<2.1.0,>=2.0.0->ipython>=5.0.0->ipykernel->jupyter->d2l==1.0.0-alpha1.post0) (0.2.5)\n",
            "Requirement already satisfied: six>=1.9.0 in /usr/local/lib/python3.7/dist-packages (from prompt-toolkit<2.1.0,>=2.0.0->ipython>=5.0.0->ipykernel->jupyter->d2l==1.0.0-alpha1.post0) (1.15.0)\n",
            "Requirement already satisfied: widgetsnbextension~=3.6.0 in /usr/local/lib/python3.7/dist-packages (from ipywidgets->jupyter->d2l==1.0.0-alpha1.post0) (3.6.1)\n",
            "Requirement already satisfied: ipython-genutils~=0.2.0 in /usr/local/lib/python3.7/dist-packages (from ipywidgets->jupyter->d2l==1.0.0-alpha1.post0) (0.2.0)\n",
            "Requirement already satisfied: jupyterlab-widgets>=1.0.0 in /usr/local/lib/python3.7/dist-packages (from ipywidgets->jupyter->d2l==1.0.0-alpha1.post0) (3.0.3)\n",
            "Requirement already satisfied: terminado>=0.8.1 in /usr/local/lib/python3.7/dist-packages (from notebook->jupyter->d2l==1.0.0-alpha1.post0) (0.13.3)\n",
            "Requirement already satisfied: jupyter-core>=4.4.0 in /usr/local/lib/python3.7/dist-packages (from notebook->jupyter->d2l==1.0.0-alpha1.post0) (4.11.1)\n",
            "Requirement already satisfied: nbformat in /usr/local/lib/python3.7/dist-packages (from notebook->jupyter->d2l==1.0.0-alpha1.post0) (5.7.0)\n",
            "Requirement already satisfied: jinja2 in /usr/local/lib/python3.7/dist-packages (from notebook->jupyter->d2l==1.0.0-alpha1.post0) (2.11.3)\n",
            "Requirement already satisfied: Send2Trash in /usr/local/lib/python3.7/dist-packages (from notebook->jupyter->d2l==1.0.0-alpha1.post0) (1.8.0)\n",
            "Requirement already satisfied: pyzmq>=17 in /usr/local/lib/python3.7/dist-packages (from notebook->jupyter->d2l==1.0.0-alpha1.post0) (23.2.1)\n",
            "Requirement already satisfied: python-dateutil>=2.1 in /usr/local/lib/python3.7/dist-packages (from jupyter-client->ipykernel->jupyter->d2l==1.0.0-alpha1.post0) (2.8.2)\n",
            "Requirement already satisfied: ptyprocess in /usr/local/lib/python3.7/dist-packages (from terminado>=0.8.1->notebook->jupyter->d2l==1.0.0-alpha1.post0) (0.7.0)\n",
            "Requirement already satisfied: MarkupSafe>=0.23 in /usr/local/lib/python3.7/dist-packages (from jinja2->notebook->jupyter->d2l==1.0.0-alpha1.post0) (2.0.1)\n",
            "Requirement already satisfied: pyparsing!=2.0.4,!=2.1.2,!=2.1.6,>=2.0.1 in /usr/local/lib/python3.7/dist-packages (from matplotlib->d2l==1.0.0-alpha1.post0) (3.0.9)\n",
            "Requirement already satisfied: cycler>=0.10 in /usr/local/lib/python3.7/dist-packages (from matplotlib->d2l==1.0.0-alpha1.post0) (0.11.0)\n",
            "Requirement already satisfied: kiwisolver>=1.0.1 in /usr/local/lib/python3.7/dist-packages (from matplotlib->d2l==1.0.0-alpha1.post0) (1.4.4)\n",
            "Requirement already satisfied: defusedxml in /usr/local/lib/python3.7/dist-packages (from nbconvert->jupyter->d2l==1.0.0-alpha1.post0) (0.7.1)\n",
            "Requirement already satisfied: mistune<2,>=0.8.1 in /usr/local/lib/python3.7/dist-packages (from nbconvert->jupyter->d2l==1.0.0-alpha1.post0) (0.8.4)\n",
            "Requirement already satisfied: bleach in /usr/local/lib/python3.7/dist-packages (from nbconvert->jupyter->d2l==1.0.0-alpha1.post0) (5.0.1)\n",
            "Requirement already satisfied: testpath in /usr/local/lib/python3.7/dist-packages (from nbconvert->jupyter->d2l==1.0.0-alpha1.post0) (0.6.0)\n",
            "Requirement already satisfied: pandocfilters>=1.4.1 in /usr/local/lib/python3.7/dist-packages (from nbconvert->jupyter->d2l==1.0.0-alpha1.post0) (1.5.0)\n",
            "Requirement already satisfied: entrypoints>=0.2.2 in /usr/local/lib/python3.7/dist-packages (from nbconvert->jupyter->d2l==1.0.0-alpha1.post0) (0.4)\n",
            "Requirement already satisfied: fastjsonschema in /usr/local/lib/python3.7/dist-packages (from nbformat->notebook->jupyter->d2l==1.0.0-alpha1.post0) (2.16.2)\n",
            "Requirement already satisfied: jsonschema>=2.6 in /usr/local/lib/python3.7/dist-packages (from nbformat->notebook->jupyter->d2l==1.0.0-alpha1.post0) (4.3.3)\n",
            "Requirement already satisfied: attrs>=17.4.0 in /usr/local/lib/python3.7/dist-packages (from jsonschema>=2.6->nbformat->notebook->jupyter->d2l==1.0.0-alpha1.post0) (22.1.0)\n",
            "Requirement already satisfied: pyrsistent!=0.17.0,!=0.17.1,!=0.17.2,>=0.14.0 in /usr/local/lib/python3.7/dist-packages (from jsonschema>=2.6->nbformat->notebook->jupyter->d2l==1.0.0-alpha1.post0) (0.18.1)\n",
            "Requirement already satisfied: importlib-resources>=1.4.0 in /usr/local/lib/python3.7/dist-packages (from jsonschema>=2.6->nbformat->notebook->jupyter->d2l==1.0.0-alpha1.post0) (5.10.0)\n",
            "Requirement already satisfied: webencodings in /usr/local/lib/python3.7/dist-packages (from bleach->nbconvert->jupyter->d2l==1.0.0-alpha1.post0) (0.5.1)\n",
            "Requirement already satisfied: pytz>=2017.3 in /usr/local/lib/python3.7/dist-packages (from pandas->d2l==1.0.0-alpha1.post0) (2022.4)\n",
            "Collecting qtpy>=2.0.1\n",
            "  Downloading QtPy-2.2.1-py3-none-any.whl (82 kB)\n",
            "\u001b[K     |████████████████████████████████| 82 kB 738 kB/s \n",
            "\u001b[?25hRequirement already satisfied: packaging in /usr/local/lib/python3.7/dist-packages (from qtpy>=2.0.1->qtconsole->jupyter->d2l==1.0.0-alpha1.post0) (21.3)\n",
            "Requirement already satisfied: idna<3,>=2.5 in /usr/local/lib/python3.7/dist-packages (from requests->d2l==1.0.0-alpha1.post0) (2.10)\n",
            "Requirement already satisfied: urllib3!=1.25.0,!=1.25.1,<1.26,>=1.21.1 in /usr/local/lib/python3.7/dist-packages (from requests->d2l==1.0.0-alpha1.post0) (1.24.3)\n",
            "Requirement already satisfied: chardet<4,>=3.0.2 in /usr/local/lib/python3.7/dist-packages (from requests->d2l==1.0.0-alpha1.post0) (3.0.4)\n",
            "Requirement already satisfied: certifi>=2017.4.17 in /usr/local/lib/python3.7/dist-packages (from requests->d2l==1.0.0-alpha1.post0) (2022.9.24)\n",
            "Installing collected packages: jedi, qtpy, qtconsole, matplotlib-inline, jupyter, d2l\n",
            "Successfully installed d2l-1.0.0a1.post0 jedi-0.18.1 jupyter-1.0.0 matplotlib-inline-0.1.6 qtconsole-5.3.2 qtpy-2.2.1\n"
          ]
        }
      ],
      "source": [
        "!pip install d2l==1.0.0-alpha1.post0\n"
      ]
    },
    {
      "cell_type": "markdown",
      "id": "8afadbc8",
      "metadata": {
        "origin_pos": 0,
        "id": "8afadbc8"
      },
      "source": [
        "# Fully Convolutional Networks\n",
        ":label:`sec_fcn`\n",
        "\n",
        "As discussed in :numref:`sec_semantic_segmentation`,\n",
        "semantic segmentation\n",
        "classifies images in pixel level.\n",
        "A fully convolutional network (FCN)\n",
        "uses a convolutional neural network to\n",
        "transform image pixels to pixel classes :cite:`Long.Shelhamer.Darrell.2015`.\n",
        "Unlike the CNNs that we encountered earlier\n",
        "for image classification \n",
        "or object detection,\n",
        "a fully convolutional network\n",
        "transforms \n",
        "the height and width of intermediate feature maps\n",
        "back to those of the input image:\n",
        "this is achieved by\n",
        "the transposed convolutional layer\n",
        "introduced in :numref:`sec_transposed_conv`.\n",
        "As a result,\n",
        "the classification output\n",
        "and the input image \n",
        "have a one-to-one correspondence \n",
        "in pixel level:\n",
        "the channel dimension at any output pixel \n",
        "holds the classification results\n",
        "for the input pixel at the same spatial position.\n"
      ]
    },
    {
      "cell_type": "code",
      "execution_count": 2,
      "id": "6df4a7dc",
      "metadata": {
        "execution": {
          "iopub.execute_input": "2022-09-07T22:15:48.824473Z",
          "iopub.status.busy": "2022-09-07T22:15:48.823806Z",
          "iopub.status.idle": "2022-09-07T22:15:50.651478Z",
          "shell.execute_reply": "2022-09-07T22:15:50.650592Z"
        },
        "origin_pos": 2,
        "tab": [
          "pytorch"
        ],
        "id": "6df4a7dc"
      },
      "outputs": [],
      "source": [
        "%matplotlib inline\n",
        "import torch\n",
        "import torchvision\n",
        "from torch import nn\n",
        "from torch.nn import functional as F\n",
        "from d2l import torch as d2l"
      ]
    },
    {
      "cell_type": "markdown",
      "id": "87b26467",
      "metadata": {
        "origin_pos": 3,
        "id": "87b26467"
      },
      "source": [
        "## The Model\n",
        "\n",
        "Here we describe the basic design of the fully convolutional network model. \n",
        "As shown in :numref:`fig_fcn`,\n",
        "this model first uses a CNN to extract image features,\n",
        "then transforms the number of channels into\n",
        "the number of classes\n",
        "via a $1\\times 1$ convolutional layer,\n",
        "and finally transforms the height and width of\n",
        "the feature maps\n",
        "to those\n",
        "of the input image via\n",
        "the transposed convolution introduced in :numref:`sec_transposed_conv`. \n",
        "As a result,\n",
        "the model output has the same height and width as the input image,\n",
        "where the output channel contains the predicted classes\n",
        "for the input pixel at the same spatial position.\n",
        "\n",
        "\n",
        "![Fully convolutional network.](http://d2l.ai/_images/fcn.svg)\n",
        ":label:`fig_fcn`\n",
        "\n",
        "Below, we [**use a ResNet-18 model pretrained on the ImageNet dataset to extract image features**]\n",
        "and denote the model instance as `pretrained_net`.\n",
        "The last few layers of this model\n",
        "include a global average pooling layer\n",
        "and a fully connected layer:\n",
        "they are not needed\n",
        "in the fully convolutional network.\n"
      ]
    },
    {
      "cell_type": "code",
      "execution_count": 3,
      "id": "c2713d15",
      "metadata": {
        "execution": {
          "iopub.execute_input": "2022-09-07T22:15:50.681013Z",
          "iopub.status.busy": "2022-09-07T22:15:50.680347Z",
          "iopub.status.idle": "2022-09-07T22:15:50.938470Z",
          "shell.execute_reply": "2022-09-07T22:15:50.937691Z"
        },
        "origin_pos": 5,
        "tab": [
          "pytorch"
        ],
        "id": "c2713d15",
        "outputId": "c60b0473-f190-458a-c695-ac6896060c7a",
        "colab": {
          "base_uri": "https://localhost:8080/",
          "height": 551,
          "referenced_widgets": [
            "c961749ebe934e3d8b5c47b658cf86ee",
            "5c2e1499f2b94d76a420667359a283d1",
            "f6aa3496d679422cbd04e85cf7e31c02",
            "cb6b9d51b55647c0bce71268da429e34",
            "951c73f78d274015869a6ad6aaf29716",
            "d2a91ea0d667411ab205e48eeb80aa93",
            "582e6c549d55478aa015c15abd834c57",
            "d0c511a76f5c407f9f6032937b911294",
            "fdbd8ba2d15c4dd0ac9747a9168e1a32",
            "f23f87fba9a34787966fd6acc0a5d345",
            "d1dc01a3ab24472dabd90f9621274d1f"
          ]
        }
      },
      "outputs": [
        {
          "output_type": "stream",
          "name": "stderr",
          "text": [
            "/usr/local/lib/python3.7/dist-packages/torchvision/models/_utils.py:209: UserWarning: The parameter 'pretrained' is deprecated since 0.13 and will be removed in 0.15, please use 'weights' instead.\n",
            "  f\"The parameter '{pretrained_param}' is deprecated since 0.13 and will be removed in 0.15, \"\n",
            "/usr/local/lib/python3.7/dist-packages/torchvision/models/_utils.py:223: UserWarning: Arguments other than a weight enum or `None` for 'weights' are deprecated since 0.13 and will be removed in 0.15. The current behavior is equivalent to passing `weights=ResNet18_Weights.IMAGENET1K_V1`. You can also use `weights=ResNet18_Weights.DEFAULT` to get the most up-to-date weights.\n",
            "  warnings.warn(msg)\n",
            "Downloading: \"https://download.pytorch.org/models/resnet18-f37072fd.pth\" to /root/.cache/torch/hub/checkpoints/resnet18-f37072fd.pth\n"
          ]
        },
        {
          "output_type": "display_data",
          "data": {
            "text/plain": [
              "  0%|          | 0.00/44.7M [00:00<?, ?B/s]"
            ],
            "application/vnd.jupyter.widget-view+json": {
              "version_major": 2,
              "version_minor": 0,
              "model_id": "c961749ebe934e3d8b5c47b658cf86ee"
            }
          },
          "metadata": {}
        },
        {
          "output_type": "execute_result",
          "data": {
            "text/plain": [
              "[Sequential(\n",
              "   (0): BasicBlock(\n",
              "     (conv1): Conv2d(256, 512, kernel_size=(3, 3), stride=(2, 2), padding=(1, 1), bias=False)\n",
              "     (bn1): BatchNorm2d(512, eps=1e-05, momentum=0.1, affine=True, track_running_stats=True)\n",
              "     (relu): ReLU(inplace=True)\n",
              "     (conv2): Conv2d(512, 512, kernel_size=(3, 3), stride=(1, 1), padding=(1, 1), bias=False)\n",
              "     (bn2): BatchNorm2d(512, eps=1e-05, momentum=0.1, affine=True, track_running_stats=True)\n",
              "     (downsample): Sequential(\n",
              "       (0): Conv2d(256, 512, kernel_size=(1, 1), stride=(2, 2), bias=False)\n",
              "       (1): BatchNorm2d(512, eps=1e-05, momentum=0.1, affine=True, track_running_stats=True)\n",
              "     )\n",
              "   )\n",
              "   (1): BasicBlock(\n",
              "     (conv1): Conv2d(512, 512, kernel_size=(3, 3), stride=(1, 1), padding=(1, 1), bias=False)\n",
              "     (bn1): BatchNorm2d(512, eps=1e-05, momentum=0.1, affine=True, track_running_stats=True)\n",
              "     (relu): ReLU(inplace=True)\n",
              "     (conv2): Conv2d(512, 512, kernel_size=(3, 3), stride=(1, 1), padding=(1, 1), bias=False)\n",
              "     (bn2): BatchNorm2d(512, eps=1e-05, momentum=0.1, affine=True, track_running_stats=True)\n",
              "   )\n",
              " ),\n",
              " AdaptiveAvgPool2d(output_size=(1, 1)),\n",
              " Linear(in_features=512, out_features=1000, bias=True)]"
            ]
          },
          "metadata": {},
          "execution_count": 3
        }
      ],
      "source": [
        "pretrained_net = torchvision.models.resnet18(pretrained=True)\n",
        "list(pretrained_net.children())[-3:]"
      ]
    },
    {
      "cell_type": "markdown",
      "id": "471a3adb",
      "metadata": {
        "origin_pos": 6,
        "id": "471a3adb"
      },
      "source": [
        "Next, we [**create the fully convolutional network instance `net`**].\n",
        "It copies all the pretrained layers in the ResNet-18\n",
        "except for the final global average pooling layer\n",
        "and the fully connected layer that are closest\n",
        "to the output.\n"
      ]
    },
    {
      "cell_type": "code",
      "execution_count": 4,
      "id": "7c13da01",
      "metadata": {
        "execution": {
          "iopub.execute_input": "2022-09-07T22:15:50.942235Z",
          "iopub.status.busy": "2022-09-07T22:15:50.941564Z",
          "iopub.status.idle": "2022-09-07T22:15:50.945912Z",
          "shell.execute_reply": "2022-09-07T22:15:50.945175Z"
        },
        "origin_pos": 8,
        "tab": [
          "pytorch"
        ],
        "id": "7c13da01"
      },
      "outputs": [],
      "source": [
        "net = nn.Sequential(*list(pretrained_net.children())[:-2])"
      ]
    },
    {
      "cell_type": "markdown",
      "id": "7e837d5d",
      "metadata": {
        "origin_pos": 9,
        "id": "7e837d5d"
      },
      "source": [
        "Given an input with height and width of 320 and 480 respectively,\n",
        "the forward propagation of `net`\n",
        "reduces the input height and width to 1/32 of the original, namely 10 and 15.\n"
      ]
    },
    {
      "cell_type": "code",
      "execution_count": 5,
      "id": "9655f19c",
      "metadata": {
        "execution": {
          "iopub.execute_input": "2022-09-07T22:15:50.949462Z",
          "iopub.status.busy": "2022-09-07T22:15:50.948802Z",
          "iopub.status.idle": "2022-09-07T22:15:51.007653Z",
          "shell.execute_reply": "2022-09-07T22:15:51.006838Z"
        },
        "origin_pos": 11,
        "tab": [
          "pytorch"
        ],
        "id": "9655f19c",
        "outputId": "4f34ce28-e527-4d60-f0ef-6d49fd16c8ed",
        "colab": {
          "base_uri": "https://localhost:8080/"
        }
      },
      "outputs": [
        {
          "output_type": "execute_result",
          "data": {
            "text/plain": [
              "torch.Size([1, 512, 10, 15])"
            ]
          },
          "metadata": {},
          "execution_count": 5
        }
      ],
      "source": [
        "X = torch.rand(size=(1, 3, 320, 480))\n",
        "net(X).shape"
      ]
    },
    {
      "cell_type": "markdown",
      "id": "130a265e",
      "metadata": {
        "origin_pos": 12,
        "id": "130a265e"
      },
      "source": [
        "Next, we [**use a $1\\times 1$ convolutional layer to transform the number of output channels into the number of classes (21) of the Pascal VOC2012 dataset.**]\n",
        "Finally, we need to (**increase the height and width of the feature maps by 32 times**) to change them back to the height and width of the input image. \n",
        "Recall how to calculate \n",
        "the output shape of a convolutional layer in :numref:`sec_padding`. \n",
        "Since $(320-64+16\\times2+32)/32=10$ and $(480-64+16\\times2+32)/32=15$, we construct a transposed convolutional layer with stride of $32$, \n",
        "setting\n",
        "the height and width of the kernel\n",
        "to $64$, the padding to $16$.\n",
        "In general,\n",
        "we can see that\n",
        "for stride $s$,\n",
        "padding $s/2$ (assuming $s/2$ is an integer),\n",
        "and the height and width of the kernel $2s$, \n",
        "the transposed convolution will increase\n",
        "the height and width of the input by $s$ times.\n"
      ]
    },
    {
      "cell_type": "code",
      "execution_count": 6,
      "id": "35c3cab7",
      "metadata": {
        "execution": {
          "iopub.execute_input": "2022-09-07T22:15:51.011027Z",
          "iopub.status.busy": "2022-09-07T22:15:51.010739Z",
          "iopub.status.idle": "2022-09-07T22:15:51.028191Z",
          "shell.execute_reply": "2022-09-07T22:15:51.027455Z"
        },
        "origin_pos": 14,
        "tab": [
          "pytorch"
        ],
        "id": "35c3cab7"
      },
      "outputs": [],
      "source": [
        "num_classes = 21\n",
        "net.add_module('final_conv', nn.Conv2d(512, num_classes, kernel_size=1))\n",
        "net.add_module('transpose_conv', nn.ConvTranspose2d(num_classes, num_classes,\n",
        "                                    kernel_size=64, padding=16, stride=32))"
      ]
    },
    {
      "cell_type": "markdown",
      "id": "c13a0a7f",
      "metadata": {
        "origin_pos": 15,
        "id": "c13a0a7f"
      },
      "source": [
        "## [**Initializing Transposed Convolutional Layers**]\n",
        "\n",
        "\n",
        "We already know that\n",
        "transposed convolutional layers can increase\n",
        "the height and width of\n",
        "feature maps.\n",
        "In image processing, we may need to scale up\n",
        "an image, i.e., *upsampling*.\n",
        "*Bilinear interpolation*\n",
        "is one of the commonly used upsampling techniques.\n",
        "It is also often used for initializing transposed convolutional layers.\n",
        "\n",
        "To explain bilinear interpolation,\n",
        "say that \n",
        "given an input image\n",
        "we want to \n",
        "calculate each pixel \n",
        "of the upsampled output image.\n",
        "In order to calculate the pixel of the output image\n",
        "at coordinate $(x, y)$, \n",
        "first map $(x, y)$ to coordinate $(x', y')$ on the input image, for example, according to the ratio of the input size to the output size. \n",
        "Note that the mapped $x'$ and $y'$ are real numbers. \n",
        "Then, find the four pixels closest to coordinate\n",
        "$(x', y')$ on the input image. \n",
        "Finally, the pixel of the output image at coordinate $(x, y)$ is calculated based on these four closest pixels\n",
        "on the input image and their relative distance from $(x', y')$. \n",
        "\n",
        "Upsampling of bilinear interpolation\n",
        "can be implemented by the transposed convolutional layer \n",
        "with the kernel constructed by the following `bilinear_kernel` function. \n",
        "Due to space limitations, we only provide the implementation of the `bilinear_kernel` function below\n",
        "without discussions on its algorithm design.\n"
      ]
    },
    {
      "cell_type": "code",
      "execution_count": 7,
      "id": "5a1b96e5",
      "metadata": {
        "execution": {
          "iopub.execute_input": "2022-09-07T22:15:51.031577Z",
          "iopub.status.busy": "2022-09-07T22:15:51.031025Z",
          "iopub.status.idle": "2022-09-07T22:15:51.037067Z",
          "shell.execute_reply": "2022-09-07T22:15:51.036321Z"
        },
        "origin_pos": 17,
        "tab": [
          "pytorch"
        ],
        "id": "5a1b96e5"
      },
      "outputs": [],
      "source": [
        "def bilinear_kernel(in_channels, out_channels, kernel_size):\n",
        "    factor = (kernel_size + 1) // 2\n",
        "    if kernel_size % 2 == 1:\n",
        "        center = factor - 1\n",
        "    else:\n",
        "        center = factor - 0.5\n",
        "    og = (torch.arange(kernel_size).reshape(-1, 1),\n",
        "          torch.arange(kernel_size).reshape(1, -1))\n",
        "    filt = (1 - torch.abs(og[0] - center) / factor) * \\\n",
        "           (1 - torch.abs(og[1] - center) / factor)\n",
        "    weight = torch.zeros((in_channels, out_channels,\n",
        "                          kernel_size, kernel_size))\n",
        "    weight[range(in_channels), range(out_channels), :, :] = filt\n",
        "    return weight"
      ]
    },
    {
      "cell_type": "markdown",
      "id": "783796b5",
      "metadata": {
        "origin_pos": 18,
        "id": "783796b5"
      },
      "source": [
        "Let's [**experiment with upsampling of bilinear interpolation**] \n",
        "that is implemented by a transposed convolutional layer. \n",
        "We construct a transposed convolutional layer that \n",
        "doubles the height and weight,\n",
        "and initialize its kernel with the `bilinear_kernel` function.\n"
      ]
    },
    {
      "cell_type": "code",
      "execution_count": 8,
      "id": "b654f75e",
      "metadata": {
        "execution": {
          "iopub.execute_input": "2022-09-07T22:15:51.040139Z",
          "iopub.status.busy": "2022-09-07T22:15:51.039868Z",
          "iopub.status.idle": "2022-09-07T22:15:51.045431Z",
          "shell.execute_reply": "2022-09-07T22:15:51.044697Z"
        },
        "origin_pos": 20,
        "tab": [
          "pytorch"
        ],
        "id": "b654f75e"
      },
      "outputs": [],
      "source": [
        "conv_trans = nn.ConvTranspose2d(3, 3, kernel_size=4, padding=1, stride=2,\n",
        "                                bias=False)\n",
        "conv_trans.weight.data.copy_(bilinear_kernel(3, 3, 4));"
      ]
    },
    {
      "cell_type": "markdown",
      "id": "c93baecb",
      "metadata": {
        "origin_pos": 21,
        "id": "c93baecb"
      },
      "source": [
        "Read the image `X` and assign the upsampling output to `Y`. In order to print the image, we need to adjust the position of the channel dimension.\n"
      ]
    },
    {
      "cell_type": "code",
      "execution_count": 9,
      "id": "bab0cb07",
      "metadata": {
        "execution": {
          "iopub.execute_input": "2022-09-07T22:15:51.048487Z",
          "iopub.status.busy": "2022-09-07T22:15:51.048221Z",
          "iopub.status.idle": "2022-09-07T22:15:51.099773Z",
          "shell.execute_reply": "2022-09-07T22:15:51.098928Z"
        },
        "origin_pos": 23,
        "tab": [
          "pytorch"
        ],
        "id": "bab0cb07"
      },
      "outputs": [],
      "source": [
        "img = torchvision.transforms.ToTensor()(d2l.Image.open('1.jpg'))\n",
        "X = img.unsqueeze(0)\n",
        "Y = conv_trans(X)\n",
        "out_img = Y[0].permute(1, 2, 0).detach()"
      ]
    },
    {
      "cell_type": "markdown",
      "id": "548f96ae",
      "metadata": {
        "origin_pos": 24,
        "id": "548f96ae"
      },
      "source": [
        "As we can see, the transposed convolutional layer increases both the height and width of the image by a factor of two.\n",
        "Except for the different scales in coordinates,\n",
        "the image scaled up by bilinear interpolation and the original image printed in :numref:`sec_bbox` look the same.\n"
      ]
    },
    {
      "cell_type": "code",
      "execution_count": 10,
      "id": "52e767cd",
      "metadata": {
        "execution": {
          "iopub.execute_input": "2022-09-07T22:15:51.104393Z",
          "iopub.status.busy": "2022-09-07T22:15:51.103182Z",
          "iopub.status.idle": "2022-09-07T22:15:51.759209Z",
          "shell.execute_reply": "2022-09-07T22:15:51.758388Z"
        },
        "origin_pos": 26,
        "tab": [
          "pytorch"
        ],
        "id": "52e767cd",
        "outputId": "a3d60018-bcf0-4f1c-ea14-02057eb75b24",
        "colab": {
          "base_uri": "https://localhost:8080/",
          "height": 256
        }
      },
      "outputs": [
        {
          "output_type": "stream",
          "name": "stdout",
          "text": [
            "input image shape: torch.Size([472, 800, 3])\n",
            "output image shape: torch.Size([944, 1600, 3])\n"
          ]
        },
        {
          "output_type": "display_data",
          "data": {
            "text/plain": [
              "<Figure size 252x180 with 1 Axes>"
            ],
            "image/svg+xml": "<?xml version=\"1.0\" encoding=\"utf-8\" standalone=\"no\"?>\n<!DOCTYPE svg PUBLIC \"-//W3C//DTD SVG 1.1//EN\"\n  \"http://www.w3.org/Graphics/SVG/1.1/DTD/svg11.dtd\">\n<!-- Created with matplotlib (https://matplotlib.org/) -->\n<svg height=\"150.043312pt\" version=\"1.1\" viewBox=\"0 0 236.367281 150.043312\" width=\"236.367281pt\" xmlns=\"http://www.w3.org/2000/svg\" xmlns:xlink=\"http://www.w3.org/1999/xlink\">\n <defs>\n  <style type=\"text/css\">\n*{stroke-linecap:butt;stroke-linejoin:round;}\n  </style>\n </defs>\n <g id=\"figure_1\">\n  <g id=\"patch_1\">\n   <path d=\"M 0 150.043312 \nL 236.367281 150.043312 \nL 236.367281 0 \nL 0 0 \nz\n\" style=\"fill:none;\"/>\n  </g>\n  <g id=\"axes_1\">\n   <g id=\"patch_2\">\n    <path d=\"M 33.2875 126.165187 \nL 228.5875 126.165187 \nL 228.5875 10.938187 \nL 33.2875 10.938187 \nz\n\" style=\"fill:#ffffff;\"/>\n   </g>\n   <g clip-path=\"url(#pb717e097dc)\">\n    <image height=\"116\" id=\"imageffe2e9f9e9\" transform=\"scale(1 -1)translate(0 -116)\" width=\"196\" x=\"33\" xlink:href=\"data:image/png;base64,\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\" y=\"-10.043312\"/>\n   </g>\n   <g id=\"matplotlib.axis_1\">\n    <g id=\"xtick_1\">\n     <g id=\"line2d_1\">\n      <defs>\n       <path d=\"M 0 0 \nL 0 3.5 \n\" id=\"m1b67d71d6c\" style=\"stroke:#000000;stroke-width:0.8;\"/>\n      </defs>\n      <g>\n       <use style=\"stroke:#000000;stroke-width:0.8;\" x=\"33.348531\" xlink:href=\"#m1b67d71d6c\" y=\"126.165187\"/>\n      </g>\n     </g>\n     <g id=\"text_1\">\n      <!-- 0 -->\n      <defs>\n       <path d=\"M 31.78125 66.40625 \nQ 24.171875 66.40625 20.328125 58.90625 \nQ 16.5 51.421875 16.5 36.375 \nQ 16.5 21.390625 20.328125 13.890625 \nQ 24.171875 6.390625 31.78125 6.390625 \nQ 39.453125 6.390625 43.28125 13.890625 \nQ 47.125 21.390625 47.125 36.375 \nQ 47.125 51.421875 43.28125 58.90625 \nQ 39.453125 66.40625 31.78125 66.40625 \nz\nM 31.78125 74.21875 \nQ 44.046875 74.21875 50.515625 64.515625 \nQ 56.984375 54.828125 56.984375 36.375 \nQ 56.984375 17.96875 50.515625 8.265625 \nQ 44.046875 -1.421875 31.78125 -1.421875 \nQ 19.53125 -1.421875 13.0625 8.265625 \nQ 6.59375 17.96875 6.59375 36.375 \nQ 6.59375 54.828125 13.0625 64.515625 \nQ 19.53125 74.21875 31.78125 74.21875 \nz\n\" id=\"DejaVuSans-48\"/>\n      </defs>\n      <g transform=\"translate(30.167281 140.763625)scale(0.1 -0.1)\">\n       <use xlink:href=\"#DejaVuSans-48\"/>\n      </g>\n     </g>\n    </g>\n    <g id=\"xtick_2\">\n     <g id=\"line2d_2\">\n      <g>\n       <use style=\"stroke:#000000;stroke-width:0.8;\" x=\"94.379781\" xlink:href=\"#m1b67d71d6c\" y=\"126.165187\"/>\n      </g>\n     </g>\n     <g id=\"text_2\">\n      <!-- 500 -->\n      <defs>\n       <path d=\"M 10.796875 72.90625 \nL 49.515625 72.90625 \nL 49.515625 64.59375 \nL 19.828125 64.59375 \nL 19.828125 46.734375 \nQ 21.96875 47.46875 24.109375 47.828125 \nQ 26.265625 48.1875 28.421875 48.1875 \nQ 40.625 48.1875 47.75 41.5 \nQ 54.890625 34.8125 54.890625 23.390625 \nQ 54.890625 11.625 47.5625 5.09375 \nQ 40.234375 -1.421875 26.90625 -1.421875 \nQ 22.3125 -1.421875 17.546875 -0.640625 \nQ 12.796875 0.140625 7.71875 1.703125 \nL 7.71875 11.625 \nQ 12.109375 9.234375 16.796875 8.0625 \nQ 21.484375 6.890625 26.703125 6.890625 \nQ 35.15625 6.890625 40.078125 11.328125 \nQ 45.015625 15.765625 45.015625 23.390625 \nQ 45.015625 31 40.078125 35.4375 \nQ 35.15625 39.890625 26.703125 39.890625 \nQ 22.75 39.890625 18.8125 39.015625 \nQ 14.890625 38.140625 10.796875 36.28125 \nz\n\" id=\"DejaVuSans-53\"/>\n      </defs>\n      <g transform=\"translate(84.836031 140.763625)scale(0.1 -0.1)\">\n       <use xlink:href=\"#DejaVuSans-53\"/>\n       <use x=\"63.623047\" xlink:href=\"#DejaVuSans-48\"/>\n       <use x=\"127.246094\" xlink:href=\"#DejaVuSans-48\"/>\n      </g>\n     </g>\n    </g>\n    <g id=\"xtick_3\">\n     <g id=\"line2d_3\">\n      <g>\n       <use style=\"stroke:#000000;stroke-width:0.8;\" x=\"155.411031\" xlink:href=\"#m1b67d71d6c\" y=\"126.165187\"/>\n      </g>\n     </g>\n     <g id=\"text_3\">\n      <!-- 1000 -->\n      <defs>\n       <path d=\"M 12.40625 8.296875 \nL 28.515625 8.296875 \nL 28.515625 63.921875 \nL 10.984375 60.40625 \nL 10.984375 69.390625 \nL 28.421875 72.90625 \nL 38.28125 72.90625 \nL 38.28125 8.296875 \nL 54.390625 8.296875 \nL 54.390625 0 \nL 12.40625 0 \nz\n\" id=\"DejaVuSans-49\"/>\n      </defs>\n      <g transform=\"translate(142.686031 140.763625)scale(0.1 -0.1)\">\n       <use xlink:href=\"#DejaVuSans-49\"/>\n       <use x=\"63.623047\" xlink:href=\"#DejaVuSans-48\"/>\n       <use x=\"127.246094\" xlink:href=\"#DejaVuSans-48\"/>\n       <use x=\"190.869141\" xlink:href=\"#DejaVuSans-48\"/>\n      </g>\n     </g>\n    </g>\n    <g id=\"xtick_4\">\n     <g id=\"line2d_4\">\n      <g>\n       <use style=\"stroke:#000000;stroke-width:0.8;\" x=\"216.442281\" xlink:href=\"#m1b67d71d6c\" y=\"126.165187\"/>\n      </g>\n     </g>\n     <g id=\"text_4\">\n      <!-- 1500 -->\n      <g transform=\"translate(203.717281 140.763625)scale(0.1 -0.1)\">\n       <use xlink:href=\"#DejaVuSans-49\"/>\n       <use x=\"63.623047\" xlink:href=\"#DejaVuSans-53\"/>\n       <use x=\"127.246094\" xlink:href=\"#DejaVuSans-48\"/>\n       <use x=\"190.869141\" xlink:href=\"#DejaVuSans-48\"/>\n      </g>\n     </g>\n    </g>\n   </g>\n   <g id=\"matplotlib.axis_2\">\n    <g id=\"ytick_1\">\n     <g id=\"line2d_5\">\n      <defs>\n       <path d=\"M 0 0 \nL -3.5 0 \n\" id=\"m54d3a8d3b8\" style=\"stroke:#000000;stroke-width:0.8;\"/>\n      </defs>\n      <g>\n       <use style=\"stroke:#000000;stroke-width:0.8;\" x=\"33.2875\" xlink:href=\"#m54d3a8d3b8\" y=\"10.999219\"/>\n      </g>\n     </g>\n     <g id=\"text_5\">\n      <!-- 0 -->\n      <g transform=\"translate(19.925 14.798437)scale(0.1 -0.1)\">\n       <use xlink:href=\"#DejaVuSans-48\"/>\n      </g>\n     </g>\n    </g>\n    <g id=\"ytick_2\">\n     <g id=\"line2d_6\">\n      <g>\n       <use style=\"stroke:#000000;stroke-width:0.8;\" x=\"33.2875\" xlink:href=\"#m54d3a8d3b8\" y=\"35.411719\"/>\n      </g>\n     </g>\n     <g id=\"text_6\">\n      <!-- 200 -->\n      <defs>\n       <path d=\"M 19.1875 8.296875 \nL 53.609375 8.296875 \nL 53.609375 0 \nL 7.328125 0 \nL 7.328125 8.296875 \nQ 12.9375 14.109375 22.625 23.890625 \nQ 32.328125 33.6875 34.8125 36.53125 \nQ 39.546875 41.84375 41.421875 45.53125 \nQ 43.3125 49.21875 43.3125 52.78125 \nQ 43.3125 58.59375 39.234375 62.25 \nQ 35.15625 65.921875 28.609375 65.921875 \nQ 23.96875 65.921875 18.8125 64.3125 \nQ 13.671875 62.703125 7.8125 59.421875 \nL 7.8125 69.390625 \nQ 13.765625 71.78125 18.9375 73 \nQ 24.125 74.21875 28.421875 74.21875 \nQ 39.75 74.21875 46.484375 68.546875 \nQ 53.21875 62.890625 53.21875 53.421875 \nQ 53.21875 48.921875 51.53125 44.890625 \nQ 49.859375 40.875 45.40625 35.40625 \nQ 44.1875 33.984375 37.640625 27.21875 \nQ 31.109375 20.453125 19.1875 8.296875 \nz\n\" id=\"DejaVuSans-50\"/>\n      </defs>\n      <g transform=\"translate(7.2 39.210937)scale(0.1 -0.1)\">\n       <use xlink:href=\"#DejaVuSans-50\"/>\n       <use x=\"63.623047\" xlink:href=\"#DejaVuSans-48\"/>\n       <use x=\"127.246094\" xlink:href=\"#DejaVuSans-48\"/>\n      </g>\n     </g>\n    </g>\n    <g id=\"ytick_3\">\n     <g id=\"line2d_7\">\n      <g>\n       <use style=\"stroke:#000000;stroke-width:0.8;\" x=\"33.2875\" xlink:href=\"#m54d3a8d3b8\" y=\"59.824219\"/>\n      </g>\n     </g>\n     <g id=\"text_7\">\n      <!-- 400 -->\n      <defs>\n       <path d=\"M 37.796875 64.3125 \nL 12.890625 25.390625 \nL 37.796875 25.390625 \nz\nM 35.203125 72.90625 \nL 47.609375 72.90625 \nL 47.609375 25.390625 \nL 58.015625 25.390625 \nL 58.015625 17.1875 \nL 47.609375 17.1875 \nL 47.609375 0 \nL 37.796875 0 \nL 37.796875 17.1875 \nL 4.890625 17.1875 \nL 4.890625 26.703125 \nz\n\" id=\"DejaVuSans-52\"/>\n      </defs>\n      <g transform=\"translate(7.2 63.623437)scale(0.1 -0.1)\">\n       <use xlink:href=\"#DejaVuSans-52\"/>\n       <use x=\"63.623047\" xlink:href=\"#DejaVuSans-48\"/>\n       <use x=\"127.246094\" xlink:href=\"#DejaVuSans-48\"/>\n      </g>\n     </g>\n    </g>\n    <g id=\"ytick_4\">\n     <g id=\"line2d_8\">\n      <g>\n       <use style=\"stroke:#000000;stroke-width:0.8;\" x=\"33.2875\" xlink:href=\"#m54d3a8d3b8\" y=\"84.236719\"/>\n      </g>\n     </g>\n     <g id=\"text_8\">\n      <!-- 600 -->\n      <defs>\n       <path d=\"M 33.015625 40.375 \nQ 26.375 40.375 22.484375 35.828125 \nQ 18.609375 31.296875 18.609375 23.390625 \nQ 18.609375 15.53125 22.484375 10.953125 \nQ 26.375 6.390625 33.015625 6.390625 \nQ 39.65625 6.390625 43.53125 10.953125 \nQ 47.40625 15.53125 47.40625 23.390625 \nQ 47.40625 31.296875 43.53125 35.828125 \nQ 39.65625 40.375 33.015625 40.375 \nz\nM 52.59375 71.296875 \nL 52.59375 62.3125 \nQ 48.875 64.0625 45.09375 64.984375 \nQ 41.3125 65.921875 37.59375 65.921875 \nQ 27.828125 65.921875 22.671875 59.328125 \nQ 17.53125 52.734375 16.796875 39.40625 \nQ 19.671875 43.65625 24.015625 45.921875 \nQ 28.375 48.1875 33.59375 48.1875 \nQ 44.578125 48.1875 50.953125 41.515625 \nQ 57.328125 34.859375 57.328125 23.390625 \nQ 57.328125 12.15625 50.6875 5.359375 \nQ 44.046875 -1.421875 33.015625 -1.421875 \nQ 20.359375 -1.421875 13.671875 8.265625 \nQ 6.984375 17.96875 6.984375 36.375 \nQ 6.984375 53.65625 15.1875 63.9375 \nQ 23.390625 74.21875 37.203125 74.21875 \nQ 40.921875 74.21875 44.703125 73.484375 \nQ 48.484375 72.75 52.59375 71.296875 \nz\n\" id=\"DejaVuSans-54\"/>\n      </defs>\n      <g transform=\"translate(7.2 88.035937)scale(0.1 -0.1)\">\n       <use xlink:href=\"#DejaVuSans-54\"/>\n       <use x=\"63.623047\" xlink:href=\"#DejaVuSans-48\"/>\n       <use x=\"127.246094\" xlink:href=\"#DejaVuSans-48\"/>\n      </g>\n     </g>\n    </g>\n    <g id=\"ytick_5\">\n     <g id=\"line2d_9\">\n      <g>\n       <use style=\"stroke:#000000;stroke-width:0.8;\" x=\"33.2875\" xlink:href=\"#m54d3a8d3b8\" y=\"108.649219\"/>\n      </g>\n     </g>\n     <g id=\"text_9\">\n      <!-- 800 -->\n      <defs>\n       <path d=\"M 31.78125 34.625 \nQ 24.75 34.625 20.71875 30.859375 \nQ 16.703125 27.09375 16.703125 20.515625 \nQ 16.703125 13.921875 20.71875 10.15625 \nQ 24.75 6.390625 31.78125 6.390625 \nQ 38.8125 6.390625 42.859375 10.171875 \nQ 46.921875 13.96875 46.921875 20.515625 \nQ 46.921875 27.09375 42.890625 30.859375 \nQ 38.875 34.625 31.78125 34.625 \nz\nM 21.921875 38.8125 \nQ 15.578125 40.375 12.03125 44.71875 \nQ 8.5 49.078125 8.5 55.328125 \nQ 8.5 64.0625 14.71875 69.140625 \nQ 20.953125 74.21875 31.78125 74.21875 \nQ 42.671875 74.21875 48.875 69.140625 \nQ 55.078125 64.0625 55.078125 55.328125 \nQ 55.078125 49.078125 51.53125 44.71875 \nQ 48 40.375 41.703125 38.8125 \nQ 48.828125 37.15625 52.796875 32.3125 \nQ 56.78125 27.484375 56.78125 20.515625 \nQ 56.78125 9.90625 50.3125 4.234375 \nQ 43.84375 -1.421875 31.78125 -1.421875 \nQ 19.734375 -1.421875 13.25 4.234375 \nQ 6.78125 9.90625 6.78125 20.515625 \nQ 6.78125 27.484375 10.78125 32.3125 \nQ 14.796875 37.15625 21.921875 38.8125 \nz\nM 18.3125 54.390625 \nQ 18.3125 48.734375 21.84375 45.5625 \nQ 25.390625 42.390625 31.78125 42.390625 \nQ 38.140625 42.390625 41.71875 45.5625 \nQ 45.3125 48.734375 45.3125 54.390625 \nQ 45.3125 60.0625 41.71875 63.234375 \nQ 38.140625 66.40625 31.78125 66.40625 \nQ 25.390625 66.40625 21.84375 63.234375 \nQ 18.3125 60.0625 18.3125 54.390625 \nz\n\" id=\"DejaVuSans-56\"/>\n      </defs>\n      <g transform=\"translate(7.2 112.448437)scale(0.1 -0.1)\">\n       <use xlink:href=\"#DejaVuSans-56\"/>\n       <use x=\"63.623047\" xlink:href=\"#DejaVuSans-48\"/>\n       <use x=\"127.246094\" xlink:href=\"#DejaVuSans-48\"/>\n      </g>\n     </g>\n    </g>\n   </g>\n   <g id=\"patch_3\">\n    <path d=\"M 33.2875 126.165187 \nL 33.2875 10.938187 \n\" style=\"fill:none;stroke:#000000;stroke-linecap:square;stroke-linejoin:miter;stroke-width:0.8;\"/>\n   </g>\n   <g id=\"patch_4\">\n    <path d=\"M 228.5875 126.165187 \nL 228.5875 10.938187 \n\" style=\"fill:none;stroke:#000000;stroke-linecap:square;stroke-linejoin:miter;stroke-width:0.8;\"/>\n   </g>\n   <g id=\"patch_5\">\n    <path d=\"M 33.2875 126.165187 \nL 228.5875 126.165187 \n\" style=\"fill:none;stroke:#000000;stroke-linecap:square;stroke-linejoin:miter;stroke-width:0.8;\"/>\n   </g>\n   <g id=\"patch_6\">\n    <path d=\"M 33.2875 10.938187 \nL 228.5875 10.938187 \n\" style=\"fill:none;stroke:#000000;stroke-linecap:square;stroke-linejoin:miter;stroke-width:0.8;\"/>\n   </g>\n  </g>\n </g>\n <defs>\n  <clipPath id=\"pb717e097dc\">\n   <rect height=\"115.227\" width=\"195.3\" x=\"33.2875\" y=\"10.938187\"/>\n  </clipPath>\n </defs>\n</svg>\n"
          },
          "metadata": {
            "needs_background": "light"
          }
        }
      ],
      "source": [
        "d2l.set_figsize()\n",
        "print('input image shape:', img.permute(1, 2, 0).shape)\n",
        "d2l.plt.imshow(img.permute(1, 2, 0));\n",
        "print('output image shape:', out_img.shape)\n",
        "d2l.plt.imshow(out_img);"
      ]
    },
    {
      "cell_type": "markdown",
      "id": "b51649d8",
      "metadata": {
        "origin_pos": 27,
        "id": "b51649d8"
      },
      "source": [
        "In a fully convolutional network, we [**initialize the transposed convolutional layer with upsampling of bilinear interpolation. For the $1\\times 1$ convolutional layer, we use Xavier initialization.**]\n"
      ]
    },
    {
      "cell_type": "code",
      "execution_count": 11,
      "id": "6bcaed8f",
      "metadata": {
        "execution": {
          "iopub.execute_input": "2022-09-07T22:15:51.762714Z",
          "iopub.status.busy": "2022-09-07T22:15:51.762416Z",
          "iopub.status.idle": "2022-09-07T22:15:51.768306Z",
          "shell.execute_reply": "2022-09-07T22:15:51.767485Z"
        },
        "origin_pos": 29,
        "tab": [
          "pytorch"
        ],
        "id": "6bcaed8f"
      },
      "outputs": [],
      "source": [
        "W = bilinear_kernel(num_classes, num_classes, 64)\n",
        "net.transpose_conv.weight.data.copy_(W);"
      ]
    },
    {
      "cell_type": "markdown",
      "id": "ce57964a",
      "metadata": {
        "origin_pos": 30,
        "id": "ce57964a"
      },
      "source": [
        "## [**Reading the Dataset**]\n",
        "\n",
        "We read\n",
        "the semantic segmentation dataset\n",
        "as introduced in :numref:`sec_semantic_segmentation`. \n",
        "The output image shape of random cropping is\n",
        "specified as $320\\times 480$: both the height and width are divisible by $32$.\n"
      ]
    },
    {
      "cell_type": "code",
      "execution_count": 12,
      "id": "87144ee8",
      "metadata": {
        "execution": {
          "iopub.execute_input": "2022-09-07T22:15:51.771463Z",
          "iopub.status.busy": "2022-09-07T22:15:51.771195Z",
          "iopub.status.idle": "2022-09-07T22:16:17.035021Z",
          "shell.execute_reply": "2022-09-07T22:16:17.034186Z"
        },
        "origin_pos": 31,
        "tab": [
          "pytorch"
        ],
        "id": "87144ee8",
        "outputId": "e4b69bbb-a53d-4582-fc09-dba6d3eb3898",
        "colab": {
          "base_uri": "https://localhost:8080/"
        }
      },
      "outputs": [
        {
          "output_type": "stream",
          "name": "stdout",
          "text": [
            "Downloading ../data/VOCtrainval_11-May-2012.tar from http://d2l-data.s3-accelerate.amazonaws.com/VOCtrainval_11-May-2012.tar...\n",
            "read 1114 examples\n"
          ]
        },
        {
          "output_type": "stream",
          "name": "stderr",
          "text": [
            "/usr/local/lib/python3.7/dist-packages/torch/utils/data/dataloader.py:566: UserWarning: This DataLoader will create 4 worker processes in total. Our suggested max number of worker in current system is 2, which is smaller than what this DataLoader is going to create. Please be aware that excessive worker creation might get DataLoader running slow or even freeze, lower the worker number to avoid potential slowness/freeze if necessary.\n",
            "  cpuset_checked))\n"
          ]
        },
        {
          "output_type": "stream",
          "name": "stdout",
          "text": [
            "read 1078 examples\n"
          ]
        }
      ],
      "source": [
        "batch_size, crop_size = 32, (320, 480)\n",
        "train_iter, test_iter = d2l.load_data_voc(batch_size, crop_size)"
      ]
    },
    {
      "cell_type": "markdown",
      "id": "b86067e6",
      "metadata": {
        "origin_pos": 32,
        "id": "b86067e6"
      },
      "source": [
        "## [**Training**]\n",
        "\n",
        "\n",
        "Now we can train our constructed\n",
        "fully convolutional network. \n",
        "The loss function and accuracy calculation here\n",
        "are not essentially different from those in image classification of earlier chapters. \n",
        "Because we use the output channel of the\n",
        "transposed convolutional layer to\n",
        "predict the class for each pixel,\n",
        "the channel dimension is specified in the loss calculation.\n",
        "In addition, the accuracy is calculated\n",
        "based on correctness\n",
        "of the predicted class for all the pixels.\n"
      ]
    },
    {
      "cell_type": "code",
      "execution_count": 13,
      "id": "4a42f470",
      "metadata": {
        "execution": {
          "iopub.execute_input": "2022-09-07T22:16:17.039774Z",
          "iopub.status.busy": "2022-09-07T22:16:17.039216Z",
          "iopub.status.idle": "2022-09-07T22:17:09.612070Z",
          "shell.execute_reply": "2022-09-07T22:17:09.611155Z"
        },
        "origin_pos": 34,
        "tab": [
          "pytorch"
        ],
        "id": "4a42f470",
        "outputId": "9b10a386-e9d5-4f27-ce41-4db6c6a19925",
        "colab": {
          "base_uri": "https://localhost:8080/",
          "height": 302
        }
      },
      "outputs": [
        {
          "output_type": "stream",
          "name": "stdout",
          "text": [
            "loss 0.413, train acc 0.871, test acc 0.852\n",
            "79.1 examples/sec on [device(type='cuda', index=0)]\n"
          ]
        },
        {
          "output_type": "display_data",
          "data": {
            "text/plain": [
              "<Figure size 252x180 with 1 Axes>"
            ],
            "image/svg+xml": "<?xml version=\"1.0\" encoding=\"utf-8\" standalone=\"no\"?>\n<!DOCTYPE svg PUBLIC \"-//W3C//DTD SVG 1.1//EN\"\n  \"http://www.w3.org/Graphics/SVG/1.1/DTD/svg11.dtd\">\n<!-- Created with matplotlib (https://matplotlib.org/) -->\n<svg height=\"184.455469pt\" version=\"1.1\" viewBox=\"0 0 235.784375 184.455469\" width=\"235.784375pt\" xmlns=\"http://www.w3.org/2000/svg\" xmlns:xlink=\"http://www.w3.org/1999/xlink\">\n <defs>\n  <style type=\"text/css\">\n*{stroke-linecap:butt;stroke-linejoin:round;}\n  </style>\n </defs>\n <g id=\"figure_1\">\n  <g id=\"patch_1\">\n   <path d=\"M 0 184.455469 \nL 235.784375 184.455469 \nL 235.784375 -0 \nL 0 -0 \nz\n\" style=\"fill:none;\"/>\n  </g>\n  <g id=\"axes_1\">\n   <g id=\"patch_2\">\n    <path d=\"M 30.103125 146.899219 \nL 225.403125 146.899219 \nL 225.403125 10.999219 \nL 30.103125 10.999219 \nz\n\" style=\"fill:#ffffff;\"/>\n   </g>\n   <g id=\"matplotlib.axis_1\">\n    <g id=\"xtick_1\">\n     <g id=\"line2d_1\">\n      <path clip-path=\"url(#p81926b6827)\" d=\"M 30.103125 146.899219 \nL 30.103125 10.999219 \n\" style=\"fill:none;stroke:#b0b0b0;stroke-linecap:square;stroke-width:0.8;\"/>\n     </g>\n     <g id=\"line2d_2\">\n      <defs>\n       <path d=\"M 0 0 \nL 0 3.5 \n\" id=\"m78e7278195\" style=\"stroke:#000000;stroke-width:0.8;\"/>\n      </defs>\n      <g>\n       <use style=\"stroke:#000000;stroke-width:0.8;\" x=\"30.103125\" xlink:href=\"#m78e7278195\" y=\"146.899219\"/>\n      </g>\n     </g>\n     <g id=\"text_1\">\n      <!-- 1 -->\n      <defs>\n       <path d=\"M 12.40625 8.296875 \nL 28.515625 8.296875 \nL 28.515625 63.921875 \nL 10.984375 60.40625 \nL 10.984375 69.390625 \nL 28.421875 72.90625 \nL 38.28125 72.90625 \nL 38.28125 8.296875 \nL 54.390625 8.296875 \nL 54.390625 0 \nL 12.40625 0 \nz\n\" id=\"DejaVuSans-49\"/>\n      </defs>\n      <g transform=\"translate(26.921875 161.497656)scale(0.1 -0.1)\">\n       <use xlink:href=\"#DejaVuSans-49\"/>\n      </g>\n     </g>\n    </g>\n    <g id=\"xtick_2\">\n     <g id=\"line2d_3\">\n      <path clip-path=\"url(#p81926b6827)\" d=\"M 78.928125 146.899219 \nL 78.928125 10.999219 \n\" style=\"fill:none;stroke:#b0b0b0;stroke-linecap:square;stroke-width:0.8;\"/>\n     </g>\n     <g id=\"line2d_4\">\n      <g>\n       <use style=\"stroke:#000000;stroke-width:0.8;\" x=\"78.928125\" xlink:href=\"#m78e7278195\" y=\"146.899219\"/>\n      </g>\n     </g>\n     <g id=\"text_2\">\n      <!-- 2 -->\n      <defs>\n       <path d=\"M 19.1875 8.296875 \nL 53.609375 8.296875 \nL 53.609375 0 \nL 7.328125 0 \nL 7.328125 8.296875 \nQ 12.9375 14.109375 22.625 23.890625 \nQ 32.328125 33.6875 34.8125 36.53125 \nQ 39.546875 41.84375 41.421875 45.53125 \nQ 43.3125 49.21875 43.3125 52.78125 \nQ 43.3125 58.59375 39.234375 62.25 \nQ 35.15625 65.921875 28.609375 65.921875 \nQ 23.96875 65.921875 18.8125 64.3125 \nQ 13.671875 62.703125 7.8125 59.421875 \nL 7.8125 69.390625 \nQ 13.765625 71.78125 18.9375 73 \nQ 24.125 74.21875 28.421875 74.21875 \nQ 39.75 74.21875 46.484375 68.546875 \nQ 53.21875 62.890625 53.21875 53.421875 \nQ 53.21875 48.921875 51.53125 44.890625 \nQ 49.859375 40.875 45.40625 35.40625 \nQ 44.1875 33.984375 37.640625 27.21875 \nQ 31.109375 20.453125 19.1875 8.296875 \nz\n\" id=\"DejaVuSans-50\"/>\n      </defs>\n      <g transform=\"translate(75.746875 161.497656)scale(0.1 -0.1)\">\n       <use xlink:href=\"#DejaVuSans-50\"/>\n      </g>\n     </g>\n    </g>\n    <g id=\"xtick_3\">\n     <g id=\"line2d_5\">\n      <path clip-path=\"url(#p81926b6827)\" d=\"M 127.753125 146.899219 \nL 127.753125 10.999219 \n\" style=\"fill:none;stroke:#b0b0b0;stroke-linecap:square;stroke-width:0.8;\"/>\n     </g>\n     <g id=\"line2d_6\">\n      <g>\n       <use style=\"stroke:#000000;stroke-width:0.8;\" x=\"127.753125\" xlink:href=\"#m78e7278195\" y=\"146.899219\"/>\n      </g>\n     </g>\n     <g id=\"text_3\">\n      <!-- 3 -->\n      <defs>\n       <path d=\"M 40.578125 39.3125 \nQ 47.65625 37.796875 51.625 33 \nQ 55.609375 28.21875 55.609375 21.1875 \nQ 55.609375 10.40625 48.1875 4.484375 \nQ 40.765625 -1.421875 27.09375 -1.421875 \nQ 22.515625 -1.421875 17.65625 -0.515625 \nQ 12.796875 0.390625 7.625 2.203125 \nL 7.625 11.71875 \nQ 11.71875 9.328125 16.59375 8.109375 \nQ 21.484375 6.890625 26.8125 6.890625 \nQ 36.078125 6.890625 40.9375 10.546875 \nQ 45.796875 14.203125 45.796875 21.1875 \nQ 45.796875 27.640625 41.28125 31.265625 \nQ 36.765625 34.90625 28.71875 34.90625 \nL 20.21875 34.90625 \nL 20.21875 43.015625 \nL 29.109375 43.015625 \nQ 36.375 43.015625 40.234375 45.921875 \nQ 44.09375 48.828125 44.09375 54.296875 \nQ 44.09375 59.90625 40.109375 62.90625 \nQ 36.140625 65.921875 28.71875 65.921875 \nQ 24.65625 65.921875 20.015625 65.03125 \nQ 15.375 64.15625 9.8125 62.3125 \nL 9.8125 71.09375 \nQ 15.4375 72.65625 20.34375 73.4375 \nQ 25.25 74.21875 29.59375 74.21875 \nQ 40.828125 74.21875 47.359375 69.109375 \nQ 53.90625 64.015625 53.90625 55.328125 \nQ 53.90625 49.265625 50.4375 45.09375 \nQ 46.96875 40.921875 40.578125 39.3125 \nz\n\" id=\"DejaVuSans-51\"/>\n      </defs>\n      <g transform=\"translate(124.571875 161.497656)scale(0.1 -0.1)\">\n       <use xlink:href=\"#DejaVuSans-51\"/>\n      </g>\n     </g>\n    </g>\n    <g id=\"xtick_4\">\n     <g id=\"line2d_7\">\n      <path clip-path=\"url(#p81926b6827)\" d=\"M 176.578125 146.899219 \nL 176.578125 10.999219 \n\" style=\"fill:none;stroke:#b0b0b0;stroke-linecap:square;stroke-width:0.8;\"/>\n     </g>\n     <g id=\"line2d_8\">\n      <g>\n       <use style=\"stroke:#000000;stroke-width:0.8;\" x=\"176.578125\" xlink:href=\"#m78e7278195\" y=\"146.899219\"/>\n      </g>\n     </g>\n     <g id=\"text_4\">\n      <!-- 4 -->\n      <defs>\n       <path d=\"M 37.796875 64.3125 \nL 12.890625 25.390625 \nL 37.796875 25.390625 \nz\nM 35.203125 72.90625 \nL 47.609375 72.90625 \nL 47.609375 25.390625 \nL 58.015625 25.390625 \nL 58.015625 17.1875 \nL 47.609375 17.1875 \nL 47.609375 0 \nL 37.796875 0 \nL 37.796875 17.1875 \nL 4.890625 17.1875 \nL 4.890625 26.703125 \nz\n\" id=\"DejaVuSans-52\"/>\n      </defs>\n      <g transform=\"translate(173.396875 161.497656)scale(0.1 -0.1)\">\n       <use xlink:href=\"#DejaVuSans-52\"/>\n      </g>\n     </g>\n    </g>\n    <g id=\"xtick_5\">\n     <g id=\"line2d_9\">\n      <path clip-path=\"url(#p81926b6827)\" d=\"M 225.403125 146.899219 \nL 225.403125 10.999219 \n\" style=\"fill:none;stroke:#b0b0b0;stroke-linecap:square;stroke-width:0.8;\"/>\n     </g>\n     <g id=\"line2d_10\">\n      <g>\n       <use style=\"stroke:#000000;stroke-width:0.8;\" x=\"225.403125\" xlink:href=\"#m78e7278195\" y=\"146.899219\"/>\n      </g>\n     </g>\n     <g id=\"text_5\">\n      <!-- 5 -->\n      <defs>\n       <path d=\"M 10.796875 72.90625 \nL 49.515625 72.90625 \nL 49.515625 64.59375 \nL 19.828125 64.59375 \nL 19.828125 46.734375 \nQ 21.96875 47.46875 24.109375 47.828125 \nQ 26.265625 48.1875 28.421875 48.1875 \nQ 40.625 48.1875 47.75 41.5 \nQ 54.890625 34.8125 54.890625 23.390625 \nQ 54.890625 11.625 47.5625 5.09375 \nQ 40.234375 -1.421875 26.90625 -1.421875 \nQ 22.3125 -1.421875 17.546875 -0.640625 \nQ 12.796875 0.140625 7.71875 1.703125 \nL 7.71875 11.625 \nQ 12.109375 9.234375 16.796875 8.0625 \nQ 21.484375 6.890625 26.703125 6.890625 \nQ 35.15625 6.890625 40.078125 11.328125 \nQ 45.015625 15.765625 45.015625 23.390625 \nQ 45.015625 31 40.078125 35.4375 \nQ 35.15625 39.890625 26.703125 39.890625 \nQ 22.75 39.890625 18.8125 39.015625 \nQ 14.890625 38.140625 10.796875 36.28125 \nz\n\" id=\"DejaVuSans-53\"/>\n      </defs>\n      <g transform=\"translate(222.221875 161.497656)scale(0.1 -0.1)\">\n       <use xlink:href=\"#DejaVuSans-53\"/>\n      </g>\n     </g>\n    </g>\n    <g id=\"text_6\">\n     <!-- epoch -->\n     <defs>\n      <path d=\"M 56.203125 29.59375 \nL 56.203125 25.203125 \nL 14.890625 25.203125 \nQ 15.484375 15.921875 20.484375 11.0625 \nQ 25.484375 6.203125 34.421875 6.203125 \nQ 39.59375 6.203125 44.453125 7.46875 \nQ 49.3125 8.734375 54.109375 11.28125 \nL 54.109375 2.78125 \nQ 49.265625 0.734375 44.1875 -0.34375 \nQ 39.109375 -1.421875 33.890625 -1.421875 \nQ 20.796875 -1.421875 13.15625 6.1875 \nQ 5.515625 13.8125 5.515625 26.8125 \nQ 5.515625 40.234375 12.765625 48.109375 \nQ 20.015625 56 32.328125 56 \nQ 43.359375 56 49.78125 48.890625 \nQ 56.203125 41.796875 56.203125 29.59375 \nz\nM 47.21875 32.234375 \nQ 47.125 39.59375 43.09375 43.984375 \nQ 39.0625 48.390625 32.421875 48.390625 \nQ 24.90625 48.390625 20.390625 44.140625 \nQ 15.875 39.890625 15.1875 32.171875 \nz\n\" id=\"DejaVuSans-101\"/>\n      <path d=\"M 18.109375 8.203125 \nL 18.109375 -20.796875 \nL 9.078125 -20.796875 \nL 9.078125 54.6875 \nL 18.109375 54.6875 \nL 18.109375 46.390625 \nQ 20.953125 51.265625 25.265625 53.625 \nQ 29.59375 56 35.59375 56 \nQ 45.5625 56 51.78125 48.09375 \nQ 58.015625 40.1875 58.015625 27.296875 \nQ 58.015625 14.40625 51.78125 6.484375 \nQ 45.5625 -1.421875 35.59375 -1.421875 \nQ 29.59375 -1.421875 25.265625 0.953125 \nQ 20.953125 3.328125 18.109375 8.203125 \nz\nM 48.6875 27.296875 \nQ 48.6875 37.203125 44.609375 42.84375 \nQ 40.53125 48.484375 33.40625 48.484375 \nQ 26.265625 48.484375 22.1875 42.84375 \nQ 18.109375 37.203125 18.109375 27.296875 \nQ 18.109375 17.390625 22.1875 11.75 \nQ 26.265625 6.109375 33.40625 6.109375 \nQ 40.53125 6.109375 44.609375 11.75 \nQ 48.6875 17.390625 48.6875 27.296875 \nz\n\" id=\"DejaVuSans-112\"/>\n      <path d=\"M 30.609375 48.390625 \nQ 23.390625 48.390625 19.1875 42.75 \nQ 14.984375 37.109375 14.984375 27.296875 \nQ 14.984375 17.484375 19.15625 11.84375 \nQ 23.34375 6.203125 30.609375 6.203125 \nQ 37.796875 6.203125 41.984375 11.859375 \nQ 46.1875 17.53125 46.1875 27.296875 \nQ 46.1875 37.015625 41.984375 42.703125 \nQ 37.796875 48.390625 30.609375 48.390625 \nz\nM 30.609375 56 \nQ 42.328125 56 49.015625 48.375 \nQ 55.71875 40.765625 55.71875 27.296875 \nQ 55.71875 13.875 49.015625 6.21875 \nQ 42.328125 -1.421875 30.609375 -1.421875 \nQ 18.84375 -1.421875 12.171875 6.21875 \nQ 5.515625 13.875 5.515625 27.296875 \nQ 5.515625 40.765625 12.171875 48.375 \nQ 18.84375 56 30.609375 56 \nz\n\" id=\"DejaVuSans-111\"/>\n      <path d=\"M 48.78125 52.59375 \nL 48.78125 44.1875 \nQ 44.96875 46.296875 41.140625 47.34375 \nQ 37.3125 48.390625 33.40625 48.390625 \nQ 24.65625 48.390625 19.8125 42.84375 \nQ 14.984375 37.3125 14.984375 27.296875 \nQ 14.984375 17.28125 19.8125 11.734375 \nQ 24.65625 6.203125 33.40625 6.203125 \nQ 37.3125 6.203125 41.140625 7.25 \nQ 44.96875 8.296875 48.78125 10.40625 \nL 48.78125 2.09375 \nQ 45.015625 0.34375 40.984375 -0.53125 \nQ 36.96875 -1.421875 32.421875 -1.421875 \nQ 20.0625 -1.421875 12.78125 6.34375 \nQ 5.515625 14.109375 5.515625 27.296875 \nQ 5.515625 40.671875 12.859375 48.328125 \nQ 20.21875 56 33.015625 56 \nQ 37.15625 56 41.109375 55.140625 \nQ 45.0625 54.296875 48.78125 52.59375 \nz\n\" id=\"DejaVuSans-99\"/>\n      <path d=\"M 54.890625 33.015625 \nL 54.890625 0 \nL 45.90625 0 \nL 45.90625 32.71875 \nQ 45.90625 40.484375 42.875 44.328125 \nQ 39.84375 48.1875 33.796875 48.1875 \nQ 26.515625 48.1875 22.3125 43.546875 \nQ 18.109375 38.921875 18.109375 30.90625 \nL 18.109375 0 \nL 9.078125 0 \nL 9.078125 75.984375 \nL 18.109375 75.984375 \nL 18.109375 46.1875 \nQ 21.34375 51.125 25.703125 53.5625 \nQ 30.078125 56 35.796875 56 \nQ 45.21875 56 50.046875 50.171875 \nQ 54.890625 44.34375 54.890625 33.015625 \nz\n\" id=\"DejaVuSans-104\"/>\n     </defs>\n     <g transform=\"translate(112.525 175.175781)scale(0.1 -0.1)\">\n      <use xlink:href=\"#DejaVuSans-101\"/>\n      <use x=\"61.523438\" xlink:href=\"#DejaVuSans-112\"/>\n      <use x=\"125\" xlink:href=\"#DejaVuSans-111\"/>\n      <use x=\"186.181641\" xlink:href=\"#DejaVuSans-99\"/>\n      <use x=\"241.162109\" xlink:href=\"#DejaVuSans-104\"/>\n     </g>\n    </g>\n   </g>\n   <g id=\"matplotlib.axis_2\">\n    <g id=\"ytick_1\">\n     <g id=\"line2d_11\">\n      <path clip-path=\"url(#p81926b6827)\" d=\"M 30.103125 146.899219 \nL 225.403125 146.899219 \n\" style=\"fill:none;stroke:#b0b0b0;stroke-linecap:square;stroke-width:0.8;\"/>\n     </g>\n     <g id=\"line2d_12\">\n      <defs>\n       <path d=\"M 0 0 \nL -3.5 0 \n\" id=\"m1bded0781a\" style=\"stroke:#000000;stroke-width:0.8;\"/>\n      </defs>\n      <g>\n       <use style=\"stroke:#000000;stroke-width:0.8;\" x=\"30.103125\" xlink:href=\"#m1bded0781a\" y=\"146.899219\"/>\n      </g>\n     </g>\n     <g id=\"text_7\">\n      <!-- 0.0 -->\n      <defs>\n       <path d=\"M 31.78125 66.40625 \nQ 24.171875 66.40625 20.328125 58.90625 \nQ 16.5 51.421875 16.5 36.375 \nQ 16.5 21.390625 20.328125 13.890625 \nQ 24.171875 6.390625 31.78125 6.390625 \nQ 39.453125 6.390625 43.28125 13.890625 \nQ 47.125 21.390625 47.125 36.375 \nQ 47.125 51.421875 43.28125 58.90625 \nQ 39.453125 66.40625 31.78125 66.40625 \nz\nM 31.78125 74.21875 \nQ 44.046875 74.21875 50.515625 64.515625 \nQ 56.984375 54.828125 56.984375 36.375 \nQ 56.984375 17.96875 50.515625 8.265625 \nQ 44.046875 -1.421875 31.78125 -1.421875 \nQ 19.53125 -1.421875 13.0625 8.265625 \nQ 6.59375 17.96875 6.59375 36.375 \nQ 6.59375 54.828125 13.0625 64.515625 \nQ 19.53125 74.21875 31.78125 74.21875 \nz\n\" id=\"DejaVuSans-48\"/>\n       <path d=\"M 10.6875 12.40625 \nL 21 12.40625 \nL 21 0 \nL 10.6875 0 \nz\n\" id=\"DejaVuSans-46\"/>\n      </defs>\n      <g transform=\"translate(7.2 150.698437)scale(0.1 -0.1)\">\n       <use xlink:href=\"#DejaVuSans-48\"/>\n       <use x=\"63.623047\" xlink:href=\"#DejaVuSans-46\"/>\n       <use x=\"95.410156\" xlink:href=\"#DejaVuSans-48\"/>\n      </g>\n     </g>\n    </g>\n    <g id=\"ytick_2\">\n     <g id=\"line2d_13\">\n      <path clip-path=\"url(#p81926b6827)\" d=\"M 30.103125 119.719219 \nL 225.403125 119.719219 \n\" style=\"fill:none;stroke:#b0b0b0;stroke-linecap:square;stroke-width:0.8;\"/>\n     </g>\n     <g id=\"line2d_14\">\n      <g>\n       <use style=\"stroke:#000000;stroke-width:0.8;\" x=\"30.103125\" xlink:href=\"#m1bded0781a\" y=\"119.719219\"/>\n      </g>\n     </g>\n     <g id=\"text_8\">\n      <!-- 0.2 -->\n      <g transform=\"translate(7.2 123.518437)scale(0.1 -0.1)\">\n       <use xlink:href=\"#DejaVuSans-48\"/>\n       <use x=\"63.623047\" xlink:href=\"#DejaVuSans-46\"/>\n       <use x=\"95.410156\" xlink:href=\"#DejaVuSans-50\"/>\n      </g>\n     </g>\n    </g>\n    <g id=\"ytick_3\">\n     <g id=\"line2d_15\">\n      <path clip-path=\"url(#p81926b6827)\" d=\"M 30.103125 92.539219 \nL 225.403125 92.539219 \n\" style=\"fill:none;stroke:#b0b0b0;stroke-linecap:square;stroke-width:0.8;\"/>\n     </g>\n     <g id=\"line2d_16\">\n      <g>\n       <use style=\"stroke:#000000;stroke-width:0.8;\" x=\"30.103125\" xlink:href=\"#m1bded0781a\" y=\"92.539219\"/>\n      </g>\n     </g>\n     <g id=\"text_9\">\n      <!-- 0.4 -->\n      <g transform=\"translate(7.2 96.338437)scale(0.1 -0.1)\">\n       <use xlink:href=\"#DejaVuSans-48\"/>\n       <use x=\"63.623047\" xlink:href=\"#DejaVuSans-46\"/>\n       <use x=\"95.410156\" xlink:href=\"#DejaVuSans-52\"/>\n      </g>\n     </g>\n    </g>\n    <g id=\"ytick_4\">\n     <g id=\"line2d_17\">\n      <path clip-path=\"url(#p81926b6827)\" d=\"M 30.103125 65.359219 \nL 225.403125 65.359219 \n\" style=\"fill:none;stroke:#b0b0b0;stroke-linecap:square;stroke-width:0.8;\"/>\n     </g>\n     <g id=\"line2d_18\">\n      <g>\n       <use style=\"stroke:#000000;stroke-width:0.8;\" x=\"30.103125\" xlink:href=\"#m1bded0781a\" y=\"65.359219\"/>\n      </g>\n     </g>\n     <g id=\"text_10\">\n      <!-- 0.6 -->\n      <defs>\n       <path d=\"M 33.015625 40.375 \nQ 26.375 40.375 22.484375 35.828125 \nQ 18.609375 31.296875 18.609375 23.390625 \nQ 18.609375 15.53125 22.484375 10.953125 \nQ 26.375 6.390625 33.015625 6.390625 \nQ 39.65625 6.390625 43.53125 10.953125 \nQ 47.40625 15.53125 47.40625 23.390625 \nQ 47.40625 31.296875 43.53125 35.828125 \nQ 39.65625 40.375 33.015625 40.375 \nz\nM 52.59375 71.296875 \nL 52.59375 62.3125 \nQ 48.875 64.0625 45.09375 64.984375 \nQ 41.3125 65.921875 37.59375 65.921875 \nQ 27.828125 65.921875 22.671875 59.328125 \nQ 17.53125 52.734375 16.796875 39.40625 \nQ 19.671875 43.65625 24.015625 45.921875 \nQ 28.375 48.1875 33.59375 48.1875 \nQ 44.578125 48.1875 50.953125 41.515625 \nQ 57.328125 34.859375 57.328125 23.390625 \nQ 57.328125 12.15625 50.6875 5.359375 \nQ 44.046875 -1.421875 33.015625 -1.421875 \nQ 20.359375 -1.421875 13.671875 8.265625 \nQ 6.984375 17.96875 6.984375 36.375 \nQ 6.984375 53.65625 15.1875 63.9375 \nQ 23.390625 74.21875 37.203125 74.21875 \nQ 40.921875 74.21875 44.703125 73.484375 \nQ 48.484375 72.75 52.59375 71.296875 \nz\n\" id=\"DejaVuSans-54\"/>\n      </defs>\n      <g transform=\"translate(7.2 69.158437)scale(0.1 -0.1)\">\n       <use xlink:href=\"#DejaVuSans-48\"/>\n       <use x=\"63.623047\" xlink:href=\"#DejaVuSans-46\"/>\n       <use x=\"95.410156\" xlink:href=\"#DejaVuSans-54\"/>\n      </g>\n     </g>\n    </g>\n    <g id=\"ytick_5\">\n     <g id=\"line2d_19\">\n      <path clip-path=\"url(#p81926b6827)\" d=\"M 30.103125 38.179219 \nL 225.403125 38.179219 \n\" style=\"fill:none;stroke:#b0b0b0;stroke-linecap:square;stroke-width:0.8;\"/>\n     </g>\n     <g id=\"line2d_20\">\n      <g>\n       <use style=\"stroke:#000000;stroke-width:0.8;\" x=\"30.103125\" xlink:href=\"#m1bded0781a\" y=\"38.179219\"/>\n      </g>\n     </g>\n     <g id=\"text_11\">\n      <!-- 0.8 -->\n      <defs>\n       <path d=\"M 31.78125 34.625 \nQ 24.75 34.625 20.71875 30.859375 \nQ 16.703125 27.09375 16.703125 20.515625 \nQ 16.703125 13.921875 20.71875 10.15625 \nQ 24.75 6.390625 31.78125 6.390625 \nQ 38.8125 6.390625 42.859375 10.171875 \nQ 46.921875 13.96875 46.921875 20.515625 \nQ 46.921875 27.09375 42.890625 30.859375 \nQ 38.875 34.625 31.78125 34.625 \nz\nM 21.921875 38.8125 \nQ 15.578125 40.375 12.03125 44.71875 \nQ 8.5 49.078125 8.5 55.328125 \nQ 8.5 64.0625 14.71875 69.140625 \nQ 20.953125 74.21875 31.78125 74.21875 \nQ 42.671875 74.21875 48.875 69.140625 \nQ 55.078125 64.0625 55.078125 55.328125 \nQ 55.078125 49.078125 51.53125 44.71875 \nQ 48 40.375 41.703125 38.8125 \nQ 48.828125 37.15625 52.796875 32.3125 \nQ 56.78125 27.484375 56.78125 20.515625 \nQ 56.78125 9.90625 50.3125 4.234375 \nQ 43.84375 -1.421875 31.78125 -1.421875 \nQ 19.734375 -1.421875 13.25 4.234375 \nQ 6.78125 9.90625 6.78125 20.515625 \nQ 6.78125 27.484375 10.78125 32.3125 \nQ 14.796875 37.15625 21.921875 38.8125 \nz\nM 18.3125 54.390625 \nQ 18.3125 48.734375 21.84375 45.5625 \nQ 25.390625 42.390625 31.78125 42.390625 \nQ 38.140625 42.390625 41.71875 45.5625 \nQ 45.3125 48.734375 45.3125 54.390625 \nQ 45.3125 60.0625 41.71875 63.234375 \nQ 38.140625 66.40625 31.78125 66.40625 \nQ 25.390625 66.40625 21.84375 63.234375 \nQ 18.3125 60.0625 18.3125 54.390625 \nz\n\" id=\"DejaVuSans-56\"/>\n      </defs>\n      <g transform=\"translate(7.2 41.978437)scale(0.1 -0.1)\">\n       <use xlink:href=\"#DejaVuSans-48\"/>\n       <use x=\"63.623047\" xlink:href=\"#DejaVuSans-46\"/>\n       <use x=\"95.410156\" xlink:href=\"#DejaVuSans-56\"/>\n      </g>\n     </g>\n    </g>\n    <g id=\"ytick_6\">\n     <g id=\"line2d_21\">\n      <path clip-path=\"url(#p81926b6827)\" d=\"M 30.103125 10.999219 \nL 225.403125 10.999219 \n\" style=\"fill:none;stroke:#b0b0b0;stroke-linecap:square;stroke-width:0.8;\"/>\n     </g>\n     <g id=\"line2d_22\">\n      <g>\n       <use style=\"stroke:#000000;stroke-width:0.8;\" x=\"30.103125\" xlink:href=\"#m1bded0781a\" y=\"10.999219\"/>\n      </g>\n     </g>\n     <g id=\"text_12\">\n      <!-- 1.0 -->\n      <g transform=\"translate(7.2 14.798437)scale(0.1 -0.1)\">\n       <use xlink:href=\"#DejaVuSans-49\"/>\n       <use x=\"63.623047\" xlink:href=\"#DejaVuSans-46\"/>\n       <use x=\"95.410156\" xlink:href=\"#DejaVuSans-48\"/>\n      </g>\n     </g>\n    </g>\n   </g>\n   <g id=\"line2d_23\">\n    <path clip-path=\"url(#p81926b6827)\" d=\"M 30.726853 -1 \nL 38.719301 54.904355 \nL 47.335478 58.475198 \nL 55.951654 56.91125 \nL 64.567831 57.883941 \nL 73.184007 59.933021 \nL 78.928125 60.934931 \nL 87.544301 75.44846 \nL 96.160478 80.180567 \nL 104.776654 76.971229 \nL 113.392831 77.799312 \nL 122.009007 77.592527 \nL 127.753125 77.107875 \nL 136.369301 80.566127 \nL 144.985478 83.025459 \nL 153.601654 83.851583 \nL 162.217831 84.591419 \nL 170.834007 84.189526 \nL 176.578125 84.816528 \nL 185.194301 88.55968 \nL 193.810478 92.505831 \nL 202.426654 90.321389 \nL 211.042831 90.650702 \nL 219.659007 90.7298 \nL 225.403125 90.76036 \n\" style=\"fill:none;stroke:#1f77b4;stroke-linecap:square;stroke-width:1.5;\"/>\n   </g>\n   <g id=\"line2d_24\">\n    <path clip-path=\"url(#p81926b6827)\" d=\"M -1 55.95464 \nL 7.126654 50.685576 \nL 15.742831 47.435239 \nL 24.359007 45.843859 \nL 30.103125 44.938517 \nL 38.719301 34.964105 \nL 47.335478 34.358029 \nL 55.951654 34.953552 \nL 64.567831 35.162856 \nL 73.184007 34.822438 \nL 78.928125 34.641466 \nL 87.544301 31.820722 \nL 96.160478 30.360483 \nL 104.776654 31.424227 \nL 113.392831 31.177232 \nL 122.009007 31.290528 \nL 127.753125 31.473684 \nL 136.369301 30.732778 \nL 144.985478 30.240325 \nL 153.601654 29.982532 \nL 162.217831 29.891844 \nL 170.834007 29.966973 \nL 176.578125 29.80898 \nL 185.194301 29.292001 \nL 193.810478 27.813749 \nL 202.426654 28.631545 \nL 211.042831 28.464461 \nL 219.659007 28.495669 \nL 225.403125 28.476563 \n\" style=\"fill:none;stroke:#bf00bf;stroke-dasharray:5.55,2.4;stroke-dashoffset:0;stroke-width:1.5;\"/>\n   </g>\n   <g id=\"line2d_25\">\n    <path clip-path=\"url(#p81926b6827)\" d=\"M 30.103125 35.559876 \nL 78.928125 33.306764 \nL 127.753125 32.356143 \nL 176.578125 31.24987 \nL 225.403125 31.174881 \n\" style=\"fill:none;stroke:#008000;stroke-dasharray:9.6,2.4,1.5,2.4;stroke-dashoffset:0;stroke-width:1.5;\"/>\n   </g>\n   <g id=\"patch_3\">\n    <path d=\"M 30.103125 146.899219 \nL 30.103125 10.999219 \n\" style=\"fill:none;stroke:#000000;stroke-linecap:square;stroke-linejoin:miter;stroke-width:0.8;\"/>\n   </g>\n   <g id=\"patch_4\">\n    <path d=\"M 225.403125 146.899219 \nL 225.403125 10.999219 \n\" style=\"fill:none;stroke:#000000;stroke-linecap:square;stroke-linejoin:miter;stroke-width:0.8;\"/>\n   </g>\n   <g id=\"patch_5\">\n    <path d=\"M 30.103125 146.899219 \nL 225.403125 146.899219 \n\" style=\"fill:none;stroke:#000000;stroke-linecap:square;stroke-linejoin:miter;stroke-width:0.8;\"/>\n   </g>\n   <g id=\"patch_6\">\n    <path d=\"M 30.103125 10.999219 \nL 225.403125 10.999219 \n\" style=\"fill:none;stroke:#000000;stroke-linecap:square;stroke-linejoin:miter;stroke-width:0.8;\"/>\n   </g>\n   <g id=\"legend_1\">\n    <g id=\"patch_7\">\n     <path d=\"M 37.103125 141.899219 \nL 114.871875 141.899219 \nQ 116.871875 141.899219 116.871875 139.899219 \nL 116.871875 96.864844 \nQ 116.871875 94.864844 114.871875 94.864844 \nL 37.103125 94.864844 \nQ 35.103125 94.864844 35.103125 96.864844 \nL 35.103125 139.899219 \nQ 35.103125 141.899219 37.103125 141.899219 \nz\n\" style=\"fill:#ffffff;opacity:0.8;stroke:#cccccc;stroke-linejoin:miter;\"/>\n    </g>\n    <g id=\"line2d_26\">\n     <path d=\"M 39.103125 102.963281 \nL 59.103125 102.963281 \n\" style=\"fill:none;stroke:#1f77b4;stroke-linecap:square;stroke-width:1.5;\"/>\n    </g>\n    <g id=\"line2d_27\"/>\n    <g id=\"text_13\">\n     <!-- train loss -->\n     <defs>\n      <path d=\"M 18.3125 70.21875 \nL 18.3125 54.6875 \nL 36.8125 54.6875 \nL 36.8125 47.703125 \nL 18.3125 47.703125 \nL 18.3125 18.015625 \nQ 18.3125 11.328125 20.140625 9.421875 \nQ 21.96875 7.515625 27.59375 7.515625 \nL 36.8125 7.515625 \nL 36.8125 0 \nL 27.59375 0 \nQ 17.1875 0 13.234375 3.875 \nQ 9.28125 7.765625 9.28125 18.015625 \nL 9.28125 47.703125 \nL 2.6875 47.703125 \nL 2.6875 54.6875 \nL 9.28125 54.6875 \nL 9.28125 70.21875 \nz\n\" id=\"DejaVuSans-116\"/>\n      <path d=\"M 41.109375 46.296875 \nQ 39.59375 47.171875 37.8125 47.578125 \nQ 36.03125 48 33.890625 48 \nQ 26.265625 48 22.1875 43.046875 \nQ 18.109375 38.09375 18.109375 28.8125 \nL 18.109375 0 \nL 9.078125 0 \nL 9.078125 54.6875 \nL 18.109375 54.6875 \nL 18.109375 46.1875 \nQ 20.953125 51.171875 25.484375 53.578125 \nQ 30.03125 56 36.53125 56 \nQ 37.453125 56 38.578125 55.875 \nQ 39.703125 55.765625 41.0625 55.515625 \nz\n\" id=\"DejaVuSans-114\"/>\n      <path d=\"M 34.28125 27.484375 \nQ 23.390625 27.484375 19.1875 25 \nQ 14.984375 22.515625 14.984375 16.5 \nQ 14.984375 11.71875 18.140625 8.90625 \nQ 21.296875 6.109375 26.703125 6.109375 \nQ 34.1875 6.109375 38.703125 11.40625 \nQ 43.21875 16.703125 43.21875 25.484375 \nL 43.21875 27.484375 \nz\nM 52.203125 31.203125 \nL 52.203125 0 \nL 43.21875 0 \nL 43.21875 8.296875 \nQ 40.140625 3.328125 35.546875 0.953125 \nQ 30.953125 -1.421875 24.3125 -1.421875 \nQ 15.921875 -1.421875 10.953125 3.296875 \nQ 6 8.015625 6 15.921875 \nQ 6 25.140625 12.171875 29.828125 \nQ 18.359375 34.515625 30.609375 34.515625 \nL 43.21875 34.515625 \nL 43.21875 35.40625 \nQ 43.21875 41.609375 39.140625 45 \nQ 35.0625 48.390625 27.6875 48.390625 \nQ 23 48.390625 18.546875 47.265625 \nQ 14.109375 46.140625 10.015625 43.890625 \nL 10.015625 52.203125 \nQ 14.9375 54.109375 19.578125 55.046875 \nQ 24.21875 56 28.609375 56 \nQ 40.484375 56 46.34375 49.84375 \nQ 52.203125 43.703125 52.203125 31.203125 \nz\n\" id=\"DejaVuSans-97\"/>\n      <path d=\"M 9.421875 54.6875 \nL 18.40625 54.6875 \nL 18.40625 0 \nL 9.421875 0 \nz\nM 9.421875 75.984375 \nL 18.40625 75.984375 \nL 18.40625 64.59375 \nL 9.421875 64.59375 \nz\n\" id=\"DejaVuSans-105\"/>\n      <path d=\"M 54.890625 33.015625 \nL 54.890625 0 \nL 45.90625 0 \nL 45.90625 32.71875 \nQ 45.90625 40.484375 42.875 44.328125 \nQ 39.84375 48.1875 33.796875 48.1875 \nQ 26.515625 48.1875 22.3125 43.546875 \nQ 18.109375 38.921875 18.109375 30.90625 \nL 18.109375 0 \nL 9.078125 0 \nL 9.078125 54.6875 \nL 18.109375 54.6875 \nL 18.109375 46.1875 \nQ 21.34375 51.125 25.703125 53.5625 \nQ 30.078125 56 35.796875 56 \nQ 45.21875 56 50.046875 50.171875 \nQ 54.890625 44.34375 54.890625 33.015625 \nz\n\" id=\"DejaVuSans-110\"/>\n      <path id=\"DejaVuSans-32\"/>\n      <path d=\"M 9.421875 75.984375 \nL 18.40625 75.984375 \nL 18.40625 0 \nL 9.421875 0 \nz\n\" id=\"DejaVuSans-108\"/>\n      <path d=\"M 44.28125 53.078125 \nL 44.28125 44.578125 \nQ 40.484375 46.53125 36.375 47.5 \nQ 32.28125 48.484375 27.875 48.484375 \nQ 21.1875 48.484375 17.84375 46.4375 \nQ 14.5 44.390625 14.5 40.28125 \nQ 14.5 37.15625 16.890625 35.375 \nQ 19.28125 33.59375 26.515625 31.984375 \nL 29.59375 31.296875 \nQ 39.15625 29.25 43.1875 25.515625 \nQ 47.21875 21.78125 47.21875 15.09375 \nQ 47.21875 7.46875 41.1875 3.015625 \nQ 35.15625 -1.421875 24.609375 -1.421875 \nQ 20.21875 -1.421875 15.453125 -0.5625 \nQ 10.6875 0.296875 5.421875 2 \nL 5.421875 11.28125 \nQ 10.40625 8.6875 15.234375 7.390625 \nQ 20.0625 6.109375 24.8125 6.109375 \nQ 31.15625 6.109375 34.5625 8.28125 \nQ 37.984375 10.453125 37.984375 14.40625 \nQ 37.984375 18.0625 35.515625 20.015625 \nQ 33.0625 21.96875 24.703125 23.78125 \nL 21.578125 24.515625 \nQ 13.234375 26.265625 9.515625 29.90625 \nQ 5.8125 33.546875 5.8125 39.890625 \nQ 5.8125 47.609375 11.28125 51.796875 \nQ 16.75 56 26.8125 56 \nQ 31.78125 56 36.171875 55.265625 \nQ 40.578125 54.546875 44.28125 53.078125 \nz\n\" id=\"DejaVuSans-115\"/>\n     </defs>\n     <g transform=\"translate(67.103125 106.463281)scale(0.1 -0.1)\">\n      <use xlink:href=\"#DejaVuSans-116\"/>\n      <use x=\"39.208984\" xlink:href=\"#DejaVuSans-114\"/>\n      <use x=\"80.322266\" xlink:href=\"#DejaVuSans-97\"/>\n      <use x=\"141.601562\" xlink:href=\"#DejaVuSans-105\"/>\n      <use x=\"169.384766\" xlink:href=\"#DejaVuSans-110\"/>\n      <use x=\"232.763672\" xlink:href=\"#DejaVuSans-32\"/>\n      <use x=\"264.550781\" xlink:href=\"#DejaVuSans-108\"/>\n      <use x=\"292.333984\" xlink:href=\"#DejaVuSans-111\"/>\n      <use x=\"353.515625\" xlink:href=\"#DejaVuSans-115\"/>\n      <use x=\"405.615234\" xlink:href=\"#DejaVuSans-115\"/>\n     </g>\n    </g>\n    <g id=\"line2d_28\">\n     <path d=\"M 39.103125 117.641406 \nL 59.103125 117.641406 \n\" style=\"fill:none;stroke:#bf00bf;stroke-dasharray:5.55,2.4;stroke-dashoffset:0;stroke-width:1.5;\"/>\n    </g>\n    <g id=\"line2d_29\"/>\n    <g id=\"text_14\">\n     <!-- train acc -->\n     <g transform=\"translate(67.103125 121.141406)scale(0.1 -0.1)\">\n      <use xlink:href=\"#DejaVuSans-116\"/>\n      <use x=\"39.208984\" xlink:href=\"#DejaVuSans-114\"/>\n      <use x=\"80.322266\" xlink:href=\"#DejaVuSans-97\"/>\n      <use x=\"141.601562\" xlink:href=\"#DejaVuSans-105\"/>\n      <use x=\"169.384766\" xlink:href=\"#DejaVuSans-110\"/>\n      <use x=\"232.763672\" xlink:href=\"#DejaVuSans-32\"/>\n      <use x=\"264.550781\" xlink:href=\"#DejaVuSans-97\"/>\n      <use x=\"325.830078\" xlink:href=\"#DejaVuSans-99\"/>\n      <use x=\"380.810547\" xlink:href=\"#DejaVuSans-99\"/>\n     </g>\n    </g>\n    <g id=\"line2d_30\">\n     <path d=\"M 39.103125 132.319531 \nL 59.103125 132.319531 \n\" style=\"fill:none;stroke:#008000;stroke-dasharray:9.6,2.4,1.5,2.4;stroke-dashoffset:0;stroke-width:1.5;\"/>\n    </g>\n    <g id=\"line2d_31\"/>\n    <g id=\"text_15\">\n     <!-- test acc -->\n     <g transform=\"translate(67.103125 135.819531)scale(0.1 -0.1)\">\n      <use xlink:href=\"#DejaVuSans-116\"/>\n      <use x=\"39.208984\" xlink:href=\"#DejaVuSans-101\"/>\n      <use x=\"100.732422\" xlink:href=\"#DejaVuSans-115\"/>\n      <use x=\"152.832031\" xlink:href=\"#DejaVuSans-116\"/>\n      <use x=\"192.041016\" xlink:href=\"#DejaVuSans-32\"/>\n      <use x=\"223.828125\" xlink:href=\"#DejaVuSans-97\"/>\n      <use x=\"285.107422\" xlink:href=\"#DejaVuSans-99\"/>\n      <use x=\"340.087891\" xlink:href=\"#DejaVuSans-99\"/>\n     </g>\n    </g>\n   </g>\n  </g>\n </g>\n <defs>\n  <clipPath id=\"p81926b6827\">\n   <rect height=\"135.9\" width=\"195.3\" x=\"30.103125\" y=\"10.999219\"/>\n  </clipPath>\n </defs>\n</svg>\n"
          },
          "metadata": {
            "needs_background": "light"
          }
        }
      ],
      "source": [
        "def loss(inputs, targets):\n",
        "    return F.cross_entropy(inputs, targets, reduction='none').mean(1).mean(1)\n",
        "\n",
        "num_epochs, lr, wd, devices = 5, 0.001, 1e-3, d2l.try_all_gpus()\n",
        "trainer = torch.optim.SGD(net.parameters(), lr=lr, weight_decay=wd)\n",
        "d2l.train_ch13(net, train_iter, test_iter, loss, trainer, num_epochs, devices)"
      ]
    },
    {
      "cell_type": "markdown",
      "id": "e34a4354",
      "metadata": {
        "origin_pos": 35,
        "id": "e34a4354"
      },
      "source": [
        "## [**Prediction**]\n",
        "\n",
        "\n",
        "When predicting, we need to standardize the input image\n",
        "in each channel and transform the image into the four-dimensional input format required by the CNN.\n"
      ]
    },
    {
      "cell_type": "code",
      "execution_count": 14,
      "id": "25956f68",
      "metadata": {
        "execution": {
          "iopub.execute_input": "2022-09-07T22:17:09.616055Z",
          "iopub.status.busy": "2022-09-07T22:17:09.615451Z",
          "iopub.status.idle": "2022-09-07T22:17:09.620269Z",
          "shell.execute_reply": "2022-09-07T22:17:09.619513Z"
        },
        "origin_pos": 37,
        "tab": [
          "pytorch"
        ],
        "id": "25956f68"
      },
      "outputs": [],
      "source": [
        "def predict(img):\n",
        "    X = test_iter.dataset.normalize_image(img).unsqueeze(0)\n",
        "    pred = net(X.to(devices[0])).argmax(dim=1)\n",
        "    return pred.reshape(pred.shape[1], pred.shape[2])"
      ]
    },
    {
      "cell_type": "markdown",
      "id": "226c18ae",
      "metadata": {
        "origin_pos": 38,
        "id": "226c18ae"
      },
      "source": [
        "To [**visualize the predicted class**] of each pixel, we map the predicted class back to its label color in the dataset.\n"
      ]
    },
    {
      "cell_type": "code",
      "execution_count": 15,
      "id": "7345df64",
      "metadata": {
        "execution": {
          "iopub.execute_input": "2022-09-07T22:17:09.623706Z",
          "iopub.status.busy": "2022-09-07T22:17:09.623075Z",
          "iopub.status.idle": "2022-09-07T22:17:09.627244Z",
          "shell.execute_reply": "2022-09-07T22:17:09.626445Z"
        },
        "origin_pos": 40,
        "tab": [
          "pytorch"
        ],
        "id": "7345df64"
      },
      "outputs": [],
      "source": [
        "def label2image(pred):\n",
        "    colormap = torch.tensor(d2l.VOC_COLORMAP, device=devices[0])\n",
        "    X = pred.long()\n",
        "    return colormap[X, :]"
      ]
    },
    {
      "cell_type": "markdown",
      "id": "a970f838",
      "metadata": {
        "origin_pos": 41,
        "id": "a970f838"
      },
      "source": [
        "Images in the test dataset vary in size and shape.\n",
        "Since the model uses a transposed convolutional layer with stride of 32,\n",
        "when the height or width of an input image is indivisible by 32,\n",
        "the output height or width of the\n",
        "transposed convolutional layer will deviate from the shape of the input image.\n",
        "In order to address this issue,\n",
        "we can crop multiple rectangular areas with height and width that are integer multiples of 32 in the image,\n",
        "and perform forward propagation\n",
        "on the pixels in these areas separately.\n",
        "Note that\n",
        "the union of these rectangular areas needs to completely cover the input image.\n",
        "When a pixel is covered by multiple rectangular areas,\n",
        "the average of the transposed convolution outputs\n",
        "in separate areas for this same pixel\n",
        "can be input to\n",
        "the softmax operation\n",
        "to predict the class.\n",
        "\n",
        "\n",
        "For simplicity, we only read a few larger test images,\n",
        "and crop a $320\\times480$ area for prediction starting from the upper-left corner of an image.\n",
        "For these test images, we\n",
        "print their cropped areas,\n",
        "prediction results,\n",
        "and ground-truth row by row.\n"
      ]
    },
    {
      "cell_type": "code",
      "execution_count": 16,
      "id": "df48f426",
      "metadata": {
        "execution": {
          "iopub.execute_input": "2022-09-07T22:17:09.630689Z",
          "iopub.status.busy": "2022-09-07T22:17:09.630042Z",
          "iopub.status.idle": "2022-09-07T22:17:28.477951Z",
          "shell.execute_reply": "2022-09-07T22:17:28.477132Z"
        },
        "origin_pos": 43,
        "tab": [
          "pytorch"
        ],
        "id": "df48f426",
        "outputId": "615ad82c-936e-447d-d721-717ddf396135",
        "colab": {
          "base_uri": "https://localhost:8080/",
          "height": 438
        }
      },
      "outputs": [
        {
          "output_type": "display_data",
          "data": {
            "text/plain": [
              "<Figure size 576x432 with 12 Axes>"
            ],
            "image/svg+xml": "<?xml version=\"1.0\" encoding=\"utf-8\" standalone=\"no\"?>\n<!DOCTYPE svg PUBLIC \"-//W3C//DTD SVG 1.1//EN\"\n  \"http://www.w3.org/Graphics/SVG/1.1/DTD/svg11.dtd\">\n<!-- Created with matplotlib (https://matplotlib.org/) -->\n<svg height=\"312.82624pt\" version=\"1.1\" viewBox=\"0 0 464.3 312.82624\" width=\"464.3pt\" xmlns=\"http://www.w3.org/2000/svg\" xmlns:xlink=\"http://www.w3.org/1999/xlink\">\n <defs>\n  <style type=\"text/css\">\n*{stroke-linecap:butt;stroke-linejoin:round;}\n  </style>\n </defs>\n <g id=\"figure_1\">\n  <g id=\"patch_1\">\n   <path d=\"M 0 312.82624 \nL 464.3 312.82624 \nL 464.3 0 \nL 0 0 \nz\n\" style=\"fill:none;\"/>\n  </g>\n  <g id=\"axes_1\">\n   <g id=\"patch_2\">\n    <path d=\"M 10.7 71.895652 \nL 107.743478 71.895652 \nL 107.743478 7.2 \nL 10.7 7.2 \nz\n\" style=\"fill:#ffffff;\"/>\n   </g>\n   <g clip-path=\"url(#pef737432ea)\">\n    <image height=\"65\" id=\"image111f31ed75\" transform=\"scale(1 -1)translate(0 -65)\" width=\"98\" x=\"10.7\" xlink:href=\"data:image/png;base64,\niVBORw0KGgoAAAANSUhEUgAAAGIAAABBCAYAAAAqnXGWAAAABHNCSVQICAgIfAhkiAAAIABJREFUeJylm1eTZGl613+vOS5tmS7XVdVuusfvaNZIWi0SYrkAIdANERKKILiBEOaGL0HwOYggkITwCkxgZFYLktgZjdaMbTczbavLmzTHvYaLczI7Jyezuga9FRWZefKc1zzm/9gUm5fX/atxn82u4LNBhCoCLq13ufWtXyDD45wkbDSRVMN78AKkACEECIEUEu89QkqkkCAEAs9HH/6Yz+9/Ch4cAlHP4fCsXFrlb/7K3yKMYj69e5c/+P0/IEtLsrLAe4/3jtNeDyFktbYQ1Rr1a5bnrK6u8I/+8W8QhgFKBQg8Z2dn7O4fALC4uEgYhtU+oX4eDo8O6LS7BKEGL+v1PFma8p/+43/E25JOd4Eoiukf77O4vMwv/fKvIKUEDz96/wP+9e/8O1599SX+7q//HfCCTz/6gMAr0g/eZ7iyzHExYGVpkY4743I3IVpYAyk4cQmyu0pW5Egkwhd4JPqnNhN+unOGBZ7lgp5KaAULrA9KTFYQLXTI0pQiUBSBxgmJkxIhBV4IPIBzSCHAe4RwSCERQqBVgA4CnDEVQaVAiuq5KIxI05Sk1WL72nUCFZCJHCXAebBegAdGDK+Z4bwHAc5ZvAcpJEoqhABnLNaaimBUzz1/lkoQhECIkVhBtUj9KiAMNWVuMaYkimKElDjn8XiEFOAFN2/e5Or2NsN+j+zskOHBHo8+/DNam7fwiysknYSbUrKydZW42wUZUEhFWToCAa50JGGEB5wNKG2JLmSbD/OI2PX55teuYpev88P3fkRsSq5cuQzGEhclrdyiBkN8nmGcwUqBDQLKOMJFISYMcUGAkKqinxBEWnLr1it8/MnHuNLgqFRJ4pDSsdFokfb6WFsirEV7j9YC5wV56ZCV2o1JBaBqIjebLZQSWFNQ4JBKopUmjCKUknhPRTjGfAAJeDGhm+Bx+PpPCE8YhGAtzlqKogAhKMqSg/19oNJGKSWbCy1WBQzvf4ALInLteWV7nY0rt8DklKdPEYubGAvOGbAepSTWeZSWCKmr/QlJIhJ01FzkzDqEUkRhSBZ3sFlO1GkzUIKh1BBKRLUNfNkk8KDKAp3mBGcDguEBTWvQUiDCENuIoNlgWYYclpZrl7ew3pOWBYUxSGvQOqK1sU7XGZ589gCPJdQSgcB5hxKSEymhJtuIGbJmjBTgHAyGGa1WE4/HWkNelEipKoIJgZAjTZC11FdEz4sMT1BpDQJXQ5eU4JxD6wCpNaZwqJamu7iMcwbvLdIrvnVzm8Zyh+bV1zg9PuPg43soV2DNEEpfCYJ1eF8xQAmJF4KghlbrXa2tlebrRrvDyekxzktiKTnLC1pxSJwkNQH8WL0d4JSg9B4hA0QU4mlXBMKjnEMaS1SUBIOCrU6XK3lOaEusFJhggXBpmSzQ+DCkv/+MZwe7qKiB0gHCWhwe6SvhVVLiqSBvLNVCjF+llDQbDbQOK5l2voIqpWpokjU8jZ8GBHGUMBz26ff6GGvwziMAa4vKprQ8XiiUkhhrKNM+B3fe4513fsy94yErlxb5pZ/5OqeHByxcVygdYIF2ewGTDQmDBkZptA4w1gAe42wtytUeZC1k1MKiz04OEELigX5/n77tEEQKaXK8qDjqvMALjzHFBLT6eh6JlBW3SzxSC4oghk4TJTVKgLq8gi8NsigpS0tYGBaFxnx0F3V6RBZGSAxGeoQf615l/Kntgq+INTLWFaE9xho0AUoKhJKUJWhVMVBKWTOjhiQB3gu2tjZ55eXXEAisqyCof3bMw8dPePjZI7AOpTVCaaQEmZ/Rv/vnvHZlk/XlnL0nn8Ljd2n7gqffe0yYtFgNLfHiCtnhE9AxpZXIokRIsM6N92udw7lKW6XSSKmQWqFfFp9gvcZaTzFoo+WQTrOJK3NkoOpDS4T3KKHweJSoGOFweGdqZjnKoqzuFQKlNEKAUgohBKa0ICRSS5SWHEpDvNRCL3aIVIh6/32kNzV8CISsjOpz4OC5ZtRGWFqHPj4hzAoIFCIMCKxDa11LXeUcgKB2vZAC0nTAnTufEGiF1hprSh784e/ySd/T7ba4fm0bpOTzh0+QSmK8Qq1usf1Tf4k3Gh2O3/s9ZCNmsHeMkyDbmyRirzqbAExKkkSoMMD7au/GWoy12NKglQIlkVojhESHEfpGt4dHcmZjeqpDa/0q11ZXsc5R1l6ILc3YW7GmxDgHrnIxnbMYYyrgEgIlJM65Sjukqv8rYiilkVqBs3gCCmPZXN/AhgorbAWEtTGQtT2QQiI82Forav8GLwQOyZmrhCEoQRQWI0AlceVeSwHC11amdps8iKzEHO2SuhKhJTqMUYDMB6Akw7NjSu/Bg5IKHScsb97i9LjH6aDEt9fwCg6l4cqNKzy+fYe+gdIagrCBGxwi2gsI77G1IyCFQCiFpNJcAOkcXjiKzKGF9gjvaOscJUvCSysIGaCUR2qH8AHOOoQAY0rSFPI8w3qPsxZXltjSYJ3DOgPWjPFZKYnWGiE8QZggEJTO4p3FMSRJ2ggKzvZ7aBRGVJoHjkCCkgInBDhRXa9t1QjyhYao3UI1ErwAoTTKVfAmhJtwX58bfAE4rciaCdnQ40pLK5Y01rbRR59QeId3FdOl8MggIEpabN14A6k03nnc6ga2LLkUPuLzD/8MawsyqbFHPZwrsMfPUCqkyI9reHcY72tPSYFXKKUx3qFEZWO0kKC8r6TRpgTlIbnVOA/eVhLqHHgqjA2VQMcBhS3xVmIDSWg0eV6Q5SlFMcB5QahDpA7QUhAnbXJjcd6Spxknh8fIQNNKUpr9fU6bq6gwRGQZXnikoMJmOVKC2uV8bm+RSHCCwbCPVKCVRluLFQIdxpUxR034W88ZaL1HSEg6rWpmIZGdLiJuoGrjLuoYRSuNsYY7jz4nCBRaKgKtKsCMNb1nO2x+59t8+MFHDL0hH5QEPkZnjjw/QYSKQGjKNMMVJd5bkIKw2SRpdzHeo4IADWAA68F48EGXMIgAj3MWgQFf4GyOsxZjLAiLxJMaj7UKqTRBEhImHfJ4SFHklKWhMBbpco7SQwoXEkcRWsDK2mV8GHOp06Xstil7faT0KFXZJIGoI/kajmpDzchrqonlcBTpgBSDUkEV2AUBQdRAiAo6vXM8x6RqFmtK+mdnaBWgdIgOAuJsn6Sh6GXPNUcqhdIKKRStRhOlAqwtsdbhnKF3eIqUjo8+e8ogy/ngzic8/PQhb73yCio95v6Dh3SWF0gaMScnZzSTFmmeURrY2FhhAU9RGHr9U7QQlTuaWUdaGJplgUNirQMswlusExirqZDHUJgKprwtEALy3HDWO2Vv/wgvIvJSEEpYX+3gHIRBTLvZpdlsc/XqDdKi4PT0hGEx5INnQz5/eA9vK5/VO4HwlbdmrKEwY4Sv7IUEV8cIzjnSdIhwRW2LNEJrhmVl24wxeO/GsKRUlX7RQqIFWGfBOySWolBI3QF/irMW6+r1vMBLaDQTgiCuHBOqWOP4zodcWozRC4s8OjsmThpsbl9jYWOddrPD0AkODw8RJidQVQA3GKasra1R5jnWOYa9Pg6JltJjjMQKicPRSJqYIKn8X+8QrsY4Y7DaYlwAWYGUAd5FGFvineezxw/40x98gNYKay23bt2i0YxpJxFZWUJ/n2w4JNQxj3d3GJzt0+ks42RArzegMI6sLHHGVFLsIM9LClNphB/L6XOJDaOA4+MTTLOBkpUb3V5c4eaNl+l02iitKu/OuYq41lKaksHZCXtPH1JmQ3J3hg4CIlMi8h55URAlCZ1uh8UwZiGxlAbyLMUZhxDV6nm/h+8/ZXFjm739HYS37D17xrWrV2gkEc7kXF5fZrnTJMtzjPCkp2dsb6yyvr5G2h+w2F2g2WqRNBK0qP1b6T1aVrZA6gipQryz+JoRUjqcMdhC4oTA+Jy8NBSFw5SGw+PeOB0hlabZauFkhG4uIZ2lHPawTpB7z8rly1xaamFLw4On+2SlxQLNziLNZpNOu0Or0+XNPOfw2QFr21sYZ6rgqiwpipw0TSmKgtNBQW4rl1ZKyf7ZkE/ufYoQgjgOiSON95YiL3DW4Tw4Lwi0IokiwkAjpKQVeBY54cHxU0TjJltbWyAEnUsOd/yIXEu8tAhfxSW792+zcuNlQm9xD56hpeTNm7dQaNL94yo+sQYVaE7PTvFaI43BGoXJMmyZkZc5eT4kiQO0EKBqO+h8ST7sgQxwtVeEB+uqpB3eEWtF1GhQxiHGxAzTlOEwZWXlEnfufUa32+H4+Jhnz56ystiuNMkYgrgFQnB8ekoQBujhEcNsCCjSwuKkJDeG8qxPXlp6ec7w+ITjh4/IrcH4gmGWo7WmyDLKskAqTRzHnJzayjujij+cgyCM2NndZ2/nKbF2gEOFLb7+9a+zeGmVdrtNoDVaVQFVJCTiWYl7+BTjBUlnGSUFigWaxUNUIPCNJUBSDvr49Jilm79AufMpMrqPLC3XX3sdU8Lw9BCvQw4O99ECkrzkqNfn5tYWuyenWCmRUuOlIE5aRI0mGglBCFkqsM5DmYMrkUiq/JpHaQ3IKs/jKhUXTqOUQuuQRqPFz3YWCMKYp0926Ha6vPLyLTZXLxHECRZHI25iTYlQCq0Eg7N9FlohJ/0BH37wIVlpMdagpOJb3/oWb7/yCibNyG/cIFeiMuTOk2c5QaBw3uOdw9rK3dVKI2Vl7wbDIY24wecPH5EWJQdHfay13LjW5bVXXiaKY3QQopRCKVXnpCRmsER3sUMpIdIKHQQoBGrpZaLTu7Cwjhew9/E9br72Ks12h6y/zKWVVe492yOKEwJf4lpNTntDdvd2abVayEBx/eomg7Me3eUFuu0uHz14TLP0tJpNWq0OWgqBQmEJKL3EWYdWAdZYaqjGe4c1JdR5JyGq7GEQKkIhEVIyGPa4cfUqhwcHdFpttjY3uHH9GlGcIIXAWlt5ZsaglSC41CTUgtvP3uWkP6wjeIERjjTNuHH9ah1TwNHxCVopGklMmmVEQYhzDmstg+EQKSVaK056fT578JQwjFldu8TDJ08qg55ldDodllZWuf/wCcPhgEDC9etXWVvbqPx7JDJZIkqaEAQ0Gw08guz0hHsfP2PF3eHhvTPOMoUuT7j2N34FhEc3WiSdS6jdXYR39AcDdnYekw4yzo5PiaRGKY8qIpYXFllaXyMOYy7/tS0cIKVA6wC9717FS80giim9wgZNGnGzNpDU+Z2qRiCVRCFweM76PZ49e8aTx085PT0iDBOss5wcn1CUhr/63V+k2+kiZeVuDrMUUxi8tZTW013eRErBjZdOWF39CXlekKYpS0tLXN3eJgqiKkUmYGlpiZOTE5qtNkJpmkkyTnWE/T6B1njvOekPeenmNeIwpNVsEoUJnXaLO3fvc+XKFW7fvs2Pf/xj4jhm8/IGnz96xNs/9RZvv/UWQRAh1rdoPLlCMezXWVno9wccHWWclCCKh9z/9JTv/tJ3kXEHgUB1OzRXLsOndxAKOp0OUXgDYwwvv/EqYRiBhzAMCMKwrqmM4ppRJsGjt3/h74GQOB+QG0tpLQJbheBilIb2SCXqsMqzd7DLf/+fv8/HH91BSMlaHHHa66M6Lc56PVbaC3z+6ad0Oh1WLi0iEXQaTWg8j3CdAOE9b7/xBjdv3OA3f+ffEgQBv/6rf5soDAl0XdxBIGPJia/iDK0Ugdbj4C4MQ6y19Pp9mq0G7VaXLM8Iw4DXX73FpUvLZHnJ97//fYwxxHHMcDjkgw8/4ubNl7j/2QOWF5d55dZLqKhJ3F5CZilhFOCdY+vKFmvbl+kfHfHwvf/Blm9y9Y23K5vkBV5pGpc28E6idEBzIaFNp9Jw4evqX5WSEaIujI1TNWKMBPrP37+LUhqtNMgq0ymQWFclp6oqWF0j0Bq84I//75/yzjvvjYOvYqhpBQFFmlIUhtQ59k7O+IPvfY9Xb94gCDQIQRiFdNrtMT4f7h+ytrZKmqU8+PwzvvbmW5Rpii0L+t5jy6raJrUiL3MODg4YpkNMt4tSCucc/cGQvYMD0jxHK02W5QzTlF6ccHR4yINHj/nhD39EWZaIGiKllHjnePToEVevXKVw8PDJLv3eGXfv3aM3POLf/Id/w+WOYoWcs8yzayRP7j8l8Ib/+r/+G9e7ET4v0K0mP3p8hisdjx7t0Go0sc7hgWw4IEkSpJQoHVIUJcN0QBiGSCkx1hKFMdZZ9P/8w0d87Y1lrl9ZoTAlz3Z30UrjrOXKlW0ODg+w1uOM4aWXbrB7sMv7H3wIXhDogFYjrkqXUhFpTVmWZPmQx48fgjM8+vyzsfR6PEqqsZE01tVemUPrkLt37/Ev9naIorDKwShFHEc0mw2ipMGDB4/ZP9jn8sZlXr51kyAIODo6QgeKMKychizP2d7aRMmI3/qdf08YaM7Ozqr1vWdlZYVG0mBvb5fBcEgUxSwtLtE76/EnP3gXD2jdBhWw36viF6sUD/f2IY5pqABkRGNxjez4EY3lNQ4/uM9f/e4vsbK6htKaYT/lrNejtB47yMmLlK3tK4RJgyc7T7DWVcyRgrfeeoMoaqKvXlvmlVdeYnNzGWMMb735OlJIemendBeW8MIyTIc0owqX94/3WOh0uLa9RasZI4HBYMhgmGGtI44C4jhGCY+XlT2pM8F12lfhvaAc57EczjmiKAAPg7MBPQYY58bNAnhPs9lEK433cLC/z9nJMc1mkyhJsM4QaE0YxsSBYufR5xwe9eh0Fio3d5QKx2OMwTk3FoZr165x+fJl/GVYv7yB1gopPVqHHB0fsX3lCqEKufTuD7hz+2OaSYPLG8vcur7MS9fexpSWe48fsvf0EZ1Gm9ffeJPWSy26CwtY4/jJO39Osx3wjW//HN4L/tJ3vkOeZ+zuHnL3zl2E1DRaTfSlJbh3/xM+f6BoNRpsbqyyvLSE0hKlqpqq8B5rLDt7j9jdecLNa5dJ0xST5xjnKEqDVJIwrCBHSFWlFoSsahBSMUqTCyovi9obq9Ko9WdXlTvLoqzUu+4MqWxBQBzFCKVQUhIEGuM9vihRUmKdYJimZJlg7/CY5aUlOp02xjoWlxbZ3d0DYG9vjyN1hHWWN954g7ff/im01mxuXSaJY44OD4nCkFanSZaVNBsRUdTg9ddfA+85ODrmj/7oj9jvCbrZFdbXV/mn/+Q1dh59xOq1b2BNVZItsxRQbA8dyULE4eEBzkuyLEMIT5FZHt25x5XvfouFhUX0L/7iX2bQO2MwHNDpdOn1T3m884zBoId1HmNKcCX7e3ucHp+SZjmlsVVqXKkqOAtG2U7QWtUVvaqzQgmJm3B7QdRVtsp1c3UxXmtd1zXA1oX7oiiqbhCtCYJK0+IkJgiCOsKuKoZaa7yzDId9iqJksdtFa8UwHdLudHjzzTcx5occHR1X8zvLSy+9xD/8jd9ge3ub45NjtACFY2VpkWE6xBtLqBV7T3fJsoytq9vgBVl/wLMnfT748A43PnnM3/8Hv0bpG3QbGkwPpZax3iO9wDuHXmoTbl/GUdEjiRO896ytJ7z19tfY3z1hdfMG+uWXX0bXUgyeoizo93v89m//K06PT5DeMugNKG2JNSXOVRKswoAgiJBK1anrquihVEV40Cgl60SdHBeHql6oOrFdv6/aYSpDOmJEWZYMBgPSNCUIAqIoGmucUqoyuDVk9fsDjg4P0VoSKEWapvR7PfqDIU93nvLk8VN+7Vd/lWGWk2cZV69e5dvf/jYrKys8fvyY//xf/jMH+/tcvbLF1atXef2117iytUWgNc12i0trl5BC43EsLHb45V/+KxSHn7HVuEuZp0gdIbpvIoMYh0LVnhIS2m++jMUhqZKFVVWrguobr79KlmUoIdHr6+topbDOsLd3yMH+CVnaJw41O70zrLHYGuSljlF11U1IWVXcaqhAiOo7pWrJ92gdjHNAoyLN6N/VdVyt9bgPaWQvRqPdbrO3t0fSSOh2ugwHA4TW9Pt94jhmYWGBoijY3X1GmqbPM7RKsLN3gESQFznNZpOf/OQnLC0tcf36da5fu0JZ5rzzgz8lzTLu373H7rNdPvrwI8Iw4J//s39GoAMOj0744z/+Pn/jb/5ypcUoJJ7VlQX+2l//Dp/86Pc4Pj1l+dJq1YAgA4rhEIQjjBpV85oUyLraV9VD6ujMe8JAEwQt8AL97OlTut0WHoGSjo8++BF/8sf/m+HwDOElXlATPKxy/qqqLiklKUtDHCfoIKjcTCnqdLT8AgNmMWLUBDDZDCbrDOrovRfQbbcZnp5h05xQKC5fu0Kj2WR1ZQUhBHme842vv01ZlqTDIXkNaUVRkOc5ZVFQliXGWo5PTth/913efeddGq0mzWaDxcVFup0Wi90Wpa1yVu//5Ec8fvSA/iBlMDjj7u3bJHFCFMeEQYjSiubaDR7n6yzvH7FxebsK3BC88857vPLqNVZXW3hhGYVuzsPnn33KlavbVbq+bpAYNWFoXcOHF3B4sMOHH75HmvZRum5VFKoKwYOwetWaIAjrEqgYw8QkAWcxYPR+RHRR16MrH1sRBEEVfeqAIAyIwogoCmp/22GNpdPpkiQxeZ6zsrpCq9VkeXFprJXOO6ytUh+mLCnKKi1jjSXNUrIsY9Dv0zs7pdfr47yreqC++U0EYKwjz3PydMDxSWUPizznD7/3R+R5jjFm3FcF0B8MSLMhH77/44pJYcSdO3cpyh4LCzuEYUgUhYRhiPeK9/7sXZaWFwiCmCCokaV2VPRZf0i722Fvb4ff/K3fYn/viDBqVOU7NWKARmtNGEZorcc4PUn4EUNG32ut6ldduZZRRBBURjcMKoZaa1FSEicJQa1V3lURqazjjdu3b3N4cMjy8iW2t7YJ4wgdBpSlodtdJIoTwiBESFk3mVmyLCMvqkra/sE+zjnCMKKzUKVK9vd2KMuCsjBVEtPY2uuLSBotltY3aLfbtNotGo0GS0uX8AKssZRFSVEWZHlGlmfkWU6W5aRZSpoOSRpNTFmw+2yHNMsoigJjDGVZpXB+93d/tyrB6oAgqGgVBAHiz959xyvl+M3f/pf8+IcfEEUJSdIkbiTEUUIcxwRBSBjq2mBGxLXhDMKKsEGtKSPIGkmoqPtWvXOcnp5wenxSwYUpuXrtBguLC2N7ImqjXs0jkUJVnXtZgQ4DTk5OUFJRloZOt8PGxgbNZpNAa4y1DIdDTk9PGQwGOOeI45iNjQ3iuNqzqJnUOzslrNuEvHUYaylNXefIC/IiJ89y8qIkL6qG6Jdu3CQIg7pqW2V9Xd1ChK8qhh7/PHVRNztX91eui6/dcec8zluc9VhjKu21BvH+T/7cHx3v873v/R4Q0Gp1aLZaRGFEGIRjSZ1sjRk1FIs6oVfhcVG5l1H03A5MNIq9986fkqUZjWabZqvJxuY2S0uL1dyj/iVJBWFSoqQGHEVREmiNCoKx/RkVh7IsI8sypFS0Wi263W6VdIsinKuaoY0xHBwesre7x8rKEq0kZty2Uyc23bg07iui1gQdvR8RcETsSYJPv47eT16f93lyaO8VzkveeOObYw+mkuya8HWzl3e+MjKTjBCi7mtyNJsxxpQkjWZFzFFCS1SezDd/5udoNltIVTV0jexLURTkRUGeFTSbCZ1O+zkj6gY1KSRB3T09GAzo9/skScL6+gadTps4Tr7geXnvqwaBYZ/f/70/4dGTx7TbCd/81lskG5fBV7mzEeGsn2DMJCOYTfCRozHuNB+Z5ImE3jwGTM/1nBE4FhaWWLm0jtZ6nOe31o7dSV8bQSn1mAGjTorBoA/A06c7NBoNNjc36047an95lPP1depDUqqq2awocnZ2ntJoNImjBkkSU5Zlla/KcpaWlonjBO8gimKUVnS73QoKAz22T/XJKjUvKvw2psQ5x9raGvfuPyBOSrI0r1MnjGvZ1Q4nsqSj1iI/+ma2NI/XPYfAk7/nOI8pAFpKhUTT7S7QbDYxpup+sNaO3xtTVh6DfG6gRxIwahZYW1vHe1d1Zo8kyk1IjfCEQYD3nlBFdSRdsrG+TlmW5NmQ/f0BUgmiKKbVbhMnMYP+kGfP9snznJ/99k/TaCTjitooCKyezynzvBIeP+rZdWxuraFkgHO+aoyzlWBNE33kSo7f12PS05vUiOkxed80oedpyuR1PXKfhsMhSZKQJEmNiW6sFXmeUxQ5o8h48j9JEuK4URE4DIGqybYsS6QUY+9KiKoTIssy2p0uYRjy4MEB4Gk12ywsLNBotkjTnH5/wJ3bn3F2NsA5SxyHfP0bb9Nut6silXVkaUaWpZRFOYajMZ6PGeEJQkW706IoewiTUVozUZD54qh72Z7D6hTRZjFg1piGrun300yqGVE3aznD8fExnU6HMKyarpSSmNIg4pgg0JSlxTmDtYbBsKDf63F6esLu7i5CCr75jW/SbrdxzrG3t08YBqyurmGNQSUJcRSxtKzwrlLtK9vXyPOCnZ1djo8HCLHPwwePq/qxsWit2Nra4NbLL7Gxsc5w0CdNU8rC1L8YGmle/WOTkVdDFcmOIGdjY5VP7x+jbFpZZjH5i4svEvBF71/EgGlmTF+fZ+j1CPOrA1lOTk54+PABR8fHRGHIzs4OSgdEYUAYxiwsLHNwcEi/n6OU49P7n2Bsycuvvkqj0ajKosMhUOG6lNVPvaIgqCpWDoRU/OiHH/DJx/cpy4KkEbO4sIDSsLi8QKfdZnFxgbX1FcIwJM9znu08G/9caxLDnx+wvj6DOJc3V7h75xN8PgRcXaO+GHEnCXme13MeXJ0HSxMaIb/wEMDm1iaDYY+93Wc8fbpLf5CiNQRBSKe1zMJiF2sdRZGR5zk3rt/g57/z81XyUIgqbdDtVlnR+pcxYVS1cRpj6PUGHB2d8u2fe5v79x9QliVBpLh18zpr62sYU5JlGWmaMhgMvnSY8wjyZcJ4Fpc6REFAIgskFiWCWism+mkvMPc8/L+pSEsHAAAFw0lEQVTIXqbv/xL03b59289yxaw1dfYzoz8YopQgDEPCICZJQo6PT0mSmCiKWVm5RBCFKAQ6CL6Ap3meEgTReHFrLe/84Ie8/sarpGmfNM2r4DCof0dRt0nOpMfzZr8LD1F3Hn//D/4PW80+m1/7eZJmF0RVCxHPb3q+zDlMn6bTRYTiPJd2DE3zbq6CpDZLS8tju/HFhF1llEfPVr8VUxP3VK5tv99H6wytQ6Io4uGDx3ztrddpNhOUquKEkXf2fC/1oSd+0/AFeokvI/wk6n/Zv5dc3tziweefsGIsDQn1L1fO9XYmzzYvdvjiOrPnOG+M5tWT3sbkBM8luirax3FMo9EgjuM6DRF8YcJZqtpqdWg22+O4JM9zli8tkmVD+v2zmb73F7yTkQaMEGTSGE4faJTNZDZcrG6s8PGd22SF/VIMMI+4FwnQ5j0/7THNii8m79XW2rmLTUrBcDiscv51RDxKBI6i8cmFJ13fsizHdeLR9/OM10xCjKp7dTvlvH0KX7WsTM81WqvbbRFHEUWe1aXb+emHyefnBW5f2OMMws6KwudpifcePYKEeSo6/Xn0Pwkl88Zo8ecb+HJwNGuzY6ZOEkt82ZcfM2G096m1J4eUkitXN2m3W2PtmrWHi8QP0wb3PI2YNSbPPzqDnr4wb7HJ8SKsnH+wL0vd9GHO89+n752W1unnpp9/6603J2zcl89w3lnPsyXnSfqsfcwaenKx6UlnRYYXXWSW53ERX3seEScdBeALcDhrzPpu5EzM2+OoDj4NK9PMmFxjHuzMouks+BrHEbMe/qoHfNE4bwPz5p2lGZPMmCelF9nrNIGmiTlLiF5Em/NswOSYZ4v05IWLHGiSiLPun7fQJAPmGuYXMGgWIy4iNBc91/T+53mS5xnm0f0XZczo/rFGzCL2LAM673We+o1e5xF6csxj0DyNmP7+vDnPu2cES5PnmPxu1vVZa1yE8NMMGhtr59xMIp0nnRcxrLMINY95k+M8jZr8n0zFTx9wWjLPY9a0kF0kCj5vvxdxVWftZRzQzSPkvMNcBEIuct/0QWfdP83Uye6QyXku8uyLgrHz4HaeAzKLGbO+m2fAvffP3dfzNjaPAfM040VM+ypj1lzn2YgX2YOvspdZ8DyPyDDfO5zHkMn79TwIOe9/1sGmYeOiuDkPiiavvWhfs/YzeeB5Yx6cTd8zee95sDONIudp+rR26Fl5l/Mkbt69o8+TDWajRb4qXr7ou4sy4yJB27wzfpVg7EX7P48pY2N9EQg5jyEXYdh5UnaR8VWYMmudF42/yH0XcXLmPfOFgG4UTU4vdpHNzZPKyc+Tyb4X4ffovun308+NPL2vor2Ta83S0Hn2YB5cvshWzLMr0/eM3uvpG+Zh/7xrk5+nCTLvQBeRmll7GT07OSbd7+l7p+e5yHoXZcL0Oed5ny9aazT09IPzNGLepi4imecRZ5YGzNvPLIZ477+gIS+K/Kevz4LNWYJz3t6nbcE8mzDLfR0994Vc0zyjd570z7s2a6MvGrMk+7y9TK49YsisjOysw09/N7nnaULOu/e8eabnnHe+0fdfSnH8/zBh3mGnpeuiruwsqJy3l4vMMf38i9zQ6b2fF1nPWvu8ded9P1Mjpj/Pk/x5UDTvIOep+0XdyllQdR50zIKaaSiZNeZFy/PGedp2HvyNvtMXSStMXnsRI6bfn+fLz9v8PCZc5PCT16cZf57AXPT6RdaehMvJ+c57dnaJa8amLqoJFx0vgoWL7uurzD2PMBcx6i+a+7xnzqPd6FWOJn+R+zWL8Odpw6xNjwzqX5QJ0yr/VYTivLTDrLlmIcOLmDFrry9a50txxDyomp5gFlbP2uzk63S64yL240VOxEUke/pcs4z1LAJ/FYJ/VeZMn/tLSb95nsks1Zr1Y8VpzRLi+U95Jxee9XkWts7a24uE4DwXdtYepq9/lcDsvAj7IvOP3v8/EQERWxQGVwsAAAAASUVORK5CYII=\" y=\"-6.895652\"/>\n   </g>\n   <g id=\"patch_3\">\n    <path d=\"M 10.7 71.895652 \nL 10.7 7.2 \n\" style=\"fill:none;stroke:#000000;stroke-linecap:square;stroke-linejoin:miter;stroke-width:0.8;\"/>\n   </g>\n   <g id=\"patch_4\">\n    <path d=\"M 107.743478 71.895652 \nL 107.743478 7.2 \n\" style=\"fill:none;stroke:#000000;stroke-linecap:square;stroke-linejoin:miter;stroke-width:0.8;\"/>\n   </g>\n   <g id=\"patch_5\">\n    <path d=\"M 10.7 71.895652 \nL 107.743478 71.895652 \n\" style=\"fill:none;stroke:#000000;stroke-linecap:square;stroke-linejoin:miter;stroke-width:0.8;\"/>\n   </g>\n   <g id=\"patch_6\">\n    <path d=\"M 10.7 7.2 \nL 107.743478 7.2 \n\" style=\"fill:none;stroke:#000000;stroke-linecap:square;stroke-linejoin:miter;stroke-width:0.8;\"/>\n   </g>\n  </g>\n  <g id=\"axes_2\">\n   <g id=\"patch_7\">\n    <path d=\"M 127.152174 71.895652 \nL 224.195652 71.895652 \nL 224.195652 7.2 \nL 127.152174 7.2 \nz\n\" style=\"fill:#ffffff;\"/>\n   </g>\n   <g clip-path=\"url(#pe7989a8d99)\">\n    <image height=\"65\" id=\"image26c9990c3f\" transform=\"scale(1 -1)translate(0 -65)\" width=\"98\" x=\"127.152174\" xlink:href=\"data:image/png;base64,\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\" y=\"-6.895652\"/>\n   </g>\n   <g id=\"patch_8\">\n    <path d=\"M 127.152174 71.895652 \nL 127.152174 7.2 \n\" style=\"fill:none;stroke:#000000;stroke-linecap:square;stroke-linejoin:miter;stroke-width:0.8;\"/>\n   </g>\n   <g id=\"patch_9\">\n    <path d=\"M 224.195652 71.895652 \nL 224.195652 7.2 \n\" style=\"fill:none;stroke:#000000;stroke-linecap:square;stroke-linejoin:miter;stroke-width:0.8;\"/>\n   </g>\n   <g id=\"patch_10\">\n    <path d=\"M 127.152174 71.895652 \nL 224.195652 71.895652 \n\" style=\"fill:none;stroke:#000000;stroke-linecap:square;stroke-linejoin:miter;stroke-width:0.8;\"/>\n   </g>\n   <g id=\"patch_11\">\n    <path d=\"M 127.152174 7.2 \nL 224.195652 7.2 \n\" style=\"fill:none;stroke:#000000;stroke-linecap:square;stroke-linejoin:miter;stroke-width:0.8;\"/>\n   </g>\n  </g>\n  <g id=\"axes_3\">\n   <g id=\"patch_12\">\n    <path d=\"M 243.604348 71.895652 \nL 340.647826 71.895652 \nL 340.647826 7.2 \nL 243.604348 7.2 \nz\n\" style=\"fill:#ffffff;\"/>\n   </g>\n   <g clip-path=\"url(#p730b801d86)\">\n    <image height=\"65\" id=\"image7d0ffd56d9\" transform=\"scale(1 -1)translate(0 -65)\" width=\"98\" x=\"243.604348\" xlink:href=\"data:image/png;base64,\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\" y=\"-6.895652\"/>\n   </g>\n   <g id=\"patch_13\">\n    <path d=\"M 243.604348 71.895652 \nL 243.604348 7.2 \n\" style=\"fill:none;stroke:#000000;stroke-linecap:square;stroke-linejoin:miter;stroke-width:0.8;\"/>\n   </g>\n   <g id=\"patch_14\">\n    <path d=\"M 340.647826 71.895652 \nL 340.647826 7.2 \n\" style=\"fill:none;stroke:#000000;stroke-linecap:square;stroke-linejoin:miter;stroke-width:0.8;\"/>\n   </g>\n   <g id=\"patch_15\">\n    <path d=\"M 243.604348 71.895652 \nL 340.647826 71.895652 \n\" style=\"fill:none;stroke:#000000;stroke-linecap:square;stroke-linejoin:miter;stroke-width:0.8;\"/>\n   </g>\n   <g id=\"patch_16\">\n    <path d=\"M 243.604348 7.2 \nL 340.647826 7.2 \n\" style=\"fill:none;stroke:#000000;stroke-linecap:square;stroke-linejoin:miter;stroke-width:0.8;\"/>\n   </g>\n  </g>\n  <g id=\"axes_4\">\n   <g id=\"patch_17\">\n    <path d=\"M 360.056522 71.895652 \nL 457.1 71.895652 \nL 457.1 7.2 \nL 360.056522 7.2 \nz\n\" style=\"fill:#ffffff;\"/>\n   </g>\n   <g clip-path=\"url(#pfaec3f8ccd)\">\n    <image height=\"65\" id=\"image0d5e795346\" transform=\"scale(1 -1)translate(0 -65)\" width=\"98\" x=\"360.056522\" xlink:href=\"data:image/png;base64,\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\" y=\"-6.895652\"/>\n   </g>\n   <g id=\"patch_18\">\n    <path d=\"M 360.056522 71.895652 \nL 360.056522 7.2 \n\" style=\"fill:none;stroke:#000000;stroke-linecap:square;stroke-linejoin:miter;stroke-width:0.8;\"/>\n   </g>\n   <g id=\"patch_19\">\n    <path d=\"M 457.1 71.895652 \nL 457.1 7.2 \n\" style=\"fill:none;stroke:#000000;stroke-linecap:square;stroke-linejoin:miter;stroke-width:0.8;\"/>\n   </g>\n   <g id=\"patch_20\">\n    <path d=\"M 360.056522 71.895652 \nL 457.1 71.895652 \n\" style=\"fill:none;stroke:#000000;stroke-linecap:square;stroke-linejoin:miter;stroke-width:0.8;\"/>\n   </g>\n   <g id=\"patch_21\">\n    <path d=\"M 360.056522 7.2 \nL 457.1 7.2 \n\" style=\"fill:none;stroke:#000000;stroke-linecap:square;stroke-linejoin:miter;stroke-width:0.8;\"/>\n   </g>\n  </g>\n  <g id=\"axes_5\">\n   <g id=\"patch_22\">\n    <path d=\"M 10.7 187.010946 \nL 107.743478 187.010946 \nL 107.743478 122.315294 \nL 10.7 122.315294 \nz\n\" style=\"fill:#ffffff;\"/>\n   </g>\n   <g clip-path=\"url(#p0cfa180134)\">\n    <image height=\"65\" id=\"image1b8cd8afbe\" transform=\"scale(1 -1)translate(0 -65)\" width=\"98\" x=\"10.7\" xlink:href=\"data:image/png;base64,\niVBORw0KGgoAAAANSUhEUgAAAGIAAABBCAYAAAAqnXGWAAAABHNCSVQICAgIfAhkiAAAAzpJREFUeJzt201vG1UUgOHHrktDaNqAKgQqUIEEbPgQQoId4g+wYsGPZcWCHRsEKuJThFS0tCRtSpQ0kMYszgy2WjdpiJs5ts8rjWYm9niu73vnfpzj9DBUdE6/6wIUQYlIQolIQolIQolIQolIQolIQolIQolIQolIQolIQolIQolIQolIQolIwmDaH3gWK7jUHMPf2BKJjyF2sdy8dr45Xmm2PdzCBu421x5Mu5AJOZGIAS6ISn+h2T+PVTyFXvO+Ie6PHe9hqTnvGz2WPaMs1T/YEQI3cB3bzflOsx1g/yRfIBHj3/2xL7iI1/GWEHC2+XvvkOtOSlvI+0LSLu6Jp2YNP+G22RXz2CLO4QrebfbPeLIVfxyGogvbwC/4DTeErJZlo6dvVUjbPN1iHsqRIpbxDt4TXU9fHgGTGB+HHhRxRpR90Lz2Db7Cn6dcxkk8UkQfb+Ij0f1krvz/y1CMNd/iS9HNdcVEERfwMd42mvnMM0Pcwee42lEZHlpHPIfPRFe0CBKI1riKlzssw3/T156Q8CleNJ9d0VFc6/Deg0+agxWxBrhoMSXsibVKVwze7/DmmdjU7WBdsSYxWF/T7WKwRAgRax2XYepBv1mijYFdxc8dl2VhRRzgD3yBH42Ckl0xtyKGY/t9UdE7IlC4hR/wnZgtZWDmRbQVvi8qeVsE9G6KvMaeUVS2DZ133fonMZMi2lZ+S3Qrv4vpZxsan8VQ+MyIaKOqm/heDLA3RW5iHhhsjZ2ca7YsK+u229kROYav8ato9fNGb2ks+noeH4jkz3iq8zRpp5R/GWXe1sWqd57/2e+hMHgPl/Eh3vDkhbQ33xV9/rqo/Bvms+U/ikMTQ5dFXuKK6Q4mQ9G33xatfk2EGLblnNGcBkemSgd4Ba+JeP0lPO14sZGhmDbeFRHONq98R+Sai2P+iqMvxpGXhJhXRTbvzIT3DkXXcl20+HWxkr13nBsuEMf+Oc04S3hWzLQe5EC0+G2L8QOxk3IiEcX0qDB4EkpEEkpEEkpEEkpEEkpEEkpEEkpEEkpEEkpEEkpEEkpEEkpEEkpEEkpEEkpEEkpEEkpEEkpEEkpEEkpEEkpEEv4FsrS2k1fai3kAAAAASUVORK5CYII=\" y=\"-122.010946\"/>\n   </g>\n   <g id=\"patch_23\">\n    <path d=\"M 10.7 187.010946 \nL 10.7 122.315294 \n\" style=\"fill:none;stroke:#000000;stroke-linecap:square;stroke-linejoin:miter;stroke-width:0.8;\"/>\n   </g>\n   <g id=\"patch_24\">\n    <path d=\"M 107.743478 187.010946 \nL 107.743478 122.315294 \n\" style=\"fill:none;stroke:#000000;stroke-linecap:square;stroke-linejoin:miter;stroke-width:0.8;\"/>\n   </g>\n   <g id=\"patch_25\">\n    <path d=\"M 10.7 187.010946 \nL 107.743478 187.010946 \n\" style=\"fill:none;stroke:#000000;stroke-linecap:square;stroke-linejoin:miter;stroke-width:0.8;\"/>\n   </g>\n   <g id=\"patch_26\">\n    <path d=\"M 10.7 122.315294 \nL 107.743478 122.315294 \n\" style=\"fill:none;stroke:#000000;stroke-linecap:square;stroke-linejoin:miter;stroke-width:0.8;\"/>\n   </g>\n  </g>\n  <g id=\"axes_6\">\n   <g id=\"patch_27\">\n    <path d=\"M 127.152174 187.010946 \nL 224.195652 187.010946 \nL 224.195652 122.315294 \nL 127.152174 122.315294 \nz\n\" style=\"fill:#ffffff;\"/>\n   </g>\n   <g clip-path=\"url(#peda86392c9)\">\n    <image height=\"65\" id=\"image2d44055b1b\" transform=\"scale(1 -1)translate(0 -65)\" width=\"98\" x=\"127.152174\" xlink:href=\"data:image/png;base64,\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\" y=\"-122.010946\"/>\n   </g>\n   <g id=\"patch_28\">\n    <path d=\"M 127.152174 187.010946 \nL 127.152174 122.315294 \n\" style=\"fill:none;stroke:#000000;stroke-linecap:square;stroke-linejoin:miter;stroke-width:0.8;\"/>\n   </g>\n   <g id=\"patch_29\">\n    <path d=\"M 224.195652 187.010946 \nL 224.195652 122.315294 \n\" style=\"fill:none;stroke:#000000;stroke-linecap:square;stroke-linejoin:miter;stroke-width:0.8;\"/>\n   </g>\n   <g id=\"patch_30\">\n    <path d=\"M 127.152174 187.010946 \nL 224.195652 187.010946 \n\" style=\"fill:none;stroke:#000000;stroke-linecap:square;stroke-linejoin:miter;stroke-width:0.8;\"/>\n   </g>\n   <g id=\"patch_31\">\n    <path d=\"M 127.152174 122.315294 \nL 224.195652 122.315294 \n\" style=\"fill:none;stroke:#000000;stroke-linecap:square;stroke-linejoin:miter;stroke-width:0.8;\"/>\n   </g>\n  </g>\n  <g id=\"axes_7\">\n   <g id=\"patch_32\">\n    <path d=\"M 243.604348 187.010946 \nL 340.647826 187.010946 \nL 340.647826 122.315294 \nL 243.604348 122.315294 \nz\n\" style=\"fill:#ffffff;\"/>\n   </g>\n   <g clip-path=\"url(#p5bbc595644)\">\n    <image height=\"65\" id=\"image6c819bf7af\" transform=\"scale(1 -1)translate(0 -65)\" width=\"98\" x=\"243.604348\" xlink:href=\"data:image/png;base64,\niVBORw0KGgoAAAANSUhEUgAAAGIAAABBCAYAAAAqnXGWAAAABHNCSVQICAgIfAhkiAAAAlpJREFUeJzt2btrFFEUgPHfbhKMGqP4xAdooYIiWFhqKjv/VUuxshPs1U5RhKCFSERB1MTHWJxZXGU1uFmyZ8bzwbAzw9zZO/e7z3MHaBRzZzjvDBRBiUhCiUhCiUjC4rwzMD+G4vP3t8cKjmJp7JlPeNeeN3jbXn+ZeW56LmIRe3FAFPQRLONYe/8g9rXPLbRpBmPpf59QbgkRz9vjJTZnktPBhH/rMEOs4jTO46QQsGxyQU9Lg++ihTzBI7zZ0Rt7IGKIw7jYHsdFbWc2hb4dDT7inhAyXXF2XMQprOGcqPW7UfB/YhN38Xiq1B0eI67glqj98xQwYg8u+49EDHENN0Ur6AcdE7EguqI1PwffftChBV1/JdAZEUN9lkBnRFzCdX2VQGdEnJV/OGuwMXXqjoi4j1fyLnkaEe54MPUbOiLiA27jIb7KJaTBe9wRK+zp6NjKeogLuCHiSfOsR40IAj4VLfa/jDWNVrFXcUYM4ru1um7wDetCwLoIAO6MjooYsSgirCdwaOz+KOxN7C+sik8dhUMGfp2BbSdxVERbeCa6yBeim5wNHRfxNwZjv0uiG1tprxdFxHYg9iaWxF7F+KbQaCNoC5/b8w28NosWMCm3PRXxr0xqFbtXNCUiCR2ZvvafEpGEEpGEEpGEEpGEEpGEEpGEEpGEEpGEEpGEEpGEEpGEEpGEEpGEEpGEEpGEEpGEEpGEEpGEEpGEEpGEEpGEEpGEEpGEEpGEEpGEEpGEEpGEEpGEEpGEEpGEEpGEEpGEEpGEEpGEEpGEEpGEEpGEEpGEEpGEH+KyUsJW9P/5AAAAAElFTkSuQmCC\" y=\"-122.010946\"/>\n   </g>\n   <g id=\"patch_33\">\n    <path d=\"M 243.604348 187.010946 \nL 243.604348 122.315294 \n\" style=\"fill:none;stroke:#000000;stroke-linecap:square;stroke-linejoin:miter;stroke-width:0.8;\"/>\n   </g>\n   <g id=\"patch_34\">\n    <path d=\"M 340.647826 187.010946 \nL 340.647826 122.315294 \n\" style=\"fill:none;stroke:#000000;stroke-linecap:square;stroke-linejoin:miter;stroke-width:0.8;\"/>\n   </g>\n   <g id=\"patch_35\">\n    <path d=\"M 243.604348 187.010946 \nL 340.647826 187.010946 \n\" style=\"fill:none;stroke:#000000;stroke-linecap:square;stroke-linejoin:miter;stroke-width:0.8;\"/>\n   </g>\n   <g id=\"patch_36\">\n    <path d=\"M 243.604348 122.315294 \nL 340.647826 122.315294 \n\" style=\"fill:none;stroke:#000000;stroke-linecap:square;stroke-linejoin:miter;stroke-width:0.8;\"/>\n   </g>\n  </g>\n  <g id=\"axes_8\">\n   <g id=\"patch_37\">\n    <path d=\"M 360.056522 187.010946 \nL 457.1 187.010946 \nL 457.1 122.315294 \nL 360.056522 122.315294 \nz\n\" style=\"fill:#ffffff;\"/>\n   </g>\n   <g clip-path=\"url(#p5434a547be)\">\n    <image height=\"65\" id=\"image2da4a1ecec\" transform=\"scale(1 -1)translate(0 -65)\" width=\"98\" x=\"360.056522\" xlink:href=\"data:image/png;base64,\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\" y=\"-122.010946\"/>\n   </g>\n   <g id=\"patch_38\">\n    <path d=\"M 360.056522 187.010946 \nL 360.056522 122.315294 \n\" style=\"fill:none;stroke:#000000;stroke-linecap:square;stroke-linejoin:miter;stroke-width:0.8;\"/>\n   </g>\n   <g id=\"patch_39\">\n    <path d=\"M 457.1 187.010946 \nL 457.1 122.315294 \n\" style=\"fill:none;stroke:#000000;stroke-linecap:square;stroke-linejoin:miter;stroke-width:0.8;\"/>\n   </g>\n   <g id=\"patch_40\">\n    <path d=\"M 360.056522 187.010946 \nL 457.1 187.010946 \n\" style=\"fill:none;stroke:#000000;stroke-linecap:square;stroke-linejoin:miter;stroke-width:0.8;\"/>\n   </g>\n   <g id=\"patch_41\">\n    <path d=\"M 360.056522 122.315294 \nL 457.1 122.315294 \n\" style=\"fill:none;stroke:#000000;stroke-linecap:square;stroke-linejoin:miter;stroke-width:0.8;\"/>\n   </g>\n  </g>\n  <g id=\"axes_9\">\n   <g id=\"patch_42\">\n    <path d=\"M 10.7 302.12624 \nL 107.743478 302.12624 \nL 107.743478 237.430588 \nL 10.7 237.430588 \nz\n\" style=\"fill:#ffffff;\"/>\n   </g>\n   <g clip-path=\"url(#pd5eb1145ae)\">\n    <image height=\"65\" id=\"imageed82b125d1\" transform=\"scale(1 -1)translate(0 -65)\" width=\"98\" x=\"10.7\" xlink:href=\"data:image/png;base64,\niVBORw0KGgoAAAANSUhEUgAAAGIAAABBCAYAAAAqnXGWAAAABHNCSVQICAgIfAhkiAAADLdJREFUeJztm3l0VFWexz9vqSVVlZBU1oKkIoRdFlnCIIsgoKdHWeYoPUjPqA0OHlrsYbOltekW5xgVWwS7x6XtI0j3iDMNzaan8TAQEBIjMUCAGJbEEMieVCprVaXWN39UiEGSyFJ2nkx9zskf9d679/7u+9777u/+fjcCoBCm1xF724AwQcJCqISwECohLIRKCAuhEsJCqISwECohLIRKCAuhEuRQVWQ0GjAaIzp+u90emppaQlX9bU9IhLBaLWxa/ywmZxuBQAAB8ESZWP3rjVy4UBqKJm57QiJEevoojBfL+eKFN1ECwdDVHQ9O54XnlvKz5S/R3NwaimZua0KyRjQ1tSBFGlECARS/H8Xvp+zA51gi9JhMhh7LSpJETEwUMTFRaDQykhS6ZUsURaKjo4iOjkSWJURRCFndoSYkMyI39zTeJx8hIiEWZ1UdAKIs0ez20NDQ3G05QRD42dKFzJ0yDiUQoMHjxRcI8OWpc2z5YOctzSRJknhi8Xzmz7wbRVGod7podrnZn5nDJ58cwuPx3nTd3wchEaKlxcG+rDxmLJxD/hubkQ0RDFv0MHa3B5/P3205k8nAg1PHk78iA09LK1qTEdmgZ+7yxym99x/Ys+fgTds0Z/a9LBh7J18+/SJ+tweNMQJTioVli+bz8NyZ5J74iqzs4xQVXVLFp/OmhBBFEbO5D2ZzHzQamdTUfpjN0QgtDgBiRw7Gd/cYfrFsHV5v9yNPFEXw+vC2OPA5XPgcLgDsXxWh0WhuxrQOrKl9qTr4OW22BgC8LQ6c1TbqT5+nz6BUJqWPYu6/LcAdF8NfPz3Cli1/JRAI3FKbt8JNCbFw4WwWP3Q/gao6Al4fnhobnhobpYePAdBaXk2qJAVfdA84nW00CwL9582keMenKH4/GpOR2LEjqNm292ZM6yA7+wRznl8KokjxX/7Wcd3v9mAvKMJeUISwdRfG5EQee20Np06dJS+v4JbavBUEbjBDN3ToAN7OWEX+M+tpLi0H5drigigybPF87GOG8frGD/D7r/482e1N7TNFYNq0dH6zYhGf/WQlfaeOx/rThzl66hyvrP8DTmfbzXdMEJg9+15W/9MsPluyFqWH0Z48YyKmRfN54aW38Xg8PdbrcLiora3/zvZjYqKIjo76zudaW53U1dlvTAitVsOG364hJus4xdv39fisqNEw6uePEtE/+arrkl6HJ0KPz+cLPieKRPp8HH36RdJ/9RTCqCFculyFLxCgxtaAvaGp2zbq6xupancOvs2gQaksuH8KJW99SHlmTo+2CpLI6OWPY+if0vPLEAQkSzx/2nOA3bsP4PV6MZmMGAx6mppaaWwMOiZWq4XXMlYT2+og0MMaiSDgS4hl2bPrEebOnalkZx/Hbm/sanBfxYwZE1n74wfIXpmBv83d88OdGrvqpygi6bTBuXiFgILP1Yak12FIiEWQJURZItLaF0GSuq5WFIgaYEXSa7u873d7uLj7AK3l1ddnZxe2dkVkioWRyx9HO3oofkEgMtKIwRBBZWUN69b9Dputkd+/9gsadu7n/LaPUfw9rzvDn5iPNGsyQklJplJRUcP+/Vns2XOAc+dKunTt9HodS5cuZFKLg8L3t19/534gCJKE4u9h9HZC1Gq444HpjFm1CFOKBUEQUBSFujo7H364l4fvm8zlrbtwVNVeUzbg9eGoqMFla8Df5iYi3kz8mOEIpaWHFQBFUXC52sjNPc2OHZ+SlXWcxsZmZFli6tR0lix6iMRWFwVvbqXhfElo34IKiBs1FLlTrAygzd6Ip+lq19bndOFpd3dNVgsjlixAF9MHAEmrwZ2SxK9f/E+m3ZOO1MVsToiLISUpHm1hESfWv8fgBQ8S/5M53whxVWM+P2VlVWRm5tA3KZ6hxgjO/+G/qc07Q8DrC1nn1YKokZn+zotYJo5B0muprrGRmfkFaal9GTE0jaLiS7S2OhEFgWSDnmMrMnDV2dHHxTB9y6uU1NoxGPSYY6P581/28f7mHd26wkL75+zNDc8h7/sMr9PF5QmjuxYCQAkEsBcWc/qtD6k4fAyf6+Y9mB8CGpMBU3IS0YPuoP/C2fx8/XvcN2syP74nnewLF3lu7Ub8fj/Llv0r90dHkvfS24gaDVM2v8ITazdSV2cnLi6Gfv0SkWWJI0e+JBDoftFNS7Oy6ZXV9GnzsDu/EGnatAnrqqvruPKn1cpoRZFzW3fx+fMbqD9znoDv9psF3ybg8dJma6CxqJTkaROIGpjKrCnjOLHmt9w5dyZH8wpQFIXS0gpmPDIbbWMzjUUXSRw9lItuDwUFRQwalMr6VYuZMW4EZ8trKO/kKKSkWPjRj6ZiszXicDhpaGjifw8d4+iZ8xw8mIMgy5ICQdf0kUdm89icGZS8s42yzByUnlyv2xVBwHr/FBInjMJeWMylv33G+LVPIfVLxO8PIOo0GBPi0LnayP/dVmJHDMY/eSyFZ79m7F3Dsf3xf4gfM5wTWg07d+7H7/ej02lZs3IRUZerqIiLZsXqV2ltDUYhFIWO1IEC8Oij81g8ZTwnMt6h5XJlb74K1SGIIkJ7VFiQJbQmY/CGKGBMjEfUBcMxRksCFUdySRg7gri7hqFLMIMCcoQOSRTJ3/QBd7/6DHX+AE3t4SBPQKGssiYohNXal82bfsWpVS/TUlrRG339u3FlLVAUBVedHcXnR1EUfE4XiqIEh+W3NlTa6EiMSfFcvfkJelDuxmujy1fq69gdCgKCJKL4/YiyjDbKhNAe/omIN6MxGZBlWWbl8sew7T5w24sg6bUM+Ze5GB6YTmVVLamGCBS/H4Neh9jcihJQkAJ+nGXVgIKr2kZbQxMp8+7jvMOJ2/1N+EMQBFLizchd7D0619cZQQClxYG7PRDZGTktLYUxiXFk7dgU8o6rjQHzZtEyYTTLn3qBqqo6NJpgzNNg0GMwBPcQ8fFmoqJMSJJIWloqmr6J/NdHH3PwYM41LqlGo+ky2RQRob8qf38FURRJTk7qaLczsl6vw1VWhe8WAmxqQxBF9PExRKelUpdf2KlvAoeP5FJRUQPQMcLdnRJYV+4BHDp0rMd2ugvxu92ejrjTtykrq+ryeshOcfQ2gixhSk6i7+RxJEwaizcxFieQ+PkJ8t/YAoC31UHq4Dt61c7ukJ1OF/oBVkwpSbSW3UCATAVIOi190qxYJo8lbsJomqOM5JwsJHPrTi5cKCUy0sDWjWvRf7CLNnsjreXVmKaM722zu0QuLr7Mmx99zL9nrObk2o2qd101JgPmOwdhuXsM0eNHUh0IkJlzktx3t3HuXAmO9iwfBA81FJRXYb5zIJVH8wj4/JhjohBFsVezcV0hK4rCnj0HURRY8cZznF3/HrVfnultu75BENDH9CF+7HASJ96FcdQQvm5oZsfRPPJeeouSkrJuDwIoisKRrOM8PjWdyqN5OKttWHRaZFnC41GZEBA0eO/eg5SXV5Px7BKEDe9Tk3u614wSRBFDUjyxIwfTb8ZExDQrBZcq+SQrj7ytu6isrL0m69cd+flnWTZ3JqJW0+Gq6nRa9Z7iUBSF48cL+OUr7/Lq80vRbd7B5f1Z0EPgKpSIGplIa1/ixwzHcu9E3Alm8i+Usv1wLnmvv4/N1hDccN0gFRU1NGlkDIlxOKpq0ThdGI0RtLTvbNXCNV5Tfv5ZVq37Pb/55ZMMjDJRvOPT700MOUJP1IAUkibeRfzU8di1Gk4UFPHOto85c+Z8SI65uFxtnDj7NQPHj+Di3oMICuh0XWf1epMu3dfCwmJWrnmd119exSBRDJ6wCFEAUGMyEj0olX4zJhI9fiRlLjfZ+Wc59MYWLly4SNv1pmBvgGPHTjHpnnRKdh/AX1ePxZLApUvqckq63UdUVdXyzPMbePk/ljN58jgaTp/HfraYltIKXPUN+Ns8XZ7g6EAQEAQBBNBGRRI7YjDJsyahGzaAsmYHu7OOc3TtRi5frsT7PSebCguL0P70IWS9Dp/L3WXmrLfpcUNXVVXH0ysyGDVqKMOGpTF83iz6WxKIFgT8NXW4bY3dltUnmAlE6IP53OhIimvq+WPmF3zx7kfU1tZf92IbCmpq6qnz+jBZLbhqbAxMs5Kdffzv1v718J07a4fDRU7OSXJyTgLB76vZ3IeUFEuXMZMreDxeKipqO3Lhzc2tvea7ezxejp0sZOb8f0QTHYn3ZGGv2NETN3zA7IfKkCEDeHLJP/NVYTHbt+9Tndf0/0YItRP+HzqVEBZCJYSFUAlhIVRCWAiVEBZCJYSFUAlhIVRCWAiVEBZCJYSFUAlhIVRCWAiVEBZCJYSFUAlhIVRCWAiVEBZCJYSFUAlhIVTC/wHfByQ23A0npAAAAABJRU5ErkJggg==\" y=\"-237.12624\"/>\n   </g>\n   <g id=\"patch_43\">\n    <path d=\"M 10.7 302.12624 \nL 10.7 237.430588 \n\" style=\"fill:none;stroke:#000000;stroke-linecap:square;stroke-linejoin:miter;stroke-width:0.8;\"/>\n   </g>\n   <g id=\"patch_44\">\n    <path d=\"M 107.743478 302.12624 \nL 107.743478 237.430588 \n\" style=\"fill:none;stroke:#000000;stroke-linecap:square;stroke-linejoin:miter;stroke-width:0.8;\"/>\n   </g>\n   <g id=\"patch_45\">\n    <path d=\"M 10.7 302.12624 \nL 107.743478 302.12624 \n\" style=\"fill:none;stroke:#000000;stroke-linecap:square;stroke-linejoin:miter;stroke-width:0.8;\"/>\n   </g>\n   <g id=\"patch_46\">\n    <path d=\"M 10.7 237.430588 \nL 107.743478 237.430588 \n\" style=\"fill:none;stroke:#000000;stroke-linecap:square;stroke-linejoin:miter;stroke-width:0.8;\"/>\n   </g>\n  </g>\n  <g id=\"axes_10\">\n   <g id=\"patch_47\">\n    <path d=\"M 127.152174 302.12624 \nL 224.195652 302.12624 \nL 224.195652 237.430588 \nL 127.152174 237.430588 \nz\n\" style=\"fill:#ffffff;\"/>\n   </g>\n   <g clip-path=\"url(#p8453c33ea2)\">\n    <image height=\"65\" id=\"image5b6748e93f\" transform=\"scale(1 -1)translate(0 -65)\" width=\"98\" x=\"127.152174\" xlink:href=\"data:image/png;base64,\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\" y=\"-237.12624\"/>\n   </g>\n   <g id=\"patch_48\">\n    <path d=\"M 127.152174 302.12624 \nL 127.152174 237.430588 \n\" style=\"fill:none;stroke:#000000;stroke-linecap:square;stroke-linejoin:miter;stroke-width:0.8;\"/>\n   </g>\n   <g id=\"patch_49\">\n    <path d=\"M 224.195652 302.12624 \nL 224.195652 237.430588 \n\" style=\"fill:none;stroke:#000000;stroke-linecap:square;stroke-linejoin:miter;stroke-width:0.8;\"/>\n   </g>\n   <g id=\"patch_50\">\n    <path d=\"M 127.152174 302.12624 \nL 224.195652 302.12624 \n\" style=\"fill:none;stroke:#000000;stroke-linecap:square;stroke-linejoin:miter;stroke-width:0.8;\"/>\n   </g>\n   <g id=\"patch_51\">\n    <path d=\"M 127.152174 237.430588 \nL 224.195652 237.430588 \n\" style=\"fill:none;stroke:#000000;stroke-linecap:square;stroke-linejoin:miter;stroke-width:0.8;\"/>\n   </g>\n  </g>\n  <g id=\"axes_11\">\n   <g id=\"patch_52\">\n    <path d=\"M 243.604348 302.12624 \nL 340.647826 302.12624 \nL 340.647826 237.430588 \nL 243.604348 237.430588 \nz\n\" style=\"fill:#ffffff;\"/>\n   </g>\n   <g clip-path=\"url(#pe5a407d879)\">\n    <image height=\"65\" id=\"image297c2d1e9d\" transform=\"scale(1 -1)translate(0 -65)\" width=\"98\" x=\"243.604348\" xlink:href=\"data:image/png;base64,\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\" y=\"-237.12624\"/>\n   </g>\n   <g id=\"patch_53\">\n    <path d=\"M 243.604348 302.12624 \nL 243.604348 237.430588 \n\" style=\"fill:none;stroke:#000000;stroke-linecap:square;stroke-linejoin:miter;stroke-width:0.8;\"/>\n   </g>\n   <g id=\"patch_54\">\n    <path d=\"M 340.647826 302.12624 \nL 340.647826 237.430588 \n\" style=\"fill:none;stroke:#000000;stroke-linecap:square;stroke-linejoin:miter;stroke-width:0.8;\"/>\n   </g>\n   <g id=\"patch_55\">\n    <path d=\"M 243.604348 302.12624 \nL 340.647826 302.12624 \n\" style=\"fill:none;stroke:#000000;stroke-linecap:square;stroke-linejoin:miter;stroke-width:0.8;\"/>\n   </g>\n   <g id=\"patch_56\">\n    <path d=\"M 243.604348 237.430588 \nL 340.647826 237.430588 \n\" style=\"fill:none;stroke:#000000;stroke-linecap:square;stroke-linejoin:miter;stroke-width:0.8;\"/>\n   </g>\n  </g>\n  <g id=\"axes_12\">\n   <g id=\"patch_57\">\n    <path d=\"M 360.056522 302.12624 \nL 457.1 302.12624 \nL 457.1 237.430588 \nL 360.056522 237.430588 \nz\n\" style=\"fill:#ffffff;\"/>\n   </g>\n   <g clip-path=\"url(#p63b7411178)\">\n    <image height=\"65\" id=\"imagec17a923e75\" transform=\"scale(1 -1)translate(0 -65)\" width=\"98\" x=\"360.056522\" xlink:href=\"data:image/png;base64,\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\" y=\"-237.12624\"/>\n   </g>\n   <g id=\"patch_58\">\n    <path d=\"M 360.056522 302.12624 \nL 360.056522 237.430588 \n\" style=\"fill:none;stroke:#000000;stroke-linecap:square;stroke-linejoin:miter;stroke-width:0.8;\"/>\n   </g>\n   <g id=\"patch_59\">\n    <path d=\"M 457.1 302.12624 \nL 457.1 237.430588 \n\" style=\"fill:none;stroke:#000000;stroke-linecap:square;stroke-linejoin:miter;stroke-width:0.8;\"/>\n   </g>\n   <g id=\"patch_60\">\n    <path d=\"M 360.056522 302.12624 \nL 457.1 302.12624 \n\" style=\"fill:none;stroke:#000000;stroke-linecap:square;stroke-linejoin:miter;stroke-width:0.8;\"/>\n   </g>\n   <g id=\"patch_61\">\n    <path d=\"M 360.056522 237.430588 \nL 457.1 237.430588 \n\" style=\"fill:none;stroke:#000000;stroke-linecap:square;stroke-linejoin:miter;stroke-width:0.8;\"/>\n   </g>\n  </g>\n </g>\n <defs>\n  <clipPath id=\"pef737432ea\">\n   <rect height=\"64.695652\" width=\"97.043478\" x=\"10.7\" y=\"7.2\"/>\n  </clipPath>\n  <clipPath id=\"pe7989a8d99\">\n   <rect height=\"64.695652\" width=\"97.043478\" x=\"127.152174\" y=\"7.2\"/>\n  </clipPath>\n  <clipPath id=\"p730b801d86\">\n   <rect height=\"64.695652\" width=\"97.043478\" x=\"243.604348\" y=\"7.2\"/>\n  </clipPath>\n  <clipPath id=\"pfaec3f8ccd\">\n   <rect height=\"64.695652\" width=\"97.043478\" x=\"360.056522\" y=\"7.2\"/>\n  </clipPath>\n  <clipPath id=\"p0cfa180134\">\n   <rect height=\"64.695652\" width=\"97.043478\" x=\"10.7\" y=\"122.315294\"/>\n  </clipPath>\n  <clipPath id=\"peda86392c9\">\n   <rect height=\"64.695652\" width=\"97.043478\" x=\"127.152174\" y=\"122.315294\"/>\n  </clipPath>\n  <clipPath id=\"p5bbc595644\">\n   <rect height=\"64.695652\" width=\"97.043478\" x=\"243.604348\" y=\"122.315294\"/>\n  </clipPath>\n  <clipPath id=\"p5434a547be\">\n   <rect height=\"64.695652\" width=\"97.043478\" x=\"360.056522\" y=\"122.315294\"/>\n  </clipPath>\n  <clipPath id=\"pd5eb1145ae\">\n   <rect height=\"64.695652\" width=\"97.043478\" x=\"10.7\" y=\"237.430588\"/>\n  </clipPath>\n  <clipPath id=\"p8453c33ea2\">\n   <rect height=\"64.695652\" width=\"97.043478\" x=\"127.152174\" y=\"237.430588\"/>\n  </clipPath>\n  <clipPath id=\"pe5a407d879\">\n   <rect height=\"64.695652\" width=\"97.043478\" x=\"243.604348\" y=\"237.430588\"/>\n  </clipPath>\n  <clipPath id=\"p63b7411178\">\n   <rect height=\"64.695652\" width=\"97.043478\" x=\"360.056522\" y=\"237.430588\"/>\n  </clipPath>\n </defs>\n</svg>\n"
          },
          "metadata": {
            "needs_background": "light"
          }
        }
      ],
      "source": [
        "voc_dir = d2l.download_extract('voc2012', 'VOCdevkit/VOC2012')\n",
        "test_images, test_labels = d2l.read_voc_images(voc_dir, False)\n",
        "n, imgs = 4, []\n",
        "for i in range(n):\n",
        "    crop_rect = (0, 0, 320, 480)\n",
        "    X = torchvision.transforms.functional.crop(test_images[i], *crop_rect)\n",
        "    pred = label2image(predict(X))\n",
        "    imgs += [X.permute(1,2,0), pred.cpu(),\n",
        "             torchvision.transforms.functional.crop(\n",
        "                 test_labels[i], *crop_rect).permute(1,2,0)]\n",
        "d2l.show_images(imgs[::3] + imgs[1::3] + imgs[2::3], 3, n, scale=2);"
      ]
    },
    {
      "cell_type": "markdown",
      "id": "d42e98b9",
      "metadata": {
        "origin_pos": 44,
        "id": "d42e98b9"
      },
      "source": [
        "## Summary\n",
        "\n",
        "* The fully convolutional network first uses a CNN to extract image features, then transforms the number of channels into the number of classes via a $1\\times 1$ convolutional layer, and finally transforms the height and width of the feature maps to those of the input image via the transposed convolution.\n",
        "* In a fully convolutional network, we can use upsampling of bilinear interpolation to initialize the transposed convolutional layer.\n",
        "\n",
        "\n",
        "## Exercises\n",
        "\n",
        "1. If we use Xavier initialization for the transposed convolutional layer in the experiment, how does the result change?\n",
        "1. Can you further improve the accuracy of the model by tuning the hyperparameters?\n",
        "1. Predict the classes of all pixels in test images.\n",
        "1. The original fully convolutional network paper also uses outputs of some intermediate CNN layers :cite:`Long.Shelhamer.Darrell.2015`. Try to implement this idea.\n"
      ]
    },
    {
      "cell_type": "markdown",
      "id": "0e92e7f0",
      "metadata": {
        "origin_pos": 46,
        "tab": [
          "pytorch"
        ],
        "id": "0e92e7f0"
      },
      "source": [
        "[Discussions](https://discuss.d2l.ai/t/1582)\n"
      ]
    }
  ],
  "metadata": {
    "accelerator": "GPU",
    "kernelspec": {
      "display_name": "Python 3",
      "name": "python3"
    },
    "language_info": {
      "name": "python"
    },
    "colab": {
      "provenance": []
    },
    "widgets": {
      "application/vnd.jupyter.widget-state+json": {
        "c961749ebe934e3d8b5c47b658cf86ee": {
          "model_module": "@jupyter-widgets/controls",
          "model_name": "HBoxModel",
          "model_module_version": "1.5.0",
          "state": {
            "_dom_classes": [],
            "_model_module": "@jupyter-widgets/controls",
            "_model_module_version": "1.5.0",
            "_model_name": "HBoxModel",
            "_view_count": null,
            "_view_module": "@jupyter-widgets/controls",
            "_view_module_version": "1.5.0",
            "_view_name": "HBoxView",
            "box_style": "",
            "children": [
              "IPY_MODEL_5c2e1499f2b94d76a420667359a283d1",
              "IPY_MODEL_f6aa3496d679422cbd04e85cf7e31c02",
              "IPY_MODEL_cb6b9d51b55647c0bce71268da429e34"
            ],
            "layout": "IPY_MODEL_951c73f78d274015869a6ad6aaf29716"
          }
        },
        "5c2e1499f2b94d76a420667359a283d1": {
          "model_module": "@jupyter-widgets/controls",
          "model_name": "HTMLModel",
          "model_module_version": "1.5.0",
          "state": {
            "_dom_classes": [],
            "_model_module": "@jupyter-widgets/controls",
            "_model_module_version": "1.5.0",
            "_model_name": "HTMLModel",
            "_view_count": null,
            "_view_module": "@jupyter-widgets/controls",
            "_view_module_version": "1.5.0",
            "_view_name": "HTMLView",
            "description": "",
            "description_tooltip": null,
            "layout": "IPY_MODEL_d2a91ea0d667411ab205e48eeb80aa93",
            "placeholder": "​",
            "style": "IPY_MODEL_582e6c549d55478aa015c15abd834c57",
            "value": "100%"
          }
        },
        "f6aa3496d679422cbd04e85cf7e31c02": {
          "model_module": "@jupyter-widgets/controls",
          "model_name": "FloatProgressModel",
          "model_module_version": "1.5.0",
          "state": {
            "_dom_classes": [],
            "_model_module": "@jupyter-widgets/controls",
            "_model_module_version": "1.5.0",
            "_model_name": "FloatProgressModel",
            "_view_count": null,
            "_view_module": "@jupyter-widgets/controls",
            "_view_module_version": "1.5.0",
            "_view_name": "ProgressView",
            "bar_style": "success",
            "description": "",
            "description_tooltip": null,
            "layout": "IPY_MODEL_d0c511a76f5c407f9f6032937b911294",
            "max": 46830571,
            "min": 0,
            "orientation": "horizontal",
            "style": "IPY_MODEL_fdbd8ba2d15c4dd0ac9747a9168e1a32",
            "value": 46830571
          }
        },
        "cb6b9d51b55647c0bce71268da429e34": {
          "model_module": "@jupyter-widgets/controls",
          "model_name": "HTMLModel",
          "model_module_version": "1.5.0",
          "state": {
            "_dom_classes": [],
            "_model_module": "@jupyter-widgets/controls",
            "_model_module_version": "1.5.0",
            "_model_name": "HTMLModel",
            "_view_count": null,
            "_view_module": "@jupyter-widgets/controls",
            "_view_module_version": "1.5.0",
            "_view_name": "HTMLView",
            "description": "",
            "description_tooltip": null,
            "layout": "IPY_MODEL_f23f87fba9a34787966fd6acc0a5d345",
            "placeholder": "​",
            "style": "IPY_MODEL_d1dc01a3ab24472dabd90f9621274d1f",
            "value": " 44.7M/44.7M [00:00&lt;00:00, 106MB/s]"
          }
        },
        "951c73f78d274015869a6ad6aaf29716": {
          "model_module": "@jupyter-widgets/base",
          "model_name": "LayoutModel",
          "model_module_version": "1.2.0",
          "state": {
            "_model_module": "@jupyter-widgets/base",
            "_model_module_version": "1.2.0",
            "_model_name": "LayoutModel",
            "_view_count": null,
            "_view_module": "@jupyter-widgets/base",
            "_view_module_version": "1.2.0",
            "_view_name": "LayoutView",
            "align_content": null,
            "align_items": null,
            "align_self": null,
            "border": null,
            "bottom": null,
            "display": null,
            "flex": null,
            "flex_flow": null,
            "grid_area": null,
            "grid_auto_columns": null,
            "grid_auto_flow": null,
            "grid_auto_rows": null,
            "grid_column": null,
            "grid_gap": null,
            "grid_row": null,
            "grid_template_areas": null,
            "grid_template_columns": null,
            "grid_template_rows": null,
            "height": null,
            "justify_content": null,
            "justify_items": null,
            "left": null,
            "margin": null,
            "max_height": null,
            "max_width": null,
            "min_height": null,
            "min_width": null,
            "object_fit": null,
            "object_position": null,
            "order": null,
            "overflow": null,
            "overflow_x": null,
            "overflow_y": null,
            "padding": null,
            "right": null,
            "top": null,
            "visibility": null,
            "width": null
          }
        },
        "d2a91ea0d667411ab205e48eeb80aa93": {
          "model_module": "@jupyter-widgets/base",
          "model_name": "LayoutModel",
          "model_module_version": "1.2.0",
          "state": {
            "_model_module": "@jupyter-widgets/base",
            "_model_module_version": "1.2.0",
            "_model_name": "LayoutModel",
            "_view_count": null,
            "_view_module": "@jupyter-widgets/base",
            "_view_module_version": "1.2.0",
            "_view_name": "LayoutView",
            "align_content": null,
            "align_items": null,
            "align_self": null,
            "border": null,
            "bottom": null,
            "display": null,
            "flex": null,
            "flex_flow": null,
            "grid_area": null,
            "grid_auto_columns": null,
            "grid_auto_flow": null,
            "grid_auto_rows": null,
            "grid_column": null,
            "grid_gap": null,
            "grid_row": null,
            "grid_template_areas": null,
            "grid_template_columns": null,
            "grid_template_rows": null,
            "height": null,
            "justify_content": null,
            "justify_items": null,
            "left": null,
            "margin": null,
            "max_height": null,
            "max_width": null,
            "min_height": null,
            "min_width": null,
            "object_fit": null,
            "object_position": null,
            "order": null,
            "overflow": null,
            "overflow_x": null,
            "overflow_y": null,
            "padding": null,
            "right": null,
            "top": null,
            "visibility": null,
            "width": null
          }
        },
        "582e6c549d55478aa015c15abd834c57": {
          "model_module": "@jupyter-widgets/controls",
          "model_name": "DescriptionStyleModel",
          "model_module_version": "1.5.0",
          "state": {
            "_model_module": "@jupyter-widgets/controls",
            "_model_module_version": "1.5.0",
            "_model_name": "DescriptionStyleModel",
            "_view_count": null,
            "_view_module": "@jupyter-widgets/base",
            "_view_module_version": "1.2.0",
            "_view_name": "StyleView",
            "description_width": ""
          }
        },
        "d0c511a76f5c407f9f6032937b911294": {
          "model_module": "@jupyter-widgets/base",
          "model_name": "LayoutModel",
          "model_module_version": "1.2.0",
          "state": {
            "_model_module": "@jupyter-widgets/base",
            "_model_module_version": "1.2.0",
            "_model_name": "LayoutModel",
            "_view_count": null,
            "_view_module": "@jupyter-widgets/base",
            "_view_module_version": "1.2.0",
            "_view_name": "LayoutView",
            "align_content": null,
            "align_items": null,
            "align_self": null,
            "border": null,
            "bottom": null,
            "display": null,
            "flex": null,
            "flex_flow": null,
            "grid_area": null,
            "grid_auto_columns": null,
            "grid_auto_flow": null,
            "grid_auto_rows": null,
            "grid_column": null,
            "grid_gap": null,
            "grid_row": null,
            "grid_template_areas": null,
            "grid_template_columns": null,
            "grid_template_rows": null,
            "height": null,
            "justify_content": null,
            "justify_items": null,
            "left": null,
            "margin": null,
            "max_height": null,
            "max_width": null,
            "min_height": null,
            "min_width": null,
            "object_fit": null,
            "object_position": null,
            "order": null,
            "overflow": null,
            "overflow_x": null,
            "overflow_y": null,
            "padding": null,
            "right": null,
            "top": null,
            "visibility": null,
            "width": null
          }
        },
        "fdbd8ba2d15c4dd0ac9747a9168e1a32": {
          "model_module": "@jupyter-widgets/controls",
          "model_name": "ProgressStyleModel",
          "model_module_version": "1.5.0",
          "state": {
            "_model_module": "@jupyter-widgets/controls",
            "_model_module_version": "1.5.0",
            "_model_name": "ProgressStyleModel",
            "_view_count": null,
            "_view_module": "@jupyter-widgets/base",
            "_view_module_version": "1.2.0",
            "_view_name": "StyleView",
            "bar_color": null,
            "description_width": ""
          }
        },
        "f23f87fba9a34787966fd6acc0a5d345": {
          "model_module": "@jupyter-widgets/base",
          "model_name": "LayoutModel",
          "model_module_version": "1.2.0",
          "state": {
            "_model_module": "@jupyter-widgets/base",
            "_model_module_version": "1.2.0",
            "_model_name": "LayoutModel",
            "_view_count": null,
            "_view_module": "@jupyter-widgets/base",
            "_view_module_version": "1.2.0",
            "_view_name": "LayoutView",
            "align_content": null,
            "align_items": null,
            "align_self": null,
            "border": null,
            "bottom": null,
            "display": null,
            "flex": null,
            "flex_flow": null,
            "grid_area": null,
            "grid_auto_columns": null,
            "grid_auto_flow": null,
            "grid_auto_rows": null,
            "grid_column": null,
            "grid_gap": null,
            "grid_row": null,
            "grid_template_areas": null,
            "grid_template_columns": null,
            "grid_template_rows": null,
            "height": null,
            "justify_content": null,
            "justify_items": null,
            "left": null,
            "margin": null,
            "max_height": null,
            "max_width": null,
            "min_height": null,
            "min_width": null,
            "object_fit": null,
            "object_position": null,
            "order": null,
            "overflow": null,
            "overflow_x": null,
            "overflow_y": null,
            "padding": null,
            "right": null,
            "top": null,
            "visibility": null,
            "width": null
          }
        },
        "d1dc01a3ab24472dabd90f9621274d1f": {
          "model_module": "@jupyter-widgets/controls",
          "model_name": "DescriptionStyleModel",
          "model_module_version": "1.5.0",
          "state": {
            "_model_module": "@jupyter-widgets/controls",
            "_model_module_version": "1.5.0",
            "_model_name": "DescriptionStyleModel",
            "_view_count": null,
            "_view_module": "@jupyter-widgets/base",
            "_view_module_version": "1.2.0",
            "_view_name": "StyleView",
            "description_width": ""
          }
        }
      }
    }
  },
  "nbformat": 4,
  "nbformat_minor": 5
}