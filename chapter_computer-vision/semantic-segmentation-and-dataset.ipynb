{
  "cells": [
    {
      "cell_type": "markdown",
      "id": "e4bd0719",
      "metadata": {
        "id": "e4bd0719"
      },
      "source": [
        "The following additional libraries are needed to run this\n",
        "notebook. Note that running on Colab is experimental, please report a Github\n",
        "issue if you have any problem."
      ]
    },
    {
      "cell_type": "code",
      "execution_count": 1,
      "id": "4046f86a",
      "metadata": {
        "id": "4046f86a",
        "outputId": "b39c07ae-5ba1-4dda-899d-5fadb69a74d9",
        "colab": {
          "base_uri": "https://localhost:8080/"
        }
      },
      "outputs": [
        {
          "output_type": "stream",
          "name": "stdout",
          "text": [
            "Looking in indexes: https://pypi.org/simple, https://us-python.pkg.dev/colab-wheels/public/simple/\n",
            "Collecting d2l==1.0.0-alpha1.post0\n",
            "  Downloading d2l-1.0.0a1.post0-py3-none-any.whl (93 kB)\n",
            "\u001b[K     |████████████████████████████████| 93 kB 932 kB/s \n",
            "\u001b[?25hRequirement already satisfied: matplotlib in /usr/local/lib/python3.7/dist-packages (from d2l==1.0.0-alpha1.post0) (3.2.2)\n",
            "Requirement already satisfied: numpy in /usr/local/lib/python3.7/dist-packages (from d2l==1.0.0-alpha1.post0) (1.21.6)\n",
            "Collecting jupyter\n",
            "  Downloading jupyter-1.0.0-py2.py3-none-any.whl (2.7 kB)\n",
            "Collecting matplotlib-inline\n",
            "  Downloading matplotlib_inline-0.1.6-py3-none-any.whl (9.4 kB)\n",
            "Requirement already satisfied: requests in /usr/local/lib/python3.7/dist-packages (from d2l==1.0.0-alpha1.post0) (2.23.0)\n",
            "Requirement already satisfied: pandas in /usr/local/lib/python3.7/dist-packages (from d2l==1.0.0-alpha1.post0) (1.3.5)\n",
            "Requirement already satisfied: gym in /usr/local/lib/python3.7/dist-packages (from d2l==1.0.0-alpha1.post0) (0.25.2)\n",
            "Requirement already satisfied: importlib-metadata>=4.8.0 in /usr/local/lib/python3.7/dist-packages (from gym->d2l==1.0.0-alpha1.post0) (4.13.0)\n",
            "Requirement already satisfied: cloudpickle>=1.2.0 in /usr/local/lib/python3.7/dist-packages (from gym->d2l==1.0.0-alpha1.post0) (1.5.0)\n",
            "Requirement already satisfied: gym-notices>=0.0.4 in /usr/local/lib/python3.7/dist-packages (from gym->d2l==1.0.0-alpha1.post0) (0.0.8)\n",
            "Requirement already satisfied: zipp>=0.5 in /usr/local/lib/python3.7/dist-packages (from importlib-metadata>=4.8.0->gym->d2l==1.0.0-alpha1.post0) (3.9.0)\n",
            "Requirement already satisfied: typing-extensions>=3.6.4 in /usr/local/lib/python3.7/dist-packages (from importlib-metadata>=4.8.0->gym->d2l==1.0.0-alpha1.post0) (4.1.1)\n",
            "Requirement already satisfied: nbconvert in /usr/local/lib/python3.7/dist-packages (from jupyter->d2l==1.0.0-alpha1.post0) (5.6.1)\n",
            "Requirement already satisfied: ipywidgets in /usr/local/lib/python3.7/dist-packages (from jupyter->d2l==1.0.0-alpha1.post0) (7.7.1)\n",
            "Collecting qtconsole\n",
            "  Downloading qtconsole-5.3.2-py3-none-any.whl (120 kB)\n",
            "\u001b[K     |████████████████████████████████| 120 kB 36.0 MB/s \n",
            "\u001b[?25hRequirement already satisfied: notebook in /usr/local/lib/python3.7/dist-packages (from jupyter->d2l==1.0.0-alpha1.post0) (5.5.0)\n",
            "Requirement already satisfied: ipykernel in /usr/local/lib/python3.7/dist-packages (from jupyter->d2l==1.0.0-alpha1.post0) (5.3.4)\n",
            "Requirement already satisfied: jupyter-console in /usr/local/lib/python3.7/dist-packages (from jupyter->d2l==1.0.0-alpha1.post0) (6.1.0)\n",
            "Requirement already satisfied: ipython>=5.0.0 in /usr/local/lib/python3.7/dist-packages (from ipykernel->jupyter->d2l==1.0.0-alpha1.post0) (7.9.0)\n",
            "Requirement already satisfied: tornado>=4.2 in /usr/local/lib/python3.7/dist-packages (from ipykernel->jupyter->d2l==1.0.0-alpha1.post0) (5.1.1)\n",
            "Requirement already satisfied: traitlets>=4.1.0 in /usr/local/lib/python3.7/dist-packages (from ipykernel->jupyter->d2l==1.0.0-alpha1.post0) (5.1.1)\n",
            "Requirement already satisfied: jupyter-client in /usr/local/lib/python3.7/dist-packages (from ipykernel->jupyter->d2l==1.0.0-alpha1.post0) (6.1.12)\n",
            "Requirement already satisfied: decorator in /usr/local/lib/python3.7/dist-packages (from ipython>=5.0.0->ipykernel->jupyter->d2l==1.0.0-alpha1.post0) (4.4.2)\n",
            "Collecting jedi>=0.10\n",
            "  Downloading jedi-0.18.1-py2.py3-none-any.whl (1.6 MB)\n",
            "\u001b[K     |████████████████████████████████| 1.6 MB 44.5 MB/s \n",
            "\u001b[?25hRequirement already satisfied: setuptools>=18.5 in /usr/local/lib/python3.7/dist-packages (from ipython>=5.0.0->ipykernel->jupyter->d2l==1.0.0-alpha1.post0) (57.4.0)\n",
            "Requirement already satisfied: prompt-toolkit<2.1.0,>=2.0.0 in /usr/local/lib/python3.7/dist-packages (from ipython>=5.0.0->ipykernel->jupyter->d2l==1.0.0-alpha1.post0) (2.0.10)\n",
            "Requirement already satisfied: pygments in /usr/local/lib/python3.7/dist-packages (from ipython>=5.0.0->ipykernel->jupyter->d2l==1.0.0-alpha1.post0) (2.6.1)\n",
            "Requirement already satisfied: backcall in /usr/local/lib/python3.7/dist-packages (from ipython>=5.0.0->ipykernel->jupyter->d2l==1.0.0-alpha1.post0) (0.2.0)\n",
            "Requirement already satisfied: pickleshare in /usr/local/lib/python3.7/dist-packages (from ipython>=5.0.0->ipykernel->jupyter->d2l==1.0.0-alpha1.post0) (0.7.5)\n",
            "Requirement already satisfied: pexpect in /usr/local/lib/python3.7/dist-packages (from ipython>=5.0.0->ipykernel->jupyter->d2l==1.0.0-alpha1.post0) (4.8.0)\n",
            "Requirement already satisfied: parso<0.9.0,>=0.8.0 in /usr/local/lib/python3.7/dist-packages (from jedi>=0.10->ipython>=5.0.0->ipykernel->jupyter->d2l==1.0.0-alpha1.post0) (0.8.3)\n",
            "Requirement already satisfied: wcwidth in /usr/local/lib/python3.7/dist-packages (from prompt-toolkit<2.1.0,>=2.0.0->ipython>=5.0.0->ipykernel->jupyter->d2l==1.0.0-alpha1.post0) (0.2.5)\n",
            "Requirement already satisfied: six>=1.9.0 in /usr/local/lib/python3.7/dist-packages (from prompt-toolkit<2.1.0,>=2.0.0->ipython>=5.0.0->ipykernel->jupyter->d2l==1.0.0-alpha1.post0) (1.15.0)\n",
            "Requirement already satisfied: ipython-genutils~=0.2.0 in /usr/local/lib/python3.7/dist-packages (from ipywidgets->jupyter->d2l==1.0.0-alpha1.post0) (0.2.0)\n",
            "Requirement already satisfied: jupyterlab-widgets>=1.0.0 in /usr/local/lib/python3.7/dist-packages (from ipywidgets->jupyter->d2l==1.0.0-alpha1.post0) (3.0.3)\n",
            "Requirement already satisfied: widgetsnbextension~=3.6.0 in /usr/local/lib/python3.7/dist-packages (from ipywidgets->jupyter->d2l==1.0.0-alpha1.post0) (3.6.1)\n",
            "Requirement already satisfied: terminado>=0.8.1 in /usr/local/lib/python3.7/dist-packages (from notebook->jupyter->d2l==1.0.0-alpha1.post0) (0.13.3)\n",
            "Requirement already satisfied: jupyter-core>=4.4.0 in /usr/local/lib/python3.7/dist-packages (from notebook->jupyter->d2l==1.0.0-alpha1.post0) (4.11.1)\n",
            "Requirement already satisfied: jinja2 in /usr/local/lib/python3.7/dist-packages (from notebook->jupyter->d2l==1.0.0-alpha1.post0) (2.11.3)\n",
            "Requirement already satisfied: nbformat in /usr/local/lib/python3.7/dist-packages (from notebook->jupyter->d2l==1.0.0-alpha1.post0) (5.7.0)\n",
            "Requirement already satisfied: pyzmq>=17 in /usr/local/lib/python3.7/dist-packages (from notebook->jupyter->d2l==1.0.0-alpha1.post0) (23.2.1)\n",
            "Requirement already satisfied: Send2Trash in /usr/local/lib/python3.7/dist-packages (from notebook->jupyter->d2l==1.0.0-alpha1.post0) (1.8.0)\n",
            "Requirement already satisfied: python-dateutil>=2.1 in /usr/local/lib/python3.7/dist-packages (from jupyter-client->ipykernel->jupyter->d2l==1.0.0-alpha1.post0) (2.8.2)\n",
            "Requirement already satisfied: ptyprocess in /usr/local/lib/python3.7/dist-packages (from terminado>=0.8.1->notebook->jupyter->d2l==1.0.0-alpha1.post0) (0.7.0)\n",
            "Requirement already satisfied: MarkupSafe>=0.23 in /usr/local/lib/python3.7/dist-packages (from jinja2->notebook->jupyter->d2l==1.0.0-alpha1.post0) (2.0.1)\n",
            "Requirement already satisfied: cycler>=0.10 in /usr/local/lib/python3.7/dist-packages (from matplotlib->d2l==1.0.0-alpha1.post0) (0.11.0)\n",
            "Requirement already satisfied: pyparsing!=2.0.4,!=2.1.2,!=2.1.6,>=2.0.1 in /usr/local/lib/python3.7/dist-packages (from matplotlib->d2l==1.0.0-alpha1.post0) (3.0.9)\n",
            "Requirement already satisfied: kiwisolver>=1.0.1 in /usr/local/lib/python3.7/dist-packages (from matplotlib->d2l==1.0.0-alpha1.post0) (1.4.4)\n",
            "Requirement already satisfied: testpath in /usr/local/lib/python3.7/dist-packages (from nbconvert->jupyter->d2l==1.0.0-alpha1.post0) (0.6.0)\n",
            "Requirement already satisfied: bleach in /usr/local/lib/python3.7/dist-packages (from nbconvert->jupyter->d2l==1.0.0-alpha1.post0) (5.0.1)\n",
            "Requirement already satisfied: mistune<2,>=0.8.1 in /usr/local/lib/python3.7/dist-packages (from nbconvert->jupyter->d2l==1.0.0-alpha1.post0) (0.8.4)\n",
            "Requirement already satisfied: entrypoints>=0.2.2 in /usr/local/lib/python3.7/dist-packages (from nbconvert->jupyter->d2l==1.0.0-alpha1.post0) (0.4)\n",
            "Requirement already satisfied: pandocfilters>=1.4.1 in /usr/local/lib/python3.7/dist-packages (from nbconvert->jupyter->d2l==1.0.0-alpha1.post0) (1.5.0)\n",
            "Requirement already satisfied: defusedxml in /usr/local/lib/python3.7/dist-packages (from nbconvert->jupyter->d2l==1.0.0-alpha1.post0) (0.7.1)\n",
            "Requirement already satisfied: jsonschema>=2.6 in /usr/local/lib/python3.7/dist-packages (from nbformat->notebook->jupyter->d2l==1.0.0-alpha1.post0) (4.3.3)\n",
            "Requirement already satisfied: fastjsonschema in /usr/local/lib/python3.7/dist-packages (from nbformat->notebook->jupyter->d2l==1.0.0-alpha1.post0) (2.16.2)\n",
            "Requirement already satisfied: attrs>=17.4.0 in /usr/local/lib/python3.7/dist-packages (from jsonschema>=2.6->nbformat->notebook->jupyter->d2l==1.0.0-alpha1.post0) (22.1.0)\n",
            "Requirement already satisfied: pyrsistent!=0.17.0,!=0.17.1,!=0.17.2,>=0.14.0 in /usr/local/lib/python3.7/dist-packages (from jsonschema>=2.6->nbformat->notebook->jupyter->d2l==1.0.0-alpha1.post0) (0.18.1)\n",
            "Requirement already satisfied: importlib-resources>=1.4.0 in /usr/local/lib/python3.7/dist-packages (from jsonschema>=2.6->nbformat->notebook->jupyter->d2l==1.0.0-alpha1.post0) (5.10.0)\n",
            "Requirement already satisfied: webencodings in /usr/local/lib/python3.7/dist-packages (from bleach->nbconvert->jupyter->d2l==1.0.0-alpha1.post0) (0.5.1)\n",
            "Requirement already satisfied: pytz>=2017.3 in /usr/local/lib/python3.7/dist-packages (from pandas->d2l==1.0.0-alpha1.post0) (2022.4)\n",
            "Collecting qtpy>=2.0.1\n",
            "  Downloading QtPy-2.2.1-py3-none-any.whl (82 kB)\n",
            "\u001b[K     |████████████████████████████████| 82 kB 837 kB/s \n",
            "\u001b[?25hRequirement already satisfied: packaging in /usr/local/lib/python3.7/dist-packages (from qtpy>=2.0.1->qtconsole->jupyter->d2l==1.0.0-alpha1.post0) (21.3)\n",
            "Requirement already satisfied: urllib3!=1.25.0,!=1.25.1,<1.26,>=1.21.1 in /usr/local/lib/python3.7/dist-packages (from requests->d2l==1.0.0-alpha1.post0) (1.24.3)\n",
            "Requirement already satisfied: certifi>=2017.4.17 in /usr/local/lib/python3.7/dist-packages (from requests->d2l==1.0.0-alpha1.post0) (2022.9.24)\n",
            "Requirement already satisfied: idna<3,>=2.5 in /usr/local/lib/python3.7/dist-packages (from requests->d2l==1.0.0-alpha1.post0) (2.10)\n",
            "Requirement already satisfied: chardet<4,>=3.0.2 in /usr/local/lib/python3.7/dist-packages (from requests->d2l==1.0.0-alpha1.post0) (3.0.4)\n",
            "Installing collected packages: jedi, qtpy, qtconsole, matplotlib-inline, jupyter, d2l\n",
            "Successfully installed d2l-1.0.0a1.post0 jedi-0.18.1 jupyter-1.0.0 matplotlib-inline-0.1.6 qtconsole-5.3.2 qtpy-2.2.1\n"
          ]
        }
      ],
      "source": [
        "!pip install d2l==1.0.0-alpha1.post0\n"
      ]
    },
    {
      "cell_type": "markdown",
      "id": "02d3b0d2",
      "metadata": {
        "origin_pos": 0,
        "id": "02d3b0d2"
      },
      "source": [
        "# Semantic Segmentation and the Dataset\n",
        ":label:`sec_semantic_segmentation`\n",
        "\n",
        "When discussing object detection tasks\n",
        "in :numref:`sec_bbox`--:numref:`sec_rcnn`,\n",
        "rectangular bounding boxes\n",
        "are used to label and predict objects in images.\n",
        "This section will discuss the problem of *semantic segmentation*,\n",
        "which focuses on how to divide an image into regions belonging to different semantic classes.\n",
        "Different from object detection,\n",
        "semantic segmentation\n",
        "recognizes and understands\n",
        "what are in images in pixel level:\n",
        "its labeling and prediction of semantic regions are\n",
        "in pixel level.\n",
        ":numref:`fig_segmentation` shows the labels\n",
        "of the dog, cat, and background of the image in semantic segmentation.\n",
        "Compared with in object detection,\n",
        "the pixel-level borders labeled\n",
        "in semantic segmentation are obviously more fine-grained.\n",
        "\n",
        "\n",
        "![Labels of the dog, cat, and background of the image in semantic segmentation.](http://d2l.ai/_images/segmentation.svg)\n",
        ":label:`fig_segmentation`\n",
        "\n",
        "\n",
        "## Image Segmentation and Instance Segmentation\n",
        "\n",
        "There are also two important tasks\n",
        "in the field of computer vision that are similar to semantic segmentation,\n",
        "namely image segmentation and instance segmentation.\n",
        "We will briefly\n",
        "distinguish them from semantic segmentation as follows.\n",
        "\n",
        "* *Image segmentation* divides an image into several constituent regions. The methods for this type of problem usually make use of the correlation between pixels in the image. It does not need label information about image pixels during training, and it cannot guarantee that the segmented regions will have the semantics that we hope to obtain during prediction. Taking the image in :numref:`fig_segmentation` as input, image segmentation may divide the dog into two regions: one covers the mouth and eyes which are mainly black, and the other covers the rest of the body which is mainly yellow.\n",
        "* *Instance segmentation* is also called *simultaneous detection and segmentation*. It studies how to recognize the pixel-level regions of each object instance in an image. Different from semantic segmentation, instance segmentation needs to distinguish not only semantics, but also different object instances. For example, if there are two dogs in the image, instance segmentation needs to distinguish which of the two dogs a pixel belongs to.\n",
        "\n",
        "\n",
        "\n",
        "## The Pascal VOC2012 Semantic Segmentation Dataset\n",
        "\n",
        "[**On of the most important semantic segmentation dataset\n",
        "is [Pascal VOC2012](http://host.robots.ox.ac.uk/pascal/VOC/voc2012/).**]\n",
        "In the following,\n",
        "we will take a look at this dataset.\n"
      ]
    },
    {
      "cell_type": "code",
      "execution_count": 3,
      "id": "517ec506",
      "metadata": {
        "execution": {
          "iopub.execute_input": "2022-09-07T22:08:22.266261Z",
          "iopub.status.busy": "2022-09-07T22:08:22.265605Z",
          "iopub.status.idle": "2022-09-07T22:08:24.249976Z",
          "shell.execute_reply": "2022-09-07T22:08:24.248657Z"
        },
        "origin_pos": 2,
        "tab": [
          "pytorch"
        ],
        "id": "517ec506"
      },
      "outputs": [],
      "source": [
        "%matplotlib inline\n",
        "import os\n",
        "import torch\n",
        "import torchvision\n",
        "from d2l import torch as d2l"
      ]
    },
    {
      "cell_type": "markdown",
      "id": "cc2773e5",
      "metadata": {
        "origin_pos": 3,
        "id": "cc2773e5"
      },
      "source": [
        "The tar file of the dataset is about 2 GB,\n",
        "so it may take a while to download the file.\n",
        "The extracted dataset is located at `../data/VOCdevkit/VOC2012`.\n"
      ]
    },
    {
      "cell_type": "code",
      "execution_count": 4,
      "id": "3e4f4b79",
      "metadata": {
        "execution": {
          "iopub.execute_input": "2022-09-07T22:08:24.256481Z",
          "iopub.status.busy": "2022-09-07T22:08:24.255648Z",
          "iopub.status.idle": "2022-09-07T22:09:26.675782Z",
          "shell.execute_reply": "2022-09-07T22:09:26.674902Z"
        },
        "origin_pos": 4,
        "tab": [
          "pytorch"
        ],
        "id": "3e4f4b79",
        "outputId": "bb1f3286-22c9-4f98-a3b8-cd9c4fab2fdc",
        "colab": {
          "base_uri": "https://localhost:8080/"
        }
      },
      "outputs": [
        {
          "output_type": "stream",
          "name": "stdout",
          "text": [
            "Downloading ../data/VOCtrainval_11-May-2012.tar from http://d2l-data.s3-accelerate.amazonaws.com/VOCtrainval_11-May-2012.tar...\n"
          ]
        }
      ],
      "source": [
        "#@save\n",
        "d2l.DATA_HUB['voc2012'] = (d2l.DATA_URL + 'VOCtrainval_11-May-2012.tar',\n",
        "                           '4e443f8a2eca6b1dac8a6c57641b67dd40621a49')\n",
        "\n",
        "voc_dir = d2l.download_extract('voc2012', 'VOCdevkit/VOC2012')"
      ]
    },
    {
      "cell_type": "markdown",
      "id": "66c94cb2",
      "metadata": {
        "origin_pos": 5,
        "id": "66c94cb2"
      },
      "source": [
        "After entering the path `../data/VOCdevkit/VOC2012`,\n",
        "we can see the different components of the dataset.\n",
        "The `ImageSets/Segmentation` path contains text files\n",
        "that specify training and test samples,\n",
        "while the `JPEGImages` and `SegmentationClass` paths\n",
        "store the input image and label for each example, respectively.\n",
        "The label here is also in the image format,\n",
        "with the same size\n",
        "as its labeled input image.\n",
        "Besides,\n",
        "pixels with the same color in any label image belong to the same semantic class.\n",
        "The following defines the `read_voc_images` function to [**read all the input images and labels into the memory**].\n"
      ]
    },
    {
      "cell_type": "code",
      "execution_count": 5,
      "id": "6ff9c92e",
      "metadata": {
        "execution": {
          "iopub.execute_input": "2022-09-07T22:09:26.680993Z",
          "iopub.status.busy": "2022-09-07T22:09:26.680544Z",
          "iopub.status.idle": "2022-09-07T22:09:32.227566Z",
          "shell.execute_reply": "2022-09-07T22:09:32.226722Z"
        },
        "origin_pos": 7,
        "tab": [
          "pytorch"
        ],
        "id": "6ff9c92e"
      },
      "outputs": [],
      "source": [
        "#@save\n",
        "def read_voc_images(voc_dir, is_train=True):\n",
        "    \"\"\"Read all VOC feature and label images.\"\"\"\n",
        "    txt_fname = os.path.join(voc_dir, 'ImageSets', 'Segmentation',\n",
        "                             'train.txt' if is_train else 'val.txt')\n",
        "    mode = torchvision.io.image.ImageReadMode.RGB\n",
        "    with open(txt_fname, 'r') as f:\n",
        "        images = f.read().split()\n",
        "    features, labels = [], []\n",
        "    for i, fname in enumerate(images):\n",
        "        features.append(torchvision.io.read_image(os.path.join(\n",
        "            voc_dir, 'JPEGImages', f'{fname}.jpg')))\n",
        "        labels.append(torchvision.io.read_image(os.path.join(\n",
        "            voc_dir, 'SegmentationClass' ,f'{fname}.png'), mode))\n",
        "    return features, labels\n",
        "\n",
        "train_features, train_labels = read_voc_images(voc_dir, True)"
      ]
    },
    {
      "cell_type": "markdown",
      "id": "c6e8f3a5",
      "metadata": {
        "origin_pos": 8,
        "id": "c6e8f3a5"
      },
      "source": [
        "We [**draw the first five input images and their labels**].\n",
        "In the label images, white and black represent borders and  background, respectively, while the other colors correspond to different classes.\n"
      ]
    },
    {
      "cell_type": "code",
      "execution_count": 6,
      "id": "4a4bb0ce",
      "metadata": {
        "execution": {
          "iopub.execute_input": "2022-09-07T22:09:32.231829Z",
          "iopub.status.busy": "2022-09-07T22:09:32.231104Z",
          "iopub.status.idle": "2022-09-07T22:09:32.834751Z",
          "shell.execute_reply": "2022-09-07T22:09:32.833816Z"
        },
        "origin_pos": 10,
        "tab": [
          "pytorch"
        ],
        "id": "4a4bb0ce",
        "outputId": "b616cc42-aa67-4d39-834c-2e5b7e0f5075",
        "colab": {
          "base_uri": "https://localhost:8080/",
          "height": 177
        }
      },
      "outputs": [
        {
          "output_type": "display_data",
          "data": {
            "text/plain": [
              "<Figure size 540x216 with 10 Axes>"
            ],
            "image/png": "[encoded data removed]"
          },
          "metadata": {
            "needs_background": "light"
          }
        }
      ],
      "source": [
        "n = 5\n",
        "imgs = train_features[:n] + train_labels[:n]\n",
        "imgs = [img.permute(1,2,0) for img in imgs]\n",
        "d2l.show_images(imgs, 2, n);"
      ]
    },
    {
      "cell_type": "markdown",
      "id": "fd1a6988",
      "metadata": {
        "origin_pos": 11,
        "id": "fd1a6988"
      },
      "source": [
        "Next, we [**enumerate\n",
        "the RGB color values and class names**]\n",
        "for all the labels in this dataset.\n"
      ]
    },
    {
      "cell_type": "code",
      "execution_count": 7,
      "id": "88cbe84e",
      "metadata": {
        "execution": {
          "iopub.execute_input": "2022-09-07T22:09:32.839009Z",
          "iopub.status.busy": "2022-09-07T22:09:32.838424Z",
          "iopub.status.idle": "2022-09-07T22:09:32.845283Z",
          "shell.execute_reply": "2022-09-07T22:09:32.844499Z"
        },
        "origin_pos": 12,
        "tab": [
          "pytorch"
        ],
        "id": "88cbe84e"
      },
      "outputs": [],
      "source": [
        "#@save\n",
        "VOC_COLORMAP = [[0, 0, 0], [128, 0, 0], [0, 128, 0], [128, 128, 0],\n",
        "                [0, 0, 128], [128, 0, 128], [0, 128, 128], [128, 128, 128],\n",
        "                [64, 0, 0], [192, 0, 0], [64, 128, 0], [192, 128, 0],\n",
        "                [64, 0, 128], [192, 0, 128], [64, 128, 128], [192, 128, 128],\n",
        "                [0, 64, 0], [128, 64, 0], [0, 192, 0], [128, 192, 0],\n",
        "                [0, 64, 128]]\n",
        "\n",
        "#@save\n",
        "VOC_CLASSES = ['background', 'aeroplane', 'bicycle', 'bird', 'boat',\n",
        "               'bottle', 'bus', 'car', 'cat', 'chair', 'cow',\n",
        "               'diningtable', 'dog', 'horse', 'motorbike', 'person',\n",
        "               'potted plant', 'sheep', 'sofa', 'train', 'tv/monitor']"
      ]
    },
    {
      "cell_type": "markdown",
      "id": "44f5ba20",
      "metadata": {
        "origin_pos": 13,
        "id": "44f5ba20"
      },
      "source": [
        "With the two constants defined above,\n",
        "we can conveniently\n",
        "[**find the class index for each pixel in a label**].\n",
        "We define the `voc_colormap2label` function\n",
        "to build the mapping from the above RGB color values\n",
        "to class indices,\n",
        "and the `voc_label_indices` function\n",
        "to map any RGB values to their class indices in this Pascal VOC2012 dataset.\n"
      ]
    },
    {
      "cell_type": "code",
      "execution_count": 8,
      "id": "9899e2a7",
      "metadata": {
        "execution": {
          "iopub.execute_input": "2022-09-07T22:09:32.848746Z",
          "iopub.status.busy": "2022-09-07T22:09:32.848239Z",
          "iopub.status.idle": "2022-09-07T22:09:32.854159Z",
          "shell.execute_reply": "2022-09-07T22:09:32.853376Z"
        },
        "origin_pos": 15,
        "tab": [
          "pytorch"
        ],
        "id": "9899e2a7"
      },
      "outputs": [],
      "source": [
        "#@save\n",
        "def voc_colormap2label():\n",
        "    \"\"\"Build the mapping from RGB to class indices for VOC labels.\"\"\"\n",
        "    colormap2label = torch.zeros(256 ** 3, dtype=torch.long)\n",
        "    for i, colormap in enumerate(VOC_COLORMAP):\n",
        "        colormap2label[\n",
        "            (colormap[0] * 256 + colormap[1]) * 256 + colormap[2]] = i\n",
        "    return colormap2label\n",
        "\n",
        "#@save\n",
        "def voc_label_indices(colormap, colormap2label):\n",
        "    \"\"\"Map any RGB values in VOC labels to their class indices.\"\"\"\n",
        "    colormap = colormap.permute(1, 2, 0).numpy().astype('int32')\n",
        "    idx = ((colormap[:, :, 0] * 256 + colormap[:, :, 1]) * 256\n",
        "           + colormap[:, :, 2])\n",
        "    return colormap2label[idx]"
      ]
    },
    {
      "cell_type": "markdown",
      "id": "1108f479",
      "metadata": {
        "origin_pos": 16,
        "id": "1108f479"
      },
      "source": [
        "[**For example**], in the first example image,\n",
        "the class index for the front part of the airplane is 1,\n",
        "while the background index is 0.\n"
      ]
    },
    {
      "cell_type": "code",
      "execution_count": 9,
      "id": "0bf724ab",
      "metadata": {
        "execution": {
          "iopub.execute_input": "2022-09-07T22:09:32.857686Z",
          "iopub.status.busy": "2022-09-07T22:09:32.857153Z",
          "iopub.status.idle": "2022-09-07T22:09:32.903785Z",
          "shell.execute_reply": "2022-09-07T22:09:32.902967Z"
        },
        "origin_pos": 17,
        "tab": [
          "pytorch"
        ],
        "id": "0bf724ab",
        "outputId": "6bcc1472-da28-47c4-c528-f9dfbd0323da",
        "colab": {
          "base_uri": "https://localhost:8080/"
        }
      },
      "outputs": [
        {
          "output_type": "execute_result",
          "data": {
            "text/plain": [
              "(tensor([[0, 0, 0, 0, 0, 0, 0, 0, 0, 1],\n",
              "         [0, 0, 0, 0, 0, 0, 0, 1, 1, 1],\n",
              "         [0, 0, 0, 0, 0, 0, 1, 1, 1, 1],\n",
              "         [0, 0, 0, 0, 0, 1, 1, 1, 1, 1],\n",
              "         [0, 0, 0, 0, 0, 1, 1, 1, 1, 1],\n",
              "         [0, 0, 0, 0, 1, 1, 1, 1, 1, 1],\n",
              "         [0, 0, 0, 0, 0, 1, 1, 1, 1, 1],\n",
              "         [0, 0, 0, 0, 0, 1, 1, 1, 1, 1],\n",
              "         [0, 0, 0, 0, 0, 0, 1, 1, 1, 1],\n",
              "         [0, 0, 0, 0, 0, 0, 0, 0, 1, 1]]), 'aeroplane')"
            ]
          },
          "metadata": {},
          "execution_count": 9
        }
      ],
      "source": [
        "y = voc_label_indices(train_labels[0], voc_colormap2label())\n",
        "y[105:115, 130:140], VOC_CLASSES[1]"
      ]
    },
    {
      "cell_type": "markdown",
      "id": "255e29da",
      "metadata": {
        "origin_pos": 18,
        "id": "255e29da"
      },
      "source": [
        "### Data Preprocessing\n",
        "\n",
        "In previous experiments\n",
        "such as in :numref:`sec_alexnet`--:numref:`sec_googlenet`,\n",
        "images are rescaled\n",
        "to fit the model's required input shape.\n",
        "However, in semantic segmentation,\n",
        "doing so\n",
        "requires rescaling the predicted pixel classes\n",
        "back to the original shape of the input image.\n",
        "Such rescaling may be inaccurate,\n",
        "especially for segmented regions with different classes. To avoid this issue,\n",
        "we crop the image to a *fixed* shape instead of rescaling. Specifically, [**using random cropping from image augmentation, we crop the same area of\n",
        "the input image and the label**].\n"
      ]
    },
    {
      "cell_type": "code",
      "execution_count": 10,
      "id": "a2281f18",
      "metadata": {
        "execution": {
          "iopub.execute_input": "2022-09-07T22:09:32.907425Z",
          "iopub.status.busy": "2022-09-07T22:09:32.906950Z",
          "iopub.status.idle": "2022-09-07T22:09:32.911872Z",
          "shell.execute_reply": "2022-09-07T22:09:32.911098Z"
        },
        "origin_pos": 20,
        "tab": [
          "pytorch"
        ],
        "id": "a2281f18"
      },
      "outputs": [],
      "source": [
        "#@save\n",
        "def voc_rand_crop(feature, label, height, width):\n",
        "    \"\"\"Randomly crop both feature and label images.\"\"\"\n",
        "    rect = torchvision.transforms.RandomCrop.get_params(\n",
        "        feature, (height, width))\n",
        "    feature = torchvision.transforms.functional.crop(feature, *rect)\n",
        "    label = torchvision.transforms.functional.crop(label, *rect)\n",
        "    return feature, label"
      ]
    },
    {
      "cell_type": "code",
      "execution_count": 11,
      "id": "1e7628dc",
      "metadata": {
        "execution": {
          "iopub.execute_input": "2022-09-07T22:09:32.915152Z",
          "iopub.status.busy": "2022-09-07T22:09:32.914618Z",
          "iopub.status.idle": "2022-09-07T22:09:33.332320Z",
          "shell.execute_reply": "2022-09-07T22:09:33.331506Z"
        },
        "origin_pos": 22,
        "tab": [
          "pytorch"
        ],
        "id": "1e7628dc",
        "outputId": "0a0396b4-ef25-4c20-bdab-fc9fca8fd1b9",
        "colab": {
          "base_uri": "https://localhost:8080/",
          "height": 171
        }
      },
      "outputs": [
        {
          "output_type": "display_data",
          "data": {
            "text/plain": [
              "<Figure size 540x216 with 10 Axes>"
            ],
            "image/png": "[encoded data removed]"
          },
          "metadata": {
            "needs_background": "light"
          }
        }
      ],
      "source": [
        "imgs = []\n",
        "for _ in range(n):\n",
        "    imgs += voc_rand_crop(train_features[0], train_labels[0], 200, 300)\n",
        "\n",
        "imgs = [img.permute(1, 2, 0) for img in imgs]\n",
        "d2l.show_images(imgs[::2] + imgs[1::2], 2, n);"
      ]
    },
    {
      "cell_type": "markdown",
      "id": "ba59ff94",
      "metadata": {
        "origin_pos": 23,
        "id": "ba59ff94"
      },
      "source": [
        "### [**Custom Semantic Segmentation Dataset Class**]\n",
        "\n",
        "We define a custom semantic segmentation dataset class `VOCSegDataset` by inheriting the `Dataset` class provided by high-level APIs.\n",
        "By implementing the `__getitem__` function,\n",
        "we can arbitrarily access the input image indexed as `idx` in the dataset and the class index of each pixel in this image.\n",
        "Since some images in the dataset\n",
        "have a smaller size\n",
        "than the output size of random cropping,\n",
        "these examples are filtered out\n",
        "by a custom `filter` function.\n",
        "In addition, we also\n",
        "define the `normalize_image` function to\n",
        "standardize the values of the three RGB channels of input images.\n"
      ]
    },
    {
      "cell_type": "code",
      "execution_count": 12,
      "id": "6a83be22",
      "metadata": {
        "execution": {
          "iopub.execute_input": "2022-09-07T22:09:33.336466Z",
          "iopub.status.busy": "2022-09-07T22:09:33.335572Z",
          "iopub.status.idle": "2022-09-07T22:09:33.344347Z",
          "shell.execute_reply": "2022-09-07T22:09:33.343582Z"
        },
        "origin_pos": 25,
        "tab": [
          "pytorch"
        ],
        "id": "6a83be22"
      },
      "outputs": [],
      "source": [
        "#@save\n",
        "class VOCSegDataset(torch.utils.data.Dataset):\n",
        "    \"\"\"A customized dataset to load the VOC dataset.\"\"\"\n",
        "\n",
        "    def __init__(self, is_train, crop_size, voc_dir):\n",
        "        self.transform = torchvision.transforms.Normalize(\n",
        "            mean=[0.485, 0.456, 0.406], std=[0.229, 0.224, 0.225])\n",
        "        self.crop_size = crop_size\n",
        "        features, labels = read_voc_images(voc_dir, is_train=is_train)\n",
        "        self.features = [self.normalize_image(feature)\n",
        "                         for feature in self.filter(features)]\n",
        "        self.labels = self.filter(labels)\n",
        "        self.colormap2label = voc_colormap2label()\n",
        "        print('read ' + str(len(self.features)) + ' examples')\n",
        "\n",
        "    def normalize_image(self, img):\n",
        "        return self.transform(img.float() / 255)\n",
        "\n",
        "    def filter(self, imgs):\n",
        "        return [img for img in imgs if (\n",
        "            img.shape[1] >= self.crop_size[0] and\n",
        "            img.shape[2] >= self.crop_size[1])]\n",
        "\n",
        "    def __getitem__(self, idx):\n",
        "        feature, label = voc_rand_crop(self.features[idx], self.labels[idx],\n",
        "                                       *self.crop_size)\n",
        "        return (feature, voc_label_indices(label, self.colormap2label))\n",
        "\n",
        "    def __len__(self):\n",
        "        return len(self.features)"
      ]
    },
    {
      "cell_type": "markdown",
      "id": "93bb184b",
      "metadata": {
        "origin_pos": 26,
        "id": "93bb184b"
      },
      "source": [
        "### [**Reading the Dataset**]\n",
        "\n",
        "We use the custom `VOCSegDatase`t class to\n",
        "create instances of the training set and test set, respectively.\n",
        "Suppose that\n",
        "we specify that the output shape of randomly cropped images is $320\\times 480$.\n",
        "Below we can view the number of examples\n",
        "that are retained in the training set and test set.\n"
      ]
    },
    {
      "cell_type": "code",
      "execution_count": 13,
      "id": "5df5f968",
      "metadata": {
        "execution": {
          "iopub.execute_input": "2022-09-07T22:09:33.347988Z",
          "iopub.status.busy": "2022-09-07T22:09:33.347219Z",
          "iopub.status.idle": "2022-09-07T22:09:46.087272Z",
          "shell.execute_reply": "2022-09-07T22:09:46.086139Z"
        },
        "origin_pos": 27,
        "tab": [
          "pytorch"
        ],
        "id": "5df5f968",
        "outputId": "e0f37262-f441-43af-c4f6-334f64ab50ff",
        "colab": {
          "base_uri": "https://localhost:8080/"
        }
      },
      "outputs": [
        {
          "output_type": "stream",
          "name": "stdout",
          "text": [
            "read 1114 examples\n",
            "read 1078 examples\n"
          ]
        }
      ],
      "source": [
        "crop_size = (320, 480)\n",
        "voc_train = VOCSegDataset(True, crop_size, voc_dir)\n",
        "voc_test = VOCSegDataset(False, crop_size, voc_dir)"
      ]
    },
    {
      "cell_type": "markdown",
      "id": "6c896f03",
      "metadata": {
        "origin_pos": 28,
        "id": "6c896f03"
      },
      "source": [
        "Setting the batch size to 64,\n",
        "we define the data iterator for the training set.\n",
        "Let's print the shape of the first minibatch.\n",
        "Different from in image classification or object detection, labels here are three-dimensional tensors.\n"
      ]
    },
    {
      "cell_type": "code",
      "execution_count": 14,
      "id": "d71ca620",
      "metadata": {
        "execution": {
          "iopub.execute_input": "2022-09-07T22:09:46.092052Z",
          "iopub.status.busy": "2022-09-07T22:09:46.091194Z",
          "iopub.status.idle": "2022-09-07T22:09:47.499895Z",
          "shell.execute_reply": "2022-09-07T22:09:47.498769Z"
        },
        "origin_pos": 30,
        "tab": [
          "pytorch"
        ],
        "id": "d71ca620",
        "outputId": "71d9ed41-9ef8-4854-f42b-ead021b38e31",
        "colab": {
          "base_uri": "https://localhost:8080/"
        }
      },
      "outputs": [
        {
          "output_type": "stream",
          "name": "stderr",
          "text": [
            "/usr/local/lib/python3.7/dist-packages/torch/utils/data/dataloader.py:566: UserWarning: This DataLoader will create 4 worker processes in total. Our suggested max number of worker in current system is 2, which is smaller than what this DataLoader is going to create. Please be aware that excessive worker creation might get DataLoader running slow or even freeze, lower the worker number to avoid potential slowness/freeze if necessary.\n",
            "  cpuset_checked))\n"
          ]
        },
        {
          "output_type": "stream",
          "name": "stdout",
          "text": [
            "torch.Size([64, 3, 320, 480])\n",
            "torch.Size([64, 320, 480])\n"
          ]
        }
      ],
      "source": [
        "batch_size = 64\n",
        "train_iter = torch.utils.data.DataLoader(voc_train, batch_size, shuffle=True,\n",
        "                                    drop_last=True,\n",
        "                                    num_workers=d2l.get_dataloader_workers())\n",
        "for X, Y in train_iter:\n",
        "    print(X.shape)\n",
        "    print(Y.shape)\n",
        "    break"
      ]
    },
    {
      "cell_type": "markdown",
      "id": "b15004ab",
      "metadata": {
        "origin_pos": 31,
        "id": "b15004ab"
      },
      "source": [
        "### [**Putting It All Together**]\n",
        "\n",
        "Finally, we define the following `load_data_voc` function\n",
        "to download and read the Pascal VOC2012 semantic segmentation dataset.\n",
        "It returns data iterators for both the training and test datasets.\n"
      ]
    },
    {
      "cell_type": "code",
      "execution_count": 15,
      "id": "b9c7942a",
      "metadata": {
        "execution": {
          "iopub.execute_input": "2022-09-07T22:09:47.503821Z",
          "iopub.status.busy": "2022-09-07T22:09:47.503530Z",
          "iopub.status.idle": "2022-09-07T22:09:47.509798Z",
          "shell.execute_reply": "2022-09-07T22:09:47.509005Z"
        },
        "origin_pos": 33,
        "tab": [
          "pytorch"
        ],
        "id": "b9c7942a"
      },
      "outputs": [],
      "source": [
        "#@save\n",
        "def load_data_voc(batch_size, crop_size):\n",
        "    \"\"\"Load the VOC semantic segmentation dataset.\"\"\"\n",
        "    voc_dir = d2l.download_extract('voc2012', os.path.join(\n",
        "        'VOCdevkit', 'VOC2012'))\n",
        "    num_workers = d2l.get_dataloader_workers()\n",
        "    train_iter = torch.utils.data.DataLoader(\n",
        "        VOCSegDataset(True, crop_size, voc_dir), batch_size,\n",
        "        shuffle=True, drop_last=True, num_workers=num_workers)\n",
        "    test_iter = torch.utils.data.DataLoader(\n",
        "        VOCSegDataset(False, crop_size, voc_dir), batch_size,\n",
        "        drop_last=True, num_workers=num_workers)\n",
        "    return train_iter, test_iter"
      ]
    },
    {
      "cell_type": "markdown",
      "id": "2e331454",
      "metadata": {
        "origin_pos": 34,
        "id": "2e331454"
      },
      "source": [
        "## Summary\n",
        "\n",
        "* Semantic segmentation recognizes and understands what are in an image in pixel level by dividing the image into regions belonging to different semantic classes.\n",
        "* One of the most important semantic segmentation dataset is Pascal VOC2012.\n",
        "* In semantic segmentation, since the input image and  label correspond one-to-one on the pixel, the input image is randomly cropped to a fixed shape rather than rescaled.\n",
        "\n",
        "\n",
        "## Exercises\n",
        "\n",
        "1. How can semantic segmentation be applied in autonomous vehicles and medical image diagnostics? Can you think of other applications?\n",
        "1. Recall the descriptions of data augmentation in :numref:`sec_image_augmentation`. Which of the image augmentation methods used in image classification would be infeasible to be applied in semantic segmentation?\n"
      ]
    },
    {
      "cell_type": "markdown",
      "id": "4193b36e",
      "metadata": {
        "origin_pos": 36,
        "tab": [
          "pytorch"
        ],
        "id": "4193b36e"
      },
      "source": [
        "[Discussions](https://discuss.d2l.ai/t/1480)\n"
      ]
    }
  ],
  "metadata": {
    "kernelspec": {
      "display_name": "Python 3",
      "name": "python3"
    },
    "language_info": {
      "name": "python"
    },
    "colab": {
      "provenance": []
    }
  },
  "nbformat": 4,
  "nbformat_minor": 5
}