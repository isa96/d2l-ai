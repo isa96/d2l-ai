{
  "cells": [
    {
      "cell_type": "markdown",
      "id": "053d4395",
      "metadata": {
        "id": "053d4395"
      },
      "source": [
        "The following additional libraries are needed to run this\n",
        "notebook. Note that running on Colab is experimental, please report a Github\n",
        "issue if you have any problem."
      ]
    },
    {
      "cell_type": "code",
      "execution_count": 1,
      "id": "16575ee5",
      "metadata": {
        "id": "16575ee5",
        "outputId": "e6326bec-b909-4e64-9e73-c9734b106aec",
        "colab": {
          "base_uri": "https://localhost:8080/"
        }
      },
      "outputs": [
        {
          "output_type": "stream",
          "name": "stdout",
          "text": [
            "Looking in indexes: https://pypi.org/simple, https://us-python.pkg.dev/colab-wheels/public/simple/\n",
            "Collecting d2l==1.0.0-alpha1.post0\n",
            "  Downloading d2l-1.0.0a1.post0-py3-none-any.whl (93 kB)\n",
            "\u001b[K     |████████████████████████████████| 93 kB 1.2 MB/s \n",
            "\u001b[?25hCollecting jupyter\n",
            "  Downloading jupyter-1.0.0-py2.py3-none-any.whl (2.7 kB)\n",
            "Requirement already satisfied: numpy in /usr/local/lib/python3.7/dist-packages (from d2l==1.0.0-alpha1.post0) (1.21.6)\n",
            "Requirement already satisfied: requests in /usr/local/lib/python3.7/dist-packages (from d2l==1.0.0-alpha1.post0) (2.23.0)\n",
            "Requirement already satisfied: pandas in /usr/local/lib/python3.7/dist-packages (from d2l==1.0.0-alpha1.post0) (1.3.5)\n",
            "Requirement already satisfied: matplotlib in /usr/local/lib/python3.7/dist-packages (from d2l==1.0.0-alpha1.post0) (3.2.2)\n",
            "Collecting matplotlib-inline\n",
            "  Downloading matplotlib_inline-0.1.6-py3-none-any.whl (9.4 kB)\n",
            "Requirement already satisfied: gym in /usr/local/lib/python3.7/dist-packages (from d2l==1.0.0-alpha1.post0) (0.25.2)\n",
            "Requirement already satisfied: importlib-metadata>=4.8.0 in /usr/local/lib/python3.7/dist-packages (from gym->d2l==1.0.0-alpha1.post0) (4.13.0)\n",
            "Requirement already satisfied: gym-notices>=0.0.4 in /usr/local/lib/python3.7/dist-packages (from gym->d2l==1.0.0-alpha1.post0) (0.0.8)\n",
            "Requirement already satisfied: cloudpickle>=1.2.0 in /usr/local/lib/python3.7/dist-packages (from gym->d2l==1.0.0-alpha1.post0) (1.5.0)\n",
            "Requirement already satisfied: zipp>=0.5 in /usr/local/lib/python3.7/dist-packages (from importlib-metadata>=4.8.0->gym->d2l==1.0.0-alpha1.post0) (3.9.0)\n",
            "Requirement already satisfied: typing-extensions>=3.6.4 in /usr/local/lib/python3.7/dist-packages (from importlib-metadata>=4.8.0->gym->d2l==1.0.0-alpha1.post0) (4.1.1)\n",
            "Requirement already satisfied: jupyter-console in /usr/local/lib/python3.7/dist-packages (from jupyter->d2l==1.0.0-alpha1.post0) (6.1.0)\n",
            "Requirement already satisfied: ipykernel in /usr/local/lib/python3.7/dist-packages (from jupyter->d2l==1.0.0-alpha1.post0) (5.3.4)\n",
            "Requirement already satisfied: nbconvert in /usr/local/lib/python3.7/dist-packages (from jupyter->d2l==1.0.0-alpha1.post0) (5.6.1)\n",
            "Requirement already satisfied: notebook in /usr/local/lib/python3.7/dist-packages (from jupyter->d2l==1.0.0-alpha1.post0) (5.5.0)\n",
            "Requirement already satisfied: ipywidgets in /usr/local/lib/python3.7/dist-packages (from jupyter->d2l==1.0.0-alpha1.post0) (7.7.1)\n",
            "Collecting qtconsole\n",
            "  Downloading qtconsole-5.3.2-py3-none-any.whl (120 kB)\n",
            "\u001b[K     |████████████████████████████████| 120 kB 17.6 MB/s \n",
            "\u001b[?25hRequirement already satisfied: jupyter-client in /usr/local/lib/python3.7/dist-packages (from ipykernel->jupyter->d2l==1.0.0-alpha1.post0) (6.1.12)\n",
            "Requirement already satisfied: ipython>=5.0.0 in /usr/local/lib/python3.7/dist-packages (from ipykernel->jupyter->d2l==1.0.0-alpha1.post0) (7.9.0)\n",
            "Requirement already satisfied: traitlets>=4.1.0 in /usr/local/lib/python3.7/dist-packages (from ipykernel->jupyter->d2l==1.0.0-alpha1.post0) (5.1.1)\n",
            "Requirement already satisfied: tornado>=4.2 in /usr/local/lib/python3.7/dist-packages (from ipykernel->jupyter->d2l==1.0.0-alpha1.post0) (5.1.1)\n",
            "Requirement already satisfied: decorator in /usr/local/lib/python3.7/dist-packages (from ipython>=5.0.0->ipykernel->jupyter->d2l==1.0.0-alpha1.post0) (4.4.2)\n",
            "Collecting jedi>=0.10\n",
            "  Downloading jedi-0.18.1-py2.py3-none-any.whl (1.6 MB)\n",
            "\u001b[K     |████████████████████████████████| 1.6 MB 64.0 MB/s \n",
            "\u001b[?25hRequirement already satisfied: pexpect in /usr/local/lib/python3.7/dist-packages (from ipython>=5.0.0->ipykernel->jupyter->d2l==1.0.0-alpha1.post0) (4.8.0)\n",
            "Requirement already satisfied: pygments in /usr/local/lib/python3.7/dist-packages (from ipython>=5.0.0->ipykernel->jupyter->d2l==1.0.0-alpha1.post0) (2.6.1)\n",
            "Requirement already satisfied: backcall in /usr/local/lib/python3.7/dist-packages (from ipython>=5.0.0->ipykernel->jupyter->d2l==1.0.0-alpha1.post0) (0.2.0)\n",
            "Requirement already satisfied: setuptools>=18.5 in /usr/local/lib/python3.7/dist-packages (from ipython>=5.0.0->ipykernel->jupyter->d2l==1.0.0-alpha1.post0) (57.4.0)\n",
            "Requirement already satisfied: pickleshare in /usr/local/lib/python3.7/dist-packages (from ipython>=5.0.0->ipykernel->jupyter->d2l==1.0.0-alpha1.post0) (0.7.5)\n",
            "Requirement already satisfied: prompt-toolkit<2.1.0,>=2.0.0 in /usr/local/lib/python3.7/dist-packages (from ipython>=5.0.0->ipykernel->jupyter->d2l==1.0.0-alpha1.post0) (2.0.10)\n",
            "Requirement already satisfied: parso<0.9.0,>=0.8.0 in /usr/local/lib/python3.7/dist-packages (from jedi>=0.10->ipython>=5.0.0->ipykernel->jupyter->d2l==1.0.0-alpha1.post0) (0.8.3)\n",
            "Requirement already satisfied: six>=1.9.0 in /usr/local/lib/python3.7/dist-packages (from prompt-toolkit<2.1.0,>=2.0.0->ipython>=5.0.0->ipykernel->jupyter->d2l==1.0.0-alpha1.post0) (1.15.0)\n",
            "Requirement already satisfied: wcwidth in /usr/local/lib/python3.7/dist-packages (from prompt-toolkit<2.1.0,>=2.0.0->ipython>=5.0.0->ipykernel->jupyter->d2l==1.0.0-alpha1.post0) (0.2.5)\n",
            "Requirement already satisfied: widgetsnbextension~=3.6.0 in /usr/local/lib/python3.7/dist-packages (from ipywidgets->jupyter->d2l==1.0.0-alpha1.post0) (3.6.1)\n",
            "Requirement already satisfied: ipython-genutils~=0.2.0 in /usr/local/lib/python3.7/dist-packages (from ipywidgets->jupyter->d2l==1.0.0-alpha1.post0) (0.2.0)\n",
            "Requirement already satisfied: jupyterlab-widgets>=1.0.0 in /usr/local/lib/python3.7/dist-packages (from ipywidgets->jupyter->d2l==1.0.0-alpha1.post0) (3.0.3)\n",
            "Requirement already satisfied: terminado>=0.8.1 in /usr/local/lib/python3.7/dist-packages (from notebook->jupyter->d2l==1.0.0-alpha1.post0) (0.13.3)\n",
            "Requirement already satisfied: nbformat in /usr/local/lib/python3.7/dist-packages (from notebook->jupyter->d2l==1.0.0-alpha1.post0) (5.7.0)\n",
            "Requirement already satisfied: jupyter-core>=4.4.0 in /usr/local/lib/python3.7/dist-packages (from notebook->jupyter->d2l==1.0.0-alpha1.post0) (4.11.1)\n",
            "Requirement already satisfied: pyzmq>=17 in /usr/local/lib/python3.7/dist-packages (from notebook->jupyter->d2l==1.0.0-alpha1.post0) (23.2.1)\n",
            "Requirement already satisfied: jinja2 in /usr/local/lib/python3.7/dist-packages (from notebook->jupyter->d2l==1.0.0-alpha1.post0) (2.11.3)\n",
            "Requirement already satisfied: Send2Trash in /usr/local/lib/python3.7/dist-packages (from notebook->jupyter->d2l==1.0.0-alpha1.post0) (1.8.0)\n",
            "Requirement already satisfied: python-dateutil>=2.1 in /usr/local/lib/python3.7/dist-packages (from jupyter-client->ipykernel->jupyter->d2l==1.0.0-alpha1.post0) (2.8.2)\n",
            "Requirement already satisfied: ptyprocess in /usr/local/lib/python3.7/dist-packages (from terminado>=0.8.1->notebook->jupyter->d2l==1.0.0-alpha1.post0) (0.7.0)\n",
            "Requirement already satisfied: MarkupSafe>=0.23 in /usr/local/lib/python3.7/dist-packages (from jinja2->notebook->jupyter->d2l==1.0.0-alpha1.post0) (2.0.1)\n",
            "Requirement already satisfied: cycler>=0.10 in /usr/local/lib/python3.7/dist-packages (from matplotlib->d2l==1.0.0-alpha1.post0) (0.11.0)\n",
            "Requirement already satisfied: kiwisolver>=1.0.1 in /usr/local/lib/python3.7/dist-packages (from matplotlib->d2l==1.0.0-alpha1.post0) (1.4.4)\n",
            "Requirement already satisfied: pyparsing!=2.0.4,!=2.1.2,!=2.1.6,>=2.0.1 in /usr/local/lib/python3.7/dist-packages (from matplotlib->d2l==1.0.0-alpha1.post0) (3.0.9)\n",
            "Requirement already satisfied: entrypoints>=0.2.2 in /usr/local/lib/python3.7/dist-packages (from nbconvert->jupyter->d2l==1.0.0-alpha1.post0) (0.4)\n",
            "Requirement already satisfied: defusedxml in /usr/local/lib/python3.7/dist-packages (from nbconvert->jupyter->d2l==1.0.0-alpha1.post0) (0.7.1)\n",
            "Requirement already satisfied: pandocfilters>=1.4.1 in /usr/local/lib/python3.7/dist-packages (from nbconvert->jupyter->d2l==1.0.0-alpha1.post0) (1.5.0)\n",
            "Requirement already satisfied: mistune<2,>=0.8.1 in /usr/local/lib/python3.7/dist-packages (from nbconvert->jupyter->d2l==1.0.0-alpha1.post0) (0.8.4)\n",
            "Requirement already satisfied: bleach in /usr/local/lib/python3.7/dist-packages (from nbconvert->jupyter->d2l==1.0.0-alpha1.post0) (5.0.1)\n",
            "Requirement already satisfied: testpath in /usr/local/lib/python3.7/dist-packages (from nbconvert->jupyter->d2l==1.0.0-alpha1.post0) (0.6.0)\n",
            "Requirement already satisfied: jsonschema>=2.6 in /usr/local/lib/python3.7/dist-packages (from nbformat->notebook->jupyter->d2l==1.0.0-alpha1.post0) (4.3.3)\n",
            "Requirement already satisfied: fastjsonschema in /usr/local/lib/python3.7/dist-packages (from nbformat->notebook->jupyter->d2l==1.0.0-alpha1.post0) (2.16.2)\n",
            "Requirement already satisfied: importlib-resources>=1.4.0 in /usr/local/lib/python3.7/dist-packages (from jsonschema>=2.6->nbformat->notebook->jupyter->d2l==1.0.0-alpha1.post0) (5.10.0)\n",
            "Requirement already satisfied: pyrsistent!=0.17.0,!=0.17.1,!=0.17.2,>=0.14.0 in /usr/local/lib/python3.7/dist-packages (from jsonschema>=2.6->nbformat->notebook->jupyter->d2l==1.0.0-alpha1.post0) (0.18.1)\n",
            "Requirement already satisfied: attrs>=17.4.0 in /usr/local/lib/python3.7/dist-packages (from jsonschema>=2.6->nbformat->notebook->jupyter->d2l==1.0.0-alpha1.post0) (22.1.0)\n",
            "Requirement already satisfied: webencodings in /usr/local/lib/python3.7/dist-packages (from bleach->nbconvert->jupyter->d2l==1.0.0-alpha1.post0) (0.5.1)\n",
            "Requirement already satisfied: pytz>=2017.3 in /usr/local/lib/python3.7/dist-packages (from pandas->d2l==1.0.0-alpha1.post0) (2022.4)\n",
            "Collecting qtpy>=2.0.1\n",
            "  Downloading QtPy-2.2.1-py3-none-any.whl (82 kB)\n",
            "\u001b[K     |████████████████████████████████| 82 kB 958 kB/s \n",
            "\u001b[?25hRequirement already satisfied: packaging in /usr/local/lib/python3.7/dist-packages (from qtpy>=2.0.1->qtconsole->jupyter->d2l==1.0.0-alpha1.post0) (21.3)\n",
            "Requirement already satisfied: urllib3!=1.25.0,!=1.25.1,<1.26,>=1.21.1 in /usr/local/lib/python3.7/dist-packages (from requests->d2l==1.0.0-alpha1.post0) (1.24.3)\n",
            "Requirement already satisfied: certifi>=2017.4.17 in /usr/local/lib/python3.7/dist-packages (from requests->d2l==1.0.0-alpha1.post0) (2022.9.24)\n",
            "Requirement already satisfied: idna<3,>=2.5 in /usr/local/lib/python3.7/dist-packages (from requests->d2l==1.0.0-alpha1.post0) (2.10)\n",
            "Requirement already satisfied: chardet<4,>=3.0.2 in /usr/local/lib/python3.7/dist-packages (from requests->d2l==1.0.0-alpha1.post0) (3.0.4)\n",
            "Installing collected packages: jedi, qtpy, qtconsole, matplotlib-inline, jupyter, d2l\n",
            "Successfully installed d2l-1.0.0a1.post0 jedi-0.18.1 jupyter-1.0.0 matplotlib-inline-0.1.6 qtconsole-5.3.2 qtpy-2.2.1\n"
          ]
        }
      ],
      "source": [
        "!pip install d2l==1.0.0-alpha1.post0\n"
      ]
    },
    {
      "cell_type": "markdown",
      "id": "29650c6a",
      "metadata": {
        "origin_pos": 1,
        "id": "29650c6a"
      },
      "source": [
        "# Networks Using Blocks (VGG)\n",
        ":label:`sec_vgg`\n",
        "\n",
        "While AlexNet offered empirical evidence that deep CNNs\n",
        "can achieve good results, it did not provide a general template\n",
        "to guide subsequent researchers in designing new networks.\n",
        "In the following sections, we will introduce several heuristic concepts\n",
        "commonly used to design deep networks.\n",
        "\n",
        "Progress in this field mirrors that of VLSI (very large scale integration) \n",
        "in chip design\n",
        "where engineers moved from placing transistors\n",
        "to logical elements to logic blocks :cite:`Mead.1980`.\n",
        "Similarly, the design of neural network architectures\n",
        "has grown progressively more abstract,\n",
        "with researchers moving from thinking in terms of\n",
        "individual neurons to whole layers,\n",
        "and now to blocks, repeating patterns of layers. A decade later, this has now\n",
        "progressed to researchers using entire trained models to repurpose them for different, \n",
        "albeit related, tasks. Such large pretrained models are typically called \n",
        "*foundation models* :cite:`bommasani2021opportunities`. \n",
        "\n",
        "Back to network design. The idea of using blocks first emerged from the\n",
        "Visual Geometry Group (VGG) at Oxford University,\n",
        "in their eponymously-named *VGG* network :cite:`Simonyan.Zisserman.2014`.\n",
        "It is easy to implement these repeated structures in code\n",
        "with any modern deep learning framework by using loops and subroutines.\n",
        "\n",
        "## (**VGG Blocks**)\n",
        ":label:`subsec_vgg-blocks`\n",
        "\n",
        "The basic building block of CNNs\n",
        "is a sequence of the following:\n",
        "(i) a convolutional layer\n",
        "with padding to maintain the resolution,\n",
        "(ii) a nonlinearity such as a ReLU,\n",
        "(iii) a pooling layer such\n",
        "as max-pooling to reduce the resolution. One of the problems with \n",
        "this approach is that the spatial resolution decreases quite rapidly. In particular, \n",
        "this imposes a hard limit of $\\log_2 d$ convolutional layers on the network before all \n",
        "dimensions ($d$) are used up. For instance, in the case of ImageNet, it would be impossible to have \n",
        "more than 8 convolutional layers in this way. \n",
        "\n",
        "The key idea of :citet:`Simonyan.Zisserman.2014` was to use *multiple* convolutions in between downsampling\n",
        "via max-pooling in the form of a block. They were primarily interested in whether deep or \n",
        "wide networks perform better. For instance, the successive application of two $3 \\times 3$ convolutions\n",
        "touches the same pixels as a single $5 \\times 5$ convolution does. At the same time, the latter uses approximately \n",
        "as many parameters ($25 \\cdot c^2$) as three $3 \\times 3$ convolutions do ($3 \\cdot 9 \\cdot c^2$). \n",
        "In a rather detailed analysis they showed that deep and narrow networks significantly outperform their shallow counterparts. This set deep learning on a quest for ever deeper networks with over 100 layers for typical applications.\n",
        "Stacking $3 \\times 3$ convolutions\n",
        "has become a gold standard in later deep networks (a design decision only to be revisited recently by \n",
        ":citet:`liu2022convnet`). Consequently, fast implementations for small convolutions have become a staple on GPUs :cite:`lavin2016fast`. \n",
        "\n",
        "Back to VGG: a VGG block consists of a *sequence* of convolutions with $3\\times3$ kernels with padding of 1 \n",
        "(keeping height and width) followed by a $2 \\times 2$ max-pooling layer with stride of 2\n",
        "(halving height and width after each block).\n",
        "In the code below, we define a function called `vgg_block`\n",
        "to implement one VGG block.\n",
        "\n",
        "The function below takes two arguments,\n",
        "corresponding to the number of convolutional layers `num_convs`\n",
        "and the number of output channels `num_channels`.\n"
      ]
    },
    {
      "cell_type": "code",
      "execution_count": 2,
      "id": "3832ce2c",
      "metadata": {
        "attributes": {
          "classes": [],
          "id": "",
          "n": "3"
        },
        "execution": {
          "iopub.execute_input": "2022-09-07T22:36:28.626004Z",
          "iopub.status.busy": "2022-09-07T22:36:28.625543Z",
          "iopub.status.idle": "2022-09-07T22:36:30.639231Z",
          "shell.execute_reply": "2022-09-07T22:36:30.638370Z"
        },
        "origin_pos": 3,
        "tab": [
          "pytorch"
        ],
        "id": "3832ce2c"
      },
      "outputs": [],
      "source": [
        "import torch\n",
        "from torch import nn\n",
        "from d2l import torch as d2l\n",
        "\n",
        "\n",
        "def vgg_block(num_convs, out_channels):\n",
        "    layers = []\n",
        "    for _ in range(num_convs):\n",
        "        layers.append(nn.LazyConv2d(out_channels, kernel_size=3, padding=1))\n",
        "        layers.append(nn.ReLU())\n",
        "    layers.append(nn.MaxPool2d(kernel_size=2,stride=2))\n",
        "    return nn.Sequential(*layers)"
      ]
    },
    {
      "cell_type": "markdown",
      "id": "14401dad",
      "metadata": {
        "origin_pos": 5,
        "id": "14401dad"
      },
      "source": [
        "## [**VGG Network**]\n",
        ":label:`subsec_vgg-network`\n",
        "\n",
        "Like AlexNet and LeNet, \n",
        "the VGG Network can be partitioned into two parts:\n",
        "the first consisting mostly of convolutional and pooling layers\n",
        "and the second consisting of fully connected layers that are identical to those in AlexNet. \n",
        "The key difference is \n",
        "that the convolutional layers are grouped in nonlinear transformations that \n",
        "leave the dimensonality unchanged, followed by a resolution-reduction step, as \n",
        "depicted in :numref:`fig_vgg`. \n",
        "\n",
        "![From AlexNet to VGG. The key difference is that VGG consists of blocks of layers, whereas AlexNet's layers are all designed individually.](http://d2l.ai/_images/vgg.svg)\n",
        ":width:`400px`\n",
        ":label:`fig_vgg`\n",
        "\n",
        "The convolutional part of the network connects several VGG blocks from :numref:`fig_vgg` (also defined in the `vgg_block` function)\n",
        "in succession. This grouping of convolutions is a pattern that has \n",
        "remained almost unchanged over the past decade, although the specific choice of \n",
        "operations has undergone considerable modifications. \n",
        "The variable `conv_arch` consists of a list of tuples (one per block),\n",
        "where each contains two values: the number of convolutional layers\n",
        "and the number of output channels,\n",
        "which are precisely the arguments required to call\n",
        "the `vgg_block` function. As such, VGG defines a *family* of networks rather than just \n",
        "a specific manifestation. To build a specific network we simply iterate over `arch` to compose the blocks.\n"
      ]
    },
    {
      "cell_type": "code",
      "execution_count": 3,
      "id": "948afbd6",
      "metadata": {
        "attributes": {
          "classes": [],
          "id": "",
          "n": "5"
        },
        "execution": {
          "iopub.execute_input": "2022-09-07T22:36:30.645297Z",
          "iopub.status.busy": "2022-09-07T22:36:30.644912Z",
          "iopub.status.idle": "2022-09-07T22:36:30.651427Z",
          "shell.execute_reply": "2022-09-07T22:36:30.650458Z"
        },
        "origin_pos": 6,
        "tab": [
          "pytorch"
        ],
        "id": "948afbd6"
      },
      "outputs": [],
      "source": [
        "class VGG(d2l.Classifier):\n",
        "    def __init__(self, arch, lr=0.1, num_classes=10):\n",
        "        super().__init__()\n",
        "        self.save_hyperparameters()\n",
        "        conv_blks = []\n",
        "        for (num_convs, out_channels) in arch:\n",
        "            conv_blks.append(vgg_block(num_convs, out_channels))\n",
        "        self.net = nn.Sequential(\n",
        "            *conv_blks, nn.Flatten(),\n",
        "            nn.LazyLinear(4096), nn.ReLU(), nn.Dropout(0.5),\n",
        "            nn.LazyLinear(4096), nn.ReLU(), nn.Dropout(0.5),\n",
        "            nn.LazyLinear(num_classes))\n",
        "        self.net.apply(d2l.init_cnn)"
      ]
    },
    {
      "cell_type": "markdown",
      "id": "33f203bc",
      "metadata": {
        "origin_pos": 7,
        "id": "33f203bc"
      },
      "source": [
        "The original VGG network had 5 convolutional blocks,\n",
        "among which the first two have one convolutional layer each\n",
        "and the latter three contain two convolutional layers each.\n",
        "The first block has 64 output channels\n",
        "and each subsequent block doubles the number of output channels,\n",
        "until that number reaches 512.\n",
        "Since this network uses 8 convolutional layers\n",
        "and 3 fully connected layers, it is often called VGG-11.\n"
      ]
    },
    {
      "cell_type": "code",
      "execution_count": 4,
      "id": "0a483d19",
      "metadata": {
        "attributes": {
          "classes": [],
          "id": "",
          "n": "6"
        },
        "execution": {
          "iopub.execute_input": "2022-09-07T22:36:30.655891Z",
          "iopub.status.busy": "2022-09-07T22:36:30.655605Z",
          "iopub.status.idle": "2022-09-07T22:36:32.024277Z",
          "shell.execute_reply": "2022-09-07T22:36:32.023078Z"
        },
        "origin_pos": 8,
        "tab": [
          "pytorch"
        ],
        "id": "0a483d19",
        "outputId": "f82d42fb-f2de-4f77-ef7e-90a07b739e6b",
        "colab": {
          "base_uri": "https://localhost:8080/"
        }
      },
      "outputs": [
        {
          "output_type": "stream",
          "name": "stderr",
          "text": [
            "/usr/local/lib/python3.7/dist-packages/torch/nn/modules/lazy.py:178: UserWarning: Lazy modules are a new feature under heavy development so changes to the API or functionality can happen at any moment.\n",
            "  warnings.warn('Lazy modules are a new feature under heavy development '\n"
          ]
        },
        {
          "output_type": "stream",
          "name": "stdout",
          "text": [
            "Sequential output shape:\t torch.Size([1, 64, 112, 112])\n",
            "Sequential output shape:\t torch.Size([1, 128, 56, 56])\n",
            "Sequential output shape:\t torch.Size([1, 256, 28, 28])\n",
            "Sequential output shape:\t torch.Size([1, 512, 14, 14])\n",
            "Sequential output shape:\t torch.Size([1, 512, 7, 7])\n",
            "Flatten output shape:\t torch.Size([1, 25088])\n",
            "Linear output shape:\t torch.Size([1, 4096])\n",
            "ReLU output shape:\t torch.Size([1, 4096])\n",
            "Dropout output shape:\t torch.Size([1, 4096])\n",
            "Linear output shape:\t torch.Size([1, 4096])\n",
            "ReLU output shape:\t torch.Size([1, 4096])\n",
            "Dropout output shape:\t torch.Size([1, 4096])\n",
            "Linear output shape:\t torch.Size([1, 10])\n"
          ]
        }
      ],
      "source": [
        "VGG(arch=((1, 64), (1, 128), (2, 256), (2, 512), (2, 512))).layer_summary(\n",
        "    (1, 1, 224, 224))"
      ]
    },
    {
      "cell_type": "markdown",
      "id": "650944b1",
      "metadata": {
        "origin_pos": 10,
        "id": "650944b1"
      },
      "source": [
        "As you can see, we halve height and width at each block,\n",
        "finally reaching a height and width of 7\n",
        "before flattening the representations\n",
        "for processing by the fully connected part of the network. \n",
        ":citet:`Simonyan.Zisserman.2014` described several other variants of VGG. \n",
        "In fact, it has become the norm to propose *families* of networks with \n",
        "different speed-accuracy trade-off when introducing a new architecture. \n",
        "\n",
        "## Training\n",
        "\n",
        "[**Since VGG-11 is computationally more demanding than AlexNet\n",
        "we construct a network with a smaller number of channels.**]\n",
        "This is more than sufficient for training on Fashion-MNIST.\n",
        "The [**model training**] process is similar to that of AlexNet in :numref:`sec_alexnet`. \n",
        "Again observe the close match between validation and training loss, \n",
        "suggesting only a small amount of overfitting.\n"
      ]
    },
    {
      "cell_type": "code",
      "execution_count": 6,
      "id": "c8d66984",
      "metadata": {
        "attributes": {
          "classes": [],
          "id": "",
          "n": "8"
        },
        "execution": {
          "iopub.execute_input": "2022-09-07T22:36:32.028331Z",
          "iopub.status.busy": "2022-09-07T22:36:32.027434Z",
          "iopub.status.idle": "2022-09-07T22:41:09.320066Z",
          "shell.execute_reply": "2022-09-07T22:41:09.319164Z"
        },
        "origin_pos": 11,
        "tab": [
          "pytorch"
        ],
        "id": "c8d66984",
        "outputId": "219f0531-8eb7-4833-a3db-a6c8b0d4ce19",
        "colab": {
          "base_uri": "https://localhost:8080/",
          "height": 262
        }
      },
      "outputs": [
        {
          "output_type": "display_data",
          "data": {
            "text/plain": [
              "<Figure size 252x180 with 1 Axes>"
            ],
            "image/svg+xml": "<?xml version=\"1.0\" encoding=\"utf-8\" standalone=\"no\"?>\n<!DOCTYPE svg PUBLIC \"-//W3C//DTD SVG 1.1//EN\"\n  \"http://www.w3.org/Graphics/SVG/1.1/DTD/svg11.dtd\">\n<!-- Created with matplotlib (https://matplotlib.org/) -->\n<svg height=\"180.65625pt\" version=\"1.1\" viewBox=\"0 0 238.965625 180.65625\" width=\"238.965625pt\" xmlns=\"http://www.w3.org/2000/svg\" xmlns:xlink=\"http://www.w3.org/1999/xlink\">\n <defs>\n  <style type=\"text/css\">\n*{stroke-linecap:butt;stroke-linejoin:round;}\n  </style>\n </defs>\n <g id=\"figure_1\">\n  <g id=\"patch_1\">\n   <path d=\"M 0 180.65625 \nL 238.965625 180.65625 \nL 238.965625 0 \nL 0 0 \nz\n\" style=\"fill:none;\"/>\n  </g>\n  <g id=\"axes_1\">\n   <g id=\"patch_2\">\n    <path d=\"M 30.103125 143.1 \nL 225.403125 143.1 \nL 225.403125 7.2 \nL 30.103125 7.2 \nz\n\" style=\"fill:#ffffff;\"/>\n   </g>\n   <g id=\"matplotlib.axis_1\">\n    <g id=\"xtick_1\">\n     <g id=\"line2d_1\">\n      <defs>\n       <path d=\"M 0 0 \nL 0 3.5 \n\" id=\"m07534b6ce5\" style=\"stroke:#000000;stroke-width:0.8;\"/>\n      </defs>\n      <g>\n       <use style=\"stroke:#000000;stroke-width:0.8;\" x=\"30.103125\" xlink:href=\"#m07534b6ce5\" y=\"143.1\"/>\n      </g>\n     </g>\n     <g id=\"text_1\">\n      <!-- 0 -->\n      <defs>\n       <path d=\"M 31.78125 66.40625 \nQ 24.171875 66.40625 20.328125 58.90625 \nQ 16.5 51.421875 16.5 36.375 \nQ 16.5 21.390625 20.328125 13.890625 \nQ 24.171875 6.390625 31.78125 6.390625 \nQ 39.453125 6.390625 43.28125 13.890625 \nQ 47.125 21.390625 47.125 36.375 \nQ 47.125 51.421875 43.28125 58.90625 \nQ 39.453125 66.40625 31.78125 66.40625 \nz\nM 31.78125 74.21875 \nQ 44.046875 74.21875 50.515625 64.515625 \nQ 56.984375 54.828125 56.984375 36.375 \nQ 56.984375 17.96875 50.515625 8.265625 \nQ 44.046875 -1.421875 31.78125 -1.421875 \nQ 19.53125 -1.421875 13.0625 8.265625 \nQ 6.59375 17.96875 6.59375 36.375 \nQ 6.59375 54.828125 13.0625 64.515625 \nQ 19.53125 74.21875 31.78125 74.21875 \nz\n\" id=\"DejaVuSans-48\"/>\n      </defs>\n      <g transform=\"translate(26.921875 157.698438)scale(0.1 -0.1)\">\n       <use xlink:href=\"#DejaVuSans-48\"/>\n      </g>\n     </g>\n    </g>\n    <g id=\"xtick_2\">\n     <g id=\"line2d_2\">\n      <g>\n       <use style=\"stroke:#000000;stroke-width:0.8;\" x=\"69.163125\" xlink:href=\"#m07534b6ce5\" y=\"143.1\"/>\n      </g>\n     </g>\n     <g id=\"text_2\">\n      <!-- 2 -->\n      <defs>\n       <path d=\"M 19.1875 8.296875 \nL 53.609375 8.296875 \nL 53.609375 0 \nL 7.328125 0 \nL 7.328125 8.296875 \nQ 12.9375 14.109375 22.625 23.890625 \nQ 32.328125 33.6875 34.8125 36.53125 \nQ 39.546875 41.84375 41.421875 45.53125 \nQ 43.3125 49.21875 43.3125 52.78125 \nQ 43.3125 58.59375 39.234375 62.25 \nQ 35.15625 65.921875 28.609375 65.921875 \nQ 23.96875 65.921875 18.8125 64.3125 \nQ 13.671875 62.703125 7.8125 59.421875 \nL 7.8125 69.390625 \nQ 13.765625 71.78125 18.9375 73 \nQ 24.125 74.21875 28.421875 74.21875 \nQ 39.75 74.21875 46.484375 68.546875 \nQ 53.21875 62.890625 53.21875 53.421875 \nQ 53.21875 48.921875 51.53125 44.890625 \nQ 49.859375 40.875 45.40625 35.40625 \nQ 44.1875 33.984375 37.640625 27.21875 \nQ 31.109375 20.453125 19.1875 8.296875 \nz\n\" id=\"DejaVuSans-50\"/>\n      </defs>\n      <g transform=\"translate(65.981875 157.698438)scale(0.1 -0.1)\">\n       <use xlink:href=\"#DejaVuSans-50\"/>\n      </g>\n     </g>\n    </g>\n    <g id=\"xtick_3\">\n     <g id=\"line2d_3\">\n      <g>\n       <use style=\"stroke:#000000;stroke-width:0.8;\" x=\"108.223125\" xlink:href=\"#m07534b6ce5\" y=\"143.1\"/>\n      </g>\n     </g>\n     <g id=\"text_3\">\n      <!-- 4 -->\n      <defs>\n       <path d=\"M 37.796875 64.3125 \nL 12.890625 25.390625 \nL 37.796875 25.390625 \nz\nM 35.203125 72.90625 \nL 47.609375 72.90625 \nL 47.609375 25.390625 \nL 58.015625 25.390625 \nL 58.015625 17.1875 \nL 47.609375 17.1875 \nL 47.609375 0 \nL 37.796875 0 \nL 37.796875 17.1875 \nL 4.890625 17.1875 \nL 4.890625 26.703125 \nz\n\" id=\"DejaVuSans-52\"/>\n      </defs>\n      <g transform=\"translate(105.041875 157.698438)scale(0.1 -0.1)\">\n       <use xlink:href=\"#DejaVuSans-52\"/>\n      </g>\n     </g>\n    </g>\n    <g id=\"xtick_4\">\n     <g id=\"line2d_4\">\n      <g>\n       <use style=\"stroke:#000000;stroke-width:0.8;\" x=\"147.283125\" xlink:href=\"#m07534b6ce5\" y=\"143.1\"/>\n      </g>\n     </g>\n     <g id=\"text_4\">\n      <!-- 6 -->\n      <defs>\n       <path d=\"M 33.015625 40.375 \nQ 26.375 40.375 22.484375 35.828125 \nQ 18.609375 31.296875 18.609375 23.390625 \nQ 18.609375 15.53125 22.484375 10.953125 \nQ 26.375 6.390625 33.015625 6.390625 \nQ 39.65625 6.390625 43.53125 10.953125 \nQ 47.40625 15.53125 47.40625 23.390625 \nQ 47.40625 31.296875 43.53125 35.828125 \nQ 39.65625 40.375 33.015625 40.375 \nz\nM 52.59375 71.296875 \nL 52.59375 62.3125 \nQ 48.875 64.0625 45.09375 64.984375 \nQ 41.3125 65.921875 37.59375 65.921875 \nQ 27.828125 65.921875 22.671875 59.328125 \nQ 17.53125 52.734375 16.796875 39.40625 \nQ 19.671875 43.65625 24.015625 45.921875 \nQ 28.375 48.1875 33.59375 48.1875 \nQ 44.578125 48.1875 50.953125 41.515625 \nQ 57.328125 34.859375 57.328125 23.390625 \nQ 57.328125 12.15625 50.6875 5.359375 \nQ 44.046875 -1.421875 33.015625 -1.421875 \nQ 20.359375 -1.421875 13.671875 8.265625 \nQ 6.984375 17.96875 6.984375 36.375 \nQ 6.984375 53.65625 15.1875 63.9375 \nQ 23.390625 74.21875 37.203125 74.21875 \nQ 40.921875 74.21875 44.703125 73.484375 \nQ 48.484375 72.75 52.59375 71.296875 \nz\n\" id=\"DejaVuSans-54\"/>\n      </defs>\n      <g transform=\"translate(144.101875 157.698438)scale(0.1 -0.1)\">\n       <use xlink:href=\"#DejaVuSans-54\"/>\n      </g>\n     </g>\n    </g>\n    <g id=\"xtick_5\">\n     <g id=\"line2d_5\">\n      <g>\n       <use style=\"stroke:#000000;stroke-width:0.8;\" x=\"186.343125\" xlink:href=\"#m07534b6ce5\" y=\"143.1\"/>\n      </g>\n     </g>\n     <g id=\"text_5\">\n      <!-- 8 -->\n      <defs>\n       <path d=\"M 31.78125 34.625 \nQ 24.75 34.625 20.71875 30.859375 \nQ 16.703125 27.09375 16.703125 20.515625 \nQ 16.703125 13.921875 20.71875 10.15625 \nQ 24.75 6.390625 31.78125 6.390625 \nQ 38.8125 6.390625 42.859375 10.171875 \nQ 46.921875 13.96875 46.921875 20.515625 \nQ 46.921875 27.09375 42.890625 30.859375 \nQ 38.875 34.625 31.78125 34.625 \nz\nM 21.921875 38.8125 \nQ 15.578125 40.375 12.03125 44.71875 \nQ 8.5 49.078125 8.5 55.328125 \nQ 8.5 64.0625 14.71875 69.140625 \nQ 20.953125 74.21875 31.78125 74.21875 \nQ 42.671875 74.21875 48.875 69.140625 \nQ 55.078125 64.0625 55.078125 55.328125 \nQ 55.078125 49.078125 51.53125 44.71875 \nQ 48 40.375 41.703125 38.8125 \nQ 48.828125 37.15625 52.796875 32.3125 \nQ 56.78125 27.484375 56.78125 20.515625 \nQ 56.78125 9.90625 50.3125 4.234375 \nQ 43.84375 -1.421875 31.78125 -1.421875 \nQ 19.734375 -1.421875 13.25 4.234375 \nQ 6.78125 9.90625 6.78125 20.515625 \nQ 6.78125 27.484375 10.78125 32.3125 \nQ 14.796875 37.15625 21.921875 38.8125 \nz\nM 18.3125 54.390625 \nQ 18.3125 48.734375 21.84375 45.5625 \nQ 25.390625 42.390625 31.78125 42.390625 \nQ 38.140625 42.390625 41.71875 45.5625 \nQ 45.3125 48.734375 45.3125 54.390625 \nQ 45.3125 60.0625 41.71875 63.234375 \nQ 38.140625 66.40625 31.78125 66.40625 \nQ 25.390625 66.40625 21.84375 63.234375 \nQ 18.3125 60.0625 18.3125 54.390625 \nz\n\" id=\"DejaVuSans-56\"/>\n      </defs>\n      <g transform=\"translate(183.161875 157.698438)scale(0.1 -0.1)\">\n       <use xlink:href=\"#DejaVuSans-56\"/>\n      </g>\n     </g>\n    </g>\n    <g id=\"xtick_6\">\n     <g id=\"line2d_6\">\n      <g>\n       <use style=\"stroke:#000000;stroke-width:0.8;\" x=\"225.403125\" xlink:href=\"#m07534b6ce5\" y=\"143.1\"/>\n      </g>\n     </g>\n     <g id=\"text_6\">\n      <!-- 10 -->\n      <defs>\n       <path d=\"M 12.40625 8.296875 \nL 28.515625 8.296875 \nL 28.515625 63.921875 \nL 10.984375 60.40625 \nL 10.984375 69.390625 \nL 28.421875 72.90625 \nL 38.28125 72.90625 \nL 38.28125 8.296875 \nL 54.390625 8.296875 \nL 54.390625 0 \nL 12.40625 0 \nz\n\" id=\"DejaVuSans-49\"/>\n      </defs>\n      <g transform=\"translate(219.040625 157.698438)scale(0.1 -0.1)\">\n       <use xlink:href=\"#DejaVuSans-49\"/>\n       <use x=\"63.623047\" xlink:href=\"#DejaVuSans-48\"/>\n      </g>\n     </g>\n    </g>\n    <g id=\"text_7\">\n     <!-- epoch -->\n     <defs>\n      <path d=\"M 56.203125 29.59375 \nL 56.203125 25.203125 \nL 14.890625 25.203125 \nQ 15.484375 15.921875 20.484375 11.0625 \nQ 25.484375 6.203125 34.421875 6.203125 \nQ 39.59375 6.203125 44.453125 7.46875 \nQ 49.3125 8.734375 54.109375 11.28125 \nL 54.109375 2.78125 \nQ 49.265625 0.734375 44.1875 -0.34375 \nQ 39.109375 -1.421875 33.890625 -1.421875 \nQ 20.796875 -1.421875 13.15625 6.1875 \nQ 5.515625 13.8125 5.515625 26.8125 \nQ 5.515625 40.234375 12.765625 48.109375 \nQ 20.015625 56 32.328125 56 \nQ 43.359375 56 49.78125 48.890625 \nQ 56.203125 41.796875 56.203125 29.59375 \nz\nM 47.21875 32.234375 \nQ 47.125 39.59375 43.09375 43.984375 \nQ 39.0625 48.390625 32.421875 48.390625 \nQ 24.90625 48.390625 20.390625 44.140625 \nQ 15.875 39.890625 15.1875 32.171875 \nz\n\" id=\"DejaVuSans-101\"/>\n      <path d=\"M 18.109375 8.203125 \nL 18.109375 -20.796875 \nL 9.078125 -20.796875 \nL 9.078125 54.6875 \nL 18.109375 54.6875 \nL 18.109375 46.390625 \nQ 20.953125 51.265625 25.265625 53.625 \nQ 29.59375 56 35.59375 56 \nQ 45.5625 56 51.78125 48.09375 \nQ 58.015625 40.1875 58.015625 27.296875 \nQ 58.015625 14.40625 51.78125 6.484375 \nQ 45.5625 -1.421875 35.59375 -1.421875 \nQ 29.59375 -1.421875 25.265625 0.953125 \nQ 20.953125 3.328125 18.109375 8.203125 \nz\nM 48.6875 27.296875 \nQ 48.6875 37.203125 44.609375 42.84375 \nQ 40.53125 48.484375 33.40625 48.484375 \nQ 26.265625 48.484375 22.1875 42.84375 \nQ 18.109375 37.203125 18.109375 27.296875 \nQ 18.109375 17.390625 22.1875 11.75 \nQ 26.265625 6.109375 33.40625 6.109375 \nQ 40.53125 6.109375 44.609375 11.75 \nQ 48.6875 17.390625 48.6875 27.296875 \nz\n\" id=\"DejaVuSans-112\"/>\n      <path d=\"M 30.609375 48.390625 \nQ 23.390625 48.390625 19.1875 42.75 \nQ 14.984375 37.109375 14.984375 27.296875 \nQ 14.984375 17.484375 19.15625 11.84375 \nQ 23.34375 6.203125 30.609375 6.203125 \nQ 37.796875 6.203125 41.984375 11.859375 \nQ 46.1875 17.53125 46.1875 27.296875 \nQ 46.1875 37.015625 41.984375 42.703125 \nQ 37.796875 48.390625 30.609375 48.390625 \nz\nM 30.609375 56 \nQ 42.328125 56 49.015625 48.375 \nQ 55.71875 40.765625 55.71875 27.296875 \nQ 55.71875 13.875 49.015625 6.21875 \nQ 42.328125 -1.421875 30.609375 -1.421875 \nQ 18.84375 -1.421875 12.171875 6.21875 \nQ 5.515625 13.875 5.515625 27.296875 \nQ 5.515625 40.765625 12.171875 48.375 \nQ 18.84375 56 30.609375 56 \nz\n\" id=\"DejaVuSans-111\"/>\n      <path d=\"M 48.78125 52.59375 \nL 48.78125 44.1875 \nQ 44.96875 46.296875 41.140625 47.34375 \nQ 37.3125 48.390625 33.40625 48.390625 \nQ 24.65625 48.390625 19.8125 42.84375 \nQ 14.984375 37.3125 14.984375 27.296875 \nQ 14.984375 17.28125 19.8125 11.734375 \nQ 24.65625 6.203125 33.40625 6.203125 \nQ 37.3125 6.203125 41.140625 7.25 \nQ 44.96875 8.296875 48.78125 10.40625 \nL 48.78125 2.09375 \nQ 45.015625 0.34375 40.984375 -0.53125 \nQ 36.96875 -1.421875 32.421875 -1.421875 \nQ 20.0625 -1.421875 12.78125 6.34375 \nQ 5.515625 14.109375 5.515625 27.296875 \nQ 5.515625 40.671875 12.859375 48.328125 \nQ 20.21875 56 33.015625 56 \nQ 37.15625 56 41.109375 55.140625 \nQ 45.0625 54.296875 48.78125 52.59375 \nz\n\" id=\"DejaVuSans-99\"/>\n      <path d=\"M 54.890625 33.015625 \nL 54.890625 0 \nL 45.90625 0 \nL 45.90625 32.71875 \nQ 45.90625 40.484375 42.875 44.328125 \nQ 39.84375 48.1875 33.796875 48.1875 \nQ 26.515625 48.1875 22.3125 43.546875 \nQ 18.109375 38.921875 18.109375 30.90625 \nL 18.109375 0 \nL 9.078125 0 \nL 9.078125 75.984375 \nL 18.109375 75.984375 \nL 18.109375 46.1875 \nQ 21.34375 51.125 25.703125 53.5625 \nQ 30.078125 56 35.796875 56 \nQ 45.21875 56 50.046875 50.171875 \nQ 54.890625 44.34375 54.890625 33.015625 \nz\n\" id=\"DejaVuSans-104\"/>\n     </defs>\n     <g transform=\"translate(112.525 171.376563)scale(0.1 -0.1)\">\n      <use xlink:href=\"#DejaVuSans-101\"/>\n      <use x=\"61.523438\" xlink:href=\"#DejaVuSans-112\"/>\n      <use x=\"125\" xlink:href=\"#DejaVuSans-111\"/>\n      <use x=\"186.181641\" xlink:href=\"#DejaVuSans-99\"/>\n      <use x=\"241.162109\" xlink:href=\"#DejaVuSans-104\"/>\n     </g>\n    </g>\n   </g>\n   <g id=\"matplotlib.axis_2\">\n    <g id=\"ytick_1\">\n     <g id=\"line2d_7\">\n      <defs>\n       <path d=\"M 0 0 \nL -3.5 0 \n\" id=\"mf7413f31d6\" style=\"stroke:#000000;stroke-width:0.8;\"/>\n      </defs>\n      <g>\n       <use style=\"stroke:#000000;stroke-width:0.8;\" x=\"30.103125\" xlink:href=\"#mf7413f31d6\" y=\"124.074486\"/>\n      </g>\n     </g>\n     <g id=\"text_8\">\n      <!-- 0.5 -->\n      <defs>\n       <path d=\"M 10.6875 12.40625 \nL 21 12.40625 \nL 21 0 \nL 10.6875 0 \nz\n\" id=\"DejaVuSans-46\"/>\n       <path d=\"M 10.796875 72.90625 \nL 49.515625 72.90625 \nL 49.515625 64.59375 \nL 19.828125 64.59375 \nL 19.828125 46.734375 \nQ 21.96875 47.46875 24.109375 47.828125 \nQ 26.265625 48.1875 28.421875 48.1875 \nQ 40.625 48.1875 47.75 41.5 \nQ 54.890625 34.8125 54.890625 23.390625 \nQ 54.890625 11.625 47.5625 5.09375 \nQ 40.234375 -1.421875 26.90625 -1.421875 \nQ 22.3125 -1.421875 17.546875 -0.640625 \nQ 12.796875 0.140625 7.71875 1.703125 \nL 7.71875 11.625 \nQ 12.109375 9.234375 16.796875 8.0625 \nQ 21.484375 6.890625 26.703125 6.890625 \nQ 35.15625 6.890625 40.078125 11.328125 \nQ 45.015625 15.765625 45.015625 23.390625 \nQ 45.015625 31 40.078125 35.4375 \nQ 35.15625 39.890625 26.703125 39.890625 \nQ 22.75 39.890625 18.8125 39.015625 \nQ 14.890625 38.140625 10.796875 36.28125 \nz\n\" id=\"DejaVuSans-53\"/>\n      </defs>\n      <g transform=\"translate(7.2 127.873705)scale(0.1 -0.1)\">\n       <use xlink:href=\"#DejaVuSans-48\"/>\n       <use x=\"63.623047\" xlink:href=\"#DejaVuSans-46\"/>\n       <use x=\"95.410156\" xlink:href=\"#DejaVuSans-53\"/>\n      </g>\n     </g>\n    </g>\n    <g id=\"ytick_2\">\n     <g id=\"line2d_8\">\n      <g>\n       <use style=\"stroke:#000000;stroke-width:0.8;\" x=\"30.103125\" xlink:href=\"#mf7413f31d6\" y=\"93.127133\"/>\n      </g>\n     </g>\n     <g id=\"text_9\">\n      <!-- 1.0 -->\n      <g transform=\"translate(7.2 96.926351)scale(0.1 -0.1)\">\n       <use xlink:href=\"#DejaVuSans-49\"/>\n       <use x=\"63.623047\" xlink:href=\"#DejaVuSans-46\"/>\n       <use x=\"95.410156\" xlink:href=\"#DejaVuSans-48\"/>\n      </g>\n     </g>\n    </g>\n    <g id=\"ytick_3\">\n     <g id=\"line2d_9\">\n      <g>\n       <use style=\"stroke:#000000;stroke-width:0.8;\" x=\"30.103125\" xlink:href=\"#mf7413f31d6\" y=\"62.179779\"/>\n      </g>\n     </g>\n     <g id=\"text_10\">\n      <!-- 1.5 -->\n      <g transform=\"translate(7.2 65.978998)scale(0.1 -0.1)\">\n       <use xlink:href=\"#DejaVuSans-49\"/>\n       <use x=\"63.623047\" xlink:href=\"#DejaVuSans-46\"/>\n       <use x=\"95.410156\" xlink:href=\"#DejaVuSans-53\"/>\n      </g>\n     </g>\n    </g>\n    <g id=\"ytick_4\">\n     <g id=\"line2d_10\">\n      <g>\n       <use style=\"stroke:#000000;stroke-width:0.8;\" x=\"30.103125\" xlink:href=\"#mf7413f31d6\" y=\"31.232426\"/>\n      </g>\n     </g>\n     <g id=\"text_11\">\n      <!-- 2.0 -->\n      <g transform=\"translate(7.2 35.031644)scale(0.1 -0.1)\">\n       <use xlink:href=\"#DejaVuSans-50\"/>\n       <use x=\"63.623047\" xlink:href=\"#DejaVuSans-46\"/>\n       <use x=\"95.410156\" xlink:href=\"#DejaVuSans-48\"/>\n      </g>\n     </g>\n    </g>\n   </g>\n   <g id=\"line2d_11\">\n    <path clip-path=\"url(#pbd6bffd7e3)\" d=\"M 34.954394 13.377273 \n\" style=\"fill:none;stroke:#1f77b4;stroke-linecap:square;stroke-width:1.5;\"/>\n   </g>\n   <g id=\"line2d_12\">\n    <path clip-path=\"url(#pbd6bffd7e3)\" d=\"M 34.954394 13.377273 \nL 44.698573 78.377814 \n\" style=\"fill:none;stroke:#1f77b4;stroke-linecap:square;stroke-width:1.5;\"/>\n   </g>\n   <g id=\"line2d_13\">\n    <path clip-path=\"url(#pbd6bffd7e3)\" d=\"M 34.954394 13.377273 \nL 44.698573 78.377814 \n\" style=\"fill:none;stroke:#1f77b4;stroke-linecap:square;stroke-width:1.5;\"/>\n   </g>\n   <g id=\"line2d_14\">\n    <path clip-path=\"url(#pbd6bffd7e3)\" d=\"M 49.633125 111.431334 \n\" style=\"fill:none;stroke:#ff7f0e;stroke-dasharray:5.55,2.4;stroke-dashoffset:0;stroke-width:1.5;\"/>\n   </g>\n   <g id=\"line2d_15\"/>\n   <g id=\"line2d_16\">\n    <path clip-path=\"url(#pbd6bffd7e3)\" d=\"M 34.954394 13.377273 \nL 44.698573 78.377814 \n\" style=\"fill:none;stroke:#1f77b4;stroke-linecap:square;stroke-width:1.5;\"/>\n   </g>\n   <g id=\"line2d_17\">\n    <path clip-path=\"url(#pbd6bffd7e3)\" d=\"M 49.633125 111.431334 \n\" style=\"fill:none;stroke:#ff7f0e;stroke-dasharray:5.55,2.4;stroke-dashoffset:0;stroke-width:1.5;\"/>\n   </g>\n   <g id=\"line2d_18\">\n    <path clip-path=\"url(#pbd6bffd7e3)\" d=\"M 49.633125 109.684211 \n\" style=\"fill:none;stroke:#2ca02c;stroke-dasharray:9.6,2.4,1.5,2.4;stroke-dashoffset:0;stroke-width:1.5;\"/>\n   </g>\n   <g id=\"line2d_19\">\n    <path clip-path=\"url(#pbd6bffd7e3)\" d=\"M 34.954394 13.377273 \nL 44.698573 78.377814 \nL 54.442752 113.0075 \n\" style=\"fill:none;stroke:#1f77b4;stroke-linecap:square;stroke-width:1.5;\"/>\n   </g>\n   <g id=\"line2d_20\">\n    <path clip-path=\"url(#pbd6bffd7e3)\" d=\"M 49.633125 111.431334 \n\" style=\"fill:none;stroke:#ff7f0e;stroke-dasharray:5.55,2.4;stroke-dashoffset:0;stroke-width:1.5;\"/>\n   </g>\n   <g id=\"line2d_21\">\n    <path clip-path=\"url(#pbd6bffd7e3)\" d=\"M 49.633125 109.684211 \n\" style=\"fill:none;stroke:#2ca02c;stroke-dasharray:9.6,2.4,1.5,2.4;stroke-dashoffset:0;stroke-width:1.5;\"/>\n   </g>\n   <g id=\"line2d_22\">\n    <path clip-path=\"url(#pbd6bffd7e3)\" d=\"M 34.954394 13.377273 \nL 44.698573 78.377814 \nL 54.442752 113.0075 \nL 64.186931 119.778703 \n\" style=\"fill:none;stroke:#1f77b4;stroke-linecap:square;stroke-width:1.5;\"/>\n   </g>\n   <g id=\"line2d_23\">\n    <path clip-path=\"url(#pbd6bffd7e3)\" d=\"M 49.633125 111.431334 \n\" style=\"fill:none;stroke:#ff7f0e;stroke-dasharray:5.55,2.4;stroke-dashoffset:0;stroke-width:1.5;\"/>\n   </g>\n   <g id=\"line2d_24\">\n    <path clip-path=\"url(#pbd6bffd7e3)\" d=\"M 49.633125 109.684211 \n\" style=\"fill:none;stroke:#2ca02c;stroke-dasharray:9.6,2.4,1.5,2.4;stroke-dashoffset:0;stroke-width:1.5;\"/>\n   </g>\n   <g id=\"line2d_25\">\n    <path clip-path=\"url(#pbd6bffd7e3)\" d=\"M 34.954394 13.377273 \nL 44.698573 78.377814 \nL 54.442752 113.0075 \nL 64.186931 119.778703 \n\" style=\"fill:none;stroke:#1f77b4;stroke-linecap:square;stroke-width:1.5;\"/>\n   </g>\n   <g id=\"line2d_26\">\n    <path clip-path=\"url(#pbd6bffd7e3)\" d=\"M 49.633125 111.431334 \nL 69.163125 125.209491 \n\" style=\"fill:none;stroke:#ff7f0e;stroke-dasharray:5.55,2.4;stroke-dashoffset:0;stroke-width:1.5;\"/>\n   </g>\n   <g id=\"line2d_27\">\n    <path clip-path=\"url(#pbd6bffd7e3)\" d=\"M 49.633125 109.684211 \n\" style=\"fill:none;stroke:#2ca02c;stroke-dasharray:9.6,2.4,1.5,2.4;stroke-dashoffset:0;stroke-width:1.5;\"/>\n   </g>\n   <g id=\"line2d_28\">\n    <path clip-path=\"url(#pbd6bffd7e3)\" d=\"M 34.954394 13.377273 \nL 44.698573 78.377814 \nL 54.442752 113.0075 \nL 64.186931 119.778703 \n\" style=\"fill:none;stroke:#1f77b4;stroke-linecap:square;stroke-width:1.5;\"/>\n   </g>\n   <g id=\"line2d_29\">\n    <path clip-path=\"url(#pbd6bffd7e3)\" d=\"M 49.633125 111.431334 \nL 69.163125 125.209491 \n\" style=\"fill:none;stroke:#ff7f0e;stroke-dasharray:5.55,2.4;stroke-dashoffset:0;stroke-width:1.5;\"/>\n   </g>\n   <g id=\"line2d_30\">\n    <path clip-path=\"url(#pbd6bffd7e3)\" d=\"M 49.633125 109.684211 \nL 69.163125 103.771406 \n\" style=\"fill:none;stroke:#2ca02c;stroke-dasharray:9.6,2.4,1.5,2.4;stroke-dashoffset:0;stroke-width:1.5;\"/>\n   </g>\n   <g id=\"line2d_31\">\n    <path clip-path=\"url(#pbd6bffd7e3)\" d=\"M 34.954394 13.377273 \nL 44.698573 78.377814 \nL 54.442752 113.0075 \nL 64.186931 119.778703 \nL 73.93111 123.952173 \n\" style=\"fill:none;stroke:#1f77b4;stroke-linecap:square;stroke-width:1.5;\"/>\n   </g>\n   <g id=\"line2d_32\">\n    <path clip-path=\"url(#pbd6bffd7e3)\" d=\"M 49.633125 111.431334 \nL 69.163125 125.209491 \n\" style=\"fill:none;stroke:#ff7f0e;stroke-dasharray:5.55,2.4;stroke-dashoffset:0;stroke-width:1.5;\"/>\n   </g>\n   <g id=\"line2d_33\">\n    <path clip-path=\"url(#pbd6bffd7e3)\" d=\"M 49.633125 109.684211 \nL 69.163125 103.771406 \n\" style=\"fill:none;stroke:#2ca02c;stroke-dasharray:9.6,2.4,1.5,2.4;stroke-dashoffset:0;stroke-width:1.5;\"/>\n   </g>\n   <g id=\"line2d_34\">\n    <path clip-path=\"url(#pbd6bffd7e3)\" d=\"M 34.954394 13.377273 \nL 44.698573 78.377814 \nL 54.442752 113.0075 \nL 64.186931 119.778703 \nL 73.93111 123.952173 \nL 83.675289 125.922036 \n\" style=\"fill:none;stroke:#1f77b4;stroke-linecap:square;stroke-width:1.5;\"/>\n   </g>\n   <g id=\"line2d_35\">\n    <path clip-path=\"url(#pbd6bffd7e3)\" d=\"M 49.633125 111.431334 \nL 69.163125 125.209491 \n\" style=\"fill:none;stroke:#ff7f0e;stroke-dasharray:5.55,2.4;stroke-dashoffset:0;stroke-width:1.5;\"/>\n   </g>\n   <g id=\"line2d_36\">\n    <path clip-path=\"url(#pbd6bffd7e3)\" d=\"M 49.633125 109.684211 \nL 69.163125 103.771406 \n\" style=\"fill:none;stroke:#2ca02c;stroke-dasharray:9.6,2.4,1.5,2.4;stroke-dashoffset:0;stroke-width:1.5;\"/>\n   </g>\n   <g id=\"line2d_37\">\n    <path clip-path=\"url(#pbd6bffd7e3)\" d=\"M 34.954394 13.377273 \nL 44.698573 78.377814 \nL 54.442752 113.0075 \nL 64.186931 119.778703 \nL 73.93111 123.952173 \nL 83.675289 125.922036 \n\" style=\"fill:none;stroke:#1f77b4;stroke-linecap:square;stroke-width:1.5;\"/>\n   </g>\n   <g id=\"line2d_38\">\n    <path clip-path=\"url(#pbd6bffd7e3)\" d=\"M 49.633125 111.431334 \nL 69.163125 125.209491 \nL 88.693125 127.70353 \n\" style=\"fill:none;stroke:#ff7f0e;stroke-dasharray:5.55,2.4;stroke-dashoffset:0;stroke-width:1.5;\"/>\n   </g>\n   <g id=\"line2d_39\">\n    <path clip-path=\"url(#pbd6bffd7e3)\" d=\"M 49.633125 109.684211 \nL 69.163125 103.771406 \n\" style=\"fill:none;stroke:#2ca02c;stroke-dasharray:9.6,2.4,1.5,2.4;stroke-dashoffset:0;stroke-width:1.5;\"/>\n   </g>\n   <g id=\"line2d_40\">\n    <path clip-path=\"url(#pbd6bffd7e3)\" d=\"M 34.954394 13.377273 \nL 44.698573 78.377814 \nL 54.442752 113.0075 \nL 64.186931 119.778703 \nL 73.93111 123.952173 \nL 83.675289 125.922036 \n\" style=\"fill:none;stroke:#1f77b4;stroke-linecap:square;stroke-width:1.5;\"/>\n   </g>\n   <g id=\"line2d_41\">\n    <path clip-path=\"url(#pbd6bffd7e3)\" d=\"M 49.633125 111.431334 \nL 69.163125 125.209491 \nL 88.693125 127.70353 \n\" style=\"fill:none;stroke:#ff7f0e;stroke-dasharray:5.55,2.4;stroke-dashoffset:0;stroke-width:1.5;\"/>\n   </g>\n   <g id=\"line2d_42\">\n    <path clip-path=\"url(#pbd6bffd7e3)\" d=\"M 49.633125 109.684211 \nL 69.163125 103.771406 \nL 88.693125 103.006292 \n\" style=\"fill:none;stroke:#2ca02c;stroke-dasharray:9.6,2.4,1.5,2.4;stroke-dashoffset:0;stroke-width:1.5;\"/>\n   </g>\n   <g id=\"line2d_43\">\n    <path clip-path=\"url(#pbd6bffd7e3)\" d=\"M 34.954394 13.377273 \nL 44.698573 78.377814 \nL 54.442752 113.0075 \nL 64.186931 119.778703 \nL 73.93111 123.952173 \nL 83.675289 125.922036 \nL 93.419468 127.893889 \n\" style=\"fill:none;stroke:#1f77b4;stroke-linecap:square;stroke-width:1.5;\"/>\n   </g>\n   <g id=\"line2d_44\">\n    <path clip-path=\"url(#pbd6bffd7e3)\" d=\"M 49.633125 111.431334 \nL 69.163125 125.209491 \nL 88.693125 127.70353 \n\" style=\"fill:none;stroke:#ff7f0e;stroke-dasharray:5.55,2.4;stroke-dashoffset:0;stroke-width:1.5;\"/>\n   </g>\n   <g id=\"line2d_45\">\n    <path clip-path=\"url(#pbd6bffd7e3)\" d=\"M 49.633125 109.684211 \nL 69.163125 103.771406 \nL 88.693125 103.006292 \n\" style=\"fill:none;stroke:#2ca02c;stroke-dasharray:9.6,2.4,1.5,2.4;stroke-dashoffset:0;stroke-width:1.5;\"/>\n   </g>\n   <g id=\"line2d_46\">\n    <path clip-path=\"url(#pbd6bffd7e3)\" d=\"M 34.954394 13.377273 \nL 44.698573 78.377814 \nL 54.442752 113.0075 \nL 64.186931 119.778703 \nL 73.93111 123.952173 \nL 83.675289 125.922036 \nL 93.419468 127.893889 \nL 103.163647 129.166158 \n\" style=\"fill:none;stroke:#1f77b4;stroke-linecap:square;stroke-width:1.5;\"/>\n   </g>\n   <g id=\"line2d_47\">\n    <path clip-path=\"url(#pbd6bffd7e3)\" d=\"M 49.633125 111.431334 \nL 69.163125 125.209491 \nL 88.693125 127.70353 \n\" style=\"fill:none;stroke:#ff7f0e;stroke-dasharray:5.55,2.4;stroke-dashoffset:0;stroke-width:1.5;\"/>\n   </g>\n   <g id=\"line2d_48\">\n    <path clip-path=\"url(#pbd6bffd7e3)\" d=\"M 49.633125 109.684211 \nL 69.163125 103.771406 \nL 88.693125 103.006292 \n\" style=\"fill:none;stroke:#2ca02c;stroke-dasharray:9.6,2.4,1.5,2.4;stroke-dashoffset:0;stroke-width:1.5;\"/>\n   </g>\n   <g id=\"line2d_49\">\n    <path clip-path=\"url(#pbd6bffd7e3)\" d=\"M 34.954394 13.377273 \nL 44.698573 78.377814 \nL 54.442752 113.0075 \nL 64.186931 119.778703 \nL 73.93111 123.952173 \nL 83.675289 125.922036 \nL 93.419468 127.893889 \nL 103.163647 129.166158 \n\" style=\"fill:none;stroke:#1f77b4;stroke-linecap:square;stroke-width:1.5;\"/>\n   </g>\n   <g id=\"line2d_50\">\n    <path clip-path=\"url(#pbd6bffd7e3)\" d=\"M 49.633125 111.431334 \nL 69.163125 125.209491 \nL 88.693125 127.70353 \nL 108.223125 131.315493 \n\" style=\"fill:none;stroke:#ff7f0e;stroke-dasharray:5.55,2.4;stroke-dashoffset:0;stroke-width:1.5;\"/>\n   </g>\n   <g id=\"line2d_51\">\n    <path clip-path=\"url(#pbd6bffd7e3)\" d=\"M 49.633125 109.684211 \nL 69.163125 103.771406 \nL 88.693125 103.006292 \n\" style=\"fill:none;stroke:#2ca02c;stroke-dasharray:9.6,2.4,1.5,2.4;stroke-dashoffset:0;stroke-width:1.5;\"/>\n   </g>\n   <g id=\"line2d_52\">\n    <path clip-path=\"url(#pbd6bffd7e3)\" d=\"M 34.954394 13.377273 \nL 44.698573 78.377814 \nL 54.442752 113.0075 \nL 64.186931 119.778703 \nL 73.93111 123.952173 \nL 83.675289 125.922036 \nL 93.419468 127.893889 \nL 103.163647 129.166158 \n\" style=\"fill:none;stroke:#1f77b4;stroke-linecap:square;stroke-width:1.5;\"/>\n   </g>\n   <g id=\"line2d_53\">\n    <path clip-path=\"url(#pbd6bffd7e3)\" d=\"M 49.633125 111.431334 \nL 69.163125 125.209491 \nL 88.693125 127.70353 \nL 108.223125 131.315493 \n\" style=\"fill:none;stroke:#ff7f0e;stroke-dasharray:5.55,2.4;stroke-dashoffset:0;stroke-width:1.5;\"/>\n   </g>\n   <g id=\"line2d_54\">\n    <path clip-path=\"url(#pbd6bffd7e3)\" d=\"M 49.633125 109.684211 \nL 69.163125 103.771406 \nL 88.693125 103.006292 \nL 108.223125 101.684174 \n\" style=\"fill:none;stroke:#2ca02c;stroke-dasharray:9.6,2.4,1.5,2.4;stroke-dashoffset:0;stroke-width:1.5;\"/>\n   </g>\n   <g id=\"line2d_55\">\n    <path clip-path=\"url(#pbd6bffd7e3)\" d=\"M 34.954394 13.377273 \nL 44.698573 78.377814 \nL 54.442752 113.0075 \nL 64.186931 119.778703 \nL 73.93111 123.952173 \nL 83.675289 125.922036 \nL 93.419468 127.893889 \nL 103.163647 129.166158 \nL 112.907826 130.216368 \n\" style=\"fill:none;stroke:#1f77b4;stroke-linecap:square;stroke-width:1.5;\"/>\n   </g>\n   <g id=\"line2d_56\">\n    <path clip-path=\"url(#pbd6bffd7e3)\" d=\"M 49.633125 111.431334 \nL 69.163125 125.209491 \nL 88.693125 127.70353 \nL 108.223125 131.315493 \n\" style=\"fill:none;stroke:#ff7f0e;stroke-dasharray:5.55,2.4;stroke-dashoffset:0;stroke-width:1.5;\"/>\n   </g>\n   <g id=\"line2d_57\">\n    <path clip-path=\"url(#pbd6bffd7e3)\" d=\"M 49.633125 109.684211 \nL 69.163125 103.771406 \nL 88.693125 103.006292 \nL 108.223125 101.684174 \n\" style=\"fill:none;stroke:#2ca02c;stroke-dasharray:9.6,2.4,1.5,2.4;stroke-dashoffset:0;stroke-width:1.5;\"/>\n   </g>\n   <g id=\"line2d_58\">\n    <path clip-path=\"url(#pbd6bffd7e3)\" d=\"M 34.954394 13.377273 \nL 44.698573 78.377814 \nL 54.442752 113.0075 \nL 64.186931 119.778703 \nL 73.93111 123.952173 \nL 83.675289 125.922036 \nL 93.419468 127.893889 \nL 103.163647 129.166158 \nL 112.907826 130.216368 \nL 122.652006 131.480842 \n\" style=\"fill:none;stroke:#1f77b4;stroke-linecap:square;stroke-width:1.5;\"/>\n   </g>\n   <g id=\"line2d_59\">\n    <path clip-path=\"url(#pbd6bffd7e3)\" d=\"M 49.633125 111.431334 \nL 69.163125 125.209491 \nL 88.693125 127.70353 \nL 108.223125 131.315493 \n\" style=\"fill:none;stroke:#ff7f0e;stroke-dasharray:5.55,2.4;stroke-dashoffset:0;stroke-width:1.5;\"/>\n   </g>\n   <g id=\"line2d_60\">\n    <path clip-path=\"url(#pbd6bffd7e3)\" d=\"M 49.633125 109.684211 \nL 69.163125 103.771406 \nL 88.693125 103.006292 \nL 108.223125 101.684174 \n\" style=\"fill:none;stroke:#2ca02c;stroke-dasharray:9.6,2.4,1.5,2.4;stroke-dashoffset:0;stroke-width:1.5;\"/>\n   </g>\n   <g id=\"line2d_61\">\n    <path clip-path=\"url(#pbd6bffd7e3)\" d=\"M 34.954394 13.377273 \nL 44.698573 78.377814 \nL 54.442752 113.0075 \nL 64.186931 119.778703 \nL 73.93111 123.952173 \nL 83.675289 125.922036 \nL 93.419468 127.893889 \nL 103.163647 129.166158 \nL 112.907826 130.216368 \nL 122.652006 131.480842 \n\" style=\"fill:none;stroke:#1f77b4;stroke-linecap:square;stroke-width:1.5;\"/>\n   </g>\n   <g id=\"line2d_62\">\n    <path clip-path=\"url(#pbd6bffd7e3)\" d=\"M 49.633125 111.431334 \nL 69.163125 125.209491 \nL 88.693125 127.70353 \nL 108.223125 131.315493 \nL 127.753125 131.626116 \n\" style=\"fill:none;stroke:#ff7f0e;stroke-dasharray:5.55,2.4;stroke-dashoffset:0;stroke-width:1.5;\"/>\n   </g>\n   <g id=\"line2d_63\">\n    <path clip-path=\"url(#pbd6bffd7e3)\" d=\"M 49.633125 109.684211 \nL 69.163125 103.771406 \nL 88.693125 103.006292 \nL 108.223125 101.684174 \n\" style=\"fill:none;stroke:#2ca02c;stroke-dasharray:9.6,2.4,1.5,2.4;stroke-dashoffset:0;stroke-width:1.5;\"/>\n   </g>\n   <g id=\"line2d_64\">\n    <path clip-path=\"url(#pbd6bffd7e3)\" d=\"M 34.954394 13.377273 \nL 44.698573 78.377814 \nL 54.442752 113.0075 \nL 64.186931 119.778703 \nL 73.93111 123.952173 \nL 83.675289 125.922036 \nL 93.419468 127.893889 \nL 103.163647 129.166158 \nL 112.907826 130.216368 \nL 122.652006 131.480842 \n\" style=\"fill:none;stroke:#1f77b4;stroke-linecap:square;stroke-width:1.5;\"/>\n   </g>\n   <g id=\"line2d_65\">\n    <path clip-path=\"url(#pbd6bffd7e3)\" d=\"M 49.633125 111.431334 \nL 69.163125 125.209491 \nL 88.693125 127.70353 \nL 108.223125 131.315493 \nL 127.753125 131.626116 \n\" style=\"fill:none;stroke:#ff7f0e;stroke-dasharray:5.55,2.4;stroke-dashoffset:0;stroke-width:1.5;\"/>\n   </g>\n   <g id=\"line2d_66\">\n    <path clip-path=\"url(#pbd6bffd7e3)\" d=\"M 49.633125 109.684211 \nL 69.163125 103.771406 \nL 88.693125 103.006292 \nL 108.223125 101.684174 \nL 127.753125 101.671932 \n\" style=\"fill:none;stroke:#2ca02c;stroke-dasharray:9.6,2.4,1.5,2.4;stroke-dashoffset:0;stroke-width:1.5;\"/>\n   </g>\n   <g id=\"line2d_67\">\n    <path clip-path=\"url(#pbd6bffd7e3)\" d=\"M 34.954394 13.377273 \nL 44.698573 78.377814 \nL 54.442752 113.0075 \nL 64.186931 119.778703 \nL 73.93111 123.952173 \nL 83.675289 125.922036 \nL 93.419468 127.893889 \nL 103.163647 129.166158 \nL 112.907826 130.216368 \nL 122.652006 131.480842 \nL 132.396185 132.083315 \n\" style=\"fill:none;stroke:#1f77b4;stroke-linecap:square;stroke-width:1.5;\"/>\n   </g>\n   <g id=\"line2d_68\">\n    <path clip-path=\"url(#pbd6bffd7e3)\" d=\"M 49.633125 111.431334 \nL 69.163125 125.209491 \nL 88.693125 127.70353 \nL 108.223125 131.315493 \nL 127.753125 131.626116 \n\" style=\"fill:none;stroke:#ff7f0e;stroke-dasharray:5.55,2.4;stroke-dashoffset:0;stroke-width:1.5;\"/>\n   </g>\n   <g id=\"line2d_69\">\n    <path clip-path=\"url(#pbd6bffd7e3)\" d=\"M 49.633125 109.684211 \nL 69.163125 103.771406 \nL 88.693125 103.006292 \nL 108.223125 101.684174 \nL 127.753125 101.671932 \n\" style=\"fill:none;stroke:#2ca02c;stroke-dasharray:9.6,2.4,1.5,2.4;stroke-dashoffset:0;stroke-width:1.5;\"/>\n   </g>\n   <g id=\"line2d_70\">\n    <path clip-path=\"url(#pbd6bffd7e3)\" d=\"M 34.954394 13.377273 \nL 44.698573 78.377814 \nL 54.442752 113.0075 \nL 64.186931 119.778703 \nL 73.93111 123.952173 \nL 83.675289 125.922036 \nL 93.419468 127.893889 \nL 103.163647 129.166158 \nL 112.907826 130.216368 \nL 122.652006 131.480842 \nL 132.396185 132.083315 \nL 142.140364 133.146186 \n\" style=\"fill:none;stroke:#1f77b4;stroke-linecap:square;stroke-width:1.5;\"/>\n   </g>\n   <g id=\"line2d_71\">\n    <path clip-path=\"url(#pbd6bffd7e3)\" d=\"M 49.633125 111.431334 \nL 69.163125 125.209491 \nL 88.693125 127.70353 \nL 108.223125 131.315493 \nL 127.753125 131.626116 \n\" style=\"fill:none;stroke:#ff7f0e;stroke-dasharray:5.55,2.4;stroke-dashoffset:0;stroke-width:1.5;\"/>\n   </g>\n   <g id=\"line2d_72\">\n    <path clip-path=\"url(#pbd6bffd7e3)\" d=\"M 49.633125 109.684211 \nL 69.163125 103.771406 \nL 88.693125 103.006292 \nL 108.223125 101.684174 \nL 127.753125 101.671932 \n\" style=\"fill:none;stroke:#2ca02c;stroke-dasharray:9.6,2.4,1.5,2.4;stroke-dashoffset:0;stroke-width:1.5;\"/>\n   </g>\n   <g id=\"line2d_73\">\n    <path clip-path=\"url(#pbd6bffd7e3)\" d=\"M 34.954394 13.377273 \nL 44.698573 78.377814 \nL 54.442752 113.0075 \nL 64.186931 119.778703 \nL 73.93111 123.952173 \nL 83.675289 125.922036 \nL 93.419468 127.893889 \nL 103.163647 129.166158 \nL 112.907826 130.216368 \nL 122.652006 131.480842 \nL 132.396185 132.083315 \nL 142.140364 133.146186 \n\" style=\"fill:none;stroke:#1f77b4;stroke-linecap:square;stroke-width:1.5;\"/>\n   </g>\n   <g id=\"line2d_74\">\n    <path clip-path=\"url(#pbd6bffd7e3)\" d=\"M 49.633125 111.431334 \nL 69.163125 125.209491 \nL 88.693125 127.70353 \nL 108.223125 131.315493 \nL 127.753125 131.626116 \nL 147.283125 133.101866 \n\" style=\"fill:none;stroke:#ff7f0e;stroke-dasharray:5.55,2.4;stroke-dashoffset:0;stroke-width:1.5;\"/>\n   </g>\n   <g id=\"line2d_75\">\n    <path clip-path=\"url(#pbd6bffd7e3)\" d=\"M 49.633125 109.684211 \nL 69.163125 103.771406 \nL 88.693125 103.006292 \nL 108.223125 101.684174 \nL 127.753125 101.671932 \n\" style=\"fill:none;stroke:#2ca02c;stroke-dasharray:9.6,2.4,1.5,2.4;stroke-dashoffset:0;stroke-width:1.5;\"/>\n   </g>\n   <g id=\"line2d_76\">\n    <path clip-path=\"url(#pbd6bffd7e3)\" d=\"M 34.954394 13.377273 \nL 44.698573 78.377814 \nL 54.442752 113.0075 \nL 64.186931 119.778703 \nL 73.93111 123.952173 \nL 83.675289 125.922036 \nL 93.419468 127.893889 \nL 103.163647 129.166158 \nL 112.907826 130.216368 \nL 122.652006 131.480842 \nL 132.396185 132.083315 \nL 142.140364 133.146186 \n\" style=\"fill:none;stroke:#1f77b4;stroke-linecap:square;stroke-width:1.5;\"/>\n   </g>\n   <g id=\"line2d_77\">\n    <path clip-path=\"url(#pbd6bffd7e3)\" d=\"M 49.633125 111.431334 \nL 69.163125 125.209491 \nL 88.693125 127.70353 \nL 108.223125 131.315493 \nL 127.753125 131.626116 \nL 147.283125 133.101866 \n\" style=\"fill:none;stroke:#ff7f0e;stroke-dasharray:5.55,2.4;stroke-dashoffset:0;stroke-width:1.5;\"/>\n   </g>\n   <g id=\"line2d_78\">\n    <path clip-path=\"url(#pbd6bffd7e3)\" d=\"M 49.633125 109.684211 \nL 69.163125 103.771406 \nL 88.693125 103.006292 \nL 108.223125 101.684174 \nL 127.753125 101.671932 \nL 147.283125 101.090445 \n\" style=\"fill:none;stroke:#2ca02c;stroke-dasharray:9.6,2.4,1.5,2.4;stroke-dashoffset:0;stroke-width:1.5;\"/>\n   </g>\n   <g id=\"line2d_79\">\n    <path clip-path=\"url(#pbd6bffd7e3)\" d=\"M 34.954394 13.377273 \nL 44.698573 78.377814 \nL 54.442752 113.0075 \nL 64.186931 119.778703 \nL 73.93111 123.952173 \nL 83.675289 125.922036 \nL 93.419468 127.893889 \nL 103.163647 129.166158 \nL 112.907826 130.216368 \nL 122.652006 131.480842 \nL 132.396185 132.083315 \nL 142.140364 133.146186 \nL 151.884543 133.874114 \n\" style=\"fill:none;stroke:#1f77b4;stroke-linecap:square;stroke-width:1.5;\"/>\n   </g>\n   <g id=\"line2d_80\">\n    <path clip-path=\"url(#pbd6bffd7e3)\" d=\"M 49.633125 111.431334 \nL 69.163125 125.209491 \nL 88.693125 127.70353 \nL 108.223125 131.315493 \nL 127.753125 131.626116 \nL 147.283125 133.101866 \n\" style=\"fill:none;stroke:#ff7f0e;stroke-dasharray:5.55,2.4;stroke-dashoffset:0;stroke-width:1.5;\"/>\n   </g>\n   <g id=\"line2d_81\">\n    <path clip-path=\"url(#pbd6bffd7e3)\" d=\"M 49.633125 109.684211 \nL 69.163125 103.771406 \nL 88.693125 103.006292 \nL 108.223125 101.684174 \nL 127.753125 101.671932 \nL 147.283125 101.090445 \n\" style=\"fill:none;stroke:#2ca02c;stroke-dasharray:9.6,2.4,1.5,2.4;stroke-dashoffset:0;stroke-width:1.5;\"/>\n   </g>\n   <g id=\"line2d_82\">\n    <path clip-path=\"url(#pbd6bffd7e3)\" d=\"M 34.954394 13.377273 \nL 44.698573 78.377814 \nL 54.442752 113.0075 \nL 64.186931 119.778703 \nL 73.93111 123.952173 \nL 83.675289 125.922036 \nL 93.419468 127.893889 \nL 103.163647 129.166158 \nL 112.907826 130.216368 \nL 122.652006 131.480842 \nL 132.396185 132.083315 \nL 142.140364 133.146186 \nL 151.884543 133.874114 \nL 161.628722 133.871236 \n\" style=\"fill:none;stroke:#1f77b4;stroke-linecap:square;stroke-width:1.5;\"/>\n   </g>\n   <g id=\"line2d_83\">\n    <path clip-path=\"url(#pbd6bffd7e3)\" d=\"M 49.633125 111.431334 \nL 69.163125 125.209491 \nL 88.693125 127.70353 \nL 108.223125 131.315493 \nL 127.753125 131.626116 \nL 147.283125 133.101866 \n\" style=\"fill:none;stroke:#ff7f0e;stroke-dasharray:5.55,2.4;stroke-dashoffset:0;stroke-width:1.5;\"/>\n   </g>\n   <g id=\"line2d_84\">\n    <path clip-path=\"url(#pbd6bffd7e3)\" d=\"M 49.633125 109.684211 \nL 69.163125 103.771406 \nL 88.693125 103.006292 \nL 108.223125 101.684174 \nL 127.753125 101.671932 \nL 147.283125 101.090445 \n\" style=\"fill:none;stroke:#2ca02c;stroke-dasharray:9.6,2.4,1.5,2.4;stroke-dashoffset:0;stroke-width:1.5;\"/>\n   </g>\n   <g id=\"line2d_85\">\n    <path clip-path=\"url(#pbd6bffd7e3)\" d=\"M 34.954394 13.377273 \nL 44.698573 78.377814 \nL 54.442752 113.0075 \nL 64.186931 119.778703 \nL 73.93111 123.952173 \nL 83.675289 125.922036 \nL 93.419468 127.893889 \nL 103.163647 129.166158 \nL 112.907826 130.216368 \nL 122.652006 131.480842 \nL 132.396185 132.083315 \nL 142.140364 133.146186 \nL 151.884543 133.874114 \nL 161.628722 133.871236 \n\" style=\"fill:none;stroke:#1f77b4;stroke-linecap:square;stroke-width:1.5;\"/>\n   </g>\n   <g id=\"line2d_86\">\n    <path clip-path=\"url(#pbd6bffd7e3)\" d=\"M 49.633125 111.431334 \nL 69.163125 125.209491 \nL 88.693125 127.70353 \nL 108.223125 131.315493 \nL 127.753125 131.626116 \nL 147.283125 133.101866 \nL 166.813125 134.590122 \n\" style=\"fill:none;stroke:#ff7f0e;stroke-dasharray:5.55,2.4;stroke-dashoffset:0;stroke-width:1.5;\"/>\n   </g>\n   <g id=\"line2d_87\">\n    <path clip-path=\"url(#pbd6bffd7e3)\" d=\"M 49.633125 109.684211 \nL 69.163125 103.771406 \nL 88.693125 103.006292 \nL 108.223125 101.684174 \nL 127.753125 101.671932 \nL 147.283125 101.090445 \n\" style=\"fill:none;stroke:#2ca02c;stroke-dasharray:9.6,2.4,1.5,2.4;stroke-dashoffset:0;stroke-width:1.5;\"/>\n   </g>\n   <g id=\"line2d_88\">\n    <path clip-path=\"url(#pbd6bffd7e3)\" d=\"M 34.954394 13.377273 \nL 44.698573 78.377814 \nL 54.442752 113.0075 \nL 64.186931 119.778703 \nL 73.93111 123.952173 \nL 83.675289 125.922036 \nL 93.419468 127.893889 \nL 103.163647 129.166158 \nL 112.907826 130.216368 \nL 122.652006 131.480842 \nL 132.396185 132.083315 \nL 142.140364 133.146186 \nL 151.884543 133.874114 \nL 161.628722 133.871236 \n\" style=\"fill:none;stroke:#1f77b4;stroke-linecap:square;stroke-width:1.5;\"/>\n   </g>\n   <g id=\"line2d_89\">\n    <path clip-path=\"url(#pbd6bffd7e3)\" d=\"M 49.633125 111.431334 \nL 69.163125 125.209491 \nL 88.693125 127.70353 \nL 108.223125 131.315493 \nL 127.753125 131.626116 \nL 147.283125 133.101866 \nL 166.813125 134.590122 \n\" style=\"fill:none;stroke:#ff7f0e;stroke-dasharray:5.55,2.4;stroke-dashoffset:0;stroke-width:1.5;\"/>\n   </g>\n   <g id=\"line2d_90\">\n    <path clip-path=\"url(#pbd6bffd7e3)\" d=\"M 49.633125 109.684211 \nL 69.163125 103.771406 \nL 88.693125 103.006292 \nL 108.223125 101.684174 \nL 127.753125 101.671932 \nL 147.283125 101.090445 \nL 166.813125 100.613013 \n\" style=\"fill:none;stroke:#2ca02c;stroke-dasharray:9.6,2.4,1.5,2.4;stroke-dashoffset:0;stroke-width:1.5;\"/>\n   </g>\n   <g id=\"line2d_91\">\n    <path clip-path=\"url(#pbd6bffd7e3)\" d=\"M 34.954394 13.377273 \nL 44.698573 78.377814 \nL 54.442752 113.0075 \nL 64.186931 119.778703 \nL 73.93111 123.952173 \nL 83.675289 125.922036 \nL 93.419468 127.893889 \nL 103.163647 129.166158 \nL 112.907826 130.216368 \nL 122.652006 131.480842 \nL 132.396185 132.083315 \nL 142.140364 133.146186 \nL 151.884543 133.874114 \nL 161.628722 133.871236 \nL 171.372901 134.821225 \n\" style=\"fill:none;stroke:#1f77b4;stroke-linecap:square;stroke-width:1.5;\"/>\n   </g>\n   <g id=\"line2d_92\">\n    <path clip-path=\"url(#pbd6bffd7e3)\" d=\"M 49.633125 111.431334 \nL 69.163125 125.209491 \nL 88.693125 127.70353 \nL 108.223125 131.315493 \nL 127.753125 131.626116 \nL 147.283125 133.101866 \nL 166.813125 134.590122 \n\" style=\"fill:none;stroke:#ff7f0e;stroke-dasharray:5.55,2.4;stroke-dashoffset:0;stroke-width:1.5;\"/>\n   </g>\n   <g id=\"line2d_93\">\n    <path clip-path=\"url(#pbd6bffd7e3)\" d=\"M 49.633125 109.684211 \nL 69.163125 103.771406 \nL 88.693125 103.006292 \nL 108.223125 101.684174 \nL 127.753125 101.671932 \nL 147.283125 101.090445 \nL 166.813125 100.613013 \n\" style=\"fill:none;stroke:#2ca02c;stroke-dasharray:9.6,2.4,1.5,2.4;stroke-dashoffset:0;stroke-width:1.5;\"/>\n   </g>\n   <g id=\"line2d_94\">\n    <path clip-path=\"url(#pbd6bffd7e3)\" d=\"M 34.954394 13.377273 \nL 44.698573 78.377814 \nL 54.442752 113.0075 \nL 64.186931 119.778703 \nL 73.93111 123.952173 \nL 83.675289 125.922036 \nL 93.419468 127.893889 \nL 103.163647 129.166158 \nL 112.907826 130.216368 \nL 122.652006 131.480842 \nL 132.396185 132.083315 \nL 142.140364 133.146186 \nL 151.884543 133.874114 \nL 161.628722 133.871236 \nL 171.372901 134.821225 \nL 181.11708 135.194947 \n\" style=\"fill:none;stroke:#1f77b4;stroke-linecap:square;stroke-width:1.5;\"/>\n   </g>\n   <g id=\"line2d_95\">\n    <path clip-path=\"url(#pbd6bffd7e3)\" d=\"M 49.633125 111.431334 \nL 69.163125 125.209491 \nL 88.693125 127.70353 \nL 108.223125 131.315493 \nL 127.753125 131.626116 \nL 147.283125 133.101866 \nL 166.813125 134.590122 \n\" style=\"fill:none;stroke:#ff7f0e;stroke-dasharray:5.55,2.4;stroke-dashoffset:0;stroke-width:1.5;\"/>\n   </g>\n   <g id=\"line2d_96\">\n    <path clip-path=\"url(#pbd6bffd7e3)\" d=\"M 49.633125 109.684211 \nL 69.163125 103.771406 \nL 88.693125 103.006292 \nL 108.223125 101.684174 \nL 127.753125 101.671932 \nL 147.283125 101.090445 \nL 166.813125 100.613013 \n\" style=\"fill:none;stroke:#2ca02c;stroke-dasharray:9.6,2.4,1.5,2.4;stroke-dashoffset:0;stroke-width:1.5;\"/>\n   </g>\n   <g id=\"line2d_97\">\n    <path clip-path=\"url(#pbd6bffd7e3)\" d=\"M 34.954394 13.377273 \nL 44.698573 78.377814 \nL 54.442752 113.0075 \nL 64.186931 119.778703 \nL 73.93111 123.952173 \nL 83.675289 125.922036 \nL 93.419468 127.893889 \nL 103.163647 129.166158 \nL 112.907826 130.216368 \nL 122.652006 131.480842 \nL 132.396185 132.083315 \nL 142.140364 133.146186 \nL 151.884543 133.874114 \nL 161.628722 133.871236 \nL 171.372901 134.821225 \nL 181.11708 135.194947 \n\" style=\"fill:none;stroke:#1f77b4;stroke-linecap:square;stroke-width:1.5;\"/>\n   </g>\n   <g id=\"line2d_98\">\n    <path clip-path=\"url(#pbd6bffd7e3)\" d=\"M 49.633125 111.431334 \nL 69.163125 125.209491 \nL 88.693125 127.70353 \nL 108.223125 131.315493 \nL 127.753125 131.626116 \nL 147.283125 133.101866 \nL 166.813125 134.590122 \nL 186.343125 135.613696 \n\" style=\"fill:none;stroke:#ff7f0e;stroke-dasharray:5.55,2.4;stroke-dashoffset:0;stroke-width:1.5;\"/>\n   </g>\n   <g id=\"line2d_99\">\n    <path clip-path=\"url(#pbd6bffd7e3)\" d=\"M 49.633125 109.684211 \nL 69.163125 103.771406 \nL 88.693125 103.006292 \nL 108.223125 101.684174 \nL 127.753125 101.671932 \nL 147.283125 101.090445 \nL 166.813125 100.613013 \n\" style=\"fill:none;stroke:#2ca02c;stroke-dasharray:9.6,2.4,1.5,2.4;stroke-dashoffset:0;stroke-width:1.5;\"/>\n   </g>\n   <g id=\"line2d_100\">\n    <path clip-path=\"url(#pbd6bffd7e3)\" d=\"M 34.954394 13.377273 \nL 44.698573 78.377814 \nL 54.442752 113.0075 \nL 64.186931 119.778703 \nL 73.93111 123.952173 \nL 83.675289 125.922036 \nL 93.419468 127.893889 \nL 103.163647 129.166158 \nL 112.907826 130.216368 \nL 122.652006 131.480842 \nL 132.396185 132.083315 \nL 142.140364 133.146186 \nL 151.884543 133.874114 \nL 161.628722 133.871236 \nL 171.372901 134.821225 \nL 181.11708 135.194947 \n\" style=\"fill:none;stroke:#1f77b4;stroke-linecap:square;stroke-width:1.5;\"/>\n   </g>\n   <g id=\"line2d_101\">\n    <path clip-path=\"url(#pbd6bffd7e3)\" d=\"M 49.633125 111.431334 \nL 69.163125 125.209491 \nL 88.693125 127.70353 \nL 108.223125 131.315493 \nL 127.753125 131.626116 \nL 147.283125 133.101866 \nL 166.813125 134.590122 \nL 186.343125 135.613696 \n\" style=\"fill:none;stroke:#ff7f0e;stroke-dasharray:5.55,2.4;stroke-dashoffset:0;stroke-width:1.5;\"/>\n   </g>\n   <g id=\"line2d_102\">\n    <path clip-path=\"url(#pbd6bffd7e3)\" d=\"M 49.633125 109.684211 \nL 69.163125 103.771406 \nL 88.693125 103.006292 \nL 108.223125 101.684174 \nL 127.753125 101.671932 \nL 147.283125 101.090445 \nL 166.813125 100.613013 \nL 186.343125 100.117219 \n\" style=\"fill:none;stroke:#2ca02c;stroke-dasharray:9.6,2.4,1.5,2.4;stroke-dashoffset:0;stroke-width:1.5;\"/>\n   </g>\n   <g id=\"line2d_103\">\n    <path clip-path=\"url(#pbd6bffd7e3)\" d=\"M 34.954394 13.377273 \nL 44.698573 78.377814 \nL 54.442752 113.0075 \nL 64.186931 119.778703 \nL 73.93111 123.952173 \nL 83.675289 125.922036 \nL 93.419468 127.893889 \nL 103.163647 129.166158 \nL 112.907826 130.216368 \nL 122.652006 131.480842 \nL 132.396185 132.083315 \nL 142.140364 133.146186 \nL 151.884543 133.874114 \nL 161.628722 133.871236 \nL 171.372901 134.821225 \nL 181.11708 135.194947 \nL 190.861259 135.7346 \n\" style=\"fill:none;stroke:#1f77b4;stroke-linecap:square;stroke-width:1.5;\"/>\n   </g>\n   <g id=\"line2d_104\">\n    <path clip-path=\"url(#pbd6bffd7e3)\" d=\"M 49.633125 111.431334 \nL 69.163125 125.209491 \nL 88.693125 127.70353 \nL 108.223125 131.315493 \nL 127.753125 131.626116 \nL 147.283125 133.101866 \nL 166.813125 134.590122 \nL 186.343125 135.613696 \n\" style=\"fill:none;stroke:#ff7f0e;stroke-dasharray:5.55,2.4;stroke-dashoffset:0;stroke-width:1.5;\"/>\n   </g>\n   <g id=\"line2d_105\">\n    <path clip-path=\"url(#pbd6bffd7e3)\" d=\"M 49.633125 109.684211 \nL 69.163125 103.771406 \nL 88.693125 103.006292 \nL 108.223125 101.684174 \nL 127.753125 101.671932 \nL 147.283125 101.090445 \nL 166.813125 100.613013 \nL 186.343125 100.117219 \n\" style=\"fill:none;stroke:#2ca02c;stroke-dasharray:9.6,2.4,1.5,2.4;stroke-dashoffset:0;stroke-width:1.5;\"/>\n   </g>\n   <g id=\"line2d_106\">\n    <path clip-path=\"url(#pbd6bffd7e3)\" d=\"M 34.954394 13.377273 \nL 44.698573 78.377814 \nL 54.442752 113.0075 \nL 64.186931 119.778703 \nL 73.93111 123.952173 \nL 83.675289 125.922036 \nL 93.419468 127.893889 \nL 103.163647 129.166158 \nL 112.907826 130.216368 \nL 122.652006 131.480842 \nL 132.396185 132.083315 \nL 142.140364 133.146186 \nL 151.884543 133.874114 \nL 161.628722 133.871236 \nL 171.372901 134.821225 \nL 181.11708 135.194947 \nL 190.861259 135.7346 \nL 200.605438 135.824454 \n\" style=\"fill:none;stroke:#1f77b4;stroke-linecap:square;stroke-width:1.5;\"/>\n   </g>\n   <g id=\"line2d_107\">\n    <path clip-path=\"url(#pbd6bffd7e3)\" d=\"M 49.633125 111.431334 \nL 69.163125 125.209491 \nL 88.693125 127.70353 \nL 108.223125 131.315493 \nL 127.753125 131.626116 \nL 147.283125 133.101866 \nL 166.813125 134.590122 \nL 186.343125 135.613696 \n\" style=\"fill:none;stroke:#ff7f0e;stroke-dasharray:5.55,2.4;stroke-dashoffset:0;stroke-width:1.5;\"/>\n   </g>\n   <g id=\"line2d_108\">\n    <path clip-path=\"url(#pbd6bffd7e3)\" d=\"M 49.633125 109.684211 \nL 69.163125 103.771406 \nL 88.693125 103.006292 \nL 108.223125 101.684174 \nL 127.753125 101.671932 \nL 147.283125 101.090445 \nL 166.813125 100.613013 \nL 186.343125 100.117219 \n\" style=\"fill:none;stroke:#2ca02c;stroke-dasharray:9.6,2.4,1.5,2.4;stroke-dashoffset:0;stroke-width:1.5;\"/>\n   </g>\n   <g id=\"line2d_109\">\n    <path clip-path=\"url(#pbd6bffd7e3)\" d=\"M 34.954394 13.377273 \nL 44.698573 78.377814 \nL 54.442752 113.0075 \nL 64.186931 119.778703 \nL 73.93111 123.952173 \nL 83.675289 125.922036 \nL 93.419468 127.893889 \nL 103.163647 129.166158 \nL 112.907826 130.216368 \nL 122.652006 131.480842 \nL 132.396185 132.083315 \nL 142.140364 133.146186 \nL 151.884543 133.874114 \nL 161.628722 133.871236 \nL 171.372901 134.821225 \nL 181.11708 135.194947 \nL 190.861259 135.7346 \nL 200.605438 135.824454 \n\" style=\"fill:none;stroke:#1f77b4;stroke-linecap:square;stroke-width:1.5;\"/>\n   </g>\n   <g id=\"line2d_110\">\n    <path clip-path=\"url(#pbd6bffd7e3)\" d=\"M 49.633125 111.431334 \nL 69.163125 125.209491 \nL 88.693125 127.70353 \nL 108.223125 131.315493 \nL 127.753125 131.626116 \nL 147.283125 133.101866 \nL 166.813125 134.590122 \nL 186.343125 135.613696 \nL 205.873125 136.223774 \n\" style=\"fill:none;stroke:#ff7f0e;stroke-dasharray:5.55,2.4;stroke-dashoffset:0;stroke-width:1.5;\"/>\n   </g>\n   <g id=\"line2d_111\">\n    <path clip-path=\"url(#pbd6bffd7e3)\" d=\"M 49.633125 109.684211 \nL 69.163125 103.771406 \nL 88.693125 103.006292 \nL 108.223125 101.684174 \nL 127.753125 101.671932 \nL 147.283125 101.090445 \nL 166.813125 100.613013 \nL 186.343125 100.117219 \n\" style=\"fill:none;stroke:#2ca02c;stroke-dasharray:9.6,2.4,1.5,2.4;stroke-dashoffset:0;stroke-width:1.5;\"/>\n   </g>\n   <g id=\"line2d_112\">\n    <path clip-path=\"url(#pbd6bffd7e3)\" d=\"M 34.954394 13.377273 \nL 44.698573 78.377814 \nL 54.442752 113.0075 \nL 64.186931 119.778703 \nL 73.93111 123.952173 \nL 83.675289 125.922036 \nL 93.419468 127.893889 \nL 103.163647 129.166158 \nL 112.907826 130.216368 \nL 122.652006 131.480842 \nL 132.396185 132.083315 \nL 142.140364 133.146186 \nL 151.884543 133.874114 \nL 161.628722 133.871236 \nL 171.372901 134.821225 \nL 181.11708 135.194947 \nL 190.861259 135.7346 \nL 200.605438 135.824454 \n\" style=\"fill:none;stroke:#1f77b4;stroke-linecap:square;stroke-width:1.5;\"/>\n   </g>\n   <g id=\"line2d_113\">\n    <path clip-path=\"url(#pbd6bffd7e3)\" d=\"M 49.633125 111.431334 \nL 69.163125 125.209491 \nL 88.693125 127.70353 \nL 108.223125 131.315493 \nL 127.753125 131.626116 \nL 147.283125 133.101866 \nL 166.813125 134.590122 \nL 186.343125 135.613696 \nL 205.873125 136.223774 \n\" style=\"fill:none;stroke:#ff7f0e;stroke-dasharray:5.55,2.4;stroke-dashoffset:0;stroke-width:1.5;\"/>\n   </g>\n   <g id=\"line2d_114\">\n    <path clip-path=\"url(#pbd6bffd7e3)\" d=\"M 49.633125 109.684211 \nL 69.163125 103.771406 \nL 88.693125 103.006292 \nL 108.223125 101.684174 \nL 127.753125 101.671932 \nL 147.283125 101.090445 \nL 166.813125 100.613013 \nL 186.343125 100.117219 \nL 205.873125 99.939713 \n\" style=\"fill:none;stroke:#2ca02c;stroke-dasharray:9.6,2.4,1.5,2.4;stroke-dashoffset:0;stroke-width:1.5;\"/>\n   </g>\n   <g id=\"line2d_115\">\n    <path clip-path=\"url(#pbd6bffd7e3)\" d=\"M 34.954394 13.377273 \nL 44.698573 78.377814 \nL 54.442752 113.0075 \nL 64.186931 119.778703 \nL 73.93111 123.952173 \nL 83.675289 125.922036 \nL 93.419468 127.893889 \nL 103.163647 129.166158 \nL 112.907826 130.216368 \nL 122.652006 131.480842 \nL 132.396185 132.083315 \nL 142.140364 133.146186 \nL 151.884543 133.874114 \nL 161.628722 133.871236 \nL 171.372901 134.821225 \nL 181.11708 135.194947 \nL 190.861259 135.7346 \nL 200.605438 135.824454 \nL 210.349618 136.778049 \n\" style=\"fill:none;stroke:#1f77b4;stroke-linecap:square;stroke-width:1.5;\"/>\n   </g>\n   <g id=\"line2d_116\">\n    <path clip-path=\"url(#pbd6bffd7e3)\" d=\"M 49.633125 111.431334 \nL 69.163125 125.209491 \nL 88.693125 127.70353 \nL 108.223125 131.315493 \nL 127.753125 131.626116 \nL 147.283125 133.101866 \nL 166.813125 134.590122 \nL 186.343125 135.613696 \nL 205.873125 136.223774 \n\" style=\"fill:none;stroke:#ff7f0e;stroke-dasharray:5.55,2.4;stroke-dashoffset:0;stroke-width:1.5;\"/>\n   </g>\n   <g id=\"line2d_117\">\n    <path clip-path=\"url(#pbd6bffd7e3)\" d=\"M 49.633125 109.684211 \nL 69.163125 103.771406 \nL 88.693125 103.006292 \nL 108.223125 101.684174 \nL 127.753125 101.671932 \nL 147.283125 101.090445 \nL 166.813125 100.613013 \nL 186.343125 100.117219 \nL 205.873125 99.939713 \n\" style=\"fill:none;stroke:#2ca02c;stroke-dasharray:9.6,2.4,1.5,2.4;stroke-dashoffset:0;stroke-width:1.5;\"/>\n   </g>\n   <g id=\"line2d_118\">\n    <path clip-path=\"url(#pbd6bffd7e3)\" d=\"M 34.954394 13.377273 \nL 44.698573 78.377814 \nL 54.442752 113.0075 \nL 64.186931 119.778703 \nL 73.93111 123.952173 \nL 83.675289 125.922036 \nL 93.419468 127.893889 \nL 103.163647 129.166158 \nL 112.907826 130.216368 \nL 122.652006 131.480842 \nL 132.396185 132.083315 \nL 142.140364 133.146186 \nL 151.884543 133.874114 \nL 161.628722 133.871236 \nL 171.372901 134.821225 \nL 181.11708 135.194947 \nL 190.861259 135.7346 \nL 200.605438 135.824454 \nL 210.349618 136.778049 \nL 220.093797 136.725813 \n\" style=\"fill:none;stroke:#1f77b4;stroke-linecap:square;stroke-width:1.5;\"/>\n   </g>\n   <g id=\"line2d_119\">\n    <path clip-path=\"url(#pbd6bffd7e3)\" d=\"M 49.633125 111.431334 \nL 69.163125 125.209491 \nL 88.693125 127.70353 \nL 108.223125 131.315493 \nL 127.753125 131.626116 \nL 147.283125 133.101866 \nL 166.813125 134.590122 \nL 186.343125 135.613696 \nL 205.873125 136.223774 \n\" style=\"fill:none;stroke:#ff7f0e;stroke-dasharray:5.55,2.4;stroke-dashoffset:0;stroke-width:1.5;\"/>\n   </g>\n   <g id=\"line2d_120\">\n    <path clip-path=\"url(#pbd6bffd7e3)\" d=\"M 49.633125 109.684211 \nL 69.163125 103.771406 \nL 88.693125 103.006292 \nL 108.223125 101.684174 \nL 127.753125 101.671932 \nL 147.283125 101.090445 \nL 166.813125 100.613013 \nL 186.343125 100.117219 \nL 205.873125 99.939713 \n\" style=\"fill:none;stroke:#2ca02c;stroke-dasharray:9.6,2.4,1.5,2.4;stroke-dashoffset:0;stroke-width:1.5;\"/>\n   </g>\n   <g id=\"line2d_121\">\n    <path clip-path=\"url(#pbd6bffd7e3)\" d=\"M 34.954394 13.377273 \nL 44.698573 78.377814 \nL 54.442752 113.0075 \nL 64.186931 119.778703 \nL 73.93111 123.952173 \nL 83.675289 125.922036 \nL 93.419468 127.893889 \nL 103.163647 129.166158 \nL 112.907826 130.216368 \nL 122.652006 131.480842 \nL 132.396185 132.083315 \nL 142.140364 133.146186 \nL 151.884543 133.874114 \nL 161.628722 133.871236 \nL 171.372901 134.821225 \nL 181.11708 135.194947 \nL 190.861259 135.7346 \nL 200.605438 135.824454 \nL 210.349618 136.778049 \nL 220.093797 136.725813 \n\" style=\"fill:none;stroke:#1f77b4;stroke-linecap:square;stroke-width:1.5;\"/>\n   </g>\n   <g id=\"line2d_122\">\n    <path clip-path=\"url(#pbd6bffd7e3)\" d=\"M 49.633125 111.431334 \nL 69.163125 125.209491 \nL 88.693125 127.70353 \nL 108.223125 131.315493 \nL 127.753125 131.626116 \nL 147.283125 133.101866 \nL 166.813125 134.590122 \nL 186.343125 135.613696 \nL 205.873125 136.223774 \nL 225.403125 136.922727 \n\" style=\"fill:none;stroke:#ff7f0e;stroke-dasharray:5.55,2.4;stroke-dashoffset:0;stroke-width:1.5;\"/>\n   </g>\n   <g id=\"line2d_123\">\n    <path clip-path=\"url(#pbd6bffd7e3)\" d=\"M 49.633125 109.684211 \nL 69.163125 103.771406 \nL 88.693125 103.006292 \nL 108.223125 101.684174 \nL 127.753125 101.671932 \nL 147.283125 101.090445 \nL 166.813125 100.613013 \nL 186.343125 100.117219 \nL 205.873125 99.939713 \n\" style=\"fill:none;stroke:#2ca02c;stroke-dasharray:9.6,2.4,1.5,2.4;stroke-dashoffset:0;stroke-width:1.5;\"/>\n   </g>\n   <g id=\"line2d_124\">\n    <path clip-path=\"url(#pbd6bffd7e3)\" d=\"M 34.954394 13.377273 \nL 44.698573 78.377814 \nL 54.442752 113.0075 \nL 64.186931 119.778703 \nL 73.93111 123.952173 \nL 83.675289 125.922036 \nL 93.419468 127.893889 \nL 103.163647 129.166158 \nL 112.907826 130.216368 \nL 122.652006 131.480842 \nL 132.396185 132.083315 \nL 142.140364 133.146186 \nL 151.884543 133.874114 \nL 161.628722 133.871236 \nL 171.372901 134.821225 \nL 181.11708 135.194947 \nL 190.861259 135.7346 \nL 200.605438 135.824454 \nL 210.349618 136.778049 \nL 220.093797 136.725813 \n\" style=\"fill:none;stroke:#1f77b4;stroke-linecap:square;stroke-width:1.5;\"/>\n   </g>\n   <g id=\"line2d_125\">\n    <path clip-path=\"url(#pbd6bffd7e3)\" d=\"M 49.633125 111.431334 \nL 69.163125 125.209491 \nL 88.693125 127.70353 \nL 108.223125 131.315493 \nL 127.753125 131.626116 \nL 147.283125 133.101866 \nL 166.813125 134.590122 \nL 186.343125 135.613696 \nL 205.873125 136.223774 \nL 225.403125 136.922727 \n\" style=\"fill:none;stroke:#ff7f0e;stroke-dasharray:5.55,2.4;stroke-dashoffset:0;stroke-width:1.5;\"/>\n   </g>\n   <g id=\"line2d_126\">\n    <path clip-path=\"url(#pbd6bffd7e3)\" d=\"M 49.633125 109.684211 \nL 69.163125 103.771406 \nL 88.693125 103.006292 \nL 108.223125 101.684174 \nL 127.753125 101.671932 \nL 147.283125 101.090445 \nL 166.813125 100.613013 \nL 186.343125 100.117219 \nL 205.873125 99.939713 \nL 225.403125 99.71936 \n\" style=\"fill:none;stroke:#2ca02c;stroke-dasharray:9.6,2.4,1.5,2.4;stroke-dashoffset:0;stroke-width:1.5;\"/>\n   </g>\n   <g id=\"patch_3\">\n    <path d=\"M 30.103125 143.1 \nL 30.103125 7.2 \n\" style=\"fill:none;stroke:#000000;stroke-linecap:square;stroke-linejoin:miter;stroke-width:0.8;\"/>\n   </g>\n   <g id=\"patch_4\">\n    <path d=\"M 225.403125 143.1 \nL 225.403125 7.2 \n\" style=\"fill:none;stroke:#000000;stroke-linecap:square;stroke-linejoin:miter;stroke-width:0.8;\"/>\n   </g>\n   <g id=\"patch_5\">\n    <path d=\"M 30.103125 143.1 \nL 225.403125 143.1 \n\" style=\"fill:none;stroke:#000000;stroke-linecap:square;stroke-linejoin:miter;stroke-width:0.8;\"/>\n   </g>\n   <g id=\"patch_6\">\n    <path d=\"M 30.103125 7.2 \nL 225.403125 7.2 \n\" style=\"fill:none;stroke:#000000;stroke-linecap:square;stroke-linejoin:miter;stroke-width:0.8;\"/>\n   </g>\n   <g id=\"legend_1\">\n    <g id=\"patch_7\">\n     <path d=\"M 138.8125 60.06875 \nL 218.403125 60.06875 \nQ 220.403125 60.06875 220.403125 58.06875 \nL 220.403125 14.2 \nQ 220.403125 12.2 218.403125 12.2 \nL 138.8125 12.2 \nQ 136.8125 12.2 136.8125 14.2 \nL 136.8125 58.06875 \nQ 136.8125 60.06875 138.8125 60.06875 \nz\n\" style=\"fill:#ffffff;opacity:0.8;stroke:#cccccc;stroke-linejoin:miter;\"/>\n    </g>\n    <g id=\"line2d_127\">\n     <path d=\"M 140.8125 20.298437 \nL 160.8125 20.298437 \n\" style=\"fill:none;stroke:#1f77b4;stroke-linecap:square;stroke-width:1.5;\"/>\n    </g>\n    <g id=\"line2d_128\"/>\n    <g id=\"text_12\">\n     <!-- train_loss -->\n     <defs>\n      <path d=\"M 18.3125 70.21875 \nL 18.3125 54.6875 \nL 36.8125 54.6875 \nL 36.8125 47.703125 \nL 18.3125 47.703125 \nL 18.3125 18.015625 \nQ 18.3125 11.328125 20.140625 9.421875 \nQ 21.96875 7.515625 27.59375 7.515625 \nL 36.8125 7.515625 \nL 36.8125 0 \nL 27.59375 0 \nQ 17.1875 0 13.234375 3.875 \nQ 9.28125 7.765625 9.28125 18.015625 \nL 9.28125 47.703125 \nL 2.6875 47.703125 \nL 2.6875 54.6875 \nL 9.28125 54.6875 \nL 9.28125 70.21875 \nz\n\" id=\"DejaVuSans-116\"/>\n      <path d=\"M 41.109375 46.296875 \nQ 39.59375 47.171875 37.8125 47.578125 \nQ 36.03125 48 33.890625 48 \nQ 26.265625 48 22.1875 43.046875 \nQ 18.109375 38.09375 18.109375 28.8125 \nL 18.109375 0 \nL 9.078125 0 \nL 9.078125 54.6875 \nL 18.109375 54.6875 \nL 18.109375 46.1875 \nQ 20.953125 51.171875 25.484375 53.578125 \nQ 30.03125 56 36.53125 56 \nQ 37.453125 56 38.578125 55.875 \nQ 39.703125 55.765625 41.0625 55.515625 \nz\n\" id=\"DejaVuSans-114\"/>\n      <path d=\"M 34.28125 27.484375 \nQ 23.390625 27.484375 19.1875 25 \nQ 14.984375 22.515625 14.984375 16.5 \nQ 14.984375 11.71875 18.140625 8.90625 \nQ 21.296875 6.109375 26.703125 6.109375 \nQ 34.1875 6.109375 38.703125 11.40625 \nQ 43.21875 16.703125 43.21875 25.484375 \nL 43.21875 27.484375 \nz\nM 52.203125 31.203125 \nL 52.203125 0 \nL 43.21875 0 \nL 43.21875 8.296875 \nQ 40.140625 3.328125 35.546875 0.953125 \nQ 30.953125 -1.421875 24.3125 -1.421875 \nQ 15.921875 -1.421875 10.953125 3.296875 \nQ 6 8.015625 6 15.921875 \nQ 6 25.140625 12.171875 29.828125 \nQ 18.359375 34.515625 30.609375 34.515625 \nL 43.21875 34.515625 \nL 43.21875 35.40625 \nQ 43.21875 41.609375 39.140625 45 \nQ 35.0625 48.390625 27.6875 48.390625 \nQ 23 48.390625 18.546875 47.265625 \nQ 14.109375 46.140625 10.015625 43.890625 \nL 10.015625 52.203125 \nQ 14.9375 54.109375 19.578125 55.046875 \nQ 24.21875 56 28.609375 56 \nQ 40.484375 56 46.34375 49.84375 \nQ 52.203125 43.703125 52.203125 31.203125 \nz\n\" id=\"DejaVuSans-97\"/>\n      <path d=\"M 9.421875 54.6875 \nL 18.40625 54.6875 \nL 18.40625 0 \nL 9.421875 0 \nz\nM 9.421875 75.984375 \nL 18.40625 75.984375 \nL 18.40625 64.59375 \nL 9.421875 64.59375 \nz\n\" id=\"DejaVuSans-105\"/>\n      <path d=\"M 54.890625 33.015625 \nL 54.890625 0 \nL 45.90625 0 \nL 45.90625 32.71875 \nQ 45.90625 40.484375 42.875 44.328125 \nQ 39.84375 48.1875 33.796875 48.1875 \nQ 26.515625 48.1875 22.3125 43.546875 \nQ 18.109375 38.921875 18.109375 30.90625 \nL 18.109375 0 \nL 9.078125 0 \nL 9.078125 54.6875 \nL 18.109375 54.6875 \nL 18.109375 46.1875 \nQ 21.34375 51.125 25.703125 53.5625 \nQ 30.078125 56 35.796875 56 \nQ 45.21875 56 50.046875 50.171875 \nQ 54.890625 44.34375 54.890625 33.015625 \nz\n\" id=\"DejaVuSans-110\"/>\n      <path d=\"M 50.984375 -16.609375 \nL 50.984375 -23.578125 \nL -0.984375 -23.578125 \nL -0.984375 -16.609375 \nz\n\" id=\"DejaVuSans-95\"/>\n      <path d=\"M 9.421875 75.984375 \nL 18.40625 75.984375 \nL 18.40625 0 \nL 9.421875 0 \nz\n\" id=\"DejaVuSans-108\"/>\n      <path d=\"M 44.28125 53.078125 \nL 44.28125 44.578125 \nQ 40.484375 46.53125 36.375 47.5 \nQ 32.28125 48.484375 27.875 48.484375 \nQ 21.1875 48.484375 17.84375 46.4375 \nQ 14.5 44.390625 14.5 40.28125 \nQ 14.5 37.15625 16.890625 35.375 \nQ 19.28125 33.59375 26.515625 31.984375 \nL 29.59375 31.296875 \nQ 39.15625 29.25 43.1875 25.515625 \nQ 47.21875 21.78125 47.21875 15.09375 \nQ 47.21875 7.46875 41.1875 3.015625 \nQ 35.15625 -1.421875 24.609375 -1.421875 \nQ 20.21875 -1.421875 15.453125 -0.5625 \nQ 10.6875 0.296875 5.421875 2 \nL 5.421875 11.28125 \nQ 10.40625 8.6875 15.234375 7.390625 \nQ 20.0625 6.109375 24.8125 6.109375 \nQ 31.15625 6.109375 34.5625 8.28125 \nQ 37.984375 10.453125 37.984375 14.40625 \nQ 37.984375 18.0625 35.515625 20.015625 \nQ 33.0625 21.96875 24.703125 23.78125 \nL 21.578125 24.515625 \nQ 13.234375 26.265625 9.515625 29.90625 \nQ 5.8125 33.546875 5.8125 39.890625 \nQ 5.8125 47.609375 11.28125 51.796875 \nQ 16.75 56 26.8125 56 \nQ 31.78125 56 36.171875 55.265625 \nQ 40.578125 54.546875 44.28125 53.078125 \nz\n\" id=\"DejaVuSans-115\"/>\n     </defs>\n     <g transform=\"translate(168.8125 23.798437)scale(0.1 -0.1)\">\n      <use xlink:href=\"#DejaVuSans-116\"/>\n      <use x=\"39.208984\" xlink:href=\"#DejaVuSans-114\"/>\n      <use x=\"80.322266\" xlink:href=\"#DejaVuSans-97\"/>\n      <use x=\"141.601562\" xlink:href=\"#DejaVuSans-105\"/>\n      <use x=\"169.384766\" xlink:href=\"#DejaVuSans-110\"/>\n      <use x=\"232.763672\" xlink:href=\"#DejaVuSans-95\"/>\n      <use x=\"282.763672\" xlink:href=\"#DejaVuSans-108\"/>\n      <use x=\"310.546875\" xlink:href=\"#DejaVuSans-111\"/>\n      <use x=\"371.728516\" xlink:href=\"#DejaVuSans-115\"/>\n      <use x=\"423.828125\" xlink:href=\"#DejaVuSans-115\"/>\n     </g>\n    </g>\n    <g id=\"line2d_129\">\n     <path d=\"M 140.8125 35.254687 \nL 160.8125 35.254687 \n\" style=\"fill:none;stroke:#ff7f0e;stroke-dasharray:5.55,2.4;stroke-dashoffset:0;stroke-width:1.5;\"/>\n    </g>\n    <g id=\"line2d_130\"/>\n    <g id=\"text_13\">\n     <!-- val_loss -->\n     <defs>\n      <path d=\"M 2.984375 54.6875 \nL 12.5 54.6875 \nL 29.59375 8.796875 \nL 46.6875 54.6875 \nL 56.203125 54.6875 \nL 35.6875 0 \nL 23.484375 0 \nz\n\" id=\"DejaVuSans-118\"/>\n     </defs>\n     <g transform=\"translate(168.8125 38.754687)scale(0.1 -0.1)\">\n      <use xlink:href=\"#DejaVuSans-118\"/>\n      <use x=\"59.179688\" xlink:href=\"#DejaVuSans-97\"/>\n      <use x=\"120.458984\" xlink:href=\"#DejaVuSans-108\"/>\n      <use x=\"148.242188\" xlink:href=\"#DejaVuSans-95\"/>\n      <use x=\"198.242188\" xlink:href=\"#DejaVuSans-108\"/>\n      <use x=\"226.025391\" xlink:href=\"#DejaVuSans-111\"/>\n      <use x=\"287.207031\" xlink:href=\"#DejaVuSans-115\"/>\n      <use x=\"339.306641\" xlink:href=\"#DejaVuSans-115\"/>\n     </g>\n    </g>\n    <g id=\"line2d_131\">\n     <path d=\"M 140.8125 50.210937 \nL 160.8125 50.210937 \n\" style=\"fill:none;stroke:#2ca02c;stroke-dasharray:9.6,2.4,1.5,2.4;stroke-dashoffset:0;stroke-width:1.5;\"/>\n    </g>\n    <g id=\"line2d_132\"/>\n    <g id=\"text_14\">\n     <!-- val_acc -->\n     <g transform=\"translate(168.8125 53.710937)scale(0.1 -0.1)\">\n      <use xlink:href=\"#DejaVuSans-118\"/>\n      <use x=\"59.179688\" xlink:href=\"#DejaVuSans-97\"/>\n      <use x=\"120.458984\" xlink:href=\"#DejaVuSans-108\"/>\n      <use x=\"148.242188\" xlink:href=\"#DejaVuSans-95\"/>\n      <use x=\"198.242188\" xlink:href=\"#DejaVuSans-97\"/>\n      <use x=\"259.521484\" xlink:href=\"#DejaVuSans-99\"/>\n      <use x=\"314.501953\" xlink:href=\"#DejaVuSans-99\"/>\n     </g>\n    </g>\n   </g>\n  </g>\n </g>\n <defs>\n  <clipPath id=\"pbd6bffd7e3\">\n   <rect height=\"135.9\" width=\"195.3\" x=\"30.103125\" y=\"7.2\"/>\n  </clipPath>\n </defs>\n</svg>\n"
          },
          "metadata": {
            "needs_background": "light"
          }
        }
      ],
      "source": [
        "model = VGG(arch=((1, 16), (1, 32), (2, 64), (2, 128), (2, 128)), lr=0.01)\n",
        "trainer = d2l.Trainer(max_epochs=10, num_gpus=1)\n",
        "data = d2l.FashionMNIST(batch_size=128, resize=(224, 224))\n",
        "model.apply_init([next(iter(data.get_dataloader(True)))[0]], d2l.init_cnn)\n",
        "trainer.fit(model, data)"
      ]
    },
    {
      "cell_type": "markdown",
      "id": "f4e764f1",
      "metadata": {
        "origin_pos": 13,
        "id": "f4e764f1"
      },
      "source": [
        "## Summary\n",
        "\n",
        "One might argue that VGG is the first truly modern convolutional neural network. While AlexNet introduced many of the components of what make deep learning effective at scale, it is VGG that arguably introduced key properties such as blocks of multiple convolutions and a preference for deep and narrow networks. It is also the first network that is actually an entire family of similarly parametrized models, giving the practitioner ample trade-off between complexity and speed. This is also the place where modern deep learning frameworks shine. It is no longer necessary to generate XML config files to specify a network but rather, to assmple said networks through simple Python code. \n",
        "\n",
        "Very recently ParNet :cite:`Goyal.Bochkovskiy.Deng.ea.2021` demonstrated that it is possible to achieve competitive performance using a much more shallow architecture through a large number of parallel computations. This is an exciting development and there's hope that it will influence architecture designs in the future. For the remainder of the chapter, though, we will follow the path of scientific progress over the past decade. \n",
        "\n",
        "## Exercises\n",
        "\n",
        "\n",
        "1. Compared with AlexNet, VGG is much slower in terms of computation, and it also needs more GPU memory. \n",
        "    1. Compare the number of parameters needed for AlexNet and VGG.\n",
        "    1. Compare the number of floating point operations used in the convolutional layers and in the fully connected layers. \n",
        "    1. How could you reduce the computational cost created by the fully connected layers?\n",
        "1. When displaying the dimensions associated with the various layers of the network, we only see the information associated with 8 blocks (plus some auxiliary transforms), even though the network has 11 layers. Where did the remaining 3 layers go?\n",
        "1. Use Table 1 in the VGG paper :cite:`Simonyan.Zisserman.2014` to construct other common models, such as VGG-16 or VGG-19.\n",
        "1. Upsampling the resolution in Fashion-MNIST by a factor of $8$ from $28 \\times 28$ to $224 \\times 224$ dimensions is very wasteful. Try modifying the network architecture and resolution conversion, e.g., to 56 or to 84 dimensions for its input instead. Can you do so without reducing the accuracy of the network? Consider the VGG paper :cite:`Simonyan.Zisserman.2014` for ideas on adding more nonlinearities prior to downsampling.\n"
      ]
    },
    {
      "cell_type": "markdown",
      "id": "0d5babdc",
      "metadata": {
        "origin_pos": 15,
        "tab": [
          "pytorch"
        ],
        "id": "0d5babdc"
      },
      "source": [
        "[Discussions](https://discuss.d2l.ai/t/78)\n"
      ]
    }
  ],
  "metadata": {
    "accelerator": "GPU",
    "kernelspec": {
      "display_name": "Python 3",
      "name": "python3"
    },
    "language_info": {
      "name": "python"
    },
    "colab": {
      "provenance": []
    }
  },
  "nbformat": 4,
  "nbformat_minor": 5
}