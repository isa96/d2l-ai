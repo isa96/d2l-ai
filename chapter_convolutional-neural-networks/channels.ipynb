{
  "cells": [
    {
      "cell_type": "markdown",
      "id": "8f42a64d",
      "metadata": {
        "id": "8f42a64d"
      },
      "source": [
        "The following additional libraries are needed to run this\n",
        "notebook. Note that running on Colab is experimental, please report a Github\n",
        "issue if you have any problem."
      ]
    },
    {
      "cell_type": "code",
      "execution_count": 1,
      "id": "ff091cb8",
      "metadata": {
        "id": "ff091cb8",
        "outputId": "fd80e00e-ad43-476e-8564-08c27f1981c8",
        "colab": {
          "base_uri": "https://localhost:8080/"
        }
      },
      "outputs": [
        {
          "output_type": "stream",
          "name": "stdout",
          "text": [
            "Looking in indexes: https://pypi.org/simple, https://us-python.pkg.dev/colab-wheels/public/simple/\n",
            "Collecting d2l==1.0.0-alpha1.post0\n",
            "  Downloading d2l-1.0.0a1.post0-py3-none-any.whl (93 kB)\n",
            "\u001b[K     |████████████████████████████████| 93 kB 1.0 MB/s \n",
            "\u001b[?25hCollecting jupyter\n",
            "  Downloading jupyter-1.0.0-py2.py3-none-any.whl (2.7 kB)\n",
            "Requirement already satisfied: gym in /usr/local/lib/python3.7/dist-packages (from d2l==1.0.0-alpha1.post0) (0.25.2)\n",
            "Requirement already satisfied: pandas in /usr/local/lib/python3.7/dist-packages (from d2l==1.0.0-alpha1.post0) (1.3.5)\n",
            "Requirement already satisfied: requests in /usr/local/lib/python3.7/dist-packages (from d2l==1.0.0-alpha1.post0) (2.23.0)\n",
            "Requirement already satisfied: numpy in /usr/local/lib/python3.7/dist-packages (from d2l==1.0.0-alpha1.post0) (1.21.6)\n",
            "Requirement already satisfied: matplotlib in /usr/local/lib/python3.7/dist-packages (from d2l==1.0.0-alpha1.post0) (3.2.2)\n",
            "Collecting matplotlib-inline\n",
            "  Downloading matplotlib_inline-0.1.6-py3-none-any.whl (9.4 kB)\n",
            "Requirement already satisfied: importlib-metadata>=4.8.0 in /usr/local/lib/python3.7/dist-packages (from gym->d2l==1.0.0-alpha1.post0) (4.13.0)\n",
            "Requirement already satisfied: cloudpickle>=1.2.0 in /usr/local/lib/python3.7/dist-packages (from gym->d2l==1.0.0-alpha1.post0) (1.5.0)\n",
            "Requirement already satisfied: gym-notices>=0.0.4 in /usr/local/lib/python3.7/dist-packages (from gym->d2l==1.0.0-alpha1.post0) (0.0.8)\n",
            "Requirement already satisfied: zipp>=0.5 in /usr/local/lib/python3.7/dist-packages (from importlib-metadata>=4.8.0->gym->d2l==1.0.0-alpha1.post0) (3.9.0)\n",
            "Requirement already satisfied: typing-extensions>=3.6.4 in /usr/local/lib/python3.7/dist-packages (from importlib-metadata>=4.8.0->gym->d2l==1.0.0-alpha1.post0) (4.1.1)\n",
            "Requirement already satisfied: nbconvert in /usr/local/lib/python3.7/dist-packages (from jupyter->d2l==1.0.0-alpha1.post0) (5.6.1)\n",
            "Collecting qtconsole\n",
            "  Downloading qtconsole-5.3.2-py3-none-any.whl (120 kB)\n",
            "\u001b[K     |████████████████████████████████| 120 kB 34.4 MB/s \n",
            "\u001b[?25hRequirement already satisfied: jupyter-console in /usr/local/lib/python3.7/dist-packages (from jupyter->d2l==1.0.0-alpha1.post0) (6.1.0)\n",
            "Requirement already satisfied: notebook in /usr/local/lib/python3.7/dist-packages (from jupyter->d2l==1.0.0-alpha1.post0) (5.5.0)\n",
            "Requirement already satisfied: ipykernel in /usr/local/lib/python3.7/dist-packages (from jupyter->d2l==1.0.0-alpha1.post0) (5.3.4)\n",
            "Requirement already satisfied: ipywidgets in /usr/local/lib/python3.7/dist-packages (from jupyter->d2l==1.0.0-alpha1.post0) (7.7.1)\n",
            "Requirement already satisfied: jupyter-client in /usr/local/lib/python3.7/dist-packages (from ipykernel->jupyter->d2l==1.0.0-alpha1.post0) (6.1.12)\n",
            "Requirement already satisfied: traitlets>=4.1.0 in /usr/local/lib/python3.7/dist-packages (from ipykernel->jupyter->d2l==1.0.0-alpha1.post0) (5.1.1)\n",
            "Requirement already satisfied: tornado>=4.2 in /usr/local/lib/python3.7/dist-packages (from ipykernel->jupyter->d2l==1.0.0-alpha1.post0) (5.1.1)\n",
            "Requirement already satisfied: ipython>=5.0.0 in /usr/local/lib/python3.7/dist-packages (from ipykernel->jupyter->d2l==1.0.0-alpha1.post0) (7.9.0)\n",
            "Requirement already satisfied: pickleshare in /usr/local/lib/python3.7/dist-packages (from ipython>=5.0.0->ipykernel->jupyter->d2l==1.0.0-alpha1.post0) (0.7.5)\n",
            "Requirement already satisfied: prompt-toolkit<2.1.0,>=2.0.0 in /usr/local/lib/python3.7/dist-packages (from ipython>=5.0.0->ipykernel->jupyter->d2l==1.0.0-alpha1.post0) (2.0.10)\n",
            "Requirement already satisfied: pygments in /usr/local/lib/python3.7/dist-packages (from ipython>=5.0.0->ipykernel->jupyter->d2l==1.0.0-alpha1.post0) (2.6.1)\n",
            "Requirement already satisfied: backcall in /usr/local/lib/python3.7/dist-packages (from ipython>=5.0.0->ipykernel->jupyter->d2l==1.0.0-alpha1.post0) (0.2.0)\n",
            "Requirement already satisfied: pexpect in /usr/local/lib/python3.7/dist-packages (from ipython>=5.0.0->ipykernel->jupyter->d2l==1.0.0-alpha1.post0) (4.8.0)\n",
            "Collecting jedi>=0.10\n",
            "  Downloading jedi-0.18.1-py2.py3-none-any.whl (1.6 MB)\n",
            "\u001b[K     |████████████████████████████████| 1.6 MB 59.2 MB/s \n",
            "\u001b[?25hRequirement already satisfied: decorator in /usr/local/lib/python3.7/dist-packages (from ipython>=5.0.0->ipykernel->jupyter->d2l==1.0.0-alpha1.post0) (4.4.2)\n",
            "Requirement already satisfied: setuptools>=18.5 in /usr/local/lib/python3.7/dist-packages (from ipython>=5.0.0->ipykernel->jupyter->d2l==1.0.0-alpha1.post0) (57.4.0)\n",
            "Requirement already satisfied: parso<0.9.0,>=0.8.0 in /usr/local/lib/python3.7/dist-packages (from jedi>=0.10->ipython>=5.0.0->ipykernel->jupyter->d2l==1.0.0-alpha1.post0) (0.8.3)\n",
            "Requirement already satisfied: wcwidth in /usr/local/lib/python3.7/dist-packages (from prompt-toolkit<2.1.0,>=2.0.0->ipython>=5.0.0->ipykernel->jupyter->d2l==1.0.0-alpha1.post0) (0.2.5)\n",
            "Requirement already satisfied: six>=1.9.0 in /usr/local/lib/python3.7/dist-packages (from prompt-toolkit<2.1.0,>=2.0.0->ipython>=5.0.0->ipykernel->jupyter->d2l==1.0.0-alpha1.post0) (1.15.0)\n",
            "Requirement already satisfied: widgetsnbextension~=3.6.0 in /usr/local/lib/python3.7/dist-packages (from ipywidgets->jupyter->d2l==1.0.0-alpha1.post0) (3.6.1)\n",
            "Requirement already satisfied: ipython-genutils~=0.2.0 in /usr/local/lib/python3.7/dist-packages (from ipywidgets->jupyter->d2l==1.0.0-alpha1.post0) (0.2.0)\n",
            "Requirement already satisfied: jupyterlab-widgets>=1.0.0 in /usr/local/lib/python3.7/dist-packages (from ipywidgets->jupyter->d2l==1.0.0-alpha1.post0) (3.0.3)\n",
            "Requirement already satisfied: Send2Trash in /usr/local/lib/python3.7/dist-packages (from notebook->jupyter->d2l==1.0.0-alpha1.post0) (1.8.0)\n",
            "Requirement already satisfied: jinja2 in /usr/local/lib/python3.7/dist-packages (from notebook->jupyter->d2l==1.0.0-alpha1.post0) (2.11.3)\n",
            "Requirement already satisfied: jupyter-core>=4.4.0 in /usr/local/lib/python3.7/dist-packages (from notebook->jupyter->d2l==1.0.0-alpha1.post0) (4.11.1)\n",
            "Requirement already satisfied: terminado>=0.8.1 in /usr/local/lib/python3.7/dist-packages (from notebook->jupyter->d2l==1.0.0-alpha1.post0) (0.13.3)\n",
            "Requirement already satisfied: pyzmq>=17 in /usr/local/lib/python3.7/dist-packages (from notebook->jupyter->d2l==1.0.0-alpha1.post0) (23.2.1)\n",
            "Requirement already satisfied: nbformat in /usr/local/lib/python3.7/dist-packages (from notebook->jupyter->d2l==1.0.0-alpha1.post0) (5.7.0)\n",
            "Requirement already satisfied: python-dateutil>=2.1 in /usr/local/lib/python3.7/dist-packages (from jupyter-client->ipykernel->jupyter->d2l==1.0.0-alpha1.post0) (2.8.2)\n",
            "Requirement already satisfied: ptyprocess in /usr/local/lib/python3.7/dist-packages (from terminado>=0.8.1->notebook->jupyter->d2l==1.0.0-alpha1.post0) (0.7.0)\n",
            "Requirement already satisfied: MarkupSafe>=0.23 in /usr/local/lib/python3.7/dist-packages (from jinja2->notebook->jupyter->d2l==1.0.0-alpha1.post0) (2.0.1)\n",
            "Requirement already satisfied: kiwisolver>=1.0.1 in /usr/local/lib/python3.7/dist-packages (from matplotlib->d2l==1.0.0-alpha1.post0) (1.4.4)\n",
            "Requirement already satisfied: cycler>=0.10 in /usr/local/lib/python3.7/dist-packages (from matplotlib->d2l==1.0.0-alpha1.post0) (0.11.0)\n",
            "Requirement already satisfied: pyparsing!=2.0.4,!=2.1.2,!=2.1.6,>=2.0.1 in /usr/local/lib/python3.7/dist-packages (from matplotlib->d2l==1.0.0-alpha1.post0) (3.0.9)\n",
            "Requirement already satisfied: bleach in /usr/local/lib/python3.7/dist-packages (from nbconvert->jupyter->d2l==1.0.0-alpha1.post0) (5.0.1)\n",
            "Requirement already satisfied: pandocfilters>=1.4.1 in /usr/local/lib/python3.7/dist-packages (from nbconvert->jupyter->d2l==1.0.0-alpha1.post0) (1.5.0)\n",
            "Requirement already satisfied: testpath in /usr/local/lib/python3.7/dist-packages (from nbconvert->jupyter->d2l==1.0.0-alpha1.post0) (0.6.0)\n",
            "Requirement already satisfied: mistune<2,>=0.8.1 in /usr/local/lib/python3.7/dist-packages (from nbconvert->jupyter->d2l==1.0.0-alpha1.post0) (0.8.4)\n",
            "Requirement already satisfied: defusedxml in /usr/local/lib/python3.7/dist-packages (from nbconvert->jupyter->d2l==1.0.0-alpha1.post0) (0.7.1)\n",
            "Requirement already satisfied: entrypoints>=0.2.2 in /usr/local/lib/python3.7/dist-packages (from nbconvert->jupyter->d2l==1.0.0-alpha1.post0) (0.4)\n",
            "Requirement already satisfied: jsonschema>=2.6 in /usr/local/lib/python3.7/dist-packages (from nbformat->notebook->jupyter->d2l==1.0.0-alpha1.post0) (4.3.3)\n",
            "Requirement already satisfied: fastjsonschema in /usr/local/lib/python3.7/dist-packages (from nbformat->notebook->jupyter->d2l==1.0.0-alpha1.post0) (2.16.2)\n",
            "Requirement already satisfied: pyrsistent!=0.17.0,!=0.17.1,!=0.17.2,>=0.14.0 in /usr/local/lib/python3.7/dist-packages (from jsonschema>=2.6->nbformat->notebook->jupyter->d2l==1.0.0-alpha1.post0) (0.18.1)\n",
            "Requirement already satisfied: importlib-resources>=1.4.0 in /usr/local/lib/python3.7/dist-packages (from jsonschema>=2.6->nbformat->notebook->jupyter->d2l==1.0.0-alpha1.post0) (5.10.0)\n",
            "Requirement already satisfied: attrs>=17.4.0 in /usr/local/lib/python3.7/dist-packages (from jsonschema>=2.6->nbformat->notebook->jupyter->d2l==1.0.0-alpha1.post0) (22.1.0)\n",
            "Requirement already satisfied: webencodings in /usr/local/lib/python3.7/dist-packages (from bleach->nbconvert->jupyter->d2l==1.0.0-alpha1.post0) (0.5.1)\n",
            "Requirement already satisfied: pytz>=2017.3 in /usr/local/lib/python3.7/dist-packages (from pandas->d2l==1.0.0-alpha1.post0) (2022.4)\n",
            "Collecting qtpy>=2.0.1\n",
            "  Downloading QtPy-2.2.1-py3-none-any.whl (82 kB)\n",
            "\u001b[K     |████████████████████████████████| 82 kB 827 kB/s \n",
            "\u001b[?25hRequirement already satisfied: packaging in /usr/local/lib/python3.7/dist-packages (from qtpy>=2.0.1->qtconsole->jupyter->d2l==1.0.0-alpha1.post0) (21.3)\n",
            "Requirement already satisfied: chardet<4,>=3.0.2 in /usr/local/lib/python3.7/dist-packages (from requests->d2l==1.0.0-alpha1.post0) (3.0.4)\n",
            "Requirement already satisfied: certifi>=2017.4.17 in /usr/local/lib/python3.7/dist-packages (from requests->d2l==1.0.0-alpha1.post0) (2022.9.24)\n",
            "Requirement already satisfied: urllib3!=1.25.0,!=1.25.1,<1.26,>=1.21.1 in /usr/local/lib/python3.7/dist-packages (from requests->d2l==1.0.0-alpha1.post0) (1.24.3)\n",
            "Requirement already satisfied: idna<3,>=2.5 in /usr/local/lib/python3.7/dist-packages (from requests->d2l==1.0.0-alpha1.post0) (2.10)\n",
            "Installing collected packages: jedi, qtpy, qtconsole, matplotlib-inline, jupyter, d2l\n",
            "Successfully installed d2l-1.0.0a1.post0 jedi-0.18.1 jupyter-1.0.0 matplotlib-inline-0.1.6 qtconsole-5.3.2 qtpy-2.2.1\n"
          ]
        }
      ],
      "source": [
        "!pip install d2l==1.0.0-alpha1.post0\n"
      ]
    },
    {
      "cell_type": "markdown",
      "id": "7cba414b",
      "metadata": {
        "origin_pos": 1,
        "id": "7cba414b"
      },
      "source": [
        "# Multiple Input and Multiple Output Channels\n",
        ":label:`sec_channels`\n",
        "\n",
        "While we described the multiple channels\n",
        "that comprise each image (e.g., color images have the standard RGB channels\n",
        "to indicate the amount of red, green and blue) and convolutional layers for multiple channels in :numref:`subsec_why-conv-channels`,\n",
        "until now, we simplified all of our numerical examples\n",
        "by working with just a single input and a single output channel.\n",
        "This allowed us to think of our inputs, convolution kernels,\n",
        "and outputs each as two-dimensional tensors.\n",
        "\n",
        "When we add channels into the mix,\n",
        "our inputs and hidden representations\n",
        "both become three-dimensional tensors.\n",
        "For example, each RGB input image has shape $3\\times h\\times w$.\n",
        "We refer to this axis, with a size of 3, as the *channel* dimension. The notion of\n",
        "channels is as old as CNNs themselves. For instance LeNet5 :cite:`LeCun.Jackel.Bottou.ea.1995` uses them. \n",
        "In this section, we will take a deeper look\n",
        "at convolution kernels with multiple input and multiple output channels.\n",
        "\n",
        "## Multiple Input Channels\n",
        "\n",
        "When the input data contains multiple channels,\n",
        "we need to construct a convolution kernel\n",
        "with the same number of input channels as the input data,\n",
        "so that it can perform cross-correlation with the input data.\n",
        "Assuming that the number of channels for the input data is $c_i$,\n",
        "the number of input channels of the convolution kernel also needs to be $c_i$. If our convolution kernel's window shape is $k_h\\times k_w$,\n",
        "then when $c_i=1$, we can think of our convolution kernel\n",
        "as just a two-dimensional tensor of shape $k_h\\times k_w$.\n",
        "\n",
        "However, when $c_i>1$, we need a kernel\n",
        "that contains a tensor of shape $k_h\\times k_w$ for *every* input channel. Concatenating these $c_i$ tensors together\n",
        "yields a convolution kernel of shape $c_i\\times k_h\\times k_w$.\n",
        "Since the input and convolution kernel each have $c_i$ channels,\n",
        "we can perform a cross-correlation operation\n",
        "on the two-dimensional tensor of the input\n",
        "and the two-dimensional tensor of the convolution kernel\n",
        "for each channel, adding the $c_i$ results together\n",
        "(summing over the channels)\n",
        "to yield a two-dimensional tensor.\n",
        "This is the result of a two-dimensional cross-correlation\n",
        "between a multi-channel input and\n",
        "a multi-input-channel convolution kernel.\n",
        "\n",
        ":numref:`fig_conv_multi_in` provides an example \n",
        "of a two-dimensional cross-correlation with two input channels.\n",
        "The shaded portions are the first output element\n",
        "as well as the input and kernel tensor elements used for the output computation:\n",
        "$(1\\times1+2\\times2+4\\times3+5\\times4)+(0\\times0+1\\times1+3\\times2+4\\times3)=56$.\n",
        "\n",
        "![Cross-correlation computation with 2 input channels.](https://github.com/d2l-ai/d2l-pytorch-colab/blob/master/img/conv-multi-in.svg?raw=1)\n",
        ":label:`fig_conv_multi_in`\n",
        "\n",
        "\n",
        "To make sure we really understand what is going on here,\n",
        "we can (**implement cross-correlation operations with multiple input channels**) ourselves.\n",
        "Notice that all we are doing is performing a cross-correlation operation\n",
        "per channel and then adding up the results.\n"
      ]
    },
    {
      "cell_type": "code",
      "execution_count": 2,
      "id": "56313b3b",
      "metadata": {
        "execution": {
          "iopub.execute_input": "2022-09-07T22:07:50.892804Z",
          "iopub.status.busy": "2022-09-07T22:07:50.892114Z",
          "iopub.status.idle": "2022-09-07T22:07:52.836715Z",
          "shell.execute_reply": "2022-09-07T22:07:52.835886Z"
        },
        "origin_pos": 3,
        "tab": [
          "pytorch"
        ],
        "id": "56313b3b"
      },
      "outputs": [],
      "source": [
        "import torch\n",
        "from d2l import torch as d2l"
      ]
    },
    {
      "cell_type": "code",
      "execution_count": 3,
      "id": "1ec53857",
      "metadata": {
        "execution": {
          "iopub.execute_input": "2022-09-07T22:07:52.842257Z",
          "iopub.status.busy": "2022-09-07T22:07:52.841683Z",
          "iopub.status.idle": "2022-09-07T22:07:52.846057Z",
          "shell.execute_reply": "2022-09-07T22:07:52.845340Z"
        },
        "origin_pos": 4,
        "tab": [
          "pytorch"
        ],
        "id": "1ec53857"
      },
      "outputs": [],
      "source": [
        "def corr2d_multi_in(X, K):\n",
        "    # Iterate through the 0th dimension (channel) of K first, then add them up\n",
        "    return sum(d2l.corr2d(x, k) for x, k in zip(X, K))"
      ]
    },
    {
      "cell_type": "markdown",
      "id": "818640b2",
      "metadata": {
        "origin_pos": 6,
        "id": "818640b2"
      },
      "source": [
        "We can construct the input tensor `X` and the kernel tensor `K`\n",
        "corresponding to the values in :numref:`fig_conv_multi_in`\n",
        "to (**validate the output**) of the cross-correlation operation.\n"
      ]
    },
    {
      "cell_type": "code",
      "execution_count": 4,
      "id": "81c2b999",
      "metadata": {
        "execution": {
          "iopub.execute_input": "2022-09-07T22:07:52.850692Z",
          "iopub.status.busy": "2022-09-07T22:07:52.850003Z",
          "iopub.status.idle": "2022-09-07T22:07:52.900474Z",
          "shell.execute_reply": "2022-09-07T22:07:52.898534Z"
        },
        "origin_pos": 7,
        "tab": [
          "pytorch"
        ],
        "id": "81c2b999",
        "outputId": "33e9171b-61d4-4d9c-90d3-98009e2d1768",
        "colab": {
          "base_uri": "https://localhost:8080/"
        }
      },
      "outputs": [
        {
          "output_type": "execute_result",
          "data": {
            "text/plain": [
              "tensor([[ 56.,  72.],\n",
              "        [104., 120.]])"
            ]
          },
          "metadata": {},
          "execution_count": 4
        }
      ],
      "source": [
        "X = torch.tensor([[[0.0, 1.0, 2.0], [3.0, 4.0, 5.0], [6.0, 7.0, 8.0]],\n",
        "               [[1.0, 2.0, 3.0], [4.0, 5.0, 6.0], [7.0, 8.0, 9.0]]])\n",
        "K = torch.tensor([[[0.0, 1.0], [2.0, 3.0]], [[1.0, 2.0], [3.0, 4.0]]])\n",
        "\n",
        "corr2d_multi_in(X, K)"
      ]
    },
    {
      "cell_type": "markdown",
      "id": "0b4e7fae",
      "metadata": {
        "origin_pos": 8,
        "id": "0b4e7fae"
      },
      "source": [
        "## Multiple Output Channels\n",
        ":label:`subsec_multi-output-channels`\n",
        "\n",
        "Regardless of the number of input channels,\n",
        "so far we always ended up with one output channel.\n",
        "However, as we discussed in :numref:`subsec_why-conv-channels`,\n",
        "it turns out to be essential to have multiple channels at each layer.\n",
        "In the most popular neural network architectures,\n",
        "we actually increase the channel dimension\n",
        "as we go deeper in the neural network,\n",
        "typically downsampling to trade off spatial resolution\n",
        "for greater *channel depth*.\n",
        "Intuitively, you could think of each channel\n",
        "as responding to a different set of features.\n",
        "The reality is a bit more complicated than this. A naive interpretation would suggest \n",
        "that representations are learned independently per pixel or per channel. \n",
        "Instead, channels are optimized to be jointly useful.\n",
        "This means that rather than mapping a single channel to an edge detector, it may simply mean \n",
        "that some direction in channel space corresponds to detecting edges.\n",
        "\n",
        "Denote by $c_i$ and $c_o$ the number\n",
        "of input and output channels, respectively,\n",
        "and let $k_h$ and $k_w$ be the height and width of the kernel.\n",
        "To get an output with multiple channels,\n",
        "we can create a kernel tensor\n",
        "of shape $c_i\\times k_h\\times k_w$\n",
        "for *every* output channel.\n",
        "We concatenate them on the output channel dimension,\n",
        "so that the shape of the convolution kernel\n",
        "is $c_o\\times c_i\\times k_h\\times k_w$.\n",
        "In cross-correlation operations,\n",
        "the result on each output channel is calculated\n",
        "from the convolution kernel corresponding to that output channel\n",
        "and takes input from all channels in the input tensor.\n",
        "\n",
        "We implement a cross-correlation function\n",
        "to [**calculate the output of multiple channels**] as shown below.\n"
      ]
    },
    {
      "cell_type": "code",
      "execution_count": 5,
      "id": "464a8703",
      "metadata": {
        "execution": {
          "iopub.execute_input": "2022-09-07T22:07:52.922621Z",
          "iopub.status.busy": "2022-09-07T22:07:52.911852Z",
          "iopub.status.idle": "2022-09-07T22:07:52.937237Z",
          "shell.execute_reply": "2022-09-07T22:07:52.936039Z"
        },
        "origin_pos": 9,
        "tab": [
          "pytorch"
        ],
        "id": "464a8703"
      },
      "outputs": [],
      "source": [
        "def corr2d_multi_in_out(X, K):\n",
        "    # Iterate through the 0th dimension of `K`, and each time, perform\n",
        "    # cross-correlation operations with input `X`. All of the results are\n",
        "    # stacked together\n",
        "    return torch.stack([corr2d_multi_in(X, k) for k in K], 0)"
      ]
    },
    {
      "cell_type": "markdown",
      "id": "a30ab32b",
      "metadata": {
        "origin_pos": 10,
        "id": "a30ab32b"
      },
      "source": [
        "We construct a trivial convolution kernel with 3 output channels\n",
        "by concatenating the kernel tensor for `K` with `K+1` and `K+2`.\n"
      ]
    },
    {
      "cell_type": "code",
      "execution_count": 6,
      "id": "9c838373",
      "metadata": {
        "execution": {
          "iopub.execute_input": "2022-09-07T22:07:52.942345Z",
          "iopub.status.busy": "2022-09-07T22:07:52.941533Z",
          "iopub.status.idle": "2022-09-07T22:07:52.950301Z",
          "shell.execute_reply": "2022-09-07T22:07:52.949237Z"
        },
        "origin_pos": 11,
        "tab": [
          "pytorch"
        ],
        "id": "9c838373",
        "outputId": "81315609-e9a6-4bb4-ad70-fecbf8fb2aba",
        "colab": {
          "base_uri": "https://localhost:8080/"
        }
      },
      "outputs": [
        {
          "output_type": "execute_result",
          "data": {
            "text/plain": [
              "torch.Size([3, 2, 2, 2])"
            ]
          },
          "metadata": {},
          "execution_count": 6
        }
      ],
      "source": [
        "K = torch.stack((K, K + 1, K + 2), 0)\n",
        "K.shape"
      ]
    },
    {
      "cell_type": "markdown",
      "id": "c5ba9489",
      "metadata": {
        "origin_pos": 12,
        "id": "c5ba9489"
      },
      "source": [
        "Below, we perform cross-correlation operations\n",
        "on the input tensor `X` with the kernel tensor `K`.\n",
        "Now the output contains 3 channels.\n",
        "The result of the first channel is consistent\n",
        "with the result of the previous input tensor `X`\n",
        "and the multi-input channel,\n",
        "single-output channel kernel.\n"
      ]
    },
    {
      "cell_type": "code",
      "execution_count": 7,
      "id": "fe123dde",
      "metadata": {
        "execution": {
          "iopub.execute_input": "2022-09-07T22:07:52.959281Z",
          "iopub.status.busy": "2022-09-07T22:07:52.956421Z",
          "iopub.status.idle": "2022-09-07T22:07:52.977904Z",
          "shell.execute_reply": "2022-09-07T22:07:52.976290Z"
        },
        "origin_pos": 13,
        "tab": [
          "pytorch"
        ],
        "id": "fe123dde",
        "outputId": "db006e2d-11fe-4a99-a1fa-c832f490b078",
        "colab": {
          "base_uri": "https://localhost:8080/"
        }
      },
      "outputs": [
        {
          "output_type": "execute_result",
          "data": {
            "text/plain": [
              "tensor([[[ 56.,  72.],\n",
              "         [104., 120.]],\n",
              "\n",
              "        [[ 76., 100.],\n",
              "         [148., 172.]],\n",
              "\n",
              "        [[ 96., 128.],\n",
              "         [192., 224.]]])"
            ]
          },
          "metadata": {},
          "execution_count": 7
        }
      ],
      "source": [
        "corr2d_multi_in_out(X, K)"
      ]
    },
    {
      "cell_type": "markdown",
      "id": "91672450",
      "metadata": {
        "origin_pos": 14,
        "id": "91672450"
      },
      "source": [
        "## $1\\times 1$ Convolutional Layer\n",
        ":label:`subsec_1x1`\n",
        "\n",
        "At first, a [**$1 \\times 1$ convolution**], i.e., $k_h = k_w = 1$,\n",
        "does not seem to make much sense.\n",
        "After all, a convolution correlates adjacent pixels.\n",
        "A $1 \\times 1$ convolution obviously does not.\n",
        "Nonetheless, they are popular operations that are sometimes included\n",
        "in the designs of complex deep networks :cite:`Lin.Chen.Yan.2013,Szegedy.Ioffe.Vanhoucke.ea.2017`\n",
        "Let's see in some detail what it actually does.\n",
        "\n",
        "Because the minimum window is used,\n",
        "the $1\\times 1$ convolution loses the ability\n",
        "of larger convolutional layers\n",
        "to recognize patterns consisting of interactions\n",
        "among adjacent elements in the height and width dimensions.\n",
        "The only computation of the $1\\times 1$ convolution occurs\n",
        "on the channel dimension.\n",
        "\n",
        ":numref:`fig_conv_1x1` shows the cross-correlation computation\n",
        "using the $1\\times 1$ convolution kernel\n",
        "with 3 input channels and 2 output channels.\n",
        "Note that the inputs and outputs have the same height and width.\n",
        "Each element in the output is derived\n",
        "from a linear combination of elements *at the same position*\n",
        "in the input image.\n",
        "You could think of the $1\\times 1$ convolutional layer\n",
        "as constituting a fully connected layer applied at every single pixel location\n",
        "to transform the $c_i$ corresponding input values into $c_o$ output values.\n",
        "Because this is still a convolutional layer,\n",
        "the weights are tied across pixel location.\n",
        "Thus the $1\\times 1$ convolutional layer requires $c_o\\times c_i$ weights\n",
        "(plus the bias). Also note that convolutional layers are typically followed \n",
        "by nonlinearities. This ensures that $1 \\times 1$ convolutions cannot simply be \n",
        "folded into other convolutions. \n",
        "\n",
        "![The cross-correlation computation uses the $1\\times 1$ convolution kernel with 3 input channels and 2 output channels. The input and output have the same height and width.](https://github.com/d2l-ai/d2l-pytorch-colab/blob/master/img/conv-1x1.svg?raw=1)\n",
        ":label:`fig_conv_1x1`\n",
        "\n",
        "Let's check whether this works in practice:\n",
        "we implement a $1 \\times 1$ convolution\n",
        "using a fully connected layer.\n",
        "The only thing is that we need to make some adjustments\n",
        "to the data shape before and after the matrix multiplication.\n"
      ]
    },
    {
      "cell_type": "code",
      "execution_count": 8,
      "id": "d77c1d16",
      "metadata": {
        "execution": {
          "iopub.execute_input": "2022-09-07T22:07:52.986807Z",
          "iopub.status.busy": "2022-09-07T22:07:52.983017Z",
          "iopub.status.idle": "2022-09-07T22:07:52.991763Z",
          "shell.execute_reply": "2022-09-07T22:07:52.990625Z"
        },
        "origin_pos": 15,
        "tab": [
          "pytorch"
        ],
        "id": "d77c1d16"
      },
      "outputs": [],
      "source": [
        "def corr2d_multi_in_out_1x1(X, K):\n",
        "    c_i, h, w = X.shape\n",
        "    c_o = K.shape[0]\n",
        "    X = X.reshape((c_i, h * w))\n",
        "    K = K.reshape((c_o, c_i))\n",
        "    # Matrix multiplication in the fully connected layer\n",
        "    Y = torch.matmul(K, X)\n",
        "    return Y.reshape((c_o, h, w))"
      ]
    },
    {
      "cell_type": "markdown",
      "id": "0f42af95",
      "metadata": {
        "origin_pos": 16,
        "id": "0f42af95"
      },
      "source": [
        "When performing $1\\times 1$ convolutions,\n",
        "the above function is equivalent to the previously implemented cross-correlation function `corr2d_multi_in_out`.\n",
        "Let's check this with some sample data.\n"
      ]
    },
    {
      "cell_type": "code",
      "execution_count": 9,
      "id": "902204f4",
      "metadata": {
        "execution": {
          "iopub.execute_input": "2022-09-07T22:07:52.997200Z",
          "iopub.status.busy": "2022-09-07T22:07:52.996506Z",
          "iopub.status.idle": "2022-09-07T22:07:53.001368Z",
          "shell.execute_reply": "2022-09-07T22:07:53.000536Z"
        },
        "origin_pos": 17,
        "tab": [
          "pytorch"
        ],
        "id": "902204f4"
      },
      "outputs": [],
      "source": [
        "X = torch.normal(0, 1, (3, 3, 3))\n",
        "K = torch.normal(0, 1, (2, 3, 1, 1))"
      ]
    },
    {
      "cell_type": "code",
      "execution_count": 10,
      "id": "98082c11",
      "metadata": {
        "execution": {
          "iopub.execute_input": "2022-09-07T22:07:53.005696Z",
          "iopub.status.busy": "2022-09-07T22:07:53.005159Z",
          "iopub.status.idle": "2022-09-07T22:07:53.011793Z",
          "shell.execute_reply": "2022-09-07T22:07:53.010916Z"
        },
        "origin_pos": 19,
        "tab": [
          "pytorch"
        ],
        "id": "98082c11"
      },
      "outputs": [],
      "source": [
        "Y1 = corr2d_multi_in_out_1x1(X, K)\n",
        "Y2 = corr2d_multi_in_out(X, K)\n",
        "assert float(torch.abs(Y1 - Y2).sum()) < 1e-6"
      ]
    },
    {
      "cell_type": "markdown",
      "id": "ebb53087",
      "metadata": {
        "origin_pos": 20,
        "id": "ebb53087"
      },
      "source": [
        "## Discussion\n",
        "\n",
        "Channels allow us to combine the best of both worlds: MLPs that allow for significant nonlinearities and convolutions that allow for *localized* analysis of features. In particular, channels allow the CNN to reason with multiple features, such as edge and shape detectors at the same time. They also offer a practical trade-off between the drastic parameter reduction arising from translation invariance and locality, and the need for expressive and diverse models in computer vision. \n",
        "\n",
        "Note, though, that this flexibility comes at a price. Given an image of size $(h \\times w)$, the cost for computing a $k \\times k$ convolution is $\\mathcal{O}(h \\cdot w \\cdot k^2)$. For $c_i$ and $c_o$ input and output channels respectively this increases to $\\mathcal{O}(h \\cdot w \\cdot k^2 \\cdot c_i \\cdot c_o)$. For a $256 \\times 256$ pixel image with a $5 \\times 5$ kernel and $128$ input and output channels respectively this amounts to over 53 billion operations (we count multiplications and additions separately). Later on we will encounter effective strategies to cut down on the cost, e.g., by requiring the channel-wise operations to be block-diagonal, leading to architectures such as ResNeXt :cite:`Xie.Girshick.Dollar.ea.2017`. \n",
        "\n",
        "## Exercises\n",
        "\n",
        "1. Assume that we have two convolution kernels of size $k_1$ and $k_2$, respectively \n",
        "   (with no nonlinearity in-between).\n",
        "    1. Prove that the result of the operation can be expressed by a single convolution.\n",
        "    1. What is the dimensionality of the equivalent single convolution?\n",
        "    1. Is the converse true, i.e., can you always decompose a convolution into two smaller ones?\n",
        "1. Assume an input of shape $c_i\\times h\\times w$ and a convolution kernel of shape \n",
        "   $c_o\\times c_i\\times k_h\\times k_w$, padding of $(p_h, p_w)$, and stride of $(s_h, s_w)$.\n",
        "    1. What is the computational cost (multiplications and additions) for the forward propagation?\n",
        "    1. What is the memory footprint?\n",
        "    1. What is the memory footprint for the backward computation?\n",
        "    1. What is the computational cost for the backpropagation?\n",
        "1. By what factor does the number of calculations increase if we double the number of input channels \n",
        "   $c_i$ and the number of output channels $c_o$? What happens if we double the padding?\n",
        "1. Are the variables `Y1` and `Y2` in the last example of this section exactly the same? Why?\n",
        "1. Express convolutions as a matrix multiplication, even when the convolution window is not $1 \\times 1$? \n",
        "1. Your task is to implement fast convolutions with a $k \\times k$ kernel. One of the algorithm candidates \n",
        "   is to scan horizontally across the source, reading a $k$-wide strip and computing the $1$-wide output strip \n",
        "   one value at a time. The alternative is to read a $k + \\Delta$ wide strip and compute a $\\Delta$-wide \n",
        "   output strip. Why is the latter preferable? Is there a limit to how large you should choose $\\Delta$?\n",
        "1. Assume that we have a $c \\times c$ matrix. \n",
        "    1. How much faster is it to multiply with a block-diagonal matrix if the matrix is broken up into $b$ blocks?\n",
        "    1. What is the downside of having $b$ blocks? How could you fix it, at least partly?\n"
      ]
    },
    {
      "cell_type": "markdown",
      "id": "46632ce1",
      "metadata": {
        "origin_pos": 22,
        "tab": [
          "pytorch"
        ],
        "id": "46632ce1"
      },
      "source": [
        "[Discussions](https://discuss.d2l.ai/t/70)\n"
      ]
    }
  ],
  "metadata": {
    "kernelspec": {
      "display_name": "Python 3",
      "name": "python3"
    },
    "language_info": {
      "name": "python"
    },
    "colab": {
      "provenance": []
    }
  },
  "nbformat": 4,
  "nbformat_minor": 5
}