{
  "cells": [
    {
      "cell_type": "markdown",
      "id": "2401421d",
      "metadata": {
        "id": "2401421d"
      },
      "source": [
        "The following additional libraries are needed to run this\n",
        "notebook. Note that running on Colab is experimental, please report a Github\n",
        "issue if you have any problem."
      ]
    },
    {
      "cell_type": "code",
      "execution_count": 1,
      "id": "2714b143",
      "metadata": {
        "id": "2714b143",
        "outputId": "e7581814-3634-414e-b94f-9c4fc0f56e1e",
        "colab": {
          "base_uri": "https://localhost:8080/"
        }
      },
      "outputs": [
        {
          "output_type": "stream",
          "name": "stdout",
          "text": [
            "Looking in indexes: https://pypi.org/simple, https://us-python.pkg.dev/colab-wheels/public/simple/\n",
            "Collecting d2l==1.0.0-alpha1.post0\n",
            "  Downloading d2l-1.0.0a1.post0-py3-none-any.whl (93 kB)\n",
            "\u001b[K     |████████████████████████████████| 93 kB 907 kB/s \n",
            "\u001b[?25hCollecting jupyter\n",
            "  Downloading jupyter-1.0.0-py2.py3-none-any.whl (2.7 kB)\n",
            "Requirement already satisfied: requests in /usr/local/lib/python3.7/dist-packages (from d2l==1.0.0-alpha1.post0) (2.23.0)\n",
            "Requirement already satisfied: numpy in /usr/local/lib/python3.7/dist-packages (from d2l==1.0.0-alpha1.post0) (1.21.6)\n",
            "Requirement already satisfied: gym in /usr/local/lib/python3.7/dist-packages (from d2l==1.0.0-alpha1.post0) (0.25.2)\n",
            "Requirement already satisfied: pandas in /usr/local/lib/python3.7/dist-packages (from d2l==1.0.0-alpha1.post0) (1.3.5)\n",
            "Requirement already satisfied: matplotlib in /usr/local/lib/python3.7/dist-packages (from d2l==1.0.0-alpha1.post0) (3.2.2)\n",
            "Collecting matplotlib-inline\n",
            "  Downloading matplotlib_inline-0.1.6-py3-none-any.whl (9.4 kB)\n",
            "Requirement already satisfied: cloudpickle>=1.2.0 in /usr/local/lib/python3.7/dist-packages (from gym->d2l==1.0.0-alpha1.post0) (1.5.0)\n",
            "Requirement already satisfied: gym-notices>=0.0.4 in /usr/local/lib/python3.7/dist-packages (from gym->d2l==1.0.0-alpha1.post0) (0.0.8)\n",
            "Requirement already satisfied: importlib-metadata>=4.8.0 in /usr/local/lib/python3.7/dist-packages (from gym->d2l==1.0.0-alpha1.post0) (4.13.0)\n",
            "Requirement already satisfied: typing-extensions>=3.6.4 in /usr/local/lib/python3.7/dist-packages (from importlib-metadata>=4.8.0->gym->d2l==1.0.0-alpha1.post0) (4.1.1)\n",
            "Requirement already satisfied: zipp>=0.5 in /usr/local/lib/python3.7/dist-packages (from importlib-metadata>=4.8.0->gym->d2l==1.0.0-alpha1.post0) (3.9.0)\n",
            "Requirement already satisfied: ipywidgets in /usr/local/lib/python3.7/dist-packages (from jupyter->d2l==1.0.0-alpha1.post0) (7.7.1)\n",
            "Requirement already satisfied: nbconvert in /usr/local/lib/python3.7/dist-packages (from jupyter->d2l==1.0.0-alpha1.post0) (5.6.1)\n",
            "Collecting qtconsole\n",
            "  Downloading qtconsole-5.3.2-py3-none-any.whl (120 kB)\n",
            "\u001b[K     |████████████████████████████████| 120 kB 30.1 MB/s \n",
            "\u001b[?25hRequirement already satisfied: jupyter-console in /usr/local/lib/python3.7/dist-packages (from jupyter->d2l==1.0.0-alpha1.post0) (6.1.0)\n",
            "Requirement already satisfied: ipykernel in /usr/local/lib/python3.7/dist-packages (from jupyter->d2l==1.0.0-alpha1.post0) (5.3.4)\n",
            "Requirement already satisfied: notebook in /usr/local/lib/python3.7/dist-packages (from jupyter->d2l==1.0.0-alpha1.post0) (5.5.0)\n",
            "Requirement already satisfied: ipython>=5.0.0 in /usr/local/lib/python3.7/dist-packages (from ipykernel->jupyter->d2l==1.0.0-alpha1.post0) (7.9.0)\n",
            "Requirement already satisfied: tornado>=4.2 in /usr/local/lib/python3.7/dist-packages (from ipykernel->jupyter->d2l==1.0.0-alpha1.post0) (5.1.1)\n",
            "Requirement already satisfied: traitlets>=4.1.0 in /usr/local/lib/python3.7/dist-packages (from ipykernel->jupyter->d2l==1.0.0-alpha1.post0) (5.1.1)\n",
            "Requirement already satisfied: jupyter-client in /usr/local/lib/python3.7/dist-packages (from ipykernel->jupyter->d2l==1.0.0-alpha1.post0) (6.1.12)\n",
            "Requirement already satisfied: pickleshare in /usr/local/lib/python3.7/dist-packages (from ipython>=5.0.0->ipykernel->jupyter->d2l==1.0.0-alpha1.post0) (0.7.5)\n",
            "Requirement already satisfied: pygments in /usr/local/lib/python3.7/dist-packages (from ipython>=5.0.0->ipykernel->jupyter->d2l==1.0.0-alpha1.post0) (2.6.1)\n",
            "Requirement already satisfied: pexpect in /usr/local/lib/python3.7/dist-packages (from ipython>=5.0.0->ipykernel->jupyter->d2l==1.0.0-alpha1.post0) (4.8.0)\n",
            "Requirement already satisfied: setuptools>=18.5 in /usr/local/lib/python3.7/dist-packages (from ipython>=5.0.0->ipykernel->jupyter->d2l==1.0.0-alpha1.post0) (57.4.0)\n",
            "Requirement already satisfied: prompt-toolkit<2.1.0,>=2.0.0 in /usr/local/lib/python3.7/dist-packages (from ipython>=5.0.0->ipykernel->jupyter->d2l==1.0.0-alpha1.post0) (2.0.10)\n",
            "Collecting jedi>=0.10\n",
            "  Downloading jedi-0.18.1-py2.py3-none-any.whl (1.6 MB)\n",
            "\u001b[K     |████████████████████████████████| 1.6 MB 44.4 MB/s \n",
            "\u001b[?25hRequirement already satisfied: backcall in /usr/local/lib/python3.7/dist-packages (from ipython>=5.0.0->ipykernel->jupyter->d2l==1.0.0-alpha1.post0) (0.2.0)\n",
            "Requirement already satisfied: decorator in /usr/local/lib/python3.7/dist-packages (from ipython>=5.0.0->ipykernel->jupyter->d2l==1.0.0-alpha1.post0) (4.4.2)\n",
            "Requirement already satisfied: parso<0.9.0,>=0.8.0 in /usr/local/lib/python3.7/dist-packages (from jedi>=0.10->ipython>=5.0.0->ipykernel->jupyter->d2l==1.0.0-alpha1.post0) (0.8.3)\n",
            "Requirement already satisfied: wcwidth in /usr/local/lib/python3.7/dist-packages (from prompt-toolkit<2.1.0,>=2.0.0->ipython>=5.0.0->ipykernel->jupyter->d2l==1.0.0-alpha1.post0) (0.2.5)\n",
            "Requirement already satisfied: six>=1.9.0 in /usr/local/lib/python3.7/dist-packages (from prompt-toolkit<2.1.0,>=2.0.0->ipython>=5.0.0->ipykernel->jupyter->d2l==1.0.0-alpha1.post0) (1.15.0)\n",
            "Requirement already satisfied: widgetsnbextension~=3.6.0 in /usr/local/lib/python3.7/dist-packages (from ipywidgets->jupyter->d2l==1.0.0-alpha1.post0) (3.6.1)\n",
            "Requirement already satisfied: ipython-genutils~=0.2.0 in /usr/local/lib/python3.7/dist-packages (from ipywidgets->jupyter->d2l==1.0.0-alpha1.post0) (0.2.0)\n",
            "Requirement already satisfied: jupyterlab-widgets>=1.0.0 in /usr/local/lib/python3.7/dist-packages (from ipywidgets->jupyter->d2l==1.0.0-alpha1.post0) (3.0.3)\n",
            "Requirement already satisfied: jupyter-core>=4.4.0 in /usr/local/lib/python3.7/dist-packages (from notebook->jupyter->d2l==1.0.0-alpha1.post0) (4.11.1)\n",
            "Requirement already satisfied: jinja2 in /usr/local/lib/python3.7/dist-packages (from notebook->jupyter->d2l==1.0.0-alpha1.post0) (2.11.3)\n",
            "Requirement already satisfied: terminado>=0.8.1 in /usr/local/lib/python3.7/dist-packages (from notebook->jupyter->d2l==1.0.0-alpha1.post0) (0.13.3)\n",
            "Requirement already satisfied: Send2Trash in /usr/local/lib/python3.7/dist-packages (from notebook->jupyter->d2l==1.0.0-alpha1.post0) (1.8.0)\n",
            "Requirement already satisfied: pyzmq>=17 in /usr/local/lib/python3.7/dist-packages (from notebook->jupyter->d2l==1.0.0-alpha1.post0) (23.2.1)\n",
            "Requirement already satisfied: nbformat in /usr/local/lib/python3.7/dist-packages (from notebook->jupyter->d2l==1.0.0-alpha1.post0) (5.7.0)\n",
            "Requirement already satisfied: python-dateutil>=2.1 in /usr/local/lib/python3.7/dist-packages (from jupyter-client->ipykernel->jupyter->d2l==1.0.0-alpha1.post0) (2.8.2)\n",
            "Requirement already satisfied: ptyprocess in /usr/local/lib/python3.7/dist-packages (from terminado>=0.8.1->notebook->jupyter->d2l==1.0.0-alpha1.post0) (0.7.0)\n",
            "Requirement already satisfied: MarkupSafe>=0.23 in /usr/local/lib/python3.7/dist-packages (from jinja2->notebook->jupyter->d2l==1.0.0-alpha1.post0) (2.0.1)\n",
            "Requirement already satisfied: cycler>=0.10 in /usr/local/lib/python3.7/dist-packages (from matplotlib->d2l==1.0.0-alpha1.post0) (0.11.0)\n",
            "Requirement already satisfied: kiwisolver>=1.0.1 in /usr/local/lib/python3.7/dist-packages (from matplotlib->d2l==1.0.0-alpha1.post0) (1.4.4)\n",
            "Requirement already satisfied: pyparsing!=2.0.4,!=2.1.2,!=2.1.6,>=2.0.1 in /usr/local/lib/python3.7/dist-packages (from matplotlib->d2l==1.0.0-alpha1.post0) (3.0.9)\n",
            "Requirement already satisfied: testpath in /usr/local/lib/python3.7/dist-packages (from nbconvert->jupyter->d2l==1.0.0-alpha1.post0) (0.6.0)\n",
            "Requirement already satisfied: mistune<2,>=0.8.1 in /usr/local/lib/python3.7/dist-packages (from nbconvert->jupyter->d2l==1.0.0-alpha1.post0) (0.8.4)\n",
            "Requirement already satisfied: entrypoints>=0.2.2 in /usr/local/lib/python3.7/dist-packages (from nbconvert->jupyter->d2l==1.0.0-alpha1.post0) (0.4)\n",
            "Requirement already satisfied: bleach in /usr/local/lib/python3.7/dist-packages (from nbconvert->jupyter->d2l==1.0.0-alpha1.post0) (5.0.1)\n",
            "Requirement already satisfied: defusedxml in /usr/local/lib/python3.7/dist-packages (from nbconvert->jupyter->d2l==1.0.0-alpha1.post0) (0.7.1)\n",
            "Requirement already satisfied: pandocfilters>=1.4.1 in /usr/local/lib/python3.7/dist-packages (from nbconvert->jupyter->d2l==1.0.0-alpha1.post0) (1.5.0)\n",
            "Requirement already satisfied: jsonschema>=2.6 in /usr/local/lib/python3.7/dist-packages (from nbformat->notebook->jupyter->d2l==1.0.0-alpha1.post0) (4.3.3)\n",
            "Requirement already satisfied: fastjsonschema in /usr/local/lib/python3.7/dist-packages (from nbformat->notebook->jupyter->d2l==1.0.0-alpha1.post0) (2.16.2)\n",
            "Requirement already satisfied: attrs>=17.4.0 in /usr/local/lib/python3.7/dist-packages (from jsonschema>=2.6->nbformat->notebook->jupyter->d2l==1.0.0-alpha1.post0) (22.1.0)\n",
            "Requirement already satisfied: pyrsistent!=0.17.0,!=0.17.1,!=0.17.2,>=0.14.0 in /usr/local/lib/python3.7/dist-packages (from jsonschema>=2.6->nbformat->notebook->jupyter->d2l==1.0.0-alpha1.post0) (0.18.1)\n",
            "Requirement already satisfied: importlib-resources>=1.4.0 in /usr/local/lib/python3.7/dist-packages (from jsonschema>=2.6->nbformat->notebook->jupyter->d2l==1.0.0-alpha1.post0) (5.10.0)\n",
            "Requirement already satisfied: webencodings in /usr/local/lib/python3.7/dist-packages (from bleach->nbconvert->jupyter->d2l==1.0.0-alpha1.post0) (0.5.1)\n",
            "Requirement already satisfied: pytz>=2017.3 in /usr/local/lib/python3.7/dist-packages (from pandas->d2l==1.0.0-alpha1.post0) (2022.4)\n",
            "Collecting qtpy>=2.0.1\n",
            "  Downloading QtPy-2.2.1-py3-none-any.whl (82 kB)\n",
            "\u001b[K     |████████████████████████████████| 82 kB 738 kB/s \n",
            "\u001b[?25hRequirement already satisfied: packaging in /usr/local/lib/python3.7/dist-packages (from qtpy>=2.0.1->qtconsole->jupyter->d2l==1.0.0-alpha1.post0) (21.3)\n",
            "Requirement already satisfied: idna<3,>=2.5 in /usr/local/lib/python3.7/dist-packages (from requests->d2l==1.0.0-alpha1.post0) (2.10)\n",
            "Requirement already satisfied: chardet<4,>=3.0.2 in /usr/local/lib/python3.7/dist-packages (from requests->d2l==1.0.0-alpha1.post0) (3.0.4)\n",
            "Requirement already satisfied: certifi>=2017.4.17 in /usr/local/lib/python3.7/dist-packages (from requests->d2l==1.0.0-alpha1.post0) (2022.9.24)\n",
            "Requirement already satisfied: urllib3!=1.25.0,!=1.25.1,<1.26,>=1.21.1 in /usr/local/lib/python3.7/dist-packages (from requests->d2l==1.0.0-alpha1.post0) (1.24.3)\n",
            "Installing collected packages: jedi, qtpy, qtconsole, matplotlib-inline, jupyter, d2l\n",
            "Successfully installed d2l-1.0.0a1.post0 jedi-0.18.1 jupyter-1.0.0 matplotlib-inline-0.1.6 qtconsole-5.3.2 qtpy-2.2.1\n"
          ]
        }
      ],
      "source": [
        "!pip install d2l==1.0.0-alpha1.post0\n"
      ]
    },
    {
      "cell_type": "markdown",
      "id": "d131b356",
      "metadata": {
        "origin_pos": 1,
        "id": "d131b356"
      },
      "source": [
        "# Pooling\n",
        ":label:`sec_pooling`\n",
        "\n",
        "In many cases our ultimate task asks some global question about the image,\n",
        "e.g., *does it contain a cat?* Consequently, the units of our final layer \n",
        "should be sensitive to the entire input.\n",
        "By gradually aggregating information, yielding coarser and coarser maps,\n",
        "we accomplish this goal of ultimately learning a global representation,\n",
        "while keeping all of the advantages of convolutional layers at the intermediate layers of processing.\n",
        "The deeper we go in the network,\n",
        "the larger the receptive field (relative to the input)\n",
        "to which each hidden node is sensitive. Reducing spatial resolution \n",
        "accelerates this process, \n",
        "since the convolution kernels cover a larger effective area. \n",
        "\n",
        "Moreover, when detecting lower-level features, such as edges\n",
        "(as discussed in :numref:`sec_conv_layer`),\n",
        "we often want our representations to be somewhat invariant to translation.\n",
        "For instance, if we take the image `X`\n",
        "with a sharp delineation between black and white\n",
        "and shift the whole image by one pixel to the right,\n",
        "i.e., `Z[i, j] = X[i, j + 1]`,\n",
        "then the output for the new image `Z` might be vastly different.\n",
        "The edge will have shifted by one pixel.\n",
        "In reality, objects hardly ever occur exactly at the same place.\n",
        "In fact, even with a tripod and a stationary object,\n",
        "vibration of the camera due to the movement of the shutter\n",
        "might shift everything by a pixel or so\n",
        "(high-end cameras are loaded with special features to address this problem).\n",
        "\n",
        "This section introduces *pooling layers*,\n",
        "which serve the dual purposes of\n",
        "mitigating the sensitivity of convolutional layers to location\n",
        "and of spatially downsampling representations.\n",
        "\n",
        "## Maximum Pooling and Average Pooling\n",
        "\n",
        "Like convolutional layers, *pooling* operators\n",
        "consist of a fixed-shape window that is slid over\n",
        "all regions in the input according to its stride,\n",
        "computing a single output for each location traversed\n",
        "by the fixed-shape window (sometimes known as the *pooling window*).\n",
        "However, unlike the cross-correlation computation\n",
        "of the inputs and kernels in the convolutional layer,\n",
        "the pooling layer contains no parameters (there is no *kernel*).\n",
        "Instead, pooling operators are deterministic,\n",
        "typically calculating either the maximum or the average value\n",
        "of the elements in the pooling window.\n",
        "These operations are called *maximum pooling* (*max-pooling* for short)\n",
        "and *average pooling*, respectively.\n",
        "\n",
        "*Average pooling* is essentially as old as CNNs. The idea is akin to \n",
        "downsampling an image. Rather than just taking the value of every second (or third) \n",
        "pixel for the lower resolution image, we can average over adjacent pixels to obtain \n",
        "an image with better signal to noise ratio since we are combining the information \n",
        "from multiple adjacent pixels. *Max-pooling* was introduced in \n",
        ":cite:`Riesenhuber.Poggio.1999` in the context of cognitive neuroscience to describe \n",
        "how information aggregation might be aggregated hierarchically for the purpose \n",
        "of object recognition, and an earlier version in speech recognition :cite:`Yamaguchi.Sakamoto.Akabane.ea.1990`. In almost all cases, max-pooling, as it is also referred to, \n",
        "is preferable. \n",
        "\n",
        "In both cases, as with the cross-correlation operator,\n",
        "we can think of the pooling window\n",
        "as starting from the upper-left of the input tensor\n",
        "and sliding across the input tensor from left to right and top to bottom.\n",
        "At each location that the pooling window hits,\n",
        "it computes the maximum or average\n",
        "value of the input subtensor in the window,\n",
        "depending on whether max or average pooling is employed.\n",
        "\n",
        "\n",
        "![Max-pooling with a pooling window shape of $2\\times 2$. The shaded portions are the first output element as well as the input tensor elements used for the output computation: $\\max(0, 1, 3, 4)=4$.](http://d2l.ai/_images/pooling.svg)\n",
        ":label:`fig_pooling`\n",
        "\n",
        "The output tensor in :numref:`fig_pooling`  has a height of 2 and a width of 2.\n",
        "The four elements are derived from the maximum value in each pooling window:\n",
        "\n",
        "$$\n",
        "\\max(0, 1, 3, 4)=4,\\\\\n",
        "\\max(1, 2, 4, 5)=5,\\\\\n",
        "\\max(3, 4, 6, 7)=7,\\\\\n",
        "\\max(4, 5, 7, 8)=8.\\\\\n",
        "$$\n",
        "\n",
        "More generally, we can define a $p \\times q$ pooling layer by aggregating over \n",
        "a region of said size. Returning to the problem of edge detection, \n",
        "we use the output of the convolutional layer\n",
        "as input for $2\\times 2$ max-pooling.\n",
        "Denote by `X` the input of the convolutional layer input and `Y` the pooling layer output. \n",
        "Regardless of whether or not the values of `X[i, j]`, `X[i, j + 1]`, \n",
        "`X[i+1, j]` and `X[i+1, j + 1]` are different,\n",
        "the pooling layer always outputs `Y[i, j] = 1`.\n",
        "That is to say, using the $2\\times 2$ max-pooling layer,\n",
        "we can still detect if the pattern recognized by the convolutional layer\n",
        "moves no more than one element in height or width.\n",
        "\n",
        "In the code below, we (**implement the forward propagation\n",
        "of the pooling layer**) in the `pool2d` function.\n",
        "This function is similar to the `corr2d` function\n",
        "in :numref:`sec_conv_layer`.\n",
        "However, no kernel is needed, computing the output\n",
        "as either the maximum or the average of each region in the input.\n"
      ]
    },
    {
      "cell_type": "code",
      "execution_count": 2,
      "id": "7465296f",
      "metadata": {
        "execution": {
          "iopub.execute_input": "2022-09-07T22:11:05.742183Z",
          "iopub.status.busy": "2022-09-07T22:11:05.741557Z",
          "iopub.status.idle": "2022-09-07T22:11:07.584093Z",
          "shell.execute_reply": "2022-09-07T22:11:07.583234Z"
        },
        "origin_pos": 3,
        "tab": [
          "pytorch"
        ],
        "id": "7465296f"
      },
      "outputs": [],
      "source": [
        "import torch\n",
        "from torch import nn\n",
        "from d2l import torch as d2l"
      ]
    },
    {
      "cell_type": "code",
      "execution_count": 3,
      "id": "8625a0ce",
      "metadata": {
        "execution": {
          "iopub.execute_input": "2022-09-07T22:11:07.588217Z",
          "iopub.status.busy": "2022-09-07T22:11:07.587649Z",
          "iopub.status.idle": "2022-09-07T22:11:07.593654Z",
          "shell.execute_reply": "2022-09-07T22:11:07.592920Z"
        },
        "origin_pos": 4,
        "tab": [
          "pytorch"
        ],
        "id": "8625a0ce"
      },
      "outputs": [],
      "source": [
        "def pool2d(X, pool_size, mode='max'):\n",
        "    p_h, p_w = pool_size\n",
        "    Y = torch.zeros((X.shape[0] - p_h + 1, X.shape[1] - p_w + 1))\n",
        "    for i in range(Y.shape[0]):\n",
        "        for j in range(Y.shape[1]):\n",
        "            if mode == 'max':\n",
        "                Y[i, j] = X[i: i + p_h, j: j + p_w].max()\n",
        "            elif mode == 'avg':\n",
        "                Y[i, j] = X[i: i + p_h, j: j + p_w].mean()\n",
        "    return Y"
      ]
    },
    {
      "cell_type": "markdown",
      "id": "4692c1fc",
      "metadata": {
        "origin_pos": 6,
        "id": "4692c1fc"
      },
      "source": [
        "We can construct the input tensor `X` in :numref:`fig_pooling` to [**validate the output of the two-dimensional max-pooling layer**].\n"
      ]
    },
    {
      "cell_type": "code",
      "execution_count": 4,
      "id": "98aae7b4",
      "metadata": {
        "execution": {
          "iopub.execute_input": "2022-09-07T22:11:07.597000Z",
          "iopub.status.busy": "2022-09-07T22:11:07.596572Z",
          "iopub.status.idle": "2022-09-07T22:11:07.625908Z",
          "shell.execute_reply": "2022-09-07T22:11:07.625186Z"
        },
        "origin_pos": 7,
        "tab": [
          "pytorch"
        ],
        "id": "98aae7b4",
        "outputId": "4f0d67b4-cc89-4753-b21a-c16b3697b688",
        "colab": {
          "base_uri": "https://localhost:8080/"
        }
      },
      "outputs": [
        {
          "output_type": "execute_result",
          "data": {
            "text/plain": [
              "tensor([[4., 5.],\n",
              "        [7., 8.]])"
            ]
          },
          "metadata": {},
          "execution_count": 4
        }
      ],
      "source": [
        "X = torch.tensor([[0.0, 1.0, 2.0], [3.0, 4.0, 5.0], [6.0, 7.0, 8.0]])\n",
        "pool2d(X, (2, 2))"
      ]
    },
    {
      "cell_type": "markdown",
      "id": "4ca99619",
      "metadata": {
        "origin_pos": 8,
        "id": "4ca99619"
      },
      "source": [
        "Also, we experiment with (**the average pooling layer**).\n"
      ]
    },
    {
      "cell_type": "code",
      "execution_count": 5,
      "id": "55a43d86",
      "metadata": {
        "execution": {
          "iopub.execute_input": "2022-09-07T22:11:07.629753Z",
          "iopub.status.busy": "2022-09-07T22:11:07.629125Z",
          "iopub.status.idle": "2022-09-07T22:11:07.635367Z",
          "shell.execute_reply": "2022-09-07T22:11:07.634589Z"
        },
        "origin_pos": 9,
        "tab": [
          "pytorch"
        ],
        "id": "55a43d86",
        "outputId": "2598a239-c8d3-48ee-f87f-6eb7cfd4aaad",
        "colab": {
          "base_uri": "https://localhost:8080/"
        }
      },
      "outputs": [
        {
          "output_type": "execute_result",
          "data": {
            "text/plain": [
              "tensor([[2., 3.],\n",
              "        [5., 6.]])"
            ]
          },
          "metadata": {},
          "execution_count": 5
        }
      ],
      "source": [
        "pool2d(X, (2, 2), 'avg')"
      ]
    },
    {
      "cell_type": "markdown",
      "id": "c26bbf2e",
      "metadata": {
        "origin_pos": 10,
        "id": "c26bbf2e"
      },
      "source": [
        "## [**Padding and Stride**]\n",
        "\n",
        "As with convolutional layers, pooling layers\n",
        "change the output shape.\n",
        "And as before, we can adjust the operation to achieve a desired output shape\n",
        "by padding the input and adjusting the stride.\n",
        "We can demonstrate the use of padding and strides\n",
        "in pooling layers via the built-in two-dimensional max-pooling layer from the deep learning framework.\n",
        "We first construct an input tensor `X` whose shape has four dimensions,\n",
        "where the number of examples (batch size) and number of channels are both 1.\n"
      ]
    },
    {
      "cell_type": "code",
      "execution_count": 6,
      "id": "b468ea87",
      "metadata": {
        "execution": {
          "iopub.execute_input": "2022-09-07T22:11:07.638719Z",
          "iopub.status.busy": "2022-09-07T22:11:07.638255Z",
          "iopub.status.idle": "2022-09-07T22:11:07.644493Z",
          "shell.execute_reply": "2022-09-07T22:11:07.643692Z"
        },
        "origin_pos": 12,
        "tab": [
          "pytorch"
        ],
        "id": "b468ea87",
        "outputId": "adfc3875-9bde-46c5-a6f3-10a8f67dbf74",
        "colab": {
          "base_uri": "https://localhost:8080/"
        }
      },
      "outputs": [
        {
          "output_type": "execute_result",
          "data": {
            "text/plain": [
              "tensor([[[[ 0.,  1.,  2.,  3.],\n",
              "          [ 4.,  5.,  6.,  7.],\n",
              "          [ 8.,  9., 10., 11.],\n",
              "          [12., 13., 14., 15.]]]])"
            ]
          },
          "metadata": {},
          "execution_count": 6
        }
      ],
      "source": [
        "X = torch.arange(16, dtype=torch.float32).reshape((1, 1, 4, 4))\n",
        "X"
      ]
    },
    {
      "cell_type": "markdown",
      "id": "a585edba",
      "metadata": {
        "origin_pos": 14,
        "id": "a585edba"
      },
      "source": [
        "Since pooling aggregates information from an area, (**deep learning frameworks default to matching pooling window sizes and stride.**) For instance, if we use a pooling window of shape `(3, 3)`\n",
        "we get a stride shape of `(3, 3)` by default.\n"
      ]
    },
    {
      "cell_type": "code",
      "execution_count": 7,
      "id": "752e2e4e",
      "metadata": {
        "execution": {
          "iopub.execute_input": "2022-09-07T22:11:07.647898Z",
          "iopub.status.busy": "2022-09-07T22:11:07.647457Z",
          "iopub.status.idle": "2022-09-07T22:11:07.653242Z",
          "shell.execute_reply": "2022-09-07T22:11:07.652503Z"
        },
        "origin_pos": 16,
        "tab": [
          "pytorch"
        ],
        "id": "752e2e4e",
        "outputId": "1a31997f-4dde-4ffe-9790-408921fb3a94",
        "colab": {
          "base_uri": "https://localhost:8080/"
        }
      },
      "outputs": [
        {
          "output_type": "execute_result",
          "data": {
            "text/plain": [
              "tensor([[[[10.]]]])"
            ]
          },
          "metadata": {},
          "execution_count": 7
        }
      ],
      "source": [
        "pool2d = nn.MaxPool2d(3)\n",
        "# Pooling has no model parameters, hence it needs no initialization\n",
        "pool2d(X)"
      ]
    },
    {
      "cell_type": "markdown",
      "id": "dd624fcb",
      "metadata": {
        "origin_pos": 18,
        "id": "dd624fcb"
      },
      "source": [
        "As expected, [**the stride and padding can be manually specified**] to override framework defaults if needed.\n"
      ]
    },
    {
      "cell_type": "code",
      "execution_count": 8,
      "id": "a80a07fc",
      "metadata": {
        "execution": {
          "iopub.execute_input": "2022-09-07T22:11:07.656742Z",
          "iopub.status.busy": "2022-09-07T22:11:07.656117Z",
          "iopub.status.idle": "2022-09-07T22:11:07.662536Z",
          "shell.execute_reply": "2022-09-07T22:11:07.661800Z"
        },
        "origin_pos": 20,
        "tab": [
          "pytorch"
        ],
        "id": "a80a07fc",
        "outputId": "cfe0a274-9b4f-4bcb-c6c1-db862e52be39",
        "colab": {
          "base_uri": "https://localhost:8080/"
        }
      },
      "outputs": [
        {
          "output_type": "execute_result",
          "data": {
            "text/plain": [
              "tensor([[[[ 5.,  7.],\n",
              "          [13., 15.]]]])"
            ]
          },
          "metadata": {},
          "execution_count": 8
        }
      ],
      "source": [
        "pool2d = nn.MaxPool2d(3, padding=1, stride=2)\n",
        "pool2d(X)"
      ]
    },
    {
      "cell_type": "markdown",
      "id": "b08b1c6e",
      "metadata": {
        "origin_pos": 22,
        "id": "b08b1c6e"
      },
      "source": [
        "Of course, we can specify an arbitrary rectangular pooling window with arbitrary height and width respectively, as the example below shows.\n"
      ]
    },
    {
      "cell_type": "code",
      "execution_count": 9,
      "id": "3a196b0f",
      "metadata": {
        "execution": {
          "iopub.execute_input": "2022-09-07T22:11:07.665880Z",
          "iopub.status.busy": "2022-09-07T22:11:07.665385Z",
          "iopub.status.idle": "2022-09-07T22:11:07.671429Z",
          "shell.execute_reply": "2022-09-07T22:11:07.670666Z"
        },
        "origin_pos": 24,
        "tab": [
          "pytorch"
        ],
        "id": "3a196b0f",
        "outputId": "6155e679-0d82-4afd-cea3-244da85c7869",
        "colab": {
          "base_uri": "https://localhost:8080/"
        }
      },
      "outputs": [
        {
          "output_type": "execute_result",
          "data": {
            "text/plain": [
              "tensor([[[[ 5.,  7.],\n",
              "          [13., 15.]]]])"
            ]
          },
          "metadata": {},
          "execution_count": 9
        }
      ],
      "source": [
        "pool2d = nn.MaxPool2d((2, 3), stride=(2, 3), padding=(0, 1))\n",
        "pool2d(X)"
      ]
    },
    {
      "cell_type": "markdown",
      "id": "4ebea0b0",
      "metadata": {
        "origin_pos": 26,
        "id": "4ebea0b0"
      },
      "source": [
        "## Multiple Channels\n",
        "\n",
        "When processing multi-channel input data,\n",
        "[**the pooling layer pools each input channel separately**],\n",
        "rather than summing the inputs up over channels\n",
        "as in a convolutional layer.\n",
        "This means that the number of output channels for the pooling layer\n",
        "is the same as the number of input channels.\n",
        "Below, we will concatenate tensors `X` and `X + 1`\n",
        "on the channel dimension to construct an input with 2 channels.\n"
      ]
    },
    {
      "cell_type": "code",
      "execution_count": 10,
      "id": "c8a1f007",
      "metadata": {
        "execution": {
          "iopub.execute_input": "2022-09-07T22:11:07.674798Z",
          "iopub.status.busy": "2022-09-07T22:11:07.674290Z",
          "iopub.status.idle": "2022-09-07T22:11:07.680447Z",
          "shell.execute_reply": "2022-09-07T22:11:07.679688Z"
        },
        "origin_pos": 28,
        "tab": [
          "pytorch"
        ],
        "id": "c8a1f007",
        "outputId": "cb193c1c-6416-4f86-b1f6-c2700ab5d1de",
        "colab": {
          "base_uri": "https://localhost:8080/"
        }
      },
      "outputs": [
        {
          "output_type": "execute_result",
          "data": {
            "text/plain": [
              "tensor([[[[ 0.,  1.,  2.,  3.],\n",
              "          [ 4.,  5.,  6.,  7.],\n",
              "          [ 8.,  9., 10., 11.],\n",
              "          [12., 13., 14., 15.]],\n",
              "\n",
              "         [[ 1.,  2.,  3.,  4.],\n",
              "          [ 5.,  6.,  7.,  8.],\n",
              "          [ 9., 10., 11., 12.],\n",
              "          [13., 14., 15., 16.]]]])"
            ]
          },
          "metadata": {},
          "execution_count": 10
        }
      ],
      "source": [
        "X = torch.cat((X, X + 1), 1)\n",
        "X"
      ]
    },
    {
      "cell_type": "markdown",
      "id": "e56812ce",
      "metadata": {
        "origin_pos": 30,
        "id": "e56812ce"
      },
      "source": [
        "As we can see, the number of output channels is still 2 after pooling.\n"
      ]
    },
    {
      "cell_type": "code",
      "execution_count": 11,
      "id": "3a292a9b",
      "metadata": {
        "execution": {
          "iopub.execute_input": "2022-09-07T22:11:07.684218Z",
          "iopub.status.busy": "2022-09-07T22:11:07.683585Z",
          "iopub.status.idle": "2022-09-07T22:11:07.691241Z",
          "shell.execute_reply": "2022-09-07T22:11:07.690332Z"
        },
        "origin_pos": 32,
        "tab": [
          "pytorch"
        ],
        "id": "3a292a9b",
        "outputId": "499b44a8-bac0-404f-bd5e-af6a8f668c3b",
        "colab": {
          "base_uri": "https://localhost:8080/"
        }
      },
      "outputs": [
        {
          "output_type": "execute_result",
          "data": {
            "text/plain": [
              "tensor([[[[ 5.,  7.],\n",
              "          [13., 15.]],\n",
              "\n",
              "         [[ 6.,  8.],\n",
              "          [14., 16.]]]])"
            ]
          },
          "metadata": {},
          "execution_count": 11
        }
      ],
      "source": [
        "pool2d = nn.MaxPool2d(3, padding=1, stride=2)\n",
        "pool2d(X)"
      ]
    },
    {
      "cell_type": "markdown",
      "id": "450bb074",
      "metadata": {
        "origin_pos": 35,
        "id": "450bb074"
      },
      "source": [
        "## Summary\n",
        "\n",
        "Pooling is an exceedingly simple operation. It does exactly what its name indicates, aggregate results over a window of values. All convolution semantics, such as strides and padding apply in the same way as they did previously. Note that pooling is indifferent to channels, i.e., it leaves the number of channels unchanged and it applies to each channel separately. Lastly, of the two popular pooling choices, max-pooling is preferable to average pooling, as it confers some degree of invariance to output. A popular choice is to pick a pooling window size of $2 \\times 2$ to quarter the spatial resolution of output. \n",
        "\n",
        "Note that there are many more ways of reducing resolution beyond pooling. For instance, in stochastic pooling :cite:`Zeiler.Fergus.2013` and fractional max-pooling :cite:`Graham.2014` aggregation is combined with randomization. This can slightly improve the accuracy in some cases. Lastly, as we will see later with the attention mechanism, there are more refined ways of aggregating over outputs, e.g., by using the alignment between a query and representation vectors. \n",
        "\n",
        "\n",
        "## Exercises\n",
        "\n",
        "1. Implement average pooling through a convolution. \n",
        "1. Prove that max-pooling cannot be implemented through a convolution alone. \n",
        "1. Max-pooling can be accomplished using ReLU operations, i.e., $\\mathrm{ReLU}(x) = \\max(0, x)$.\n",
        "    1. Express $\\max (a, b)$ by using only ReLU operations.\n",
        "    1. Use this to implement max-pooling by means of convolutions and ReLU layers. \n",
        "    1. How many channels and layers do you need for a $2 \\times 2$ convolution? How many for a $3 \\times 3$ convolution. \n",
        "1. What is the computational cost of the pooling layer? Assume that the input to the pooling layer is of size $c\\times h\\times w$, the pooling window has a shape of $p_h\\times p_w$ with a padding of $(p_h, p_w)$ and a stride of $(s_h, s_w)$.\n",
        "1. Why do you expect max-pooling and average pooling to work differently?\n",
        "1. Do we need a separate minimum pooling layer? Can you replace it with another operation?\n",
        "1. We could use the softmax operation for pooling. Why might it not be so popular?\n"
      ]
    },
    {
      "cell_type": "markdown",
      "id": "da76faed",
      "metadata": {
        "origin_pos": 37,
        "tab": [
          "pytorch"
        ],
        "id": "da76faed"
      },
      "source": [
        "[Discussions](https://discuss.d2l.ai/t/72)\n"
      ]
    }
  ],
  "metadata": {
    "kernelspec": {
      "display_name": "Python 3",
      "name": "python3"
    },
    "language_info": {
      "name": "python"
    },
    "colab": {
      "provenance": []
    }
  },
  "nbformat": 4,
  "nbformat_minor": 5
}