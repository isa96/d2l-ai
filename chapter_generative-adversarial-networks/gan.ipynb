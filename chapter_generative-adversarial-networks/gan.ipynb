{
  "cells": [
    {
      "cell_type": "markdown",
      "id": "12445546",
      "metadata": {
        "id": "12445546"
      },
      "source": [
        "The following additional libraries are needed to run this\n",
        "notebook. Note that running on Colab is experimental, please report a Github\n",
        "issue if you have any problem."
      ]
    },
    {
      "cell_type": "code",
      "execution_count": 1,
      "id": "be562de6",
      "metadata": {
        "id": "be562de6",
        "outputId": "73a36ebf-3f23-4bb6-f37b-786b16524588",
        "colab": {
          "base_uri": "https://localhost:8080/"
        }
      },
      "outputs": [
        {
          "output_type": "stream",
          "name": "stdout",
          "text": [
            "Looking in indexes: https://pypi.org/simple, https://us-python.pkg.dev/colab-wheels/public/simple/\n",
            "Collecting d2l==1.0.0-alpha1.post0\n",
            "  Downloading d2l-1.0.0a1.post0-py3-none-any.whl (93 kB)\n",
            "\u001b[K     |████████████████████████████████| 93 kB 978 kB/s \n",
            "\u001b[?25hRequirement already satisfied: pandas in /usr/local/lib/python3.7/dist-packages (from d2l==1.0.0-alpha1.post0) (1.3.5)\n",
            "Requirement already satisfied: matplotlib in /usr/local/lib/python3.7/dist-packages (from d2l==1.0.0-alpha1.post0) (3.2.2)\n",
            "Collecting matplotlib-inline\n",
            "  Downloading matplotlib_inline-0.1.6-py3-none-any.whl (9.4 kB)\n",
            "Requirement already satisfied: requests in /usr/local/lib/python3.7/dist-packages (from d2l==1.0.0-alpha1.post0) (2.23.0)\n",
            "Requirement already satisfied: numpy in /usr/local/lib/python3.7/dist-packages (from d2l==1.0.0-alpha1.post0) (1.21.6)\n",
            "Requirement already satisfied: gym in /usr/local/lib/python3.7/dist-packages (from d2l==1.0.0-alpha1.post0) (0.25.2)\n",
            "Collecting jupyter\n",
            "  Downloading jupyter-1.0.0-py2.py3-none-any.whl (2.7 kB)\n",
            "Requirement already satisfied: importlib-metadata>=4.8.0 in /usr/local/lib/python3.7/dist-packages (from gym->d2l==1.0.0-alpha1.post0) (4.13.0)\n",
            "Requirement already satisfied: cloudpickle>=1.2.0 in /usr/local/lib/python3.7/dist-packages (from gym->d2l==1.0.0-alpha1.post0) (1.5.0)\n",
            "Requirement already satisfied: gym-notices>=0.0.4 in /usr/local/lib/python3.7/dist-packages (from gym->d2l==1.0.0-alpha1.post0) (0.0.8)\n",
            "Requirement already satisfied: typing-extensions>=3.6.4 in /usr/local/lib/python3.7/dist-packages (from importlib-metadata>=4.8.0->gym->d2l==1.0.0-alpha1.post0) (4.1.1)\n",
            "Requirement already satisfied: zipp>=0.5 in /usr/local/lib/python3.7/dist-packages (from importlib-metadata>=4.8.0->gym->d2l==1.0.0-alpha1.post0) (3.9.0)\n",
            "Requirement already satisfied: ipykernel in /usr/local/lib/python3.7/dist-packages (from jupyter->d2l==1.0.0-alpha1.post0) (5.3.4)\n",
            "Requirement already satisfied: notebook in /usr/local/lib/python3.7/dist-packages (from jupyter->d2l==1.0.0-alpha1.post0) (5.5.0)\n",
            "Requirement already satisfied: nbconvert in /usr/local/lib/python3.7/dist-packages (from jupyter->d2l==1.0.0-alpha1.post0) (5.6.1)\n",
            "Requirement already satisfied: jupyter-console in /usr/local/lib/python3.7/dist-packages (from jupyter->d2l==1.0.0-alpha1.post0) (6.1.0)\n",
            "Requirement already satisfied: ipywidgets in /usr/local/lib/python3.7/dist-packages (from jupyter->d2l==1.0.0-alpha1.post0) (7.7.1)\n",
            "Collecting qtconsole\n",
            "  Downloading qtconsole-5.3.2-py3-none-any.whl (120 kB)\n",
            "\u001b[K     |████████████████████████████████| 120 kB 47.3 MB/s \n",
            "\u001b[?25hRequirement already satisfied: ipython>=5.0.0 in /usr/local/lib/python3.7/dist-packages (from ipykernel->jupyter->d2l==1.0.0-alpha1.post0) (7.9.0)\n",
            "Requirement already satisfied: tornado>=4.2 in /usr/local/lib/python3.7/dist-packages (from ipykernel->jupyter->d2l==1.0.0-alpha1.post0) (5.1.1)\n",
            "Requirement already satisfied: traitlets>=4.1.0 in /usr/local/lib/python3.7/dist-packages (from ipykernel->jupyter->d2l==1.0.0-alpha1.post0) (5.1.1)\n",
            "Requirement already satisfied: jupyter-client in /usr/local/lib/python3.7/dist-packages (from ipykernel->jupyter->d2l==1.0.0-alpha1.post0) (6.1.12)\n",
            "Requirement already satisfied: decorator in /usr/local/lib/python3.7/dist-packages (from ipython>=5.0.0->ipykernel->jupyter->d2l==1.0.0-alpha1.post0) (4.4.2)\n",
            "Requirement already satisfied: pexpect in /usr/local/lib/python3.7/dist-packages (from ipython>=5.0.0->ipykernel->jupyter->d2l==1.0.0-alpha1.post0) (4.8.0)\n",
            "Requirement already satisfied: prompt-toolkit<2.1.0,>=2.0.0 in /usr/local/lib/python3.7/dist-packages (from ipython>=5.0.0->ipykernel->jupyter->d2l==1.0.0-alpha1.post0) (2.0.10)\n",
            "Collecting jedi>=0.10\n",
            "  Downloading jedi-0.18.1-py2.py3-none-any.whl (1.6 MB)\n",
            "\u001b[K     |████████████████████████████████| 1.6 MB 38.9 MB/s \n",
            "\u001b[?25hRequirement already satisfied: backcall in /usr/local/lib/python3.7/dist-packages (from ipython>=5.0.0->ipykernel->jupyter->d2l==1.0.0-alpha1.post0) (0.2.0)\n",
            "Requirement already satisfied: pygments in /usr/local/lib/python3.7/dist-packages (from ipython>=5.0.0->ipykernel->jupyter->d2l==1.0.0-alpha1.post0) (2.6.1)\n",
            "Requirement already satisfied: setuptools>=18.5 in /usr/local/lib/python3.7/dist-packages (from ipython>=5.0.0->ipykernel->jupyter->d2l==1.0.0-alpha1.post0) (57.4.0)\n",
            "Requirement already satisfied: pickleshare in /usr/local/lib/python3.7/dist-packages (from ipython>=5.0.0->ipykernel->jupyter->d2l==1.0.0-alpha1.post0) (0.7.5)\n",
            "Requirement already satisfied: parso<0.9.0,>=0.8.0 in /usr/local/lib/python3.7/dist-packages (from jedi>=0.10->ipython>=5.0.0->ipykernel->jupyter->d2l==1.0.0-alpha1.post0) (0.8.3)\n",
            "Requirement already satisfied: six>=1.9.0 in /usr/local/lib/python3.7/dist-packages (from prompt-toolkit<2.1.0,>=2.0.0->ipython>=5.0.0->ipykernel->jupyter->d2l==1.0.0-alpha1.post0) (1.15.0)\n",
            "Requirement already satisfied: wcwidth in /usr/local/lib/python3.7/dist-packages (from prompt-toolkit<2.1.0,>=2.0.0->ipython>=5.0.0->ipykernel->jupyter->d2l==1.0.0-alpha1.post0) (0.2.5)\n",
            "Requirement already satisfied: widgetsnbextension~=3.6.0 in /usr/local/lib/python3.7/dist-packages (from ipywidgets->jupyter->d2l==1.0.0-alpha1.post0) (3.6.1)\n",
            "Requirement already satisfied: jupyterlab-widgets>=1.0.0 in /usr/local/lib/python3.7/dist-packages (from ipywidgets->jupyter->d2l==1.0.0-alpha1.post0) (3.0.3)\n",
            "Requirement already satisfied: ipython-genutils~=0.2.0 in /usr/local/lib/python3.7/dist-packages (from ipywidgets->jupyter->d2l==1.0.0-alpha1.post0) (0.2.0)\n",
            "Requirement already satisfied: jinja2 in /usr/local/lib/python3.7/dist-packages (from notebook->jupyter->d2l==1.0.0-alpha1.post0) (2.11.3)\n",
            "Requirement already satisfied: nbformat in /usr/local/lib/python3.7/dist-packages (from notebook->jupyter->d2l==1.0.0-alpha1.post0) (5.7.0)\n",
            "Requirement already satisfied: pyzmq>=17 in /usr/local/lib/python3.7/dist-packages (from notebook->jupyter->d2l==1.0.0-alpha1.post0) (23.2.1)\n",
            "Requirement already satisfied: terminado>=0.8.1 in /usr/local/lib/python3.7/dist-packages (from notebook->jupyter->d2l==1.0.0-alpha1.post0) (0.13.3)\n",
            "Requirement already satisfied: jupyter-core>=4.4.0 in /usr/local/lib/python3.7/dist-packages (from notebook->jupyter->d2l==1.0.0-alpha1.post0) (4.11.1)\n",
            "Requirement already satisfied: Send2Trash in /usr/local/lib/python3.7/dist-packages (from notebook->jupyter->d2l==1.0.0-alpha1.post0) (1.8.0)\n",
            "Requirement already satisfied: python-dateutil>=2.1 in /usr/local/lib/python3.7/dist-packages (from jupyter-client->ipykernel->jupyter->d2l==1.0.0-alpha1.post0) (2.8.2)\n",
            "Requirement already satisfied: ptyprocess in /usr/local/lib/python3.7/dist-packages (from terminado>=0.8.1->notebook->jupyter->d2l==1.0.0-alpha1.post0) (0.7.0)\n",
            "Requirement already satisfied: MarkupSafe>=0.23 in /usr/local/lib/python3.7/dist-packages (from jinja2->notebook->jupyter->d2l==1.0.0-alpha1.post0) (2.0.1)\n",
            "Requirement already satisfied: pyparsing!=2.0.4,!=2.1.2,!=2.1.6,>=2.0.1 in /usr/local/lib/python3.7/dist-packages (from matplotlib->d2l==1.0.0-alpha1.post0) (3.0.9)\n",
            "Requirement already satisfied: kiwisolver>=1.0.1 in /usr/local/lib/python3.7/dist-packages (from matplotlib->d2l==1.0.0-alpha1.post0) (1.4.4)\n",
            "Requirement already satisfied: cycler>=0.10 in /usr/local/lib/python3.7/dist-packages (from matplotlib->d2l==1.0.0-alpha1.post0) (0.11.0)\n",
            "Requirement already satisfied: bleach in /usr/local/lib/python3.7/dist-packages (from nbconvert->jupyter->d2l==1.0.0-alpha1.post0) (5.0.1)\n",
            "Requirement already satisfied: testpath in /usr/local/lib/python3.7/dist-packages (from nbconvert->jupyter->d2l==1.0.0-alpha1.post0) (0.6.0)\n",
            "Requirement already satisfied: mistune<2,>=0.8.1 in /usr/local/lib/python3.7/dist-packages (from nbconvert->jupyter->d2l==1.0.0-alpha1.post0) (0.8.4)\n",
            "Requirement already satisfied: defusedxml in /usr/local/lib/python3.7/dist-packages (from nbconvert->jupyter->d2l==1.0.0-alpha1.post0) (0.7.1)\n",
            "Requirement already satisfied: entrypoints>=0.2.2 in /usr/local/lib/python3.7/dist-packages (from nbconvert->jupyter->d2l==1.0.0-alpha1.post0) (0.4)\n",
            "Requirement already satisfied: pandocfilters>=1.4.1 in /usr/local/lib/python3.7/dist-packages (from nbconvert->jupyter->d2l==1.0.0-alpha1.post0) (1.5.0)\n",
            "Requirement already satisfied: fastjsonschema in /usr/local/lib/python3.7/dist-packages (from nbformat->notebook->jupyter->d2l==1.0.0-alpha1.post0) (2.16.2)\n",
            "Requirement already satisfied: jsonschema>=2.6 in /usr/local/lib/python3.7/dist-packages (from nbformat->notebook->jupyter->d2l==1.0.0-alpha1.post0) (4.3.3)\n",
            "Requirement already satisfied: importlib-resources>=1.4.0 in /usr/local/lib/python3.7/dist-packages (from jsonschema>=2.6->nbformat->notebook->jupyter->d2l==1.0.0-alpha1.post0) (5.10.0)\n",
            "Requirement already satisfied: pyrsistent!=0.17.0,!=0.17.1,!=0.17.2,>=0.14.0 in /usr/local/lib/python3.7/dist-packages (from jsonschema>=2.6->nbformat->notebook->jupyter->d2l==1.0.0-alpha1.post0) (0.18.1)\n",
            "Requirement already satisfied: attrs>=17.4.0 in /usr/local/lib/python3.7/dist-packages (from jsonschema>=2.6->nbformat->notebook->jupyter->d2l==1.0.0-alpha1.post0) (22.1.0)\n",
            "Requirement already satisfied: webencodings in /usr/local/lib/python3.7/dist-packages (from bleach->nbconvert->jupyter->d2l==1.0.0-alpha1.post0) (0.5.1)\n",
            "Requirement already satisfied: pytz>=2017.3 in /usr/local/lib/python3.7/dist-packages (from pandas->d2l==1.0.0-alpha1.post0) (2022.4)\n",
            "Collecting qtpy>=2.0.1\n",
            "  Downloading QtPy-2.2.1-py3-none-any.whl (82 kB)\n",
            "\u001b[K     |████████████████████████████████| 82 kB 705 kB/s \n",
            "\u001b[?25hRequirement already satisfied: packaging in /usr/local/lib/python3.7/dist-packages (from qtpy>=2.0.1->qtconsole->jupyter->d2l==1.0.0-alpha1.post0) (21.3)\n",
            "Requirement already satisfied: chardet<4,>=3.0.2 in /usr/local/lib/python3.7/dist-packages (from requests->d2l==1.0.0-alpha1.post0) (3.0.4)\n",
            "Requirement already satisfied: idna<3,>=2.5 in /usr/local/lib/python3.7/dist-packages (from requests->d2l==1.0.0-alpha1.post0) (2.10)\n",
            "Requirement already satisfied: certifi>=2017.4.17 in /usr/local/lib/python3.7/dist-packages (from requests->d2l==1.0.0-alpha1.post0) (2022.9.24)\n",
            "Requirement already satisfied: urllib3!=1.25.0,!=1.25.1,<1.26,>=1.21.1 in /usr/local/lib/python3.7/dist-packages (from requests->d2l==1.0.0-alpha1.post0) (1.24.3)\n",
            "Installing collected packages: jedi, qtpy, qtconsole, matplotlib-inline, jupyter, d2l\n",
            "Successfully installed d2l-1.0.0a1.post0 jedi-0.18.1 jupyter-1.0.0 matplotlib-inline-0.1.6 qtconsole-5.3.2 qtpy-2.2.1\n"
          ]
        }
      ],
      "source": [
        "!pip install d2l==1.0.0-alpha1.post0\n"
      ]
    },
    {
      "cell_type": "markdown",
      "id": "ab8b6976",
      "metadata": {
        "origin_pos": 0,
        "id": "ab8b6976"
      },
      "source": [
        "# Generative Adversarial Networks\n",
        ":label:`sec_basic_gan`\n",
        "\n",
        "Throughout most of this book, we have talked about how to make predictions. In some form or another, we used deep neural networks learned mappings from data examples to labels. This kind of learning is called discriminative learning, as in, we'd like to be able to discriminate between photos cats and photos of dogs. Classifiers and regressors are both examples of discriminative learning. And neural networks trained by backpropagation have upended everything we thought we knew about discriminative learning on large complicated datasets. Classification accuracies on high-res images has gone from useless to human-level (with some caveats) in just 5-6 years. We will spare you another spiel about all the other discriminative tasks where deep neural networks do astoundingly well.\n",
        "\n",
        "But there is more to machine learning than just solving discriminative tasks. For example, given a large dataset, without any labels, we might want to learn a model that concisely captures the characteristics of this data. Given such a model, we could sample synthetic data examples that resemble the distribution of the training data. For example, given a large corpus of photographs of faces, we might want to be able to generate a new photorealistic image that looks like it might plausibly have come from the same dataset. This kind of learning is called generative modeling.\n",
        "\n",
        "Until recently, we had no method that could synthesize novel photorealistic images. But the success of deep neural networks for discriminative learning opened up new possibilities. One big trend over the last three years has been the application of discriminative deep nets to overcome challenges in problems that we do not generally think of as supervised learning problems. The recurrent neural network language models are one example of using a discriminative network (trained to predict the next character) that once trained can act as a generative model.\n",
        "\n",
        "In 2014, a breakthrough paper introduced Generative adversarial networks (GANs) :cite:`Goodfellow.Pouget-Abadie.Mirza.ea.2014`, a clever new way to leverage the power of discriminative models to get good generative models. At their heart, GANs rely on the idea that a data generator is good if we cannot tell fake data apart from real data. In statistics, this is called a two-sample test - a test to answer the question whether datasets $X=\\{x_1,\\ldots, x_n\\}$ and $X'=\\{x'_1,\\ldots, x'_n\\}$ were drawn from the same distribution. The main difference between most statistics papers and GANs is that the latter use this idea in a constructive way. In other words, rather than just training a model to say \"hey, these two datasets do not look like they came from the same distribution\", they use the [two-sample test](https://en.wikipedia.org/wiki/Two-sample_hypothesis_testing) to provide training signals to a generative model. This allows us to improve the data generator until it generates something that resembles the real data. At the very least, it needs to fool the classifier. Even if our classifier is a state of the art deep neural network.\n",
        "\n",
        "![Generative Adversarial Networks](http://d2l.ai/_images/gan.svg)\n",
        ":label:`fig_gan`\n",
        "\n",
        "\n",
        "The GAN architecture is illustrated in :numref:`fig_gan`.\n",
        "As you can see, there are two pieces in GAN architecture - first off, we need a device (say, a deep network but it really could be anything, such as a game rendering engine) that might potentially be able to generate data that looks just like the real thing. If we are dealing with images, this needs to generate images. If we are dealing with speech, it needs to generate audio sequences, and so on. We call this the generator network. The second component is the discriminator network. It attempts to distinguish fake and real data from each other. Both networks are in competition with each other. The generator network attempts to fool the discriminator network. At that point, the discriminator network adapts to the new fake data. This information, in turn is used to improve the generator network, and so on.\n",
        "\n",
        "\n",
        "The discriminator is a binary classifier to distinguish if the input $x$ is real (from real data) or fake (from the generator). Typically, the discriminator outputs a scalar prediction $o\\in\\mathbb R$ for input $\\mathbf x$, such as using a fully connected layer with hidden size 1, and then applies sigmoid function to obtain the predicted probability $D(\\mathbf x) = 1/(1+e^{-o})$. Assume the label $y$ for the true data is $1$ and $0$ for the fake data. We train the discriminator to minimize the cross-entropy loss, *i.e.*,\n",
        "\n",
        "$$ \\min_D \\{ - y \\log D(\\mathbf x) - (1-y)\\log(1-D(\\mathbf x)) \\},$$\n",
        "\n",
        "For the generator, it first draws some parameter $\\mathbf z\\in\\mathbb R^d$ from a source of randomness, *e.g.*, a normal distribution $\\mathbf z \\sim \\mathcal{N} (0, 1)$. We often call $\\mathbf z$ as the latent variable.\n",
        "It then applies a function to generate $\\mathbf x'=G(\\mathbf z)$. The goal of the generator is to fool the discriminator to classify $\\mathbf x'=G(\\mathbf z)$ as true data, *i.e.*, we want $D( G(\\mathbf z)) \\approx 1$.\n",
        "In other words, for a given discriminator $D$, we update the parameters of the generator $G$ to maximize the cross-entropy loss when $y=0$, *i.e.*,\n",
        "\n",
        "$$ \\max_G \\{ - (1-y) \\log(1-D(G(\\mathbf z))) \\} = \\max_G \\{ - \\log(1-D(G(\\mathbf z))) \\}.$$\n",
        "\n",
        "If the generator does a perfect job, then $D(\\mathbf x')\\approx 1$ so the above loss near 0, which results the gradients are too small to make a good progress for the discriminator. So commonly we minimize the following loss:\n",
        "\n",
        "$$ \\min_G \\{ - y \\log(D(G(\\mathbf z))) \\} = \\min_G \\{ - \\log(D(G(\\mathbf z))) \\}, $$\n",
        "\n",
        "which is just feed $\\mathbf x'=G(\\mathbf z)$ into the discriminator but giving label $y=1$.\n",
        "\n",
        "\n",
        "To sum up, $D$ and $G$ are playing a \"minimax\" game with the comprehensive objective function:\n",
        "\n",
        "$$min_D max_G \\{ -E_{x \\sim \\text{Data}} log D(\\mathbf x) - E_{z \\sim \\text{Noise}} log(1 - D(G(\\mathbf z))) \\}.$$\n",
        "\n",
        "\n",
        "\n",
        "Many of the GANs applications are in the context of images. As a demonstration purpose, we are going to content ourselves with fitting a much simpler distribution first. We will illustrate what happens if we use GANs to build the world's most inefficient estimator of parameters for a Gaussian. Let's get started.\n"
      ]
    },
    {
      "cell_type": "code",
      "execution_count": 2,
      "id": "362c6621",
      "metadata": {
        "execution": {
          "iopub.execute_input": "2022-09-07T22:09:17.122913Z",
          "iopub.status.busy": "2022-09-07T22:09:17.122022Z",
          "iopub.status.idle": "2022-09-07T22:09:19.232044Z",
          "shell.execute_reply": "2022-09-07T22:09:19.231203Z"
        },
        "origin_pos": 2,
        "tab": [
          "pytorch"
        ],
        "id": "362c6621"
      },
      "outputs": [],
      "source": [
        "%matplotlib inline\n",
        "import torch\n",
        "from torch import nn\n",
        "from d2l import torch as d2l"
      ]
    },
    {
      "cell_type": "markdown",
      "id": "92210b0e",
      "metadata": {
        "origin_pos": 4,
        "id": "92210b0e"
      },
      "source": [
        "## Generate Some \"Real\" Data\n",
        "\n",
        "Since this is going to be the world's lamest example, we simply generate data drawn from a Gaussian.\n"
      ]
    },
    {
      "cell_type": "code",
      "execution_count": 3,
      "id": "1a570887",
      "metadata": {
        "execution": {
          "iopub.execute_input": "2022-09-07T22:09:19.238584Z",
          "iopub.status.busy": "2022-09-07T22:09:19.238078Z",
          "iopub.status.idle": "2022-09-07T22:09:19.244162Z",
          "shell.execute_reply": "2022-09-07T22:09:19.243426Z"
        },
        "origin_pos": 5,
        "tab": [
          "pytorch"
        ],
        "id": "1a570887"
      },
      "outputs": [],
      "source": [
        "X = torch.normal(0.0, 1, (1000, 2))\n",
        "A = torch.tensor([[1, 2], [-0.1, 0.5]])\n",
        "b = torch.tensor([1, 2])\n",
        "data = torch.matmul(X, A) + b"
      ]
    },
    {
      "cell_type": "markdown",
      "id": "a9dc3cdd",
      "metadata": {
        "origin_pos": 7,
        "id": "a9dc3cdd"
      },
      "source": [
        "Let's see what we got. This should be a Gaussian shifted in some rather arbitrary way with mean $b$ and covariance matrix $A^TA$.\n"
      ]
    },
    {
      "cell_type": "code",
      "execution_count": 4,
      "id": "005da291",
      "metadata": {
        "execution": {
          "iopub.execute_input": "2022-09-07T22:09:19.249321Z",
          "iopub.status.busy": "2022-09-07T22:09:19.248507Z",
          "iopub.status.idle": "2022-09-07T22:09:19.444304Z",
          "shell.execute_reply": "2022-09-07T22:09:19.443157Z"
        },
        "origin_pos": 8,
        "tab": [
          "pytorch"
        ],
        "id": "005da291",
        "outputId": "7f2e4344-9e3e-4c48-bdb8-1642b4526e15",
        "colab": {
          "base_uri": "https://localhost:8080/",
          "height": 297
        }
      },
      "outputs": [
        {
          "output_type": "stream",
          "name": "stdout",
          "text": [
            "The covariance matrix is\n",
            "tensor([[1.0100, 1.9500],\n",
            "        [1.9500, 4.2500]])\n"
          ]
        },
        {
          "output_type": "display_data",
          "data": {
            "text/plain": [
              "<Figure size 252x180 with 1 Axes>"
            ],
            "image/svg+xml": "<?xml version=\"1.0\" encoding=\"utf-8\" standalone=\"no\"?>\n<!DOCTYPE svg PUBLIC \"-//W3C//DTD SVG 1.1//EN\"\n  \"http://www.w3.org/Graphics/SVG/1.1/DTD/svg11.dtd\">\n<!-- Created with matplotlib (https://matplotlib.org/) -->\n<svg height=\"166.978125pt\" version=\"1.1\" viewBox=\"0 0 223.0625 166.978125\" width=\"223.0625pt\" xmlns=\"http://www.w3.org/2000/svg\" xmlns:xlink=\"http://www.w3.org/1999/xlink\">\n <defs>\n  <style type=\"text/css\">\n*{stroke-linecap:butt;stroke-linejoin:round;}\n  </style>\n </defs>\n <g id=\"figure_1\">\n  <g id=\"patch_1\">\n   <path d=\"M 0 166.978125 \nL 223.0625 166.978125 \nL 223.0625 0 \nL 0 0 \nz\n\" style=\"fill:none;\"/>\n  </g>\n  <g id=\"axes_1\">\n   <g id=\"patch_2\">\n    <path d=\"M 20.5625 143.1 \nL 215.8625 143.1 \nL 215.8625 7.2 \nL 20.5625 7.2 \nz\n\" style=\"fill:#ffffff;\"/>\n   </g>\n   <g id=\"PathCollection_1\">\n    <defs>\n     <path d=\"M 0 3 \nC 0.795609 3 1.55874 2.683901 2.12132 2.12132 \nC 2.683901 1.55874 3 0.795609 3 0 \nC 3 -0.795609 2.683901 -1.55874 2.12132 -2.12132 \nC 1.55874 -2.683901 0.795609 -3 0 -3 \nC -0.795609 -3 -1.55874 -2.683901 -2.12132 -2.12132 \nC -2.683901 -1.55874 -3 -0.795609 -3 0 \nC -3 0.795609 -2.683901 1.55874 -2.12132 2.12132 \nC -1.55874 2.683901 -0.795609 3 0 3 \nz\n\" id=\"m5611334455\" style=\"stroke:#1f77b4;\"/>\n    </defs>\n    <g clip-path=\"url(#pb4c96e7972)\">\n     <use style=\"fill:#1f77b4;stroke:#1f77b4;\" x=\"111.376642\" xlink:href=\"#m5611334455\" y=\"74.377309\"/>\n     <use style=\"fill:#1f77b4;stroke:#1f77b4;\" x=\"153.599893\" xlink:href=\"#m5611334455\" y=\"55.915472\"/>\n     <use style=\"fill:#1f77b4;stroke:#1f77b4;\" x=\"135.603658\" xlink:href=\"#m5611334455\" y=\"75.341178\"/>\n     <use style=\"fill:#1f77b4;stroke:#1f77b4;\" x=\"81.304759\" xlink:href=\"#m5611334455\" y=\"105.374461\"/>\n     <use style=\"fill:#1f77b4;stroke:#1f77b4;\" x=\"79.305959\" xlink:href=\"#m5611334455\" y=\"103.586274\"/>\n     <use style=\"fill:#1f77b4;stroke:#1f77b4;\" x=\"113.008601\" xlink:href=\"#m5611334455\" y=\"68.741493\"/>\n     <use style=\"fill:#1f77b4;stroke:#1f77b4;\" x=\"106.342448\" xlink:href=\"#m5611334455\" y=\"83.548727\"/>\n     <use style=\"fill:#1f77b4;stroke:#1f77b4;\" x=\"136.999306\" xlink:href=\"#m5611334455\" y=\"69.170956\"/>\n     <use style=\"fill:#1f77b4;stroke:#1f77b4;\" x=\"84.151517\" xlink:href=\"#m5611334455\" y=\"113.123662\"/>\n     <use style=\"fill:#1f77b4;stroke:#1f77b4;\" x=\"34.710993\" xlink:href=\"#m5611334455\" y=\"133.160188\"/>\n     <use style=\"fill:#1f77b4;stroke:#1f77b4;\" x=\"83.325363\" xlink:href=\"#m5611334455\" y=\"106.017127\"/>\n     <use style=\"fill:#1f77b4;stroke:#1f77b4;\" x=\"66.351169\" xlink:href=\"#m5611334455\" y=\"117.395806\"/>\n     <use style=\"fill:#1f77b4;stroke:#1f77b4;\" x=\"116.76823\" xlink:href=\"#m5611334455\" y=\"89.871027\"/>\n     <use style=\"fill:#1f77b4;stroke:#1f77b4;\" x=\"120.296711\" xlink:href=\"#m5611334455\" y=\"80.749891\"/>\n     <use style=\"fill:#1f77b4;stroke:#1f77b4;\" x=\"147.70273\" xlink:href=\"#m5611334455\" y=\"68.414261\"/>\n     <use style=\"fill:#1f77b4;stroke:#1f77b4;\" x=\"136.683103\" xlink:href=\"#m5611334455\" y=\"79.793814\"/>\n     <use style=\"fill:#1f77b4;stroke:#1f77b4;\" x=\"65.267248\" xlink:href=\"#m5611334455\" y=\"121.3254\"/>\n     <use style=\"fill:#1f77b4;stroke:#1f77b4;\" x=\"38.582735\" xlink:href=\"#m5611334455\" y=\"136.922727\"/>\n     <use style=\"fill:#1f77b4;stroke:#1f77b4;\" x=\"96.157823\" xlink:href=\"#m5611334455\" y=\"92.74676\"/>\n     <use style=\"fill:#1f77b4;stroke:#1f77b4;\" x=\"48.819677\" xlink:href=\"#m5611334455\" y=\"131.50134\"/>\n     <use style=\"fill:#1f77b4;stroke:#1f77b4;\" x=\"85.294871\" xlink:href=\"#m5611334455\" y=\"100.106545\"/>\n     <use style=\"fill:#1f77b4;stroke:#1f77b4;\" x=\"98.031346\" xlink:href=\"#m5611334455\" y=\"86.687734\"/>\n     <use style=\"fill:#1f77b4;stroke:#1f77b4;\" x=\"119.008285\" xlink:href=\"#m5611334455\" y=\"76.801874\"/>\n     <use style=\"fill:#1f77b4;stroke:#1f77b4;\" x=\"125.027704\" xlink:href=\"#m5611334455\" y=\"74.171796\"/>\n     <use style=\"fill:#1f77b4;stroke:#1f77b4;\" x=\"154.990577\" xlink:href=\"#m5611334455\" y=\"49.525639\"/>\n     <use style=\"fill:#1f77b4;stroke:#1f77b4;\" x=\"68.893015\" xlink:href=\"#m5611334455\" y=\"120.736641\"/>\n     <use style=\"fill:#1f77b4;stroke:#1f77b4;\" x=\"88.788745\" xlink:href=\"#m5611334455\" y=\"101.301382\"/>\n     <use style=\"fill:#1f77b4;stroke:#1f77b4;\" x=\"111.370287\" xlink:href=\"#m5611334455\" y=\"75.096567\"/>\n     <use style=\"fill:#1f77b4;stroke:#1f77b4;\" x=\"97.724347\" xlink:href=\"#m5611334455\" y=\"99.41851\"/>\n     <use style=\"fill:#1f77b4;stroke:#1f77b4;\" x=\"146.207311\" xlink:href=\"#m5611334455\" y=\"67.941838\"/>\n     <use style=\"fill:#1f77b4;stroke:#1f77b4;\" x=\"73.897342\" xlink:href=\"#m5611334455\" y=\"96.196256\"/>\n     <use style=\"fill:#1f77b4;stroke:#1f77b4;\" x=\"135.646396\" xlink:href=\"#m5611334455\" y=\"58.103871\"/>\n     <use style=\"fill:#1f77b4;stroke:#1f77b4;\" x=\"78.139363\" xlink:href=\"#m5611334455\" y=\"109.791813\"/>\n     <use style=\"fill:#1f77b4;stroke:#1f77b4;\" x=\"121.661072\" xlink:href=\"#m5611334455\" y=\"75.056075\"/>\n     <use style=\"fill:#1f77b4;stroke:#1f77b4;\" x=\"101.536273\" xlink:href=\"#m5611334455\" y=\"90.234709\"/>\n     <use style=\"fill:#1f77b4;stroke:#1f77b4;\" x=\"118.672564\" xlink:href=\"#m5611334455\" y=\"93.878709\"/>\n     <use style=\"fill:#1f77b4;stroke:#1f77b4;\" x=\"81.992266\" xlink:href=\"#m5611334455\" y=\"94.761676\"/>\n     <use style=\"fill:#1f77b4;stroke:#1f77b4;\" x=\"206.985227\" xlink:href=\"#m5611334455\" y=\"22.697526\"/>\n     <use style=\"fill:#1f77b4;stroke:#1f77b4;\" x=\"164.987042\" xlink:href=\"#m5611334455\" y=\"37.754257\"/>\n     <use style=\"fill:#1f77b4;stroke:#1f77b4;\" x=\"79.966783\" xlink:href=\"#m5611334455\" y=\"106.115561\"/>\n     <use style=\"fill:#1f77b4;stroke:#1f77b4;\" x=\"69.217406\" xlink:href=\"#m5611334455\" y=\"114.039122\"/>\n     <use style=\"fill:#1f77b4;stroke:#1f77b4;\" x=\"79.055752\" xlink:href=\"#m5611334455\" y=\"107.661409\"/>\n     <use style=\"fill:#1f77b4;stroke:#1f77b4;\" x=\"33.208313\" xlink:href=\"#m5611334455\" y=\"135.122807\"/>\n     <use style=\"fill:#1f77b4;stroke:#1f77b4;\" x=\"141.129422\" xlink:href=\"#m5611334455\" y=\"61.783409\"/>\n     <use style=\"fill:#1f77b4;stroke:#1f77b4;\" x=\"109.621749\" xlink:href=\"#m5611334455\" y=\"74.308598\"/>\n     <use style=\"fill:#1f77b4;stroke:#1f77b4;\" x=\"92.692288\" xlink:href=\"#m5611334455\" y=\"89.138389\"/>\n     <use style=\"fill:#1f77b4;stroke:#1f77b4;\" x=\"63.566064\" xlink:href=\"#m5611334455\" y=\"115.333902\"/>\n     <use style=\"fill:#1f77b4;stroke:#1f77b4;\" x=\"58.338538\" xlink:href=\"#m5611334455\" y=\"106.600046\"/>\n     <use style=\"fill:#1f77b4;stroke:#1f77b4;\" x=\"117.371847\" xlink:href=\"#m5611334455\" y=\"66.272868\"/>\n     <use style=\"fill:#1f77b4;stroke:#1f77b4;\" x=\"97.17482\" xlink:href=\"#m5611334455\" y=\"86.876711\"/>\n     <use style=\"fill:#1f77b4;stroke:#1f77b4;\" x=\"117.261493\" xlink:href=\"#m5611334455\" y=\"79.300706\"/>\n     <use style=\"fill:#1f77b4;stroke:#1f77b4;\" x=\"124.297507\" xlink:href=\"#m5611334455\" y=\"67.759914\"/>\n     <use style=\"fill:#1f77b4;stroke:#1f77b4;\" x=\"59.381411\" xlink:href=\"#m5611334455\" y=\"123.037877\"/>\n     <use style=\"fill:#1f77b4;stroke:#1f77b4;\" x=\"103.314043\" xlink:href=\"#m5611334455\" y=\"75.090371\"/>\n     <use style=\"fill:#1f77b4;stroke:#1f77b4;\" x=\"91.299193\" xlink:href=\"#m5611334455\" y=\"93.71189\"/>\n     <use style=\"fill:#1f77b4;stroke:#1f77b4;\" x=\"88.216299\" xlink:href=\"#m5611334455\" y=\"89.900877\"/>\n     <use style=\"fill:#1f77b4;stroke:#1f77b4;\" x=\"126.511192\" xlink:href=\"#m5611334455\" y=\"65.765594\"/>\n     <use style=\"fill:#1f77b4;stroke:#1f77b4;\" x=\"118.079576\" xlink:href=\"#m5611334455\" y=\"65.149177\"/>\n     <use style=\"fill:#1f77b4;stroke:#1f77b4;\" x=\"121.376745\" xlink:href=\"#m5611334455\" y=\"68.889198\"/>\n     <use style=\"fill:#1f77b4;stroke:#1f77b4;\" x=\"121.512525\" xlink:href=\"#m5611334455\" y=\"66.845951\"/>\n     <use style=\"fill:#1f77b4;stroke:#1f77b4;\" x=\"82.329259\" xlink:href=\"#m5611334455\" y=\"104.541711\"/>\n     <use style=\"fill:#1f77b4;stroke:#1f77b4;\" x=\"136.727629\" xlink:href=\"#m5611334455\" y=\"55.028488\"/>\n     <use style=\"fill:#1f77b4;stroke:#1f77b4;\" x=\"67.098204\" xlink:href=\"#m5611334455\" y=\"105.537216\"/>\n     <use style=\"fill:#1f77b4;stroke:#1f77b4;\" x=\"93.16842\" xlink:href=\"#m5611334455\" y=\"90.039265\"/>\n     <use style=\"fill:#1f77b4;stroke:#1f77b4;\" x=\"80.84851\" xlink:href=\"#m5611334455\" y=\"99.858062\"/>\n     <use style=\"fill:#1f77b4;stroke:#1f77b4;\" x=\"107.546305\" xlink:href=\"#m5611334455\" y=\"90.440563\"/>\n     <use style=\"fill:#1f77b4;stroke:#1f77b4;\" x=\"123.54775\" xlink:href=\"#m5611334455\" y=\"62.509931\"/>\n     <use style=\"fill:#1f77b4;stroke:#1f77b4;\" x=\"115.698085\" xlink:href=\"#m5611334455\" y=\"61.53832\"/>\n     <use style=\"fill:#1f77b4;stroke:#1f77b4;\" x=\"102.993295\" xlink:href=\"#m5611334455\" y=\"93.33505\"/>\n     <use style=\"fill:#1f77b4;stroke:#1f77b4;\" x=\"93.591525\" xlink:href=\"#m5611334455\" y=\"108.321963\"/>\n     <use style=\"fill:#1f77b4;stroke:#1f77b4;\" x=\"49.181997\" xlink:href=\"#m5611334455\" y=\"107.460333\"/>\n     <use style=\"fill:#1f77b4;stroke:#1f77b4;\" x=\"122.416234\" xlink:href=\"#m5611334455\" y=\"58.339468\"/>\n     <use style=\"fill:#1f77b4;stroke:#1f77b4;\" x=\"108.152841\" xlink:href=\"#m5611334455\" y=\"78.10156\"/>\n     <use style=\"fill:#1f77b4;stroke:#1f77b4;\" x=\"64.385904\" xlink:href=\"#m5611334455\" y=\"115.66435\"/>\n     <use style=\"fill:#1f77b4;stroke:#1f77b4;\" x=\"66.218679\" xlink:href=\"#m5611334455\" y=\"108.649593\"/>\n     <use style=\"fill:#1f77b4;stroke:#1f77b4;\" x=\"130.401717\" xlink:href=\"#m5611334455\" y=\"64.013961\"/>\n     <use style=\"fill:#1f77b4;stroke:#1f77b4;\" x=\"29.439773\" xlink:href=\"#m5611334455\" y=\"136.687492\"/>\n     <use style=\"fill:#1f77b4;stroke:#1f77b4;\" x=\"115.952407\" xlink:href=\"#m5611334455\" y=\"84.892601\"/>\n     <use style=\"fill:#1f77b4;stroke:#1f77b4;\" x=\"138.728175\" xlink:href=\"#m5611334455\" y=\"77.790759\"/>\n     <use style=\"fill:#1f77b4;stroke:#1f77b4;\" x=\"81.273038\" xlink:href=\"#m5611334455\" y=\"111.467621\"/>\n     <use style=\"fill:#1f77b4;stroke:#1f77b4;\" x=\"141.8869\" xlink:href=\"#m5611334455\" y=\"67.153053\"/>\n     <use style=\"fill:#1f77b4;stroke:#1f77b4;\" x=\"47.137727\" xlink:href=\"#m5611334455\" y=\"118.594495\"/>\n     <use style=\"fill:#1f77b4;stroke:#1f77b4;\" x=\"77.716199\" xlink:href=\"#m5611334455\" y=\"99.243355\"/>\n     <use style=\"fill:#1f77b4;stroke:#1f77b4;\" x=\"112.213215\" xlink:href=\"#m5611334455\" y=\"76.21235\"/>\n     <use style=\"fill:#1f77b4;stroke:#1f77b4;\" x=\"117.460285\" xlink:href=\"#m5611334455\" y=\"84.346582\"/>\n     <use style=\"fill:#1f77b4;stroke:#1f77b4;\" x=\"105.021502\" xlink:href=\"#m5611334455\" y=\"85.937861\"/>\n     <use style=\"fill:#1f77b4;stroke:#1f77b4;\" x=\"124.865107\" xlink:href=\"#m5611334455\" y=\"65.5276\"/>\n     <use style=\"fill:#1f77b4;stroke:#1f77b4;\" x=\"105.036387\" xlink:href=\"#m5611334455\" y=\"85.811161\"/>\n     <use style=\"fill:#1f77b4;stroke:#1f77b4;\" x=\"123.013592\" xlink:href=\"#m5611334455\" y=\"59.059767\"/>\n     <use style=\"fill:#1f77b4;stroke:#1f77b4;\" x=\"95.448586\" xlink:href=\"#m5611334455\" y=\"97.060826\"/>\n     <use style=\"fill:#1f77b4;stroke:#1f77b4;\" x=\"36.764479\" xlink:href=\"#m5611334455\" y=\"128.186923\"/>\n     <use style=\"fill:#1f77b4;stroke:#1f77b4;\" x=\"90.263571\" xlink:href=\"#m5611334455\" y=\"98.358678\"/>\n     <use style=\"fill:#1f77b4;stroke:#1f77b4;\" x=\"79.151664\" xlink:href=\"#m5611334455\" y=\"108.679291\"/>\n     <use style=\"fill:#1f77b4;stroke:#1f77b4;\" x=\"111.373312\" xlink:href=\"#m5611334455\" y=\"83.211796\"/>\n     <use style=\"fill:#1f77b4;stroke:#1f77b4;\" x=\"153.122164\" xlink:href=\"#m5611334455\" y=\"37.171136\"/>\n     <use style=\"fill:#1f77b4;stroke:#1f77b4;\" x=\"151.586847\" xlink:href=\"#m5611334455\" y=\"48.532929\"/>\n     <use style=\"fill:#1f77b4;stroke:#1f77b4;\" x=\"91.00027\" xlink:href=\"#m5611334455\" y=\"96.508383\"/>\n     <use style=\"fill:#1f77b4;stroke:#1f77b4;\" x=\"196.403299\" xlink:href=\"#m5611334455\" y=\"13.377273\"/>\n     <use style=\"fill:#1f77b4;stroke:#1f77b4;\" x=\"77.440666\" xlink:href=\"#m5611334455\" y=\"120.800678\"/>\n     <use style=\"fill:#1f77b4;stroke:#1f77b4;\" x=\"133.33802\" xlink:href=\"#m5611334455\" y=\"61.370692\"/>\n    </g>\n   </g>\n   <g id=\"matplotlib.axis_1\">\n    <g id=\"xtick_1\">\n     <g id=\"line2d_1\">\n      <defs>\n       <path d=\"M 0 0 \nL 0 3.5 \n\" id=\"m71d67e6124\" style=\"stroke:#000000;stroke-width:0.8;\"/>\n      </defs>\n      <g>\n       <use style=\"stroke:#000000;stroke-width:0.8;\" x=\"23.844262\" xlink:href=\"#m71d67e6124\" y=\"143.1\"/>\n      </g>\n     </g>\n     <g id=\"text_1\">\n      <!-- −1 -->\n      <defs>\n       <path d=\"M 10.59375 35.5 \nL 73.1875 35.5 \nL 73.1875 27.203125 \nL 10.59375 27.203125 \nz\n\" id=\"DejaVuSans-8722\"/>\n       <path d=\"M 12.40625 8.296875 \nL 28.515625 8.296875 \nL 28.515625 63.921875 \nL 10.984375 60.40625 \nL 10.984375 69.390625 \nL 28.421875 72.90625 \nL 38.28125 72.90625 \nL 38.28125 8.296875 \nL 54.390625 8.296875 \nL 54.390625 0 \nL 12.40625 0 \nz\n\" id=\"DejaVuSans-49\"/>\n      </defs>\n      <g transform=\"translate(16.473168 157.698438)scale(0.1 -0.1)\">\n       <use xlink:href=\"#DejaVuSans-8722\"/>\n       <use x=\"83.789062\" xlink:href=\"#DejaVuSans-49\"/>\n      </g>\n     </g>\n    </g>\n    <g id=\"xtick_2\">\n     <g id=\"line2d_2\">\n      <g>\n       <use style=\"stroke:#000000;stroke-width:0.8;\" x=\"58.889427\" xlink:href=\"#m71d67e6124\" y=\"143.1\"/>\n      </g>\n     </g>\n     <g id=\"text_2\">\n      <!-- 0 -->\n      <defs>\n       <path d=\"M 31.78125 66.40625 \nQ 24.171875 66.40625 20.328125 58.90625 \nQ 16.5 51.421875 16.5 36.375 \nQ 16.5 21.390625 20.328125 13.890625 \nQ 24.171875 6.390625 31.78125 6.390625 \nQ 39.453125 6.390625 43.28125 13.890625 \nQ 47.125 21.390625 47.125 36.375 \nQ 47.125 51.421875 43.28125 58.90625 \nQ 39.453125 66.40625 31.78125 66.40625 \nz\nM 31.78125 74.21875 \nQ 44.046875 74.21875 50.515625 64.515625 \nQ 56.984375 54.828125 56.984375 36.375 \nQ 56.984375 17.96875 50.515625 8.265625 \nQ 44.046875 -1.421875 31.78125 -1.421875 \nQ 19.53125 -1.421875 13.0625 8.265625 \nQ 6.59375 17.96875 6.59375 36.375 \nQ 6.59375 54.828125 13.0625 64.515625 \nQ 19.53125 74.21875 31.78125 74.21875 \nz\n\" id=\"DejaVuSans-48\"/>\n      </defs>\n      <g transform=\"translate(55.708177 157.698438)scale(0.1 -0.1)\">\n       <use xlink:href=\"#DejaVuSans-48\"/>\n      </g>\n     </g>\n    </g>\n    <g id=\"xtick_3\">\n     <g id=\"line2d_3\">\n      <g>\n       <use style=\"stroke:#000000;stroke-width:0.8;\" x=\"93.934593\" xlink:href=\"#m71d67e6124\" y=\"143.1\"/>\n      </g>\n     </g>\n     <g id=\"text_3\">\n      <!-- 1 -->\n      <g transform=\"translate(90.753343 157.698438)scale(0.1 -0.1)\">\n       <use xlink:href=\"#DejaVuSans-49\"/>\n      </g>\n     </g>\n    </g>\n    <g id=\"xtick_4\">\n     <g id=\"line2d_4\">\n      <g>\n       <use style=\"stroke:#000000;stroke-width:0.8;\" x=\"128.979758\" xlink:href=\"#m71d67e6124\" y=\"143.1\"/>\n      </g>\n     </g>\n     <g id=\"text_4\">\n      <!-- 2 -->\n      <defs>\n       <path d=\"M 19.1875 8.296875 \nL 53.609375 8.296875 \nL 53.609375 0 \nL 7.328125 0 \nL 7.328125 8.296875 \nQ 12.9375 14.109375 22.625 23.890625 \nQ 32.328125 33.6875 34.8125 36.53125 \nQ 39.546875 41.84375 41.421875 45.53125 \nQ 43.3125 49.21875 43.3125 52.78125 \nQ 43.3125 58.59375 39.234375 62.25 \nQ 35.15625 65.921875 28.609375 65.921875 \nQ 23.96875 65.921875 18.8125 64.3125 \nQ 13.671875 62.703125 7.8125 59.421875 \nL 7.8125 69.390625 \nQ 13.765625 71.78125 18.9375 73 \nQ 24.125 74.21875 28.421875 74.21875 \nQ 39.75 74.21875 46.484375 68.546875 \nQ 53.21875 62.890625 53.21875 53.421875 \nQ 53.21875 48.921875 51.53125 44.890625 \nQ 49.859375 40.875 45.40625 35.40625 \nQ 44.1875 33.984375 37.640625 27.21875 \nQ 31.109375 20.453125 19.1875 8.296875 \nz\n\" id=\"DejaVuSans-50\"/>\n      </defs>\n      <g transform=\"translate(125.798508 157.698438)scale(0.1 -0.1)\">\n       <use xlink:href=\"#DejaVuSans-50\"/>\n      </g>\n     </g>\n    </g>\n    <g id=\"xtick_5\">\n     <g id=\"line2d_5\">\n      <g>\n       <use style=\"stroke:#000000;stroke-width:0.8;\" x=\"164.024924\" xlink:href=\"#m71d67e6124\" y=\"143.1\"/>\n      </g>\n     </g>\n     <g id=\"text_5\">\n      <!-- 3 -->\n      <defs>\n       <path d=\"M 40.578125 39.3125 \nQ 47.65625 37.796875 51.625 33 \nQ 55.609375 28.21875 55.609375 21.1875 \nQ 55.609375 10.40625 48.1875 4.484375 \nQ 40.765625 -1.421875 27.09375 -1.421875 \nQ 22.515625 -1.421875 17.65625 -0.515625 \nQ 12.796875 0.390625 7.625 2.203125 \nL 7.625 11.71875 \nQ 11.71875 9.328125 16.59375 8.109375 \nQ 21.484375 6.890625 26.8125 6.890625 \nQ 36.078125 6.890625 40.9375 10.546875 \nQ 45.796875 14.203125 45.796875 21.1875 \nQ 45.796875 27.640625 41.28125 31.265625 \nQ 36.765625 34.90625 28.71875 34.90625 \nL 20.21875 34.90625 \nL 20.21875 43.015625 \nL 29.109375 43.015625 \nQ 36.375 43.015625 40.234375 45.921875 \nQ 44.09375 48.828125 44.09375 54.296875 \nQ 44.09375 59.90625 40.109375 62.90625 \nQ 36.140625 65.921875 28.71875 65.921875 \nQ 24.65625 65.921875 20.015625 65.03125 \nQ 15.375 64.15625 9.8125 62.3125 \nL 9.8125 71.09375 \nQ 15.4375 72.65625 20.34375 73.4375 \nQ 25.25 74.21875 29.59375 74.21875 \nQ 40.828125 74.21875 47.359375 69.109375 \nQ 53.90625 64.015625 53.90625 55.328125 \nQ 53.90625 49.265625 50.4375 45.09375 \nQ 46.96875 40.921875 40.578125 39.3125 \nz\n\" id=\"DejaVuSans-51\"/>\n      </defs>\n      <g transform=\"translate(160.843674 157.698438)scale(0.1 -0.1)\">\n       <use xlink:href=\"#DejaVuSans-51\"/>\n      </g>\n     </g>\n    </g>\n    <g id=\"xtick_6\">\n     <g id=\"line2d_6\">\n      <g>\n       <use style=\"stroke:#000000;stroke-width:0.8;\" x=\"199.070089\" xlink:href=\"#m71d67e6124\" y=\"143.1\"/>\n      </g>\n     </g>\n     <g id=\"text_6\">\n      <!-- 4 -->\n      <defs>\n       <path d=\"M 37.796875 64.3125 \nL 12.890625 25.390625 \nL 37.796875 25.390625 \nz\nM 35.203125 72.90625 \nL 47.609375 72.90625 \nL 47.609375 25.390625 \nL 58.015625 25.390625 \nL 58.015625 17.1875 \nL 47.609375 17.1875 \nL 47.609375 0 \nL 37.796875 0 \nL 37.796875 17.1875 \nL 4.890625 17.1875 \nL 4.890625 26.703125 \nz\n\" id=\"DejaVuSans-52\"/>\n      </defs>\n      <g transform=\"translate(195.888839 157.698438)scale(0.1 -0.1)\">\n       <use xlink:href=\"#DejaVuSans-52\"/>\n      </g>\n     </g>\n    </g>\n   </g>\n   <g id=\"matplotlib.axis_2\">\n    <g id=\"ytick_1\">\n     <g id=\"line2d_7\">\n      <defs>\n       <path d=\"M 0 0 \nL -3.5 0 \n\" id=\"m5bc5a826b2\" style=\"stroke:#000000;stroke-width:0.8;\"/>\n      </defs>\n      <g>\n       <use style=\"stroke:#000000;stroke-width:0.8;\" x=\"20.5625\" xlink:href=\"#m5bc5a826b2\" y=\"118.245839\"/>\n      </g>\n     </g>\n     <g id=\"text_7\">\n      <!-- 0 -->\n      <g transform=\"translate(7.2 122.045057)scale(0.1 -0.1)\">\n       <use xlink:href=\"#DejaVuSans-48\"/>\n      </g>\n     </g>\n    </g>\n    <g id=\"ytick_2\">\n     <g id=\"line2d_8\">\n      <g>\n       <use style=\"stroke:#000000;stroke-width:0.8;\" x=\"20.5625\" xlink:href=\"#m5bc5a826b2\" y=\"93.365016\"/>\n      </g>\n     </g>\n     <g id=\"text_8\">\n      <!-- 2 -->\n      <g transform=\"translate(7.2 97.164235)scale(0.1 -0.1)\">\n       <use xlink:href=\"#DejaVuSans-50\"/>\n      </g>\n     </g>\n    </g>\n    <g id=\"ytick_3\">\n     <g id=\"line2d_9\">\n      <g>\n       <use style=\"stroke:#000000;stroke-width:0.8;\" x=\"20.5625\" xlink:href=\"#m5bc5a826b2\" y=\"68.484194\"/>\n      </g>\n     </g>\n     <g id=\"text_9\">\n      <!-- 4 -->\n      <g transform=\"translate(7.2 72.283412)scale(0.1 -0.1)\">\n       <use xlink:href=\"#DejaVuSans-52\"/>\n      </g>\n     </g>\n    </g>\n    <g id=\"ytick_4\">\n     <g id=\"line2d_10\">\n      <g>\n       <use style=\"stroke:#000000;stroke-width:0.8;\" x=\"20.5625\" xlink:href=\"#m5bc5a826b2\" y=\"43.603371\"/>\n      </g>\n     </g>\n     <g id=\"text_10\">\n      <!-- 6 -->\n      <defs>\n       <path d=\"M 33.015625 40.375 \nQ 26.375 40.375 22.484375 35.828125 \nQ 18.609375 31.296875 18.609375 23.390625 \nQ 18.609375 15.53125 22.484375 10.953125 \nQ 26.375 6.390625 33.015625 6.390625 \nQ 39.65625 6.390625 43.53125 10.953125 \nQ 47.40625 15.53125 47.40625 23.390625 \nQ 47.40625 31.296875 43.53125 35.828125 \nQ 39.65625 40.375 33.015625 40.375 \nz\nM 52.59375 71.296875 \nL 52.59375 62.3125 \nQ 48.875 64.0625 45.09375 64.984375 \nQ 41.3125 65.921875 37.59375 65.921875 \nQ 27.828125 65.921875 22.671875 59.328125 \nQ 17.53125 52.734375 16.796875 39.40625 \nQ 19.671875 43.65625 24.015625 45.921875 \nQ 28.375 48.1875 33.59375 48.1875 \nQ 44.578125 48.1875 50.953125 41.515625 \nQ 57.328125 34.859375 57.328125 23.390625 \nQ 57.328125 12.15625 50.6875 5.359375 \nQ 44.046875 -1.421875 33.015625 -1.421875 \nQ 20.359375 -1.421875 13.671875 8.265625 \nQ 6.984375 17.96875 6.984375 36.375 \nQ 6.984375 53.65625 15.1875 63.9375 \nQ 23.390625 74.21875 37.203125 74.21875 \nQ 40.921875 74.21875 44.703125 73.484375 \nQ 48.484375 72.75 52.59375 71.296875 \nz\n\" id=\"DejaVuSans-54\"/>\n      </defs>\n      <g transform=\"translate(7.2 47.40259)scale(0.1 -0.1)\">\n       <use xlink:href=\"#DejaVuSans-54\"/>\n      </g>\n     </g>\n    </g>\n    <g id=\"ytick_5\">\n     <g id=\"line2d_11\">\n      <g>\n       <use style=\"stroke:#000000;stroke-width:0.8;\" x=\"20.5625\" xlink:href=\"#m5bc5a826b2\" y=\"18.722548\"/>\n      </g>\n     </g>\n     <g id=\"text_11\">\n      <!-- 8 -->\n      <defs>\n       <path d=\"M 31.78125 34.625 \nQ 24.75 34.625 20.71875 30.859375 \nQ 16.703125 27.09375 16.703125 20.515625 \nQ 16.703125 13.921875 20.71875 10.15625 \nQ 24.75 6.390625 31.78125 6.390625 \nQ 38.8125 6.390625 42.859375 10.171875 \nQ 46.921875 13.96875 46.921875 20.515625 \nQ 46.921875 27.09375 42.890625 30.859375 \nQ 38.875 34.625 31.78125 34.625 \nz\nM 21.921875 38.8125 \nQ 15.578125 40.375 12.03125 44.71875 \nQ 8.5 49.078125 8.5 55.328125 \nQ 8.5 64.0625 14.71875 69.140625 \nQ 20.953125 74.21875 31.78125 74.21875 \nQ 42.671875 74.21875 48.875 69.140625 \nQ 55.078125 64.0625 55.078125 55.328125 \nQ 55.078125 49.078125 51.53125 44.71875 \nQ 48 40.375 41.703125 38.8125 \nQ 48.828125 37.15625 52.796875 32.3125 \nQ 56.78125 27.484375 56.78125 20.515625 \nQ 56.78125 9.90625 50.3125 4.234375 \nQ 43.84375 -1.421875 31.78125 -1.421875 \nQ 19.734375 -1.421875 13.25 4.234375 \nQ 6.78125 9.90625 6.78125 20.515625 \nQ 6.78125 27.484375 10.78125 32.3125 \nQ 14.796875 37.15625 21.921875 38.8125 \nz\nM 18.3125 54.390625 \nQ 18.3125 48.734375 21.84375 45.5625 \nQ 25.390625 42.390625 31.78125 42.390625 \nQ 38.140625 42.390625 41.71875 45.5625 \nQ 45.3125 48.734375 45.3125 54.390625 \nQ 45.3125 60.0625 41.71875 63.234375 \nQ 38.140625 66.40625 31.78125 66.40625 \nQ 25.390625 66.40625 21.84375 63.234375 \nQ 18.3125 60.0625 18.3125 54.390625 \nz\n\" id=\"DejaVuSans-56\"/>\n      </defs>\n      <g transform=\"translate(7.2 22.521767)scale(0.1 -0.1)\">\n       <use xlink:href=\"#DejaVuSans-56\"/>\n      </g>\n     </g>\n    </g>\n   </g>\n   <g id=\"patch_3\">\n    <path d=\"M 20.5625 143.1 \nL 20.5625 7.2 \n\" style=\"fill:none;stroke:#000000;stroke-linecap:square;stroke-linejoin:miter;stroke-width:0.8;\"/>\n   </g>\n   <g id=\"patch_4\">\n    <path d=\"M 215.8625 143.1 \nL 215.8625 7.2 \n\" style=\"fill:none;stroke:#000000;stroke-linecap:square;stroke-linejoin:miter;stroke-width:0.8;\"/>\n   </g>\n   <g id=\"patch_5\">\n    <path d=\"M 20.5625 143.1 \nL 215.8625 143.1 \n\" style=\"fill:none;stroke:#000000;stroke-linecap:square;stroke-linejoin:miter;stroke-width:0.8;\"/>\n   </g>\n   <g id=\"patch_6\">\n    <path d=\"M 20.5625 7.2 \nL 215.8625 7.2 \n\" style=\"fill:none;stroke:#000000;stroke-linecap:square;stroke-linejoin:miter;stroke-width:0.8;\"/>\n   </g>\n  </g>\n </g>\n <defs>\n  <clipPath id=\"pb4c96e7972\">\n   <rect height=\"135.9\" width=\"195.3\" x=\"20.5625\" y=\"7.2\"/>\n  </clipPath>\n </defs>\n</svg>\n"
          },
          "metadata": {
            "needs_background": "light"
          }
        }
      ],
      "source": [
        "d2l.set_figsize()\n",
        "d2l.plt.scatter(data[:100, 0].detach().numpy(), data[:100, 1].detach().numpy());\n",
        "print(f'The covariance matrix is\\n{torch.matmul(A.T, A)}')"
      ]
    },
    {
      "cell_type": "code",
      "execution_count": 5,
      "id": "f6c27fad",
      "metadata": {
        "execution": {
          "iopub.execute_input": "2022-09-07T22:09:19.448804Z",
          "iopub.status.busy": "2022-09-07T22:09:19.448224Z",
          "iopub.status.idle": "2022-09-07T22:09:19.452418Z",
          "shell.execute_reply": "2022-09-07T22:09:19.451663Z"
        },
        "origin_pos": 10,
        "tab": [
          "pytorch"
        ],
        "id": "f6c27fad"
      },
      "outputs": [],
      "source": [
        "batch_size = 8\n",
        "data_iter = d2l.load_array((data,), batch_size)"
      ]
    },
    {
      "cell_type": "markdown",
      "id": "8d277ff5",
      "metadata": {
        "origin_pos": 11,
        "id": "8d277ff5"
      },
      "source": [
        "## Generator\n",
        "\n",
        "Our generator network will be the simplest network possible - a single layer linear model. This is since we will be driving that linear network with a Gaussian data generator. Hence, it literally only needs to learn the parameters to fake things perfectly.\n"
      ]
    },
    {
      "cell_type": "code",
      "execution_count": 6,
      "id": "a7b05881",
      "metadata": {
        "execution": {
          "iopub.execute_input": "2022-09-07T22:09:19.457261Z",
          "iopub.status.busy": "2022-09-07T22:09:19.456418Z",
          "iopub.status.idle": "2022-09-07T22:09:19.462111Z",
          "shell.execute_reply": "2022-09-07T22:09:19.461115Z"
        },
        "origin_pos": 13,
        "tab": [
          "pytorch"
        ],
        "id": "a7b05881"
      },
      "outputs": [],
      "source": [
        "net_G = nn.Sequential(nn.Linear(2, 2))"
      ]
    },
    {
      "cell_type": "markdown",
      "id": "c4f7146e",
      "metadata": {
        "origin_pos": 15,
        "id": "c4f7146e"
      },
      "source": [
        "## Discriminator\n",
        "\n",
        "For the discriminator we will be a bit more discriminating: we will use an MLP with 3 layers to make things a bit more interesting.\n"
      ]
    },
    {
      "cell_type": "code",
      "execution_count": 7,
      "id": "a0bfa6cd",
      "metadata": {
        "execution": {
          "iopub.execute_input": "2022-09-07T22:09:19.465508Z",
          "iopub.status.busy": "2022-09-07T22:09:19.465242Z",
          "iopub.status.idle": "2022-09-07T22:09:19.470047Z",
          "shell.execute_reply": "2022-09-07T22:09:19.469313Z"
        },
        "origin_pos": 17,
        "tab": [
          "pytorch"
        ],
        "id": "a0bfa6cd"
      },
      "outputs": [],
      "source": [
        "net_D = nn.Sequential(\n",
        "    nn.Linear(2, 5), nn.Tanh(),\n",
        "    nn.Linear(5, 3), nn.Tanh(),\n",
        "    nn.Linear(3, 1))"
      ]
    },
    {
      "cell_type": "markdown",
      "id": "db25d74d",
      "metadata": {
        "origin_pos": 19,
        "id": "db25d74d"
      },
      "source": [
        "## Training\n",
        "\n",
        "First we define a function to update the discriminator.\n"
      ]
    },
    {
      "cell_type": "code",
      "execution_count": 8,
      "id": "bd246734",
      "metadata": {
        "execution": {
          "iopub.execute_input": "2022-09-07T22:09:19.473502Z",
          "iopub.status.busy": "2022-09-07T22:09:19.473011Z",
          "iopub.status.idle": "2022-09-07T22:09:19.479355Z",
          "shell.execute_reply": "2022-09-07T22:09:19.478401Z"
        },
        "origin_pos": 21,
        "tab": [
          "pytorch"
        ],
        "id": "bd246734"
      },
      "outputs": [],
      "source": [
        "#@save\n",
        "def update_D(X, Z, net_D, net_G, loss, trainer_D):\n",
        "    \"\"\"Update discriminator.\"\"\"\n",
        "    batch_size = X.shape[0]\n",
        "    ones = torch.ones((batch_size,), device=X.device)\n",
        "    zeros = torch.zeros((batch_size,), device=X.device)\n",
        "    trainer_D.zero_grad()\n",
        "    real_Y = net_D(X)\n",
        "    fake_X = net_G(Z)\n",
        "    # Do not need to compute gradient for `net_G`, detach it from\n",
        "    # computing gradients.\n",
        "    fake_Y = net_D(fake_X.detach())\n",
        "    loss_D = (loss(real_Y, ones.reshape(real_Y.shape)) +\n",
        "              loss(fake_Y, zeros.reshape(fake_Y.shape))) / 2\n",
        "    loss_D.backward()\n",
        "    trainer_D.step()\n",
        "    return loss_D"
      ]
    },
    {
      "cell_type": "markdown",
      "id": "c7c6fbd2",
      "metadata": {
        "origin_pos": 23,
        "id": "c7c6fbd2"
      },
      "source": [
        "The generator is updated similarly. Here we reuse the cross-entropy loss but change the label of the fake data from $0$ to $1$.\n"
      ]
    },
    {
      "cell_type": "code",
      "execution_count": 9,
      "id": "707e11e6",
      "metadata": {
        "execution": {
          "iopub.execute_input": "2022-09-07T22:09:19.483418Z",
          "iopub.status.busy": "2022-09-07T22:09:19.482574Z",
          "iopub.status.idle": "2022-09-07T22:09:19.489178Z",
          "shell.execute_reply": "2022-09-07T22:09:19.488274Z"
        },
        "origin_pos": 25,
        "tab": [
          "pytorch"
        ],
        "id": "707e11e6"
      },
      "outputs": [],
      "source": [
        "#@save\n",
        "def update_G(Z, net_D, net_G, loss, trainer_G):\n",
        "    \"\"\"Update generator.\"\"\"\n",
        "    batch_size = Z.shape[0]\n",
        "    ones = torch.ones((batch_size,), device=Z.device)\n",
        "    trainer_G.zero_grad()\n",
        "    # We could reuse `fake_X` from `update_D` to save computation\n",
        "    fake_X = net_G(Z)\n",
        "    # Recomputing `fake_Y` is needed since `net_D` is changed\n",
        "    fake_Y = net_D(fake_X)\n",
        "    loss_G = loss(fake_Y, ones.reshape(fake_Y.shape))\n",
        "    loss_G.backward()\n",
        "    trainer_G.step()\n",
        "    return loss_G"
      ]
    },
    {
      "cell_type": "markdown",
      "id": "c42f729a",
      "metadata": {
        "origin_pos": 27,
        "id": "c42f729a"
      },
      "source": [
        "Both the discriminator and the generator performs a binary logistic regression with the cross-entropy loss. We use Adam to smooth the training process. In each iteration, we first update the discriminator and then the generator. We visualize both losses and generated examples.\n"
      ]
    },
    {
      "cell_type": "code",
      "execution_count": 10,
      "id": "9a0b5255",
      "metadata": {
        "execution": {
          "iopub.execute_input": "2022-09-07T22:09:19.492675Z",
          "iopub.status.busy": "2022-09-07T22:09:19.492117Z",
          "iopub.status.idle": "2022-09-07T22:09:19.505337Z",
          "shell.execute_reply": "2022-09-07T22:09:19.504348Z"
        },
        "origin_pos": 29,
        "tab": [
          "pytorch"
        ],
        "id": "9a0b5255"
      },
      "outputs": [],
      "source": [
        "def train(net_D, net_G, data_iter, num_epochs, lr_D, lr_G, latent_dim, data):\n",
        "    loss = nn.BCEWithLogitsLoss(reduction='sum')\n",
        "    for w in net_D.parameters():\n",
        "        nn.init.normal_(w, 0, 0.02)\n",
        "    for w in net_G.parameters():\n",
        "        nn.init.normal_(w, 0, 0.02)\n",
        "    trainer_D = torch.optim.Adam(net_D.parameters(), lr=lr_D)\n",
        "    trainer_G = torch.optim.Adam(net_G.parameters(), lr=lr_G)\n",
        "    animator = d2l.Animator(xlabel='epoch', ylabel='loss',\n",
        "                            xlim=[1, num_epochs], nrows=2, figsize=(5, 5),\n",
        "                            legend=['discriminator', 'generator'])\n",
        "    animator.fig.subplots_adjust(hspace=0.3)\n",
        "    for epoch in range(num_epochs):\n",
        "        # Train one epoch\n",
        "        timer = d2l.Timer()\n",
        "        metric = d2l.Accumulator(3)  # loss_D, loss_G, num_examples\n",
        "        for (X,) in data_iter:\n",
        "            batch_size = X.shape[0]\n",
        "            Z = torch.normal(0, 1, size=(batch_size, latent_dim))\n",
        "            metric.add(update_D(X, Z, net_D, net_G, loss, trainer_D),\n",
        "                       update_G(Z, net_D, net_G, loss, trainer_G),\n",
        "                       batch_size)\n",
        "        # Visualize generated examples\n",
        "        Z = torch.normal(0, 1, size=(100, latent_dim))\n",
        "        fake_X = net_G(Z).detach().numpy()\n",
        "        animator.axes[1].cla()\n",
        "        animator.axes[1].scatter(data[:, 0], data[:, 1])\n",
        "        animator.axes[1].scatter(fake_X[:, 0], fake_X[:, 1])\n",
        "        animator.axes[1].legend(['real', 'generated'])\n",
        "        # Show the losses\n",
        "        loss_D, loss_G = metric[0]/metric[2], metric[1]/metric[2]\n",
        "        animator.add(epoch + 1, (loss_D, loss_G))\n",
        "    print(f'loss_D {loss_D:.3f}, loss_G {loss_G:.3f}, '\n",
        "          f'{metric[2] / timer.stop():.1f} examples/sec')"
      ]
    },
    {
      "cell_type": "markdown",
      "id": "d66e54b9",
      "metadata": {
        "origin_pos": 31,
        "id": "d66e54b9"
      },
      "source": [
        "Now we specify the hyperparameters to fit the Gaussian distribution.\n"
      ]
    },
    {
      "cell_type": "code",
      "execution_count": 11,
      "id": "9d51c2e5",
      "metadata": {
        "execution": {
          "iopub.execute_input": "2022-09-07T22:09:19.509647Z",
          "iopub.status.busy": "2022-09-07T22:09:19.508902Z",
          "iopub.status.idle": "2022-09-07T22:09:32.511305Z",
          "shell.execute_reply": "2022-09-07T22:09:32.510425Z"
        },
        "origin_pos": 32,
        "tab": [
          "pytorch"
        ],
        "id": "9d51c2e5",
        "outputId": "2631e1a0-8807-4681-b395-db24ac6b606d",
        "colab": {
          "base_uri": "https://localhost:8080/",
          "height": 446
        }
      },
      "outputs": [
        {
          "output_type": "stream",
          "name": "stdout",
          "text": [
            "loss_D 0.693, loss_G 0.693, 1774.3 examples/sec\n"
          ]
        },
        {
          "output_type": "display_data",
          "data": {
            "text/plain": [
              "<Figure size 360x360 with 2 Axes>"
            ],
            "image/svg+xml": "<?xml version=\"1.0\" encoding=\"utf-8\" standalone=\"no\"?>\n<!DOCTYPE svg PUBLIC \"-//W3C//DTD SVG 1.1//EN\"\n  \"http://www.w3.org/Graphics/SVG/1.1/DTD/svg11.dtd\">\n<!-- Created with matplotlib (https://matplotlib.org/) -->\n<svg height=\"305.70007pt\" version=\"1.1\" viewBox=\"0 0 347.476562 305.70007\" width=\"347.476562pt\" xmlns=\"http://www.w3.org/2000/svg\" xmlns:xlink=\"http://www.w3.org/1999/xlink\">\n <defs>\n  <style type=\"text/css\">\n*{stroke-linecap:butt;stroke-linejoin:round;}\n  </style>\n </defs>\n <g id=\"figure_1\">\n  <g id=\"patch_1\">\n   <path d=\"M 0 305.70007 \nL 347.476562 305.70007 \nL 347.476562 0 \nL 0 0 \nz\n\" style=\"fill:none;\"/>\n  </g>\n  <g id=\"axes_1\">\n   <g id=\"patch_2\">\n    <path d=\"M 50.14375 128.195858 \nL 329.14375 128.195858 \nL 329.14375 10.021945 \nL 50.14375 10.021945 \nz\n\" style=\"fill:#ffffff;\"/>\n   </g>\n   <g id=\"matplotlib.axis_1\">\n    <g id=\"xtick_1\">\n     <g id=\"line2d_1\">\n      <path clip-path=\"url(#p19384b2fdd)\" d=\"M 72.170066 128.195858 \nL 72.170066 10.021945 \n\" style=\"fill:none;stroke:#b0b0b0;stroke-linecap:square;stroke-width:0.8;\"/>\n     </g>\n     <g id=\"line2d_2\">\n      <defs>\n       <path d=\"M 0 0 \nL 0 3.5 \n\" id=\"m524d35563f\" style=\"stroke:#000000;stroke-width:0.8;\"/>\n      </defs>\n      <g>\n       <use style=\"stroke:#000000;stroke-width:0.8;\" x=\"72.170066\" xlink:href=\"#m524d35563f\" y=\"128.195858\"/>\n      </g>\n     </g>\n     <g id=\"text_1\">\n      <!-- 2.5 -->\n      <defs>\n       <path d=\"M 19.1875 8.296875 \nL 53.609375 8.296875 \nL 53.609375 0 \nL 7.328125 0 \nL 7.328125 8.296875 \nQ 12.9375 14.109375 22.625 23.890625 \nQ 32.328125 33.6875 34.8125 36.53125 \nQ 39.546875 41.84375 41.421875 45.53125 \nQ 43.3125 49.21875 43.3125 52.78125 \nQ 43.3125 58.59375 39.234375 62.25 \nQ 35.15625 65.921875 28.609375 65.921875 \nQ 23.96875 65.921875 18.8125 64.3125 \nQ 13.671875 62.703125 7.8125 59.421875 \nL 7.8125 69.390625 \nQ 13.765625 71.78125 18.9375 73 \nQ 24.125 74.21875 28.421875 74.21875 \nQ 39.75 74.21875 46.484375 68.546875 \nQ 53.21875 62.890625 53.21875 53.421875 \nQ 53.21875 48.921875 51.53125 44.890625 \nQ 49.859375 40.875 45.40625 35.40625 \nQ 44.1875 33.984375 37.640625 27.21875 \nQ 31.109375 20.453125 19.1875 8.296875 \nz\n\" id=\"DejaVuSans-50\"/>\n       <path d=\"M 10.6875 12.40625 \nL 21 12.40625 \nL 21 0 \nL 10.6875 0 \nz\n\" id=\"DejaVuSans-46\"/>\n       <path d=\"M 10.796875 72.90625 \nL 49.515625 72.90625 \nL 49.515625 64.59375 \nL 19.828125 64.59375 \nL 19.828125 46.734375 \nQ 21.96875 47.46875 24.109375 47.828125 \nQ 26.265625 48.1875 28.421875 48.1875 \nQ 40.625 48.1875 47.75 41.5 \nQ 54.890625 34.8125 54.890625 23.390625 \nQ 54.890625 11.625 47.5625 5.09375 \nQ 40.234375 -1.421875 26.90625 -1.421875 \nQ 22.3125 -1.421875 17.546875 -0.640625 \nQ 12.796875 0.140625 7.71875 1.703125 \nL 7.71875 11.625 \nQ 12.109375 9.234375 16.796875 8.0625 \nQ 21.484375 6.890625 26.703125 6.890625 \nQ 35.15625 6.890625 40.078125 11.328125 \nQ 45.015625 15.765625 45.015625 23.390625 \nQ 45.015625 31 40.078125 35.4375 \nQ 35.15625 39.890625 26.703125 39.890625 \nQ 22.75 39.890625 18.8125 39.015625 \nQ 14.890625 38.140625 10.796875 36.28125 \nz\n\" id=\"DejaVuSans-53\"/>\n      </defs>\n      <g transform=\"translate(64.218503 142.794295)scale(0.1 -0.1)\">\n       <use xlink:href=\"#DejaVuSans-50\"/>\n       <use x=\"63.623047\" xlink:href=\"#DejaVuSans-46\"/>\n       <use x=\"95.410156\" xlink:href=\"#DejaVuSans-53\"/>\n      </g>\n     </g>\n    </g>\n    <g id=\"xtick_2\">\n     <g id=\"line2d_3\">\n      <path clip-path=\"url(#p19384b2fdd)\" d=\"M 108.880592 128.195858 \nL 108.880592 10.021945 \n\" style=\"fill:none;stroke:#b0b0b0;stroke-linecap:square;stroke-width:0.8;\"/>\n     </g>\n     <g id=\"line2d_4\">\n      <g>\n       <use style=\"stroke:#000000;stroke-width:0.8;\" x=\"108.880592\" xlink:href=\"#m524d35563f\" y=\"128.195858\"/>\n      </g>\n     </g>\n     <g id=\"text_2\">\n      <!-- 5.0 -->\n      <defs>\n       <path d=\"M 31.78125 66.40625 \nQ 24.171875 66.40625 20.328125 58.90625 \nQ 16.5 51.421875 16.5 36.375 \nQ 16.5 21.390625 20.328125 13.890625 \nQ 24.171875 6.390625 31.78125 6.390625 \nQ 39.453125 6.390625 43.28125 13.890625 \nQ 47.125 21.390625 47.125 36.375 \nQ 47.125 51.421875 43.28125 58.90625 \nQ 39.453125 66.40625 31.78125 66.40625 \nz\nM 31.78125 74.21875 \nQ 44.046875 74.21875 50.515625 64.515625 \nQ 56.984375 54.828125 56.984375 36.375 \nQ 56.984375 17.96875 50.515625 8.265625 \nQ 44.046875 -1.421875 31.78125 -1.421875 \nQ 19.53125 -1.421875 13.0625 8.265625 \nQ 6.59375 17.96875 6.59375 36.375 \nQ 6.59375 54.828125 13.0625 64.515625 \nQ 19.53125 74.21875 31.78125 74.21875 \nz\n\" id=\"DejaVuSans-48\"/>\n      </defs>\n      <g transform=\"translate(100.92903 142.794295)scale(0.1 -0.1)\">\n       <use xlink:href=\"#DejaVuSans-53\"/>\n       <use x=\"63.623047\" xlink:href=\"#DejaVuSans-46\"/>\n       <use x=\"95.410156\" xlink:href=\"#DejaVuSans-48\"/>\n      </g>\n     </g>\n    </g>\n    <g id=\"xtick_3\">\n     <g id=\"line2d_5\">\n      <path clip-path=\"url(#p19384b2fdd)\" d=\"M 145.591118 128.195858 \nL 145.591118 10.021945 \n\" style=\"fill:none;stroke:#b0b0b0;stroke-linecap:square;stroke-width:0.8;\"/>\n     </g>\n     <g id=\"line2d_6\">\n      <g>\n       <use style=\"stroke:#000000;stroke-width:0.8;\" x=\"145.591118\" xlink:href=\"#m524d35563f\" y=\"128.195858\"/>\n      </g>\n     </g>\n     <g id=\"text_3\">\n      <!-- 7.5 -->\n      <defs>\n       <path d=\"M 8.203125 72.90625 \nL 55.078125 72.90625 \nL 55.078125 68.703125 \nL 28.609375 0 \nL 18.3125 0 \nL 43.21875 64.59375 \nL 8.203125 64.59375 \nz\n\" id=\"DejaVuSans-55\"/>\n      </defs>\n      <g transform=\"translate(137.639556 142.794295)scale(0.1 -0.1)\">\n       <use xlink:href=\"#DejaVuSans-55\"/>\n       <use x=\"63.623047\" xlink:href=\"#DejaVuSans-46\"/>\n       <use x=\"95.410156\" xlink:href=\"#DejaVuSans-53\"/>\n      </g>\n     </g>\n    </g>\n    <g id=\"xtick_4\">\n     <g id=\"line2d_7\">\n      <path clip-path=\"url(#p19384b2fdd)\" d=\"M 182.301645 128.195858 \nL 182.301645 10.021945 \n\" style=\"fill:none;stroke:#b0b0b0;stroke-linecap:square;stroke-width:0.8;\"/>\n     </g>\n     <g id=\"line2d_8\">\n      <g>\n       <use style=\"stroke:#000000;stroke-width:0.8;\" x=\"182.301645\" xlink:href=\"#m524d35563f\" y=\"128.195858\"/>\n      </g>\n     </g>\n     <g id=\"text_4\">\n      <!-- 10.0 -->\n      <defs>\n       <path d=\"M 12.40625 8.296875 \nL 28.515625 8.296875 \nL 28.515625 63.921875 \nL 10.984375 60.40625 \nL 10.984375 69.390625 \nL 28.421875 72.90625 \nL 38.28125 72.90625 \nL 38.28125 8.296875 \nL 54.390625 8.296875 \nL 54.390625 0 \nL 12.40625 0 \nz\n\" id=\"DejaVuSans-49\"/>\n      </defs>\n      <g transform=\"translate(171.168832 142.794295)scale(0.1 -0.1)\">\n       <use xlink:href=\"#DejaVuSans-49\"/>\n       <use x=\"63.623047\" xlink:href=\"#DejaVuSans-48\"/>\n       <use x=\"127.246094\" xlink:href=\"#DejaVuSans-46\"/>\n       <use x=\"159.033203\" xlink:href=\"#DejaVuSans-48\"/>\n      </g>\n     </g>\n    </g>\n    <g id=\"xtick_5\">\n     <g id=\"line2d_9\">\n      <path clip-path=\"url(#p19384b2fdd)\" d=\"M 219.012171 128.195858 \nL 219.012171 10.021945 \n\" style=\"fill:none;stroke:#b0b0b0;stroke-linecap:square;stroke-width:0.8;\"/>\n     </g>\n     <g id=\"line2d_10\">\n      <g>\n       <use style=\"stroke:#000000;stroke-width:0.8;\" x=\"219.012171\" xlink:href=\"#m524d35563f\" y=\"128.195858\"/>\n      </g>\n     </g>\n     <g id=\"text_5\">\n      <!-- 12.5 -->\n      <g transform=\"translate(207.879359 142.794295)scale(0.1 -0.1)\">\n       <use xlink:href=\"#DejaVuSans-49\"/>\n       <use x=\"63.623047\" xlink:href=\"#DejaVuSans-50\"/>\n       <use x=\"127.246094\" xlink:href=\"#DejaVuSans-46\"/>\n       <use x=\"159.033203\" xlink:href=\"#DejaVuSans-53\"/>\n      </g>\n     </g>\n    </g>\n    <g id=\"xtick_6\">\n     <g id=\"line2d_11\">\n      <path clip-path=\"url(#p19384b2fdd)\" d=\"M 255.722697 128.195858 \nL 255.722697 10.021945 \n\" style=\"fill:none;stroke:#b0b0b0;stroke-linecap:square;stroke-width:0.8;\"/>\n     </g>\n     <g id=\"line2d_12\">\n      <g>\n       <use style=\"stroke:#000000;stroke-width:0.8;\" x=\"255.722697\" xlink:href=\"#m524d35563f\" y=\"128.195858\"/>\n      </g>\n     </g>\n     <g id=\"text_6\">\n      <!-- 15.0 -->\n      <g transform=\"translate(244.589885 142.794295)scale(0.1 -0.1)\">\n       <use xlink:href=\"#DejaVuSans-49\"/>\n       <use x=\"63.623047\" xlink:href=\"#DejaVuSans-53\"/>\n       <use x=\"127.246094\" xlink:href=\"#DejaVuSans-46\"/>\n       <use x=\"159.033203\" xlink:href=\"#DejaVuSans-48\"/>\n      </g>\n     </g>\n    </g>\n    <g id=\"xtick_7\">\n     <g id=\"line2d_13\">\n      <path clip-path=\"url(#p19384b2fdd)\" d=\"M 292.433224 128.195858 \nL 292.433224 10.021945 \n\" style=\"fill:none;stroke:#b0b0b0;stroke-linecap:square;stroke-width:0.8;\"/>\n     </g>\n     <g id=\"line2d_14\">\n      <g>\n       <use style=\"stroke:#000000;stroke-width:0.8;\" x=\"292.433224\" xlink:href=\"#m524d35563f\" y=\"128.195858\"/>\n      </g>\n     </g>\n     <g id=\"text_7\">\n      <!-- 17.5 -->\n      <g transform=\"translate(281.300411 142.794295)scale(0.1 -0.1)\">\n       <use xlink:href=\"#DejaVuSans-49\"/>\n       <use x=\"63.623047\" xlink:href=\"#DejaVuSans-55\"/>\n       <use x=\"127.246094\" xlink:href=\"#DejaVuSans-46\"/>\n       <use x=\"159.033203\" xlink:href=\"#DejaVuSans-53\"/>\n      </g>\n     </g>\n    </g>\n    <g id=\"xtick_8\">\n     <g id=\"line2d_15\">\n      <path clip-path=\"url(#p19384b2fdd)\" d=\"M 329.14375 128.195858 \nL 329.14375 10.021945 \n\" style=\"fill:none;stroke:#b0b0b0;stroke-linecap:square;stroke-width:0.8;\"/>\n     </g>\n     <g id=\"line2d_16\">\n      <g>\n       <use style=\"stroke:#000000;stroke-width:0.8;\" x=\"329.14375\" xlink:href=\"#m524d35563f\" y=\"128.195858\"/>\n      </g>\n     </g>\n     <g id=\"text_8\">\n      <!-- 20.0 -->\n      <g transform=\"translate(318.010938 142.794295)scale(0.1 -0.1)\">\n       <use xlink:href=\"#DejaVuSans-50\"/>\n       <use x=\"63.623047\" xlink:href=\"#DejaVuSans-48\"/>\n       <use x=\"127.246094\" xlink:href=\"#DejaVuSans-46\"/>\n       <use x=\"159.033203\" xlink:href=\"#DejaVuSans-48\"/>\n      </g>\n     </g>\n    </g>\n    <g id=\"text_9\">\n     <!-- epoch -->\n     <defs>\n      <path d=\"M 56.203125 29.59375 \nL 56.203125 25.203125 \nL 14.890625 25.203125 \nQ 15.484375 15.921875 20.484375 11.0625 \nQ 25.484375 6.203125 34.421875 6.203125 \nQ 39.59375 6.203125 44.453125 7.46875 \nQ 49.3125 8.734375 54.109375 11.28125 \nL 54.109375 2.78125 \nQ 49.265625 0.734375 44.1875 -0.34375 \nQ 39.109375 -1.421875 33.890625 -1.421875 \nQ 20.796875 -1.421875 13.15625 6.1875 \nQ 5.515625 13.8125 5.515625 26.8125 \nQ 5.515625 40.234375 12.765625 48.109375 \nQ 20.015625 56 32.328125 56 \nQ 43.359375 56 49.78125 48.890625 \nQ 56.203125 41.796875 56.203125 29.59375 \nz\nM 47.21875 32.234375 \nQ 47.125 39.59375 43.09375 43.984375 \nQ 39.0625 48.390625 32.421875 48.390625 \nQ 24.90625 48.390625 20.390625 44.140625 \nQ 15.875 39.890625 15.1875 32.171875 \nz\n\" id=\"DejaVuSans-101\"/>\n      <path d=\"M 18.109375 8.203125 \nL 18.109375 -20.796875 \nL 9.078125 -20.796875 \nL 9.078125 54.6875 \nL 18.109375 54.6875 \nL 18.109375 46.390625 \nQ 20.953125 51.265625 25.265625 53.625 \nQ 29.59375 56 35.59375 56 \nQ 45.5625 56 51.78125 48.09375 \nQ 58.015625 40.1875 58.015625 27.296875 \nQ 58.015625 14.40625 51.78125 6.484375 \nQ 45.5625 -1.421875 35.59375 -1.421875 \nQ 29.59375 -1.421875 25.265625 0.953125 \nQ 20.953125 3.328125 18.109375 8.203125 \nz\nM 48.6875 27.296875 \nQ 48.6875 37.203125 44.609375 42.84375 \nQ 40.53125 48.484375 33.40625 48.484375 \nQ 26.265625 48.484375 22.1875 42.84375 \nQ 18.109375 37.203125 18.109375 27.296875 \nQ 18.109375 17.390625 22.1875 11.75 \nQ 26.265625 6.109375 33.40625 6.109375 \nQ 40.53125 6.109375 44.609375 11.75 \nQ 48.6875 17.390625 48.6875 27.296875 \nz\n\" id=\"DejaVuSans-112\"/>\n      <path d=\"M 30.609375 48.390625 \nQ 23.390625 48.390625 19.1875 42.75 \nQ 14.984375 37.109375 14.984375 27.296875 \nQ 14.984375 17.484375 19.15625 11.84375 \nQ 23.34375 6.203125 30.609375 6.203125 \nQ 37.796875 6.203125 41.984375 11.859375 \nQ 46.1875 17.53125 46.1875 27.296875 \nQ 46.1875 37.015625 41.984375 42.703125 \nQ 37.796875 48.390625 30.609375 48.390625 \nz\nM 30.609375 56 \nQ 42.328125 56 49.015625 48.375 \nQ 55.71875 40.765625 55.71875 27.296875 \nQ 55.71875 13.875 49.015625 6.21875 \nQ 42.328125 -1.421875 30.609375 -1.421875 \nQ 18.84375 -1.421875 12.171875 6.21875 \nQ 5.515625 13.875 5.515625 27.296875 \nQ 5.515625 40.765625 12.171875 48.375 \nQ 18.84375 56 30.609375 56 \nz\n\" id=\"DejaVuSans-111\"/>\n      <path d=\"M 48.78125 52.59375 \nL 48.78125 44.1875 \nQ 44.96875 46.296875 41.140625 47.34375 \nQ 37.3125 48.390625 33.40625 48.390625 \nQ 24.65625 48.390625 19.8125 42.84375 \nQ 14.984375 37.3125 14.984375 27.296875 \nQ 14.984375 17.28125 19.8125 11.734375 \nQ 24.65625 6.203125 33.40625 6.203125 \nQ 37.3125 6.203125 41.140625 7.25 \nQ 44.96875 8.296875 48.78125 10.40625 \nL 48.78125 2.09375 \nQ 45.015625 0.34375 40.984375 -0.53125 \nQ 36.96875 -1.421875 32.421875 -1.421875 \nQ 20.0625 -1.421875 12.78125 6.34375 \nQ 5.515625 14.109375 5.515625 27.296875 \nQ 5.515625 40.671875 12.859375 48.328125 \nQ 20.21875 56 33.015625 56 \nQ 37.15625 56 41.109375 55.140625 \nQ 45.0625 54.296875 48.78125 52.59375 \nz\n\" id=\"DejaVuSans-99\"/>\n      <path d=\"M 54.890625 33.015625 \nL 54.890625 0 \nL 45.90625 0 \nL 45.90625 32.71875 \nQ 45.90625 40.484375 42.875 44.328125 \nQ 39.84375 48.1875 33.796875 48.1875 \nQ 26.515625 48.1875 22.3125 43.546875 \nQ 18.109375 38.921875 18.109375 30.90625 \nL 18.109375 0 \nL 9.078125 0 \nL 9.078125 75.984375 \nL 18.109375 75.984375 \nL 18.109375 46.1875 \nQ 21.34375 51.125 25.703125 53.5625 \nQ 30.078125 56 35.796875 56 \nQ 45.21875 56 50.046875 50.171875 \nQ 54.890625 44.34375 54.890625 33.015625 \nz\n\" id=\"DejaVuSans-104\"/>\n     </defs>\n     <g transform=\"translate(174.415625 156.47242)scale(0.1 -0.1)\">\n      <use xlink:href=\"#DejaVuSans-101\"/>\n      <use x=\"61.523438\" xlink:href=\"#DejaVuSans-112\"/>\n      <use x=\"125\" xlink:href=\"#DejaVuSans-111\"/>\n      <use x=\"186.181641\" xlink:href=\"#DejaVuSans-99\"/>\n      <use x=\"241.162109\" xlink:href=\"#DejaVuSans-104\"/>\n     </g>\n    </g>\n   </g>\n   <g id=\"matplotlib.axis_2\">\n    <g id=\"ytick_1\">\n     <g id=\"line2d_17\">\n      <path clip-path=\"url(#p19384b2fdd)\" d=\"M 50.14375 113.781564 \nL 329.14375 113.781564 \n\" style=\"fill:none;stroke:#b0b0b0;stroke-linecap:square;stroke-width:0.8;\"/>\n     </g>\n     <g id=\"line2d_18\">\n      <defs>\n       <path d=\"M 0 0 \nL -3.5 0 \n\" id=\"m7bbd94f8a3\" style=\"stroke:#000000;stroke-width:0.8;\"/>\n      </defs>\n      <g>\n       <use style=\"stroke:#000000;stroke-width:0.8;\" x=\"50.14375\" xlink:href=\"#m7bbd94f8a3\" y=\"113.781564\"/>\n      </g>\n     </g>\n     <g id=\"text_10\">\n      <!-- 0.50 -->\n      <g transform=\"translate(20.878125 117.580783)scale(0.1 -0.1)\">\n       <use xlink:href=\"#DejaVuSans-48\"/>\n       <use x=\"63.623047\" xlink:href=\"#DejaVuSans-46\"/>\n       <use x=\"95.410156\" xlink:href=\"#DejaVuSans-53\"/>\n       <use x=\"159.033203\" xlink:href=\"#DejaVuSans-48\"/>\n      </g>\n     </g>\n    </g>\n    <g id=\"ytick_2\">\n     <g id=\"line2d_19\">\n      <path clip-path=\"url(#p19384b2fdd)\" d=\"M 50.14375 88.085978 \nL 329.14375 88.085978 \n\" style=\"fill:none;stroke:#b0b0b0;stroke-linecap:square;stroke-width:0.8;\"/>\n     </g>\n     <g id=\"line2d_20\">\n      <g>\n       <use style=\"stroke:#000000;stroke-width:0.8;\" x=\"50.14375\" xlink:href=\"#m7bbd94f8a3\" y=\"88.085978\"/>\n      </g>\n     </g>\n     <g id=\"text_11\">\n      <!-- 0.75 -->\n      <g transform=\"translate(20.878125 91.885197)scale(0.1 -0.1)\">\n       <use xlink:href=\"#DejaVuSans-48\"/>\n       <use x=\"63.623047\" xlink:href=\"#DejaVuSans-46\"/>\n       <use x=\"95.410156\" xlink:href=\"#DejaVuSans-55\"/>\n       <use x=\"159.033203\" xlink:href=\"#DejaVuSans-53\"/>\n      </g>\n     </g>\n    </g>\n    <g id=\"ytick_3\">\n     <g id=\"line2d_21\">\n      <path clip-path=\"url(#p19384b2fdd)\" d=\"M 50.14375 62.390392 \nL 329.14375 62.390392 \n\" style=\"fill:none;stroke:#b0b0b0;stroke-linecap:square;stroke-width:0.8;\"/>\n     </g>\n     <g id=\"line2d_22\">\n      <g>\n       <use style=\"stroke:#000000;stroke-width:0.8;\" x=\"50.14375\" xlink:href=\"#m7bbd94f8a3\" y=\"62.390392\"/>\n      </g>\n     </g>\n     <g id=\"text_12\">\n      <!-- 1.00 -->\n      <g transform=\"translate(20.878125 66.18961)scale(0.1 -0.1)\">\n       <use xlink:href=\"#DejaVuSans-49\"/>\n       <use x=\"63.623047\" xlink:href=\"#DejaVuSans-46\"/>\n       <use x=\"95.410156\" xlink:href=\"#DejaVuSans-48\"/>\n       <use x=\"159.033203\" xlink:href=\"#DejaVuSans-48\"/>\n      </g>\n     </g>\n    </g>\n    <g id=\"ytick_4\">\n     <g id=\"line2d_23\">\n      <path clip-path=\"url(#p19384b2fdd)\" d=\"M 50.14375 36.694805 \nL 329.14375 36.694805 \n\" style=\"fill:none;stroke:#b0b0b0;stroke-linecap:square;stroke-width:0.8;\"/>\n     </g>\n     <g id=\"line2d_24\">\n      <g>\n       <use style=\"stroke:#000000;stroke-width:0.8;\" x=\"50.14375\" xlink:href=\"#m7bbd94f8a3\" y=\"36.694805\"/>\n      </g>\n     </g>\n     <g id=\"text_13\">\n      <!-- 1.25 -->\n      <g transform=\"translate(20.878125 40.494024)scale(0.1 -0.1)\">\n       <use xlink:href=\"#DejaVuSans-49\"/>\n       <use x=\"63.623047\" xlink:href=\"#DejaVuSans-46\"/>\n       <use x=\"95.410156\" xlink:href=\"#DejaVuSans-50\"/>\n       <use x=\"159.033203\" xlink:href=\"#DejaVuSans-53\"/>\n      </g>\n     </g>\n    </g>\n    <g id=\"ytick_5\">\n     <g id=\"line2d_25\">\n      <path clip-path=\"url(#p19384b2fdd)\" d=\"M 50.14375 10.999219 \nL 329.14375 10.999219 \n\" style=\"fill:none;stroke:#b0b0b0;stroke-linecap:square;stroke-width:0.8;\"/>\n     </g>\n     <g id=\"line2d_26\">\n      <g>\n       <use style=\"stroke:#000000;stroke-width:0.8;\" x=\"50.14375\" xlink:href=\"#m7bbd94f8a3\" y=\"10.999219\"/>\n      </g>\n     </g>\n     <g id=\"text_14\">\n      <!-- 1.50 -->\n      <g transform=\"translate(20.878125 14.798437)scale(0.1 -0.1)\">\n       <use xlink:href=\"#DejaVuSans-49\"/>\n       <use x=\"63.623047\" xlink:href=\"#DejaVuSans-46\"/>\n       <use x=\"95.410156\" xlink:href=\"#DejaVuSans-53\"/>\n       <use x=\"159.033203\" xlink:href=\"#DejaVuSans-48\"/>\n      </g>\n     </g>\n    </g>\n    <g id=\"text_15\">\n     <!-- loss -->\n     <defs>\n      <path d=\"M 9.421875 75.984375 \nL 18.40625 75.984375 \nL 18.40625 0 \nL 9.421875 0 \nz\n\" id=\"DejaVuSans-108\"/>\n      <path d=\"M 44.28125 53.078125 \nL 44.28125 44.578125 \nQ 40.484375 46.53125 36.375 47.5 \nQ 32.28125 48.484375 27.875 48.484375 \nQ 21.1875 48.484375 17.84375 46.4375 \nQ 14.5 44.390625 14.5 40.28125 \nQ 14.5 37.15625 16.890625 35.375 \nQ 19.28125 33.59375 26.515625 31.984375 \nL 29.59375 31.296875 \nQ 39.15625 29.25 43.1875 25.515625 \nQ 47.21875 21.78125 47.21875 15.09375 \nQ 47.21875 7.46875 41.1875 3.015625 \nQ 35.15625 -1.421875 24.609375 -1.421875 \nQ 20.21875 -1.421875 15.453125 -0.5625 \nQ 10.6875 0.296875 5.421875 2 \nL 5.421875 11.28125 \nQ 10.40625 8.6875 15.234375 7.390625 \nQ 20.0625 6.109375 24.8125 6.109375 \nQ 31.15625 6.109375 34.5625 8.28125 \nQ 37.984375 10.453125 37.984375 14.40625 \nQ 37.984375 18.0625 35.515625 20.015625 \nQ 33.0625 21.96875 24.703125 23.78125 \nL 21.578125 24.515625 \nQ 13.234375 26.265625 9.515625 29.90625 \nQ 5.8125 33.546875 5.8125 39.890625 \nQ 5.8125 47.609375 11.28125 51.796875 \nQ 16.75 56 26.8125 56 \nQ 31.78125 56 36.171875 55.265625 \nQ 40.578125 54.546875 44.28125 53.078125 \nz\n\" id=\"DejaVuSans-115\"/>\n     </defs>\n     <g transform=\"translate(14.798438 78.766714)rotate(-90)scale(0.1 -0.1)\">\n      <use xlink:href=\"#DejaVuSans-108\"/>\n      <use x=\"27.783203\" xlink:href=\"#DejaVuSans-111\"/>\n      <use x=\"88.964844\" xlink:href=\"#DejaVuSans-115\"/>\n      <use x=\"141.064453\" xlink:href=\"#DejaVuSans-115\"/>\n     </g>\n    </g>\n   </g>\n   <g id=\"line2d_27\">\n    <path clip-path=\"url(#p19384b2fdd)\" d=\"M 50.14375 122.824316 \nL 64.827961 114.951656 \nL 79.512171 109.675227 \nL 94.196382 106.557616 \nL 108.880592 95.516188 \nL 123.564803 104.888013 \nL 138.249013 95.542213 \nL 152.933224 93.862609 \nL 167.617434 93.866583 \nL 182.301645 93.856059 \nL 196.985855 93.922972 \nL 211.670066 93.935639 \nL 226.354276 94.72794 \nL 241.038487 94.479265 \nL 255.722697 95.239099 \nL 270.406908 93.90713 \nL 285.091118 93.898618 \nL 299.775329 93.924615 \nL 314.459539 93.929989 \nL 329.14375 93.933126 \n\" style=\"fill:none;stroke:#1f77b4;stroke-linecap:square;stroke-width:1.5;\"/>\n   </g>\n   <g id=\"line2d_28\">\n    <path clip-path=\"url(#p19384b2fdd)\" d=\"M 50.14375 15.393486 \nL 64.827961 45.829467 \nL 79.512171 57.897662 \nL 94.196382 64.442008 \nL 108.880592 86.198055 \nL 123.564803 69.895732 \nL 138.249013 88.884049 \nL 152.933224 94.062207 \nL 167.617434 94.048865 \nL 182.301645 94.090674 \nL 196.985855 93.938562 \nL 211.670066 93.901238 \nL 226.354276 90.732806 \nL 241.038487 89.696818 \nL 255.722697 90.025813 \nL 270.406908 93.162052 \nL 285.091118 93.55596 \nL 299.775329 94.045378 \nL 314.459539 93.560524 \nL 329.14375 93.96883 \n\" style=\"fill:none;stroke:#bf00bf;stroke-dasharray:5.55,2.4;stroke-dashoffset:0;stroke-width:1.5;\"/>\n   </g>\n   <g id=\"patch_3\">\n    <path d=\"M 50.14375 128.195858 \nL 50.14375 10.021945 \n\" style=\"fill:none;stroke:#000000;stroke-linecap:square;stroke-linejoin:miter;stroke-width:0.8;\"/>\n   </g>\n   <g id=\"patch_4\">\n    <path d=\"M 329.14375 128.195858 \nL 329.14375 10.021945 \n\" style=\"fill:none;stroke:#000000;stroke-linecap:square;stroke-linejoin:miter;stroke-width:0.8;\"/>\n   </g>\n   <g id=\"patch_5\">\n    <path d=\"M 50.14375 128.195858 \nL 329.14375 128.195858 \n\" style=\"fill:none;stroke:#000000;stroke-linecap:square;stroke-linejoin:miter;stroke-width:0.8;\"/>\n   </g>\n   <g id=\"patch_6\">\n    <path d=\"M 50.14375 10.021945 \nL 329.14375 10.021945 \n\" style=\"fill:none;stroke:#000000;stroke-linecap:square;stroke-linejoin:miter;stroke-width:0.8;\"/>\n   </g>\n   <g id=\"legend_1\">\n    <g id=\"patch_7\">\n     <path d=\"M 224.285937 47.378195 \nL 322.14375 47.378195 \nQ 324.14375 47.378195 324.14375 45.378195 \nL 324.14375 17.021945 \nQ 324.14375 15.021945 322.14375 15.021945 \nL 224.285937 15.021945 \nQ 222.285937 15.021945 222.285937 17.021945 \nL 222.285937 45.378195 \nQ 222.285937 47.378195 224.285937 47.378195 \nz\n\" style=\"fill:#ffffff;opacity:0.8;stroke:#cccccc;stroke-linejoin:miter;\"/>\n    </g>\n    <g id=\"line2d_29\">\n     <path d=\"M 226.285937 23.120382 \nL 246.285937 23.120382 \n\" style=\"fill:none;stroke:#1f77b4;stroke-linecap:square;stroke-width:1.5;\"/>\n    </g>\n    <g id=\"line2d_30\"/>\n    <g id=\"text_16\">\n     <!-- discriminator -->\n     <defs>\n      <path d=\"M 45.40625 46.390625 \nL 45.40625 75.984375 \nL 54.390625 75.984375 \nL 54.390625 0 \nL 45.40625 0 \nL 45.40625 8.203125 \nQ 42.578125 3.328125 38.25 0.953125 \nQ 33.9375 -1.421875 27.875 -1.421875 \nQ 17.96875 -1.421875 11.734375 6.484375 \nQ 5.515625 14.40625 5.515625 27.296875 \nQ 5.515625 40.1875 11.734375 48.09375 \nQ 17.96875 56 27.875 56 \nQ 33.9375 56 38.25 53.625 \nQ 42.578125 51.265625 45.40625 46.390625 \nz\nM 14.796875 27.296875 \nQ 14.796875 17.390625 18.875 11.75 \nQ 22.953125 6.109375 30.078125 6.109375 \nQ 37.203125 6.109375 41.296875 11.75 \nQ 45.40625 17.390625 45.40625 27.296875 \nQ 45.40625 37.203125 41.296875 42.84375 \nQ 37.203125 48.484375 30.078125 48.484375 \nQ 22.953125 48.484375 18.875 42.84375 \nQ 14.796875 37.203125 14.796875 27.296875 \nz\n\" id=\"DejaVuSans-100\"/>\n      <path d=\"M 9.421875 54.6875 \nL 18.40625 54.6875 \nL 18.40625 0 \nL 9.421875 0 \nz\nM 9.421875 75.984375 \nL 18.40625 75.984375 \nL 18.40625 64.59375 \nL 9.421875 64.59375 \nz\n\" id=\"DejaVuSans-105\"/>\n      <path d=\"M 41.109375 46.296875 \nQ 39.59375 47.171875 37.8125 47.578125 \nQ 36.03125 48 33.890625 48 \nQ 26.265625 48 22.1875 43.046875 \nQ 18.109375 38.09375 18.109375 28.8125 \nL 18.109375 0 \nL 9.078125 0 \nL 9.078125 54.6875 \nL 18.109375 54.6875 \nL 18.109375 46.1875 \nQ 20.953125 51.171875 25.484375 53.578125 \nQ 30.03125 56 36.53125 56 \nQ 37.453125 56 38.578125 55.875 \nQ 39.703125 55.765625 41.0625 55.515625 \nz\n\" id=\"DejaVuSans-114\"/>\n      <path d=\"M 52 44.1875 \nQ 55.375 50.25 60.0625 53.125 \nQ 64.75 56 71.09375 56 \nQ 79.640625 56 84.28125 50.015625 \nQ 88.921875 44.046875 88.921875 33.015625 \nL 88.921875 0 \nL 79.890625 0 \nL 79.890625 32.71875 \nQ 79.890625 40.578125 77.09375 44.375 \nQ 74.3125 48.1875 68.609375 48.1875 \nQ 61.625 48.1875 57.5625 43.546875 \nQ 53.515625 38.921875 53.515625 30.90625 \nL 53.515625 0 \nL 44.484375 0 \nL 44.484375 32.71875 \nQ 44.484375 40.625 41.703125 44.40625 \nQ 38.921875 48.1875 33.109375 48.1875 \nQ 26.21875 48.1875 22.15625 43.53125 \nQ 18.109375 38.875 18.109375 30.90625 \nL 18.109375 0 \nL 9.078125 0 \nL 9.078125 54.6875 \nL 18.109375 54.6875 \nL 18.109375 46.1875 \nQ 21.1875 51.21875 25.484375 53.609375 \nQ 29.78125 56 35.6875 56 \nQ 41.65625 56 45.828125 52.96875 \nQ 50 49.953125 52 44.1875 \nz\n\" id=\"DejaVuSans-109\"/>\n      <path d=\"M 54.890625 33.015625 \nL 54.890625 0 \nL 45.90625 0 \nL 45.90625 32.71875 \nQ 45.90625 40.484375 42.875 44.328125 \nQ 39.84375 48.1875 33.796875 48.1875 \nQ 26.515625 48.1875 22.3125 43.546875 \nQ 18.109375 38.921875 18.109375 30.90625 \nL 18.109375 0 \nL 9.078125 0 \nL 9.078125 54.6875 \nL 18.109375 54.6875 \nL 18.109375 46.1875 \nQ 21.34375 51.125 25.703125 53.5625 \nQ 30.078125 56 35.796875 56 \nQ 45.21875 56 50.046875 50.171875 \nQ 54.890625 44.34375 54.890625 33.015625 \nz\n\" id=\"DejaVuSans-110\"/>\n      <path d=\"M 34.28125 27.484375 \nQ 23.390625 27.484375 19.1875 25 \nQ 14.984375 22.515625 14.984375 16.5 \nQ 14.984375 11.71875 18.140625 8.90625 \nQ 21.296875 6.109375 26.703125 6.109375 \nQ 34.1875 6.109375 38.703125 11.40625 \nQ 43.21875 16.703125 43.21875 25.484375 \nL 43.21875 27.484375 \nz\nM 52.203125 31.203125 \nL 52.203125 0 \nL 43.21875 0 \nL 43.21875 8.296875 \nQ 40.140625 3.328125 35.546875 0.953125 \nQ 30.953125 -1.421875 24.3125 -1.421875 \nQ 15.921875 -1.421875 10.953125 3.296875 \nQ 6 8.015625 6 15.921875 \nQ 6 25.140625 12.171875 29.828125 \nQ 18.359375 34.515625 30.609375 34.515625 \nL 43.21875 34.515625 \nL 43.21875 35.40625 \nQ 43.21875 41.609375 39.140625 45 \nQ 35.0625 48.390625 27.6875 48.390625 \nQ 23 48.390625 18.546875 47.265625 \nQ 14.109375 46.140625 10.015625 43.890625 \nL 10.015625 52.203125 \nQ 14.9375 54.109375 19.578125 55.046875 \nQ 24.21875 56 28.609375 56 \nQ 40.484375 56 46.34375 49.84375 \nQ 52.203125 43.703125 52.203125 31.203125 \nz\n\" id=\"DejaVuSans-97\"/>\n      <path d=\"M 18.3125 70.21875 \nL 18.3125 54.6875 \nL 36.8125 54.6875 \nL 36.8125 47.703125 \nL 18.3125 47.703125 \nL 18.3125 18.015625 \nQ 18.3125 11.328125 20.140625 9.421875 \nQ 21.96875 7.515625 27.59375 7.515625 \nL 36.8125 7.515625 \nL 36.8125 0 \nL 27.59375 0 \nQ 17.1875 0 13.234375 3.875 \nQ 9.28125 7.765625 9.28125 18.015625 \nL 9.28125 47.703125 \nL 2.6875 47.703125 \nL 2.6875 54.6875 \nL 9.28125 54.6875 \nL 9.28125 70.21875 \nz\n\" id=\"DejaVuSans-116\"/>\n     </defs>\n     <g transform=\"translate(254.285937 26.620382)scale(0.1 -0.1)\">\n      <use xlink:href=\"#DejaVuSans-100\"/>\n      <use x=\"63.476562\" xlink:href=\"#DejaVuSans-105\"/>\n      <use x=\"91.259766\" xlink:href=\"#DejaVuSans-115\"/>\n      <use x=\"143.359375\" xlink:href=\"#DejaVuSans-99\"/>\n      <use x=\"198.339844\" xlink:href=\"#DejaVuSans-114\"/>\n      <use x=\"239.453125\" xlink:href=\"#DejaVuSans-105\"/>\n      <use x=\"267.236328\" xlink:href=\"#DejaVuSans-109\"/>\n      <use x=\"364.648438\" xlink:href=\"#DejaVuSans-105\"/>\n      <use x=\"392.431641\" xlink:href=\"#DejaVuSans-110\"/>\n      <use x=\"455.810547\" xlink:href=\"#DejaVuSans-97\"/>\n      <use x=\"517.089844\" xlink:href=\"#DejaVuSans-116\"/>\n      <use x=\"556.298828\" xlink:href=\"#DejaVuSans-111\"/>\n      <use x=\"617.480469\" xlink:href=\"#DejaVuSans-114\"/>\n     </g>\n    </g>\n    <g id=\"line2d_31\">\n     <path d=\"M 226.285937 37.798507 \nL 246.285937 37.798507 \n\" style=\"fill:none;stroke:#bf00bf;stroke-dasharray:5.55,2.4;stroke-dashoffset:0;stroke-width:1.5;\"/>\n    </g>\n    <g id=\"line2d_32\"/>\n    <g id=\"text_17\">\n     <!-- generator -->\n     <defs>\n      <path d=\"M 45.40625 27.984375 \nQ 45.40625 37.75 41.375 43.109375 \nQ 37.359375 48.484375 30.078125 48.484375 \nQ 22.859375 48.484375 18.828125 43.109375 \nQ 14.796875 37.75 14.796875 27.984375 \nQ 14.796875 18.265625 18.828125 12.890625 \nQ 22.859375 7.515625 30.078125 7.515625 \nQ 37.359375 7.515625 41.375 12.890625 \nQ 45.40625 18.265625 45.40625 27.984375 \nz\nM 54.390625 6.78125 \nQ 54.390625 -7.171875 48.1875 -13.984375 \nQ 42 -20.796875 29.203125 -20.796875 \nQ 24.46875 -20.796875 20.265625 -20.09375 \nQ 16.0625 -19.390625 12.109375 -17.921875 \nL 12.109375 -9.1875 \nQ 16.0625 -11.328125 19.921875 -12.34375 \nQ 23.78125 -13.375 27.78125 -13.375 \nQ 36.625 -13.375 41.015625 -8.765625 \nQ 45.40625 -4.15625 45.40625 5.171875 \nL 45.40625 9.625 \nQ 42.625 4.78125 38.28125 2.390625 \nQ 33.9375 0 27.875 0 \nQ 17.828125 0 11.671875 7.65625 \nQ 5.515625 15.328125 5.515625 27.984375 \nQ 5.515625 40.671875 11.671875 48.328125 \nQ 17.828125 56 27.875 56 \nQ 33.9375 56 38.28125 53.609375 \nQ 42.625 51.21875 45.40625 46.390625 \nL 45.40625 54.6875 \nL 54.390625 54.6875 \nz\n\" id=\"DejaVuSans-103\"/>\n     </defs>\n     <g transform=\"translate(254.285937 41.298507)scale(0.1 -0.1)\">\n      <use xlink:href=\"#DejaVuSans-103\"/>\n      <use x=\"63.476562\" xlink:href=\"#DejaVuSans-101\"/>\n      <use x=\"125\" xlink:href=\"#DejaVuSans-110\"/>\n      <use x=\"188.378906\" xlink:href=\"#DejaVuSans-101\"/>\n      <use x=\"249.902344\" xlink:href=\"#DejaVuSans-114\"/>\n      <use x=\"291.015625\" xlink:href=\"#DejaVuSans-97\"/>\n      <use x=\"352.294922\" xlink:href=\"#DejaVuSans-116\"/>\n      <use x=\"391.503906\" xlink:href=\"#DejaVuSans-111\"/>\n      <use x=\"452.685547\" xlink:href=\"#DejaVuSans-114\"/>\n     </g>\n    </g>\n   </g>\n  </g>\n  <g id=\"axes_2\">\n   <g id=\"patch_8\">\n    <path d=\"M 50.14375 281.821945 \nL 329.14375 281.821945 \nL 329.14375 163.648032 \nL 50.14375 163.648032 \nz\n\" style=\"fill:#ffffff;\"/>\n   </g>\n   <g id=\"PathCollection_1\">\n    <defs>\n     <path d=\"M 0 3 \nC 0.795609 3 1.55874 2.683901 2.12132 2.12132 \nC 2.683901 1.55874 3 0.795609 3 0 \nC 3 -0.795609 2.683901 -1.55874 2.12132 -2.12132 \nC 1.55874 -2.683901 0.795609 -3 0 -3 \nC -0.795609 -3 -1.55874 -2.683901 -2.12132 -2.12132 \nC -2.683901 -1.55874 -3 -0.795609 -3 0 \nC -3 0.795609 -2.683901 1.55874 -2.12132 2.12132 \nC -1.55874 2.683901 -0.795609 3 0 3 \nz\n\" id=\"mcb30042aa6\" style=\"stroke:#1f77b4;\"/>\n    </defs>\n    <g clip-path=\"url(#p8d8402ebba)\">\n     <use style=\"fill:#1f77b4;stroke:#1f77b4;\" x=\"201.735531\" xlink:href=\"#mcb30042aa6\" y=\"217.157801\"/>\n     <use style=\"fill:#1f77b4;stroke:#1f77b4;\" x=\"252.401709\" xlink:href=\"#mcb30042aa6\" y=\"202.588628\"/>\n     <use style=\"fill:#1f77b4;stroke:#1f77b4;\" x=\"230.806962\" xlink:href=\"#mcb30042aa6\" y=\"217.918439\"/>\n     <use style=\"fill:#1f77b4;stroke:#1f77b4;\" x=\"165.650499\" xlink:href=\"#mcb30042aa6\" y=\"241.619229\"/>\n     <use style=\"fill:#1f77b4;stroke:#1f77b4;\" x=\"163.252021\" xlink:href=\"#mcb30042aa6\" y=\"240.208079\"/>\n     <use style=\"fill:#1f77b4;stroke:#1f77b4;\" x=\"203.693816\" xlink:href=\"#mcb30042aa6\" y=\"212.710293\"/>\n     <use style=\"fill:#1f77b4;stroke:#1f77b4;\" x=\"195.694704\" xlink:href=\"#mcb30042aa6\" y=\"224.395433\"/>\n     <use style=\"fill:#1f77b4;stroke:#1f77b4;\" x=\"232.481682\" xlink:href=\"#mcb30042aa6\" y=\"213.049203\"/>\n     <use style=\"fill:#1f77b4;stroke:#1f77b4;\" x=\"169.066493\" xlink:href=\"#mcb30042aa6\" y=\"247.734516\"/>\n     <use style=\"fill:#1f77b4;stroke:#1f77b4;\" x=\"109.739882\" xlink:href=\"#mcb30042aa6\" y=\"263.546357\"/>\n     <use style=\"fill:#1f77b4;stroke:#1f77b4;\" x=\"168.075141\" xlink:href=\"#mcb30042aa6\" y=\"242.126389\"/>\n     <use style=\"fill:#1f77b4;stroke:#1f77b4;\" x=\"147.706801\" xlink:href=\"#mcb30042aa6\" y=\"251.105882\"/>\n     <use style=\"fill:#1f77b4;stroke:#1f77b4;\" x=\"208.205217\" xlink:href=\"#mcb30042aa6\" y=\"229.384681\"/>\n     <use style=\"fill:#1f77b4;stroke:#1f77b4;\" x=\"212.43925\" xlink:href=\"#mcb30042aa6\" y=\"222.186729\"/>\n     <use style=\"fill:#1f77b4;stroke:#1f77b4;\" x=\"245.325355\" xlink:href=\"#mcb30042aa6\" y=\"212.452057\"/>\n     <use style=\"fill:#1f77b4;stroke:#1f77b4;\" x=\"232.102252\" xlink:href=\"#mcb30042aa6\" y=\"221.43224\"/>\n     <use style=\"fill:#1f77b4;stroke:#1f77b4;\" x=\"146.40614\" xlink:href=\"#mcb30042aa6\" y=\"254.206925\"/>\n     <use style=\"fill:#1f77b4;stroke:#1f77b4;\" x=\"114.385814\" xlink:href=\"#mcb30042aa6\" y=\"266.515568\"/>\n     <use style=\"fill:#1f77b4;stroke:#1f77b4;\" x=\"183.47357\" xlink:href=\"#mcb30042aa6\" y=\"231.654068\"/>\n     <use style=\"fill:#1f77b4;stroke:#1f77b4;\" x=\"126.669727\" xlink:href=\"#mcb30042aa6\" y=\"262.237277\"/>\n     <use style=\"fill:#1f77b4;stroke:#1f77b4;\" x=\"170.43847\" xlink:href=\"#mcb30042aa6\" y=\"237.462049\"/>\n     <use style=\"fill:#1f77b4;stroke:#1f77b4;\" x=\"185.721721\" xlink:href=\"#mcb30042aa6\" y=\"226.872583\"/>\n     <use style=\"fill:#1f77b4;stroke:#1f77b4;\" x=\"210.893191\" xlink:href=\"#mcb30042aa6\" y=\"219.071149\"/>\n     <use style=\"fill:#1f77b4;stroke:#1f77b4;\" x=\"218.116248\" xlink:href=\"#mcb30042aa6\" y=\"216.99562\"/>\n     <use style=\"fill:#1f77b4;stroke:#1f77b4;\" x=\"254.070474\" xlink:href=\"#mcb30042aa6\" y=\"197.546086\"/>\n     <use style=\"fill:#1f77b4;stroke:#1f77b4;\" x=\"150.756913\" xlink:href=\"#mcb30042aa6\" y=\"253.742306\"/>\n     <use style=\"fill:#1f77b4;stroke:#1f77b4;\" x=\"174.630977\" xlink:href=\"#mcb30042aa6\" y=\"238.404955\"/>\n     <use style=\"fill:#1f77b4;stroke:#1f77b4;\" x=\"201.727906\" xlink:href=\"#mcb30042aa6\" y=\"217.725404\"/>\n     <use style=\"fill:#1f77b4;stroke:#1f77b4;\" x=\"185.353335\" xlink:href=\"#mcb30042aa6\" y=\"236.919085\"/>\n     <use style=\"fill:#1f77b4;stroke:#1f77b4;\" x=\"243.530913\" xlink:href=\"#mcb30042aa6\" y=\"212.079244\"/>\n     <use style=\"fill:#1f77b4;stroke:#1f77b4;\" x=\"156.761901\" xlink:href=\"#mcb30042aa6\" y=\"234.376241\"/>\n     <use style=\"fill:#1f77b4;stroke:#1f77b4;\" x=\"230.858246\" xlink:href=\"#mcb30042aa6\" y=\"204.315604\"/>\n     <use style=\"fill:#1f77b4;stroke:#1f77b4;\" x=\"161.852153\" xlink:href=\"#mcb30042aa6\" y=\"245.105185\"/>\n     <use style=\"fill:#1f77b4;stroke:#1f77b4;\" x=\"214.076427\" xlink:href=\"#mcb30042aa6\" y=\"217.69345\"/>\n     <use style=\"fill:#1f77b4;stroke:#1f77b4;\" x=\"189.92749\" xlink:href=\"#mcb30042aa6\" y=\"229.671681\"/>\n     <use style=\"fill:#1f77b4;stroke:#1f77b4;\" x=\"210.49034\" xlink:href=\"#mcb30042aa6\" y=\"232.547347\"/>\n     <use style=\"fill:#1f77b4;stroke:#1f77b4;\" x=\"166.47548\" xlink:href=\"#mcb30042aa6\" y=\"233.244141\"/>\n     <use style=\"fill:#1f77b4;stroke:#1f77b4;\" x=\"316.461932\" xlink:href=\"#mcb30042aa6\" y=\"176.374659\"/>\n     <use style=\"fill:#1f77b4;stroke:#1f77b4;\" x=\"266.065823\" xlink:href=\"#mcb30042aa6\" y=\"188.25669\"/>\n     <use style=\"fill:#1f77b4;stroke:#1f77b4;\" x=\"164.044983\" xlink:href=\"#mcb30042aa6\" y=\"242.204068\"/>\n     <use style=\"fill:#1f77b4;stroke:#1f77b4;\" x=\"151.146168\" xlink:href=\"#mcb30042aa6\" y=\"248.456953\"/>\n     <use style=\"fill:#1f77b4;stroke:#1f77b4;\" x=\"162.951783\" xlink:href=\"#mcb30042aa6\" y=\"243.423975\"/>\n     <use style=\"fill:#1f77b4;stroke:#1f77b4;\" x=\"107.936727\" xlink:href=\"#mcb30042aa6\" y=\"265.09516\"/>\n     <use style=\"fill:#1f77b4;stroke:#1f77b4;\" x=\"237.437654\" xlink:href=\"#mcb30042aa6\" y=\"207.219315\"/>\n     <use style=\"fill:#1f77b4;stroke:#1f77b4;\" x=\"199.629731\" xlink:href=\"#mcb30042aa6\" y=\"217.103578\"/>\n     <use style=\"fill:#1f77b4;stroke:#1f77b4;\" x=\"179.315069\" xlink:href=\"#mcb30042aa6\" y=\"228.806519\"/>\n     <use style=\"fill:#1f77b4;stroke:#1f77b4;\" x=\"144.364789\" xlink:href=\"#mcb30042aa6\" y=\"249.478729\"/>\n     <use style=\"fill:#1f77b4;stroke:#1f77b4;\" x=\"138.091971\" xlink:href=\"#mcb30042aa6\" y=\"242.5864\"/>\n     <use style=\"fill:#1f77b4;stroke:#1f77b4;\" x=\"208.929532\" xlink:href=\"#mcb30042aa6\" y=\"210.762175\"/>\n     <use style=\"fill:#1f77b4;stroke:#1f77b4;\" x=\"184.693924\" xlink:href=\"#mcb30042aa6\" y=\"227.021715\"/>\n     <use style=\"fill:#1f77b4;stroke:#1f77b4;\" x=\"208.797112\" xlink:href=\"#mcb30042aa6\" y=\"221.043104\"/>\n     <use style=\"fill:#1f77b4;stroke:#1f77b4;\" x=\"217.240042\" xlink:href=\"#mcb30042aa6\" y=\"211.935678\"/>\n     <use style=\"fill:#1f77b4;stroke:#1f77b4;\" x=\"139.343376\" xlink:href=\"#mcb30042aa6\" y=\"255.558327\"/>\n     <use style=\"fill:#1f77b4;stroke:#1f77b4;\" x=\"192.060742\" xlink:href=\"#mcb30042aa6\" y=\"217.720515\"/>\n     <use style=\"fill:#1f77b4;stroke:#1f77b4;\" x=\"177.643413\" xlink:href=\"#mcb30042aa6\" y=\"232.415701\"/>\n     <use style=\"fill:#1f77b4;stroke:#1f77b4;\" x=\"173.944065\" xlink:href=\"#mcb30042aa6\" y=\"229.408237\"/>\n     <use style=\"fill:#1f77b4;stroke:#1f77b4;\" x=\"219.896373\" xlink:href=\"#mcb30042aa6\" y=\"210.361859\"/>\n     <use style=\"fill:#1f77b4;stroke:#1f77b4;\" x=\"209.778778\" xlink:href=\"#mcb30042aa6\" y=\"209.875413\"/>\n     <use style=\"fill:#1f77b4;stroke:#1f77b4;\" x=\"213.735247\" xlink:href=\"#mcb30042aa6\" y=\"212.826854\"/>\n     <use style=\"fill:#1f77b4;stroke:#1f77b4;\" x=\"213.898177\" xlink:href=\"#mcb30042aa6\" y=\"211.214424\"/>\n     <use style=\"fill:#1f77b4;stroke:#1f77b4;\" x=\"166.879857\" xlink:href=\"#mcb30042aa6\" y=\"240.962063\"/>\n     <use style=\"fill:#1f77b4;stroke:#1f77b4;\" x=\"232.155681\" xlink:href=\"#mcb30042aa6\" y=\"201.888664\"/>\n     <use style=\"fill:#1f77b4;stroke:#1f77b4;\" x=\"148.603213\" xlink:href=\"#mcb30042aa6\" y=\"241.747667\"/>\n     <use style=\"fill:#1f77b4;stroke:#1f77b4;\" x=\"179.886408\" xlink:href=\"#mcb30042aa6\" y=\"229.517447\"/>\n     <use style=\"fill:#1f77b4;stroke:#1f77b4;\" x=\"165.103018\" xlink:href=\"#mcb30042aa6\" y=\"237.265958\"/>\n     <use style=\"fill:#1f77b4;stroke:#1f77b4;\" x=\"197.139283\" xlink:href=\"#mcb30042aa6\" y=\"229.834131\"/>\n     <use style=\"fill:#1f77b4;stroke:#1f77b4;\" x=\"216.340365\" xlink:href=\"#mcb30042aa6\" y=\"207.79265\"/>\n     <use style=\"fill:#1f77b4;stroke:#1f77b4;\" x=\"206.921087\" xlink:href=\"#mcb30042aa6\" y=\"207.025903\"/>\n     <use style=\"fill:#1f77b4;stroke:#1f77b4;\" x=\"191.675857\" xlink:href=\"#mcb30042aa6\" y=\"232.118318\"/>\n     <use style=\"fill:#1f77b4;stroke:#1f77b4;\" x=\"180.394117\" xlink:href=\"#mcb30042aa6\" y=\"243.945252\"/>\n     <use style=\"fill:#1f77b4;stroke:#1f77b4;\" x=\"127.104496\" xlink:href=\"#mcb30042aa6\" y=\"243.265296\"/>\n     <use style=\"fill:#1f77b4;stroke:#1f77b4;\" x=\"214.982592\" xlink:href=\"#mcb30042aa6\" y=\"204.501526\"/>\n     <use style=\"fill:#1f77b4;stroke:#1f77b4;\" x=\"197.867102\" xlink:href=\"#mcb30042aa6\" y=\"220.096797\"/>\n     <use style=\"fill:#1f77b4;stroke:#1f77b4;\" x=\"145.348563\" xlink:href=\"#mcb30042aa6\" y=\"249.739503\"/>\n     <use style=\"fill:#1f77b4;stroke:#1f77b4;\" x=\"147.547819\" xlink:href=\"#mcb30042aa6\" y=\"244.203802\"/>\n     <use style=\"fill:#1f77b4;stroke:#1f77b4;\" x=\"224.564845\" xlink:href=\"#mcb30042aa6\" y=\"208.979556\"/>\n     <use style=\"fill:#1f77b4;stroke:#1f77b4;\" x=\"103.414632\" xlink:href=\"#mcb30042aa6\" y=\"266.329932\"/>\n     <use style=\"fill:#1f77b4;stroke:#1f77b4;\" x=\"207.226263\" xlink:href=\"#mcb30042aa6\" y=\"225.455952\"/>\n     <use style=\"fill:#1f77b4;stroke:#1f77b4;\" x=\"234.556255\" xlink:href=\"#mcb30042aa6\" y=\"219.851528\"/>\n     <use style=\"fill:#1f77b4;stroke:#1f77b4;\" x=\"165.612435\" xlink:href=\"#mcb30042aa6\" y=\"246.427651\"/>\n     <use style=\"fill:#1f77b4;stroke:#1f77b4;\" x=\"238.346595\" xlink:href=\"#mcb30042aa6\" y=\"211.456774\"/>\n     <use style=\"fill:#1f77b4;stroke:#1f77b4;\" x=\"124.651456\" xlink:href=\"#mcb30042aa6\" y=\"252.051829\"/>\n     <use style=\"fill:#1f77b4;stroke:#1f77b4;\" x=\"161.344373\" xlink:href=\"#mcb30042aa6\" y=\"236.780861\"/>\n     <use style=\"fill:#1f77b4;stroke:#1f77b4;\" x=\"202.739385\" xlink:href=\"#mcb30042aa6\" y=\"218.605925\"/>\n     <use style=\"fill:#1f77b4;stroke:#1f77b4;\" x=\"209.035654\" xlink:href=\"#mcb30042aa6\" y=\"225.025061\"/>\n     <use style=\"fill:#1f77b4;stroke:#1f77b4;\" x=\"194.109623\" xlink:href=\"#mcb30042aa6\" y=\"226.28082\"/>\n     <use style=\"fill:#1f77b4;stroke:#1f77b4;\" x=\"217.921139\" xlink:href=\"#mcb30042aa6\" y=\"210.174046\"/>\n     <use style=\"fill:#1f77b4;stroke:#1f77b4;\" x=\"194.127484\" xlink:href=\"#mcb30042aa6\" y=\"226.180835\"/>\n     <use style=\"fill:#1f77b4;stroke:#1f77b4;\" x=\"215.699397\" xlink:href=\"#mcb30042aa6\" y=\"205.069951\"/>\n     <use style=\"fill:#1f77b4;stroke:#1f77b4;\" x=\"182.622514\" xlink:href=\"#mcb30042aa6\" y=\"235.058517\"/>\n     <use style=\"fill:#1f77b4;stroke:#1f77b4;\" x=\"112.203981\" xlink:href=\"#mcb30042aa6\" y=\"259.621701\"/>\n     <use style=\"fill:#1f77b4;stroke:#1f77b4;\" x=\"176.400707\" xlink:href=\"#mcb30042aa6\" y=\"236.082718\"/>\n     <use style=\"fill:#1f77b4;stroke:#1f77b4;\" x=\"163.066873\" xlink:href=\"#mcb30042aa6\" y=\"244.227238\"/>\n     <use style=\"fill:#1f77b4;stroke:#1f77b4;\" x=\"201.731536\" xlink:href=\"#mcb30042aa6\" y=\"224.129544\"/>\n     <use style=\"fill:#1f77b4;stroke:#1f77b4;\" x=\"251.828454\" xlink:href=\"#mcb30042aa6\" y=\"187.79652\"/>\n     <use style=\"fill:#1f77b4;stroke:#1f77b4;\" x=\"249.986136\" xlink:href=\"#mcb30042aa6\" y=\"196.762687\"/>\n     <use style=\"fill:#1f77b4;stroke:#1f77b4;\" x=\"177.284717\" xlink:href=\"#mcb30042aa6\" y=\"234.622556\"/>\n     <use style=\"fill:#1f77b4;stroke:#1f77b4;\" x=\"303.764049\" xlink:href=\"#mcb30042aa6\" y=\"169.019573\"/>\n     <use style=\"fill:#1f77b4;stroke:#1f77b4;\" x=\"161.013746\" xlink:href=\"#mcb30042aa6\" y=\"253.79284\"/>\n     <use style=\"fill:#1f77b4;stroke:#1f77b4;\" x=\"228.088288\" xlink:href=\"#mcb30042aa6\" y=\"206.893619\"/>\n    </g>\n   </g>\n   <g id=\"PathCollection_2\">\n    <defs>\n     <path d=\"M 0 3 \nC 0.795609 3 1.55874 2.683901 2.12132 2.12132 \nC 2.683901 1.55874 3 0.795609 3 0 \nC 3 -0.795609 2.683901 -1.55874 2.12132 -2.12132 \nC 1.55874 -2.683901 0.795609 -3 0 -3 \nC -0.795609 -3 -1.55874 -2.683901 -2.12132 -2.12132 \nC -2.683901 -1.55874 -3 -0.795609 -3 0 \nC -3 0.795609 -2.683901 1.55874 -2.12132 2.12132 \nC -1.55874 2.683901 -0.795609 3 0 3 \nz\n\" id=\"md0a538cec8\" style=\"stroke:#ff7f0e;\"/>\n    </defs>\n    <g clip-path=\"url(#p8d8402ebba)\">\n     <use style=\"fill:#ff7f0e;stroke:#ff7f0e;\" x=\"145.91173\" xlink:href=\"#md0a538cec8\" y=\"242.320752\"/>\n     <use style=\"fill:#ff7f0e;stroke:#ff7f0e;\" x=\"177.226252\" xlink:href=\"#md0a538cec8\" y=\"222.542432\"/>\n     <use style=\"fill:#ff7f0e;stroke:#ff7f0e;\" x=\"115.683561\" xlink:href=\"#md0a538cec8\" y=\"255.633715\"/>\n     <use style=\"fill:#ff7f0e;stroke:#ff7f0e;\" x=\"145.850733\" xlink:href=\"#md0a538cec8\" y=\"230.023428\"/>\n     <use style=\"fill:#ff7f0e;stroke:#ff7f0e;\" x=\"203.504136\" xlink:href=\"#md0a538cec8\" y=\"223.112284\"/>\n     <use style=\"fill:#ff7f0e;stroke:#ff7f0e;\" x=\"123.528435\" xlink:href=\"#md0a538cec8\" y=\"246.477809\"/>\n     <use style=\"fill:#ff7f0e;stroke:#ff7f0e;\" x=\"239.733945\" xlink:href=\"#md0a538cec8\" y=\"207.159516\"/>\n     <use style=\"fill:#ff7f0e;stroke:#ff7f0e;\" x=\"90.135287\" xlink:href=\"#md0a538cec8\" y=\"276.450403\"/>\n     <use style=\"fill:#ff7f0e;stroke:#ff7f0e;\" x=\"178.264343\" xlink:href=\"#md0a538cec8\" y=\"221.803779\"/>\n     <use style=\"fill:#ff7f0e;stroke:#ff7f0e;\" x=\"176.584592\" xlink:href=\"#md0a538cec8\" y=\"224.39273\"/>\n     <use style=\"fill:#ff7f0e;stroke:#ff7f0e;\" x=\"159.470271\" xlink:href=\"#md0a538cec8\" y=\"236.253758\"/>\n     <use style=\"fill:#ff7f0e;stroke:#ff7f0e;\" x=\"223.775966\" xlink:href=\"#md0a538cec8\" y=\"199.916505\"/>\n     <use style=\"fill:#ff7f0e;stroke:#ff7f0e;\" x=\"154.87293\" xlink:href=\"#md0a538cec8\" y=\"265.302035\"/>\n     <use style=\"fill:#ff7f0e;stroke:#ff7f0e;\" x=\"187.301393\" xlink:href=\"#md0a538cec8\" y=\"221.655703\"/>\n     <use style=\"fill:#ff7f0e;stroke:#ff7f0e;\" x=\"146.817802\" xlink:href=\"#md0a538cec8\" y=\"255.09713\"/>\n     <use style=\"fill:#ff7f0e;stroke:#ff7f0e;\" x=\"121.672482\" xlink:href=\"#md0a538cec8\" y=\"252.085746\"/>\n     <use style=\"fill:#ff7f0e;stroke:#ff7f0e;\" x=\"226.25708\" xlink:href=\"#md0a538cec8\" y=\"215.450572\"/>\n     <use style=\"fill:#ff7f0e;stroke:#ff7f0e;\" x=\"142.1599\" xlink:href=\"#md0a538cec8\" y=\"253.948275\"/>\n     <use style=\"fill:#ff7f0e;stroke:#ff7f0e;\" x=\"196.651174\" xlink:href=\"#md0a538cec8\" y=\"223.14617\"/>\n     <use style=\"fill:#ff7f0e;stroke:#ff7f0e;\" x=\"219.25523\" xlink:href=\"#md0a538cec8\" y=\"201.492299\"/>\n     <use style=\"fill:#ff7f0e;stroke:#ff7f0e;\" x=\"185.824379\" xlink:href=\"#md0a538cec8\" y=\"222.884439\"/>\n     <use style=\"fill:#ff7f0e;stroke:#ff7f0e;\" x=\"152.051102\" xlink:href=\"#md0a538cec8\" y=\"227.888597\"/>\n     <use style=\"fill:#ff7f0e;stroke:#ff7f0e;\" x=\"153.268729\" xlink:href=\"#md0a538cec8\" y=\"236.723988\"/>\n     <use style=\"fill:#ff7f0e;stroke:#ff7f0e;\" x=\"157.898917\" xlink:href=\"#md0a538cec8\" y=\"230.516194\"/>\n     <use style=\"fill:#ff7f0e;stroke:#ff7f0e;\" x=\"213.187859\" xlink:href=\"#md0a538cec8\" y=\"211.76285\"/>\n     <use style=\"fill:#ff7f0e;stroke:#ff7f0e;\" x=\"159.867407\" xlink:href=\"#md0a538cec8\" y=\"239.437683\"/>\n     <use style=\"fill:#ff7f0e;stroke:#ff7f0e;\" x=\"166.621806\" xlink:href=\"#md0a538cec8\" y=\"237.704801\"/>\n     <use style=\"fill:#ff7f0e;stroke:#ff7f0e;\" x=\"140.036282\" xlink:href=\"#md0a538cec8\" y=\"255.687339\"/>\n     <use style=\"fill:#ff7f0e;stroke:#ff7f0e;\" x=\"164.287673\" xlink:href=\"#md0a538cec8\" y=\"234.697602\"/>\n     <use style=\"fill:#ff7f0e;stroke:#ff7f0e;\" x=\"164.494177\" xlink:href=\"#md0a538cec8\" y=\"238.344915\"/>\n     <use style=\"fill:#ff7f0e;stroke:#ff7f0e;\" x=\"160.953759\" xlink:href=\"#md0a538cec8\" y=\"246.353302\"/>\n     <use style=\"fill:#ff7f0e;stroke:#ff7f0e;\" x=\"164.17145\" xlink:href=\"#md0a538cec8\" y=\"229.085765\"/>\n     <use style=\"fill:#ff7f0e;stroke:#ff7f0e;\" x=\"143.513703\" xlink:href=\"#md0a538cec8\" y=\"264.179175\"/>\n     <use style=\"fill:#ff7f0e;stroke:#ff7f0e;\" x=\"118.039759\" xlink:href=\"#md0a538cec8\" y=\"256.821782\"/>\n     <use style=\"fill:#ff7f0e;stroke:#ff7f0e;\" x=\"102.043449\" xlink:href=\"#md0a538cec8\" y=\"264.851417\"/>\n     <use style=\"fill:#ff7f0e;stroke:#ff7f0e;\" x=\"196.261473\" xlink:href=\"#md0a538cec8\" y=\"216.390251\"/>\n     <use style=\"fill:#ff7f0e;stroke:#ff7f0e;\" x=\"216.822086\" xlink:href=\"#md0a538cec8\" y=\"201.810233\"/>\n     <use style=\"fill:#ff7f0e;stroke:#ff7f0e;\" x=\"164.355077\" xlink:href=\"#md0a538cec8\" y=\"236.48571\"/>\n     <use style=\"fill:#ff7f0e;stroke:#ff7f0e;\" x=\"194.502393\" xlink:href=\"#md0a538cec8\" y=\"205.861696\"/>\n     <use style=\"fill:#ff7f0e;stroke:#ff7f0e;\" x=\"211.290373\" xlink:href=\"#md0a538cec8\" y=\"210.511192\"/>\n     <use style=\"fill:#ff7f0e;stroke:#ff7f0e;\" x=\"190.146647\" xlink:href=\"#md0a538cec8\" y=\"222.423764\"/>\n     <use style=\"fill:#ff7f0e;stroke:#ff7f0e;\" x=\"130.428845\" xlink:href=\"#md0a538cec8\" y=\"248.140707\"/>\n     <use style=\"fill:#ff7f0e;stroke:#ff7f0e;\" x=\"115.125389\" xlink:href=\"#md0a538cec8\" y=\"258.278691\"/>\n     <use style=\"fill:#ff7f0e;stroke:#ff7f0e;\" x=\"120.970165\" xlink:href=\"#md0a538cec8\" y=\"244.890015\"/>\n     <use style=\"fill:#ff7f0e;stroke:#ff7f0e;\" x=\"177.374579\" xlink:href=\"#md0a538cec8\" y=\"240.648604\"/>\n     <use style=\"fill:#ff7f0e;stroke:#ff7f0e;\" x=\"148.203984\" xlink:href=\"#md0a538cec8\" y=\"247.549294\"/>\n     <use style=\"fill:#ff7f0e;stroke:#ff7f0e;\" x=\"192.241804\" xlink:href=\"#md0a538cec8\" y=\"226.376819\"/>\n     <use style=\"fill:#ff7f0e;stroke:#ff7f0e;\" x=\"156.724426\" xlink:href=\"#md0a538cec8\" y=\"237.075219\"/>\n     <use style=\"fill:#ff7f0e;stroke:#ff7f0e;\" x=\"173.558499\" xlink:href=\"#md0a538cec8\" y=\"231.626722\"/>\n     <use style=\"fill:#ff7f0e;stroke:#ff7f0e;\" x=\"160.294158\" xlink:href=\"#md0a538cec8\" y=\"241.806543\"/>\n     <use style=\"fill:#ff7f0e;stroke:#ff7f0e;\" x=\"198.085572\" xlink:href=\"#md0a538cec8\" y=\"220.89643\"/>\n     <use style=\"fill:#ff7f0e;stroke:#ff7f0e;\" x=\"179.340626\" xlink:href=\"#md0a538cec8\" y=\"236.611874\"/>\n     <use style=\"fill:#ff7f0e;stroke:#ff7f0e;\" x=\"136.377126\" xlink:href=\"#md0a538cec8\" y=\"253.005427\"/>\n     <use style=\"fill:#ff7f0e;stroke:#ff7f0e;\" x=\"173.623914\" xlink:href=\"#md0a538cec8\" y=\"230.661463\"/>\n     <use style=\"fill:#ff7f0e;stroke:#ff7f0e;\" x=\"199.441766\" xlink:href=\"#md0a538cec8\" y=\"215.405534\"/>\n     <use style=\"fill:#ff7f0e;stroke:#ff7f0e;\" x=\"137.969584\" xlink:href=\"#md0a538cec8\" y=\"246.228179\"/>\n     <use style=\"fill:#ff7f0e;stroke:#ff7f0e;\" x=\"174.415916\" xlink:href=\"#md0a538cec8\" y=\"215.19111\"/>\n     <use style=\"fill:#ff7f0e;stroke:#ff7f0e;\" x=\"134.125105\" xlink:href=\"#md0a538cec8\" y=\"259.510158\"/>\n     <use style=\"fill:#ff7f0e;stroke:#ff7f0e;\" x=\"162.977349\" xlink:href=\"#md0a538cec8\" y=\"234.72773\"/>\n     <use style=\"fill:#ff7f0e;stroke:#ff7f0e;\" x=\"112.370541\" xlink:href=\"#md0a538cec8\" y=\"260.88609\"/>\n     <use style=\"fill:#ff7f0e;stroke:#ff7f0e;\" x=\"126.896255\" xlink:href=\"#md0a538cec8\" y=\"249.704581\"/>\n     <use style=\"fill:#ff7f0e;stroke:#ff7f0e;\" x=\"120.813381\" xlink:href=\"#md0a538cec8\" y=\"246.774828\"/>\n     <use style=\"fill:#ff7f0e;stroke:#ff7f0e;\" x=\"223.851794\" xlink:href=\"#md0a538cec8\" y=\"219.045928\"/>\n     <use style=\"fill:#ff7f0e;stroke:#ff7f0e;\" x=\"120.9204\" xlink:href=\"#md0a538cec8\" y=\"254.996367\"/>\n     <use style=\"fill:#ff7f0e;stroke:#ff7f0e;\" x=\"170.421985\" xlink:href=\"#md0a538cec8\" y=\"236.988808\"/>\n     <use style=\"fill:#ff7f0e;stroke:#ff7f0e;\" x=\"141.319124\" xlink:href=\"#md0a538cec8\" y=\"253.182848\"/>\n     <use style=\"fill:#ff7f0e;stroke:#ff7f0e;\" x=\"149.891531\" xlink:href=\"#md0a538cec8\" y=\"238.4221\"/>\n     <use style=\"fill:#ff7f0e;stroke:#ff7f0e;\" x=\"134.92904\" xlink:href=\"#md0a538cec8\" y=\"250.912517\"/>\n     <use style=\"fill:#ff7f0e;stroke:#ff7f0e;\" x=\"117.646863\" xlink:href=\"#md0a538cec8\" y=\"233.453291\"/>\n     <use style=\"fill:#ff7f0e;stroke:#ff7f0e;\" x=\"206.062892\" xlink:href=\"#md0a538cec8\" y=\"215.865507\"/>\n     <use style=\"fill:#ff7f0e;stroke:#ff7f0e;\" x=\"159.971516\" xlink:href=\"#md0a538cec8\" y=\"231.297333\"/>\n     <use style=\"fill:#ff7f0e;stroke:#ff7f0e;\" x=\"162.060314\" xlink:href=\"#md0a538cec8\" y=\"226.936916\"/>\n     <use style=\"fill:#ff7f0e;stroke:#ff7f0e;\" x=\"175.375638\" xlink:href=\"#md0a538cec8\" y=\"225.029955\"/>\n     <use style=\"fill:#ff7f0e;stroke:#ff7f0e;\" x=\"136.114037\" xlink:href=\"#md0a538cec8\" y=\"246.630044\"/>\n     <use style=\"fill:#ff7f0e;stroke:#ff7f0e;\" x=\"167.326257\" xlink:href=\"#md0a538cec8\" y=\"232.227181\"/>\n     <use style=\"fill:#ff7f0e;stroke:#ff7f0e;\" x=\"150.242647\" xlink:href=\"#md0a538cec8\" y=\"245.08539\"/>\n     <use style=\"fill:#ff7f0e;stroke:#ff7f0e;\" x=\"144.454834\" xlink:href=\"#md0a538cec8\" y=\"235.899195\"/>\n     <use style=\"fill:#ff7f0e;stroke:#ff7f0e;\" x=\"202.366833\" xlink:href=\"#md0a538cec8\" y=\"220.053024\"/>\n     <use style=\"fill:#ff7f0e;stroke:#ff7f0e;\" x=\"184.709911\" xlink:href=\"#md0a538cec8\" y=\"225.517169\"/>\n     <use style=\"fill:#ff7f0e;stroke:#ff7f0e;\" x=\"196.656564\" xlink:href=\"#md0a538cec8\" y=\"222.956641\"/>\n     <use style=\"fill:#ff7f0e;stroke:#ff7f0e;\" x=\"163.736475\" xlink:href=\"#md0a538cec8\" y=\"245.759104\"/>\n     <use style=\"fill:#ff7f0e;stroke:#ff7f0e;\" x=\"198.652767\" xlink:href=\"#md0a538cec8\" y=\"222.610716\"/>\n     <use style=\"fill:#ff7f0e;stroke:#ff7f0e;\" x=\"142.918605\" xlink:href=\"#md0a538cec8\" y=\"246.170161\"/>\n     <use style=\"fill:#ff7f0e;stroke:#ff7f0e;\" x=\"178.151295\" xlink:href=\"#md0a538cec8\" y=\"217.443975\"/>\n     <use style=\"fill:#ff7f0e;stroke:#ff7f0e;\" x=\"136.229677\" xlink:href=\"#md0a538cec8\" y=\"253.832001\"/>\n     <use style=\"fill:#ff7f0e;stroke:#ff7f0e;\" x=\"176.958691\" xlink:href=\"#md0a538cec8\" y=\"234.41609\"/>\n     <use style=\"fill:#ff7f0e;stroke:#ff7f0e;\" x=\"191.737899\" xlink:href=\"#md0a538cec8\" y=\"228.767306\"/>\n     <use style=\"fill:#ff7f0e;stroke:#ff7f0e;\" x=\"131.944967\" xlink:href=\"#md0a538cec8\" y=\"239.723326\"/>\n     <use style=\"fill:#ff7f0e;stroke:#ff7f0e;\" x=\"236.151197\" xlink:href=\"#md0a538cec8\" y=\"206.219177\"/>\n     <use style=\"fill:#ff7f0e;stroke:#ff7f0e;\" x=\"184.899751\" xlink:href=\"#md0a538cec8\" y=\"236.811879\"/>\n     <use style=\"fill:#ff7f0e;stroke:#ff7f0e;\" x=\"173.392037\" xlink:href=\"#md0a538cec8\" y=\"240.029016\"/>\n     <use style=\"fill:#ff7f0e;stroke:#ff7f0e;\" x=\"152.813014\" xlink:href=\"#md0a538cec8\" y=\"247.875223\"/>\n     <use style=\"fill:#ff7f0e;stroke:#ff7f0e;\" x=\"247.682185\" xlink:href=\"#md0a538cec8\" y=\"197.72015\"/>\n     <use style=\"fill:#ff7f0e;stroke:#ff7f0e;\" x=\"194.667508\" xlink:href=\"#md0a538cec8\" y=\"213.423781\"/>\n     <use style=\"fill:#ff7f0e;stroke:#ff7f0e;\" x=\"151.166188\" xlink:href=\"#md0a538cec8\" y=\"234.227011\"/>\n     <use style=\"fill:#ff7f0e;stroke:#ff7f0e;\" x=\"99.153895\" xlink:href=\"#md0a538cec8\" y=\"258.139675\"/>\n     <use style=\"fill:#ff7f0e;stroke:#ff7f0e;\" x=\"144.220294\" xlink:href=\"#md0a538cec8\" y=\"240.020805\"/>\n     <use style=\"fill:#ff7f0e;stroke:#ff7f0e;\" x=\"132.486296\" xlink:href=\"#md0a538cec8\" y=\"243.518564\"/>\n     <use style=\"fill:#ff7f0e;stroke:#ff7f0e;\" x=\"62.825568\" xlink:href=\"#md0a538cec8\" y=\"273.629083\"/>\n     <use style=\"fill:#ff7f0e;stroke:#ff7f0e;\" x=\"166.690157\" xlink:href=\"#md0a538cec8\" y=\"243.651288\"/>\n    </g>\n   </g>\n   <g id=\"matplotlib.axis_3\">\n    <g id=\"xtick_9\">\n     <g id=\"line2d_33\">\n      <g>\n       <use style=\"stroke:#000000;stroke-width:0.8;\" x=\"54.647479\" xlink:href=\"#m524d35563f\" y=\"281.821945\"/>\n      </g>\n     </g>\n     <g id=\"text_18\">\n      <!-- −2 -->\n      <defs>\n       <path d=\"M 10.59375 35.5 \nL 73.1875 35.5 \nL 73.1875 27.203125 \nL 10.59375 27.203125 \nz\n\" id=\"DejaVuSans-8722\"/>\n      </defs>\n      <g transform=\"translate(47.276385 296.420382)scale(0.1 -0.1)\">\n       <use xlink:href=\"#DejaVuSans-8722\"/>\n       <use x=\"83.789062\" xlink:href=\"#DejaVuSans-50\"/>\n      </g>\n     </g>\n    </g>\n    <g id=\"xtick_10\">\n     <g id=\"line2d_34\">\n      <g>\n       <use style=\"stroke:#000000;stroke-width:0.8;\" x=\"96.700247\" xlink:href=\"#m524d35563f\" y=\"281.821945\"/>\n      </g>\n     </g>\n     <g id=\"text_19\">\n      <!-- −1 -->\n      <g transform=\"translate(89.329154 296.420382)scale(0.1 -0.1)\">\n       <use xlink:href=\"#DejaVuSans-8722\"/>\n       <use x=\"83.789062\" xlink:href=\"#DejaVuSans-49\"/>\n      </g>\n     </g>\n    </g>\n    <g id=\"xtick_11\">\n     <g id=\"line2d_35\">\n      <g>\n       <use style=\"stroke:#000000;stroke-width:0.8;\" x=\"138.753016\" xlink:href=\"#m524d35563f\" y=\"281.821945\"/>\n      </g>\n     </g>\n     <g id=\"text_20\">\n      <!-- 0 -->\n      <g transform=\"translate(135.571766 296.420382)scale(0.1 -0.1)\">\n       <use xlink:href=\"#DejaVuSans-48\"/>\n      </g>\n     </g>\n    </g>\n    <g id=\"xtick_12\">\n     <g id=\"line2d_36\">\n      <g>\n       <use style=\"stroke:#000000;stroke-width:0.8;\" x=\"180.805784\" xlink:href=\"#m524d35563f\" y=\"281.821945\"/>\n      </g>\n     </g>\n     <g id=\"text_21\">\n      <!-- 1 -->\n      <g transform=\"translate(177.624534 296.420382)scale(0.1 -0.1)\">\n       <use xlink:href=\"#DejaVuSans-49\"/>\n      </g>\n     </g>\n    </g>\n    <g id=\"xtick_13\">\n     <g id=\"line2d_37\">\n      <g>\n       <use style=\"stroke:#000000;stroke-width:0.8;\" x=\"222.858552\" xlink:href=\"#m524d35563f\" y=\"281.821945\"/>\n      </g>\n     </g>\n     <g id=\"text_22\">\n      <!-- 2 -->\n      <g transform=\"translate(219.677302 296.420382)scale(0.1 -0.1)\">\n       <use xlink:href=\"#DejaVuSans-50\"/>\n      </g>\n     </g>\n    </g>\n    <g id=\"xtick_14\">\n     <g id=\"line2d_38\">\n      <g>\n       <use style=\"stroke:#000000;stroke-width:0.8;\" x=\"264.911321\" xlink:href=\"#m524d35563f\" y=\"281.821945\"/>\n      </g>\n     </g>\n     <g id=\"text_23\">\n      <!-- 3 -->\n      <defs>\n       <path d=\"M 40.578125 39.3125 \nQ 47.65625 37.796875 51.625 33 \nQ 55.609375 28.21875 55.609375 21.1875 \nQ 55.609375 10.40625 48.1875 4.484375 \nQ 40.765625 -1.421875 27.09375 -1.421875 \nQ 22.515625 -1.421875 17.65625 -0.515625 \nQ 12.796875 0.390625 7.625 2.203125 \nL 7.625 11.71875 \nQ 11.71875 9.328125 16.59375 8.109375 \nQ 21.484375 6.890625 26.8125 6.890625 \nQ 36.078125 6.890625 40.9375 10.546875 \nQ 45.796875 14.203125 45.796875 21.1875 \nQ 45.796875 27.640625 41.28125 31.265625 \nQ 36.765625 34.90625 28.71875 34.90625 \nL 20.21875 34.90625 \nL 20.21875 43.015625 \nL 29.109375 43.015625 \nQ 36.375 43.015625 40.234375 45.921875 \nQ 44.09375 48.828125 44.09375 54.296875 \nQ 44.09375 59.90625 40.109375 62.90625 \nQ 36.140625 65.921875 28.71875 65.921875 \nQ 24.65625 65.921875 20.015625 65.03125 \nQ 15.375 64.15625 9.8125 62.3125 \nL 9.8125 71.09375 \nQ 15.4375 72.65625 20.34375 73.4375 \nQ 25.25 74.21875 29.59375 74.21875 \nQ 40.828125 74.21875 47.359375 69.109375 \nQ 53.90625 64.015625 53.90625 55.328125 \nQ 53.90625 49.265625 50.4375 45.09375 \nQ 46.96875 40.921875 40.578125 39.3125 \nz\n\" id=\"DejaVuSans-51\"/>\n      </defs>\n      <g transform=\"translate(261.730071 296.420382)scale(0.1 -0.1)\">\n       <use xlink:href=\"#DejaVuSans-51\"/>\n      </g>\n     </g>\n    </g>\n    <g id=\"xtick_15\">\n     <g id=\"line2d_39\">\n      <g>\n       <use style=\"stroke:#000000;stroke-width:0.8;\" x=\"306.964089\" xlink:href=\"#m524d35563f\" y=\"281.821945\"/>\n      </g>\n     </g>\n     <g id=\"text_24\">\n      <!-- 4 -->\n      <defs>\n       <path d=\"M 37.796875 64.3125 \nL 12.890625 25.390625 \nL 37.796875 25.390625 \nz\nM 35.203125 72.90625 \nL 47.609375 72.90625 \nL 47.609375 25.390625 \nL 58.015625 25.390625 \nL 58.015625 17.1875 \nL 47.609375 17.1875 \nL 47.609375 0 \nL 37.796875 0 \nL 37.796875 17.1875 \nL 4.890625 17.1875 \nL 4.890625 26.703125 \nz\n\" id=\"DejaVuSans-52\"/>\n      </defs>\n      <g transform=\"translate(303.782839 296.420382)scale(0.1 -0.1)\">\n       <use xlink:href=\"#DejaVuSans-52\"/>\n      </g>\n     </g>\n    </g>\n   </g>\n   <g id=\"matplotlib.axis_4\">\n    <g id=\"ytick_6\">\n     <g id=\"line2d_40\">\n      <g>\n       <use style=\"stroke:#000000;stroke-width:0.8;\" x=\"50.14375\" xlink:href=\"#m7bbd94f8a3\" y=\"276.320088\"/>\n      </g>\n     </g>\n     <g id=\"text_25\">\n      <!-- −2.5 -->\n      <g transform=\"translate(18.860938 280.119307)scale(0.1 -0.1)\">\n       <use xlink:href=\"#DejaVuSans-8722\"/>\n       <use x=\"83.789062\" xlink:href=\"#DejaVuSans-50\"/>\n       <use x=\"147.412109\" xlink:href=\"#DejaVuSans-46\"/>\n       <use x=\"179.199219\" xlink:href=\"#DejaVuSans-53\"/>\n      </g>\n     </g>\n    </g>\n    <g id=\"ytick_7\">\n     <g id=\"line2d_41\">\n      <g>\n       <use style=\"stroke:#000000;stroke-width:0.8;\" x=\"50.14375\" xlink:href=\"#m7bbd94f8a3\" y=\"251.776687\"/>\n      </g>\n     </g>\n     <g id=\"text_26\">\n      <!-- 0.0 -->\n      <g transform=\"translate(27.240625 255.575905)scale(0.1 -0.1)\">\n       <use xlink:href=\"#DejaVuSans-48\"/>\n       <use x=\"63.623047\" xlink:href=\"#DejaVuSans-46\"/>\n       <use x=\"95.410156\" xlink:href=\"#DejaVuSans-48\"/>\n      </g>\n     </g>\n    </g>\n    <g id=\"ytick_8\">\n     <g id=\"line2d_42\">\n      <g>\n       <use style=\"stroke:#000000;stroke-width:0.8;\" x=\"50.14375\" xlink:href=\"#m7bbd94f8a3\" y=\"227.233285\"/>\n      </g>\n     </g>\n     <g id=\"text_27\">\n      <!-- 2.5 -->\n      <g transform=\"translate(27.240625 231.032504)scale(0.1 -0.1)\">\n       <use xlink:href=\"#DejaVuSans-50\"/>\n       <use x=\"63.623047\" xlink:href=\"#DejaVuSans-46\"/>\n       <use x=\"95.410156\" xlink:href=\"#DejaVuSans-53\"/>\n      </g>\n     </g>\n    </g>\n    <g id=\"ytick_9\">\n     <g id=\"line2d_43\">\n      <g>\n       <use style=\"stroke:#000000;stroke-width:0.8;\" x=\"50.14375\" xlink:href=\"#m7bbd94f8a3\" y=\"202.689884\"/>\n      </g>\n     </g>\n     <g id=\"text_28\">\n      <!-- 5.0 -->\n      <g transform=\"translate(27.240625 206.489102)scale(0.1 -0.1)\">\n       <use xlink:href=\"#DejaVuSans-53\"/>\n       <use x=\"63.623047\" xlink:href=\"#DejaVuSans-46\"/>\n       <use x=\"95.410156\" xlink:href=\"#DejaVuSans-48\"/>\n      </g>\n     </g>\n    </g>\n    <g id=\"ytick_10\">\n     <g id=\"line2d_44\">\n      <g>\n       <use style=\"stroke:#000000;stroke-width:0.8;\" x=\"50.14375\" xlink:href=\"#m7bbd94f8a3\" y=\"178.146482\"/>\n      </g>\n     </g>\n     <g id=\"text_29\">\n      <!-- 7.5 -->\n      <g transform=\"translate(27.240625 181.945701)scale(0.1 -0.1)\">\n       <use xlink:href=\"#DejaVuSans-55\"/>\n       <use x=\"63.623047\" xlink:href=\"#DejaVuSans-46\"/>\n       <use x=\"95.410156\" xlink:href=\"#DejaVuSans-53\"/>\n      </g>\n     </g>\n    </g>\n   </g>\n   <g id=\"patch_9\">\n    <path d=\"M 50.14375 281.821945 \nL 50.14375 163.648032 \n\" style=\"fill:none;stroke:#000000;stroke-linecap:square;stroke-linejoin:miter;stroke-width:0.8;\"/>\n   </g>\n   <g id=\"patch_10\">\n    <path d=\"M 329.14375 281.821945 \nL 329.14375 163.648032 \n\" style=\"fill:none;stroke:#000000;stroke-linecap:square;stroke-linejoin:miter;stroke-width:0.8;\"/>\n   </g>\n   <g id=\"patch_11\">\n    <path d=\"M 50.14375 281.821945 \nL 329.14375 281.821945 \n\" style=\"fill:none;stroke:#000000;stroke-linecap:square;stroke-linejoin:miter;stroke-width:0.8;\"/>\n   </g>\n   <g id=\"patch_12\">\n    <path d=\"M 50.14375 163.648032 \nL 329.14375 163.648032 \n\" style=\"fill:none;stroke:#000000;stroke-linecap:square;stroke-linejoin:miter;stroke-width:0.8;\"/>\n   </g>\n   <g id=\"legend_2\">\n    <g id=\"patch_13\">\n     <path d=\"M 57.14375 201.004282 \nL 140.796875 201.004282 \nQ 142.796875 201.004282 142.796875 199.004282 \nL 142.796875 170.648032 \nQ 142.796875 168.648032 140.796875 168.648032 \nL 57.14375 168.648032 \nQ 55.14375 168.648032 55.14375 170.648032 \nL 55.14375 199.004282 \nQ 55.14375 201.004282 57.14375 201.004282 \nz\n\" style=\"fill:#ffffff;opacity:0.8;stroke:#cccccc;stroke-linejoin:miter;\"/>\n    </g>\n    <g id=\"PathCollection_3\">\n     <g>\n      <use style=\"fill:#1f77b4;stroke:#1f77b4;\" x=\"69.14375\" xlink:href=\"#mcb30042aa6\" y=\"177.621469\"/>\n     </g>\n    </g>\n    <g id=\"text_30\">\n     <!-- real -->\n     <g transform=\"translate(87.14375 180.246469)scale(0.1 -0.1)\">\n      <use xlink:href=\"#DejaVuSans-114\"/>\n      <use x=\"38.863281\" xlink:href=\"#DejaVuSans-101\"/>\n      <use x=\"100.386719\" xlink:href=\"#DejaVuSans-97\"/>\n      <use x=\"161.666016\" xlink:href=\"#DejaVuSans-108\"/>\n     </g>\n    </g>\n    <g id=\"PathCollection_4\">\n     <g>\n      <use style=\"fill:#ff7f0e;stroke:#ff7f0e;\" x=\"69.14375\" xlink:href=\"#md0a538cec8\" y=\"192.299594\"/>\n     </g>\n    </g>\n    <g id=\"text_31\">\n     <!-- generated -->\n     <g transform=\"translate(87.14375 194.924594)scale(0.1 -0.1)\">\n      <use xlink:href=\"#DejaVuSans-103\"/>\n      <use x=\"63.476562\" xlink:href=\"#DejaVuSans-101\"/>\n      <use x=\"125\" xlink:href=\"#DejaVuSans-110\"/>\n      <use x=\"188.378906\" xlink:href=\"#DejaVuSans-101\"/>\n      <use x=\"249.902344\" xlink:href=\"#DejaVuSans-114\"/>\n      <use x=\"291.015625\" xlink:href=\"#DejaVuSans-97\"/>\n      <use x=\"352.294922\" xlink:href=\"#DejaVuSans-116\"/>\n      <use x=\"391.503906\" xlink:href=\"#DejaVuSans-101\"/>\n      <use x=\"453.027344\" xlink:href=\"#DejaVuSans-100\"/>\n     </g>\n    </g>\n   </g>\n  </g>\n </g>\n <defs>\n  <clipPath id=\"p19384b2fdd\">\n   <rect height=\"118.173913\" width=\"279\" x=\"50.14375\" y=\"10.021945\"/>\n  </clipPath>\n  <clipPath id=\"p8d8402ebba\">\n   <rect height=\"118.173913\" width=\"279\" x=\"50.14375\" y=\"163.648032\"/>\n  </clipPath>\n </defs>\n</svg>\n"
          },
          "metadata": {
            "needs_background": "light"
          }
        }
      ],
      "source": [
        "lr_D, lr_G, latent_dim, num_epochs = 0.05, 0.005, 2, 20\n",
        "train(net_D, net_G, data_iter, num_epochs, lr_D, lr_G,\n",
        "      latent_dim, data[:100].detach().numpy())"
      ]
    },
    {
      "cell_type": "markdown",
      "id": "961fbd87",
      "metadata": {
        "origin_pos": 33,
        "id": "961fbd87"
      },
      "source": [
        "## Summary\n",
        "\n",
        "* Generative adversarial networks (GANs) composes of two deep networks, the generator and the discriminator.\n",
        "* The generator generates the image as much closer to the true image as possible to fool the discriminator, via maximizing the cross-entropy loss, *i.e.*, $\\max \\log(D(\\mathbf{x'}))$.\n",
        "* The discriminator tries to distinguish the generated images from the true images, via minimizing the cross-entropy loss, *i.e.*, $\\min - y \\log D(\\mathbf{x}) - (1-y)\\log(1-D(\\mathbf{x}))$.\n",
        "\n",
        "## Exercises\n",
        "\n",
        "* Does an equilibrium exist where the generator wins, *i.e.* the discriminator ends up unable to distinguish the two distributions on finite samples?\n"
      ]
    },
    {
      "cell_type": "markdown",
      "id": "6d7a7d91",
      "metadata": {
        "origin_pos": 35,
        "tab": [
          "pytorch"
        ],
        "id": "6d7a7d91"
      },
      "source": [
        "[Discussions](https://discuss.d2l.ai/t/1082)\n"
      ]
    }
  ],
  "metadata": {
    "kernelspec": {
      "display_name": "Python 3",
      "name": "python3"
    },
    "language_info": {
      "name": "python"
    },
    "colab": {
      "provenance": []
    }
  },
  "nbformat": 4,
  "nbformat_minor": 5
}