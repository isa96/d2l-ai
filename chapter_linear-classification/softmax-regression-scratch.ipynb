{
  "cells": [
    {
      "cell_type": "markdown",
      "id": "e423fd96",
      "metadata": {
        "id": "e423fd96"
      },
      "source": [
        "The following additional libraries are needed to run this\n",
        "notebook. Note that running on Colab is experimental, please report a Github\n",
        "issue if you have any problem."
      ]
    },
    {
      "cell_type": "code",
      "execution_count": 1,
      "id": "b0a93178",
      "metadata": {
        "id": "b0a93178",
        "outputId": "7c11cf30-9fc9-4427-cfee-01143ac662bf",
        "colab": {
          "base_uri": "https://localhost:8080/"
        }
      },
      "outputs": [
        {
          "output_type": "stream",
          "name": "stdout",
          "text": [
            "Looking in indexes: https://pypi.org/simple, https://us-python.pkg.dev/colab-wheels/public/simple/\n",
            "Collecting d2l==1.0.0-alpha1.post0\n",
            "  Downloading d2l-1.0.0a1.post0-py3-none-any.whl (93 kB)\n",
            "\u001b[K     |████████████████████████████████| 93 kB 912 kB/s \n",
            "\u001b[?25hRequirement already satisfied: numpy in /usr/local/lib/python3.7/dist-packages (from d2l==1.0.0-alpha1.post0) (1.21.6)\n",
            "Collecting jupyter\n",
            "  Downloading jupyter-1.0.0-py2.py3-none-any.whl (2.7 kB)\n",
            "Collecting matplotlib-inline\n",
            "  Downloading matplotlib_inline-0.1.6-py3-none-any.whl (9.4 kB)\n",
            "Requirement already satisfied: pandas in /usr/local/lib/python3.7/dist-packages (from d2l==1.0.0-alpha1.post0) (1.3.5)\n",
            "Requirement already satisfied: requests in /usr/local/lib/python3.7/dist-packages (from d2l==1.0.0-alpha1.post0) (2.23.0)\n",
            "Requirement already satisfied: gym in /usr/local/lib/python3.7/dist-packages (from d2l==1.0.0-alpha1.post0) (0.25.2)\n",
            "Requirement already satisfied: matplotlib in /usr/local/lib/python3.7/dist-packages (from d2l==1.0.0-alpha1.post0) (3.2.2)\n",
            "Requirement already satisfied: gym-notices>=0.0.4 in /usr/local/lib/python3.7/dist-packages (from gym->d2l==1.0.0-alpha1.post0) (0.0.8)\n",
            "Requirement already satisfied: cloudpickle>=1.2.0 in /usr/local/lib/python3.7/dist-packages (from gym->d2l==1.0.0-alpha1.post0) (1.5.0)\n",
            "Requirement already satisfied: importlib-metadata>=4.8.0 in /usr/local/lib/python3.7/dist-packages (from gym->d2l==1.0.0-alpha1.post0) (4.13.0)\n",
            "Requirement already satisfied: typing-extensions>=3.6.4 in /usr/local/lib/python3.7/dist-packages (from importlib-metadata>=4.8.0->gym->d2l==1.0.0-alpha1.post0) (4.1.1)\n",
            "Requirement already satisfied: zipp>=0.5 in /usr/local/lib/python3.7/dist-packages (from importlib-metadata>=4.8.0->gym->d2l==1.0.0-alpha1.post0) (3.9.0)\n",
            "Requirement already satisfied: nbconvert in /usr/local/lib/python3.7/dist-packages (from jupyter->d2l==1.0.0-alpha1.post0) (5.6.1)\n",
            "Requirement already satisfied: ipykernel in /usr/local/lib/python3.7/dist-packages (from jupyter->d2l==1.0.0-alpha1.post0) (5.3.4)\n",
            "Collecting qtconsole\n",
            "  Downloading qtconsole-5.3.2-py3-none-any.whl (120 kB)\n",
            "\u001b[K     |████████████████████████████████| 120 kB 44.1 MB/s \n",
            "\u001b[?25hRequirement already satisfied: ipywidgets in /usr/local/lib/python3.7/dist-packages (from jupyter->d2l==1.0.0-alpha1.post0) (7.7.1)\n",
            "Requirement already satisfied: notebook in /usr/local/lib/python3.7/dist-packages (from jupyter->d2l==1.0.0-alpha1.post0) (5.5.0)\n",
            "Requirement already satisfied: jupyter-console in /usr/local/lib/python3.7/dist-packages (from jupyter->d2l==1.0.0-alpha1.post0) (6.1.0)\n",
            "Requirement already satisfied: tornado>=4.2 in /usr/local/lib/python3.7/dist-packages (from ipykernel->jupyter->d2l==1.0.0-alpha1.post0) (5.1.1)\n",
            "Requirement already satisfied: ipython>=5.0.0 in /usr/local/lib/python3.7/dist-packages (from ipykernel->jupyter->d2l==1.0.0-alpha1.post0) (7.9.0)\n",
            "Requirement already satisfied: traitlets>=4.1.0 in /usr/local/lib/python3.7/dist-packages (from ipykernel->jupyter->d2l==1.0.0-alpha1.post0) (5.1.1)\n",
            "Requirement already satisfied: jupyter-client in /usr/local/lib/python3.7/dist-packages (from ipykernel->jupyter->d2l==1.0.0-alpha1.post0) (6.1.12)\n",
            "Requirement already satisfied: decorator in /usr/local/lib/python3.7/dist-packages (from ipython>=5.0.0->ipykernel->jupyter->d2l==1.0.0-alpha1.post0) (4.4.2)\n",
            "Collecting jedi>=0.10\n",
            "  Downloading jedi-0.18.1-py2.py3-none-any.whl (1.6 MB)\n",
            "\u001b[K     |████████████████████████████████| 1.6 MB 42.6 MB/s \n",
            "\u001b[?25hRequirement already satisfied: prompt-toolkit<2.1.0,>=2.0.0 in /usr/local/lib/python3.7/dist-packages (from ipython>=5.0.0->ipykernel->jupyter->d2l==1.0.0-alpha1.post0) (2.0.10)\n",
            "Requirement already satisfied: pexpect in /usr/local/lib/python3.7/dist-packages (from ipython>=5.0.0->ipykernel->jupyter->d2l==1.0.0-alpha1.post0) (4.8.0)\n",
            "Requirement already satisfied: pickleshare in /usr/local/lib/python3.7/dist-packages (from ipython>=5.0.0->ipykernel->jupyter->d2l==1.0.0-alpha1.post0) (0.7.5)\n",
            "Requirement already satisfied: backcall in /usr/local/lib/python3.7/dist-packages (from ipython>=5.0.0->ipykernel->jupyter->d2l==1.0.0-alpha1.post0) (0.2.0)\n",
            "Requirement already satisfied: pygments in /usr/local/lib/python3.7/dist-packages (from ipython>=5.0.0->ipykernel->jupyter->d2l==1.0.0-alpha1.post0) (2.6.1)\n",
            "Requirement already satisfied: setuptools>=18.5 in /usr/local/lib/python3.7/dist-packages (from ipython>=5.0.0->ipykernel->jupyter->d2l==1.0.0-alpha1.post0) (57.4.0)\n",
            "Requirement already satisfied: parso<0.9.0,>=0.8.0 in /usr/local/lib/python3.7/dist-packages (from jedi>=0.10->ipython>=5.0.0->ipykernel->jupyter->d2l==1.0.0-alpha1.post0) (0.8.3)\n",
            "Requirement already satisfied: wcwidth in /usr/local/lib/python3.7/dist-packages (from prompt-toolkit<2.1.0,>=2.0.0->ipython>=5.0.0->ipykernel->jupyter->d2l==1.0.0-alpha1.post0) (0.2.5)\n",
            "Requirement already satisfied: six>=1.9.0 in /usr/local/lib/python3.7/dist-packages (from prompt-toolkit<2.1.0,>=2.0.0->ipython>=5.0.0->ipykernel->jupyter->d2l==1.0.0-alpha1.post0) (1.15.0)\n",
            "Requirement already satisfied: jupyterlab-widgets>=1.0.0 in /usr/local/lib/python3.7/dist-packages (from ipywidgets->jupyter->d2l==1.0.0-alpha1.post0) (3.0.3)\n",
            "Requirement already satisfied: ipython-genutils~=0.2.0 in /usr/local/lib/python3.7/dist-packages (from ipywidgets->jupyter->d2l==1.0.0-alpha1.post0) (0.2.0)\n",
            "Requirement already satisfied: widgetsnbextension~=3.6.0 in /usr/local/lib/python3.7/dist-packages (from ipywidgets->jupyter->d2l==1.0.0-alpha1.post0) (3.6.1)\n",
            "Requirement already satisfied: terminado>=0.8.1 in /usr/local/lib/python3.7/dist-packages (from notebook->jupyter->d2l==1.0.0-alpha1.post0) (0.13.3)\n",
            "Requirement already satisfied: jupyter-core>=4.4.0 in /usr/local/lib/python3.7/dist-packages (from notebook->jupyter->d2l==1.0.0-alpha1.post0) (4.11.1)\n",
            "Requirement already satisfied: pyzmq>=17 in /usr/local/lib/python3.7/dist-packages (from notebook->jupyter->d2l==1.0.0-alpha1.post0) (23.2.1)\n",
            "Requirement already satisfied: nbformat in /usr/local/lib/python3.7/dist-packages (from notebook->jupyter->d2l==1.0.0-alpha1.post0) (5.7.0)\n",
            "Requirement already satisfied: Send2Trash in /usr/local/lib/python3.7/dist-packages (from notebook->jupyter->d2l==1.0.0-alpha1.post0) (1.8.0)\n",
            "Requirement already satisfied: jinja2 in /usr/local/lib/python3.7/dist-packages (from notebook->jupyter->d2l==1.0.0-alpha1.post0) (2.11.3)\n",
            "Requirement already satisfied: python-dateutil>=2.1 in /usr/local/lib/python3.7/dist-packages (from jupyter-client->ipykernel->jupyter->d2l==1.0.0-alpha1.post0) (2.8.2)\n",
            "Requirement already satisfied: ptyprocess in /usr/local/lib/python3.7/dist-packages (from terminado>=0.8.1->notebook->jupyter->d2l==1.0.0-alpha1.post0) (0.7.0)\n",
            "Requirement already satisfied: MarkupSafe>=0.23 in /usr/local/lib/python3.7/dist-packages (from jinja2->notebook->jupyter->d2l==1.0.0-alpha1.post0) (2.0.1)\n",
            "Requirement already satisfied: pyparsing!=2.0.4,!=2.1.2,!=2.1.6,>=2.0.1 in /usr/local/lib/python3.7/dist-packages (from matplotlib->d2l==1.0.0-alpha1.post0) (3.0.9)\n",
            "Requirement already satisfied: kiwisolver>=1.0.1 in /usr/local/lib/python3.7/dist-packages (from matplotlib->d2l==1.0.0-alpha1.post0) (1.4.4)\n",
            "Requirement already satisfied: cycler>=0.10 in /usr/local/lib/python3.7/dist-packages (from matplotlib->d2l==1.0.0-alpha1.post0) (0.11.0)\n",
            "Requirement already satisfied: bleach in /usr/local/lib/python3.7/dist-packages (from nbconvert->jupyter->d2l==1.0.0-alpha1.post0) (5.0.1)\n",
            "Requirement already satisfied: entrypoints>=0.2.2 in /usr/local/lib/python3.7/dist-packages (from nbconvert->jupyter->d2l==1.0.0-alpha1.post0) (0.4)\n",
            "Requirement already satisfied: mistune<2,>=0.8.1 in /usr/local/lib/python3.7/dist-packages (from nbconvert->jupyter->d2l==1.0.0-alpha1.post0) (0.8.4)\n",
            "Requirement already satisfied: pandocfilters>=1.4.1 in /usr/local/lib/python3.7/dist-packages (from nbconvert->jupyter->d2l==1.0.0-alpha1.post0) (1.5.0)\n",
            "Requirement already satisfied: testpath in /usr/local/lib/python3.7/dist-packages (from nbconvert->jupyter->d2l==1.0.0-alpha1.post0) (0.6.0)\n",
            "Requirement already satisfied: defusedxml in /usr/local/lib/python3.7/dist-packages (from nbconvert->jupyter->d2l==1.0.0-alpha1.post0) (0.7.1)\n",
            "Requirement already satisfied: jsonschema>=2.6 in /usr/local/lib/python3.7/dist-packages (from nbformat->notebook->jupyter->d2l==1.0.0-alpha1.post0) (4.3.3)\n",
            "Requirement already satisfied: fastjsonschema in /usr/local/lib/python3.7/dist-packages (from nbformat->notebook->jupyter->d2l==1.0.0-alpha1.post0) (2.16.2)\n",
            "Requirement already satisfied: pyrsistent!=0.17.0,!=0.17.1,!=0.17.2,>=0.14.0 in /usr/local/lib/python3.7/dist-packages (from jsonschema>=2.6->nbformat->notebook->jupyter->d2l==1.0.0-alpha1.post0) (0.18.1)\n",
            "Requirement already satisfied: attrs>=17.4.0 in /usr/local/lib/python3.7/dist-packages (from jsonschema>=2.6->nbformat->notebook->jupyter->d2l==1.0.0-alpha1.post0) (22.1.0)\n",
            "Requirement already satisfied: importlib-resources>=1.4.0 in /usr/local/lib/python3.7/dist-packages (from jsonschema>=2.6->nbformat->notebook->jupyter->d2l==1.0.0-alpha1.post0) (5.10.0)\n",
            "Requirement already satisfied: webencodings in /usr/local/lib/python3.7/dist-packages (from bleach->nbconvert->jupyter->d2l==1.0.0-alpha1.post0) (0.5.1)\n",
            "Requirement already satisfied: pytz>=2017.3 in /usr/local/lib/python3.7/dist-packages (from pandas->d2l==1.0.0-alpha1.post0) (2022.4)\n",
            "Collecting qtpy>=2.0.1\n",
            "  Downloading QtPy-2.2.1-py3-none-any.whl (82 kB)\n",
            "\u001b[K     |████████████████████████████████| 82 kB 637 kB/s \n",
            "\u001b[?25hRequirement already satisfied: packaging in /usr/local/lib/python3.7/dist-packages (from qtpy>=2.0.1->qtconsole->jupyter->d2l==1.0.0-alpha1.post0) (21.3)\n",
            "Requirement already satisfied: idna<3,>=2.5 in /usr/local/lib/python3.7/dist-packages (from requests->d2l==1.0.0-alpha1.post0) (2.10)\n",
            "Requirement already satisfied: urllib3!=1.25.0,!=1.25.1,<1.26,>=1.21.1 in /usr/local/lib/python3.7/dist-packages (from requests->d2l==1.0.0-alpha1.post0) (1.24.3)\n",
            "Requirement already satisfied: chardet<4,>=3.0.2 in /usr/local/lib/python3.7/dist-packages (from requests->d2l==1.0.0-alpha1.post0) (3.0.4)\n",
            "Requirement already satisfied: certifi>=2017.4.17 in /usr/local/lib/python3.7/dist-packages (from requests->d2l==1.0.0-alpha1.post0) (2022.9.24)\n",
            "Installing collected packages: jedi, qtpy, qtconsole, matplotlib-inline, jupyter, d2l\n",
            "Successfully installed d2l-1.0.0a1.post0 jedi-0.18.1 jupyter-1.0.0 matplotlib-inline-0.1.6 qtconsole-5.3.2 qtpy-2.2.1\n"
          ]
        }
      ],
      "source": [
        "!pip install d2l==1.0.0-alpha1.post0\n"
      ]
    },
    {
      "cell_type": "markdown",
      "id": "8bad4dc6",
      "metadata": {
        "origin_pos": 1,
        "id": "8bad4dc6"
      },
      "source": [
        "# Softmax Regression Implementation from Scratch\n",
        ":label:`sec_softmax_scratch`\n",
        "\n",
        "Because softmax regression is so fundamental,\n",
        "we believe that you ought to know\n",
        "how to implement it yourself.\n",
        "Here, we limit ourselves to defining the\n",
        "softmax-specific aspects of the model\n",
        "and reuse the other components\n",
        "from our linear regression section,\n",
        "including the training loop.\n"
      ]
    },
    {
      "cell_type": "code",
      "execution_count": 2,
      "id": "9ae03d9a",
      "metadata": {
        "execution": {
          "iopub.execute_input": "2022-09-07T22:02:24.306339Z",
          "iopub.status.busy": "2022-09-07T22:02:24.305684Z",
          "iopub.status.idle": "2022-09-07T22:02:26.348998Z",
          "shell.execute_reply": "2022-09-07T22:02:26.348013Z"
        },
        "origin_pos": 3,
        "tab": [
          "pytorch"
        ],
        "id": "9ae03d9a"
      },
      "outputs": [],
      "source": [
        "import torch\n",
        "from d2l import torch as d2l"
      ]
    },
    {
      "cell_type": "markdown",
      "id": "d919e396",
      "metadata": {
        "origin_pos": 5,
        "id": "d919e396"
      },
      "source": [
        "## The Softmax\n",
        "\n",
        "Let's begin with the most important part:\n",
        "the mapping from scalars to probabilities.\n",
        "For a refresher, recall the operation of the sum operator\n",
        "along specific dimensions in a tensor,\n",
        "as discussed in :numref:`subsec_lin-alg-reduction`\n",
        "and :numref:`subsec_lin-alg-non-reduction`.\n",
        "[**Given a matrix `X` we can sum over all elements (by default) or only\n",
        "over elements in the same axis.**]\n",
        "The `axis` variable lets us compute row and column sums:\n"
      ]
    },
    {
      "cell_type": "code",
      "execution_count": 3,
      "id": "e42d6d97",
      "metadata": {
        "execution": {
          "iopub.execute_input": "2022-09-07T22:02:26.356075Z",
          "iopub.status.busy": "2022-09-07T22:02:26.355014Z",
          "iopub.status.idle": "2022-09-07T22:02:26.386373Z",
          "shell.execute_reply": "2022-09-07T22:02:26.385616Z"
        },
        "origin_pos": 6,
        "tab": [
          "pytorch"
        ],
        "id": "e42d6d97",
        "outputId": "63ce535a-05b7-48d7-daef-21884dd57d14",
        "colab": {
          "base_uri": "https://localhost:8080/"
        }
      },
      "outputs": [
        {
          "output_type": "execute_result",
          "data": {
            "text/plain": [
              "(tensor([[5., 7., 9.]]), tensor([[ 6.],\n",
              "         [15.]]))"
            ]
          },
          "metadata": {},
          "execution_count": 3
        }
      ],
      "source": [
        "X = torch.tensor([[1.0, 2.0, 3.0], [4.0, 5.0, 6.0]])\n",
        "X.sum(0, keepdims=True), X.sum(1, keepdims=True)"
      ]
    },
    {
      "cell_type": "markdown",
      "id": "22cf164f",
      "metadata": {
        "origin_pos": 7,
        "id": "22cf164f"
      },
      "source": [
        "Computing the softmax requires three steps:\n",
        "(i) exponentiation of each term;\n",
        "(ii) a sum over each row to compute the normalization constant for each example;\n",
        "(iii) division of each row by its normalization constant,\n",
        "ensuring that the result sums to 1.\n",
        "\n",
        "(**\n",
        "$$\\mathrm{softmax}(\\mathbf{X})_{ij} = \\frac{\\exp(\\mathbf{X}_{ij})}{\\sum_k \\exp(\\mathbf{X}_{ik})}.$$\n",
        "**)\n",
        "\n",
        "The (logarithm of the) denominator\n",
        "is called the (log) *partition function*.\n",
        "It was introduced in [statistical physics](https://en.wikipedia.org/wiki/Partition_function_(statistical_mechanics))\n",
        "to sum over all possible states in a thermodynamic ensemble.\n",
        "The implementation is straightforward:\n"
      ]
    },
    {
      "cell_type": "code",
      "execution_count": 4,
      "id": "52ef053f",
      "metadata": {
        "execution": {
          "iopub.execute_input": "2022-09-07T22:02:26.389908Z",
          "iopub.status.busy": "2022-09-07T22:02:26.389390Z",
          "iopub.status.idle": "2022-09-07T22:02:26.393434Z",
          "shell.execute_reply": "2022-09-07T22:02:26.392729Z"
        },
        "origin_pos": 8,
        "tab": [
          "pytorch"
        ],
        "id": "52ef053f"
      },
      "outputs": [],
      "source": [
        "def softmax(X):\n",
        "    X_exp = torch.exp(X)\n",
        "    partition = X_exp.sum(1, keepdims=True)\n",
        "    return X_exp / partition  # The broadcasting mechanism is applied here"
      ]
    },
    {
      "cell_type": "markdown",
      "id": "125e18c9",
      "metadata": {
        "origin_pos": 9,
        "id": "125e18c9"
      },
      "source": [
        "For any input `X`, [**we turn each element\n",
        "into a non-negative number.\n",
        "Each row sums up to 1,**]\n",
        "as is required for a probability. Caution: the code above is *not* robust against very large or very small arguments. While this is sufficient to illustrate what is happening, you should *not* use this code verbatim for any serious purpose. Deep learning frameworks have such protections built-in and we will be using the built-in softmax going forward.\n"
      ]
    },
    {
      "cell_type": "code",
      "execution_count": 5,
      "id": "3c5afe2d",
      "metadata": {
        "execution": {
          "iopub.execute_input": "2022-09-07T22:02:26.396829Z",
          "iopub.status.busy": "2022-09-07T22:02:26.396248Z",
          "iopub.status.idle": "2022-09-07T22:02:26.402566Z",
          "shell.execute_reply": "2022-09-07T22:02:26.401830Z"
        },
        "origin_pos": 11,
        "tab": [
          "pytorch"
        ],
        "id": "3c5afe2d",
        "outputId": "38b57ea2-5eef-4fb1-e468-ce61f6fdbc55",
        "colab": {
          "base_uri": "https://localhost:8080/"
        }
      },
      "outputs": [
        {
          "output_type": "execute_result",
          "data": {
            "text/plain": [
              "(tensor([[0.1706, 0.2664, 0.2085, 0.1519, 0.2025],\n",
              "         [0.2495, 0.2054, 0.2736, 0.1306, 0.1410]]), tensor([1.0000, 1.0000]))"
            ]
          },
          "metadata": {},
          "execution_count": 5
        }
      ],
      "source": [
        "X = torch.rand((2, 5))\n",
        "X_prob = softmax(X)\n",
        "X_prob, X_prob.sum(1)"
      ]
    },
    {
      "cell_type": "markdown",
      "id": "b62aa279",
      "metadata": {
        "origin_pos": 12,
        "id": "b62aa279"
      },
      "source": [
        "## The Model\n",
        "\n",
        "We now have everything that we need\n",
        "to implement [**the softmax regression model.**]\n",
        "As in our linear regression example,\n",
        "each instance will be represented\n",
        "by a fixed-length vector.\n",
        "Since the raw data here consists\n",
        "of $28 \\times 28$ pixel images,\n",
        "[**we flatten each image,\n",
        "treating them as vectors of length 784.**]\n",
        "In later chapters, we will introduce\n",
        "convolutional neural networks,\n",
        "which exploit the spatial structure\n",
        "in a more satisfying way.\n",
        "\n",
        "\n",
        "In softmax regression,\n",
        "the number of outputs from our network\n",
        "should be equal to the number of classes.\n",
        "(**Since our dataset has 10 classes,\n",
        "our network has an output dimension of 10.**)\n",
        "Consequently, our weights constitute a $784 \\times 10$ matrix\n",
        "plus a $1 \\times 10$ dimensional row vector for the biases.\n",
        "As with linear regression,\n",
        "we initialize the weights `W`\n",
        "with Gaussian noise.\n",
        "The biases are initialized as zeros.\n"
      ]
    },
    {
      "cell_type": "code",
      "execution_count": 6,
      "id": "eb0a41f5",
      "metadata": {
        "execution": {
          "iopub.execute_input": "2022-09-07T22:02:26.405886Z",
          "iopub.status.busy": "2022-09-07T22:02:26.405404Z",
          "iopub.status.idle": "2022-09-07T22:02:26.410469Z",
          "shell.execute_reply": "2022-09-07T22:02:26.409718Z"
        },
        "origin_pos": 14,
        "tab": [
          "pytorch"
        ],
        "id": "eb0a41f5"
      },
      "outputs": [],
      "source": [
        "class SoftmaxRegressionScratch(d2l.Classifier):\n",
        "    def __init__(self, num_inputs, num_outputs, lr, sigma=0.01):\n",
        "        super().__init__()\n",
        "        self.save_hyperparameters()\n",
        "        self.W = torch.normal(0, sigma, size=(num_inputs, num_outputs),\n",
        "                              requires_grad=True)\n",
        "        self.b = torch.zeros(num_outputs, requires_grad=True)\n",
        "\n",
        "    def parameters(self):\n",
        "        return [self.W, self.b]"
      ]
    },
    {
      "cell_type": "markdown",
      "id": "7df9bbe3",
      "metadata": {
        "origin_pos": 16,
        "id": "7df9bbe3"
      },
      "source": [
        "The code below defines how the network\n",
        "maps each input to an output.\n",
        "Note that we flatten each $28 \\times 28$ pixel image in the batch\n",
        "into a vector using `reshape`\n",
        "before passing the data through our model.\n"
      ]
    },
    {
      "cell_type": "code",
      "execution_count": 7,
      "id": "3e99f0cf",
      "metadata": {
        "execution": {
          "iopub.execute_input": "2022-09-07T22:02:26.413598Z",
          "iopub.status.busy": "2022-09-07T22:02:26.413205Z",
          "iopub.status.idle": "2022-09-07T22:02:26.417363Z",
          "shell.execute_reply": "2022-09-07T22:02:26.416641Z"
        },
        "origin_pos": 17,
        "tab": [
          "pytorch"
        ],
        "id": "3e99f0cf"
      },
      "outputs": [],
      "source": [
        "@d2l.add_to_class(SoftmaxRegressionScratch)\n",
        "def forward(self, X):\n",
        "    return softmax(torch.matmul(X.reshape((-1, self.W.shape[0])), self.W) + self.b)"
      ]
    },
    {
      "cell_type": "markdown",
      "id": "96f3e8a1",
      "metadata": {
        "origin_pos": 18,
        "id": "96f3e8a1"
      },
      "source": [
        "## The Cross-Entropy Loss\n",
        "\n",
        "Next we need to implement the cross-entropy loss function\n",
        "(introduced in :numref:`subsec_softmax-regression-loss-func`).\n",
        "This may be the most common loss function\n",
        "in all of deep learning.\n",
        "At the moment, applications of deep learning\n",
        "easily cast classification problems\n",
        "far outnumber those better treated as regression problems.\n",
        "\n",
        "Recall that cross-entropy takes the negative log-likelihood\n",
        "of the predicted probability assigned to the true label.\n",
        "For efficiency we avoid Python for-loops and use indexing instead.\n",
        "In particular, the one-hot encoding in $\\mathbf{y}$\n",
        "allows us to select the matching terms in $\\hat{\\mathbf{y}}$.\n",
        "\n",
        "To see this in action we [**create sample data `y_hat`\n",
        "with 2 examples of predicted probabilities over 3 classes and their corresponding labels `y`.**]\n",
        "The correct labels are $1$ and $2$ respectively.\n",
        "[**Using `y` as the indices of the probabilities in `y_hat`,**]\n",
        "we can pick out terms efficiently.\n"
      ]
    },
    {
      "cell_type": "code",
      "execution_count": 8,
      "id": "5b70d1af",
      "metadata": {
        "execution": {
          "iopub.execute_input": "2022-09-07T22:02:26.421843Z",
          "iopub.status.busy": "2022-09-07T22:02:26.421368Z",
          "iopub.status.idle": "2022-09-07T22:02:26.427434Z",
          "shell.execute_reply": "2022-09-07T22:02:26.426726Z"
        },
        "origin_pos": 19,
        "tab": [
          "pytorch"
        ],
        "id": "5b70d1af",
        "outputId": "92934117-b30d-4b7b-d730-413ea083841d",
        "colab": {
          "base_uri": "https://localhost:8080/"
        }
      },
      "outputs": [
        {
          "output_type": "execute_result",
          "data": {
            "text/plain": [
              "tensor([0.1000, 0.5000])"
            ]
          },
          "metadata": {},
          "execution_count": 8
        }
      ],
      "source": [
        "y = torch.tensor([0, 2])\n",
        "y_hat = torch.tensor([[0.1, 0.3, 0.6], [0.3, 0.2, 0.5]])\n",
        "y_hat[[0, 1], y]"
      ]
    },
    {
      "cell_type": "markdown",
      "id": "87d698a6",
      "metadata": {
        "origin_pos": 21,
        "id": "87d698a6"
      },
      "source": [
        "Now we can (**implement the cross-entropy loss function**) by averaging over the logarithms of the selected probabilities.\n"
      ]
    },
    {
      "cell_type": "code",
      "execution_count": 9,
      "id": "e6817dcc",
      "metadata": {
        "execution": {
          "iopub.execute_input": "2022-09-07T22:02:26.432428Z",
          "iopub.status.busy": "2022-09-07T22:02:26.431821Z",
          "iopub.status.idle": "2022-09-07T22:02:26.437863Z",
          "shell.execute_reply": "2022-09-07T22:02:26.437156Z"
        },
        "origin_pos": 22,
        "tab": [
          "pytorch"
        ],
        "id": "e6817dcc",
        "outputId": "250fe6d2-9555-4c09-c59f-11fb232ef400",
        "colab": {
          "base_uri": "https://localhost:8080/"
        }
      },
      "outputs": [
        {
          "output_type": "execute_result",
          "data": {
            "text/plain": [
              "tensor(1.4979)"
            ]
          },
          "metadata": {},
          "execution_count": 9
        }
      ],
      "source": [
        "def cross_entropy(y_hat, y):\n",
        "    return - torch.log(y_hat[range(len(y_hat)), y]).mean()\n",
        "\n",
        "cross_entropy(y_hat, y)"
      ]
    },
    {
      "cell_type": "code",
      "execution_count": 10,
      "id": "94fd07b4",
      "metadata": {
        "execution": {
          "iopub.execute_input": "2022-09-07T22:02:26.442323Z",
          "iopub.status.busy": "2022-09-07T22:02:26.441820Z",
          "iopub.status.idle": "2022-09-07T22:02:26.445577Z",
          "shell.execute_reply": "2022-09-07T22:02:26.444864Z"
        },
        "origin_pos": 24,
        "tab": [
          "pytorch"
        ],
        "id": "94fd07b4"
      },
      "outputs": [],
      "source": [
        "@d2l.add_to_class(SoftmaxRegressionScratch)\n",
        "def loss(self, y_hat, y):\n",
        "    return cross_entropy(y_hat, y)"
      ]
    },
    {
      "cell_type": "markdown",
      "id": "6ca8eefa",
      "metadata": {
        "origin_pos": 25,
        "id": "6ca8eefa"
      },
      "source": [
        "## Training\n",
        "\n",
        "We reuse the `fit` method defined in :numref:`sec_linear_scratch` to [**train the model with 10 epochs.**]\n",
        "Note that both the number of epochs (`max_epochs`),\n",
        "the minibatch size (`batch_size`),\n",
        "and learning rate (`lr`)\n",
        "are adjustable hyperparameters.\n",
        "That means that while these values are not\n",
        "learned during our primary training loop,\n",
        "they still influence the performance\n",
        "of our model, bot vis-a-vis training\n",
        "and generalization performance.\n",
        "In practice you will want to choose these values\n",
        "based on the *validation* split of the data\n",
        "and then to ultimately evaluate your final model\n",
        "on the *test* split.\n",
        "As discussed in :numref:`subsec_generalization-model-selection`,\n",
        "we will treat the test data of Fashion-MNIST\n",
        "as the validation set, thus\n",
        "reporting validation loss and validation accuracy\n",
        "on this split.\n"
      ]
    },
    {
      "cell_type": "code",
      "execution_count": 11,
      "id": "2a7b6e44",
      "metadata": {
        "execution": {
          "iopub.execute_input": "2022-09-07T22:02:26.450327Z",
          "iopub.status.busy": "2022-09-07T22:02:26.449838Z",
          "iopub.status.idle": "2022-09-07T22:03:22.955929Z",
          "shell.execute_reply": "2022-09-07T22:03:22.955023Z"
        },
        "origin_pos": 26,
        "tab": [
          "pytorch"
        ],
        "id": "2a7b6e44",
        "outputId": "a0e51c99-41a8-44cb-b27f-18e1d872328f",
        "colab": {
          "base_uri": "https://localhost:8080/",
          "height": 262,
          "referenced_widgets": [
            "dc08e54ef25b4a989bd69de648c3dac8",
            "48c9d25bd3dc4351a03799fb45640880",
            "cc559259c1694221b3921d01bb3650bd",
            "f97c48a2356f44d4a3627c5e128511ee",
            "1471bc0f7f184ccf991415013b4139d7",
            "6df46564188a4f1882e6ea66c87b4195",
            "754fb080104449adb09d396806a5bfd8",
            "f0c8a8691ecc4fe8abb04fa10df94fe0",
            "041e45e4bfc7427f98eb7f728701233e",
            "29a3ce53a6b74a4a92ee291d3b4e9410",
            "c168ca2f26904ac7a93dce65bc864e57",
            "80b0c5788e0b4799ae90ed50f85408fc",
            "b6152b4d466b4569bab47c907cf46a1f",
            "61b965e66dab4be3a29af304a2826da6",
            "aed12d0a3ae2420f83a30179b6ba92f3",
            "54e50596be2346999fd3bf0756d13963",
            "42b95afff0a948a2b5aff9f97662d099",
            "c1d23a8f8c1248f18bc36debf59d788d",
            "18eadb246d5b4a4f8b71169f301f4eca",
            "56f71eab76b9417580974bfb709973f9",
            "49517e2ba58b4a1e85a9a76ec7fc01b7",
            "cb9fbe863f154744bd57f597e20a845a",
            "a64fd0310fd44e88b36bff25d4c68e78",
            "e7c591e66a774e18831790cdf652e4cb",
            "4efa37698e5945c1b5f7e7ad2349b29c",
            "9d27130e1c4a4d8ebd02c93d5c9953d2",
            "2d4d9ce6895d43e093fbd11d8e690349",
            "cdd0b216cd344dd8a49b8da8f84af934",
            "4243fcd9a57d4a37a7c49ab503cadba8",
            "203d59ae35e44197b8e910e149d31f13",
            "b43c4f8637f84df7b223cdd406073002",
            "6b5574fd566f43bfa90f779921f2d434",
            "b083c16b25c24766974d3bdec8c31b56",
            "b5e1d2604d3b40369786ac1dd57a4353",
            "11afeb72d4d14a6d818438691c2d579a",
            "6a7d1e8d61584827a9c0f1263b0ee7f1",
            "9fc3449133ea4bb0b5a6627cbe8a14f9",
            "c5afc66a82d44552b47c2de57190a4b2",
            "02589ce5ba47496998c28e1ee3efc87a",
            "5278611a76a44088864e4c3d170d1245",
            "0b881096a0d747fab8211e37ee36538f",
            "da86fd3bb70c463087dfb2f0df84a32a",
            "c2e2b0581df94da0bcc84f6560f21e8d",
            "ead04aa7e4f04700bf67b595493917bd"
          ]
        }
      },
      "outputs": [
        {
          "output_type": "display_data",
          "data": {
            "text/plain": [
              "<Figure size 252x180 with 1 Axes>"
            ],
            "image/svg+xml": "<?xml version=\"1.0\" encoding=\"utf-8\" standalone=\"no\"?>\n<!DOCTYPE svg PUBLIC \"-//W3C//DTD SVG 1.1//EN\"\n  \"http://www.w3.org/Graphics/SVG/1.1/DTD/svg11.dtd\">\n<!-- Created with matplotlib (https://matplotlib.org/) -->\n<svg height=\"180.65625pt\" version=\"1.1\" viewBox=\"0 0 238.965625 180.65625\" width=\"238.965625pt\" xmlns=\"http://www.w3.org/2000/svg\" xmlns:xlink=\"http://www.w3.org/1999/xlink\">\n <defs>\n  <style type=\"text/css\">\n*{stroke-linecap:butt;stroke-linejoin:round;}\n  </style>\n </defs>\n <g id=\"figure_1\">\n  <g id=\"patch_1\">\n   <path d=\"M 0 180.65625 \nL 238.965625 180.65625 \nL 238.965625 0 \nL 0 0 \nz\n\" style=\"fill:none;\"/>\n  </g>\n  <g id=\"axes_1\">\n   <g id=\"patch_2\">\n    <path d=\"M 30.103125 143.1 \nL 225.403125 143.1 \nL 225.403125 7.2 \nL 30.103125 7.2 \nz\n\" style=\"fill:#ffffff;\"/>\n   </g>\n   <g id=\"matplotlib.axis_1\">\n    <g id=\"xtick_1\">\n     <g id=\"line2d_1\">\n      <defs>\n       <path d=\"M 0 0 \nL 0 3.5 \n\" id=\"mccec1bc058\" style=\"stroke:#000000;stroke-width:0.8;\"/>\n      </defs>\n      <g>\n       <use style=\"stroke:#000000;stroke-width:0.8;\" x=\"30.103125\" xlink:href=\"#mccec1bc058\" y=\"143.1\"/>\n      </g>\n     </g>\n     <g id=\"text_1\">\n      <!-- 0 -->\n      <defs>\n       <path d=\"M 31.78125 66.40625 \nQ 24.171875 66.40625 20.328125 58.90625 \nQ 16.5 51.421875 16.5 36.375 \nQ 16.5 21.390625 20.328125 13.890625 \nQ 24.171875 6.390625 31.78125 6.390625 \nQ 39.453125 6.390625 43.28125 13.890625 \nQ 47.125 21.390625 47.125 36.375 \nQ 47.125 51.421875 43.28125 58.90625 \nQ 39.453125 66.40625 31.78125 66.40625 \nz\nM 31.78125 74.21875 \nQ 44.046875 74.21875 50.515625 64.515625 \nQ 56.984375 54.828125 56.984375 36.375 \nQ 56.984375 17.96875 50.515625 8.265625 \nQ 44.046875 -1.421875 31.78125 -1.421875 \nQ 19.53125 -1.421875 13.0625 8.265625 \nQ 6.59375 17.96875 6.59375 36.375 \nQ 6.59375 54.828125 13.0625 64.515625 \nQ 19.53125 74.21875 31.78125 74.21875 \nz\n\" id=\"DejaVuSans-48\"/>\n      </defs>\n      <g transform=\"translate(26.921875 157.698438)scale(0.1 -0.1)\">\n       <use xlink:href=\"#DejaVuSans-48\"/>\n      </g>\n     </g>\n    </g>\n    <g id=\"xtick_2\">\n     <g id=\"line2d_2\">\n      <g>\n       <use style=\"stroke:#000000;stroke-width:0.8;\" x=\"69.163125\" xlink:href=\"#mccec1bc058\" y=\"143.1\"/>\n      </g>\n     </g>\n     <g id=\"text_2\">\n      <!-- 2 -->\n      <defs>\n       <path d=\"M 19.1875 8.296875 \nL 53.609375 8.296875 \nL 53.609375 0 \nL 7.328125 0 \nL 7.328125 8.296875 \nQ 12.9375 14.109375 22.625 23.890625 \nQ 32.328125 33.6875 34.8125 36.53125 \nQ 39.546875 41.84375 41.421875 45.53125 \nQ 43.3125 49.21875 43.3125 52.78125 \nQ 43.3125 58.59375 39.234375 62.25 \nQ 35.15625 65.921875 28.609375 65.921875 \nQ 23.96875 65.921875 18.8125 64.3125 \nQ 13.671875 62.703125 7.8125 59.421875 \nL 7.8125 69.390625 \nQ 13.765625 71.78125 18.9375 73 \nQ 24.125 74.21875 28.421875 74.21875 \nQ 39.75 74.21875 46.484375 68.546875 \nQ 53.21875 62.890625 53.21875 53.421875 \nQ 53.21875 48.921875 51.53125 44.890625 \nQ 49.859375 40.875 45.40625 35.40625 \nQ 44.1875 33.984375 37.640625 27.21875 \nQ 31.109375 20.453125 19.1875 8.296875 \nz\n\" id=\"DejaVuSans-50\"/>\n      </defs>\n      <g transform=\"translate(65.981875 157.698438)scale(0.1 -0.1)\">\n       <use xlink:href=\"#DejaVuSans-50\"/>\n      </g>\n     </g>\n    </g>\n    <g id=\"xtick_3\">\n     <g id=\"line2d_3\">\n      <g>\n       <use style=\"stroke:#000000;stroke-width:0.8;\" x=\"108.223125\" xlink:href=\"#mccec1bc058\" y=\"143.1\"/>\n      </g>\n     </g>\n     <g id=\"text_3\">\n      <!-- 4 -->\n      <defs>\n       <path d=\"M 37.796875 64.3125 \nL 12.890625 25.390625 \nL 37.796875 25.390625 \nz\nM 35.203125 72.90625 \nL 47.609375 72.90625 \nL 47.609375 25.390625 \nL 58.015625 25.390625 \nL 58.015625 17.1875 \nL 47.609375 17.1875 \nL 47.609375 0 \nL 37.796875 0 \nL 37.796875 17.1875 \nL 4.890625 17.1875 \nL 4.890625 26.703125 \nz\n\" id=\"DejaVuSans-52\"/>\n      </defs>\n      <g transform=\"translate(105.041875 157.698438)scale(0.1 -0.1)\">\n       <use xlink:href=\"#DejaVuSans-52\"/>\n      </g>\n     </g>\n    </g>\n    <g id=\"xtick_4\">\n     <g id=\"line2d_4\">\n      <g>\n       <use style=\"stroke:#000000;stroke-width:0.8;\" x=\"147.283125\" xlink:href=\"#mccec1bc058\" y=\"143.1\"/>\n      </g>\n     </g>\n     <g id=\"text_4\">\n      <!-- 6 -->\n      <defs>\n       <path d=\"M 33.015625 40.375 \nQ 26.375 40.375 22.484375 35.828125 \nQ 18.609375 31.296875 18.609375 23.390625 \nQ 18.609375 15.53125 22.484375 10.953125 \nQ 26.375 6.390625 33.015625 6.390625 \nQ 39.65625 6.390625 43.53125 10.953125 \nQ 47.40625 15.53125 47.40625 23.390625 \nQ 47.40625 31.296875 43.53125 35.828125 \nQ 39.65625 40.375 33.015625 40.375 \nz\nM 52.59375 71.296875 \nL 52.59375 62.3125 \nQ 48.875 64.0625 45.09375 64.984375 \nQ 41.3125 65.921875 37.59375 65.921875 \nQ 27.828125 65.921875 22.671875 59.328125 \nQ 17.53125 52.734375 16.796875 39.40625 \nQ 19.671875 43.65625 24.015625 45.921875 \nQ 28.375 48.1875 33.59375 48.1875 \nQ 44.578125 48.1875 50.953125 41.515625 \nQ 57.328125 34.859375 57.328125 23.390625 \nQ 57.328125 12.15625 50.6875 5.359375 \nQ 44.046875 -1.421875 33.015625 -1.421875 \nQ 20.359375 -1.421875 13.671875 8.265625 \nQ 6.984375 17.96875 6.984375 36.375 \nQ 6.984375 53.65625 15.1875 63.9375 \nQ 23.390625 74.21875 37.203125 74.21875 \nQ 40.921875 74.21875 44.703125 73.484375 \nQ 48.484375 72.75 52.59375 71.296875 \nz\n\" id=\"DejaVuSans-54\"/>\n      </defs>\n      <g transform=\"translate(144.101875 157.698438)scale(0.1 -0.1)\">\n       <use xlink:href=\"#DejaVuSans-54\"/>\n      </g>\n     </g>\n    </g>\n    <g id=\"xtick_5\">\n     <g id=\"line2d_5\">\n      <g>\n       <use style=\"stroke:#000000;stroke-width:0.8;\" x=\"186.343125\" xlink:href=\"#mccec1bc058\" y=\"143.1\"/>\n      </g>\n     </g>\n     <g id=\"text_5\">\n      <!-- 8 -->\n      <defs>\n       <path d=\"M 31.78125 34.625 \nQ 24.75 34.625 20.71875 30.859375 \nQ 16.703125 27.09375 16.703125 20.515625 \nQ 16.703125 13.921875 20.71875 10.15625 \nQ 24.75 6.390625 31.78125 6.390625 \nQ 38.8125 6.390625 42.859375 10.171875 \nQ 46.921875 13.96875 46.921875 20.515625 \nQ 46.921875 27.09375 42.890625 30.859375 \nQ 38.875 34.625 31.78125 34.625 \nz\nM 21.921875 38.8125 \nQ 15.578125 40.375 12.03125 44.71875 \nQ 8.5 49.078125 8.5 55.328125 \nQ 8.5 64.0625 14.71875 69.140625 \nQ 20.953125 74.21875 31.78125 74.21875 \nQ 42.671875 74.21875 48.875 69.140625 \nQ 55.078125 64.0625 55.078125 55.328125 \nQ 55.078125 49.078125 51.53125 44.71875 \nQ 48 40.375 41.703125 38.8125 \nQ 48.828125 37.15625 52.796875 32.3125 \nQ 56.78125 27.484375 56.78125 20.515625 \nQ 56.78125 9.90625 50.3125 4.234375 \nQ 43.84375 -1.421875 31.78125 -1.421875 \nQ 19.734375 -1.421875 13.25 4.234375 \nQ 6.78125 9.90625 6.78125 20.515625 \nQ 6.78125 27.484375 10.78125 32.3125 \nQ 14.796875 37.15625 21.921875 38.8125 \nz\nM 18.3125 54.390625 \nQ 18.3125 48.734375 21.84375 45.5625 \nQ 25.390625 42.390625 31.78125 42.390625 \nQ 38.140625 42.390625 41.71875 45.5625 \nQ 45.3125 48.734375 45.3125 54.390625 \nQ 45.3125 60.0625 41.71875 63.234375 \nQ 38.140625 66.40625 31.78125 66.40625 \nQ 25.390625 66.40625 21.84375 63.234375 \nQ 18.3125 60.0625 18.3125 54.390625 \nz\n\" id=\"DejaVuSans-56\"/>\n      </defs>\n      <g transform=\"translate(183.161875 157.698438)scale(0.1 -0.1)\">\n       <use xlink:href=\"#DejaVuSans-56\"/>\n      </g>\n     </g>\n    </g>\n    <g id=\"xtick_6\">\n     <g id=\"line2d_6\">\n      <g>\n       <use style=\"stroke:#000000;stroke-width:0.8;\" x=\"225.403125\" xlink:href=\"#mccec1bc058\" y=\"143.1\"/>\n      </g>\n     </g>\n     <g id=\"text_6\">\n      <!-- 10 -->\n      <defs>\n       <path d=\"M 12.40625 8.296875 \nL 28.515625 8.296875 \nL 28.515625 63.921875 \nL 10.984375 60.40625 \nL 10.984375 69.390625 \nL 28.421875 72.90625 \nL 38.28125 72.90625 \nL 38.28125 8.296875 \nL 54.390625 8.296875 \nL 54.390625 0 \nL 12.40625 0 \nz\n\" id=\"DejaVuSans-49\"/>\n      </defs>\n      <g transform=\"translate(219.040625 157.698438)scale(0.1 -0.1)\">\n       <use xlink:href=\"#DejaVuSans-49\"/>\n       <use x=\"63.623047\" xlink:href=\"#DejaVuSans-48\"/>\n      </g>\n     </g>\n    </g>\n    <g id=\"text_7\">\n     <!-- epoch -->\n     <defs>\n      <path d=\"M 56.203125 29.59375 \nL 56.203125 25.203125 \nL 14.890625 25.203125 \nQ 15.484375 15.921875 20.484375 11.0625 \nQ 25.484375 6.203125 34.421875 6.203125 \nQ 39.59375 6.203125 44.453125 7.46875 \nQ 49.3125 8.734375 54.109375 11.28125 \nL 54.109375 2.78125 \nQ 49.265625 0.734375 44.1875 -0.34375 \nQ 39.109375 -1.421875 33.890625 -1.421875 \nQ 20.796875 -1.421875 13.15625 6.1875 \nQ 5.515625 13.8125 5.515625 26.8125 \nQ 5.515625 40.234375 12.765625 48.109375 \nQ 20.015625 56 32.328125 56 \nQ 43.359375 56 49.78125 48.890625 \nQ 56.203125 41.796875 56.203125 29.59375 \nz\nM 47.21875 32.234375 \nQ 47.125 39.59375 43.09375 43.984375 \nQ 39.0625 48.390625 32.421875 48.390625 \nQ 24.90625 48.390625 20.390625 44.140625 \nQ 15.875 39.890625 15.1875 32.171875 \nz\n\" id=\"DejaVuSans-101\"/>\n      <path d=\"M 18.109375 8.203125 \nL 18.109375 -20.796875 \nL 9.078125 -20.796875 \nL 9.078125 54.6875 \nL 18.109375 54.6875 \nL 18.109375 46.390625 \nQ 20.953125 51.265625 25.265625 53.625 \nQ 29.59375 56 35.59375 56 \nQ 45.5625 56 51.78125 48.09375 \nQ 58.015625 40.1875 58.015625 27.296875 \nQ 58.015625 14.40625 51.78125 6.484375 \nQ 45.5625 -1.421875 35.59375 -1.421875 \nQ 29.59375 -1.421875 25.265625 0.953125 \nQ 20.953125 3.328125 18.109375 8.203125 \nz\nM 48.6875 27.296875 \nQ 48.6875 37.203125 44.609375 42.84375 \nQ 40.53125 48.484375 33.40625 48.484375 \nQ 26.265625 48.484375 22.1875 42.84375 \nQ 18.109375 37.203125 18.109375 27.296875 \nQ 18.109375 17.390625 22.1875 11.75 \nQ 26.265625 6.109375 33.40625 6.109375 \nQ 40.53125 6.109375 44.609375 11.75 \nQ 48.6875 17.390625 48.6875 27.296875 \nz\n\" id=\"DejaVuSans-112\"/>\n      <path d=\"M 30.609375 48.390625 \nQ 23.390625 48.390625 19.1875 42.75 \nQ 14.984375 37.109375 14.984375 27.296875 \nQ 14.984375 17.484375 19.15625 11.84375 \nQ 23.34375 6.203125 30.609375 6.203125 \nQ 37.796875 6.203125 41.984375 11.859375 \nQ 46.1875 17.53125 46.1875 27.296875 \nQ 46.1875 37.015625 41.984375 42.703125 \nQ 37.796875 48.390625 30.609375 48.390625 \nz\nM 30.609375 56 \nQ 42.328125 56 49.015625 48.375 \nQ 55.71875 40.765625 55.71875 27.296875 \nQ 55.71875 13.875 49.015625 6.21875 \nQ 42.328125 -1.421875 30.609375 -1.421875 \nQ 18.84375 -1.421875 12.171875 6.21875 \nQ 5.515625 13.875 5.515625 27.296875 \nQ 5.515625 40.765625 12.171875 48.375 \nQ 18.84375 56 30.609375 56 \nz\n\" id=\"DejaVuSans-111\"/>\n      <path d=\"M 48.78125 52.59375 \nL 48.78125 44.1875 \nQ 44.96875 46.296875 41.140625 47.34375 \nQ 37.3125 48.390625 33.40625 48.390625 \nQ 24.65625 48.390625 19.8125 42.84375 \nQ 14.984375 37.3125 14.984375 27.296875 \nQ 14.984375 17.28125 19.8125 11.734375 \nQ 24.65625 6.203125 33.40625 6.203125 \nQ 37.3125 6.203125 41.140625 7.25 \nQ 44.96875 8.296875 48.78125 10.40625 \nL 48.78125 2.09375 \nQ 45.015625 0.34375 40.984375 -0.53125 \nQ 36.96875 -1.421875 32.421875 -1.421875 \nQ 20.0625 -1.421875 12.78125 6.34375 \nQ 5.515625 14.109375 5.515625 27.296875 \nQ 5.515625 40.671875 12.859375 48.328125 \nQ 20.21875 56 33.015625 56 \nQ 37.15625 56 41.109375 55.140625 \nQ 45.0625 54.296875 48.78125 52.59375 \nz\n\" id=\"DejaVuSans-99\"/>\n      <path d=\"M 54.890625 33.015625 \nL 54.890625 0 \nL 45.90625 0 \nL 45.90625 32.71875 \nQ 45.90625 40.484375 42.875 44.328125 \nQ 39.84375 48.1875 33.796875 48.1875 \nQ 26.515625 48.1875 22.3125 43.546875 \nQ 18.109375 38.921875 18.109375 30.90625 \nL 18.109375 0 \nL 9.078125 0 \nL 9.078125 75.984375 \nL 18.109375 75.984375 \nL 18.109375 46.1875 \nQ 21.34375 51.125 25.703125 53.5625 \nQ 30.078125 56 35.796875 56 \nQ 45.21875 56 50.046875 50.171875 \nQ 54.890625 44.34375 54.890625 33.015625 \nz\n\" id=\"DejaVuSans-104\"/>\n     </defs>\n     <g transform=\"translate(112.525 171.376563)scale(0.1 -0.1)\">\n      <use xlink:href=\"#DejaVuSans-101\"/>\n      <use x=\"61.523438\" xlink:href=\"#DejaVuSans-112\"/>\n      <use x=\"125\" xlink:href=\"#DejaVuSans-111\"/>\n      <use x=\"186.181641\" xlink:href=\"#DejaVuSans-99\"/>\n      <use x=\"241.162109\" xlink:href=\"#DejaVuSans-104\"/>\n     </g>\n    </g>\n   </g>\n   <g id=\"matplotlib.axis_2\">\n    <g id=\"ytick_1\">\n     <g id=\"line2d_7\">\n      <defs>\n       <path d=\"M 0 0 \nL -3.5 0 \n\" id=\"m90888d8924\" style=\"stroke:#000000;stroke-width:0.8;\"/>\n      </defs>\n      <g>\n       <use style=\"stroke:#000000;stroke-width:0.8;\" x=\"30.103125\" xlink:href=\"#m90888d8924\" y=\"122.347973\"/>\n      </g>\n     </g>\n     <g id=\"text_8\">\n      <!-- 0.5 -->\n      <defs>\n       <path d=\"M 10.6875 12.40625 \nL 21 12.40625 \nL 21 0 \nL 10.6875 0 \nz\n\" id=\"DejaVuSans-46\"/>\n       <path d=\"M 10.796875 72.90625 \nL 49.515625 72.90625 \nL 49.515625 64.59375 \nL 19.828125 64.59375 \nL 19.828125 46.734375 \nQ 21.96875 47.46875 24.109375 47.828125 \nQ 26.265625 48.1875 28.421875 48.1875 \nQ 40.625 48.1875 47.75 41.5 \nQ 54.890625 34.8125 54.890625 23.390625 \nQ 54.890625 11.625 47.5625 5.09375 \nQ 40.234375 -1.421875 26.90625 -1.421875 \nQ 22.3125 -1.421875 17.546875 -0.640625 \nQ 12.796875 0.140625 7.71875 1.703125 \nL 7.71875 11.625 \nQ 12.109375 9.234375 16.796875 8.0625 \nQ 21.484375 6.890625 26.703125 6.890625 \nQ 35.15625 6.890625 40.078125 11.328125 \nQ 45.015625 15.765625 45.015625 23.390625 \nQ 45.015625 31 40.078125 35.4375 \nQ 35.15625 39.890625 26.703125 39.890625 \nQ 22.75 39.890625 18.8125 39.015625 \nQ 14.890625 38.140625 10.796875 36.28125 \nz\n\" id=\"DejaVuSans-53\"/>\n      </defs>\n      <g transform=\"translate(7.2 126.147191)scale(0.1 -0.1)\">\n       <use xlink:href=\"#DejaVuSans-48\"/>\n       <use x=\"63.623047\" xlink:href=\"#DejaVuSans-46\"/>\n       <use x=\"95.410156\" xlink:href=\"#DejaVuSans-53\"/>\n      </g>\n     </g>\n    </g>\n    <g id=\"ytick_2\">\n     <g id=\"line2d_8\">\n      <g>\n       <use style=\"stroke:#000000;stroke-width:0.8;\" x=\"30.103125\" xlink:href=\"#m90888d8924\" y=\"96.622613\"/>\n      </g>\n     </g>\n     <g id=\"text_9\">\n      <!-- 0.6 -->\n      <g transform=\"translate(7.2 100.421832)scale(0.1 -0.1)\">\n       <use xlink:href=\"#DejaVuSans-48\"/>\n       <use x=\"63.623047\" xlink:href=\"#DejaVuSans-46\"/>\n       <use x=\"95.410156\" xlink:href=\"#DejaVuSans-54\"/>\n      </g>\n     </g>\n    </g>\n    <g id=\"ytick_3\">\n     <g id=\"line2d_9\">\n      <g>\n       <use style=\"stroke:#000000;stroke-width:0.8;\" x=\"30.103125\" xlink:href=\"#m90888d8924\" y=\"70.897254\"/>\n      </g>\n     </g>\n     <g id=\"text_10\">\n      <!-- 0.7 -->\n      <defs>\n       <path d=\"M 8.203125 72.90625 \nL 55.078125 72.90625 \nL 55.078125 68.703125 \nL 28.609375 0 \nL 18.3125 0 \nL 43.21875 64.59375 \nL 8.203125 64.59375 \nz\n\" id=\"DejaVuSans-55\"/>\n      </defs>\n      <g transform=\"translate(7.2 74.696473)scale(0.1 -0.1)\">\n       <use xlink:href=\"#DejaVuSans-48\"/>\n       <use x=\"63.623047\" xlink:href=\"#DejaVuSans-46\"/>\n       <use x=\"95.410156\" xlink:href=\"#DejaVuSans-55\"/>\n      </g>\n     </g>\n    </g>\n    <g id=\"ytick_4\">\n     <g id=\"line2d_10\">\n      <g>\n       <use style=\"stroke:#000000;stroke-width:0.8;\" x=\"30.103125\" xlink:href=\"#m90888d8924\" y=\"45.171895\"/>\n      </g>\n     </g>\n     <g id=\"text_11\">\n      <!-- 0.8 -->\n      <g transform=\"translate(7.2 48.971114)scale(0.1 -0.1)\">\n       <use xlink:href=\"#DejaVuSans-48\"/>\n       <use x=\"63.623047\" xlink:href=\"#DejaVuSans-46\"/>\n       <use x=\"95.410156\" xlink:href=\"#DejaVuSans-56\"/>\n      </g>\n     </g>\n    </g>\n    <g id=\"ytick_5\">\n     <g id=\"line2d_11\">\n      <g>\n       <use style=\"stroke:#000000;stroke-width:0.8;\" x=\"30.103125\" xlink:href=\"#m90888d8924\" y=\"19.446536\"/>\n      </g>\n     </g>\n     <g id=\"text_12\">\n      <!-- 0.9 -->\n      <defs>\n       <path d=\"M 10.984375 1.515625 \nL 10.984375 10.5 \nQ 14.703125 8.734375 18.5 7.8125 \nQ 22.3125 6.890625 25.984375 6.890625 \nQ 35.75 6.890625 40.890625 13.453125 \nQ 46.046875 20.015625 46.78125 33.40625 \nQ 43.953125 29.203125 39.59375 26.953125 \nQ 35.25 24.703125 29.984375 24.703125 \nQ 19.046875 24.703125 12.671875 31.3125 \nQ 6.296875 37.9375 6.296875 49.421875 \nQ 6.296875 60.640625 12.9375 67.421875 \nQ 19.578125 74.21875 30.609375 74.21875 \nQ 43.265625 74.21875 49.921875 64.515625 \nQ 56.59375 54.828125 56.59375 36.375 \nQ 56.59375 19.140625 48.40625 8.859375 \nQ 40.234375 -1.421875 26.421875 -1.421875 \nQ 22.703125 -1.421875 18.890625 -0.6875 \nQ 15.09375 0.046875 10.984375 1.515625 \nz\nM 30.609375 32.421875 \nQ 37.25 32.421875 41.125 36.953125 \nQ 45.015625 41.5 45.015625 49.421875 \nQ 45.015625 57.28125 41.125 61.84375 \nQ 37.25 66.40625 30.609375 66.40625 \nQ 23.96875 66.40625 20.09375 61.84375 \nQ 16.21875 57.28125 16.21875 49.421875 \nQ 16.21875 41.5 20.09375 36.953125 \nQ 23.96875 32.421875 30.609375 32.421875 \nz\n\" id=\"DejaVuSans-57\"/>\n      </defs>\n      <g transform=\"translate(7.2 23.245755)scale(0.1 -0.1)\">\n       <use xlink:href=\"#DejaVuSans-48\"/>\n       <use x=\"63.623047\" xlink:href=\"#DejaVuSans-46\"/>\n       <use x=\"95.410156\" xlink:href=\"#DejaVuSans-57\"/>\n      </g>\n     </g>\n    </g>\n   </g>\n   <g id=\"line2d_12\">\n    <path clip-path=\"url(#p5d7f172fa4)\" d=\"M 34.923295 13.377273 \n\" style=\"fill:none;stroke:#1f77b4;stroke-linecap:square;stroke-width:1.5;\"/>\n   </g>\n   <g id=\"line2d_13\">\n    <path clip-path=\"url(#p5d7f172fa4)\" d=\"M 34.923295 13.377273 \nL 44.646742 83.916819 \n\" style=\"fill:none;stroke:#1f77b4;stroke-linecap:square;stroke-width:1.5;\"/>\n   </g>\n   <g id=\"line2d_14\">\n    <path clip-path=\"url(#p5d7f172fa4)\" d=\"M 34.923295 13.377273 \nL 44.646742 83.916819 \n\" style=\"fill:none;stroke:#1f77b4;stroke-linecap:square;stroke-width:1.5;\"/>\n   </g>\n   <g id=\"line2d_15\">\n    <path clip-path=\"url(#p5d7f172fa4)\" d=\"M 49.633125 88.661148 \n\" style=\"fill:none;stroke:#ff7f0e;stroke-dasharray:5.55,2.4;stroke-dashoffset:0;stroke-width:1.5;\"/>\n   </g>\n   <g id=\"line2d_16\"/>\n   <g id=\"line2d_17\">\n    <path clip-path=\"url(#p5d7f172fa4)\" d=\"M 34.923295 13.377273 \nL 44.646742 83.916819 \n\" style=\"fill:none;stroke:#1f77b4;stroke-linecap:square;stroke-width:1.5;\"/>\n   </g>\n   <g id=\"line2d_18\">\n    <path clip-path=\"url(#p5d7f172fa4)\" d=\"M 49.633125 88.661148 \n\" style=\"fill:none;stroke:#ff7f0e;stroke-dasharray:5.55,2.4;stroke-dashoffset:0;stroke-width:1.5;\"/>\n   </g>\n   <g id=\"line2d_19\">\n    <path clip-path=\"url(#p5d7f172fa4)\" d=\"M 49.633125 48.086096 \n\" style=\"fill:none;stroke:#2ca02c;stroke-dasharray:9.6,2.4,1.5,2.4;stroke-dashoffset:0;stroke-width:1.5;\"/>\n   </g>\n   <g id=\"line2d_20\">\n    <path clip-path=\"url(#p5d7f172fa4)\" d=\"M 34.923295 13.377273 \nL 44.646742 83.916819 \nL 54.370189 100.428735 \n\" style=\"fill:none;stroke:#1f77b4;stroke-linecap:square;stroke-width:1.5;\"/>\n   </g>\n   <g id=\"line2d_21\">\n    <path clip-path=\"url(#p5d7f172fa4)\" d=\"M 49.633125 88.661148 \n\" style=\"fill:none;stroke:#ff7f0e;stroke-dasharray:5.55,2.4;stroke-dashoffset:0;stroke-width:1.5;\"/>\n   </g>\n   <g id=\"line2d_22\">\n    <path clip-path=\"url(#p5d7f172fa4)\" d=\"M 49.633125 48.086096 \n\" style=\"fill:none;stroke:#2ca02c;stroke-dasharray:9.6,2.4,1.5,2.4;stroke-dashoffset:0;stroke-width:1.5;\"/>\n   </g>\n   <g id=\"line2d_23\">\n    <path clip-path=\"url(#p5d7f172fa4)\" d=\"M 34.923295 13.377273 \nL 44.646742 83.916819 \nL 54.370189 100.428735 \nL 64.093636 108.000806 \n\" style=\"fill:none;stroke:#1f77b4;stroke-linecap:square;stroke-width:1.5;\"/>\n   </g>\n   <g id=\"line2d_24\">\n    <path clip-path=\"url(#p5d7f172fa4)\" d=\"M 49.633125 88.661148 \n\" style=\"fill:none;stroke:#ff7f0e;stroke-dasharray:5.55,2.4;stroke-dashoffset:0;stroke-width:1.5;\"/>\n   </g>\n   <g id=\"line2d_25\">\n    <path clip-path=\"url(#p5d7f172fa4)\" d=\"M 49.633125 48.086096 \n\" style=\"fill:none;stroke:#2ca02c;stroke-dasharray:9.6,2.4,1.5,2.4;stroke-dashoffset:0;stroke-width:1.5;\"/>\n   </g>\n   <g id=\"line2d_26\">\n    <path clip-path=\"url(#p5d7f172fa4)\" d=\"M 34.923295 13.377273 \nL 44.646742 83.916819 \nL 54.370189 100.428735 \nL 64.093636 108.000806 \n\" style=\"fill:none;stroke:#1f77b4;stroke-linecap:square;stroke-width:1.5;\"/>\n   </g>\n   <g id=\"line2d_27\">\n    <path clip-path=\"url(#p5d7f172fa4)\" d=\"M 49.633125 88.661148 \nL 69.163125 106.694559 \n\" style=\"fill:none;stroke:#ff7f0e;stroke-dasharray:5.55,2.4;stroke-dashoffset:0;stroke-width:1.5;\"/>\n   </g>\n   <g id=\"line2d_28\">\n    <path clip-path=\"url(#p5d7f172fa4)\" d=\"M 49.633125 48.086096 \n\" style=\"fill:none;stroke:#2ca02c;stroke-dasharray:9.6,2.4,1.5,2.4;stroke-dashoffset:0;stroke-width:1.5;\"/>\n   </g>\n   <g id=\"line2d_29\">\n    <path clip-path=\"url(#p5d7f172fa4)\" d=\"M 34.923295 13.377273 \nL 44.646742 83.916819 \nL 54.370189 100.428735 \nL 64.093636 108.000806 \n\" style=\"fill:none;stroke:#1f77b4;stroke-linecap:square;stroke-width:1.5;\"/>\n   </g>\n   <g id=\"line2d_30\">\n    <path clip-path=\"url(#p5d7f172fa4)\" d=\"M 49.633125 88.661148 \nL 69.163125 106.694559 \n\" style=\"fill:none;stroke:#ff7f0e;stroke-dasharray:5.55,2.4;stroke-dashoffset:0;stroke-width:1.5;\"/>\n   </g>\n   <g id=\"line2d_31\">\n    <path clip-path=\"url(#p5d7f172fa4)\" d=\"M 49.633125 48.086096 \nL 69.163125 42.860632 \n\" style=\"fill:none;stroke:#2ca02c;stroke-dasharray:9.6,2.4,1.5,2.4;stroke-dashoffset:0;stroke-width:1.5;\"/>\n   </g>\n   <g id=\"line2d_32\">\n    <path clip-path=\"url(#p5d7f172fa4)\" d=\"M 34.923295 13.377273 \nL 44.646742 83.916819 \nL 54.370189 100.428735 \nL 64.093636 108.000806 \nL 73.817082 114.368773 \n\" style=\"fill:none;stroke:#1f77b4;stroke-linecap:square;stroke-width:1.5;\"/>\n   </g>\n   <g id=\"line2d_33\">\n    <path clip-path=\"url(#p5d7f172fa4)\" d=\"M 49.633125 88.661148 \nL 69.163125 106.694559 \n\" style=\"fill:none;stroke:#ff7f0e;stroke-dasharray:5.55,2.4;stroke-dashoffset:0;stroke-width:1.5;\"/>\n   </g>\n   <g id=\"line2d_34\">\n    <path clip-path=\"url(#p5d7f172fa4)\" d=\"M 49.633125 48.086096 \nL 69.163125 42.860632 \n\" style=\"fill:none;stroke:#2ca02c;stroke-dasharray:9.6,2.4,1.5,2.4;stroke-dashoffset:0;stroke-width:1.5;\"/>\n   </g>\n   <g id=\"line2d_35\">\n    <path clip-path=\"url(#p5d7f172fa4)\" d=\"M 34.923295 13.377273 \nL 44.646742 83.916819 \nL 54.370189 100.428735 \nL 64.093636 108.000806 \nL 73.817082 114.368773 \nL 83.540529 117.35646 \n\" style=\"fill:none;stroke:#1f77b4;stroke-linecap:square;stroke-width:1.5;\"/>\n   </g>\n   <g id=\"line2d_36\">\n    <path clip-path=\"url(#p5d7f172fa4)\" d=\"M 49.633125 88.661148 \nL 69.163125 106.694559 \n\" style=\"fill:none;stroke:#ff7f0e;stroke-dasharray:5.55,2.4;stroke-dashoffset:0;stroke-width:1.5;\"/>\n   </g>\n   <g id=\"line2d_37\">\n    <path clip-path=\"url(#p5d7f172fa4)\" d=\"M 49.633125 48.086096 \nL 69.163125 42.860632 \n\" style=\"fill:none;stroke:#2ca02c;stroke-dasharray:9.6,2.4,1.5,2.4;stroke-dashoffset:0;stroke-width:1.5;\"/>\n   </g>\n   <g id=\"line2d_38\">\n    <path clip-path=\"url(#p5d7f172fa4)\" d=\"M 34.923295 13.377273 \nL 44.646742 83.916819 \nL 54.370189 100.428735 \nL 64.093636 108.000806 \nL 73.817082 114.368773 \nL 83.540529 117.35646 \n\" style=\"fill:none;stroke:#1f77b4;stroke-linecap:square;stroke-width:1.5;\"/>\n   </g>\n   <g id=\"line2d_39\">\n    <path clip-path=\"url(#p5d7f172fa4)\" d=\"M 49.633125 88.661148 \nL 69.163125 106.694559 \nL 88.693125 104.239971 \n\" style=\"fill:none;stroke:#ff7f0e;stroke-dasharray:5.55,2.4;stroke-dashoffset:0;stroke-width:1.5;\"/>\n   </g>\n   <g id=\"line2d_40\">\n    <path clip-path=\"url(#p5d7f172fa4)\" d=\"M 49.633125 48.086096 \nL 69.163125 42.860632 \n\" style=\"fill:none;stroke:#2ca02c;stroke-dasharray:9.6,2.4,1.5,2.4;stroke-dashoffset:0;stroke-width:1.5;\"/>\n   </g>\n   <g id=\"line2d_41\">\n    <path clip-path=\"url(#p5d7f172fa4)\" d=\"M 34.923295 13.377273 \nL 44.646742 83.916819 \nL 54.370189 100.428735 \nL 64.093636 108.000806 \nL 73.817082 114.368773 \nL 83.540529 117.35646 \n\" style=\"fill:none;stroke:#1f77b4;stroke-linecap:square;stroke-width:1.5;\"/>\n   </g>\n   <g id=\"line2d_42\">\n    <path clip-path=\"url(#p5d7f172fa4)\" d=\"M 49.633125 88.661148 \nL 69.163125 106.694559 \nL 88.693125 104.239971 \n\" style=\"fill:none;stroke:#ff7f0e;stroke-dasharray:5.55,2.4;stroke-dashoffset:0;stroke-width:1.5;\"/>\n   </g>\n   <g id=\"line2d_43\">\n    <path clip-path=\"url(#p5d7f172fa4)\" d=\"M 49.633125 48.086096 \nL 69.163125 42.860632 \nL 88.693125 46.905342 \n\" style=\"fill:none;stroke:#2ca02c;stroke-dasharray:9.6,2.4,1.5,2.4;stroke-dashoffset:0;stroke-width:1.5;\"/>\n   </g>\n   <g id=\"line2d_44\">\n    <path clip-path=\"url(#p5d7f172fa4)\" d=\"M 34.923295 13.377273 \nL 44.646742 83.916819 \nL 54.370189 100.428735 \nL 64.093636 108.000806 \nL 73.817082 114.368773 \nL 83.540529 117.35646 \nL 93.263976 121.149682 \n\" style=\"fill:none;stroke:#1f77b4;stroke-linecap:square;stroke-width:1.5;\"/>\n   </g>\n   <g id=\"line2d_45\">\n    <path clip-path=\"url(#p5d7f172fa4)\" d=\"M 49.633125 88.661148 \nL 69.163125 106.694559 \nL 88.693125 104.239971 \n\" style=\"fill:none;stroke:#ff7f0e;stroke-dasharray:5.55,2.4;stroke-dashoffset:0;stroke-width:1.5;\"/>\n   </g>\n   <g id=\"line2d_46\">\n    <path clip-path=\"url(#p5d7f172fa4)\" d=\"M 49.633125 48.086096 \nL 69.163125 42.860632 \nL 88.693125 46.905342 \n\" style=\"fill:none;stroke:#2ca02c;stroke-dasharray:9.6,2.4,1.5,2.4;stroke-dashoffset:0;stroke-width:1.5;\"/>\n   </g>\n   <g id=\"line2d_47\">\n    <path clip-path=\"url(#p5d7f172fa4)\" d=\"M 34.923295 13.377273 \nL 44.646742 83.916819 \nL 54.370189 100.428735 \nL 64.093636 108.000806 \nL 73.817082 114.368773 \nL 83.540529 117.35646 \nL 93.263976 121.149682 \nL 102.987423 122.954333 \n\" style=\"fill:none;stroke:#1f77b4;stroke-linecap:square;stroke-width:1.5;\"/>\n   </g>\n   <g id=\"line2d_48\">\n    <path clip-path=\"url(#p5d7f172fa4)\" d=\"M 49.633125 88.661148 \nL 69.163125 106.694559 \nL 88.693125 104.239971 \n\" style=\"fill:none;stroke:#ff7f0e;stroke-dasharray:5.55,2.4;stroke-dashoffset:0;stroke-width:1.5;\"/>\n   </g>\n   <g id=\"line2d_49\">\n    <path clip-path=\"url(#p5d7f172fa4)\" d=\"M 49.633125 48.086096 \nL 69.163125 42.860632 \nL 88.693125 46.905342 \n\" style=\"fill:none;stroke:#2ca02c;stroke-dasharray:9.6,2.4,1.5,2.4;stroke-dashoffset:0;stroke-width:1.5;\"/>\n   </g>\n   <g id=\"line2d_50\">\n    <path clip-path=\"url(#p5d7f172fa4)\" d=\"M 34.923295 13.377273 \nL 44.646742 83.916819 \nL 54.370189 100.428735 \nL 64.093636 108.000806 \nL 73.817082 114.368773 \nL 83.540529 117.35646 \nL 93.263976 121.149682 \nL 102.987423 122.954333 \n\" style=\"fill:none;stroke:#1f77b4;stroke-linecap:square;stroke-width:1.5;\"/>\n   </g>\n   <g id=\"line2d_51\">\n    <path clip-path=\"url(#p5d7f172fa4)\" d=\"M 49.633125 88.661148 \nL 69.163125 106.694559 \nL 88.693125 104.239971 \nL 108.223125 119.210041 \n\" style=\"fill:none;stroke:#ff7f0e;stroke-dasharray:5.55,2.4;stroke-dashoffset:0;stroke-width:1.5;\"/>\n   </g>\n   <g id=\"line2d_52\">\n    <path clip-path=\"url(#p5d7f172fa4)\" d=\"M 49.633125 48.086096 \nL 69.163125 42.860632 \nL 88.693125 46.905342 \n\" style=\"fill:none;stroke:#2ca02c;stroke-dasharray:9.6,2.4,1.5,2.4;stroke-dashoffset:0;stroke-width:1.5;\"/>\n   </g>\n   <g id=\"line2d_53\">\n    <path clip-path=\"url(#p5d7f172fa4)\" d=\"M 34.923295 13.377273 \nL 44.646742 83.916819 \nL 54.370189 100.428735 \nL 64.093636 108.000806 \nL 73.817082 114.368773 \nL 83.540529 117.35646 \nL 93.263976 121.149682 \nL 102.987423 122.954333 \n\" style=\"fill:none;stroke:#1f77b4;stroke-linecap:square;stroke-width:1.5;\"/>\n   </g>\n   <g id=\"line2d_54\">\n    <path clip-path=\"url(#p5d7f172fa4)\" d=\"M 49.633125 88.661148 \nL 69.163125 106.694559 \nL 88.693125 104.239971 \nL 108.223125 119.210041 \n\" style=\"fill:none;stroke:#ff7f0e;stroke-dasharray:5.55,2.4;stroke-dashoffset:0;stroke-width:1.5;\"/>\n   </g>\n   <g id=\"line2d_55\">\n    <path clip-path=\"url(#p5d7f172fa4)\" d=\"M 49.633125 48.086096 \nL 69.163125 42.860632 \nL 88.693125 46.905342 \nL 108.223125 38.539576 \n\" style=\"fill:none;stroke:#2ca02c;stroke-dasharray:9.6,2.4,1.5,2.4;stroke-dashoffset:0;stroke-width:1.5;\"/>\n   </g>\n   <g id=\"line2d_56\">\n    <path clip-path=\"url(#p5d7f172fa4)\" d=\"M 34.923295 13.377273 \nL 44.646742 83.916819 \nL 54.370189 100.428735 \nL 64.093636 108.000806 \nL 73.817082 114.368773 \nL 83.540529 117.35646 \nL 93.263976 121.149682 \nL 102.987423 122.954333 \nL 112.71087 125.633116 \n\" style=\"fill:none;stroke:#1f77b4;stroke-linecap:square;stroke-width:1.5;\"/>\n   </g>\n   <g id=\"line2d_57\">\n    <path clip-path=\"url(#p5d7f172fa4)\" d=\"M 49.633125 88.661148 \nL 69.163125 106.694559 \nL 88.693125 104.239971 \nL 108.223125 119.210041 \n\" style=\"fill:none;stroke:#ff7f0e;stroke-dasharray:5.55,2.4;stroke-dashoffset:0;stroke-width:1.5;\"/>\n   </g>\n   <g id=\"line2d_58\">\n    <path clip-path=\"url(#p5d7f172fa4)\" d=\"M 49.633125 48.086096 \nL 69.163125 42.860632 \nL 88.693125 46.905342 \nL 108.223125 38.539576 \n\" style=\"fill:none;stroke:#2ca02c;stroke-dasharray:9.6,2.4,1.5,2.4;stroke-dashoffset:0;stroke-width:1.5;\"/>\n   </g>\n   <g id=\"line2d_59\">\n    <path clip-path=\"url(#p5d7f172fa4)\" d=\"M 34.923295 13.377273 \nL 44.646742 83.916819 \nL 54.370189 100.428735 \nL 64.093636 108.000806 \nL 73.817082 114.368773 \nL 83.540529 117.35646 \nL 93.263976 121.149682 \nL 102.987423 122.954333 \nL 112.71087 125.633116 \nL 122.434316 126.303755 \n\" style=\"fill:none;stroke:#1f77b4;stroke-linecap:square;stroke-width:1.5;\"/>\n   </g>\n   <g id=\"line2d_60\">\n    <path clip-path=\"url(#p5d7f172fa4)\" d=\"M 49.633125 88.661148 \nL 69.163125 106.694559 \nL 88.693125 104.239971 \nL 108.223125 119.210041 \n\" style=\"fill:none;stroke:#ff7f0e;stroke-dasharray:5.55,2.4;stroke-dashoffset:0;stroke-width:1.5;\"/>\n   </g>\n   <g id=\"line2d_61\">\n    <path clip-path=\"url(#p5d7f172fa4)\" d=\"M 49.633125 48.086096 \nL 69.163125 42.860632 \nL 88.693125 46.905342 \nL 108.223125 38.539576 \n\" style=\"fill:none;stroke:#2ca02c;stroke-dasharray:9.6,2.4,1.5,2.4;stroke-dashoffset:0;stroke-width:1.5;\"/>\n   </g>\n   <g id=\"line2d_62\">\n    <path clip-path=\"url(#p5d7f172fa4)\" d=\"M 34.923295 13.377273 \nL 44.646742 83.916819 \nL 54.370189 100.428735 \nL 64.093636 108.000806 \nL 73.817082 114.368773 \nL 83.540529 117.35646 \nL 93.263976 121.149682 \nL 102.987423 122.954333 \nL 112.71087 125.633116 \nL 122.434316 126.303755 \n\" style=\"fill:none;stroke:#1f77b4;stroke-linecap:square;stroke-width:1.5;\"/>\n   </g>\n   <g id=\"line2d_63\">\n    <path clip-path=\"url(#p5d7f172fa4)\" d=\"M 49.633125 88.661148 \nL 69.163125 106.694559 \nL 88.693125 104.239971 \nL 108.223125 119.210041 \nL 127.753125 119.713906 \n\" style=\"fill:none;stroke:#ff7f0e;stroke-dasharray:5.55,2.4;stroke-dashoffset:0;stroke-width:1.5;\"/>\n   </g>\n   <g id=\"line2d_64\">\n    <path clip-path=\"url(#p5d7f172fa4)\" d=\"M 49.633125 48.086096 \nL 69.163125 42.860632 \nL 88.693125 46.905342 \nL 108.223125 38.539576 \n\" style=\"fill:none;stroke:#2ca02c;stroke-dasharray:9.6,2.4,1.5,2.4;stroke-dashoffset:0;stroke-width:1.5;\"/>\n   </g>\n   <g id=\"line2d_65\">\n    <path clip-path=\"url(#p5d7f172fa4)\" d=\"M 34.923295 13.377273 \nL 44.646742 83.916819 \nL 54.370189 100.428735 \nL 64.093636 108.000806 \nL 73.817082 114.368773 \nL 83.540529 117.35646 \nL 93.263976 121.149682 \nL 102.987423 122.954333 \nL 112.71087 125.633116 \nL 122.434316 126.303755 \n\" style=\"fill:none;stroke:#1f77b4;stroke-linecap:square;stroke-width:1.5;\"/>\n   </g>\n   <g id=\"line2d_66\">\n    <path clip-path=\"url(#p5d7f172fa4)\" d=\"M 49.633125 88.661148 \nL 69.163125 106.694559 \nL 88.693125 104.239971 \nL 108.223125 119.210041 \nL 127.753125 119.713906 \n\" style=\"fill:none;stroke:#ff7f0e;stroke-dasharray:5.55,2.4;stroke-dashoffset:0;stroke-width:1.5;\"/>\n   </g>\n   <g id=\"line2d_67\">\n    <path clip-path=\"url(#p5d7f172fa4)\" d=\"M 49.633125 48.086096 \nL 69.163125 42.860632 \nL 88.693125 46.905342 \nL 108.223125 38.539576 \nL 127.753125 39.067147 \n\" style=\"fill:none;stroke:#2ca02c;stroke-dasharray:9.6,2.4,1.5,2.4;stroke-dashoffset:0;stroke-width:1.5;\"/>\n   </g>\n   <g id=\"line2d_68\">\n    <path clip-path=\"url(#p5d7f172fa4)\" d=\"M 34.923295 13.377273 \nL 44.646742 83.916819 \nL 54.370189 100.428735 \nL 64.093636 108.000806 \nL 73.817082 114.368773 \nL 83.540529 117.35646 \nL 93.263976 121.149682 \nL 102.987423 122.954333 \nL 112.71087 125.633116 \nL 122.434316 126.303755 \nL 132.157763 129.17481 \n\" style=\"fill:none;stroke:#1f77b4;stroke-linecap:square;stroke-width:1.5;\"/>\n   </g>\n   <g id=\"line2d_69\">\n    <path clip-path=\"url(#p5d7f172fa4)\" d=\"M 49.633125 88.661148 \nL 69.163125 106.694559 \nL 88.693125 104.239971 \nL 108.223125 119.210041 \nL 127.753125 119.713906 \n\" style=\"fill:none;stroke:#ff7f0e;stroke-dasharray:5.55,2.4;stroke-dashoffset:0;stroke-width:1.5;\"/>\n   </g>\n   <g id=\"line2d_70\">\n    <path clip-path=\"url(#p5d7f172fa4)\" d=\"M 49.633125 48.086096 \nL 69.163125 42.860632 \nL 88.693125 46.905342 \nL 108.223125 38.539576 \nL 127.753125 39.067147 \n\" style=\"fill:none;stroke:#2ca02c;stroke-dasharray:9.6,2.4,1.5,2.4;stroke-dashoffset:0;stroke-width:1.5;\"/>\n   </g>\n   <g id=\"line2d_71\">\n    <path clip-path=\"url(#p5d7f172fa4)\" d=\"M 34.923295 13.377273 \nL 44.646742 83.916819 \nL 54.370189 100.428735 \nL 64.093636 108.000806 \nL 73.817082 114.368773 \nL 83.540529 117.35646 \nL 93.263976 121.149682 \nL 102.987423 122.954333 \nL 112.71087 125.633116 \nL 122.434316 126.303755 \nL 132.157763 129.17481 \nL 141.88121 129.35085 \n\" style=\"fill:none;stroke:#1f77b4;stroke-linecap:square;stroke-width:1.5;\"/>\n   </g>\n   <g id=\"line2d_72\">\n    <path clip-path=\"url(#p5d7f172fa4)\" d=\"M 49.633125 88.661148 \nL 69.163125 106.694559 \nL 88.693125 104.239971 \nL 108.223125 119.210041 \nL 127.753125 119.713906 \n\" style=\"fill:none;stroke:#ff7f0e;stroke-dasharray:5.55,2.4;stroke-dashoffset:0;stroke-width:1.5;\"/>\n   </g>\n   <g id=\"line2d_73\">\n    <path clip-path=\"url(#p5d7f172fa4)\" d=\"M 49.633125 48.086096 \nL 69.163125 42.860632 \nL 88.693125 46.905342 \nL 108.223125 38.539576 \nL 127.753125 39.067147 \n\" style=\"fill:none;stroke:#2ca02c;stroke-dasharray:9.6,2.4,1.5,2.4;stroke-dashoffset:0;stroke-width:1.5;\"/>\n   </g>\n   <g id=\"line2d_74\">\n    <path clip-path=\"url(#p5d7f172fa4)\" d=\"M 34.923295 13.377273 \nL 44.646742 83.916819 \nL 54.370189 100.428735 \nL 64.093636 108.000806 \nL 73.817082 114.368773 \nL 83.540529 117.35646 \nL 93.263976 121.149682 \nL 102.987423 122.954333 \nL 112.71087 125.633116 \nL 122.434316 126.303755 \nL 132.157763 129.17481 \nL 141.88121 129.35085 \n\" style=\"fill:none;stroke:#1f77b4;stroke-linecap:square;stroke-width:1.5;\"/>\n   </g>\n   <g id=\"line2d_75\">\n    <path clip-path=\"url(#p5d7f172fa4)\" d=\"M 49.633125 88.661148 \nL 69.163125 106.694559 \nL 88.693125 104.239971 \nL 108.223125 119.210041 \nL 127.753125 119.713906 \nL 147.283125 121.581363 \n\" style=\"fill:none;stroke:#ff7f0e;stroke-dasharray:5.55,2.4;stroke-dashoffset:0;stroke-width:1.5;\"/>\n   </g>\n   <g id=\"line2d_76\">\n    <path clip-path=\"url(#p5d7f172fa4)\" d=\"M 49.633125 48.086096 \nL 69.163125 42.860632 \nL 88.693125 46.905342 \nL 108.223125 38.539576 \nL 127.753125 39.067147 \n\" style=\"fill:none;stroke:#2ca02c;stroke-dasharray:9.6,2.4,1.5,2.4;stroke-dashoffset:0;stroke-width:1.5;\"/>\n   </g>\n   <g id=\"line2d_77\">\n    <path clip-path=\"url(#p5d7f172fa4)\" d=\"M 34.923295 13.377273 \nL 44.646742 83.916819 \nL 54.370189 100.428735 \nL 64.093636 108.000806 \nL 73.817082 114.368773 \nL 83.540529 117.35646 \nL 93.263976 121.149682 \nL 102.987423 122.954333 \nL 112.71087 125.633116 \nL 122.434316 126.303755 \nL 132.157763 129.17481 \nL 141.88121 129.35085 \n\" style=\"fill:none;stroke:#1f77b4;stroke-linecap:square;stroke-width:1.5;\"/>\n   </g>\n   <g id=\"line2d_78\">\n    <path clip-path=\"url(#p5d7f172fa4)\" d=\"M 49.633125 88.661148 \nL 69.163125 106.694559 \nL 88.693125 104.239971 \nL 108.223125 119.210041 \nL 127.753125 119.713906 \nL 147.283125 121.581363 \n\" style=\"fill:none;stroke:#ff7f0e;stroke-dasharray:5.55,2.4;stroke-dashoffset:0;stroke-width:1.5;\"/>\n   </g>\n   <g id=\"line2d_79\">\n    <path clip-path=\"url(#p5d7f172fa4)\" d=\"M 49.633125 48.086096 \nL 69.163125 42.860632 \nL 88.693125 46.905342 \nL 108.223125 38.539576 \nL 127.753125 39.067147 \nL 147.283125 39.971554 \n\" style=\"fill:none;stroke:#2ca02c;stroke-dasharray:9.6,2.4,1.5,2.4;stroke-dashoffset:0;stroke-width:1.5;\"/>\n   </g>\n   <g id=\"line2d_80\">\n    <path clip-path=\"url(#p5d7f172fa4)\" d=\"M 34.923295 13.377273 \nL 44.646742 83.916819 \nL 54.370189 100.428735 \nL 64.093636 108.000806 \nL 73.817082 114.368773 \nL 83.540529 117.35646 \nL 93.263976 121.149682 \nL 102.987423 122.954333 \nL 112.71087 125.633116 \nL 122.434316 126.303755 \nL 132.157763 129.17481 \nL 141.88121 129.35085 \nL 151.604657 131.457005 \n\" style=\"fill:none;stroke:#1f77b4;stroke-linecap:square;stroke-width:1.5;\"/>\n   </g>\n   <g id=\"line2d_81\">\n    <path clip-path=\"url(#p5d7f172fa4)\" d=\"M 49.633125 88.661148 \nL 69.163125 106.694559 \nL 88.693125 104.239971 \nL 108.223125 119.210041 \nL 127.753125 119.713906 \nL 147.283125 121.581363 \n\" style=\"fill:none;stroke:#ff7f0e;stroke-dasharray:5.55,2.4;stroke-dashoffset:0;stroke-width:1.5;\"/>\n   </g>\n   <g id=\"line2d_82\">\n    <path clip-path=\"url(#p5d7f172fa4)\" d=\"M 49.633125 48.086096 \nL 69.163125 42.860632 \nL 88.693125 46.905342 \nL 108.223125 38.539576 \nL 127.753125 39.067147 \nL 147.283125 39.971554 \n\" style=\"fill:none;stroke:#2ca02c;stroke-dasharray:9.6,2.4,1.5,2.4;stroke-dashoffset:0;stroke-width:1.5;\"/>\n   </g>\n   <g id=\"line2d_83\">\n    <path clip-path=\"url(#p5d7f172fa4)\" d=\"M 34.923295 13.377273 \nL 44.646742 83.916819 \nL 54.370189 100.428735 \nL 64.093636 108.000806 \nL 73.817082 114.368773 \nL 83.540529 117.35646 \nL 93.263976 121.149682 \nL 102.987423 122.954333 \nL 112.71087 125.633116 \nL 122.434316 126.303755 \nL 132.157763 129.17481 \nL 141.88121 129.35085 \nL 151.604657 131.457005 \nL 161.328104 131.610651 \n\" style=\"fill:none;stroke:#1f77b4;stroke-linecap:square;stroke-width:1.5;\"/>\n   </g>\n   <g id=\"line2d_84\">\n    <path clip-path=\"url(#p5d7f172fa4)\" d=\"M 49.633125 88.661148 \nL 69.163125 106.694559 \nL 88.693125 104.239971 \nL 108.223125 119.210041 \nL 127.753125 119.713906 \nL 147.283125 121.581363 \n\" style=\"fill:none;stroke:#ff7f0e;stroke-dasharray:5.55,2.4;stroke-dashoffset:0;stroke-width:1.5;\"/>\n   </g>\n   <g id=\"line2d_85\">\n    <path clip-path=\"url(#p5d7f172fa4)\" d=\"M 49.633125 48.086096 \nL 69.163125 42.860632 \nL 88.693125 46.905342 \nL 108.223125 38.539576 \nL 127.753125 39.067147 \nL 147.283125 39.971554 \n\" style=\"fill:none;stroke:#2ca02c;stroke-dasharray:9.6,2.4,1.5,2.4;stroke-dashoffset:0;stroke-width:1.5;\"/>\n   </g>\n   <g id=\"line2d_86\">\n    <path clip-path=\"url(#p5d7f172fa4)\" d=\"M 34.923295 13.377273 \nL 44.646742 83.916819 \nL 54.370189 100.428735 \nL 64.093636 108.000806 \nL 73.817082 114.368773 \nL 83.540529 117.35646 \nL 93.263976 121.149682 \nL 102.987423 122.954333 \nL 112.71087 125.633116 \nL 122.434316 126.303755 \nL 132.157763 129.17481 \nL 141.88121 129.35085 \nL 151.604657 131.457005 \nL 161.328104 131.610651 \n\" style=\"fill:none;stroke:#1f77b4;stroke-linecap:square;stroke-width:1.5;\"/>\n   </g>\n   <g id=\"line2d_87\">\n    <path clip-path=\"url(#p5d7f172fa4)\" d=\"M 49.633125 88.661148 \nL 69.163125 106.694559 \nL 88.693125 104.239971 \nL 108.223125 119.210041 \nL 127.753125 119.713906 \nL 147.283125 121.581363 \nL 166.813125 121.372684 \n\" style=\"fill:none;stroke:#ff7f0e;stroke-dasharray:5.55,2.4;stroke-dashoffset:0;stroke-width:1.5;\"/>\n   </g>\n   <g id=\"line2d_88\">\n    <path clip-path=\"url(#p5d7f172fa4)\" d=\"M 49.633125 48.086096 \nL 69.163125 42.860632 \nL 88.693125 46.905342 \nL 108.223125 38.539576 \nL 127.753125 39.067147 \nL 147.283125 39.971554 \n\" style=\"fill:none;stroke:#2ca02c;stroke-dasharray:9.6,2.4,1.5,2.4;stroke-dashoffset:0;stroke-width:1.5;\"/>\n   </g>\n   <g id=\"line2d_89\">\n    <path clip-path=\"url(#p5d7f172fa4)\" d=\"M 34.923295 13.377273 \nL 44.646742 83.916819 \nL 54.370189 100.428735 \nL 64.093636 108.000806 \nL 73.817082 114.368773 \nL 83.540529 117.35646 \nL 93.263976 121.149682 \nL 102.987423 122.954333 \nL 112.71087 125.633116 \nL 122.434316 126.303755 \nL 132.157763 129.17481 \nL 141.88121 129.35085 \nL 151.604657 131.457005 \nL 161.328104 131.610651 \n\" style=\"fill:none;stroke:#1f77b4;stroke-linecap:square;stroke-width:1.5;\"/>\n   </g>\n   <g id=\"line2d_90\">\n    <path clip-path=\"url(#p5d7f172fa4)\" d=\"M 49.633125 88.661148 \nL 69.163125 106.694559 \nL 88.693125 104.239971 \nL 108.223125 119.210041 \nL 127.753125 119.713906 \nL 147.283125 121.581363 \nL 166.813125 121.372684 \n\" style=\"fill:none;stroke:#ff7f0e;stroke-dasharray:5.55,2.4;stroke-dashoffset:0;stroke-width:1.5;\"/>\n   </g>\n   <g id=\"line2d_91\">\n    <path clip-path=\"url(#p5d7f172fa4)\" d=\"M 49.633125 48.086096 \nL 69.163125 42.860632 \nL 88.693125 46.905342 \nL 108.223125 38.539576 \nL 127.753125 39.067147 \nL 147.283125 39.971554 \nL 166.813125 39.192759 \n\" style=\"fill:none;stroke:#2ca02c;stroke-dasharray:9.6,2.4,1.5,2.4;stroke-dashoffset:0;stroke-width:1.5;\"/>\n   </g>\n   <g id=\"line2d_92\">\n    <path clip-path=\"url(#p5d7f172fa4)\" d=\"M 34.923295 13.377273 \nL 44.646742 83.916819 \nL 54.370189 100.428735 \nL 64.093636 108.000806 \nL 73.817082 114.368773 \nL 83.540529 117.35646 \nL 93.263976 121.149682 \nL 102.987423 122.954333 \nL 112.71087 125.633116 \nL 122.434316 126.303755 \nL 132.157763 129.17481 \nL 141.88121 129.35085 \nL 151.604657 131.457005 \nL 161.328104 131.610651 \nL 171.051551 131.963499 \n\" style=\"fill:none;stroke:#1f77b4;stroke-linecap:square;stroke-width:1.5;\"/>\n   </g>\n   <g id=\"line2d_93\">\n    <path clip-path=\"url(#p5d7f172fa4)\" d=\"M 49.633125 88.661148 \nL 69.163125 106.694559 \nL 88.693125 104.239971 \nL 108.223125 119.210041 \nL 127.753125 119.713906 \nL 147.283125 121.581363 \nL 166.813125 121.372684 \n\" style=\"fill:none;stroke:#ff7f0e;stroke-dasharray:5.55,2.4;stroke-dashoffset:0;stroke-width:1.5;\"/>\n   </g>\n   <g id=\"line2d_94\">\n    <path clip-path=\"url(#p5d7f172fa4)\" d=\"M 49.633125 48.086096 \nL 69.163125 42.860632 \nL 88.693125 46.905342 \nL 108.223125 38.539576 \nL 127.753125 39.067147 \nL 147.283125 39.971554 \nL 166.813125 39.192759 \n\" style=\"fill:none;stroke:#2ca02c;stroke-dasharray:9.6,2.4,1.5,2.4;stroke-dashoffset:0;stroke-width:1.5;\"/>\n   </g>\n   <g id=\"line2d_95\">\n    <path clip-path=\"url(#p5d7f172fa4)\" d=\"M 34.923295 13.377273 \nL 44.646742 83.916819 \nL 54.370189 100.428735 \nL 64.093636 108.000806 \nL 73.817082 114.368773 \nL 83.540529 117.35646 \nL 93.263976 121.149682 \nL 102.987423 122.954333 \nL 112.71087 125.633116 \nL 122.434316 126.303755 \nL 132.157763 129.17481 \nL 141.88121 129.35085 \nL 151.604657 131.457005 \nL 161.328104 131.610651 \nL 171.051551 131.963499 \nL 180.774997 133.668526 \n\" style=\"fill:none;stroke:#1f77b4;stroke-linecap:square;stroke-width:1.5;\"/>\n   </g>\n   <g id=\"line2d_96\">\n    <path clip-path=\"url(#p5d7f172fa4)\" d=\"M 49.633125 88.661148 \nL 69.163125 106.694559 \nL 88.693125 104.239971 \nL 108.223125 119.210041 \nL 127.753125 119.713906 \nL 147.283125 121.581363 \nL 166.813125 121.372684 \n\" style=\"fill:none;stroke:#ff7f0e;stroke-dasharray:5.55,2.4;stroke-dashoffset:0;stroke-width:1.5;\"/>\n   </g>\n   <g id=\"line2d_97\">\n    <path clip-path=\"url(#p5d7f172fa4)\" d=\"M 49.633125 48.086096 \nL 69.163125 42.860632 \nL 88.693125 46.905342 \nL 108.223125 38.539576 \nL 127.753125 39.067147 \nL 147.283125 39.971554 \nL 166.813125 39.192759 \n\" style=\"fill:none;stroke:#2ca02c;stroke-dasharray:9.6,2.4,1.5,2.4;stroke-dashoffset:0;stroke-width:1.5;\"/>\n   </g>\n   <g id=\"line2d_98\">\n    <path clip-path=\"url(#p5d7f172fa4)\" d=\"M 34.923295 13.377273 \nL 44.646742 83.916819 \nL 54.370189 100.428735 \nL 64.093636 108.000806 \nL 73.817082 114.368773 \nL 83.540529 117.35646 \nL 93.263976 121.149682 \nL 102.987423 122.954333 \nL 112.71087 125.633116 \nL 122.434316 126.303755 \nL 132.157763 129.17481 \nL 141.88121 129.35085 \nL 151.604657 131.457005 \nL 161.328104 131.610651 \nL 171.051551 131.963499 \nL 180.774997 133.668526 \n\" style=\"fill:none;stroke:#1f77b4;stroke-linecap:square;stroke-width:1.5;\"/>\n   </g>\n   <g id=\"line2d_99\">\n    <path clip-path=\"url(#p5d7f172fa4)\" d=\"M 49.633125 88.661148 \nL 69.163125 106.694559 \nL 88.693125 104.239971 \nL 108.223125 119.210041 \nL 127.753125 119.713906 \nL 147.283125 121.581363 \nL 166.813125 121.372684 \nL 186.343125 120.257483 \n\" style=\"fill:none;stroke:#ff7f0e;stroke-dasharray:5.55,2.4;stroke-dashoffset:0;stroke-width:1.5;\"/>\n   </g>\n   <g id=\"line2d_100\">\n    <path clip-path=\"url(#p5d7f172fa4)\" d=\"M 49.633125 48.086096 \nL 69.163125 42.860632 \nL 88.693125 46.905342 \nL 108.223125 38.539576 \nL 127.753125 39.067147 \nL 147.283125 39.971554 \nL 166.813125 39.192759 \n\" style=\"fill:none;stroke:#2ca02c;stroke-dasharray:9.6,2.4,1.5,2.4;stroke-dashoffset:0;stroke-width:1.5;\"/>\n   </g>\n   <g id=\"line2d_101\">\n    <path clip-path=\"url(#p5d7f172fa4)\" d=\"M 34.923295 13.377273 \nL 44.646742 83.916819 \nL 54.370189 100.428735 \nL 64.093636 108.000806 \nL 73.817082 114.368773 \nL 83.540529 117.35646 \nL 93.263976 121.149682 \nL 102.987423 122.954333 \nL 112.71087 125.633116 \nL 122.434316 126.303755 \nL 132.157763 129.17481 \nL 141.88121 129.35085 \nL 151.604657 131.457005 \nL 161.328104 131.610651 \nL 171.051551 131.963499 \nL 180.774997 133.668526 \n\" style=\"fill:none;stroke:#1f77b4;stroke-linecap:square;stroke-width:1.5;\"/>\n   </g>\n   <g id=\"line2d_102\">\n    <path clip-path=\"url(#p5d7f172fa4)\" d=\"M 49.633125 88.661148 \nL 69.163125 106.694559 \nL 88.693125 104.239971 \nL 108.223125 119.210041 \nL 127.753125 119.713906 \nL 147.283125 121.581363 \nL 166.813125 121.372684 \nL 186.343125 120.257483 \n\" style=\"fill:none;stroke:#ff7f0e;stroke-dasharray:5.55,2.4;stroke-dashoffset:0;stroke-width:1.5;\"/>\n   </g>\n   <g id=\"line2d_103\">\n    <path clip-path=\"url(#p5d7f172fa4)\" d=\"M 49.633125 48.086096 \nL 69.163125 42.860632 \nL 88.693125 46.905342 \nL 108.223125 38.539576 \nL 127.753125 39.067147 \nL 147.283125 39.971554 \nL 166.813125 39.192759 \nL 186.343125 40.021799 \n\" style=\"fill:none;stroke:#2ca02c;stroke-dasharray:9.6,2.4,1.5,2.4;stroke-dashoffset:0;stroke-width:1.5;\"/>\n   </g>\n   <g id=\"line2d_104\">\n    <path clip-path=\"url(#p5d7f172fa4)\" d=\"M 34.923295 13.377273 \nL 44.646742 83.916819 \nL 54.370189 100.428735 \nL 64.093636 108.000806 \nL 73.817082 114.368773 \nL 83.540529 117.35646 \nL 93.263976 121.149682 \nL 102.987423 122.954333 \nL 112.71087 125.633116 \nL 122.434316 126.303755 \nL 132.157763 129.17481 \nL 141.88121 129.35085 \nL 151.604657 131.457005 \nL 161.328104 131.610651 \nL 171.051551 131.963499 \nL 180.774997 133.668526 \nL 190.498444 134.091408 \n\" style=\"fill:none;stroke:#1f77b4;stroke-linecap:square;stroke-width:1.5;\"/>\n   </g>\n   <g id=\"line2d_105\">\n    <path clip-path=\"url(#p5d7f172fa4)\" d=\"M 49.633125 88.661148 \nL 69.163125 106.694559 \nL 88.693125 104.239971 \nL 108.223125 119.210041 \nL 127.753125 119.713906 \nL 147.283125 121.581363 \nL 166.813125 121.372684 \nL 186.343125 120.257483 \n\" style=\"fill:none;stroke:#ff7f0e;stroke-dasharray:5.55,2.4;stroke-dashoffset:0;stroke-width:1.5;\"/>\n   </g>\n   <g id=\"line2d_106\">\n    <path clip-path=\"url(#p5d7f172fa4)\" d=\"M 49.633125 48.086096 \nL 69.163125 42.860632 \nL 88.693125 46.905342 \nL 108.223125 38.539576 \nL 127.753125 39.067147 \nL 147.283125 39.971554 \nL 166.813125 39.192759 \nL 186.343125 40.021799 \n\" style=\"fill:none;stroke:#2ca02c;stroke-dasharray:9.6,2.4,1.5,2.4;stroke-dashoffset:0;stroke-width:1.5;\"/>\n   </g>\n   <g id=\"line2d_107\">\n    <path clip-path=\"url(#p5d7f172fa4)\" d=\"M 34.923295 13.377273 \nL 44.646742 83.916819 \nL 54.370189 100.428735 \nL 64.093636 108.000806 \nL 73.817082 114.368773 \nL 83.540529 117.35646 \nL 93.263976 121.149682 \nL 102.987423 122.954333 \nL 112.71087 125.633116 \nL 122.434316 126.303755 \nL 132.157763 129.17481 \nL 141.88121 129.35085 \nL 151.604657 131.457005 \nL 161.328104 131.610651 \nL 171.051551 131.963499 \nL 180.774997 133.668526 \nL 190.498444 134.091408 \nL 200.221891 135.154507 \n\" style=\"fill:none;stroke:#1f77b4;stroke-linecap:square;stroke-width:1.5;\"/>\n   </g>\n   <g id=\"line2d_108\">\n    <path clip-path=\"url(#p5d7f172fa4)\" d=\"M 49.633125 88.661148 \nL 69.163125 106.694559 \nL 88.693125 104.239971 \nL 108.223125 119.210041 \nL 127.753125 119.713906 \nL 147.283125 121.581363 \nL 166.813125 121.372684 \nL 186.343125 120.257483 \n\" style=\"fill:none;stroke:#ff7f0e;stroke-dasharray:5.55,2.4;stroke-dashoffset:0;stroke-width:1.5;\"/>\n   </g>\n   <g id=\"line2d_109\">\n    <path clip-path=\"url(#p5d7f172fa4)\" d=\"M 49.633125 48.086096 \nL 69.163125 42.860632 \nL 88.693125 46.905342 \nL 108.223125 38.539576 \nL 127.753125 39.067147 \nL 147.283125 39.971554 \nL 166.813125 39.192759 \nL 186.343125 40.021799 \n\" style=\"fill:none;stroke:#2ca02c;stroke-dasharray:9.6,2.4,1.5,2.4;stroke-dashoffset:0;stroke-width:1.5;\"/>\n   </g>\n   <g id=\"line2d_110\">\n    <path clip-path=\"url(#p5d7f172fa4)\" d=\"M 34.923295 13.377273 \nL 44.646742 83.916819 \nL 54.370189 100.428735 \nL 64.093636 108.000806 \nL 73.817082 114.368773 \nL 83.540529 117.35646 \nL 93.263976 121.149682 \nL 102.987423 122.954333 \nL 112.71087 125.633116 \nL 122.434316 126.303755 \nL 132.157763 129.17481 \nL 141.88121 129.35085 \nL 151.604657 131.457005 \nL 161.328104 131.610651 \nL 171.051551 131.963499 \nL 180.774997 133.668526 \nL 190.498444 134.091408 \nL 200.221891 135.154507 \n\" style=\"fill:none;stroke:#1f77b4;stroke-linecap:square;stroke-width:1.5;\"/>\n   </g>\n   <g id=\"line2d_111\">\n    <path clip-path=\"url(#p5d7f172fa4)\" d=\"M 49.633125 88.661148 \nL 69.163125 106.694559 \nL 88.693125 104.239971 \nL 108.223125 119.210041 \nL 127.753125 119.713906 \nL 147.283125 121.581363 \nL 166.813125 121.372684 \nL 186.343125 120.257483 \nL 205.873125 127.770489 \n\" style=\"fill:none;stroke:#ff7f0e;stroke-dasharray:5.55,2.4;stroke-dashoffset:0;stroke-width:1.5;\"/>\n   </g>\n   <g id=\"line2d_112\">\n    <path clip-path=\"url(#p5d7f172fa4)\" d=\"M 49.633125 48.086096 \nL 69.163125 42.860632 \nL 88.693125 46.905342 \nL 108.223125 38.539576 \nL 127.753125 39.067147 \nL 147.283125 39.971554 \nL 166.813125 39.192759 \nL 186.343125 40.021799 \n\" style=\"fill:none;stroke:#2ca02c;stroke-dasharray:9.6,2.4,1.5,2.4;stroke-dashoffset:0;stroke-width:1.5;\"/>\n   </g>\n   <g id=\"line2d_113\">\n    <path clip-path=\"url(#p5d7f172fa4)\" d=\"M 34.923295 13.377273 \nL 44.646742 83.916819 \nL 54.370189 100.428735 \nL 64.093636 108.000806 \nL 73.817082 114.368773 \nL 83.540529 117.35646 \nL 93.263976 121.149682 \nL 102.987423 122.954333 \nL 112.71087 125.633116 \nL 122.434316 126.303755 \nL 132.157763 129.17481 \nL 141.88121 129.35085 \nL 151.604657 131.457005 \nL 161.328104 131.610651 \nL 171.051551 131.963499 \nL 180.774997 133.668526 \nL 190.498444 134.091408 \nL 200.221891 135.154507 \n\" style=\"fill:none;stroke:#1f77b4;stroke-linecap:square;stroke-width:1.5;\"/>\n   </g>\n   <g id=\"line2d_114\">\n    <path clip-path=\"url(#p5d7f172fa4)\" d=\"M 49.633125 88.661148 \nL 69.163125 106.694559 \nL 88.693125 104.239971 \nL 108.223125 119.210041 \nL 127.753125 119.713906 \nL 147.283125 121.581363 \nL 166.813125 121.372684 \nL 186.343125 120.257483 \nL 205.873125 127.770489 \n\" style=\"fill:none;stroke:#ff7f0e;stroke-dasharray:5.55,2.4;stroke-dashoffset:0;stroke-width:1.5;\"/>\n   </g>\n   <g id=\"line2d_115\">\n    <path clip-path=\"url(#p5d7f172fa4)\" d=\"M 49.633125 48.086096 \nL 69.163125 42.860632 \nL 88.693125 46.905342 \nL 108.223125 38.539576 \nL 127.753125 39.067147 \nL 147.283125 39.971554 \nL 166.813125 39.192759 \nL 186.343125 40.021799 \nL 205.873125 37.182965 \n\" style=\"fill:none;stroke:#2ca02c;stroke-dasharray:9.6,2.4,1.5,2.4;stroke-dashoffset:0;stroke-width:1.5;\"/>\n   </g>\n   <g id=\"line2d_116\">\n    <path clip-path=\"url(#p5d7f172fa4)\" d=\"M 34.923295 13.377273 \nL 44.646742 83.916819 \nL 54.370189 100.428735 \nL 64.093636 108.000806 \nL 73.817082 114.368773 \nL 83.540529 117.35646 \nL 93.263976 121.149682 \nL 102.987423 122.954333 \nL 112.71087 125.633116 \nL 122.434316 126.303755 \nL 132.157763 129.17481 \nL 141.88121 129.35085 \nL 151.604657 131.457005 \nL 161.328104 131.610651 \nL 171.051551 131.963499 \nL 180.774997 133.668526 \nL 190.498444 134.091408 \nL 200.221891 135.154507 \nL 209.945338 136.922727 \n\" style=\"fill:none;stroke:#1f77b4;stroke-linecap:square;stroke-width:1.5;\"/>\n   </g>\n   <g id=\"line2d_117\">\n    <path clip-path=\"url(#p5d7f172fa4)\" d=\"M 49.633125 88.661148 \nL 69.163125 106.694559 \nL 88.693125 104.239971 \nL 108.223125 119.210041 \nL 127.753125 119.713906 \nL 147.283125 121.581363 \nL 166.813125 121.372684 \nL 186.343125 120.257483 \nL 205.873125 127.770489 \n\" style=\"fill:none;stroke:#ff7f0e;stroke-dasharray:5.55,2.4;stroke-dashoffset:0;stroke-width:1.5;\"/>\n   </g>\n   <g id=\"line2d_118\">\n    <path clip-path=\"url(#p5d7f172fa4)\" d=\"M 49.633125 48.086096 \nL 69.163125 42.860632 \nL 88.693125 46.905342 \nL 108.223125 38.539576 \nL 127.753125 39.067147 \nL 147.283125 39.971554 \nL 166.813125 39.192759 \nL 186.343125 40.021799 \nL 205.873125 37.182965 \n\" style=\"fill:none;stroke:#2ca02c;stroke-dasharray:9.6,2.4,1.5,2.4;stroke-dashoffset:0;stroke-width:1.5;\"/>\n   </g>\n   <g id=\"line2d_119\">\n    <path clip-path=\"url(#p5d7f172fa4)\" d=\"M 34.923295 13.377273 \nL 44.646742 83.916819 \nL 54.370189 100.428735 \nL 64.093636 108.000806 \nL 73.817082 114.368773 \nL 83.540529 117.35646 \nL 93.263976 121.149682 \nL 102.987423 122.954333 \nL 112.71087 125.633116 \nL 122.434316 126.303755 \nL 132.157763 129.17481 \nL 141.88121 129.35085 \nL 151.604657 131.457005 \nL 161.328104 131.610651 \nL 171.051551 131.963499 \nL 180.774997 133.668526 \nL 190.498444 134.091408 \nL 200.221891 135.154507 \nL 209.945338 136.922727 \nL 219.668785 135.481001 \n\" style=\"fill:none;stroke:#1f77b4;stroke-linecap:square;stroke-width:1.5;\"/>\n   </g>\n   <g id=\"line2d_120\">\n    <path clip-path=\"url(#p5d7f172fa4)\" d=\"M 49.633125 88.661148 \nL 69.163125 106.694559 \nL 88.693125 104.239971 \nL 108.223125 119.210041 \nL 127.753125 119.713906 \nL 147.283125 121.581363 \nL 166.813125 121.372684 \nL 186.343125 120.257483 \nL 205.873125 127.770489 \n\" style=\"fill:none;stroke:#ff7f0e;stroke-dasharray:5.55,2.4;stroke-dashoffset:0;stroke-width:1.5;\"/>\n   </g>\n   <g id=\"line2d_121\">\n    <path clip-path=\"url(#p5d7f172fa4)\" d=\"M 49.633125 48.086096 \nL 69.163125 42.860632 \nL 88.693125 46.905342 \nL 108.223125 38.539576 \nL 127.753125 39.067147 \nL 147.283125 39.971554 \nL 166.813125 39.192759 \nL 186.343125 40.021799 \nL 205.873125 37.182965 \n\" style=\"fill:none;stroke:#2ca02c;stroke-dasharray:9.6,2.4,1.5,2.4;stroke-dashoffset:0;stroke-width:1.5;\"/>\n   </g>\n   <g id=\"line2d_122\">\n    <path clip-path=\"url(#p5d7f172fa4)\" d=\"M 34.923295 13.377273 \nL 44.646742 83.916819 \nL 54.370189 100.428735 \nL 64.093636 108.000806 \nL 73.817082 114.368773 \nL 83.540529 117.35646 \nL 93.263976 121.149682 \nL 102.987423 122.954333 \nL 112.71087 125.633116 \nL 122.434316 126.303755 \nL 132.157763 129.17481 \nL 141.88121 129.35085 \nL 151.604657 131.457005 \nL 161.328104 131.610651 \nL 171.051551 131.963499 \nL 180.774997 133.668526 \nL 190.498444 134.091408 \nL 200.221891 135.154507 \nL 209.945338 136.922727 \nL 219.668785 135.481001 \n\" style=\"fill:none;stroke:#1f77b4;stroke-linecap:square;stroke-width:1.5;\"/>\n   </g>\n   <g id=\"line2d_123\">\n    <path clip-path=\"url(#p5d7f172fa4)\" d=\"M 49.633125 88.661148 \nL 69.163125 106.694559 \nL 88.693125 104.239971 \nL 108.223125 119.210041 \nL 127.753125 119.713906 \nL 147.283125 121.581363 \nL 166.813125 121.372684 \nL 186.343125 120.257483 \nL 205.873125 127.770489 \nL 225.403125 128.982854 \n\" style=\"fill:none;stroke:#ff7f0e;stroke-dasharray:5.55,2.4;stroke-dashoffset:0;stroke-width:1.5;\"/>\n   </g>\n   <g id=\"line2d_124\">\n    <path clip-path=\"url(#p5d7f172fa4)\" d=\"M 49.633125 48.086096 \nL 69.163125 42.860632 \nL 88.693125 46.905342 \nL 108.223125 38.539576 \nL 127.753125 39.067147 \nL 147.283125 39.971554 \nL 166.813125 39.192759 \nL 186.343125 40.021799 \nL 205.873125 37.182965 \n\" style=\"fill:none;stroke:#2ca02c;stroke-dasharray:9.6,2.4,1.5,2.4;stroke-dashoffset:0;stroke-width:1.5;\"/>\n   </g>\n   <g id=\"line2d_125\">\n    <path clip-path=\"url(#p5d7f172fa4)\" d=\"M 34.923295 13.377273 \nL 44.646742 83.916819 \nL 54.370189 100.428735 \nL 64.093636 108.000806 \nL 73.817082 114.368773 \nL 83.540529 117.35646 \nL 93.263976 121.149682 \nL 102.987423 122.954333 \nL 112.71087 125.633116 \nL 122.434316 126.303755 \nL 132.157763 129.17481 \nL 141.88121 129.35085 \nL 151.604657 131.457005 \nL 161.328104 131.610651 \nL 171.051551 131.963499 \nL 180.774997 133.668526 \nL 190.498444 134.091408 \nL 200.221891 135.154507 \nL 209.945338 136.922727 \nL 219.668785 135.481001 \n\" style=\"fill:none;stroke:#1f77b4;stroke-linecap:square;stroke-width:1.5;\"/>\n   </g>\n   <g id=\"line2d_126\">\n    <path clip-path=\"url(#p5d7f172fa4)\" d=\"M 49.633125 88.661148 \nL 69.163125 106.694559 \nL 88.693125 104.239971 \nL 108.223125 119.210041 \nL 127.753125 119.713906 \nL 147.283125 121.581363 \nL 166.813125 121.372684 \nL 186.343125 120.257483 \nL 205.873125 127.770489 \nL 225.403125 128.982854 \n\" style=\"fill:none;stroke:#ff7f0e;stroke-dasharray:5.55,2.4;stroke-dashoffset:0;stroke-width:1.5;\"/>\n   </g>\n   <g id=\"line2d_127\">\n    <path clip-path=\"url(#p5d7f172fa4)\" d=\"M 49.633125 48.086096 \nL 69.163125 42.860632 \nL 88.693125 46.905342 \nL 108.223125 38.539576 \nL 127.753125 39.067147 \nL 147.283125 39.971554 \nL 166.813125 39.192759 \nL 186.343125 40.021799 \nL 205.873125 37.182965 \nL 225.403125 36.002211 \n\" style=\"fill:none;stroke:#2ca02c;stroke-dasharray:9.6,2.4,1.5,2.4;stroke-dashoffset:0;stroke-width:1.5;\"/>\n   </g>\n   <g id=\"patch_3\">\n    <path d=\"M 30.103125 143.1 \nL 30.103125 7.2 \n\" style=\"fill:none;stroke:#000000;stroke-linecap:square;stroke-linejoin:miter;stroke-width:0.8;\"/>\n   </g>\n   <g id=\"patch_4\">\n    <path d=\"M 225.403125 143.1 \nL 225.403125 7.2 \n\" style=\"fill:none;stroke:#000000;stroke-linecap:square;stroke-linejoin:miter;stroke-width:0.8;\"/>\n   </g>\n   <g id=\"patch_5\">\n    <path d=\"M 30.103125 143.1 \nL 225.403125 143.1 \n\" style=\"fill:none;stroke:#000000;stroke-linecap:square;stroke-linejoin:miter;stroke-width:0.8;\"/>\n   </g>\n   <g id=\"patch_6\">\n    <path d=\"M 30.103125 7.2 \nL 225.403125 7.2 \n\" style=\"fill:none;stroke:#000000;stroke-linecap:square;stroke-linejoin:miter;stroke-width:0.8;\"/>\n   </g>\n   <g id=\"legend_1\">\n    <g id=\"patch_7\">\n     <path d=\"M 138.8125 99.084375 \nL 218.403125 99.084375 \nQ 220.403125 99.084375 220.403125 97.084375 \nL 220.403125 53.215625 \nQ 220.403125 51.215625 218.403125 51.215625 \nL 138.8125 51.215625 \nQ 136.8125 51.215625 136.8125 53.215625 \nL 136.8125 97.084375 \nQ 136.8125 99.084375 138.8125 99.084375 \nz\n\" style=\"fill:#ffffff;opacity:0.8;stroke:#cccccc;stroke-linejoin:miter;\"/>\n    </g>\n    <g id=\"line2d_128\">\n     <path d=\"M 140.8125 59.314062 \nL 160.8125 59.314062 \n\" style=\"fill:none;stroke:#1f77b4;stroke-linecap:square;stroke-width:1.5;\"/>\n    </g>\n    <g id=\"line2d_129\"/>\n    <g id=\"text_13\">\n     <!-- train_loss -->\n     <defs>\n      <path d=\"M 18.3125 70.21875 \nL 18.3125 54.6875 \nL 36.8125 54.6875 \nL 36.8125 47.703125 \nL 18.3125 47.703125 \nL 18.3125 18.015625 \nQ 18.3125 11.328125 20.140625 9.421875 \nQ 21.96875 7.515625 27.59375 7.515625 \nL 36.8125 7.515625 \nL 36.8125 0 \nL 27.59375 0 \nQ 17.1875 0 13.234375 3.875 \nQ 9.28125 7.765625 9.28125 18.015625 \nL 9.28125 47.703125 \nL 2.6875 47.703125 \nL 2.6875 54.6875 \nL 9.28125 54.6875 \nL 9.28125 70.21875 \nz\n\" id=\"DejaVuSans-116\"/>\n      <path d=\"M 41.109375 46.296875 \nQ 39.59375 47.171875 37.8125 47.578125 \nQ 36.03125 48 33.890625 48 \nQ 26.265625 48 22.1875 43.046875 \nQ 18.109375 38.09375 18.109375 28.8125 \nL 18.109375 0 \nL 9.078125 0 \nL 9.078125 54.6875 \nL 18.109375 54.6875 \nL 18.109375 46.1875 \nQ 20.953125 51.171875 25.484375 53.578125 \nQ 30.03125 56 36.53125 56 \nQ 37.453125 56 38.578125 55.875 \nQ 39.703125 55.765625 41.0625 55.515625 \nz\n\" id=\"DejaVuSans-114\"/>\n      <path d=\"M 34.28125 27.484375 \nQ 23.390625 27.484375 19.1875 25 \nQ 14.984375 22.515625 14.984375 16.5 \nQ 14.984375 11.71875 18.140625 8.90625 \nQ 21.296875 6.109375 26.703125 6.109375 \nQ 34.1875 6.109375 38.703125 11.40625 \nQ 43.21875 16.703125 43.21875 25.484375 \nL 43.21875 27.484375 \nz\nM 52.203125 31.203125 \nL 52.203125 0 \nL 43.21875 0 \nL 43.21875 8.296875 \nQ 40.140625 3.328125 35.546875 0.953125 \nQ 30.953125 -1.421875 24.3125 -1.421875 \nQ 15.921875 -1.421875 10.953125 3.296875 \nQ 6 8.015625 6 15.921875 \nQ 6 25.140625 12.171875 29.828125 \nQ 18.359375 34.515625 30.609375 34.515625 \nL 43.21875 34.515625 \nL 43.21875 35.40625 \nQ 43.21875 41.609375 39.140625 45 \nQ 35.0625 48.390625 27.6875 48.390625 \nQ 23 48.390625 18.546875 47.265625 \nQ 14.109375 46.140625 10.015625 43.890625 \nL 10.015625 52.203125 \nQ 14.9375 54.109375 19.578125 55.046875 \nQ 24.21875 56 28.609375 56 \nQ 40.484375 56 46.34375 49.84375 \nQ 52.203125 43.703125 52.203125 31.203125 \nz\n\" id=\"DejaVuSans-97\"/>\n      <path d=\"M 9.421875 54.6875 \nL 18.40625 54.6875 \nL 18.40625 0 \nL 9.421875 0 \nz\nM 9.421875 75.984375 \nL 18.40625 75.984375 \nL 18.40625 64.59375 \nL 9.421875 64.59375 \nz\n\" id=\"DejaVuSans-105\"/>\n      <path d=\"M 54.890625 33.015625 \nL 54.890625 0 \nL 45.90625 0 \nL 45.90625 32.71875 \nQ 45.90625 40.484375 42.875 44.328125 \nQ 39.84375 48.1875 33.796875 48.1875 \nQ 26.515625 48.1875 22.3125 43.546875 \nQ 18.109375 38.921875 18.109375 30.90625 \nL 18.109375 0 \nL 9.078125 0 \nL 9.078125 54.6875 \nL 18.109375 54.6875 \nL 18.109375 46.1875 \nQ 21.34375 51.125 25.703125 53.5625 \nQ 30.078125 56 35.796875 56 \nQ 45.21875 56 50.046875 50.171875 \nQ 54.890625 44.34375 54.890625 33.015625 \nz\n\" id=\"DejaVuSans-110\"/>\n      <path d=\"M 50.984375 -16.609375 \nL 50.984375 -23.578125 \nL -0.984375 -23.578125 \nL -0.984375 -16.609375 \nz\n\" id=\"DejaVuSans-95\"/>\n      <path d=\"M 9.421875 75.984375 \nL 18.40625 75.984375 \nL 18.40625 0 \nL 9.421875 0 \nz\n\" id=\"DejaVuSans-108\"/>\n      <path d=\"M 44.28125 53.078125 \nL 44.28125 44.578125 \nQ 40.484375 46.53125 36.375 47.5 \nQ 32.28125 48.484375 27.875 48.484375 \nQ 21.1875 48.484375 17.84375 46.4375 \nQ 14.5 44.390625 14.5 40.28125 \nQ 14.5 37.15625 16.890625 35.375 \nQ 19.28125 33.59375 26.515625 31.984375 \nL 29.59375 31.296875 \nQ 39.15625 29.25 43.1875 25.515625 \nQ 47.21875 21.78125 47.21875 15.09375 \nQ 47.21875 7.46875 41.1875 3.015625 \nQ 35.15625 -1.421875 24.609375 -1.421875 \nQ 20.21875 -1.421875 15.453125 -0.5625 \nQ 10.6875 0.296875 5.421875 2 \nL 5.421875 11.28125 \nQ 10.40625 8.6875 15.234375 7.390625 \nQ 20.0625 6.109375 24.8125 6.109375 \nQ 31.15625 6.109375 34.5625 8.28125 \nQ 37.984375 10.453125 37.984375 14.40625 \nQ 37.984375 18.0625 35.515625 20.015625 \nQ 33.0625 21.96875 24.703125 23.78125 \nL 21.578125 24.515625 \nQ 13.234375 26.265625 9.515625 29.90625 \nQ 5.8125 33.546875 5.8125 39.890625 \nQ 5.8125 47.609375 11.28125 51.796875 \nQ 16.75 56 26.8125 56 \nQ 31.78125 56 36.171875 55.265625 \nQ 40.578125 54.546875 44.28125 53.078125 \nz\n\" id=\"DejaVuSans-115\"/>\n     </defs>\n     <g transform=\"translate(168.8125 62.814062)scale(0.1 -0.1)\">\n      <use xlink:href=\"#DejaVuSans-116\"/>\n      <use x=\"39.208984\" xlink:href=\"#DejaVuSans-114\"/>\n      <use x=\"80.322266\" xlink:href=\"#DejaVuSans-97\"/>\n      <use x=\"141.601562\" xlink:href=\"#DejaVuSans-105\"/>\n      <use x=\"169.384766\" xlink:href=\"#DejaVuSans-110\"/>\n      <use x=\"232.763672\" xlink:href=\"#DejaVuSans-95\"/>\n      <use x=\"282.763672\" xlink:href=\"#DejaVuSans-108\"/>\n      <use x=\"310.546875\" xlink:href=\"#DejaVuSans-111\"/>\n      <use x=\"371.728516\" xlink:href=\"#DejaVuSans-115\"/>\n      <use x=\"423.828125\" xlink:href=\"#DejaVuSans-115\"/>\n     </g>\n    </g>\n    <g id=\"line2d_130\">\n     <path d=\"M 140.8125 74.270312 \nL 160.8125 74.270312 \n\" style=\"fill:none;stroke:#ff7f0e;stroke-dasharray:5.55,2.4;stroke-dashoffset:0;stroke-width:1.5;\"/>\n    </g>\n    <g id=\"line2d_131\"/>\n    <g id=\"text_14\">\n     <!-- val_loss -->\n     <defs>\n      <path d=\"M 2.984375 54.6875 \nL 12.5 54.6875 \nL 29.59375 8.796875 \nL 46.6875 54.6875 \nL 56.203125 54.6875 \nL 35.6875 0 \nL 23.484375 0 \nz\n\" id=\"DejaVuSans-118\"/>\n     </defs>\n     <g transform=\"translate(168.8125 77.770312)scale(0.1 -0.1)\">\n      <use xlink:href=\"#DejaVuSans-118\"/>\n      <use x=\"59.179688\" xlink:href=\"#DejaVuSans-97\"/>\n      <use x=\"120.458984\" xlink:href=\"#DejaVuSans-108\"/>\n      <use x=\"148.242188\" xlink:href=\"#DejaVuSans-95\"/>\n      <use x=\"198.242188\" xlink:href=\"#DejaVuSans-108\"/>\n      <use x=\"226.025391\" xlink:href=\"#DejaVuSans-111\"/>\n      <use x=\"287.207031\" xlink:href=\"#DejaVuSans-115\"/>\n      <use x=\"339.306641\" xlink:href=\"#DejaVuSans-115\"/>\n     </g>\n    </g>\n    <g id=\"line2d_132\">\n     <path d=\"M 140.8125 89.226562 \nL 160.8125 89.226562 \n\" style=\"fill:none;stroke:#2ca02c;stroke-dasharray:9.6,2.4,1.5,2.4;stroke-dashoffset:0;stroke-width:1.5;\"/>\n    </g>\n    <g id=\"line2d_133\"/>\n    <g id=\"text_15\">\n     <!-- val_acc -->\n     <g transform=\"translate(168.8125 92.726562)scale(0.1 -0.1)\">\n      <use xlink:href=\"#DejaVuSans-118\"/>\n      <use x=\"59.179688\" xlink:href=\"#DejaVuSans-97\"/>\n      <use x=\"120.458984\" xlink:href=\"#DejaVuSans-108\"/>\n      <use x=\"148.242188\" xlink:href=\"#DejaVuSans-95\"/>\n      <use x=\"198.242188\" xlink:href=\"#DejaVuSans-97\"/>\n      <use x=\"259.521484\" xlink:href=\"#DejaVuSans-99\"/>\n      <use x=\"314.501953\" xlink:href=\"#DejaVuSans-99\"/>\n     </g>\n    </g>\n   </g>\n  </g>\n </g>\n <defs>\n  <clipPath id=\"p5d7f172fa4\">\n   <rect height=\"135.9\" width=\"195.3\" x=\"30.103125\" y=\"7.2\"/>\n  </clipPath>\n </defs>\n</svg>\n"
          },
          "metadata": {
            "needs_background": "light"
          }
        }
      ],
      "source": [
        "data = d2l.FashionMNIST(batch_size=256)\n",
        "model = SoftmaxRegressionScratch(num_inputs=784, num_outputs=10, lr=0.1)\n",
        "trainer = d2l.Trainer(max_epochs=10)\n",
        "trainer.fit(model, data)"
      ]
    },
    {
      "cell_type": "markdown",
      "id": "fb1a0b10",
      "metadata": {
        "origin_pos": 27,
        "id": "fb1a0b10"
      },
      "source": [
        "## Prediction\n",
        "\n",
        "Now that training is complete,\n",
        "our model is ready to [**classify some images.**]\n"
      ]
    },
    {
      "cell_type": "code",
      "execution_count": 12,
      "id": "95cf49b5",
      "metadata": {
        "execution": {
          "iopub.execute_input": "2022-09-07T22:03:22.960140Z",
          "iopub.status.busy": "2022-09-07T22:03:22.959453Z",
          "iopub.status.idle": "2022-09-07T22:03:23.119789Z",
          "shell.execute_reply": "2022-09-07T22:03:23.118632Z"
        },
        "origin_pos": 28,
        "tab": [
          "pytorch"
        ],
        "id": "95cf49b5",
        "outputId": "245fc347-7bd9-4a98-870e-e52b7d557c27",
        "colab": {
          "base_uri": "https://localhost:8080/"
        }
      },
      "outputs": [
        {
          "output_type": "execute_result",
          "data": {
            "text/plain": [
              "torch.Size([256])"
            ]
          },
          "metadata": {},
          "execution_count": 12
        }
      ],
      "source": [
        "X, y = next(iter(data.val_dataloader()))\n",
        "preds = model(X).argmax(axis=1)\n",
        "preds.shape"
      ]
    },
    {
      "cell_type": "markdown",
      "id": "f4adac5e",
      "metadata": {
        "origin_pos": 29,
        "id": "f4adac5e"
      },
      "source": [
        "We are more interested in the images we label *incorrectly*. We visualize them by\n",
        "comparing their actual labels\n",
        "(first line of text output)\n",
        "with the predictions from the model\n",
        "(second line of text output).\n"
      ]
    },
    {
      "cell_type": "code",
      "execution_count": 13,
      "id": "0d2758ac",
      "metadata": {
        "execution": {
          "iopub.execute_input": "2022-09-07T22:03:23.123518Z",
          "iopub.status.busy": "2022-09-07T22:03:23.123118Z",
          "iopub.status.idle": "2022-09-07T22:03:23.499249Z",
          "shell.execute_reply": "2022-09-07T22:03:23.498445Z"
        },
        "origin_pos": 30,
        "tab": [
          "pytorch"
        ],
        "id": "0d2758ac",
        "outputId": "f3e038d3-11e3-48e5-9264-d0ffba663f81",
        "colab": {
          "base_uri": "https://localhost:8080/",
          "height": 178
        }
      },
      "outputs": [
        {
          "output_type": "display_data",
          "data": {
            "text/plain": [
              "<Figure size 864x108 with 8 Axes>"
            ],
            "image/svg+xml": "<?xml version=\"1.0\" encoding=\"utf-8\" standalone=\"no\"?>\n<!DOCTYPE svg PUBLIC \"-//W3C//DTD SVG 1.1//EN\"\n  \"http://www.w3.org/Graphics/SVG/1.1/DTD/svg11.dtd\">\n<!-- Created with matplotlib (https://matplotlib.org/) -->\n<svg height=\"117.689543pt\" version=\"1.1\" viewBox=\"0 0 687.5 117.689543\" width=\"687.5pt\" xmlns=\"http://www.w3.org/2000/svg\" xmlns:xlink=\"http://www.w3.org/1999/xlink\">\n <defs>\n  <style type=\"text/css\">\n*{stroke-linecap:butt;stroke-linejoin:round;}\n  </style>\n </defs>\n <g id=\"figure_1\">\n  <g id=\"patch_1\">\n   <path d=\"M 0 117.689543 \nL 687.5 117.689543 \nL 687.5 0 \nL 0 0 \nz\n\" style=\"fill:none;\"/>\n  </g>\n  <g id=\"axes_1\">\n   <g id=\"patch_2\">\n    <path d=\"M 10.7 106.989543 \nL 81.934043 106.989543 \nL 81.934043 35.7555 \nL 10.7 35.7555 \nz\n\" style=\"fill:#ffffff;\"/>\n   </g>\n   <g clip-path=\"url(#pcd61774e9a)\">\n    <image height=\"72\" id=\"imaged24e101ec6\" transform=\"scale(1 -1)translate(0 -72)\" width=\"72\" x=\"10.7\" xlink:href=\"data:image/png;base64,\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\" y=\"-34.989543\"/>\n   </g>\n   <g id=\"patch_3\">\n    <path d=\"M 10.7 106.989543 \nL 10.7 35.7555 \n\" style=\"fill:none;stroke:#000000;stroke-linecap:square;stroke-linejoin:miter;stroke-width:0.8;\"/>\n   </g>\n   <g id=\"patch_4\">\n    <path d=\"M 81.934043 106.989543 \nL 81.934043 35.7555 \n\" style=\"fill:none;stroke:#000000;stroke-linecap:square;stroke-linejoin:miter;stroke-width:0.8;\"/>\n   </g>\n   <g id=\"patch_5\">\n    <path d=\"M 10.7 106.989543 \nL 81.934043 106.989543 \n\" style=\"fill:none;stroke:#000000;stroke-linecap:square;stroke-linejoin:miter;stroke-width:0.8;\"/>\n   </g>\n   <g id=\"patch_6\">\n    <path d=\"M 10.7 35.7555 \nL 81.934043 35.7555 \n\" style=\"fill:none;stroke:#000000;stroke-linecap:square;stroke-linejoin:miter;stroke-width:0.8;\"/>\n   </g>\n   <g id=\"text_1\">\n    <!-- sneaker -->\n    <defs>\n     <path d=\"M 44.28125 53.078125 \nL 44.28125 44.578125 \nQ 40.484375 46.53125 36.375 47.5 \nQ 32.28125 48.484375 27.875 48.484375 \nQ 21.1875 48.484375 17.84375 46.4375 \nQ 14.5 44.390625 14.5 40.28125 \nQ 14.5 37.15625 16.890625 35.375 \nQ 19.28125 33.59375 26.515625 31.984375 \nL 29.59375 31.296875 \nQ 39.15625 29.25 43.1875 25.515625 \nQ 47.21875 21.78125 47.21875 15.09375 \nQ 47.21875 7.46875 41.1875 3.015625 \nQ 35.15625 -1.421875 24.609375 -1.421875 \nQ 20.21875 -1.421875 15.453125 -0.5625 \nQ 10.6875 0.296875 5.421875 2 \nL 5.421875 11.28125 \nQ 10.40625 8.6875 15.234375 7.390625 \nQ 20.0625 6.109375 24.8125 6.109375 \nQ 31.15625 6.109375 34.5625 8.28125 \nQ 37.984375 10.453125 37.984375 14.40625 \nQ 37.984375 18.0625 35.515625 20.015625 \nQ 33.0625 21.96875 24.703125 23.78125 \nL 21.578125 24.515625 \nQ 13.234375 26.265625 9.515625 29.90625 \nQ 5.8125 33.546875 5.8125 39.890625 \nQ 5.8125 47.609375 11.28125 51.796875 \nQ 16.75 56 26.8125 56 \nQ 31.78125 56 36.171875 55.265625 \nQ 40.578125 54.546875 44.28125 53.078125 \nz\n\" id=\"DejaVuSans-115\"/>\n     <path d=\"M 54.890625 33.015625 \nL 54.890625 0 \nL 45.90625 0 \nL 45.90625 32.71875 \nQ 45.90625 40.484375 42.875 44.328125 \nQ 39.84375 48.1875 33.796875 48.1875 \nQ 26.515625 48.1875 22.3125 43.546875 \nQ 18.109375 38.921875 18.109375 30.90625 \nL 18.109375 0 \nL 9.078125 0 \nL 9.078125 54.6875 \nL 18.109375 54.6875 \nL 18.109375 46.1875 \nQ 21.34375 51.125 25.703125 53.5625 \nQ 30.078125 56 35.796875 56 \nQ 45.21875 56 50.046875 50.171875 \nQ 54.890625 44.34375 54.890625 33.015625 \nz\n\" id=\"DejaVuSans-110\"/>\n     <path d=\"M 56.203125 29.59375 \nL 56.203125 25.203125 \nL 14.890625 25.203125 \nQ 15.484375 15.921875 20.484375 11.0625 \nQ 25.484375 6.203125 34.421875 6.203125 \nQ 39.59375 6.203125 44.453125 7.46875 \nQ 49.3125 8.734375 54.109375 11.28125 \nL 54.109375 2.78125 \nQ 49.265625 0.734375 44.1875 -0.34375 \nQ 39.109375 -1.421875 33.890625 -1.421875 \nQ 20.796875 -1.421875 13.15625 6.1875 \nQ 5.515625 13.8125 5.515625 26.8125 \nQ 5.515625 40.234375 12.765625 48.109375 \nQ 20.015625 56 32.328125 56 \nQ 43.359375 56 49.78125 48.890625 \nQ 56.203125 41.796875 56.203125 29.59375 \nz\nM 47.21875 32.234375 \nQ 47.125 39.59375 43.09375 43.984375 \nQ 39.0625 48.390625 32.421875 48.390625 \nQ 24.90625 48.390625 20.390625 44.140625 \nQ 15.875 39.890625 15.1875 32.171875 \nz\n\" id=\"DejaVuSans-101\"/>\n     <path d=\"M 34.28125 27.484375 \nQ 23.390625 27.484375 19.1875 25 \nQ 14.984375 22.515625 14.984375 16.5 \nQ 14.984375 11.71875 18.140625 8.90625 \nQ 21.296875 6.109375 26.703125 6.109375 \nQ 34.1875 6.109375 38.703125 11.40625 \nQ 43.21875 16.703125 43.21875 25.484375 \nL 43.21875 27.484375 \nz\nM 52.203125 31.203125 \nL 52.203125 0 \nL 43.21875 0 \nL 43.21875 8.296875 \nQ 40.140625 3.328125 35.546875 0.953125 \nQ 30.953125 -1.421875 24.3125 -1.421875 \nQ 15.921875 -1.421875 10.953125 3.296875 \nQ 6 8.015625 6 15.921875 \nQ 6 25.140625 12.171875 29.828125 \nQ 18.359375 34.515625 30.609375 34.515625 \nL 43.21875 34.515625 \nL 43.21875 35.40625 \nQ 43.21875 41.609375 39.140625 45 \nQ 35.0625 48.390625 27.6875 48.390625 \nQ 23 48.390625 18.546875 47.265625 \nQ 14.109375 46.140625 10.015625 43.890625 \nL 10.015625 52.203125 \nQ 14.9375 54.109375 19.578125 55.046875 \nQ 24.21875 56 28.609375 56 \nQ 40.484375 56 46.34375 49.84375 \nQ 52.203125 43.703125 52.203125 31.203125 \nz\n\" id=\"DejaVuSans-97\"/>\n     <path d=\"M 9.078125 75.984375 \nL 18.109375 75.984375 \nL 18.109375 31.109375 \nL 44.921875 54.6875 \nL 56.390625 54.6875 \nL 27.390625 29.109375 \nL 57.625 0 \nL 45.90625 0 \nL 18.109375 26.703125 \nL 18.109375 0 \nL 9.078125 0 \nz\n\" id=\"DejaVuSans-107\"/>\n     <path d=\"M 41.109375 46.296875 \nQ 39.59375 47.171875 37.8125 47.578125 \nQ 36.03125 48 33.890625 48 \nQ 26.265625 48 22.1875 43.046875 \nQ 18.109375 38.09375 18.109375 28.8125 \nL 18.109375 0 \nL 9.078125 0 \nL 9.078125 54.6875 \nL 18.109375 54.6875 \nL 18.109375 46.1875 \nQ 20.953125 51.171875 25.484375 53.578125 \nQ 30.03125 56 36.53125 56 \nQ 37.453125 56 38.578125 55.875 \nQ 39.703125 55.765625 41.0625 55.515625 \nz\n\" id=\"DejaVuSans-114\"/>\n    </defs>\n    <g transform=\"translate(22.604834 16.318125)scale(0.12 -0.12)\">\n     <use xlink:href=\"#DejaVuSans-115\"/>\n     <use x=\"52.099609\" xlink:href=\"#DejaVuSans-110\"/>\n     <use x=\"115.478516\" xlink:href=\"#DejaVuSans-101\"/>\n     <use x=\"177.001953\" xlink:href=\"#DejaVuSans-97\"/>\n     <use x=\"238.28125\" xlink:href=\"#DejaVuSans-107\"/>\n     <use x=\"292.566406\" xlink:href=\"#DejaVuSans-101\"/>\n     <use x=\"354.089844\" xlink:href=\"#DejaVuSans-114\"/>\n    </g>\n    <!-- sandal -->\n    <defs>\n     <path d=\"M 45.40625 46.390625 \nL 45.40625 75.984375 \nL 54.390625 75.984375 \nL 54.390625 0 \nL 45.40625 0 \nL 45.40625 8.203125 \nQ 42.578125 3.328125 38.25 0.953125 \nQ 33.9375 -1.421875 27.875 -1.421875 \nQ 17.96875 -1.421875 11.734375 6.484375 \nQ 5.515625 14.40625 5.515625 27.296875 \nQ 5.515625 40.1875 11.734375 48.09375 \nQ 17.96875 56 27.875 56 \nQ 33.9375 56 38.25 53.625 \nQ 42.578125 51.265625 45.40625 46.390625 \nz\nM 14.796875 27.296875 \nQ 14.796875 17.390625 18.875 11.75 \nQ 22.953125 6.109375 30.078125 6.109375 \nQ 37.203125 6.109375 41.296875 11.75 \nQ 45.40625 17.390625 45.40625 27.296875 \nQ 45.40625 37.203125 41.296875 42.84375 \nQ 37.203125 48.484375 30.078125 48.484375 \nQ 22.953125 48.484375 18.875 42.84375 \nQ 14.796875 37.203125 14.796875 27.296875 \nz\n\" id=\"DejaVuSans-100\"/>\n     <path d=\"M 9.421875 75.984375 \nL 18.40625 75.984375 \nL 18.40625 0 \nL 9.421875 0 \nz\n\" id=\"DejaVuSans-108\"/>\n    </defs>\n    <g transform=\"translate(26.559209 29.7555)scale(0.12 -0.12)\">\n     <use xlink:href=\"#DejaVuSans-115\"/>\n     <use x=\"52.099609\" xlink:href=\"#DejaVuSans-97\"/>\n     <use x=\"113.378906\" xlink:href=\"#DejaVuSans-110\"/>\n     <use x=\"176.757812\" xlink:href=\"#DejaVuSans-100\"/>\n     <use x=\"240.234375\" xlink:href=\"#DejaVuSans-97\"/>\n     <use x=\"301.513672\" xlink:href=\"#DejaVuSans-108\"/>\n    </g>\n   </g>\n  </g>\n  <g id=\"axes_2\">\n   <g id=\"patch_7\">\n    <path d=\"M 96.180851 106.989543 \nL 167.414894 106.989543 \nL 167.414894 35.7555 \nL 96.180851 35.7555 \nz\n\" style=\"fill:#ffffff;\"/>\n   </g>\n   <g clip-path=\"url(#p5308358cb1)\">\n    <image height=\"72\" id=\"imagef49229c8fc\" transform=\"scale(1 -1)translate(0 -72)\" width=\"72\" x=\"96.180851\" xlink:href=\"data:image/png;base64,\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\" y=\"-34.989543\"/>\n   </g>\n   <g id=\"patch_8\">\n    <path d=\"M 96.180851 106.989543 \nL 96.180851 35.7555 \n\" style=\"fill:none;stroke:#000000;stroke-linecap:square;stroke-linejoin:miter;stroke-width:0.8;\"/>\n   </g>\n   <g id=\"patch_9\">\n    <path d=\"M 167.414894 106.989543 \nL 167.414894 35.7555 \n\" style=\"fill:none;stroke:#000000;stroke-linecap:square;stroke-linejoin:miter;stroke-width:0.8;\"/>\n   </g>\n   <g id=\"patch_10\">\n    <path d=\"M 96.180851 106.989543 \nL 167.414894 106.989543 \n\" style=\"fill:none;stroke:#000000;stroke-linecap:square;stroke-linejoin:miter;stroke-width:0.8;\"/>\n   </g>\n   <g id=\"patch_11\">\n    <path d=\"M 96.180851 35.7555 \nL 167.414894 35.7555 \n\" style=\"fill:none;stroke:#000000;stroke-linecap:square;stroke-linejoin:miter;stroke-width:0.8;\"/>\n   </g>\n   <g id=\"text_2\">\n    <!-- coat -->\n    <defs>\n     <path d=\"M 48.78125 52.59375 \nL 48.78125 44.1875 \nQ 44.96875 46.296875 41.140625 47.34375 \nQ 37.3125 48.390625 33.40625 48.390625 \nQ 24.65625 48.390625 19.8125 42.84375 \nQ 14.984375 37.3125 14.984375 27.296875 \nQ 14.984375 17.28125 19.8125 11.734375 \nQ 24.65625 6.203125 33.40625 6.203125 \nQ 37.3125 6.203125 41.140625 7.25 \nQ 44.96875 8.296875 48.78125 10.40625 \nL 48.78125 2.09375 \nQ 45.015625 0.34375 40.984375 -0.53125 \nQ 36.96875 -1.421875 32.421875 -1.421875 \nQ 20.0625 -1.421875 12.78125 6.34375 \nQ 5.515625 14.109375 5.515625 27.296875 \nQ 5.515625 40.671875 12.859375 48.328125 \nQ 20.21875 56 33.015625 56 \nQ 37.15625 56 41.109375 55.140625 \nQ 45.0625 54.296875 48.78125 52.59375 \nz\n\" id=\"DejaVuSans-99\"/>\n     <path d=\"M 30.609375 48.390625 \nQ 23.390625 48.390625 19.1875 42.75 \nQ 14.984375 37.109375 14.984375 27.296875 \nQ 14.984375 17.484375 19.15625 11.84375 \nQ 23.34375 6.203125 30.609375 6.203125 \nQ 37.796875 6.203125 41.984375 11.859375 \nQ 46.1875 17.53125 46.1875 27.296875 \nQ 46.1875 37.015625 41.984375 42.703125 \nQ 37.796875 48.390625 30.609375 48.390625 \nz\nM 30.609375 56 \nQ 42.328125 56 49.015625 48.375 \nQ 55.71875 40.765625 55.71875 27.296875 \nQ 55.71875 13.875 49.015625 6.21875 \nQ 42.328125 -1.421875 30.609375 -1.421875 \nQ 18.84375 -1.421875 12.171875 6.21875 \nQ 5.515625 13.875 5.515625 27.296875 \nQ 5.515625 40.765625 12.171875 48.375 \nQ 18.84375 56 30.609375 56 \nz\n\" id=\"DejaVuSans-111\"/>\n     <path d=\"M 18.3125 70.21875 \nL 18.3125 54.6875 \nL 36.8125 54.6875 \nL 36.8125 47.703125 \nL 18.3125 47.703125 \nL 18.3125 18.015625 \nQ 18.3125 11.328125 20.140625 9.421875 \nQ 21.96875 7.515625 27.59375 7.515625 \nL 36.8125 7.515625 \nL 36.8125 0 \nL 27.59375 0 \nQ 17.1875 0 13.234375 3.875 \nQ 9.28125 7.765625 9.28125 18.015625 \nL 9.28125 47.703125 \nL 2.6875 47.703125 \nL 2.6875 54.6875 \nL 9.28125 54.6875 \nL 9.28125 70.21875 \nz\n\" id=\"DejaVuSans-116\"/>\n    </defs>\n    <g transform=\"translate(118.798497 16.318125)scale(0.12 -0.12)\">\n     <use xlink:href=\"#DejaVuSans-99\"/>\n     <use x=\"54.980469\" xlink:href=\"#DejaVuSans-111\"/>\n     <use x=\"116.162109\" xlink:href=\"#DejaVuSans-97\"/>\n     <use x=\"177.441406\" xlink:href=\"#DejaVuSans-116\"/>\n    </g>\n    <!-- pullover -->\n    <defs>\n     <path d=\"M 18.109375 8.203125 \nL 18.109375 -20.796875 \nL 9.078125 -20.796875 \nL 9.078125 54.6875 \nL 18.109375 54.6875 \nL 18.109375 46.390625 \nQ 20.953125 51.265625 25.265625 53.625 \nQ 29.59375 56 35.59375 56 \nQ 45.5625 56 51.78125 48.09375 \nQ 58.015625 40.1875 58.015625 27.296875 \nQ 58.015625 14.40625 51.78125 6.484375 \nQ 45.5625 -1.421875 35.59375 -1.421875 \nQ 29.59375 -1.421875 25.265625 0.953125 \nQ 20.953125 3.328125 18.109375 8.203125 \nz\nM 48.6875 27.296875 \nQ 48.6875 37.203125 44.609375 42.84375 \nQ 40.53125 48.484375 33.40625 48.484375 \nQ 26.265625 48.484375 22.1875 42.84375 \nQ 18.109375 37.203125 18.109375 27.296875 \nQ 18.109375 17.390625 22.1875 11.75 \nQ 26.265625 6.109375 33.40625 6.109375 \nQ 40.53125 6.109375 44.609375 11.75 \nQ 48.6875 17.390625 48.6875 27.296875 \nz\n\" id=\"DejaVuSans-112\"/>\n     <path d=\"M 8.5 21.578125 \nL 8.5 54.6875 \nL 17.484375 54.6875 \nL 17.484375 21.921875 \nQ 17.484375 14.15625 20.5 10.265625 \nQ 23.53125 6.390625 29.59375 6.390625 \nQ 36.859375 6.390625 41.078125 11.03125 \nQ 45.3125 15.671875 45.3125 23.6875 \nL 45.3125 54.6875 \nL 54.296875 54.6875 \nL 54.296875 0 \nL 45.3125 0 \nL 45.3125 8.40625 \nQ 42.046875 3.421875 37.71875 1 \nQ 33.40625 -1.421875 27.6875 -1.421875 \nQ 18.265625 -1.421875 13.375 4.4375 \nQ 8.5 10.296875 8.5 21.578125 \nz\nM 31.109375 56 \nz\n\" id=\"DejaVuSans-117\"/>\n     <path d=\"M 2.984375 54.6875 \nL 12.5 54.6875 \nL 29.59375 8.796875 \nL 46.6875 54.6875 \nL 56.203125 54.6875 \nL 35.6875 0 \nL 23.484375 0 \nz\n\" id=\"DejaVuSans-118\"/>\n    </defs>\n    <g transform=\"translate(107.471622 29.7555)scale(0.12 -0.12)\">\n     <use xlink:href=\"#DejaVuSans-112\"/>\n     <use x=\"63.476562\" xlink:href=\"#DejaVuSans-117\"/>\n     <use x=\"126.855469\" xlink:href=\"#DejaVuSans-108\"/>\n     <use x=\"154.638672\" xlink:href=\"#DejaVuSans-108\"/>\n     <use x=\"182.421875\" xlink:href=\"#DejaVuSans-111\"/>\n     <use x=\"243.603516\" xlink:href=\"#DejaVuSans-118\"/>\n     <use x=\"302.783203\" xlink:href=\"#DejaVuSans-101\"/>\n     <use x=\"364.306641\" xlink:href=\"#DejaVuSans-114\"/>\n    </g>\n   </g>\n  </g>\n  <g id=\"axes_3\">\n   <g id=\"patch_12\">\n    <path d=\"M 181.661702 106.989543 \nL 252.895745 106.989543 \nL 252.895745 35.7555 \nL 181.661702 35.7555 \nz\n\" style=\"fill:#ffffff;\"/>\n   </g>\n   <g clip-path=\"url(#pe114ef95e9)\">\n    <image height=\"72\" id=\"image02dfa6a426\" transform=\"scale(1 -1)translate(0 -72)\" width=\"72\" x=\"181.661702\" xlink:href=\"data:image/png;base64,\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\" y=\"-34.989543\"/>\n   </g>\n   <g id=\"patch_13\">\n    <path d=\"M 181.661702 106.989543 \nL 181.661702 35.7555 \n\" style=\"fill:none;stroke:#000000;stroke-linecap:square;stroke-linejoin:miter;stroke-width:0.8;\"/>\n   </g>\n   <g id=\"patch_14\">\n    <path d=\"M 252.895745 106.989543 \nL 252.895745 35.7555 \n\" style=\"fill:none;stroke:#000000;stroke-linecap:square;stroke-linejoin:miter;stroke-width:0.8;\"/>\n   </g>\n   <g id=\"patch_15\">\n    <path d=\"M 181.661702 106.989543 \nL 252.895745 106.989543 \n\" style=\"fill:none;stroke:#000000;stroke-linecap:square;stroke-linejoin:miter;stroke-width:0.8;\"/>\n   </g>\n   <g id=\"patch_16\">\n    <path d=\"M 181.661702 35.7555 \nL 252.895745 35.7555 \n\" style=\"fill:none;stroke:#000000;stroke-linecap:square;stroke-linejoin:miter;stroke-width:0.8;\"/>\n   </g>\n   <g id=\"text_3\">\n    <!-- pullover -->\n    <g transform=\"translate(192.952473 16.318125)scale(0.12 -0.12)\">\n     <use xlink:href=\"#DejaVuSans-112\"/>\n     <use x=\"63.476562\" xlink:href=\"#DejaVuSans-117\"/>\n     <use x=\"126.855469\" xlink:href=\"#DejaVuSans-108\"/>\n     <use x=\"154.638672\" xlink:href=\"#DejaVuSans-108\"/>\n     <use x=\"182.421875\" xlink:href=\"#DejaVuSans-111\"/>\n     <use x=\"243.603516\" xlink:href=\"#DejaVuSans-118\"/>\n     <use x=\"302.783203\" xlink:href=\"#DejaVuSans-101\"/>\n     <use x=\"364.306641\" xlink:href=\"#DejaVuSans-114\"/>\n    </g>\n    <!-- shirt -->\n    <defs>\n     <path d=\"M 54.890625 33.015625 \nL 54.890625 0 \nL 45.90625 0 \nL 45.90625 32.71875 \nQ 45.90625 40.484375 42.875 44.328125 \nQ 39.84375 48.1875 33.796875 48.1875 \nQ 26.515625 48.1875 22.3125 43.546875 \nQ 18.109375 38.921875 18.109375 30.90625 \nL 18.109375 0 \nL 9.078125 0 \nL 9.078125 75.984375 \nL 18.109375 75.984375 \nL 18.109375 46.1875 \nQ 21.34375 51.125 25.703125 53.5625 \nQ 30.078125 56 35.796875 56 \nQ 45.21875 56 50.046875 50.171875 \nQ 54.890625 44.34375 54.890625 33.015625 \nz\n\" id=\"DejaVuSans-104\"/>\n     <path d=\"M 9.421875 54.6875 \nL 18.40625 54.6875 \nL 18.40625 0 \nL 9.421875 0 \nz\nM 9.421875 75.984375 \nL 18.40625 75.984375 \nL 18.40625 64.59375 \nL 9.421875 64.59375 \nz\n\" id=\"DejaVuSans-105\"/>\n    </defs>\n    <g transform=\"translate(203.864973 29.7555)scale(0.12 -0.12)\">\n     <use xlink:href=\"#DejaVuSans-115\"/>\n     <use x=\"52.099609\" xlink:href=\"#DejaVuSans-104\"/>\n     <use x=\"115.478516\" xlink:href=\"#DejaVuSans-105\"/>\n     <use x=\"143.261719\" xlink:href=\"#DejaVuSans-114\"/>\n     <use x=\"184.375\" xlink:href=\"#DejaVuSans-116\"/>\n    </g>\n   </g>\n  </g>\n  <g id=\"axes_4\">\n   <g id=\"patch_17\">\n    <path d=\"M 267.142553 106.989543 \nL 338.376596 106.989543 \nL 338.376596 35.7555 \nL 267.142553 35.7555 \nz\n\" style=\"fill:#ffffff;\"/>\n   </g>\n   <g clip-path=\"url(#pf405722988)\">\n    <image height=\"72\" id=\"image88a5172909\" transform=\"scale(1 -1)translate(0 -72)\" width=\"72\" x=\"267.142553\" xlink:href=\"data:image/png;base64,\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\" y=\"-34.989543\"/>\n   </g>\n   <g id=\"patch_18\">\n    <path d=\"M 267.142553 106.989543 \nL 267.142553 35.7555 \n\" style=\"fill:none;stroke:#000000;stroke-linecap:square;stroke-linejoin:miter;stroke-width:0.8;\"/>\n   </g>\n   <g id=\"patch_19\">\n    <path d=\"M 338.376596 106.989543 \nL 338.376596 35.7555 \n\" style=\"fill:none;stroke:#000000;stroke-linecap:square;stroke-linejoin:miter;stroke-width:0.8;\"/>\n   </g>\n   <g id=\"patch_20\">\n    <path d=\"M 267.142553 106.989543 \nL 338.376596 106.989543 \n\" style=\"fill:none;stroke:#000000;stroke-linecap:square;stroke-linejoin:miter;stroke-width:0.8;\"/>\n   </g>\n   <g id=\"patch_21\">\n    <path d=\"M 267.142553 35.7555 \nL 338.376596 35.7555 \n\" style=\"fill:none;stroke:#000000;stroke-linecap:square;stroke-linejoin:miter;stroke-width:0.8;\"/>\n   </g>\n   <g id=\"text_4\">\n    <!-- sandal -->\n    <g transform=\"translate(283.001762 16.318125)scale(0.12 -0.12)\">\n     <use xlink:href=\"#DejaVuSans-115\"/>\n     <use x=\"52.099609\" xlink:href=\"#DejaVuSans-97\"/>\n     <use x=\"113.378906\" xlink:href=\"#DejaVuSans-110\"/>\n     <use x=\"176.757812\" xlink:href=\"#DejaVuSans-100\"/>\n     <use x=\"240.234375\" xlink:href=\"#DejaVuSans-97\"/>\n     <use x=\"301.513672\" xlink:href=\"#DejaVuSans-108\"/>\n    </g>\n    <!-- sneaker -->\n    <g transform=\"translate(279.047387 29.7555)scale(0.12 -0.12)\">\n     <use xlink:href=\"#DejaVuSans-115\"/>\n     <use x=\"52.099609\" xlink:href=\"#DejaVuSans-110\"/>\n     <use x=\"115.478516\" xlink:href=\"#DejaVuSans-101\"/>\n     <use x=\"177.001953\" xlink:href=\"#DejaVuSans-97\"/>\n     <use x=\"238.28125\" xlink:href=\"#DejaVuSans-107\"/>\n     <use x=\"292.566406\" xlink:href=\"#DejaVuSans-101\"/>\n     <use x=\"354.089844\" xlink:href=\"#DejaVuSans-114\"/>\n    </g>\n   </g>\n  </g>\n  <g id=\"axes_5\">\n   <g id=\"patch_22\">\n    <path d=\"M 352.623404 106.989543 \nL 423.857447 106.989543 \nL 423.857447 35.7555 \nL 352.623404 35.7555 \nz\n\" style=\"fill:#ffffff;\"/>\n   </g>\n   <g clip-path=\"url(#pc33614d11e)\">\n    <image height=\"72\" id=\"image8eb86f4ab1\" transform=\"scale(1 -1)translate(0 -72)\" width=\"72\" x=\"352.623404\" xlink:href=\"data:image/png;base64,\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\" y=\"-34.989543\"/>\n   </g>\n   <g id=\"patch_23\">\n    <path d=\"M 352.623404 106.989543 \nL 352.623404 35.7555 \n\" style=\"fill:none;stroke:#000000;stroke-linecap:square;stroke-linejoin:miter;stroke-width:0.8;\"/>\n   </g>\n   <g id=\"patch_24\">\n    <path d=\"M 423.857447 106.989543 \nL 423.857447 35.7555 \n\" style=\"fill:none;stroke:#000000;stroke-linecap:square;stroke-linejoin:miter;stroke-width:0.8;\"/>\n   </g>\n   <g id=\"patch_25\">\n    <path d=\"M 352.623404 106.989543 \nL 423.857447 106.989543 \n\" style=\"fill:none;stroke:#000000;stroke-linecap:square;stroke-linejoin:miter;stroke-width:0.8;\"/>\n   </g>\n   <g id=\"patch_26\">\n    <path d=\"M 352.623404 35.7555 \nL 423.857447 35.7555 \n\" style=\"fill:none;stroke:#000000;stroke-linecap:square;stroke-linejoin:miter;stroke-width:0.8;\"/>\n   </g>\n   <g id=\"text_5\">\n    <!-- ankle boot -->\n    <defs>\n     <path id=\"DejaVuSans-32\"/>\n     <path d=\"M 48.6875 27.296875 \nQ 48.6875 37.203125 44.609375 42.84375 \nQ 40.53125 48.484375 33.40625 48.484375 \nQ 26.265625 48.484375 22.1875 42.84375 \nQ 18.109375 37.203125 18.109375 27.296875 \nQ 18.109375 17.390625 22.1875 11.75 \nQ 26.265625 6.109375 33.40625 6.109375 \nQ 40.53125 6.109375 44.609375 11.75 \nQ 48.6875 17.390625 48.6875 27.296875 \nz\nM 18.109375 46.390625 \nQ 20.953125 51.265625 25.265625 53.625 \nQ 29.59375 56 35.59375 56 \nQ 45.5625 56 51.78125 48.09375 \nQ 58.015625 40.1875 58.015625 27.296875 \nQ 58.015625 14.40625 51.78125 6.484375 \nQ 45.5625 -1.421875 35.59375 -1.421875 \nQ 29.59375 -1.421875 25.265625 0.953125 \nQ 20.953125 3.328125 18.109375 8.203125 \nL 18.109375 0 \nL 9.078125 0 \nL 9.078125 75.984375 \nL 18.109375 75.984375 \nz\n\" id=\"DejaVuSans-98\"/>\n    </defs>\n    <g transform=\"translate(356.517301 16.318125)scale(0.12 -0.12)\">\n     <use xlink:href=\"#DejaVuSans-97\"/>\n     <use x=\"61.279297\" xlink:href=\"#DejaVuSans-110\"/>\n     <use x=\"124.658203\" xlink:href=\"#DejaVuSans-107\"/>\n     <use x=\"182.568359\" xlink:href=\"#DejaVuSans-108\"/>\n     <use x=\"210.351562\" xlink:href=\"#DejaVuSans-101\"/>\n     <use x=\"271.875\" xlink:href=\"#DejaVuSans-32\"/>\n     <use x=\"303.662109\" xlink:href=\"#DejaVuSans-98\"/>\n     <use x=\"367.138672\" xlink:href=\"#DejaVuSans-111\"/>\n     <use x=\"428.320312\" xlink:href=\"#DejaVuSans-111\"/>\n     <use x=\"489.501953\" xlink:href=\"#DejaVuSans-116\"/>\n    </g>\n    <!-- sneaker -->\n    <g transform=\"translate(364.528238 29.7555)scale(0.12 -0.12)\">\n     <use xlink:href=\"#DejaVuSans-115\"/>\n     <use x=\"52.099609\" xlink:href=\"#DejaVuSans-110\"/>\n     <use x=\"115.478516\" xlink:href=\"#DejaVuSans-101\"/>\n     <use x=\"177.001953\" xlink:href=\"#DejaVuSans-97\"/>\n     <use x=\"238.28125\" xlink:href=\"#DejaVuSans-107\"/>\n     <use x=\"292.566406\" xlink:href=\"#DejaVuSans-101\"/>\n     <use x=\"354.089844\" xlink:href=\"#DejaVuSans-114\"/>\n    </g>\n   </g>\n  </g>\n  <g id=\"axes_6\">\n   <g id=\"patch_27\">\n    <path d=\"M 438.104255 106.989543 \nL 509.338298 106.989543 \nL 509.338298 35.7555 \nL 438.104255 35.7555 \nz\n\" style=\"fill:#ffffff;\"/>\n   </g>\n   <g clip-path=\"url(#p7b15004e6c)\">\n    <image height=\"72\" id=\"imageacc618fbf0\" transform=\"scale(1 -1)translate(0 -72)\" width=\"72\" x=\"438.104255\" xlink:href=\"data:image/png;base64,\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\" y=\"-34.989543\"/>\n   </g>\n   <g id=\"patch_28\">\n    <path d=\"M 438.104255 106.989543 \nL 438.104255 35.7555 \n\" style=\"fill:none;stroke:#000000;stroke-linecap:square;stroke-linejoin:miter;stroke-width:0.8;\"/>\n   </g>\n   <g id=\"patch_29\">\n    <path d=\"M 509.338298 106.989543 \nL 509.338298 35.7555 \n\" style=\"fill:none;stroke:#000000;stroke-linecap:square;stroke-linejoin:miter;stroke-width:0.8;\"/>\n   </g>\n   <g id=\"patch_30\">\n    <path d=\"M 438.104255 106.989543 \nL 509.338298 106.989543 \n\" style=\"fill:none;stroke:#000000;stroke-linecap:square;stroke-linejoin:miter;stroke-width:0.8;\"/>\n   </g>\n   <g id=\"patch_31\">\n    <path d=\"M 438.104255 35.7555 \nL 509.338298 35.7555 \n\" style=\"fill:none;stroke:#000000;stroke-linecap:square;stroke-linejoin:miter;stroke-width:0.8;\"/>\n   </g>\n   <g id=\"text_6\">\n    <!-- coat -->\n    <g transform=\"translate(460.721902 16.318125)scale(0.12 -0.12)\">\n     <use xlink:href=\"#DejaVuSans-99\"/>\n     <use x=\"54.980469\" xlink:href=\"#DejaVuSans-111\"/>\n     <use x=\"116.162109\" xlink:href=\"#DejaVuSans-97\"/>\n     <use x=\"177.441406\" xlink:href=\"#DejaVuSans-116\"/>\n    </g>\n    <!-- pullover -->\n    <g transform=\"translate(449.395027 29.7555)scale(0.12 -0.12)\">\n     <use xlink:href=\"#DejaVuSans-112\"/>\n     <use x=\"63.476562\" xlink:href=\"#DejaVuSans-117\"/>\n     <use x=\"126.855469\" xlink:href=\"#DejaVuSans-108\"/>\n     <use x=\"154.638672\" xlink:href=\"#DejaVuSans-108\"/>\n     <use x=\"182.421875\" xlink:href=\"#DejaVuSans-111\"/>\n     <use x=\"243.603516\" xlink:href=\"#DejaVuSans-118\"/>\n     <use x=\"302.783203\" xlink:href=\"#DejaVuSans-101\"/>\n     <use x=\"364.306641\" xlink:href=\"#DejaVuSans-114\"/>\n    </g>\n   </g>\n  </g>\n  <g id=\"axes_7\">\n   <g id=\"patch_32\">\n    <path d=\"M 523.585106 106.989543 \nL 594.819149 106.989543 \nL 594.819149 35.7555 \nL 523.585106 35.7555 \nz\n\" style=\"fill:#ffffff;\"/>\n   </g>\n   <g clip-path=\"url(#p941f504076)\">\n    <image height=\"72\" id=\"imagec3a09bf89b\" transform=\"scale(1 -1)translate(0 -72)\" width=\"72\" x=\"523.585106\" xlink:href=\"data:image/png;base64,\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\" y=\"-34.989543\"/>\n   </g>\n   <g id=\"patch_33\">\n    <path d=\"M 523.585106 106.989543 \nL 523.585106 35.7555 \n\" style=\"fill:none;stroke:#000000;stroke-linecap:square;stroke-linejoin:miter;stroke-width:0.8;\"/>\n   </g>\n   <g id=\"patch_34\">\n    <path d=\"M 594.819149 106.989543 \nL 594.819149 35.7555 \n\" style=\"fill:none;stroke:#000000;stroke-linecap:square;stroke-linejoin:miter;stroke-width:0.8;\"/>\n   </g>\n   <g id=\"patch_35\">\n    <path d=\"M 523.585106 106.989543 \nL 594.819149 106.989543 \n\" style=\"fill:none;stroke:#000000;stroke-linecap:square;stroke-linejoin:miter;stroke-width:0.8;\"/>\n   </g>\n   <g id=\"patch_36\">\n    <path d=\"M 523.585106 35.7555 \nL 594.819149 35.7555 \n\" style=\"fill:none;stroke:#000000;stroke-linecap:square;stroke-linejoin:miter;stroke-width:0.8;\"/>\n   </g>\n   <g id=\"text_7\">\n    <!-- dress -->\n    <g transform=\"translate(543.118378 16.318125)scale(0.12 -0.12)\">\n     <use xlink:href=\"#DejaVuSans-100\"/>\n     <use x=\"63.476562\" xlink:href=\"#DejaVuSans-114\"/>\n     <use x=\"102.339844\" xlink:href=\"#DejaVuSans-101\"/>\n     <use x=\"163.863281\" xlink:href=\"#DejaVuSans-115\"/>\n     <use x=\"215.962891\" xlink:href=\"#DejaVuSans-115\"/>\n    </g>\n    <!-- shirt -->\n    <g transform=\"translate(545.788378 29.7555)scale(0.12 -0.12)\">\n     <use xlink:href=\"#DejaVuSans-115\"/>\n     <use x=\"52.099609\" xlink:href=\"#DejaVuSans-104\"/>\n     <use x=\"115.478516\" xlink:href=\"#DejaVuSans-105\"/>\n     <use x=\"143.261719\" xlink:href=\"#DejaVuSans-114\"/>\n     <use x=\"184.375\" xlink:href=\"#DejaVuSans-116\"/>\n    </g>\n   </g>\n  </g>\n  <g id=\"axes_8\">\n   <g id=\"patch_37\">\n    <path d=\"M 609.065957 106.989543 \nL 680.3 106.989543 \nL 680.3 35.7555 \nL 609.065957 35.7555 \nz\n\" style=\"fill:#ffffff;\"/>\n   </g>\n   <g clip-path=\"url(#p39eaa83b94)\">\n    <image height=\"72\" id=\"image13b8702869\" transform=\"scale(1 -1)translate(0 -72)\" width=\"72\" x=\"609.065957\" xlink:href=\"data:image/png;base64,\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\" y=\"-34.989543\"/>\n   </g>\n   <g id=\"patch_38\">\n    <path d=\"M 609.065957 106.989543 \nL 609.065957 35.7555 \n\" style=\"fill:none;stroke:#000000;stroke-linecap:square;stroke-linejoin:miter;stroke-width:0.8;\"/>\n   </g>\n   <g id=\"patch_39\">\n    <path d=\"M 680.3 106.989543 \nL 680.3 35.7555 \n\" style=\"fill:none;stroke:#000000;stroke-linecap:square;stroke-linejoin:miter;stroke-width:0.8;\"/>\n   </g>\n   <g id=\"patch_40\">\n    <path d=\"M 609.065957 106.989543 \nL 680.3 106.989543 \n\" style=\"fill:none;stroke:#000000;stroke-linecap:square;stroke-linejoin:miter;stroke-width:0.8;\"/>\n   </g>\n   <g id=\"patch_41\">\n    <path d=\"M 609.065957 35.7555 \nL 680.3 35.7555 \n\" style=\"fill:none;stroke:#000000;stroke-linecap:square;stroke-linejoin:miter;stroke-width:0.8;\"/>\n   </g>\n   <g id=\"text_8\">\n    <!-- dress -->\n    <g transform=\"translate(628.599229 16.318125)scale(0.12 -0.12)\">\n     <use xlink:href=\"#DejaVuSans-100\"/>\n     <use x=\"63.476562\" xlink:href=\"#DejaVuSans-114\"/>\n     <use x=\"102.339844\" xlink:href=\"#DejaVuSans-101\"/>\n     <use x=\"163.863281\" xlink:href=\"#DejaVuSans-115\"/>\n     <use x=\"215.962891\" xlink:href=\"#DejaVuSans-115\"/>\n    </g>\n    <!-- shirt -->\n    <g transform=\"translate(631.269229 29.7555)scale(0.12 -0.12)\">\n     <use xlink:href=\"#DejaVuSans-115\"/>\n     <use x=\"52.099609\" xlink:href=\"#DejaVuSans-104\"/>\n     <use x=\"115.478516\" xlink:href=\"#DejaVuSans-105\"/>\n     <use x=\"143.261719\" xlink:href=\"#DejaVuSans-114\"/>\n     <use x=\"184.375\" xlink:href=\"#DejaVuSans-116\"/>\n    </g>\n   </g>\n  </g>\n </g>\n <defs>\n  <clipPath id=\"pcd61774e9a\">\n   <rect height=\"71.234043\" width=\"71.234043\" x=\"10.7\" y=\"35.7555\"/>\n  </clipPath>\n  <clipPath id=\"p5308358cb1\">\n   <rect height=\"71.234043\" width=\"71.234043\" x=\"96.180851\" y=\"35.7555\"/>\n  </clipPath>\n  <clipPath id=\"pe114ef95e9\">\n   <rect height=\"71.234043\" width=\"71.234043\" x=\"181.661702\" y=\"35.7555\"/>\n  </clipPath>\n  <clipPath id=\"pf405722988\">\n   <rect height=\"71.234043\" width=\"71.234043\" x=\"267.142553\" y=\"35.7555\"/>\n  </clipPath>\n  <clipPath id=\"pc33614d11e\">\n   <rect height=\"71.234043\" width=\"71.234043\" x=\"352.623404\" y=\"35.7555\"/>\n  </clipPath>\n  <clipPath id=\"p7b15004e6c\">\n   <rect height=\"71.234043\" width=\"71.234043\" x=\"438.104255\" y=\"35.7555\"/>\n  </clipPath>\n  <clipPath id=\"p941f504076\">\n   <rect height=\"71.234043\" width=\"71.234043\" x=\"523.585106\" y=\"35.7555\"/>\n  </clipPath>\n  <clipPath id=\"p39eaa83b94\">\n   <rect height=\"71.234043\" width=\"71.234043\" x=\"609.065957\" y=\"35.7555\"/>\n  </clipPath>\n </defs>\n</svg>\n"
          },
          "metadata": {
            "needs_background": "light"
          }
        }
      ],
      "source": [
        "wrong = preds.type(y.dtype) != y\n",
        "X, y, preds = X[wrong], y[wrong], preds[wrong]\n",
        "labels = [a+'\\n'+b for a, b in zip(\n",
        "    data.text_labels(y), data.text_labels(preds))]\n",
        "data.visualize([X, y], labels=labels)"
      ]
    },
    {
      "cell_type": "markdown",
      "id": "2914644a",
      "metadata": {
        "origin_pos": 31,
        "id": "2914644a"
      },
      "source": [
        "## Summary\n",
        "\n",
        "By now we are starting to get some experience\n",
        "with solving linear regression\n",
        "and classification problems.\n",
        "With it, we have reached what would arguably be\n",
        "the state of the art of 1960-1970s of statistical modeling.\n",
        "In the next section, we'll show you how to leverage\n",
        "deep learning frameworks to implement this model\n",
        "much more efficiently.\n",
        "\n",
        "## Exercises\n",
        "\n",
        "1. In this section, we directly implemented the softmax function based on the mathematical definition of the softmax operation. As discussed in :numref:`sec_softmax` this can cause numerical instabilities.\n",
        "    1. Test whether `softmax` still works correctly if an input has a value of $100$?\n",
        "    1. Test whether `softmax` still works correctly if the largest of all inputs is smaller than $-100$?\n",
        "    1. Implement a fix by looking at the value relative to the largest entry in the argument.\n",
        "1. Implement a `cross_entropy` function that follows the definition of the cross-entropy loss function $\\sum_i y_i \\log \\hat{y}_i$.\n",
        "    1. Try it out in the code example above.\n",
        "    1. Why do you think it runs more slowly?\n",
        "    1. Should you use it? In which cases would it make sense?\n",
        "    1. What do you need to be careful of? Hint: consider the domain of the logarithm.\n",
        "1. Is it always a good idea to return the most likely label? For example, would you do this for medical diagnosis? How would you try to address this?\n",
        "1. Assume that we want to use softmax regression to predict the next word based on some features. What are some problems that might arise from a large vocabulary?\n",
        "1. Experiment with the hyperparameters of the code above. In particular:\n",
        "    1. Plot how the validation loss changes as you change the learning rate.\n",
        "    1. Do the validation and training loss change as you change the minibatch size? How large or small do you need to go before you see an effect?\n"
      ]
    },
    {
      "cell_type": "markdown",
      "id": "ee843195",
      "metadata": {
        "origin_pos": 33,
        "tab": [
          "pytorch"
        ],
        "id": "ee843195"
      },
      "source": [
        "[Discussions](https://discuss.d2l.ai/t/51)\n"
      ]
    }
  ],
  "metadata": {
    "kernelspec": {
      "display_name": "Python 3",
      "name": "python3"
    },
    "language_info": {
      "name": "python"
    },
    "colab": {
      "provenance": []
    },
    "widgets": {
      "application/vnd.jupyter.widget-state+json": {
        "dc08e54ef25b4a989bd69de648c3dac8": {
          "model_module": "@jupyter-widgets/controls",
          "model_name": "HBoxModel",
          "model_module_version": "1.5.0",
          "state": {
            "_dom_classes": [],
            "_model_module": "@jupyter-widgets/controls",
            "_model_module_version": "1.5.0",
            "_model_name": "HBoxModel",
            "_view_count": null,
            "_view_module": "@jupyter-widgets/controls",
            "_view_module_version": "1.5.0",
            "_view_name": "HBoxView",
            "box_style": "",
            "children": [
              "IPY_MODEL_48c9d25bd3dc4351a03799fb45640880",
              "IPY_MODEL_cc559259c1694221b3921d01bb3650bd",
              "IPY_MODEL_f97c48a2356f44d4a3627c5e128511ee"
            ],
            "layout": "IPY_MODEL_1471bc0f7f184ccf991415013b4139d7"
          }
        },
        "48c9d25bd3dc4351a03799fb45640880": {
          "model_module": "@jupyter-widgets/controls",
          "model_name": "HTMLModel",
          "model_module_version": "1.5.0",
          "state": {
            "_dom_classes": [],
            "_model_module": "@jupyter-widgets/controls",
            "_model_module_version": "1.5.0",
            "_model_name": "HTMLModel",
            "_view_count": null,
            "_view_module": "@jupyter-widgets/controls",
            "_view_module_version": "1.5.0",
            "_view_name": "HTMLView",
            "description": "",
            "description_tooltip": null,
            "layout": "IPY_MODEL_6df46564188a4f1882e6ea66c87b4195",
            "placeholder": "​",
            "style": "IPY_MODEL_754fb080104449adb09d396806a5bfd8",
            "value": "100%"
          }
        },
        "cc559259c1694221b3921d01bb3650bd": {
          "model_module": "@jupyter-widgets/controls",
          "model_name": "FloatProgressModel",
          "model_module_version": "1.5.0",
          "state": {
            "_dom_classes": [],
            "_model_module": "@jupyter-widgets/controls",
            "_model_module_version": "1.5.0",
            "_model_name": "FloatProgressModel",
            "_view_count": null,
            "_view_module": "@jupyter-widgets/controls",
            "_view_module_version": "1.5.0",
            "_view_name": "ProgressView",
            "bar_style": "success",
            "description": "",
            "description_tooltip": null,
            "layout": "IPY_MODEL_f0c8a8691ecc4fe8abb04fa10df94fe0",
            "max": 26421880,
            "min": 0,
            "orientation": "horizontal",
            "style": "IPY_MODEL_041e45e4bfc7427f98eb7f728701233e",
            "value": 26421880
          }
        },
        "f97c48a2356f44d4a3627c5e128511ee": {
          "model_module": "@jupyter-widgets/controls",
          "model_name": "HTMLModel",
          "model_module_version": "1.5.0",
          "state": {
            "_dom_classes": [],
            "_model_module": "@jupyter-widgets/controls",
            "_model_module_version": "1.5.0",
            "_model_name": "HTMLModel",
            "_view_count": null,
            "_view_module": "@jupyter-widgets/controls",
            "_view_module_version": "1.5.0",
            "_view_name": "HTMLView",
            "description": "",
            "description_tooltip": null,
            "layout": "IPY_MODEL_29a3ce53a6b74a4a92ee291d3b4e9410",
            "placeholder": "​",
            "style": "IPY_MODEL_c168ca2f26904ac7a93dce65bc864e57",
            "value": " 26421880/26421880 [00:01&lt;00:00, 27077078.27it/s]"
          }
        },
        "1471bc0f7f184ccf991415013b4139d7": {
          "model_module": "@jupyter-widgets/base",
          "model_name": "LayoutModel",
          "model_module_version": "1.2.0",
          "state": {
            "_model_module": "@jupyter-widgets/base",
            "_model_module_version": "1.2.0",
            "_model_name": "LayoutModel",
            "_view_count": null,
            "_view_module": "@jupyter-widgets/base",
            "_view_module_version": "1.2.0",
            "_view_name": "LayoutView",
            "align_content": null,
            "align_items": null,
            "align_self": null,
            "border": null,
            "bottom": null,
            "display": null,
            "flex": null,
            "flex_flow": null,
            "grid_area": null,
            "grid_auto_columns": null,
            "grid_auto_flow": null,
            "grid_auto_rows": null,
            "grid_column": null,
            "grid_gap": null,
            "grid_row": null,
            "grid_template_areas": null,
            "grid_template_columns": null,
            "grid_template_rows": null,
            "height": null,
            "justify_content": null,
            "justify_items": null,
            "left": null,
            "margin": null,
            "max_height": null,
            "max_width": null,
            "min_height": null,
            "min_width": null,
            "object_fit": null,
            "object_position": null,
            "order": null,
            "overflow": null,
            "overflow_x": null,
            "overflow_y": null,
            "padding": null,
            "right": null,
            "top": null,
            "visibility": null,
            "width": null
          }
        },
        "6df46564188a4f1882e6ea66c87b4195": {
          "model_module": "@jupyter-widgets/base",
          "model_name": "LayoutModel",
          "model_module_version": "1.2.0",
          "state": {
            "_model_module": "@jupyter-widgets/base",
            "_model_module_version": "1.2.0",
            "_model_name": "LayoutModel",
            "_view_count": null,
            "_view_module": "@jupyter-widgets/base",
            "_view_module_version": "1.2.0",
            "_view_name": "LayoutView",
            "align_content": null,
            "align_items": null,
            "align_self": null,
            "border": null,
            "bottom": null,
            "display": null,
            "flex": null,
            "flex_flow": null,
            "grid_area": null,
            "grid_auto_columns": null,
            "grid_auto_flow": null,
            "grid_auto_rows": null,
            "grid_column": null,
            "grid_gap": null,
            "grid_row": null,
            "grid_template_areas": null,
            "grid_template_columns": null,
            "grid_template_rows": null,
            "height": null,
            "justify_content": null,
            "justify_items": null,
            "left": null,
            "margin": null,
            "max_height": null,
            "max_width": null,
            "min_height": null,
            "min_width": null,
            "object_fit": null,
            "object_position": null,
            "order": null,
            "overflow": null,
            "overflow_x": null,
            "overflow_y": null,
            "padding": null,
            "right": null,
            "top": null,
            "visibility": null,
            "width": null
          }
        },
        "754fb080104449adb09d396806a5bfd8": {
          "model_module": "@jupyter-widgets/controls",
          "model_name": "DescriptionStyleModel",
          "model_module_version": "1.5.0",
          "state": {
            "_model_module": "@jupyter-widgets/controls",
            "_model_module_version": "1.5.0",
            "_model_name": "DescriptionStyleModel",
            "_view_count": null,
            "_view_module": "@jupyter-widgets/base",
            "_view_module_version": "1.2.0",
            "_view_name": "StyleView",
            "description_width": ""
          }
        },
        "f0c8a8691ecc4fe8abb04fa10df94fe0": {
          "model_module": "@jupyter-widgets/base",
          "model_name": "LayoutModel",
          "model_module_version": "1.2.0",
          "state": {
            "_model_module": "@jupyter-widgets/base",
            "_model_module_version": "1.2.0",
            "_model_name": "LayoutModel",
            "_view_count": null,
            "_view_module": "@jupyter-widgets/base",
            "_view_module_version": "1.2.0",
            "_view_name": "LayoutView",
            "align_content": null,
            "align_items": null,
            "align_self": null,
            "border": null,
            "bottom": null,
            "display": null,
            "flex": null,
            "flex_flow": null,
            "grid_area": null,
            "grid_auto_columns": null,
            "grid_auto_flow": null,
            "grid_auto_rows": null,
            "grid_column": null,
            "grid_gap": null,
            "grid_row": null,
            "grid_template_areas": null,
            "grid_template_columns": null,
            "grid_template_rows": null,
            "height": null,
            "justify_content": null,
            "justify_items": null,
            "left": null,
            "margin": null,
            "max_height": null,
            "max_width": null,
            "min_height": null,
            "min_width": null,
            "object_fit": null,
            "object_position": null,
            "order": null,
            "overflow": null,
            "overflow_x": null,
            "overflow_y": null,
            "padding": null,
            "right": null,
            "top": null,
            "visibility": null,
            "width": null
          }
        },
        "041e45e4bfc7427f98eb7f728701233e": {
          "model_module": "@jupyter-widgets/controls",
          "model_name": "ProgressStyleModel",
          "model_module_version": "1.5.0",
          "state": {
            "_model_module": "@jupyter-widgets/controls",
            "_model_module_version": "1.5.0",
            "_model_name": "ProgressStyleModel",
            "_view_count": null,
            "_view_module": "@jupyter-widgets/base",
            "_view_module_version": "1.2.0",
            "_view_name": "StyleView",
            "bar_color": null,
            "description_width": ""
          }
        },
        "29a3ce53a6b74a4a92ee291d3b4e9410": {
          "model_module": "@jupyter-widgets/base",
          "model_name": "LayoutModel",
          "model_module_version": "1.2.0",
          "state": {
            "_model_module": "@jupyter-widgets/base",
            "_model_module_version": "1.2.0",
            "_model_name": "LayoutModel",
            "_view_count": null,
            "_view_module": "@jupyter-widgets/base",
            "_view_module_version": "1.2.0",
            "_view_name": "LayoutView",
            "align_content": null,
            "align_items": null,
            "align_self": null,
            "border": null,
            "bottom": null,
            "display": null,
            "flex": null,
            "flex_flow": null,
            "grid_area": null,
            "grid_auto_columns": null,
            "grid_auto_flow": null,
            "grid_auto_rows": null,
            "grid_column": null,
            "grid_gap": null,
            "grid_row": null,
            "grid_template_areas": null,
            "grid_template_columns": null,
            "grid_template_rows": null,
            "height": null,
            "justify_content": null,
            "justify_items": null,
            "left": null,
            "margin": null,
            "max_height": null,
            "max_width": null,
            "min_height": null,
            "min_width": null,
            "object_fit": null,
            "object_position": null,
            "order": null,
            "overflow": null,
            "overflow_x": null,
            "overflow_y": null,
            "padding": null,
            "right": null,
            "top": null,
            "visibility": null,
            "width": null
          }
        },
        "c168ca2f26904ac7a93dce65bc864e57": {
          "model_module": "@jupyter-widgets/controls",
          "model_name": "DescriptionStyleModel",
          "model_module_version": "1.5.0",
          "state": {
            "_model_module": "@jupyter-widgets/controls",
            "_model_module_version": "1.5.0",
            "_model_name": "DescriptionStyleModel",
            "_view_count": null,
            "_view_module": "@jupyter-widgets/base",
            "_view_module_version": "1.2.0",
            "_view_name": "StyleView",
            "description_width": ""
          }
        },
        "80b0c5788e0b4799ae90ed50f85408fc": {
          "model_module": "@jupyter-widgets/controls",
          "model_name": "HBoxModel",
          "model_module_version": "1.5.0",
          "state": {
            "_dom_classes": [],
            "_model_module": "@jupyter-widgets/controls",
            "_model_module_version": "1.5.0",
            "_model_name": "HBoxModel",
            "_view_count": null,
            "_view_module": "@jupyter-widgets/controls",
            "_view_module_version": "1.5.0",
            "_view_name": "HBoxView",
            "box_style": "",
            "children": [
              "IPY_MODEL_b6152b4d466b4569bab47c907cf46a1f",
              "IPY_MODEL_61b965e66dab4be3a29af304a2826da6",
              "IPY_MODEL_aed12d0a3ae2420f83a30179b6ba92f3"
            ],
            "layout": "IPY_MODEL_54e50596be2346999fd3bf0756d13963"
          }
        },
        "b6152b4d466b4569bab47c907cf46a1f": {
          "model_module": "@jupyter-widgets/controls",
          "model_name": "HTMLModel",
          "model_module_version": "1.5.0",
          "state": {
            "_dom_classes": [],
            "_model_module": "@jupyter-widgets/controls",
            "_model_module_version": "1.5.0",
            "_model_name": "HTMLModel",
            "_view_count": null,
            "_view_module": "@jupyter-widgets/controls",
            "_view_module_version": "1.5.0",
            "_view_name": "HTMLView",
            "description": "",
            "description_tooltip": null,
            "layout": "IPY_MODEL_42b95afff0a948a2b5aff9f97662d099",
            "placeholder": "​",
            "style": "IPY_MODEL_c1d23a8f8c1248f18bc36debf59d788d",
            "value": "100%"
          }
        },
        "61b965e66dab4be3a29af304a2826da6": {
          "model_module": "@jupyter-widgets/controls",
          "model_name": "FloatProgressModel",
          "model_module_version": "1.5.0",
          "state": {
            "_dom_classes": [],
            "_model_module": "@jupyter-widgets/controls",
            "_model_module_version": "1.5.0",
            "_model_name": "FloatProgressModel",
            "_view_count": null,
            "_view_module": "@jupyter-widgets/controls",
            "_view_module_version": "1.5.0",
            "_view_name": "ProgressView",
            "bar_style": "success",
            "description": "",
            "description_tooltip": null,
            "layout": "IPY_MODEL_18eadb246d5b4a4f8b71169f301f4eca",
            "max": 29515,
            "min": 0,
            "orientation": "horizontal",
            "style": "IPY_MODEL_56f71eab76b9417580974bfb709973f9",
            "value": 29515
          }
        },
        "aed12d0a3ae2420f83a30179b6ba92f3": {
          "model_module": "@jupyter-widgets/controls",
          "model_name": "HTMLModel",
          "model_module_version": "1.5.0",
          "state": {
            "_dom_classes": [],
            "_model_module": "@jupyter-widgets/controls",
            "_model_module_version": "1.5.0",
            "_model_name": "HTMLModel",
            "_view_count": null,
            "_view_module": "@jupyter-widgets/controls",
            "_view_module_version": "1.5.0",
            "_view_name": "HTMLView",
            "description": "",
            "description_tooltip": null,
            "layout": "IPY_MODEL_49517e2ba58b4a1e85a9a76ec7fc01b7",
            "placeholder": "​",
            "style": "IPY_MODEL_cb9fbe863f154744bd57f597e20a845a",
            "value": " 29515/29515 [00:00&lt;00:00, 301037.83it/s]"
          }
        },
        "54e50596be2346999fd3bf0756d13963": {
          "model_module": "@jupyter-widgets/base",
          "model_name": "LayoutModel",
          "model_module_version": "1.2.0",
          "state": {
            "_model_module": "@jupyter-widgets/base",
            "_model_module_version": "1.2.0",
            "_model_name": "LayoutModel",
            "_view_count": null,
            "_view_module": "@jupyter-widgets/base",
            "_view_module_version": "1.2.0",
            "_view_name": "LayoutView",
            "align_content": null,
            "align_items": null,
            "align_self": null,
            "border": null,
            "bottom": null,
            "display": null,
            "flex": null,
            "flex_flow": null,
            "grid_area": null,
            "grid_auto_columns": null,
            "grid_auto_flow": null,
            "grid_auto_rows": null,
            "grid_column": null,
            "grid_gap": null,
            "grid_row": null,
            "grid_template_areas": null,
            "grid_template_columns": null,
            "grid_template_rows": null,
            "height": null,
            "justify_content": null,
            "justify_items": null,
            "left": null,
            "margin": null,
            "max_height": null,
            "max_width": null,
            "min_height": null,
            "min_width": null,
            "object_fit": null,
            "object_position": null,
            "order": null,
            "overflow": null,
            "overflow_x": null,
            "overflow_y": null,
            "padding": null,
            "right": null,
            "top": null,
            "visibility": null,
            "width": null
          }
        },
        "42b95afff0a948a2b5aff9f97662d099": {
          "model_module": "@jupyter-widgets/base",
          "model_name": "LayoutModel",
          "model_module_version": "1.2.0",
          "state": {
            "_model_module": "@jupyter-widgets/base",
            "_model_module_version": "1.2.0",
            "_model_name": "LayoutModel",
            "_view_count": null,
            "_view_module": "@jupyter-widgets/base",
            "_view_module_version": "1.2.0",
            "_view_name": "LayoutView",
            "align_content": null,
            "align_items": null,
            "align_self": null,
            "border": null,
            "bottom": null,
            "display": null,
            "flex": null,
            "flex_flow": null,
            "grid_area": null,
            "grid_auto_columns": null,
            "grid_auto_flow": null,
            "grid_auto_rows": null,
            "grid_column": null,
            "grid_gap": null,
            "grid_row": null,
            "grid_template_areas": null,
            "grid_template_columns": null,
            "grid_template_rows": null,
            "height": null,
            "justify_content": null,
            "justify_items": null,
            "left": null,
            "margin": null,
            "max_height": null,
            "max_width": null,
            "min_height": null,
            "min_width": null,
            "object_fit": null,
            "object_position": null,
            "order": null,
            "overflow": null,
            "overflow_x": null,
            "overflow_y": null,
            "padding": null,
            "right": null,
            "top": null,
            "visibility": null,
            "width": null
          }
        },
        "c1d23a8f8c1248f18bc36debf59d788d": {
          "model_module": "@jupyter-widgets/controls",
          "model_name": "DescriptionStyleModel",
          "model_module_version": "1.5.0",
          "state": {
            "_model_module": "@jupyter-widgets/controls",
            "_model_module_version": "1.5.0",
            "_model_name": "DescriptionStyleModel",
            "_view_count": null,
            "_view_module": "@jupyter-widgets/base",
            "_view_module_version": "1.2.0",
            "_view_name": "StyleView",
            "description_width": ""
          }
        },
        "18eadb246d5b4a4f8b71169f301f4eca": {
          "model_module": "@jupyter-widgets/base",
          "model_name": "LayoutModel",
          "model_module_version": "1.2.0",
          "state": {
            "_model_module": "@jupyter-widgets/base",
            "_model_module_version": "1.2.0",
            "_model_name": "LayoutModel",
            "_view_count": null,
            "_view_module": "@jupyter-widgets/base",
            "_view_module_version": "1.2.0",
            "_view_name": "LayoutView",
            "align_content": null,
            "align_items": null,
            "align_self": null,
            "border": null,
            "bottom": null,
            "display": null,
            "flex": null,
            "flex_flow": null,
            "grid_area": null,
            "grid_auto_columns": null,
            "grid_auto_flow": null,
            "grid_auto_rows": null,
            "grid_column": null,
            "grid_gap": null,
            "grid_row": null,
            "grid_template_areas": null,
            "grid_template_columns": null,
            "grid_template_rows": null,
            "height": null,
            "justify_content": null,
            "justify_items": null,
            "left": null,
            "margin": null,
            "max_height": null,
            "max_width": null,
            "min_height": null,
            "min_width": null,
            "object_fit": null,
            "object_position": null,
            "order": null,
            "overflow": null,
            "overflow_x": null,
            "overflow_y": null,
            "padding": null,
            "right": null,
            "top": null,
            "visibility": null,
            "width": null
          }
        },
        "56f71eab76b9417580974bfb709973f9": {
          "model_module": "@jupyter-widgets/controls",
          "model_name": "ProgressStyleModel",
          "model_module_version": "1.5.0",
          "state": {
            "_model_module": "@jupyter-widgets/controls",
            "_model_module_version": "1.5.0",
            "_model_name": "ProgressStyleModel",
            "_view_count": null,
            "_view_module": "@jupyter-widgets/base",
            "_view_module_version": "1.2.0",
            "_view_name": "StyleView",
            "bar_color": null,
            "description_width": ""
          }
        },
        "49517e2ba58b4a1e85a9a76ec7fc01b7": {
          "model_module": "@jupyter-widgets/base",
          "model_name": "LayoutModel",
          "model_module_version": "1.2.0",
          "state": {
            "_model_module": "@jupyter-widgets/base",
            "_model_module_version": "1.2.0",
            "_model_name": "LayoutModel",
            "_view_count": null,
            "_view_module": "@jupyter-widgets/base",
            "_view_module_version": "1.2.0",
            "_view_name": "LayoutView",
            "align_content": null,
            "align_items": null,
            "align_self": null,
            "border": null,
            "bottom": null,
            "display": null,
            "flex": null,
            "flex_flow": null,
            "grid_area": null,
            "grid_auto_columns": null,
            "grid_auto_flow": null,
            "grid_auto_rows": null,
            "grid_column": null,
            "grid_gap": null,
            "grid_row": null,
            "grid_template_areas": null,
            "grid_template_columns": null,
            "grid_template_rows": null,
            "height": null,
            "justify_content": null,
            "justify_items": null,
            "left": null,
            "margin": null,
            "max_height": null,
            "max_width": null,
            "min_height": null,
            "min_width": null,
            "object_fit": null,
            "object_position": null,
            "order": null,
            "overflow": null,
            "overflow_x": null,
            "overflow_y": null,
            "padding": null,
            "right": null,
            "top": null,
            "visibility": null,
            "width": null
          }
        },
        "cb9fbe863f154744bd57f597e20a845a": {
          "model_module": "@jupyter-widgets/controls",
          "model_name": "DescriptionStyleModel",
          "model_module_version": "1.5.0",
          "state": {
            "_model_module": "@jupyter-widgets/controls",
            "_model_module_version": "1.5.0",
            "_model_name": "DescriptionStyleModel",
            "_view_count": null,
            "_view_module": "@jupyter-widgets/base",
            "_view_module_version": "1.2.0",
            "_view_name": "StyleView",
            "description_width": ""
          }
        },
        "a64fd0310fd44e88b36bff25d4c68e78": {
          "model_module": "@jupyter-widgets/controls",
          "model_name": "HBoxModel",
          "model_module_version": "1.5.0",
          "state": {
            "_dom_classes": [],
            "_model_module": "@jupyter-widgets/controls",
            "_model_module_version": "1.5.0",
            "_model_name": "HBoxModel",
            "_view_count": null,
            "_view_module": "@jupyter-widgets/controls",
            "_view_module_version": "1.5.0",
            "_view_name": "HBoxView",
            "box_style": "",
            "children": [
              "IPY_MODEL_e7c591e66a774e18831790cdf652e4cb",
              "IPY_MODEL_4efa37698e5945c1b5f7e7ad2349b29c",
              "IPY_MODEL_9d27130e1c4a4d8ebd02c93d5c9953d2"
            ],
            "layout": "IPY_MODEL_2d4d9ce6895d43e093fbd11d8e690349"
          }
        },
        "e7c591e66a774e18831790cdf652e4cb": {
          "model_module": "@jupyter-widgets/controls",
          "model_name": "HTMLModel",
          "model_module_version": "1.5.0",
          "state": {
            "_dom_classes": [],
            "_model_module": "@jupyter-widgets/controls",
            "_model_module_version": "1.5.0",
            "_model_name": "HTMLModel",
            "_view_count": null,
            "_view_module": "@jupyter-widgets/controls",
            "_view_module_version": "1.5.0",
            "_view_name": "HTMLView",
            "description": "",
            "description_tooltip": null,
            "layout": "IPY_MODEL_cdd0b216cd344dd8a49b8da8f84af934",
            "placeholder": "​",
            "style": "IPY_MODEL_4243fcd9a57d4a37a7c49ab503cadba8",
            "value": "100%"
          }
        },
        "4efa37698e5945c1b5f7e7ad2349b29c": {
          "model_module": "@jupyter-widgets/controls",
          "model_name": "FloatProgressModel",
          "model_module_version": "1.5.0",
          "state": {
            "_dom_classes": [],
            "_model_module": "@jupyter-widgets/controls",
            "_model_module_version": "1.5.0",
            "_model_name": "FloatProgressModel",
            "_view_count": null,
            "_view_module": "@jupyter-widgets/controls",
            "_view_module_version": "1.5.0",
            "_view_name": "ProgressView",
            "bar_style": "success",
            "description": "",
            "description_tooltip": null,
            "layout": "IPY_MODEL_203d59ae35e44197b8e910e149d31f13",
            "max": 4422102,
            "min": 0,
            "orientation": "horizontal",
            "style": "IPY_MODEL_b43c4f8637f84df7b223cdd406073002",
            "value": 4422102
          }
        },
        "9d27130e1c4a4d8ebd02c93d5c9953d2": {
          "model_module": "@jupyter-widgets/controls",
          "model_name": "HTMLModel",
          "model_module_version": "1.5.0",
          "state": {
            "_dom_classes": [],
            "_model_module": "@jupyter-widgets/controls",
            "_model_module_version": "1.5.0",
            "_model_name": "HTMLModel",
            "_view_count": null,
            "_view_module": "@jupyter-widgets/controls",
            "_view_module_version": "1.5.0",
            "_view_name": "HTMLView",
            "description": "",
            "description_tooltip": null,
            "layout": "IPY_MODEL_6b5574fd566f43bfa90f779921f2d434",
            "placeholder": "​",
            "style": "IPY_MODEL_b083c16b25c24766974d3bdec8c31b56",
            "value": " 4422102/4422102 [00:00&lt;00:00, 5604856.47it/s]"
          }
        },
        "2d4d9ce6895d43e093fbd11d8e690349": {
          "model_module": "@jupyter-widgets/base",
          "model_name": "LayoutModel",
          "model_module_version": "1.2.0",
          "state": {
            "_model_module": "@jupyter-widgets/base",
            "_model_module_version": "1.2.0",
            "_model_name": "LayoutModel",
            "_view_count": null,
            "_view_module": "@jupyter-widgets/base",
            "_view_module_version": "1.2.0",
            "_view_name": "LayoutView",
            "align_content": null,
            "align_items": null,
            "align_self": null,
            "border": null,
            "bottom": null,
            "display": null,
            "flex": null,
            "flex_flow": null,
            "grid_area": null,
            "grid_auto_columns": null,
            "grid_auto_flow": null,
            "grid_auto_rows": null,
            "grid_column": null,
            "grid_gap": null,
            "grid_row": null,
            "grid_template_areas": null,
            "grid_template_columns": null,
            "grid_template_rows": null,
            "height": null,
            "justify_content": null,
            "justify_items": null,
            "left": null,
            "margin": null,
            "max_height": null,
            "max_width": null,
            "min_height": null,
            "min_width": null,
            "object_fit": null,
            "object_position": null,
            "order": null,
            "overflow": null,
            "overflow_x": null,
            "overflow_y": null,
            "padding": null,
            "right": null,
            "top": null,
            "visibility": null,
            "width": null
          }
        },
        "cdd0b216cd344dd8a49b8da8f84af934": {
          "model_module": "@jupyter-widgets/base",
          "model_name": "LayoutModel",
          "model_module_version": "1.2.0",
          "state": {
            "_model_module": "@jupyter-widgets/base",
            "_model_module_version": "1.2.0",
            "_model_name": "LayoutModel",
            "_view_count": null,
            "_view_module": "@jupyter-widgets/base",
            "_view_module_version": "1.2.0",
            "_view_name": "LayoutView",
            "align_content": null,
            "align_items": null,
            "align_self": null,
            "border": null,
            "bottom": null,
            "display": null,
            "flex": null,
            "flex_flow": null,
            "grid_area": null,
            "grid_auto_columns": null,
            "grid_auto_flow": null,
            "grid_auto_rows": null,
            "grid_column": null,
            "grid_gap": null,
            "grid_row": null,
            "grid_template_areas": null,
            "grid_template_columns": null,
            "grid_template_rows": null,
            "height": null,
            "justify_content": null,
            "justify_items": null,
            "left": null,
            "margin": null,
            "max_height": null,
            "max_width": null,
            "min_height": null,
            "min_width": null,
            "object_fit": null,
            "object_position": null,
            "order": null,
            "overflow": null,
            "overflow_x": null,
            "overflow_y": null,
            "padding": null,
            "right": null,
            "top": null,
            "visibility": null,
            "width": null
          }
        },
        "4243fcd9a57d4a37a7c49ab503cadba8": {
          "model_module": "@jupyter-widgets/controls",
          "model_name": "DescriptionStyleModel",
          "model_module_version": "1.5.0",
          "state": {
            "_model_module": "@jupyter-widgets/controls",
            "_model_module_version": "1.5.0",
            "_model_name": "DescriptionStyleModel",
            "_view_count": null,
            "_view_module": "@jupyter-widgets/base",
            "_view_module_version": "1.2.0",
            "_view_name": "StyleView",
            "description_width": ""
          }
        },
        "203d59ae35e44197b8e910e149d31f13": {
          "model_module": "@jupyter-widgets/base",
          "model_name": "LayoutModel",
          "model_module_version": "1.2.0",
          "state": {
            "_model_module": "@jupyter-widgets/base",
            "_model_module_version": "1.2.0",
            "_model_name": "LayoutModel",
            "_view_count": null,
            "_view_module": "@jupyter-widgets/base",
            "_view_module_version": "1.2.0",
            "_view_name": "LayoutView",
            "align_content": null,
            "align_items": null,
            "align_self": null,
            "border": null,
            "bottom": null,
            "display": null,
            "flex": null,
            "flex_flow": null,
            "grid_area": null,
            "grid_auto_columns": null,
            "grid_auto_flow": null,
            "grid_auto_rows": null,
            "grid_column": null,
            "grid_gap": null,
            "grid_row": null,
            "grid_template_areas": null,
            "grid_template_columns": null,
            "grid_template_rows": null,
            "height": null,
            "justify_content": null,
            "justify_items": null,
            "left": null,
            "margin": null,
            "max_height": null,
            "max_width": null,
            "min_height": null,
            "min_width": null,
            "object_fit": null,
            "object_position": null,
            "order": null,
            "overflow": null,
            "overflow_x": null,
            "overflow_y": null,
            "padding": null,
            "right": null,
            "top": null,
            "visibility": null,
            "width": null
          }
        },
        "b43c4f8637f84df7b223cdd406073002": {
          "model_module": "@jupyter-widgets/controls",
          "model_name": "ProgressStyleModel",
          "model_module_version": "1.5.0",
          "state": {
            "_model_module": "@jupyter-widgets/controls",
            "_model_module_version": "1.5.0",
            "_model_name": "ProgressStyleModel",
            "_view_count": null,
            "_view_module": "@jupyter-widgets/base",
            "_view_module_version": "1.2.0",
            "_view_name": "StyleView",
            "bar_color": null,
            "description_width": ""
          }
        },
        "6b5574fd566f43bfa90f779921f2d434": {
          "model_module": "@jupyter-widgets/base",
          "model_name": "LayoutModel",
          "model_module_version": "1.2.0",
          "state": {
            "_model_module": "@jupyter-widgets/base",
            "_model_module_version": "1.2.0",
            "_model_name": "LayoutModel",
            "_view_count": null,
            "_view_module": "@jupyter-widgets/base",
            "_view_module_version": "1.2.0",
            "_view_name": "LayoutView",
            "align_content": null,
            "align_items": null,
            "align_self": null,
            "border": null,
            "bottom": null,
            "display": null,
            "flex": null,
            "flex_flow": null,
            "grid_area": null,
            "grid_auto_columns": null,
            "grid_auto_flow": null,
            "grid_auto_rows": null,
            "grid_column": null,
            "grid_gap": null,
            "grid_row": null,
            "grid_template_areas": null,
            "grid_template_columns": null,
            "grid_template_rows": null,
            "height": null,
            "justify_content": null,
            "justify_items": null,
            "left": null,
            "margin": null,
            "max_height": null,
            "max_width": null,
            "min_height": null,
            "min_width": null,
            "object_fit": null,
            "object_position": null,
            "order": null,
            "overflow": null,
            "overflow_x": null,
            "overflow_y": null,
            "padding": null,
            "right": null,
            "top": null,
            "visibility": null,
            "width": null
          }
        },
        "b083c16b25c24766974d3bdec8c31b56": {
          "model_module": "@jupyter-widgets/controls",
          "model_name": "DescriptionStyleModel",
          "model_module_version": "1.5.0",
          "state": {
            "_model_module": "@jupyter-widgets/controls",
            "_model_module_version": "1.5.0",
            "_model_name": "DescriptionStyleModel",
            "_view_count": null,
            "_view_module": "@jupyter-widgets/base",
            "_view_module_version": "1.2.0",
            "_view_name": "StyleView",
            "description_width": ""
          }
        },
        "b5e1d2604d3b40369786ac1dd57a4353": {
          "model_module": "@jupyter-widgets/controls",
          "model_name": "HBoxModel",
          "model_module_version": "1.5.0",
          "state": {
            "_dom_classes": [],
            "_model_module": "@jupyter-widgets/controls",
            "_model_module_version": "1.5.0",
            "_model_name": "HBoxModel",
            "_view_count": null,
            "_view_module": "@jupyter-widgets/controls",
            "_view_module_version": "1.5.0",
            "_view_name": "HBoxView",
            "box_style": "",
            "children": [
              "IPY_MODEL_11afeb72d4d14a6d818438691c2d579a",
              "IPY_MODEL_6a7d1e8d61584827a9c0f1263b0ee7f1",
              "IPY_MODEL_9fc3449133ea4bb0b5a6627cbe8a14f9"
            ],
            "layout": "IPY_MODEL_c5afc66a82d44552b47c2de57190a4b2"
          }
        },
        "11afeb72d4d14a6d818438691c2d579a": {
          "model_module": "@jupyter-widgets/controls",
          "model_name": "HTMLModel",
          "model_module_version": "1.5.0",
          "state": {
            "_dom_classes": [],
            "_model_module": "@jupyter-widgets/controls",
            "_model_module_version": "1.5.0",
            "_model_name": "HTMLModel",
            "_view_count": null,
            "_view_module": "@jupyter-widgets/controls",
            "_view_module_version": "1.5.0",
            "_view_name": "HTMLView",
            "description": "",
            "description_tooltip": null,
            "layout": "IPY_MODEL_02589ce5ba47496998c28e1ee3efc87a",
            "placeholder": "​",
            "style": "IPY_MODEL_5278611a76a44088864e4c3d170d1245",
            "value": "100%"
          }
        },
        "6a7d1e8d61584827a9c0f1263b0ee7f1": {
          "model_module": "@jupyter-widgets/controls",
          "model_name": "FloatProgressModel",
          "model_module_version": "1.5.0",
          "state": {
            "_dom_classes": [],
            "_model_module": "@jupyter-widgets/controls",
            "_model_module_version": "1.5.0",
            "_model_name": "FloatProgressModel",
            "_view_count": null,
            "_view_module": "@jupyter-widgets/controls",
            "_view_module_version": "1.5.0",
            "_view_name": "ProgressView",
            "bar_style": "success",
            "description": "",
            "description_tooltip": null,
            "layout": "IPY_MODEL_0b881096a0d747fab8211e37ee36538f",
            "max": 5148,
            "min": 0,
            "orientation": "horizontal",
            "style": "IPY_MODEL_da86fd3bb70c463087dfb2f0df84a32a",
            "value": 5148
          }
        },
        "9fc3449133ea4bb0b5a6627cbe8a14f9": {
          "model_module": "@jupyter-widgets/controls",
          "model_name": "HTMLModel",
          "model_module_version": "1.5.0",
          "state": {
            "_dom_classes": [],
            "_model_module": "@jupyter-widgets/controls",
            "_model_module_version": "1.5.0",
            "_model_name": "HTMLModel",
            "_view_count": null,
            "_view_module": "@jupyter-widgets/controls",
            "_view_module_version": "1.5.0",
            "_view_name": "HTMLView",
            "description": "",
            "description_tooltip": null,
            "layout": "IPY_MODEL_c2e2b0581df94da0bcc84f6560f21e8d",
            "placeholder": "​",
            "style": "IPY_MODEL_ead04aa7e4f04700bf67b595493917bd",
            "value": " 5148/5148 [00:00&lt;00:00, 129452.43it/s]"
          }
        },
        "c5afc66a82d44552b47c2de57190a4b2": {
          "model_module": "@jupyter-widgets/base",
          "model_name": "LayoutModel",
          "model_module_version": "1.2.0",
          "state": {
            "_model_module": "@jupyter-widgets/base",
            "_model_module_version": "1.2.0",
            "_model_name": "LayoutModel",
            "_view_count": null,
            "_view_module": "@jupyter-widgets/base",
            "_view_module_version": "1.2.0",
            "_view_name": "LayoutView",
            "align_content": null,
            "align_items": null,
            "align_self": null,
            "border": null,
            "bottom": null,
            "display": null,
            "flex": null,
            "flex_flow": null,
            "grid_area": null,
            "grid_auto_columns": null,
            "grid_auto_flow": null,
            "grid_auto_rows": null,
            "grid_column": null,
            "grid_gap": null,
            "grid_row": null,
            "grid_template_areas": null,
            "grid_template_columns": null,
            "grid_template_rows": null,
            "height": null,
            "justify_content": null,
            "justify_items": null,
            "left": null,
            "margin": null,
            "max_height": null,
            "max_width": null,
            "min_height": null,
            "min_width": null,
            "object_fit": null,
            "object_position": null,
            "order": null,
            "overflow": null,
            "overflow_x": null,
            "overflow_y": null,
            "padding": null,
            "right": null,
            "top": null,
            "visibility": null,
            "width": null
          }
        },
        "02589ce5ba47496998c28e1ee3efc87a": {
          "model_module": "@jupyter-widgets/base",
          "model_name": "LayoutModel",
          "model_module_version": "1.2.0",
          "state": {
            "_model_module": "@jupyter-widgets/base",
            "_model_module_version": "1.2.0",
            "_model_name": "LayoutModel",
            "_view_count": null,
            "_view_module": "@jupyter-widgets/base",
            "_view_module_version": "1.2.0",
            "_view_name": "LayoutView",
            "align_content": null,
            "align_items": null,
            "align_self": null,
            "border": null,
            "bottom": null,
            "display": null,
            "flex": null,
            "flex_flow": null,
            "grid_area": null,
            "grid_auto_columns": null,
            "grid_auto_flow": null,
            "grid_auto_rows": null,
            "grid_column": null,
            "grid_gap": null,
            "grid_row": null,
            "grid_template_areas": null,
            "grid_template_columns": null,
            "grid_template_rows": null,
            "height": null,
            "justify_content": null,
            "justify_items": null,
            "left": null,
            "margin": null,
            "max_height": null,
            "max_width": null,
            "min_height": null,
            "min_width": null,
            "object_fit": null,
            "object_position": null,
            "order": null,
            "overflow": null,
            "overflow_x": null,
            "overflow_y": null,
            "padding": null,
            "right": null,
            "top": null,
            "visibility": null,
            "width": null
          }
        },
        "5278611a76a44088864e4c3d170d1245": {
          "model_module": "@jupyter-widgets/controls",
          "model_name": "DescriptionStyleModel",
          "model_module_version": "1.5.0",
          "state": {
            "_model_module": "@jupyter-widgets/controls",
            "_model_module_version": "1.5.0",
            "_model_name": "DescriptionStyleModel",
            "_view_count": null,
            "_view_module": "@jupyter-widgets/base",
            "_view_module_version": "1.2.0",
            "_view_name": "StyleView",
            "description_width": ""
          }
        },
        "0b881096a0d747fab8211e37ee36538f": {
          "model_module": "@jupyter-widgets/base",
          "model_name": "LayoutModel",
          "model_module_version": "1.2.0",
          "state": {
            "_model_module": "@jupyter-widgets/base",
            "_model_module_version": "1.2.0",
            "_model_name": "LayoutModel",
            "_view_count": null,
            "_view_module": "@jupyter-widgets/base",
            "_view_module_version": "1.2.0",
            "_view_name": "LayoutView",
            "align_content": null,
            "align_items": null,
            "align_self": null,
            "border": null,
            "bottom": null,
            "display": null,
            "flex": null,
            "flex_flow": null,
            "grid_area": null,
            "grid_auto_columns": null,
            "grid_auto_flow": null,
            "grid_auto_rows": null,
            "grid_column": null,
            "grid_gap": null,
            "grid_row": null,
            "grid_template_areas": null,
            "grid_template_columns": null,
            "grid_template_rows": null,
            "height": null,
            "justify_content": null,
            "justify_items": null,
            "left": null,
            "margin": null,
            "max_height": null,
            "max_width": null,
            "min_height": null,
            "min_width": null,
            "object_fit": null,
            "object_position": null,
            "order": null,
            "overflow": null,
            "overflow_x": null,
            "overflow_y": null,
            "padding": null,
            "right": null,
            "top": null,
            "visibility": null,
            "width": null
          }
        },
        "da86fd3bb70c463087dfb2f0df84a32a": {
          "model_module": "@jupyter-widgets/controls",
          "model_name": "ProgressStyleModel",
          "model_module_version": "1.5.0",
          "state": {
            "_model_module": "@jupyter-widgets/controls",
            "_model_module_version": "1.5.0",
            "_model_name": "ProgressStyleModel",
            "_view_count": null,
            "_view_module": "@jupyter-widgets/base",
            "_view_module_version": "1.2.0",
            "_view_name": "StyleView",
            "bar_color": null,
            "description_width": ""
          }
        },
        "c2e2b0581df94da0bcc84f6560f21e8d": {
          "model_module": "@jupyter-widgets/base",
          "model_name": "LayoutModel",
          "model_module_version": "1.2.0",
          "state": {
            "_model_module": "@jupyter-widgets/base",
            "_model_module_version": "1.2.0",
            "_model_name": "LayoutModel",
            "_view_count": null,
            "_view_module": "@jupyter-widgets/base",
            "_view_module_version": "1.2.0",
            "_view_name": "LayoutView",
            "align_content": null,
            "align_items": null,
            "align_self": null,
            "border": null,
            "bottom": null,
            "display": null,
            "flex": null,
            "flex_flow": null,
            "grid_area": null,
            "grid_auto_columns": null,
            "grid_auto_flow": null,
            "grid_auto_rows": null,
            "grid_column": null,
            "grid_gap": null,
            "grid_row": null,
            "grid_template_areas": null,
            "grid_template_columns": null,
            "grid_template_rows": null,
            "height": null,
            "justify_content": null,
            "justify_items": null,
            "left": null,
            "margin": null,
            "max_height": null,
            "max_width": null,
            "min_height": null,
            "min_width": null,
            "object_fit": null,
            "object_position": null,
            "order": null,
            "overflow": null,
            "overflow_x": null,
            "overflow_y": null,
            "padding": null,
            "right": null,
            "top": null,
            "visibility": null,
            "width": null
          }
        },
        "ead04aa7e4f04700bf67b595493917bd": {
          "model_module": "@jupyter-widgets/controls",
          "model_name": "DescriptionStyleModel",
          "model_module_version": "1.5.0",
          "state": {
            "_model_module": "@jupyter-widgets/controls",
            "_model_module_version": "1.5.0",
            "_model_name": "DescriptionStyleModel",
            "_view_count": null,
            "_view_module": "@jupyter-widgets/base",
            "_view_module_version": "1.2.0",
            "_view_name": "StyleView",
            "description_width": ""
          }
        }
      }
    }
  },
  "nbformat": 4,
  "nbformat_minor": 5
}