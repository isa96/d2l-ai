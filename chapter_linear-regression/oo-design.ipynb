{
  "cells": [
    {
      "cell_type": "markdown",
      "id": "b8adce05",
      "metadata": {
        "id": "b8adce05"
      },
      "source": [
        "The following additional libraries are needed to run this\n",
        "notebook. Note that running on Colab is experimental, please report a Github\n",
        "issue if you have any problem."
      ]
    },
    {
      "cell_type": "code",
      "execution_count": 1,
      "id": "ab029ca1",
      "metadata": {
        "id": "ab029ca1",
        "outputId": "2d895d2e-4d6d-49af-b632-6c874909cc4f",
        "colab": {
          "base_uri": "https://localhost:8080/"
        }
      },
      "outputs": [
        {
          "output_type": "stream",
          "name": "stdout",
          "text": [
            "Looking in indexes: https://pypi.org/simple, https://us-python.pkg.dev/colab-wheels/public/simple/\n",
            "Collecting d2l==1.0.0-alpha1.post0\n",
            "  Downloading d2l-1.0.0a1.post0-py3-none-any.whl (93 kB)\n",
            "\u001b[K     |████████████████████████████████| 93 kB 1.5 MB/s \n",
            "\u001b[?25hRequirement already satisfied: numpy in /usr/local/lib/python3.7/dist-packages (from d2l==1.0.0-alpha1.post0) (1.21.6)\n",
            "Collecting matplotlib-inline\n",
            "  Downloading matplotlib_inline-0.1.6-py3-none-any.whl (9.4 kB)\n",
            "Requirement already satisfied: gym in /usr/local/lib/python3.7/dist-packages (from d2l==1.0.0-alpha1.post0) (0.25.2)\n",
            "Requirement already satisfied: requests in /usr/local/lib/python3.7/dist-packages (from d2l==1.0.0-alpha1.post0) (2.23.0)\n",
            "Requirement already satisfied: matplotlib in /usr/local/lib/python3.7/dist-packages (from d2l==1.0.0-alpha1.post0) (3.2.2)\n",
            "Collecting jupyter\n",
            "  Downloading jupyter-1.0.0-py2.py3-none-any.whl (2.7 kB)\n",
            "Requirement already satisfied: pandas in /usr/local/lib/python3.7/dist-packages (from d2l==1.0.0-alpha1.post0) (1.3.5)\n",
            "Requirement already satisfied: importlib-metadata>=4.8.0 in /usr/local/lib/python3.7/dist-packages (from gym->d2l==1.0.0-alpha1.post0) (5.0.0)\n",
            "Requirement already satisfied: gym-notices>=0.0.4 in /usr/local/lib/python3.7/dist-packages (from gym->d2l==1.0.0-alpha1.post0) (0.0.8)\n",
            "Requirement already satisfied: cloudpickle>=1.2.0 in /usr/local/lib/python3.7/dist-packages (from gym->d2l==1.0.0-alpha1.post0) (1.5.0)\n",
            "Requirement already satisfied: typing-extensions>=3.6.4 in /usr/local/lib/python3.7/dist-packages (from importlib-metadata>=4.8.0->gym->d2l==1.0.0-alpha1.post0) (4.1.1)\n",
            "Requirement already satisfied: zipp>=0.5 in /usr/local/lib/python3.7/dist-packages (from importlib-metadata>=4.8.0->gym->d2l==1.0.0-alpha1.post0) (3.9.0)\n",
            "Collecting qtconsole\n",
            "  Downloading qtconsole-5.3.2-py3-none-any.whl (120 kB)\n",
            "\u001b[K     |████████████████████████████████| 120 kB 62.2 MB/s \n",
            "\u001b[?25hRequirement already satisfied: notebook in /usr/local/lib/python3.7/dist-packages (from jupyter->d2l==1.0.0-alpha1.post0) (5.5.0)\n",
            "Requirement already satisfied: ipywidgets in /usr/local/lib/python3.7/dist-packages (from jupyter->d2l==1.0.0-alpha1.post0) (7.7.1)\n",
            "Requirement already satisfied: ipykernel in /usr/local/lib/python3.7/dist-packages (from jupyter->d2l==1.0.0-alpha1.post0) (5.3.4)\n",
            "Requirement already satisfied: jupyter-console in /usr/local/lib/python3.7/dist-packages (from jupyter->d2l==1.0.0-alpha1.post0) (6.1.0)\n",
            "Requirement already satisfied: nbconvert in /usr/local/lib/python3.7/dist-packages (from jupyter->d2l==1.0.0-alpha1.post0) (5.6.1)\n",
            "Requirement already satisfied: jupyter-client in /usr/local/lib/python3.7/dist-packages (from ipykernel->jupyter->d2l==1.0.0-alpha1.post0) (6.1.12)\n",
            "Requirement already satisfied: traitlets>=4.1.0 in /usr/local/lib/python3.7/dist-packages (from ipykernel->jupyter->d2l==1.0.0-alpha1.post0) (5.1.1)\n",
            "Requirement already satisfied: ipython>=5.0.0 in /usr/local/lib/python3.7/dist-packages (from ipykernel->jupyter->d2l==1.0.0-alpha1.post0) (7.9.0)\n",
            "Requirement already satisfied: tornado>=4.2 in /usr/local/lib/python3.7/dist-packages (from ipykernel->jupyter->d2l==1.0.0-alpha1.post0) (5.1.1)\n",
            "Requirement already satisfied: setuptools>=18.5 in /usr/local/lib/python3.7/dist-packages (from ipython>=5.0.0->ipykernel->jupyter->d2l==1.0.0-alpha1.post0) (57.4.0)\n",
            "Requirement already satisfied: decorator in /usr/local/lib/python3.7/dist-packages (from ipython>=5.0.0->ipykernel->jupyter->d2l==1.0.0-alpha1.post0) (4.4.2)\n",
            "Requirement already satisfied: pexpect in /usr/local/lib/python3.7/dist-packages (from ipython>=5.0.0->ipykernel->jupyter->d2l==1.0.0-alpha1.post0) (4.8.0)\n",
            "Requirement already satisfied: backcall in /usr/local/lib/python3.7/dist-packages (from ipython>=5.0.0->ipykernel->jupyter->d2l==1.0.0-alpha1.post0) (0.2.0)\n",
            "Requirement already satisfied: prompt-toolkit<2.1.0,>=2.0.0 in /usr/local/lib/python3.7/dist-packages (from ipython>=5.0.0->ipykernel->jupyter->d2l==1.0.0-alpha1.post0) (2.0.10)\n",
            "Requirement already satisfied: pickleshare in /usr/local/lib/python3.7/dist-packages (from ipython>=5.0.0->ipykernel->jupyter->d2l==1.0.0-alpha1.post0) (0.7.5)\n",
            "Requirement already satisfied: pygments in /usr/local/lib/python3.7/dist-packages (from ipython>=5.0.0->ipykernel->jupyter->d2l==1.0.0-alpha1.post0) (2.6.1)\n",
            "Collecting jedi>=0.10\n",
            "  Downloading jedi-0.18.1-py2.py3-none-any.whl (1.6 MB)\n",
            "\u001b[K     |████████████████████████████████| 1.6 MB 46.8 MB/s \n",
            "\u001b[?25hRequirement already satisfied: parso<0.9.0,>=0.8.0 in /usr/local/lib/python3.7/dist-packages (from jedi>=0.10->ipython>=5.0.0->ipykernel->jupyter->d2l==1.0.0-alpha1.post0) (0.8.3)\n",
            "Requirement already satisfied: wcwidth in /usr/local/lib/python3.7/dist-packages (from prompt-toolkit<2.1.0,>=2.0.0->ipython>=5.0.0->ipykernel->jupyter->d2l==1.0.0-alpha1.post0) (0.2.5)\n",
            "Requirement already satisfied: six>=1.9.0 in /usr/local/lib/python3.7/dist-packages (from prompt-toolkit<2.1.0,>=2.0.0->ipython>=5.0.0->ipykernel->jupyter->d2l==1.0.0-alpha1.post0) (1.15.0)\n",
            "Requirement already satisfied: jupyterlab-widgets>=1.0.0 in /usr/local/lib/python3.7/dist-packages (from ipywidgets->jupyter->d2l==1.0.0-alpha1.post0) (3.0.3)\n",
            "Requirement already satisfied: ipython-genutils~=0.2.0 in /usr/local/lib/python3.7/dist-packages (from ipywidgets->jupyter->d2l==1.0.0-alpha1.post0) (0.2.0)\n",
            "Requirement already satisfied: widgetsnbextension~=3.6.0 in /usr/local/lib/python3.7/dist-packages (from ipywidgets->jupyter->d2l==1.0.0-alpha1.post0) (3.6.1)\n",
            "Requirement already satisfied: pyzmq>=17 in /usr/local/lib/python3.7/dist-packages (from notebook->jupyter->d2l==1.0.0-alpha1.post0) (23.2.1)\n",
            "Requirement already satisfied: terminado>=0.8.1 in /usr/local/lib/python3.7/dist-packages (from notebook->jupyter->d2l==1.0.0-alpha1.post0) (0.13.3)\n",
            "Requirement already satisfied: jupyter-core>=4.4.0 in /usr/local/lib/python3.7/dist-packages (from notebook->jupyter->d2l==1.0.0-alpha1.post0) (4.11.1)\n",
            "Requirement already satisfied: jinja2 in /usr/local/lib/python3.7/dist-packages (from notebook->jupyter->d2l==1.0.0-alpha1.post0) (2.11.3)\n",
            "Requirement already satisfied: nbformat in /usr/local/lib/python3.7/dist-packages (from notebook->jupyter->d2l==1.0.0-alpha1.post0) (5.7.0)\n",
            "Requirement already satisfied: Send2Trash in /usr/local/lib/python3.7/dist-packages (from notebook->jupyter->d2l==1.0.0-alpha1.post0) (1.8.0)\n",
            "Requirement already satisfied: python-dateutil>=2.1 in /usr/local/lib/python3.7/dist-packages (from jupyter-client->ipykernel->jupyter->d2l==1.0.0-alpha1.post0) (2.8.2)\n",
            "Requirement already satisfied: ptyprocess in /usr/local/lib/python3.7/dist-packages (from terminado>=0.8.1->notebook->jupyter->d2l==1.0.0-alpha1.post0) (0.7.0)\n",
            "Requirement already satisfied: MarkupSafe>=0.23 in /usr/local/lib/python3.7/dist-packages (from jinja2->notebook->jupyter->d2l==1.0.0-alpha1.post0) (2.0.1)\n",
            "Requirement already satisfied: cycler>=0.10 in /usr/local/lib/python3.7/dist-packages (from matplotlib->d2l==1.0.0-alpha1.post0) (0.11.0)\n",
            "Requirement already satisfied: pyparsing!=2.0.4,!=2.1.2,!=2.1.6,>=2.0.1 in /usr/local/lib/python3.7/dist-packages (from matplotlib->d2l==1.0.0-alpha1.post0) (3.0.9)\n",
            "Requirement already satisfied: kiwisolver>=1.0.1 in /usr/local/lib/python3.7/dist-packages (from matplotlib->d2l==1.0.0-alpha1.post0) (1.4.4)\n",
            "Requirement already satisfied: testpath in /usr/local/lib/python3.7/dist-packages (from nbconvert->jupyter->d2l==1.0.0-alpha1.post0) (0.6.0)\n",
            "Requirement already satisfied: mistune<2,>=0.8.1 in /usr/local/lib/python3.7/dist-packages (from nbconvert->jupyter->d2l==1.0.0-alpha1.post0) (0.8.4)\n",
            "Requirement already satisfied: defusedxml in /usr/local/lib/python3.7/dist-packages (from nbconvert->jupyter->d2l==1.0.0-alpha1.post0) (0.7.1)\n",
            "Requirement already satisfied: pandocfilters>=1.4.1 in /usr/local/lib/python3.7/dist-packages (from nbconvert->jupyter->d2l==1.0.0-alpha1.post0) (1.5.0)\n",
            "Requirement already satisfied: bleach in /usr/local/lib/python3.7/dist-packages (from nbconvert->jupyter->d2l==1.0.0-alpha1.post0) (5.0.1)\n",
            "Requirement already satisfied: entrypoints>=0.2.2 in /usr/local/lib/python3.7/dist-packages (from nbconvert->jupyter->d2l==1.0.0-alpha1.post0) (0.4)\n",
            "Requirement already satisfied: fastjsonschema in /usr/local/lib/python3.7/dist-packages (from nbformat->notebook->jupyter->d2l==1.0.0-alpha1.post0) (2.16.2)\n",
            "Requirement already satisfied: jsonschema>=2.6 in /usr/local/lib/python3.7/dist-packages (from nbformat->notebook->jupyter->d2l==1.0.0-alpha1.post0) (4.3.3)\n",
            "Requirement already satisfied: importlib-resources>=1.4.0 in /usr/local/lib/python3.7/dist-packages (from jsonschema>=2.6->nbformat->notebook->jupyter->d2l==1.0.0-alpha1.post0) (5.10.0)\n",
            "Requirement already satisfied: pyrsistent!=0.17.0,!=0.17.1,!=0.17.2,>=0.14.0 in /usr/local/lib/python3.7/dist-packages (from jsonschema>=2.6->nbformat->notebook->jupyter->d2l==1.0.0-alpha1.post0) (0.18.1)\n",
            "Requirement already satisfied: attrs>=17.4.0 in /usr/local/lib/python3.7/dist-packages (from jsonschema>=2.6->nbformat->notebook->jupyter->d2l==1.0.0-alpha1.post0) (22.1.0)\n",
            "Requirement already satisfied: webencodings in /usr/local/lib/python3.7/dist-packages (from bleach->nbconvert->jupyter->d2l==1.0.0-alpha1.post0) (0.5.1)\n",
            "Requirement already satisfied: pytz>=2017.3 in /usr/local/lib/python3.7/dist-packages (from pandas->d2l==1.0.0-alpha1.post0) (2022.4)\n",
            "Collecting qtpy>=2.0.1\n",
            "  Downloading QtPy-2.2.1-py3-none-any.whl (82 kB)\n",
            "\u001b[K     |████████████████████████████████| 82 kB 936 kB/s \n",
            "\u001b[?25hRequirement already satisfied: packaging in /usr/local/lib/python3.7/dist-packages (from qtpy>=2.0.1->qtconsole->jupyter->d2l==1.0.0-alpha1.post0) (21.3)\n",
            "Requirement already satisfied: certifi>=2017.4.17 in /usr/local/lib/python3.7/dist-packages (from requests->d2l==1.0.0-alpha1.post0) (2022.9.24)\n",
            "Requirement already satisfied: chardet<4,>=3.0.2 in /usr/local/lib/python3.7/dist-packages (from requests->d2l==1.0.0-alpha1.post0) (3.0.4)\n",
            "Requirement already satisfied: idna<3,>=2.5 in /usr/local/lib/python3.7/dist-packages (from requests->d2l==1.0.0-alpha1.post0) (2.10)\n",
            "Requirement already satisfied: urllib3!=1.25.0,!=1.25.1,<1.26,>=1.21.1 in /usr/local/lib/python3.7/dist-packages (from requests->d2l==1.0.0-alpha1.post0) (1.24.3)\n",
            "Installing collected packages: jedi, qtpy, qtconsole, matplotlib-inline, jupyter, d2l\n",
            "Successfully installed d2l-1.0.0a1.post0 jedi-0.18.1 jupyter-1.0.0 matplotlib-inline-0.1.6 qtconsole-5.3.2 qtpy-2.2.1\n"
          ]
        }
      ],
      "source": [
        "!pip install d2l==1.0.0-alpha1.post0\n"
      ]
    },
    {
      "cell_type": "markdown",
      "id": "86b24ba6",
      "metadata": {
        "origin_pos": 1,
        "id": "86b24ba6"
      },
      "source": [
        "# Object-Oriented Design for Implementation\n",
        ":label:`sec_oo-design`\n",
        "\n",
        "In our introduction to linear regression,\n",
        "we walked through various components\n",
        "including\n",
        "the data, the model, the loss function,\n",
        "and the optimization algorithm.\n",
        "Indeed,\n",
        "linear regression is\n",
        "one of the simplest machine learning models.\n",
        "Training it,\n",
        "however, uses many of the same components as other models in this book require.\n",
        "Therefore, \n",
        "before diving into the implementation details\n",
        "it is worth \n",
        "designing some of the APIs\n",
        "used throughout this book. \n",
        "Treating components in deep learning\n",
        "as objects,\n",
        "we can start by\n",
        "defining classes for these objects\n",
        "and their interactions.\n",
        "This object-oriented design\n",
        "for implementation\n",
        "will greatly\n",
        "streamline the presentation and you might even want to use it in your projects.\n",
        "\n",
        "\n",
        "Inspired by open-source libraries such as [PyTorch Lightning](https://www.pytorchlightning.ai/),\n",
        "on a high level\n",
        "we wish to have three classes: \n",
        "(i) `Module` contains models, losses, and optimization methods; \n",
        "(ii) `DataModule` provides data loaders for training and validation; \n",
        "(iii) both classes are combined using the `Trainer` class, which allows us to\n",
        "train models on a variety of hardware platforms. \n",
        "Most code in this book adapts `Module` and `DataModule`. We will touch upon the `Trainer` class only when we discuss GPUs, CPUs, parallel training, and optimization algorithms.\n"
      ]
    },
    {
      "cell_type": "code",
      "execution_count": 2,
      "id": "8ffdf510",
      "metadata": {
        "execution": {
          "iopub.execute_input": "2022-09-07T22:08:24.223162Z",
          "iopub.status.busy": "2022-09-07T22:08:24.222276Z",
          "iopub.status.idle": "2022-09-07T22:08:26.193958Z",
          "shell.execute_reply": "2022-09-07T22:08:26.193155Z"
        },
        "origin_pos": 3,
        "tab": [
          "pytorch"
        ],
        "id": "8ffdf510"
      },
      "outputs": [],
      "source": [
        "import time\n",
        "import numpy as np\n",
        "import torch\n",
        "from torch import nn\n",
        "from d2l import torch as d2l"
      ]
    },
    {
      "cell_type": "markdown",
      "id": "8a3656e3",
      "metadata": {
        "origin_pos": 5,
        "id": "8a3656e3"
      },
      "source": [
        "## Utilities\n",
        ":label:`oo-design-utilities`\n",
        "\n",
        "We need a few utilities to simplify object-oriented programming in Jupyter notebooks. One of the challenges is that class definitions tend to be fairly long blocks of code. Notebook readability demands short code fragments, interspersed with explanations, a requirement incompatible with the style of programming common for Python libraries. The first\n",
        "utility function allows us to register functions as methods in a class *after* the class has been created. In fact, we can do so *even after* we've created instances of the class! It allows us to split the implementation of a class into multiple code blocks.\n"
      ]
    },
    {
      "cell_type": "code",
      "execution_count": 3,
      "id": "78e0a1ea",
      "metadata": {
        "execution": {
          "iopub.execute_input": "2022-09-07T22:08:26.198484Z",
          "iopub.status.busy": "2022-09-07T22:08:26.197937Z",
          "iopub.status.idle": "2022-09-07T22:08:26.202377Z",
          "shell.execute_reply": "2022-09-07T22:08:26.201507Z"
        },
        "origin_pos": 6,
        "tab": [
          "pytorch"
        ],
        "id": "78e0a1ea"
      },
      "outputs": [],
      "source": [
        "def add_to_class(Class):  #@save\n",
        "    def wrapper(obj):\n",
        "        setattr(Class, obj.__name__, obj)\n",
        "    return wrapper"
      ]
    },
    {
      "cell_type": "markdown",
      "id": "fe2fb0b6",
      "metadata": {
        "origin_pos": 7,
        "id": "fe2fb0b6"
      },
      "source": [
        "Let's have a quick look at how to use it. We plan to implement a class `A` with a method `do`. Instead of having code for both `A` and `do` in the same code block, we can first declare the class `A` and create an instance `a`.\n"
      ]
    },
    {
      "cell_type": "code",
      "execution_count": 4,
      "id": "a6361fea",
      "metadata": {
        "execution": {
          "iopub.execute_input": "2022-09-07T22:08:26.205898Z",
          "iopub.status.busy": "2022-09-07T22:08:26.205476Z",
          "iopub.status.idle": "2022-09-07T22:08:26.209621Z",
          "shell.execute_reply": "2022-09-07T22:08:26.208746Z"
        },
        "origin_pos": 8,
        "tab": [
          "pytorch"
        ],
        "id": "a6361fea"
      },
      "outputs": [],
      "source": [
        "class A:\n",
        "    def __init__(self):\n",
        "        self.b = 1\n",
        "\n",
        "a = A()"
      ]
    },
    {
      "cell_type": "markdown",
      "id": "84200bfe",
      "metadata": {
        "origin_pos": 9,
        "id": "84200bfe"
      },
      "source": [
        "Next we define the method `do` as we normally would, but not in class `A`'s scope. Instead, we decorate this method by `add_to_class` with class `A` as its argument. In doing so, the method is able to access the member variables of `A` as we would expect if it had been defined as part of `A`'s definition. Let's see what happens when we invoke it for the instance `a`.\n"
      ]
    },
    {
      "cell_type": "code",
      "execution_count": 5,
      "id": "adcb2657",
      "metadata": {
        "execution": {
          "iopub.execute_input": "2022-09-07T22:08:26.213174Z",
          "iopub.status.busy": "2022-09-07T22:08:26.212770Z",
          "iopub.status.idle": "2022-09-07T22:08:26.217308Z",
          "shell.execute_reply": "2022-09-07T22:08:26.216356Z"
        },
        "origin_pos": 10,
        "tab": [
          "pytorch"
        ],
        "id": "adcb2657",
        "outputId": "44c7f3d5-09d3-421e-dab7-7fbf303dd91f",
        "colab": {
          "base_uri": "https://localhost:8080/"
        }
      },
      "outputs": [
        {
          "output_type": "stream",
          "name": "stdout",
          "text": [
            "Class attribute \"b\" is 1\n"
          ]
        }
      ],
      "source": [
        "@add_to_class(A)\n",
        "def do(self):\n",
        "    print('Class attribute \"b\" is', self.b)\n",
        "\n",
        "a.do()"
      ]
    },
    {
      "cell_type": "markdown",
      "id": "0d40cce5",
      "metadata": {
        "origin_pos": 11,
        "id": "0d40cce5"
      },
      "source": [
        "The second one is a utility class that saves all arguments in a class's `__init__` method as class attributes. This allows us to extend constructor call signatures implicitly without additional code.\n"
      ]
    },
    {
      "cell_type": "code",
      "execution_count": 6,
      "id": "48f486b3",
      "metadata": {
        "execution": {
          "iopub.execute_input": "2022-09-07T22:08:26.221456Z",
          "iopub.status.busy": "2022-09-07T22:08:26.220956Z",
          "iopub.status.idle": "2022-09-07T22:08:26.225055Z",
          "shell.execute_reply": "2022-09-07T22:08:26.224103Z"
        },
        "origin_pos": 12,
        "tab": [
          "pytorch"
        ],
        "id": "48f486b3"
      },
      "outputs": [],
      "source": [
        "class HyperParameters:  #@save\n",
        "    def save_hyperparameters(self, ignore=[]):\n",
        "        raise NotImplemented"
      ]
    },
    {
      "cell_type": "markdown",
      "id": "27e812d8",
      "metadata": {
        "origin_pos": 13,
        "id": "27e812d8"
      },
      "source": [
        "We defer its implementation into :numref:`sec_utils`. To use it, we define our class that inherits from `HyperParameters` and calls `save_hyperparameters` in the `__init__` method.\n"
      ]
    },
    {
      "cell_type": "code",
      "execution_count": 7,
      "id": "a673e87a",
      "metadata": {
        "execution": {
          "iopub.execute_input": "2022-09-07T22:08:26.228830Z",
          "iopub.status.busy": "2022-09-07T22:08:26.228191Z",
          "iopub.status.idle": "2022-09-07T22:08:26.233619Z",
          "shell.execute_reply": "2022-09-07T22:08:26.232740Z"
        },
        "origin_pos": 14,
        "tab": [
          "pytorch"
        ],
        "id": "a673e87a",
        "outputId": "26447eaf-fa50-4357-8f38-cba5f332d92f",
        "colab": {
          "base_uri": "https://localhost:8080/"
        }
      },
      "outputs": [
        {
          "output_type": "stream",
          "name": "stdout",
          "text": [
            "self.a = 1 self.b = 2\n",
            "There is no self.c = True\n"
          ]
        }
      ],
      "source": [
        "# Call the fully implemented HyperParameters class saved in d2l\n",
        "class B(d2l.HyperParameters):\n",
        "    def __init__(self, a, b, c):\n",
        "        self.save_hyperparameters(ignore=['c'])\n",
        "        print('self.a =', self.a, 'self.b =', self.b)\n",
        "        print('There is no self.c =', not hasattr(self, 'c'))\n",
        "\n",
        "b = B(a=1, b=2, c=3)"
      ]
    },
    {
      "cell_type": "markdown",
      "id": "15d1abad",
      "metadata": {
        "origin_pos": 15,
        "id": "15d1abad"
      },
      "source": [
        "The last utility allows us to plot experiment progress interactively while it is going on. In deference to the much more powerful (and complex) [TensorBoard](https://www.tensorflow.org/tensorboard) we name it `ProgressBoard`. The  implementation is deferred to :numref:`sec_utils`. For now, let's simply see it in action.\n",
        "\n",
        "The `draw` function plots a point `(x, y)` in the figure, with `label` specified in the legend. The optional `every_n` smooths the line by only showing $1/n$ points in the figure. Their values are averaged from the $n$ neighbor points in the original figure.\n"
      ]
    },
    {
      "cell_type": "code",
      "execution_count": 8,
      "id": "6231eca0",
      "metadata": {
        "execution": {
          "iopub.execute_input": "2022-09-07T22:08:26.237296Z",
          "iopub.status.busy": "2022-09-07T22:08:26.236673Z",
          "iopub.status.idle": "2022-09-07T22:08:26.242358Z",
          "shell.execute_reply": "2022-09-07T22:08:26.241501Z"
        },
        "origin_pos": 16,
        "tab": [
          "pytorch"
        ],
        "id": "6231eca0"
      },
      "outputs": [],
      "source": [
        "class ProgressBoard(d2l.HyperParameters):  #@save\n",
        "    \"\"\"Plot data points in animation.\"\"\"\n",
        "    def __init__(self, xlabel=None, ylabel=None, xlim=None,\n",
        "                 ylim=None, xscale='linear', yscale='linear',\n",
        "                 ls=['-', '--', '-.', ':'], colors=['C0', 'C1', 'C2', 'C3'],\n",
        "                 fig=None, axes=None, figsize=(3.5, 2.5), display=True):\n",
        "        self.save_hyperparameters()\n",
        "\n",
        "    def draw(self, x, y, label, every_n=1):\n",
        "        raise NotImplemented"
      ]
    },
    {
      "cell_type": "markdown",
      "id": "8ac48314",
      "metadata": {
        "origin_pos": 17,
        "id": "8ac48314"
      },
      "source": [
        "In the following example, we draw `sin` and `cos` with a different smoothness. If you run this code block, you will see the lines grow in animation.\n"
      ]
    },
    {
      "cell_type": "code",
      "execution_count": 9,
      "id": "b1c86c6d",
      "metadata": {
        "execution": {
          "iopub.execute_input": "2022-09-07T22:08:26.245886Z",
          "iopub.status.busy": "2022-09-07T22:08:26.245395Z",
          "iopub.status.idle": "2022-09-07T22:08:42.097621Z",
          "shell.execute_reply": "2022-09-07T22:08:42.096803Z"
        },
        "origin_pos": 18,
        "tab": [
          "pytorch"
        ],
        "id": "b1c86c6d",
        "outputId": "d9fe4e96-89e9-4182-fb33-fb29bf02d021",
        "colab": {
          "base_uri": "https://localhost:8080/",
          "height": 262
        }
      },
      "outputs": [
        {
          "output_type": "display_data",
          "data": {
            "text/plain": [
              "<Figure size 252x180 with 1 Axes>"
            ],
            "image/svg+xml": "<?xml version=\"1.0\" encoding=\"utf-8\" standalone=\"no\"?>\n<!DOCTYPE svg PUBLIC \"-//W3C//DTD SVG 1.1//EN\"\n  \"http://www.w3.org/Graphics/SVG/1.1/DTD/svg11.dtd\">\n<!-- Created with matplotlib (https://matplotlib.org/) -->\n<svg height=\"180.65625pt\" version=\"1.1\" viewBox=\"0 0 241.185572 180.65625\" width=\"241.185572pt\" xmlns=\"http://www.w3.org/2000/svg\" xmlns:xlink=\"http://www.w3.org/1999/xlink\">\n <defs>\n  <style type=\"text/css\">\n*{stroke-linecap:butt;stroke-linejoin:round;}\n  </style>\n </defs>\n <g id=\"figure_1\">\n  <g id=\"patch_1\">\n   <path d=\"M -0 180.65625 \nL 241.185572 180.65625 \nL 241.185572 0 \nL -0 0 \nz\n\" style=\"fill:none;\"/>\n  </g>\n  <g id=\"axes_1\">\n   <g id=\"patch_2\">\n    <path d=\"M 38.482813 143.1 \nL 233.782813 143.1 \nL 233.782813 7.2 \nL 38.482813 7.2 \nz\n\" style=\"fill:#ffffff;\"/>\n   </g>\n   <g id=\"matplotlib.axis_1\">\n    <g id=\"xtick_1\">\n     <g id=\"line2d_1\">\n      <defs>\n       <path d=\"M 0 0 \nL 0 3.5 \n\" id=\"mc60afc54dd\" style=\"stroke:#000000;stroke-width:0.8;\"/>\n      </defs>\n      <g>\n       <use style=\"stroke:#000000;stroke-width:0.8;\" x=\"46.454241\" xlink:href=\"#mc60afc54dd\" y=\"143.1\"/>\n      </g>\n     </g>\n     <g id=\"text_1\">\n      <!-- 0 -->\n      <defs>\n       <path d=\"M 31.78125 66.40625 \nQ 24.171875 66.40625 20.328125 58.90625 \nQ 16.5 51.421875 16.5 36.375 \nQ 16.5 21.390625 20.328125 13.890625 \nQ 24.171875 6.390625 31.78125 6.390625 \nQ 39.453125 6.390625 43.28125 13.890625 \nQ 47.125 21.390625 47.125 36.375 \nQ 47.125 51.421875 43.28125 58.90625 \nQ 39.453125 66.40625 31.78125 66.40625 \nz\nM 31.78125 74.21875 \nQ 44.046875 74.21875 50.515625 64.515625 \nQ 56.984375 54.828125 56.984375 36.375 \nQ 56.984375 17.96875 50.515625 8.265625 \nQ 44.046875 -1.421875 31.78125 -1.421875 \nQ 19.53125 -1.421875 13.0625 8.265625 \nQ 6.59375 17.96875 6.59375 36.375 \nQ 6.59375 54.828125 13.0625 64.515625 \nQ 19.53125 74.21875 31.78125 74.21875 \nz\n\" id=\"DejaVuSans-48\"/>\n      </defs>\n      <g transform=\"translate(43.272991 157.698438)scale(0.1 -0.1)\">\n       <use xlink:href=\"#DejaVuSans-48\"/>\n      </g>\n     </g>\n    </g>\n    <g id=\"xtick_2\">\n     <g id=\"line2d_2\">\n      <g>\n       <use style=\"stroke:#000000;stroke-width:0.8;\" x=\"82.688007\" xlink:href=\"#mc60afc54dd\" y=\"143.1\"/>\n      </g>\n     </g>\n     <g id=\"text_2\">\n      <!-- 2 -->\n      <defs>\n       <path d=\"M 19.1875 8.296875 \nL 53.609375 8.296875 \nL 53.609375 0 \nL 7.328125 0 \nL 7.328125 8.296875 \nQ 12.9375 14.109375 22.625 23.890625 \nQ 32.328125 33.6875 34.8125 36.53125 \nQ 39.546875 41.84375 41.421875 45.53125 \nQ 43.3125 49.21875 43.3125 52.78125 \nQ 43.3125 58.59375 39.234375 62.25 \nQ 35.15625 65.921875 28.609375 65.921875 \nQ 23.96875 65.921875 18.8125 64.3125 \nQ 13.671875 62.703125 7.8125 59.421875 \nL 7.8125 69.390625 \nQ 13.765625 71.78125 18.9375 73 \nQ 24.125 74.21875 28.421875 74.21875 \nQ 39.75 74.21875 46.484375 68.546875 \nQ 53.21875 62.890625 53.21875 53.421875 \nQ 53.21875 48.921875 51.53125 44.890625 \nQ 49.859375 40.875 45.40625 35.40625 \nQ 44.1875 33.984375 37.640625 27.21875 \nQ 31.109375 20.453125 19.1875 8.296875 \nz\n\" id=\"DejaVuSans-50\"/>\n      </defs>\n      <g transform=\"translate(79.506757 157.698438)scale(0.1 -0.1)\">\n       <use xlink:href=\"#DejaVuSans-50\"/>\n      </g>\n     </g>\n    </g>\n    <g id=\"xtick_3\">\n     <g id=\"line2d_3\">\n      <g>\n       <use style=\"stroke:#000000;stroke-width:0.8;\" x=\"118.921774\" xlink:href=\"#mc60afc54dd\" y=\"143.1\"/>\n      </g>\n     </g>\n     <g id=\"text_3\">\n      <!-- 4 -->\n      <defs>\n       <path d=\"M 37.796875 64.3125 \nL 12.890625 25.390625 \nL 37.796875 25.390625 \nz\nM 35.203125 72.90625 \nL 47.609375 72.90625 \nL 47.609375 25.390625 \nL 58.015625 25.390625 \nL 58.015625 17.1875 \nL 47.609375 17.1875 \nL 47.609375 0 \nL 37.796875 0 \nL 37.796875 17.1875 \nL 4.890625 17.1875 \nL 4.890625 26.703125 \nz\n\" id=\"DejaVuSans-52\"/>\n      </defs>\n      <g transform=\"translate(115.740524 157.698438)scale(0.1 -0.1)\">\n       <use xlink:href=\"#DejaVuSans-52\"/>\n      </g>\n     </g>\n    </g>\n    <g id=\"xtick_4\">\n     <g id=\"line2d_4\">\n      <g>\n       <use style=\"stroke:#000000;stroke-width:0.8;\" x=\"155.15554\" xlink:href=\"#mc60afc54dd\" y=\"143.1\"/>\n      </g>\n     </g>\n     <g id=\"text_4\">\n      <!-- 6 -->\n      <defs>\n       <path d=\"M 33.015625 40.375 \nQ 26.375 40.375 22.484375 35.828125 \nQ 18.609375 31.296875 18.609375 23.390625 \nQ 18.609375 15.53125 22.484375 10.953125 \nQ 26.375 6.390625 33.015625 6.390625 \nQ 39.65625 6.390625 43.53125 10.953125 \nQ 47.40625 15.53125 47.40625 23.390625 \nQ 47.40625 31.296875 43.53125 35.828125 \nQ 39.65625 40.375 33.015625 40.375 \nz\nM 52.59375 71.296875 \nL 52.59375 62.3125 \nQ 48.875 64.0625 45.09375 64.984375 \nQ 41.3125 65.921875 37.59375 65.921875 \nQ 27.828125 65.921875 22.671875 59.328125 \nQ 17.53125 52.734375 16.796875 39.40625 \nQ 19.671875 43.65625 24.015625 45.921875 \nQ 28.375 48.1875 33.59375 48.1875 \nQ 44.578125 48.1875 50.953125 41.515625 \nQ 57.328125 34.859375 57.328125 23.390625 \nQ 57.328125 12.15625 50.6875 5.359375 \nQ 44.046875 -1.421875 33.015625 -1.421875 \nQ 20.359375 -1.421875 13.671875 8.265625 \nQ 6.984375 17.96875 6.984375 36.375 \nQ 6.984375 53.65625 15.1875 63.9375 \nQ 23.390625 74.21875 37.203125 74.21875 \nQ 40.921875 74.21875 44.703125 73.484375 \nQ 48.484375 72.75 52.59375 71.296875 \nz\n\" id=\"DejaVuSans-54\"/>\n      </defs>\n      <g transform=\"translate(151.97429 157.698438)scale(0.1 -0.1)\">\n       <use xlink:href=\"#DejaVuSans-54\"/>\n      </g>\n     </g>\n    </g>\n    <g id=\"xtick_5\">\n     <g id=\"line2d_5\">\n      <g>\n       <use style=\"stroke:#000000;stroke-width:0.8;\" x=\"191.389306\" xlink:href=\"#mc60afc54dd\" y=\"143.1\"/>\n      </g>\n     </g>\n     <g id=\"text_5\">\n      <!-- 8 -->\n      <defs>\n       <path d=\"M 31.78125 34.625 \nQ 24.75 34.625 20.71875 30.859375 \nQ 16.703125 27.09375 16.703125 20.515625 \nQ 16.703125 13.921875 20.71875 10.15625 \nQ 24.75 6.390625 31.78125 6.390625 \nQ 38.8125 6.390625 42.859375 10.171875 \nQ 46.921875 13.96875 46.921875 20.515625 \nQ 46.921875 27.09375 42.890625 30.859375 \nQ 38.875 34.625 31.78125 34.625 \nz\nM 21.921875 38.8125 \nQ 15.578125 40.375 12.03125 44.71875 \nQ 8.5 49.078125 8.5 55.328125 \nQ 8.5 64.0625 14.71875 69.140625 \nQ 20.953125 74.21875 31.78125 74.21875 \nQ 42.671875 74.21875 48.875 69.140625 \nQ 55.078125 64.0625 55.078125 55.328125 \nQ 55.078125 49.078125 51.53125 44.71875 \nQ 48 40.375 41.703125 38.8125 \nQ 48.828125 37.15625 52.796875 32.3125 \nQ 56.78125 27.484375 56.78125 20.515625 \nQ 56.78125 9.90625 50.3125 4.234375 \nQ 43.84375 -1.421875 31.78125 -1.421875 \nQ 19.734375 -1.421875 13.25 4.234375 \nQ 6.78125 9.90625 6.78125 20.515625 \nQ 6.78125 27.484375 10.78125 32.3125 \nQ 14.796875 37.15625 21.921875 38.8125 \nz\nM 18.3125 54.390625 \nQ 18.3125 48.734375 21.84375 45.5625 \nQ 25.390625 42.390625 31.78125 42.390625 \nQ 38.140625 42.390625 41.71875 45.5625 \nQ 45.3125 48.734375 45.3125 54.390625 \nQ 45.3125 60.0625 41.71875 63.234375 \nQ 38.140625 66.40625 31.78125 66.40625 \nQ 25.390625 66.40625 21.84375 63.234375 \nQ 18.3125 60.0625 18.3125 54.390625 \nz\n\" id=\"DejaVuSans-56\"/>\n      </defs>\n      <g transform=\"translate(188.208056 157.698438)scale(0.1 -0.1)\">\n       <use xlink:href=\"#DejaVuSans-56\"/>\n      </g>\n     </g>\n    </g>\n    <g id=\"xtick_6\">\n     <g id=\"line2d_6\">\n      <g>\n       <use style=\"stroke:#000000;stroke-width:0.8;\" x=\"227.623072\" xlink:href=\"#mc60afc54dd\" y=\"143.1\"/>\n      </g>\n     </g>\n     <g id=\"text_6\">\n      <!-- 10 -->\n      <defs>\n       <path d=\"M 12.40625 8.296875 \nL 28.515625 8.296875 \nL 28.515625 63.921875 \nL 10.984375 60.40625 \nL 10.984375 69.390625 \nL 28.421875 72.90625 \nL 38.28125 72.90625 \nL 38.28125 8.296875 \nL 54.390625 8.296875 \nL 54.390625 0 \nL 12.40625 0 \nz\n\" id=\"DejaVuSans-49\"/>\n      </defs>\n      <g transform=\"translate(221.260572 157.698438)scale(0.1 -0.1)\">\n       <use xlink:href=\"#DejaVuSans-49\"/>\n       <use x=\"63.623047\" xlink:href=\"#DejaVuSans-48\"/>\n      </g>\n     </g>\n    </g>\n    <g id=\"text_7\">\n     <!-- x -->\n     <defs>\n      <path d=\"M 54.890625 54.6875 \nL 35.109375 28.078125 \nL 55.90625 0 \nL 45.3125 0 \nL 29.390625 21.484375 \nL 13.484375 0 \nL 2.875 0 \nL 24.125 28.609375 \nL 4.6875 54.6875 \nL 15.28125 54.6875 \nL 29.78125 35.203125 \nL 44.28125 54.6875 \nz\n\" id=\"DejaVuSans-120\"/>\n     </defs>\n     <g transform=\"translate(133.173438 171.376563)scale(0.1 -0.1)\">\n      <use xlink:href=\"#DejaVuSans-120\"/>\n     </g>\n    </g>\n   </g>\n   <g id=\"matplotlib.axis_2\">\n    <g id=\"ytick_1\">\n     <g id=\"line2d_7\">\n      <defs>\n       <path d=\"M 0 0 \nL -3.5 0 \n\" id=\"ma9c7e2afcc\" style=\"stroke:#000000;stroke-width:0.8;\"/>\n      </defs>\n      <g>\n       <use style=\"stroke:#000000;stroke-width:0.8;\" x=\"38.482813\" xlink:href=\"#ma9c7e2afcc\" y=\"137.120399\"/>\n      </g>\n     </g>\n     <g id=\"text_8\">\n      <!-- −1.0 -->\n      <defs>\n       <path d=\"M 10.59375 35.5 \nL 73.1875 35.5 \nL 73.1875 27.203125 \nL 10.59375 27.203125 \nz\n\" id=\"DejaVuSans-8722\"/>\n       <path d=\"M 10.6875 12.40625 \nL 21 12.40625 \nL 21 0 \nL 10.6875 0 \nz\n\" id=\"DejaVuSans-46\"/>\n      </defs>\n      <g transform=\"translate(7.2 140.919618)scale(0.1 -0.1)\">\n       <use xlink:href=\"#DejaVuSans-8722\"/>\n       <use x=\"83.789062\" xlink:href=\"#DejaVuSans-49\"/>\n       <use x=\"147.412109\" xlink:href=\"#DejaVuSans-46\"/>\n       <use x=\"179.199219\" xlink:href=\"#DejaVuSans-48\"/>\n      </g>\n     </g>\n    </g>\n    <g id=\"ytick_2\">\n     <g id=\"line2d_8\">\n      <g>\n       <use style=\"stroke:#000000;stroke-width:0.8;\" x=\"38.482813\" xlink:href=\"#ma9c7e2afcc\" y=\"106.165152\"/>\n      </g>\n     </g>\n     <g id=\"text_9\">\n      <!-- −0.5 -->\n      <defs>\n       <path d=\"M 10.796875 72.90625 \nL 49.515625 72.90625 \nL 49.515625 64.59375 \nL 19.828125 64.59375 \nL 19.828125 46.734375 \nQ 21.96875 47.46875 24.109375 47.828125 \nQ 26.265625 48.1875 28.421875 48.1875 \nQ 40.625 48.1875 47.75 41.5 \nQ 54.890625 34.8125 54.890625 23.390625 \nQ 54.890625 11.625 47.5625 5.09375 \nQ 40.234375 -1.421875 26.90625 -1.421875 \nQ 22.3125 -1.421875 17.546875 -0.640625 \nQ 12.796875 0.140625 7.71875 1.703125 \nL 7.71875 11.625 \nQ 12.109375 9.234375 16.796875 8.0625 \nQ 21.484375 6.890625 26.703125 6.890625 \nQ 35.15625 6.890625 40.078125 11.328125 \nQ 45.015625 15.765625 45.015625 23.390625 \nQ 45.015625 31 40.078125 35.4375 \nQ 35.15625 39.890625 26.703125 39.890625 \nQ 22.75 39.890625 18.8125 39.015625 \nQ 14.890625 38.140625 10.796875 36.28125 \nz\n\" id=\"DejaVuSans-53\"/>\n      </defs>\n      <g transform=\"translate(7.2 109.964371)scale(0.1 -0.1)\">\n       <use xlink:href=\"#DejaVuSans-8722\"/>\n       <use x=\"83.789062\" xlink:href=\"#DejaVuSans-48\"/>\n       <use x=\"147.412109\" xlink:href=\"#DejaVuSans-46\"/>\n       <use x=\"179.199219\" xlink:href=\"#DejaVuSans-53\"/>\n      </g>\n     </g>\n    </g>\n    <g id=\"ytick_3\">\n     <g id=\"line2d_9\">\n      <g>\n       <use style=\"stroke:#000000;stroke-width:0.8;\" x=\"38.482813\" xlink:href=\"#ma9c7e2afcc\" y=\"75.209905\"/>\n      </g>\n     </g>\n     <g id=\"text_10\">\n      <!-- 0.0 -->\n      <g transform=\"translate(15.579688 79.009124)scale(0.1 -0.1)\">\n       <use xlink:href=\"#DejaVuSans-48\"/>\n       <use x=\"63.623047\" xlink:href=\"#DejaVuSans-46\"/>\n       <use x=\"95.410156\" xlink:href=\"#DejaVuSans-48\"/>\n      </g>\n     </g>\n    </g>\n    <g id=\"ytick_4\">\n     <g id=\"line2d_10\">\n      <g>\n       <use style=\"stroke:#000000;stroke-width:0.8;\" x=\"38.482813\" xlink:href=\"#ma9c7e2afcc\" y=\"44.254658\"/>\n      </g>\n     </g>\n     <g id=\"text_11\">\n      <!-- 0.5 -->\n      <g transform=\"translate(15.579688 48.053877)scale(0.1 -0.1)\">\n       <use xlink:href=\"#DejaVuSans-48\"/>\n       <use x=\"63.623047\" xlink:href=\"#DejaVuSans-46\"/>\n       <use x=\"95.410156\" xlink:href=\"#DejaVuSans-53\"/>\n      </g>\n     </g>\n    </g>\n    <g id=\"ytick_5\">\n     <g id=\"line2d_11\">\n      <g>\n       <use style=\"stroke:#000000;stroke-width:0.8;\" x=\"38.482813\" xlink:href=\"#ma9c7e2afcc\" y=\"13.299411\"/>\n      </g>\n     </g>\n     <g id=\"text_12\">\n      <!-- 1.0 -->\n      <g transform=\"translate(15.579688 17.098629)scale(0.1 -0.1)\">\n       <use xlink:href=\"#DejaVuSans-49\"/>\n       <use x=\"63.623047\" xlink:href=\"#DejaVuSans-46\"/>\n       <use x=\"95.410156\" xlink:href=\"#DejaVuSans-48\"/>\n      </g>\n     </g>\n    </g>\n   </g>\n   <g id=\"line2d_12\">\n    <path clip-path=\"url(#pb4a19abe3c)\" d=\"M 47.360085 72.119537 \n\" style=\"fill:none;stroke:#1f77b4;stroke-linecap:square;stroke-width:1.5;\"/>\n   </g>\n   <g id=\"line2d_13\"/>\n   <g id=\"line2d_14\">\n    <path clip-path=\"url(#pb4a19abe3c)\" d=\"M 47.360085 72.119537 \nL 50.983462 59.912146 \n\" style=\"fill:none;stroke:#1f77b4;stroke-linecap:square;stroke-width:1.5;\"/>\n   </g>\n   <g id=\"line2d_15\"/>\n   <g id=\"line2d_16\">\n    <path clip-path=\"url(#pb4a19abe3c)\" d=\"M 47.360085 72.119537 \nL 50.983462 59.912146 \nL 54.606838 48.314628 \n\" style=\"fill:none;stroke:#1f77b4;stroke-linecap:square;stroke-width:1.5;\"/>\n   </g>\n   <g id=\"line2d_17\"/>\n   <g id=\"line2d_18\">\n    <path clip-path=\"url(#pb4a19abe3c)\" d=\"M 47.360085 72.119537 \nL 50.983462 59.912146 \nL 54.606838 48.314628 \nL 58.230215 37.78934 \n\" style=\"fill:none;stroke:#1f77b4;stroke-linecap:square;stroke-width:1.5;\"/>\n   </g>\n   <g id=\"line2d_19\"/>\n   <g id=\"line2d_20\">\n    <path clip-path=\"url(#pb4a19abe3c)\" d=\"M 47.360085 72.119537 \nL 50.983462 59.912146 \nL 54.606838 48.314628 \nL 58.230215 37.78934 \nL 61.853592 28.755892 \n\" style=\"fill:none;stroke:#1f77b4;stroke-linecap:square;stroke-width:1.5;\"/>\n   </g>\n   <g id=\"line2d_21\"/>\n   <g id=\"line2d_22\">\n    <path clip-path=\"url(#pb4a19abe3c)\" d=\"M 47.360085 72.119537 \nL 50.983462 59.912146 \nL 54.606838 48.314628 \nL 58.230215 37.78934 \nL 61.853592 28.755892 \n\" style=\"fill:none;stroke:#1f77b4;stroke-linecap:square;stroke-width:1.5;\"/>\n   </g>\n   <g id=\"line2d_23\">\n    <path clip-path=\"url(#pb4a19abe3c)\" d=\"M 54.606838 21.734435 \n\" style=\"fill:none;stroke:#ff7f0e;stroke-dasharray:5.55,2.4;stroke-dashoffset:0;stroke-width:1.5;\"/>\n   </g>\n   <g id=\"line2d_24\">\n    <path clip-path=\"url(#pb4a19abe3c)\" d=\"M 47.360085 72.119537 \nL 50.983462 59.912146 \nL 54.606838 48.314628 \nL 58.230215 37.78934 \nL 61.853592 28.755892 \nL 65.476968 21.574419 \n\" style=\"fill:none;stroke:#1f77b4;stroke-linecap:square;stroke-width:1.5;\"/>\n   </g>\n   <g id=\"line2d_25\">\n    <path clip-path=\"url(#pb4a19abe3c)\" d=\"M 54.606838 21.734435 \n\" style=\"fill:none;stroke:#ff7f0e;stroke-dasharray:5.55,2.4;stroke-dashoffset:0;stroke-width:1.5;\"/>\n   </g>\n   <g id=\"line2d_26\">\n    <path clip-path=\"url(#pb4a19abe3c)\" d=\"M 47.360085 72.119537 \nL 50.983462 59.912146 \nL 54.606838 48.314628 \nL 58.230215 37.78934 \nL 61.853592 28.755892 \nL 65.476968 21.574419 \nL 69.100345 16.531223 \n\" style=\"fill:none;stroke:#1f77b4;stroke-linecap:square;stroke-width:1.5;\"/>\n   </g>\n   <g id=\"line2d_27\">\n    <path clip-path=\"url(#pb4a19abe3c)\" d=\"M 54.606838 21.734435 \n\" style=\"fill:none;stroke:#ff7f0e;stroke-dasharray:5.55,2.4;stroke-dashoffset:0;stroke-width:1.5;\"/>\n   </g>\n   <g id=\"line2d_28\">\n    <path clip-path=\"url(#pb4a19abe3c)\" d=\"M 47.360085 72.119537 \nL 50.983462 59.912146 \nL 54.606838 48.314628 \nL 58.230215 37.78934 \nL 61.853592 28.755892 \nL 65.476968 21.574419 \nL 69.100345 16.531223 \nL 72.723722 13.827361 \n\" style=\"fill:none;stroke:#1f77b4;stroke-linecap:square;stroke-width:1.5;\"/>\n   </g>\n   <g id=\"line2d_29\">\n    <path clip-path=\"url(#pb4a19abe3c)\" d=\"M 54.606838 21.734435 \n\" style=\"fill:none;stroke:#ff7f0e;stroke-dasharray:5.55,2.4;stroke-dashoffset:0;stroke-width:1.5;\"/>\n   </g>\n   <g id=\"line2d_30\">\n    <path clip-path=\"url(#pb4a19abe3c)\" d=\"M 47.360085 72.119537 \nL 50.983462 59.912146 \nL 54.606838 48.314628 \nL 58.230215 37.78934 \nL 61.853592 28.755892 \nL 65.476968 21.574419 \nL 69.100345 16.531223 \nL 72.723722 13.827361 \nL 76.347098 13.570628 \n\" style=\"fill:none;stroke:#1f77b4;stroke-linecap:square;stroke-width:1.5;\"/>\n   </g>\n   <g id=\"line2d_31\">\n    <path clip-path=\"url(#pb4a19abe3c)\" d=\"M 54.606838 21.734435 \n\" style=\"fill:none;stroke:#ff7f0e;stroke-dasharray:5.55,2.4;stroke-dashoffset:0;stroke-width:1.5;\"/>\n   </g>\n   <g id=\"line2d_32\">\n    <path clip-path=\"url(#pb4a19abe3c)\" d=\"M 47.360085 72.119537 \nL 50.983462 59.912146 \nL 54.606838 48.314628 \nL 58.230215 37.78934 \nL 61.853592 28.755892 \nL 65.476968 21.574419 \nL 69.100345 16.531223 \nL 72.723722 13.827361 \nL 76.347098 13.570628 \nL 79.970475 15.771258 \n\" style=\"fill:none;stroke:#1f77b4;stroke-linecap:square;stroke-width:1.5;\"/>\n   </g>\n   <g id=\"line2d_33\">\n    <path clip-path=\"url(#pb4a19abe3c)\" d=\"M 54.606838 21.734435 \n\" style=\"fill:none;stroke:#ff7f0e;stroke-dasharray:5.55,2.4;stroke-dashoffset:0;stroke-width:1.5;\"/>\n   </g>\n   <g id=\"line2d_34\">\n    <path clip-path=\"url(#pb4a19abe3c)\" d=\"M 47.360085 72.119537 \nL 50.983462 59.912146 \nL 54.606838 48.314628 \nL 58.230215 37.78934 \nL 61.853592 28.755892 \nL 65.476968 21.574419 \nL 69.100345 16.531223 \nL 72.723722 13.827361 \nL 76.347098 13.570628 \nL 79.970475 15.771258 \n\" style=\"fill:none;stroke:#1f77b4;stroke-linecap:square;stroke-width:1.5;\"/>\n   </g>\n   <g id=\"line2d_35\">\n    <path clip-path=\"url(#pb4a19abe3c)\" d=\"M 54.606838 21.734435 \nL 72.723722 68.053524 \n\" style=\"fill:none;stroke:#ff7f0e;stroke-dasharray:5.55,2.4;stroke-dashoffset:0;stroke-width:1.5;\"/>\n   </g>\n   <g id=\"line2d_36\">\n    <path clip-path=\"url(#pb4a19abe3c)\" d=\"M 47.360085 72.119537 \nL 50.983462 59.912146 \nL 54.606838 48.314628 \nL 58.230215 37.78934 \nL 61.853592 28.755892 \nL 65.476968 21.574419 \nL 69.100345 16.531223 \nL 72.723722 13.827361 \nL 76.347098 13.570628 \nL 79.970475 15.771258 \nL 83.593851 20.341519 \n\" style=\"fill:none;stroke:#1f77b4;stroke-linecap:square;stroke-width:1.5;\"/>\n   </g>\n   <g id=\"line2d_37\">\n    <path clip-path=\"url(#pb4a19abe3c)\" d=\"M 54.606838 21.734435 \nL 72.723722 68.053524 \n\" style=\"fill:none;stroke:#ff7f0e;stroke-dasharray:5.55,2.4;stroke-dashoffset:0;stroke-width:1.5;\"/>\n   </g>\n   <g id=\"line2d_38\">\n    <path clip-path=\"url(#pb4a19abe3c)\" d=\"M 47.360085 72.119537 \nL 50.983462 59.912146 \nL 54.606838 48.314628 \nL 58.230215 37.78934 \nL 61.853592 28.755892 \nL 65.476968 21.574419 \nL 69.100345 16.531223 \nL 72.723722 13.827361 \nL 76.347098 13.570628 \nL 79.970475 15.771258 \nL 83.593851 20.341519 \nL 87.217228 27.09921 \n\" style=\"fill:none;stroke:#1f77b4;stroke-linecap:square;stroke-width:1.5;\"/>\n   </g>\n   <g id=\"line2d_39\">\n    <path clip-path=\"url(#pb4a19abe3c)\" d=\"M 54.606838 21.734435 \nL 72.723722 68.053524 \n\" style=\"fill:none;stroke:#ff7f0e;stroke-dasharray:5.55,2.4;stroke-dashoffset:0;stroke-width:1.5;\"/>\n   </g>\n   <g id=\"line2d_40\">\n    <path clip-path=\"url(#pb4a19abe3c)\" d=\"M 47.360085 72.119537 \nL 50.983462 59.912146 \nL 54.606838 48.314628 \nL 58.230215 37.78934 \nL 61.853592 28.755892 \nL 65.476968 21.574419 \nL 69.100345 16.531223 \nL 72.723722 13.827361 \nL 76.347098 13.570628 \nL 79.970475 15.771258 \nL 83.593851 20.341519 \nL 87.217228 27.09921 \nL 90.840605 35.774922 \n\" style=\"fill:none;stroke:#1f77b4;stroke-linecap:square;stroke-width:1.5;\"/>\n   </g>\n   <g id=\"line2d_41\">\n    <path clip-path=\"url(#pb4a19abe3c)\" d=\"M 54.606838 21.734435 \nL 72.723722 68.053524 \n\" style=\"fill:none;stroke:#ff7f0e;stroke-dasharray:5.55,2.4;stroke-dashoffset:0;stroke-width:1.5;\"/>\n   </g>\n   <g id=\"line2d_42\">\n    <path clip-path=\"url(#pb4a19abe3c)\" d=\"M 47.360085 72.119537 \nL 50.983462 59.912146 \nL 54.606838 48.314628 \nL 58.230215 37.78934 \nL 61.853592 28.755892 \nL 65.476968 21.574419 \nL 69.100345 16.531223 \nL 72.723722 13.827361 \nL 76.347098 13.570628 \nL 79.970475 15.771258 \nL 83.593851 20.341519 \nL 87.217228 27.09921 \nL 90.840605 35.774922 \nL 94.463981 46.022783 \n\" style=\"fill:none;stroke:#1f77b4;stroke-linecap:square;stroke-width:1.5;\"/>\n   </g>\n   <g id=\"line2d_43\">\n    <path clip-path=\"url(#pb4a19abe3c)\" d=\"M 54.606838 21.734435 \nL 72.723722 68.053524 \n\" style=\"fill:none;stroke:#ff7f0e;stroke-dasharray:5.55,2.4;stroke-dashoffset:0;stroke-width:1.5;\"/>\n   </g>\n   <g id=\"line2d_44\">\n    <path clip-path=\"url(#pb4a19abe3c)\" d=\"M 47.360085 72.119537 \nL 50.983462 59.912146 \nL 54.606838 48.314628 \nL 58.230215 37.78934 \nL 61.853592 28.755892 \nL 65.476968 21.574419 \nL 69.100345 16.531223 \nL 72.723722 13.827361 \nL 76.347098 13.570628 \nL 79.970475 15.771258 \nL 83.593851 20.341519 \nL 87.217228 27.09921 \nL 90.840605 35.774922 \nL 94.463981 46.022783 \nL 98.087358 57.434242 \n\" style=\"fill:none;stroke:#1f77b4;stroke-linecap:square;stroke-width:1.5;\"/>\n   </g>\n   <g id=\"line2d_45\">\n    <path clip-path=\"url(#pb4a19abe3c)\" d=\"M 54.606838 21.734435 \nL 72.723722 68.053524 \n\" style=\"fill:none;stroke:#ff7f0e;stroke-dasharray:5.55,2.4;stroke-dashoffset:0;stroke-width:1.5;\"/>\n   </g>\n   <g id=\"line2d_46\">\n    <path clip-path=\"url(#pb4a19abe3c)\" d=\"M 47.360085 72.119537 \nL 50.983462 59.912146 \nL 54.606838 48.314628 \nL 58.230215 37.78934 \nL 61.853592 28.755892 \nL 65.476968 21.574419 \nL 69.100345 16.531223 \nL 72.723722 13.827361 \nL 76.347098 13.570628 \nL 79.970475 15.771258 \nL 83.593851 20.341519 \nL 87.217228 27.09921 \nL 90.840605 35.774922 \nL 94.463981 46.022783 \nL 98.087358 57.434242 \n\" style=\"fill:none;stroke:#1f77b4;stroke-linecap:square;stroke-width:1.5;\"/>\n   </g>\n   <g id=\"line2d_47\">\n    <path clip-path=\"url(#pb4a19abe3c)\" d=\"M 54.606838 21.734435 \nL 72.723722 68.053524 \nL 90.840605 120.952157 \n\" style=\"fill:none;stroke:#ff7f0e;stroke-dasharray:5.55,2.4;stroke-dashoffset:0;stroke-width:1.5;\"/>\n   </g>\n   <g id=\"line2d_48\">\n    <path clip-path=\"url(#pb4a19abe3c)\" d=\"M 47.360085 72.119537 \nL 50.983462 59.912146 \nL 54.606838 48.314628 \nL 58.230215 37.78934 \nL 61.853592 28.755892 \nL 65.476968 21.574419 \nL 69.100345 16.531223 \nL 72.723722 13.827361 \nL 76.347098 13.570628 \nL 79.970475 15.771258 \nL 83.593851 20.341519 \nL 87.217228 27.09921 \nL 90.840605 35.774922 \nL 94.463981 46.022783 \nL 98.087358 57.434242 \nL 101.710735 69.554361 \n\" style=\"fill:none;stroke:#1f77b4;stroke-linecap:square;stroke-width:1.5;\"/>\n   </g>\n   <g id=\"line2d_49\">\n    <path clip-path=\"url(#pb4a19abe3c)\" d=\"M 54.606838 21.734435 \nL 72.723722 68.053524 \nL 90.840605 120.952157 \n\" style=\"fill:none;stroke:#ff7f0e;stroke-dasharray:5.55,2.4;stroke-dashoffset:0;stroke-width:1.5;\"/>\n   </g>\n   <g id=\"line2d_50\">\n    <path clip-path=\"url(#pb4a19abe3c)\" d=\"M 47.360085 72.119537 \nL 50.983462 59.912146 \nL 54.606838 48.314628 \nL 58.230215 37.78934 \nL 61.853592 28.755892 \nL 65.476968 21.574419 \nL 69.100345 16.531223 \nL 72.723722 13.827361 \nL 76.347098 13.570628 \nL 79.970475 15.771258 \nL 83.593851 20.341519 \nL 87.217228 27.09921 \nL 90.840605 35.774922 \nL 94.463981 46.022783 \nL 98.087358 57.434242 \nL 101.710735 69.554361 \nL 105.334111 81.899948 \n\" style=\"fill:none;stroke:#1f77b4;stroke-linecap:square;stroke-width:1.5;\"/>\n   </g>\n   <g id=\"line2d_51\">\n    <path clip-path=\"url(#pb4a19abe3c)\" d=\"M 54.606838 21.734435 \nL 72.723722 68.053524 \nL 90.840605 120.952157 \n\" style=\"fill:none;stroke:#ff7f0e;stroke-dasharray:5.55,2.4;stroke-dashoffset:0;stroke-width:1.5;\"/>\n   </g>\n   <g id=\"line2d_52\">\n    <path clip-path=\"url(#pb4a19abe3c)\" d=\"M 47.360085 72.119537 \nL 50.983462 59.912146 \nL 54.606838 48.314628 \nL 58.230215 37.78934 \nL 61.853592 28.755892 \nL 65.476968 21.574419 \nL 69.100345 16.531223 \nL 72.723722 13.827361 \nL 76.347098 13.570628 \nL 79.970475 15.771258 \nL 83.593851 20.341519 \nL 87.217228 27.09921 \nL 90.840605 35.774922 \nL 94.463981 46.022783 \nL 98.087358 57.434242 \nL 101.710735 69.554361 \nL 105.334111 81.899948 \nL 108.957488 93.978825 \n\" style=\"fill:none;stroke:#1f77b4;stroke-linecap:square;stroke-width:1.5;\"/>\n   </g>\n   <g id=\"line2d_53\">\n    <path clip-path=\"url(#pb4a19abe3c)\" d=\"M 54.606838 21.734435 \nL 72.723722 68.053524 \nL 90.840605 120.952157 \n\" style=\"fill:none;stroke:#ff7f0e;stroke-dasharray:5.55,2.4;stroke-dashoffset:0;stroke-width:1.5;\"/>\n   </g>\n   <g id=\"line2d_54\">\n    <path clip-path=\"url(#pb4a19abe3c)\" d=\"M 47.360085 72.119537 \nL 50.983462 59.912146 \nL 54.606838 48.314628 \nL 58.230215 37.78934 \nL 61.853592 28.755892 \nL 65.476968 21.574419 \nL 69.100345 16.531223 \nL 72.723722 13.827361 \nL 76.347098 13.570628 \nL 79.970475 15.771258 \nL 83.593851 20.341519 \nL 87.217228 27.09921 \nL 90.840605 35.774922 \nL 94.463981 46.022783 \nL 98.087358 57.434242 \nL 101.710735 69.554361 \nL 105.334111 81.899948 \nL 108.957488 93.978825 \nL 112.580864 105.309443 \n\" style=\"fill:none;stroke:#1f77b4;stroke-linecap:square;stroke-width:1.5;\"/>\n   </g>\n   <g id=\"line2d_55\">\n    <path clip-path=\"url(#pb4a19abe3c)\" d=\"M 54.606838 21.734435 \nL 72.723722 68.053524 \nL 90.840605 120.952157 \n\" style=\"fill:none;stroke:#ff7f0e;stroke-dasharray:5.55,2.4;stroke-dashoffset:0;stroke-width:1.5;\"/>\n   </g>\n   <g id=\"line2d_56\">\n    <path clip-path=\"url(#pb4a19abe3c)\" d=\"M 47.360085 72.119537 \nL 50.983462 59.912146 \nL 54.606838 48.314628 \nL 58.230215 37.78934 \nL 61.853592 28.755892 \nL 65.476968 21.574419 \nL 69.100345 16.531223 \nL 72.723722 13.827361 \nL 76.347098 13.570628 \nL 79.970475 15.771258 \nL 83.593851 20.341519 \nL 87.217228 27.09921 \nL 90.840605 35.774922 \nL 94.463981 46.022783 \nL 98.087358 57.434242 \nL 101.710735 69.554361 \nL 105.334111 81.899948 \nL 108.957488 93.978825 \nL 112.580864 105.309443 \nL 116.204241 115.440089 \n\" style=\"fill:none;stroke:#1f77b4;stroke-linecap:square;stroke-width:1.5;\"/>\n   </g>\n   <g id=\"line2d_57\">\n    <path clip-path=\"url(#pb4a19abe3c)\" d=\"M 54.606838 21.734435 \nL 72.723722 68.053524 \nL 90.840605 120.952157 \n\" style=\"fill:none;stroke:#ff7f0e;stroke-dasharray:5.55,2.4;stroke-dashoffset:0;stroke-width:1.5;\"/>\n   </g>\n   <g id=\"line2d_58\">\n    <path clip-path=\"url(#pb4a19abe3c)\" d=\"M 47.360085 72.119537 \nL 50.983462 59.912146 \nL 54.606838 48.314628 \nL 58.230215 37.78934 \nL 61.853592 28.755892 \nL 65.476968 21.574419 \nL 69.100345 16.531223 \nL 72.723722 13.827361 \nL 76.347098 13.570628 \nL 79.970475 15.771258 \nL 83.593851 20.341519 \nL 87.217228 27.09921 \nL 90.840605 35.774922 \nL 94.463981 46.022783 \nL 98.087358 57.434242 \nL 101.710735 69.554361 \nL 105.334111 81.899948 \nL 108.957488 93.978825 \nL 112.580864 105.309443 \nL 116.204241 115.440089 \n\" style=\"fill:none;stroke:#1f77b4;stroke-linecap:square;stroke-width:1.5;\"/>\n   </g>\n   <g id=\"line2d_59\">\n    <path clip-path=\"url(#pb4a19abe3c)\" d=\"M 54.606838 21.734435 \nL 72.723722 68.053524 \nL 90.840605 120.952157 \nL 108.957488 131.795574 \n\" style=\"fill:none;stroke:#ff7f0e;stroke-dasharray:5.55,2.4;stroke-dashoffset:0;stroke-width:1.5;\"/>\n   </g>\n   <g id=\"line2d_60\">\n    <path clip-path=\"url(#pb4a19abe3c)\" d=\"M 47.360085 72.119537 \nL 50.983462 59.912146 \nL 54.606838 48.314628 \nL 58.230215 37.78934 \nL 61.853592 28.755892 \nL 65.476968 21.574419 \nL 69.100345 16.531223 \nL 72.723722 13.827361 \nL 76.347098 13.570628 \nL 79.970475 15.771258 \nL 83.593851 20.341519 \nL 87.217228 27.09921 \nL 90.840605 35.774922 \nL 94.463981 46.022783 \nL 98.087358 57.434242 \nL 101.710735 69.554361 \nL 105.334111 81.899948 \nL 108.957488 93.978825 \nL 112.580864 105.309443 \nL 116.204241 115.440089 \nL 119.827618 123.966884 \n\" style=\"fill:none;stroke:#1f77b4;stroke-linecap:square;stroke-width:1.5;\"/>\n   </g>\n   <g id=\"line2d_61\">\n    <path clip-path=\"url(#pb4a19abe3c)\" d=\"M 54.606838 21.734435 \nL 72.723722 68.053524 \nL 90.840605 120.952157 \nL 108.957488 131.795574 \n\" style=\"fill:none;stroke:#ff7f0e;stroke-dasharray:5.55,2.4;stroke-dashoffset:0;stroke-width:1.5;\"/>\n   </g>\n   <g id=\"line2d_62\">\n    <path clip-path=\"url(#pb4a19abe3c)\" d=\"M 47.360085 72.119537 \nL 50.983462 59.912146 \nL 54.606838 48.314628 \nL 58.230215 37.78934 \nL 61.853592 28.755892 \nL 65.476968 21.574419 \nL 69.100345 16.531223 \nL 72.723722 13.827361 \nL 76.347098 13.570628 \nL 79.970475 15.771258 \nL 83.593851 20.341519 \nL 87.217228 27.09921 \nL 90.840605 35.774922 \nL 94.463981 46.022783 \nL 98.087358 57.434242 \nL 101.710735 69.554361 \nL 105.334111 81.899948 \nL 108.957488 93.978825 \nL 112.580864 105.309443 \nL 116.204241 115.440089 \nL 119.827618 123.966884 \nL 123.450994 130.549892 \n\" style=\"fill:none;stroke:#1f77b4;stroke-linecap:square;stroke-width:1.5;\"/>\n   </g>\n   <g id=\"line2d_63\">\n    <path clip-path=\"url(#pb4a19abe3c)\" d=\"M 54.606838 21.734435 \nL 72.723722 68.053524 \nL 90.840605 120.952157 \nL 108.957488 131.795574 \n\" style=\"fill:none;stroke:#ff7f0e;stroke-dasharray:5.55,2.4;stroke-dashoffset:0;stroke-width:1.5;\"/>\n   </g>\n   <g id=\"line2d_64\">\n    <path clip-path=\"url(#pb4a19abe3c)\" d=\"M 47.360085 72.119537 \nL 50.983462 59.912146 \nL 54.606838 48.314628 \nL 58.230215 37.78934 \nL 61.853592 28.755892 \nL 65.476968 21.574419 \nL 69.100345 16.531223 \nL 72.723722 13.827361 \nL 76.347098 13.570628 \nL 79.970475 15.771258 \nL 83.593851 20.341519 \nL 87.217228 27.09921 \nL 90.840605 35.774922 \nL 94.463981 46.022783 \nL 98.087358 57.434242 \nL 101.710735 69.554361 \nL 105.334111 81.899948 \nL 108.957488 93.978825 \nL 112.580864 105.309443 \nL 116.204241 115.440089 \nL 119.827618 123.966884 \nL 123.450994 130.549892 \nL 127.074371 134.926669 \n\" style=\"fill:none;stroke:#1f77b4;stroke-linecap:square;stroke-width:1.5;\"/>\n   </g>\n   <g id=\"line2d_65\">\n    <path clip-path=\"url(#pb4a19abe3c)\" d=\"M 54.606838 21.734435 \nL 72.723722 68.053524 \nL 90.840605 120.952157 \nL 108.957488 131.795574 \n\" style=\"fill:none;stroke:#ff7f0e;stroke-dasharray:5.55,2.4;stroke-dashoffset:0;stroke-width:1.5;\"/>\n   </g>\n   <g id=\"line2d_66\">\n    <path clip-path=\"url(#pb4a19abe3c)\" d=\"M 47.360085 72.119537 \nL 50.983462 59.912146 \nL 54.606838 48.314628 \nL 58.230215 37.78934 \nL 61.853592 28.755892 \nL 65.476968 21.574419 \nL 69.100345 16.531223 \nL 72.723722 13.827361 \nL 76.347098 13.570628 \nL 79.970475 15.771258 \nL 83.593851 20.341519 \nL 87.217228 27.09921 \nL 90.840605 35.774922 \nL 94.463981 46.022783 \nL 98.087358 57.434242 \nL 101.710735 69.554361 \nL 105.334111 81.899948 \nL 108.957488 93.978825 \nL 112.580864 105.309443 \nL 116.204241 115.440089 \nL 119.827618 123.966884 \nL 123.450994 130.549892 \nL 127.074371 134.926669 \nL 130.697748 136.922727 \n\" style=\"fill:none;stroke:#1f77b4;stroke-linecap:square;stroke-width:1.5;\"/>\n   </g>\n   <g id=\"line2d_67\">\n    <path clip-path=\"url(#pb4a19abe3c)\" d=\"M 54.606838 21.734435 \nL 72.723722 68.053524 \nL 90.840605 120.952157 \nL 108.957488 131.795574 \n\" style=\"fill:none;stroke:#ff7f0e;stroke-dasharray:5.55,2.4;stroke-dashoffset:0;stroke-width:1.5;\"/>\n   </g>\n   <g id=\"line2d_68\">\n    <path clip-path=\"url(#pb4a19abe3c)\" d=\"M 47.360085 72.119537 \nL 50.983462 59.912146 \nL 54.606838 48.314628 \nL 58.230215 37.78934 \nL 61.853592 28.755892 \nL 65.476968 21.574419 \nL 69.100345 16.531223 \nL 72.723722 13.827361 \nL 76.347098 13.570628 \nL 79.970475 15.771258 \nL 83.593851 20.341519 \nL 87.217228 27.09921 \nL 90.840605 35.774922 \nL 94.463981 46.022783 \nL 98.087358 57.434242 \nL 101.710735 69.554361 \nL 105.334111 81.899948 \nL 108.957488 93.978825 \nL 112.580864 105.309443 \nL 116.204241 115.440089 \nL 119.827618 123.966884 \nL 123.450994 130.549892 \nL 127.074371 134.926669 \nL 130.697748 136.922727 \nL 134.321124 136.45849 \n\" style=\"fill:none;stroke:#1f77b4;stroke-linecap:square;stroke-width:1.5;\"/>\n   </g>\n   <g id=\"line2d_69\">\n    <path clip-path=\"url(#pb4a19abe3c)\" d=\"M 54.606838 21.734435 \nL 72.723722 68.053524 \nL 90.840605 120.952157 \nL 108.957488 131.795574 \n\" style=\"fill:none;stroke:#ff7f0e;stroke-dasharray:5.55,2.4;stroke-dashoffset:0;stroke-width:1.5;\"/>\n   </g>\n   <g id=\"line2d_70\">\n    <path clip-path=\"url(#pb4a19abe3c)\" d=\"M 47.360085 72.119537 \nL 50.983462 59.912146 \nL 54.606838 48.314628 \nL 58.230215 37.78934 \nL 61.853592 28.755892 \nL 65.476968 21.574419 \nL 69.100345 16.531223 \nL 72.723722 13.827361 \nL 76.347098 13.570628 \nL 79.970475 15.771258 \nL 83.593851 20.341519 \nL 87.217228 27.09921 \nL 90.840605 35.774922 \nL 94.463981 46.022783 \nL 98.087358 57.434242 \nL 101.710735 69.554361 \nL 105.334111 81.899948 \nL 108.957488 93.978825 \nL 112.580864 105.309443 \nL 116.204241 115.440089 \nL 119.827618 123.966884 \nL 123.450994 130.549892 \nL 127.074371 134.926669 \nL 130.697748 136.922727 \nL 134.321124 136.45849 \n\" style=\"fill:none;stroke:#1f77b4;stroke-linecap:square;stroke-width:1.5;\"/>\n   </g>\n   <g id=\"line2d_71\">\n    <path clip-path=\"url(#pb4a19abe3c)\" d=\"M 54.606838 21.734435 \nL 72.723722 68.053524 \nL 90.840605 120.952157 \nL 108.957488 131.795574 \nL 127.074371 90.614388 \n\" style=\"fill:none;stroke:#ff7f0e;stroke-dasharray:5.55,2.4;stroke-dashoffset:0;stroke-width:1.5;\"/>\n   </g>\n   <g id=\"line2d_72\">\n    <path clip-path=\"url(#pb4a19abe3c)\" d=\"M 47.360085 72.119537 \nL 50.983462 59.912146 \nL 54.606838 48.314628 \nL 58.230215 37.78934 \nL 61.853592 28.755892 \nL 65.476968 21.574419 \nL 69.100345 16.531223 \nL 72.723722 13.827361 \nL 76.347098 13.570628 \nL 79.970475 15.771258 \nL 83.593851 20.341519 \nL 87.217228 27.09921 \nL 90.840605 35.774922 \nL 94.463981 46.022783 \nL 98.087358 57.434242 \nL 101.710735 69.554361 \nL 105.334111 81.899948 \nL 108.957488 93.978825 \nL 112.580864 105.309443 \nL 116.204241 115.440089 \nL 119.827618 123.966884 \nL 123.450994 130.549892 \nL 127.074371 134.926669 \nL 130.697748 136.922727 \nL 134.321124 136.45849 \nL 137.944501 133.552465 \n\" style=\"fill:none;stroke:#1f77b4;stroke-linecap:square;stroke-width:1.5;\"/>\n   </g>\n   <g id=\"line2d_73\">\n    <path clip-path=\"url(#pb4a19abe3c)\" d=\"M 54.606838 21.734435 \nL 72.723722 68.053524 \nL 90.840605 120.952157 \nL 108.957488 131.795574 \nL 127.074371 90.614388 \n\" style=\"fill:none;stroke:#ff7f0e;stroke-dasharray:5.55,2.4;stroke-dashoffset:0;stroke-width:1.5;\"/>\n   </g>\n   <g id=\"line2d_74\">\n    <path clip-path=\"url(#pb4a19abe3c)\" d=\"M 47.360085 72.119537 \nL 50.983462 59.912146 \nL 54.606838 48.314628 \nL 58.230215 37.78934 \nL 61.853592 28.755892 \nL 65.476968 21.574419 \nL 69.100345 16.531223 \nL 72.723722 13.827361 \nL 76.347098 13.570628 \nL 79.970475 15.771258 \nL 83.593851 20.341519 \nL 87.217228 27.09921 \nL 90.840605 35.774922 \nL 94.463981 46.022783 \nL 98.087358 57.434242 \nL 101.710735 69.554361 \nL 105.334111 81.899948 \nL 108.957488 93.978825 \nL 112.580864 105.309443 \nL 116.204241 115.440089 \nL 119.827618 123.966884 \nL 123.450994 130.549892 \nL 127.074371 134.926669 \nL 130.697748 136.922727 \nL 134.321124 136.45849 \nL 137.944501 133.552465 \nL 141.567877 128.320507 \n\" style=\"fill:none;stroke:#1f77b4;stroke-linecap:square;stroke-width:1.5;\"/>\n   </g>\n   <g id=\"line2d_75\">\n    <path clip-path=\"url(#pb4a19abe3c)\" d=\"M 54.606838 21.734435 \nL 72.723722 68.053524 \nL 90.840605 120.952157 \nL 108.957488 131.795574 \nL 127.074371 90.614388 \n\" style=\"fill:none;stroke:#ff7f0e;stroke-dasharray:5.55,2.4;stroke-dashoffset:0;stroke-width:1.5;\"/>\n   </g>\n   <g id=\"line2d_76\">\n    <path clip-path=\"url(#pb4a19abe3c)\" d=\"M 47.360085 72.119537 \nL 50.983462 59.912146 \nL 54.606838 48.314628 \nL 58.230215 37.78934 \nL 61.853592 28.755892 \nL 65.476968 21.574419 \nL 69.100345 16.531223 \nL 72.723722 13.827361 \nL 76.347098 13.570628 \nL 79.970475 15.771258 \nL 83.593851 20.341519 \nL 87.217228 27.09921 \nL 90.840605 35.774922 \nL 94.463981 46.022783 \nL 98.087358 57.434242 \nL 101.710735 69.554361 \nL 105.334111 81.899948 \nL 108.957488 93.978825 \nL 112.580864 105.309443 \nL 116.204241 115.440089 \nL 119.827618 123.966884 \nL 123.450994 130.549892 \nL 127.074371 134.926669 \nL 130.697748 136.922727 \nL 134.321124 136.45849 \nL 137.944501 133.552465 \nL 141.567877 128.320507 \nL 145.191254 120.971196 \n\" style=\"fill:none;stroke:#1f77b4;stroke-linecap:square;stroke-width:1.5;\"/>\n   </g>\n   <g id=\"line2d_77\">\n    <path clip-path=\"url(#pb4a19abe3c)\" d=\"M 54.606838 21.734435 \nL 72.723722 68.053524 \nL 90.840605 120.952157 \nL 108.957488 131.795574 \nL 127.074371 90.614388 \n\" style=\"fill:none;stroke:#ff7f0e;stroke-dasharray:5.55,2.4;stroke-dashoffset:0;stroke-width:1.5;\"/>\n   </g>\n   <g id=\"line2d_78\">\n    <path clip-path=\"url(#pb4a19abe3c)\" d=\"M 47.360085 72.119537 \nL 50.983462 59.912146 \nL 54.606838 48.314628 \nL 58.230215 37.78934 \nL 61.853592 28.755892 \nL 65.476968 21.574419 \nL 69.100345 16.531223 \nL 72.723722 13.827361 \nL 76.347098 13.570628 \nL 79.970475 15.771258 \nL 83.593851 20.341519 \nL 87.217228 27.09921 \nL 90.840605 35.774922 \nL 94.463981 46.022783 \nL 98.087358 57.434242 \nL 101.710735 69.554361 \nL 105.334111 81.899948 \nL 108.957488 93.978825 \nL 112.580864 105.309443 \nL 116.204241 115.440089 \nL 119.827618 123.966884 \nL 123.450994 130.549892 \nL 127.074371 134.926669 \nL 130.697748 136.922727 \nL 134.321124 136.45849 \nL 137.944501 133.552465 \nL 141.567877 128.320507 \nL 145.191254 120.971196 \nL 148.814631 111.797527 \n\" style=\"fill:none;stroke:#1f77b4;stroke-linecap:square;stroke-width:1.5;\"/>\n   </g>\n   <g id=\"line2d_79\">\n    <path clip-path=\"url(#pb4a19abe3c)\" d=\"M 54.606838 21.734435 \nL 72.723722 68.053524 \nL 90.840605 120.952157 \nL 108.957488 131.795574 \nL 127.074371 90.614388 \n\" style=\"fill:none;stroke:#ff7f0e;stroke-dasharray:5.55,2.4;stroke-dashoffset:0;stroke-width:1.5;\"/>\n   </g>\n   <g id=\"line2d_80\">\n    <path clip-path=\"url(#pb4a19abe3c)\" d=\"M 47.360085 72.119537 \nL 50.983462 59.912146 \nL 54.606838 48.314628 \nL 58.230215 37.78934 \nL 61.853592 28.755892 \nL 65.476968 21.574419 \nL 69.100345 16.531223 \nL 72.723722 13.827361 \nL 76.347098 13.570628 \nL 79.970475 15.771258 \nL 83.593851 20.341519 \nL 87.217228 27.09921 \nL 90.840605 35.774922 \nL 94.463981 46.022783 \nL 98.087358 57.434242 \nL 101.710735 69.554361 \nL 105.334111 81.899948 \nL 108.957488 93.978825 \nL 112.580864 105.309443 \nL 116.204241 115.440089 \nL 119.827618 123.966884 \nL 123.450994 130.549892 \nL 127.074371 134.926669 \nL 130.697748 136.922727 \nL 134.321124 136.45849 \nL 137.944501 133.552465 \nL 141.567877 128.320507 \nL 145.191254 120.971196 \nL 148.814631 111.797527 \nL 152.438007 101.165225 \n\" style=\"fill:none;stroke:#1f77b4;stroke-linecap:square;stroke-width:1.5;\"/>\n   </g>\n   <g id=\"line2d_81\">\n    <path clip-path=\"url(#pb4a19abe3c)\" d=\"M 54.606838 21.734435 \nL 72.723722 68.053524 \nL 90.840605 120.952157 \nL 108.957488 131.795574 \nL 127.074371 90.614388 \n\" style=\"fill:none;stroke:#ff7f0e;stroke-dasharray:5.55,2.4;stroke-dashoffset:0;stroke-width:1.5;\"/>\n   </g>\n   <g id=\"line2d_82\">\n    <path clip-path=\"url(#pb4a19abe3c)\" d=\"M 47.360085 72.119537 \nL 50.983462 59.912146 \nL 54.606838 48.314628 \nL 58.230215 37.78934 \nL 61.853592 28.755892 \nL 65.476968 21.574419 \nL 69.100345 16.531223 \nL 72.723722 13.827361 \nL 76.347098 13.570628 \nL 79.970475 15.771258 \nL 83.593851 20.341519 \nL 87.217228 27.09921 \nL 90.840605 35.774922 \nL 94.463981 46.022783 \nL 98.087358 57.434242 \nL 101.710735 69.554361 \nL 105.334111 81.899948 \nL 108.957488 93.978825 \nL 112.580864 105.309443 \nL 116.204241 115.440089 \nL 119.827618 123.966884 \nL 123.450994 130.549892 \nL 127.074371 134.926669 \nL 130.697748 136.922727 \nL 134.321124 136.45849 \nL 137.944501 133.552465 \nL 141.567877 128.320507 \nL 145.191254 120.971196 \nL 148.814631 111.797527 \nL 152.438007 101.165225 \n\" style=\"fill:none;stroke:#1f77b4;stroke-linecap:square;stroke-width:1.5;\"/>\n   </g>\n   <g id=\"line2d_83\">\n    <path clip-path=\"url(#pb4a19abe3c)\" d=\"M 54.606838 21.734435 \nL 72.723722 68.053524 \nL 90.840605 120.952157 \nL 108.957488 131.795574 \nL 127.074371 90.614388 \nL 145.191254 35.270391 \n\" style=\"fill:none;stroke:#ff7f0e;stroke-dasharray:5.55,2.4;stroke-dashoffset:0;stroke-width:1.5;\"/>\n   </g>\n   <g id=\"line2d_84\">\n    <path clip-path=\"url(#pb4a19abe3c)\" d=\"M 47.360085 72.119537 \nL 50.983462 59.912146 \nL 54.606838 48.314628 \nL 58.230215 37.78934 \nL 61.853592 28.755892 \nL 65.476968 21.574419 \nL 69.100345 16.531223 \nL 72.723722 13.827361 \nL 76.347098 13.570628 \nL 79.970475 15.771258 \nL 83.593851 20.341519 \nL 87.217228 27.09921 \nL 90.840605 35.774922 \nL 94.463981 46.022783 \nL 98.087358 57.434242 \nL 101.710735 69.554361 \nL 105.334111 81.899948 \nL 108.957488 93.978825 \nL 112.580864 105.309443 \nL 116.204241 115.440089 \nL 119.827618 123.966884 \nL 123.450994 130.549892 \nL 127.074371 134.926669 \nL 130.697748 136.922727 \nL 134.321124 136.45849 \nL 137.944501 133.552465 \nL 141.567877 128.320507 \nL 145.191254 120.971196 \nL 148.814631 111.797527 \nL 152.438007 101.165225 \nL 156.061384 89.498166 \n\" style=\"fill:none;stroke:#1f77b4;stroke-linecap:square;stroke-width:1.5;\"/>\n   </g>\n   <g id=\"line2d_85\">\n    <path clip-path=\"url(#pb4a19abe3c)\" d=\"M 54.606838 21.734435 \nL 72.723722 68.053524 \nL 90.840605 120.952157 \nL 108.957488 131.795574 \nL 127.074371 90.614388 \nL 145.191254 35.270391 \n\" style=\"fill:none;stroke:#ff7f0e;stroke-dasharray:5.55,2.4;stroke-dashoffset:0;stroke-width:1.5;\"/>\n   </g>\n   <g id=\"line2d_86\">\n    <path clip-path=\"url(#pb4a19abe3c)\" d=\"M 47.360085 72.119537 \nL 50.983462 59.912146 \nL 54.606838 48.314628 \nL 58.230215 37.78934 \nL 61.853592 28.755892 \nL 65.476968 21.574419 \nL 69.100345 16.531223 \nL 72.723722 13.827361 \nL 76.347098 13.570628 \nL 79.970475 15.771258 \nL 83.593851 20.341519 \nL 87.217228 27.09921 \nL 90.840605 35.774922 \nL 94.463981 46.022783 \nL 98.087358 57.434242 \nL 101.710735 69.554361 \nL 105.334111 81.899948 \nL 108.957488 93.978825 \nL 112.580864 105.309443 \nL 116.204241 115.440089 \nL 119.827618 123.966884 \nL 123.450994 130.549892 \nL 127.074371 134.926669 \nL 130.697748 136.922727 \nL 134.321124 136.45849 \nL 137.944501 133.552465 \nL 141.567877 128.320507 \nL 145.191254 120.971196 \nL 148.814631 111.797527 \nL 152.438007 101.165225 \nL 156.061384 89.498166 \nL 159.684761 77.26148 \n\" style=\"fill:none;stroke:#1f77b4;stroke-linecap:square;stroke-width:1.5;\"/>\n   </g>\n   <g id=\"line2d_87\">\n    <path clip-path=\"url(#pb4a19abe3c)\" d=\"M 54.606838 21.734435 \nL 72.723722 68.053524 \nL 90.840605 120.952157 \nL 108.957488 131.795574 \nL 127.074371 90.614388 \nL 145.191254 35.270391 \n\" style=\"fill:none;stroke:#ff7f0e;stroke-dasharray:5.55,2.4;stroke-dashoffset:0;stroke-width:1.5;\"/>\n   </g>\n   <g id=\"line2d_88\">\n    <path clip-path=\"url(#pb4a19abe3c)\" d=\"M 47.360085 72.119537 \nL 50.983462 59.912146 \nL 54.606838 48.314628 \nL 58.230215 37.78934 \nL 61.853592 28.755892 \nL 65.476968 21.574419 \nL 69.100345 16.531223 \nL 72.723722 13.827361 \nL 76.347098 13.570628 \nL 79.970475 15.771258 \nL 83.593851 20.341519 \nL 87.217228 27.09921 \nL 90.840605 35.774922 \nL 94.463981 46.022783 \nL 98.087358 57.434242 \nL 101.710735 69.554361 \nL 105.334111 81.899948 \nL 108.957488 93.978825 \nL 112.580864 105.309443 \nL 116.204241 115.440089 \nL 119.827618 123.966884 \nL 123.450994 130.549892 \nL 127.074371 134.926669 \nL 130.697748 136.922727 \nL 134.321124 136.45849 \nL 137.944501 133.552465 \nL 141.567877 128.320507 \nL 145.191254 120.971196 \nL 148.814631 111.797527 \nL 152.438007 101.165225 \nL 156.061384 89.498166 \nL 159.684761 77.26148 \nL 163.308137 64.943003 \n\" style=\"fill:none;stroke:#1f77b4;stroke-linecap:square;stroke-width:1.5;\"/>\n   </g>\n   <g id=\"line2d_89\">\n    <path clip-path=\"url(#pb4a19abe3c)\" d=\"M 54.606838 21.734435 \nL 72.723722 68.053524 \nL 90.840605 120.952157 \nL 108.957488 131.795574 \nL 127.074371 90.614388 \nL 145.191254 35.270391 \n\" style=\"fill:none;stroke:#ff7f0e;stroke-dasharray:5.55,2.4;stroke-dashoffset:0;stroke-width:1.5;\"/>\n   </g>\n   <g id=\"line2d_90\">\n    <path clip-path=\"url(#pb4a19abe3c)\" d=\"M 47.360085 72.119537 \nL 50.983462 59.912146 \nL 54.606838 48.314628 \nL 58.230215 37.78934 \nL 61.853592 28.755892 \nL 65.476968 21.574419 \nL 69.100345 16.531223 \nL 72.723722 13.827361 \nL 76.347098 13.570628 \nL 79.970475 15.771258 \nL 83.593851 20.341519 \nL 87.217228 27.09921 \nL 90.840605 35.774922 \nL 94.463981 46.022783 \nL 98.087358 57.434242 \nL 101.710735 69.554361 \nL 105.334111 81.899948 \nL 108.957488 93.978825 \nL 112.580864 105.309443 \nL 116.204241 115.440089 \nL 119.827618 123.966884 \nL 123.450994 130.549892 \nL 127.074371 134.926669 \nL 130.697748 136.922727 \nL 134.321124 136.45849 \nL 137.944501 133.552465 \nL 141.567877 128.320507 \nL 145.191254 120.971196 \nL 148.814631 111.797527 \nL 152.438007 101.165225 \nL 156.061384 89.498166 \nL 159.684761 77.26148 \nL 163.308137 64.943003 \nL 166.931514 53.033836 \n\" style=\"fill:none;stroke:#1f77b4;stroke-linecap:square;stroke-width:1.5;\"/>\n   </g>\n   <g id=\"line2d_91\">\n    <path clip-path=\"url(#pb4a19abe3c)\" d=\"M 54.606838 21.734435 \nL 72.723722 68.053524 \nL 90.840605 120.952157 \nL 108.957488 131.795574 \nL 127.074371 90.614388 \nL 145.191254 35.270391 \n\" style=\"fill:none;stroke:#ff7f0e;stroke-dasharray:5.55,2.4;stroke-dashoffset:0;stroke-width:1.5;\"/>\n   </g>\n   <g id=\"line2d_92\">\n    <path clip-path=\"url(#pb4a19abe3c)\" d=\"M 47.360085 72.119537 \nL 50.983462 59.912146 \nL 54.606838 48.314628 \nL 58.230215 37.78934 \nL 61.853592 28.755892 \nL 65.476968 21.574419 \nL 69.100345 16.531223 \nL 72.723722 13.827361 \nL 76.347098 13.570628 \nL 79.970475 15.771258 \nL 83.593851 20.341519 \nL 87.217228 27.09921 \nL 90.840605 35.774922 \nL 94.463981 46.022783 \nL 98.087358 57.434242 \nL 101.710735 69.554361 \nL 105.334111 81.899948 \nL 108.957488 93.978825 \nL 112.580864 105.309443 \nL 116.204241 115.440089 \nL 119.827618 123.966884 \nL 123.450994 130.549892 \nL 127.074371 134.926669 \nL 130.697748 136.922727 \nL 134.321124 136.45849 \nL 137.944501 133.552465 \nL 141.567877 128.320507 \nL 145.191254 120.971196 \nL 148.814631 111.797527 \nL 152.438007 101.165225 \nL 156.061384 89.498166 \nL 159.684761 77.26148 \nL 163.308137 64.943003 \nL 166.931514 53.033836 \nL 170.55489 42.008758 \n\" style=\"fill:none;stroke:#1f77b4;stroke-linecap:square;stroke-width:1.5;\"/>\n   </g>\n   <g id=\"line2d_93\">\n    <path clip-path=\"url(#pb4a19abe3c)\" d=\"M 54.606838 21.734435 \nL 72.723722 68.053524 \nL 90.840605 120.952157 \nL 108.957488 131.795574 \nL 127.074371 90.614388 \nL 145.191254 35.270391 \n\" style=\"fill:none;stroke:#ff7f0e;stroke-dasharray:5.55,2.4;stroke-dashoffset:0;stroke-width:1.5;\"/>\n   </g>\n   <g id=\"line2d_94\">\n    <path clip-path=\"url(#pb4a19abe3c)\" d=\"M 47.360085 72.119537 \nL 50.983462 59.912146 \nL 54.606838 48.314628 \nL 58.230215 37.78934 \nL 61.853592 28.755892 \nL 65.476968 21.574419 \nL 69.100345 16.531223 \nL 72.723722 13.827361 \nL 76.347098 13.570628 \nL 79.970475 15.771258 \nL 83.593851 20.341519 \nL 87.217228 27.09921 \nL 90.840605 35.774922 \nL 94.463981 46.022783 \nL 98.087358 57.434242 \nL 101.710735 69.554361 \nL 105.334111 81.899948 \nL 108.957488 93.978825 \nL 112.580864 105.309443 \nL 116.204241 115.440089 \nL 119.827618 123.966884 \nL 123.450994 130.549892 \nL 127.074371 134.926669 \nL 130.697748 136.922727 \nL 134.321124 136.45849 \nL 137.944501 133.552465 \nL 141.567877 128.320507 \nL 145.191254 120.971196 \nL 148.814631 111.797527 \nL 152.438007 101.165225 \nL 156.061384 89.498166 \nL 159.684761 77.26148 \nL 163.308137 64.943003 \nL 166.931514 53.033836 \nL 170.55489 42.008758 \n\" style=\"fill:none;stroke:#1f77b4;stroke-linecap:square;stroke-width:1.5;\"/>\n   </g>\n   <g id=\"line2d_95\">\n    <path clip-path=\"url(#pb4a19abe3c)\" d=\"M 54.606838 21.734435 \nL 72.723722 68.053524 \nL 90.840605 120.952157 \nL 108.957488 131.795574 \nL 127.074371 90.614388 \nL 145.191254 35.270391 \nL 163.308137 16.646599 \n\" style=\"fill:none;stroke:#ff7f0e;stroke-dasharray:5.55,2.4;stroke-dashoffset:0;stroke-width:1.5;\"/>\n   </g>\n   <g id=\"line2d_96\">\n    <path clip-path=\"url(#pb4a19abe3c)\" d=\"M 47.360085 72.119537 \nL 50.983462 59.912146 \nL 54.606838 48.314628 \nL 58.230215 37.78934 \nL 61.853592 28.755892 \nL 65.476968 21.574419 \nL 69.100345 16.531223 \nL 72.723722 13.827361 \nL 76.347098 13.570628 \nL 79.970475 15.771258 \nL 83.593851 20.341519 \nL 87.217228 27.09921 \nL 90.840605 35.774922 \nL 94.463981 46.022783 \nL 98.087358 57.434242 \nL 101.710735 69.554361 \nL 105.334111 81.899948 \nL 108.957488 93.978825 \nL 112.580864 105.309443 \nL 116.204241 115.440089 \nL 119.827618 123.966884 \nL 123.450994 130.549892 \nL 127.074371 134.926669 \nL 130.697748 136.922727 \nL 134.321124 136.45849 \nL 137.944501 133.552465 \nL 141.567877 128.320507 \nL 145.191254 120.971196 \nL 148.814631 111.797527 \nL 152.438007 101.165225 \nL 156.061384 89.498166 \nL 159.684761 77.26148 \nL 163.308137 64.943003 \nL 166.931514 53.033836 \nL 170.55489 42.008758 \nL 174.178267 32.307306 \n\" style=\"fill:none;stroke:#1f77b4;stroke-linecap:square;stroke-width:1.5;\"/>\n   </g>\n   <g id=\"line2d_97\">\n    <path clip-path=\"url(#pb4a19abe3c)\" d=\"M 54.606838 21.734435 \nL 72.723722 68.053524 \nL 90.840605 120.952157 \nL 108.957488 131.795574 \nL 127.074371 90.614388 \nL 145.191254 35.270391 \nL 163.308137 16.646599 \n\" style=\"fill:none;stroke:#ff7f0e;stroke-dasharray:5.55,2.4;stroke-dashoffset:0;stroke-width:1.5;\"/>\n   </g>\n   <g id=\"line2d_98\">\n    <path clip-path=\"url(#pb4a19abe3c)\" d=\"M 47.360085 72.119537 \nL 50.983462 59.912146 \nL 54.606838 48.314628 \nL 58.230215 37.78934 \nL 61.853592 28.755892 \nL 65.476968 21.574419 \nL 69.100345 16.531223 \nL 72.723722 13.827361 \nL 76.347098 13.570628 \nL 79.970475 15.771258 \nL 83.593851 20.341519 \nL 87.217228 27.09921 \nL 90.840605 35.774922 \nL 94.463981 46.022783 \nL 98.087358 57.434242 \nL 101.710735 69.554361 \nL 105.334111 81.899948 \nL 108.957488 93.978825 \nL 112.580864 105.309443 \nL 116.204241 115.440089 \nL 119.827618 123.966884 \nL 123.450994 130.549892 \nL 127.074371 134.926669 \nL 130.697748 136.922727 \nL 134.321124 136.45849 \nL 137.944501 133.552465 \nL 141.567877 128.320507 \nL 145.191254 120.971196 \nL 148.814631 111.797527 \nL 152.438007 101.165225 \nL 156.061384 89.498166 \nL 159.684761 77.26148 \nL 163.308137 64.943003 \nL 166.931514 53.033836 \nL 170.55489 42.008758 \nL 174.178267 32.307306 \nL 177.801644 24.316244 \n\" style=\"fill:none;stroke:#1f77b4;stroke-linecap:square;stroke-width:1.5;\"/>\n   </g>\n   <g id=\"line2d_99\">\n    <path clip-path=\"url(#pb4a19abe3c)\" d=\"M 54.606838 21.734435 \nL 72.723722 68.053524 \nL 90.840605 120.952157 \nL 108.957488 131.795574 \nL 127.074371 90.614388 \nL 145.191254 35.270391 \nL 163.308137 16.646599 \n\" style=\"fill:none;stroke:#ff7f0e;stroke-dasharray:5.55,2.4;stroke-dashoffset:0;stroke-width:1.5;\"/>\n   </g>\n   <g id=\"line2d_100\">\n    <path clip-path=\"url(#pb4a19abe3c)\" d=\"M 47.360085 72.119537 \nL 50.983462 59.912146 \nL 54.606838 48.314628 \nL 58.230215 37.78934 \nL 61.853592 28.755892 \nL 65.476968 21.574419 \nL 69.100345 16.531223 \nL 72.723722 13.827361 \nL 76.347098 13.570628 \nL 79.970475 15.771258 \nL 83.593851 20.341519 \nL 87.217228 27.09921 \nL 90.840605 35.774922 \nL 94.463981 46.022783 \nL 98.087358 57.434242 \nL 101.710735 69.554361 \nL 105.334111 81.899948 \nL 108.957488 93.978825 \nL 112.580864 105.309443 \nL 116.204241 115.440089 \nL 119.827618 123.966884 \nL 123.450994 130.549892 \nL 127.074371 134.926669 \nL 130.697748 136.922727 \nL 134.321124 136.45849 \nL 137.944501 133.552465 \nL 141.567877 128.320507 \nL 145.191254 120.971196 \nL 148.814631 111.797527 \nL 152.438007 101.165225 \nL 156.061384 89.498166 \nL 159.684761 77.26148 \nL 163.308137 64.943003 \nL 166.931514 53.033836 \nL 170.55489 42.008758 \nL 174.178267 32.307306 \nL 177.801644 24.316244 \nL 181.42502 18.354153 \n\" style=\"fill:none;stroke:#1f77b4;stroke-linecap:square;stroke-width:1.5;\"/>\n   </g>\n   <g id=\"line2d_101\">\n    <path clip-path=\"url(#pb4a19abe3c)\" d=\"M 54.606838 21.734435 \nL 72.723722 68.053524 \nL 90.840605 120.952157 \nL 108.957488 131.795574 \nL 127.074371 90.614388 \nL 145.191254 35.270391 \nL 163.308137 16.646599 \n\" style=\"fill:none;stroke:#ff7f0e;stroke-dasharray:5.55,2.4;stroke-dashoffset:0;stroke-width:1.5;\"/>\n   </g>\n   <g id=\"line2d_102\">\n    <path clip-path=\"url(#pb4a19abe3c)\" d=\"M 47.360085 72.119537 \nL 50.983462 59.912146 \nL 54.606838 48.314628 \nL 58.230215 37.78934 \nL 61.853592 28.755892 \nL 65.476968 21.574419 \nL 69.100345 16.531223 \nL 72.723722 13.827361 \nL 76.347098 13.570628 \nL 79.970475 15.771258 \nL 83.593851 20.341519 \nL 87.217228 27.09921 \nL 90.840605 35.774922 \nL 94.463981 46.022783 \nL 98.087358 57.434242 \nL 101.710735 69.554361 \nL 105.334111 81.899948 \nL 108.957488 93.978825 \nL 112.580864 105.309443 \nL 116.204241 115.440089 \nL 119.827618 123.966884 \nL 123.450994 130.549892 \nL 127.074371 134.926669 \nL 130.697748 136.922727 \nL 134.321124 136.45849 \nL 137.944501 133.552465 \nL 141.567877 128.320507 \nL 145.191254 120.971196 \nL 148.814631 111.797527 \nL 152.438007 101.165225 \nL 156.061384 89.498166 \nL 159.684761 77.26148 \nL 163.308137 64.943003 \nL 166.931514 53.033836 \nL 170.55489 42.008758 \nL 174.178267 32.307306 \nL 177.801644 24.316244 \nL 181.42502 18.354153 \nL 185.048397 14.65872 \n\" style=\"fill:none;stroke:#1f77b4;stroke-linecap:square;stroke-width:1.5;\"/>\n   </g>\n   <g id=\"line2d_103\">\n    <path clip-path=\"url(#pb4a19abe3c)\" d=\"M 54.606838 21.734435 \nL 72.723722 68.053524 \nL 90.840605 120.952157 \nL 108.957488 131.795574 \nL 127.074371 90.614388 \nL 145.191254 35.270391 \nL 163.308137 16.646599 \n\" style=\"fill:none;stroke:#ff7f0e;stroke-dasharray:5.55,2.4;stroke-dashoffset:0;stroke-width:1.5;\"/>\n   </g>\n   <g id=\"line2d_104\">\n    <path clip-path=\"url(#pb4a19abe3c)\" d=\"M 47.360085 72.119537 \nL 50.983462 59.912146 \nL 54.606838 48.314628 \nL 58.230215 37.78934 \nL 61.853592 28.755892 \nL 65.476968 21.574419 \nL 69.100345 16.531223 \nL 72.723722 13.827361 \nL 76.347098 13.570628 \nL 79.970475 15.771258 \nL 83.593851 20.341519 \nL 87.217228 27.09921 \nL 90.840605 35.774922 \nL 94.463981 46.022783 \nL 98.087358 57.434242 \nL 101.710735 69.554361 \nL 105.334111 81.899948 \nL 108.957488 93.978825 \nL 112.580864 105.309443 \nL 116.204241 115.440089 \nL 119.827618 123.966884 \nL 123.450994 130.549892 \nL 127.074371 134.926669 \nL 130.697748 136.922727 \nL 134.321124 136.45849 \nL 137.944501 133.552465 \nL 141.567877 128.320507 \nL 145.191254 120.971196 \nL 148.814631 111.797527 \nL 152.438007 101.165225 \nL 156.061384 89.498166 \nL 159.684761 77.26148 \nL 163.308137 64.943003 \nL 166.931514 53.033836 \nL 170.55489 42.008758 \nL 174.178267 32.307306 \nL 177.801644 24.316244 \nL 181.42502 18.354153 \nL 185.048397 14.65872 \nL 188.671774 13.377273 \n\" style=\"fill:none;stroke:#1f77b4;stroke-linecap:square;stroke-width:1.5;\"/>\n   </g>\n   <g id=\"line2d_105\">\n    <path clip-path=\"url(#pb4a19abe3c)\" d=\"M 54.606838 21.734435 \nL 72.723722 68.053524 \nL 90.840605 120.952157 \nL 108.957488 131.795574 \nL 127.074371 90.614388 \nL 145.191254 35.270391 \nL 163.308137 16.646599 \n\" style=\"fill:none;stroke:#ff7f0e;stroke-dasharray:5.55,2.4;stroke-dashoffset:0;stroke-width:1.5;\"/>\n   </g>\n   <g id=\"line2d_106\">\n    <path clip-path=\"url(#pb4a19abe3c)\" d=\"M 47.360085 72.119537 \nL 50.983462 59.912146 \nL 54.606838 48.314628 \nL 58.230215 37.78934 \nL 61.853592 28.755892 \nL 65.476968 21.574419 \nL 69.100345 16.531223 \nL 72.723722 13.827361 \nL 76.347098 13.570628 \nL 79.970475 15.771258 \nL 83.593851 20.341519 \nL 87.217228 27.09921 \nL 90.840605 35.774922 \nL 94.463981 46.022783 \nL 98.087358 57.434242 \nL 101.710735 69.554361 \nL 105.334111 81.899948 \nL 108.957488 93.978825 \nL 112.580864 105.309443 \nL 116.204241 115.440089 \nL 119.827618 123.966884 \nL 123.450994 130.549892 \nL 127.074371 134.926669 \nL 130.697748 136.922727 \nL 134.321124 136.45849 \nL 137.944501 133.552465 \nL 141.567877 128.320507 \nL 145.191254 120.971196 \nL 148.814631 111.797527 \nL 152.438007 101.165225 \nL 156.061384 89.498166 \nL 159.684761 77.26148 \nL 163.308137 64.943003 \nL 166.931514 53.033836 \nL 170.55489 42.008758 \nL 174.178267 32.307306 \nL 177.801644 24.316244 \nL 181.42502 18.354153 \nL 185.048397 14.65872 \nL 188.671774 13.377273 \n\" style=\"fill:none;stroke:#1f77b4;stroke-linecap:square;stroke-width:1.5;\"/>\n   </g>\n   <g id=\"line2d_107\">\n    <path clip-path=\"url(#pb4a19abe3c)\" d=\"M 54.606838 21.734435 \nL 72.723722 68.053524 \nL 90.840605 120.952157 \nL 108.957488 131.795574 \nL 127.074371 90.614388 \nL 145.191254 35.270391 \nL 163.308137 16.646599 \nL 181.42502 51.865641 \n\" style=\"fill:none;stroke:#ff7f0e;stroke-dasharray:5.55,2.4;stroke-dashoffset:0;stroke-width:1.5;\"/>\n   </g>\n   <g id=\"line2d_108\">\n    <path clip-path=\"url(#pb4a19abe3c)\" d=\"M 47.360085 72.119537 \nL 50.983462 59.912146 \nL 54.606838 48.314628 \nL 58.230215 37.78934 \nL 61.853592 28.755892 \nL 65.476968 21.574419 \nL 69.100345 16.531223 \nL 72.723722 13.827361 \nL 76.347098 13.570628 \nL 79.970475 15.771258 \nL 83.593851 20.341519 \nL 87.217228 27.09921 \nL 90.840605 35.774922 \nL 94.463981 46.022783 \nL 98.087358 57.434242 \nL 101.710735 69.554361 \nL 105.334111 81.899948 \nL 108.957488 93.978825 \nL 112.580864 105.309443 \nL 116.204241 115.440089 \nL 119.827618 123.966884 \nL 123.450994 130.549892 \nL 127.074371 134.926669 \nL 130.697748 136.922727 \nL 134.321124 136.45849 \nL 137.944501 133.552465 \nL 141.567877 128.320507 \nL 145.191254 120.971196 \nL 148.814631 111.797527 \nL 152.438007 101.165225 \nL 156.061384 89.498166 \nL 159.684761 77.26148 \nL 163.308137 64.943003 \nL 166.931514 53.033836 \nL 170.55489 42.008758 \nL 174.178267 32.307306 \nL 177.801644 24.316244 \nL 181.42502 18.354153 \nL 185.048397 14.65872 \nL 188.671774 13.377273 \nL 192.29515 14.560897 \n\" style=\"fill:none;stroke:#1f77b4;stroke-linecap:square;stroke-width:1.5;\"/>\n   </g>\n   <g id=\"line2d_109\">\n    <path clip-path=\"url(#pb4a19abe3c)\" d=\"M 54.606838 21.734435 \nL 72.723722 68.053524 \nL 90.840605 120.952157 \nL 108.957488 131.795574 \nL 127.074371 90.614388 \nL 145.191254 35.270391 \nL 163.308137 16.646599 \nL 181.42502 51.865641 \n\" style=\"fill:none;stroke:#ff7f0e;stroke-dasharray:5.55,2.4;stroke-dashoffset:0;stroke-width:1.5;\"/>\n   </g>\n   <g id=\"line2d_110\">\n    <path clip-path=\"url(#pb4a19abe3c)\" d=\"M 47.360085 72.119537 \nL 50.983462 59.912146 \nL 54.606838 48.314628 \nL 58.230215 37.78934 \nL 61.853592 28.755892 \nL 65.476968 21.574419 \nL 69.100345 16.531223 \nL 72.723722 13.827361 \nL 76.347098 13.570628 \nL 79.970475 15.771258 \nL 83.593851 20.341519 \nL 87.217228 27.09921 \nL 90.840605 35.774922 \nL 94.463981 46.022783 \nL 98.087358 57.434242 \nL 101.710735 69.554361 \nL 105.334111 81.899948 \nL 108.957488 93.978825 \nL 112.580864 105.309443 \nL 116.204241 115.440089 \nL 119.827618 123.966884 \nL 123.450994 130.549892 \nL 127.074371 134.926669 \nL 130.697748 136.922727 \nL 134.321124 136.45849 \nL 137.944501 133.552465 \nL 141.567877 128.320507 \nL 145.191254 120.971196 \nL 148.814631 111.797527 \nL 152.438007 101.165225 \nL 156.061384 89.498166 \nL 159.684761 77.26148 \nL 163.308137 64.943003 \nL 166.931514 53.033836 \nL 170.55489 42.008758 \nL 174.178267 32.307306 \nL 177.801644 24.316244 \nL 181.42502 18.354153 \nL 185.048397 14.65872 \nL 188.671774 13.377273 \nL 192.29515 14.560897 \nL 195.918527 18.162406 \n\" style=\"fill:none;stroke:#1f77b4;stroke-linecap:square;stroke-width:1.5;\"/>\n   </g>\n   <g id=\"line2d_111\">\n    <path clip-path=\"url(#pb4a19abe3c)\" d=\"M 54.606838 21.734435 \nL 72.723722 68.053524 \nL 90.840605 120.952157 \nL 108.957488 131.795574 \nL 127.074371 90.614388 \nL 145.191254 35.270391 \nL 163.308137 16.646599 \nL 181.42502 51.865641 \n\" style=\"fill:none;stroke:#ff7f0e;stroke-dasharray:5.55,2.4;stroke-dashoffset:0;stroke-width:1.5;\"/>\n   </g>\n   <g id=\"line2d_112\">\n    <path clip-path=\"url(#pb4a19abe3c)\" d=\"M 47.360085 72.119537 \nL 50.983462 59.912146 \nL 54.606838 48.314628 \nL 58.230215 37.78934 \nL 61.853592 28.755892 \nL 65.476968 21.574419 \nL 69.100345 16.531223 \nL 72.723722 13.827361 \nL 76.347098 13.570628 \nL 79.970475 15.771258 \nL 83.593851 20.341519 \nL 87.217228 27.09921 \nL 90.840605 35.774922 \nL 94.463981 46.022783 \nL 98.087358 57.434242 \nL 101.710735 69.554361 \nL 105.334111 81.899948 \nL 108.957488 93.978825 \nL 112.580864 105.309443 \nL 116.204241 115.440089 \nL 119.827618 123.966884 \nL 123.450994 130.549892 \nL 127.074371 134.926669 \nL 130.697748 136.922727 \nL 134.321124 136.45849 \nL 137.944501 133.552465 \nL 141.567877 128.320507 \nL 145.191254 120.971196 \nL 148.814631 111.797527 \nL 152.438007 101.165225 \nL 156.061384 89.498166 \nL 159.684761 77.26148 \nL 163.308137 64.943003 \nL 166.931514 53.033836 \nL 170.55489 42.008758 \nL 174.178267 32.307306 \nL 177.801644 24.316244 \nL 181.42502 18.354153 \nL 185.048397 14.65872 \nL 188.671774 13.377273 \nL 192.29515 14.560897 \nL 195.918527 18.162406 \nL 199.541903 24.038219 \n\" style=\"fill:none;stroke:#1f77b4;stroke-linecap:square;stroke-width:1.5;\"/>\n   </g>\n   <g id=\"line2d_113\">\n    <path clip-path=\"url(#pb4a19abe3c)\" d=\"M 54.606838 21.734435 \nL 72.723722 68.053524 \nL 90.840605 120.952157 \nL 108.957488 131.795574 \nL 127.074371 90.614388 \nL 145.191254 35.270391 \nL 163.308137 16.646599 \nL 181.42502 51.865641 \n\" style=\"fill:none;stroke:#ff7f0e;stroke-dasharray:5.55,2.4;stroke-dashoffset:0;stroke-width:1.5;\"/>\n   </g>\n   <g id=\"line2d_114\">\n    <path clip-path=\"url(#pb4a19abe3c)\" d=\"M 47.360085 72.119537 \nL 50.983462 59.912146 \nL 54.606838 48.314628 \nL 58.230215 37.78934 \nL 61.853592 28.755892 \nL 65.476968 21.574419 \nL 69.100345 16.531223 \nL 72.723722 13.827361 \nL 76.347098 13.570628 \nL 79.970475 15.771258 \nL 83.593851 20.341519 \nL 87.217228 27.09921 \nL 90.840605 35.774922 \nL 94.463981 46.022783 \nL 98.087358 57.434242 \nL 101.710735 69.554361 \nL 105.334111 81.899948 \nL 108.957488 93.978825 \nL 112.580864 105.309443 \nL 116.204241 115.440089 \nL 119.827618 123.966884 \nL 123.450994 130.549892 \nL 127.074371 134.926669 \nL 130.697748 136.922727 \nL 134.321124 136.45849 \nL 137.944501 133.552465 \nL 141.567877 128.320507 \nL 145.191254 120.971196 \nL 148.814631 111.797527 \nL 152.438007 101.165225 \nL 156.061384 89.498166 \nL 159.684761 77.26148 \nL 163.308137 64.943003 \nL 166.931514 53.033836 \nL 170.55489 42.008758 \nL 174.178267 32.307306 \nL 177.801644 24.316244 \nL 181.42502 18.354153 \nL 185.048397 14.65872 \nL 188.671774 13.377273 \nL 192.29515 14.560897 \nL 195.918527 18.162406 \nL 199.541903 24.038219 \nL 203.16528 31.954085 \n\" style=\"fill:none;stroke:#1f77b4;stroke-linecap:square;stroke-width:1.5;\"/>\n   </g>\n   <g id=\"line2d_115\">\n    <path clip-path=\"url(#pb4a19abe3c)\" d=\"M 54.606838 21.734435 \nL 72.723722 68.053524 \nL 90.840605 120.952157 \nL 108.957488 131.795574 \nL 127.074371 90.614388 \nL 145.191254 35.270391 \nL 163.308137 16.646599 \nL 181.42502 51.865641 \n\" style=\"fill:none;stroke:#ff7f0e;stroke-dasharray:5.55,2.4;stroke-dashoffset:0;stroke-width:1.5;\"/>\n   </g>\n   <g id=\"line2d_116\">\n    <path clip-path=\"url(#pb4a19abe3c)\" d=\"M 47.360085 72.119537 \nL 50.983462 59.912146 \nL 54.606838 48.314628 \nL 58.230215 37.78934 \nL 61.853592 28.755892 \nL 65.476968 21.574419 \nL 69.100345 16.531223 \nL 72.723722 13.827361 \nL 76.347098 13.570628 \nL 79.970475 15.771258 \nL 83.593851 20.341519 \nL 87.217228 27.09921 \nL 90.840605 35.774922 \nL 94.463981 46.022783 \nL 98.087358 57.434242 \nL 101.710735 69.554361 \nL 105.334111 81.899948 \nL 108.957488 93.978825 \nL 112.580864 105.309443 \nL 116.204241 115.440089 \nL 119.827618 123.966884 \nL 123.450994 130.549892 \nL 127.074371 134.926669 \nL 130.697748 136.922727 \nL 134.321124 136.45849 \nL 137.944501 133.552465 \nL 141.567877 128.320507 \nL 145.191254 120.971196 \nL 148.814631 111.797527 \nL 152.438007 101.165225 \nL 156.061384 89.498166 \nL 159.684761 77.26148 \nL 163.308137 64.943003 \nL 166.931514 53.033836 \nL 170.55489 42.008758 \nL 174.178267 32.307306 \nL 177.801644 24.316244 \nL 181.42502 18.354153 \nL 185.048397 14.65872 \nL 188.671774 13.377273 \nL 192.29515 14.560897 \nL 195.918527 18.162406 \nL 199.541903 24.038219 \nL 203.16528 31.954085 \nL 206.788657 41.594424 \n\" style=\"fill:none;stroke:#1f77b4;stroke-linecap:square;stroke-width:1.5;\"/>\n   </g>\n   <g id=\"line2d_117\">\n    <path clip-path=\"url(#pb4a19abe3c)\" d=\"M 54.606838 21.734435 \nL 72.723722 68.053524 \nL 90.840605 120.952157 \nL 108.957488 131.795574 \nL 127.074371 90.614388 \nL 145.191254 35.270391 \nL 163.308137 16.646599 \nL 181.42502 51.865641 \n\" style=\"fill:none;stroke:#ff7f0e;stroke-dasharray:5.55,2.4;stroke-dashoffset:0;stroke-width:1.5;\"/>\n   </g>\n   <g id=\"line2d_118\">\n    <path clip-path=\"url(#pb4a19abe3c)\" d=\"M 47.360085 72.119537 \nL 50.983462 59.912146 \nL 54.606838 48.314628 \nL 58.230215 37.78934 \nL 61.853592 28.755892 \nL 65.476968 21.574419 \nL 69.100345 16.531223 \nL 72.723722 13.827361 \nL 76.347098 13.570628 \nL 79.970475 15.771258 \nL 83.593851 20.341519 \nL 87.217228 27.09921 \nL 90.840605 35.774922 \nL 94.463981 46.022783 \nL 98.087358 57.434242 \nL 101.710735 69.554361 \nL 105.334111 81.899948 \nL 108.957488 93.978825 \nL 112.580864 105.309443 \nL 116.204241 115.440089 \nL 119.827618 123.966884 \nL 123.450994 130.549892 \nL 127.074371 134.926669 \nL 130.697748 136.922727 \nL 134.321124 136.45849 \nL 137.944501 133.552465 \nL 141.567877 128.320507 \nL 145.191254 120.971196 \nL 148.814631 111.797527 \nL 152.438007 101.165225 \nL 156.061384 89.498166 \nL 159.684761 77.26148 \nL 163.308137 64.943003 \nL 166.931514 53.033836 \nL 170.55489 42.008758 \nL 174.178267 32.307306 \nL 177.801644 24.316244 \nL 181.42502 18.354153 \nL 185.048397 14.65872 \nL 188.671774 13.377273 \nL 192.29515 14.560897 \nL 195.918527 18.162406 \nL 199.541903 24.038219 \nL 203.16528 31.954085 \nL 206.788657 41.594424 \n\" style=\"fill:none;stroke:#1f77b4;stroke-linecap:square;stroke-width:1.5;\"/>\n   </g>\n   <g id=\"line2d_119\">\n    <path clip-path=\"url(#pb4a19abe3c)\" d=\"M 54.606838 21.734435 \nL 72.723722 68.053524 \nL 90.840605 120.952157 \nL 108.957488 131.795574 \nL 127.074371 90.614388 \nL 145.191254 35.270391 \nL 163.308137 16.646599 \nL 181.42502 51.865641 \nL 199.541903 108.547291 \n\" style=\"fill:none;stroke:#ff7f0e;stroke-dasharray:5.55,2.4;stroke-dashoffset:0;stroke-width:1.5;\"/>\n   </g>\n   <g id=\"line2d_120\">\n    <path clip-path=\"url(#pb4a19abe3c)\" d=\"M 47.360085 72.119537 \nL 50.983462 59.912146 \nL 54.606838 48.314628 \nL 58.230215 37.78934 \nL 61.853592 28.755892 \nL 65.476968 21.574419 \nL 69.100345 16.531223 \nL 72.723722 13.827361 \nL 76.347098 13.570628 \nL 79.970475 15.771258 \nL 83.593851 20.341519 \nL 87.217228 27.09921 \nL 90.840605 35.774922 \nL 94.463981 46.022783 \nL 98.087358 57.434242 \nL 101.710735 69.554361 \nL 105.334111 81.899948 \nL 108.957488 93.978825 \nL 112.580864 105.309443 \nL 116.204241 115.440089 \nL 119.827618 123.966884 \nL 123.450994 130.549892 \nL 127.074371 134.926669 \nL 130.697748 136.922727 \nL 134.321124 136.45849 \nL 137.944501 133.552465 \nL 141.567877 128.320507 \nL 145.191254 120.971196 \nL 148.814631 111.797527 \nL 152.438007 101.165225 \nL 156.061384 89.498166 \nL 159.684761 77.26148 \nL 163.308137 64.943003 \nL 166.931514 53.033836 \nL 170.55489 42.008758 \nL 174.178267 32.307306 \nL 177.801644 24.316244 \nL 181.42502 18.354153 \nL 185.048397 14.65872 \nL 188.671774 13.377273 \nL 192.29515 14.560897 \nL 195.918527 18.162406 \nL 199.541903 24.038219 \nL 203.16528 31.954085 \nL 206.788657 41.594424 \nL 210.412033 52.574907 \n\" style=\"fill:none;stroke:#1f77b4;stroke-linecap:square;stroke-width:1.5;\"/>\n   </g>\n   <g id=\"line2d_121\">\n    <path clip-path=\"url(#pb4a19abe3c)\" d=\"M 54.606838 21.734435 \nL 72.723722 68.053524 \nL 90.840605 120.952157 \nL 108.957488 131.795574 \nL 127.074371 90.614388 \nL 145.191254 35.270391 \nL 163.308137 16.646599 \nL 181.42502 51.865641 \nL 199.541903 108.547291 \n\" style=\"fill:none;stroke:#ff7f0e;stroke-dasharray:5.55,2.4;stroke-dashoffset:0;stroke-width:1.5;\"/>\n   </g>\n   <g id=\"line2d_122\">\n    <path clip-path=\"url(#pb4a19abe3c)\" d=\"M 47.360085 72.119537 \nL 50.983462 59.912146 \nL 54.606838 48.314628 \nL 58.230215 37.78934 \nL 61.853592 28.755892 \nL 65.476968 21.574419 \nL 69.100345 16.531223 \nL 72.723722 13.827361 \nL 76.347098 13.570628 \nL 79.970475 15.771258 \nL 83.593851 20.341519 \nL 87.217228 27.09921 \nL 90.840605 35.774922 \nL 94.463981 46.022783 \nL 98.087358 57.434242 \nL 101.710735 69.554361 \nL 105.334111 81.899948 \nL 108.957488 93.978825 \nL 112.580864 105.309443 \nL 116.204241 115.440089 \nL 119.827618 123.966884 \nL 123.450994 130.549892 \nL 127.074371 134.926669 \nL 130.697748 136.922727 \nL 134.321124 136.45849 \nL 137.944501 133.552465 \nL 141.567877 128.320507 \nL 145.191254 120.971196 \nL 148.814631 111.797527 \nL 152.438007 101.165225 \nL 156.061384 89.498166 \nL 159.684761 77.26148 \nL 163.308137 64.943003 \nL 166.931514 53.033836 \nL 170.55489 42.008758 \nL 174.178267 32.307306 \nL 177.801644 24.316244 \nL 181.42502 18.354153 \nL 185.048397 14.65872 \nL 188.671774 13.377273 \nL 192.29515 14.560897 \nL 195.918527 18.162406 \nL 199.541903 24.038219 \nL 203.16528 31.954085 \nL 206.788657 41.594424 \nL 210.412033 52.574907 \nL 214.03541 64.457775 \n\" style=\"fill:none;stroke:#1f77b4;stroke-linecap:square;stroke-width:1.5;\"/>\n   </g>\n   <g id=\"line2d_123\">\n    <path clip-path=\"url(#pb4a19abe3c)\" d=\"M 54.606838 21.734435 \nL 72.723722 68.053524 \nL 90.840605 120.952157 \nL 108.957488 131.795574 \nL 127.074371 90.614388 \nL 145.191254 35.270391 \nL 163.308137 16.646599 \nL 181.42502 51.865641 \nL 199.541903 108.547291 \n\" style=\"fill:none;stroke:#ff7f0e;stroke-dasharray:5.55,2.4;stroke-dashoffset:0;stroke-width:1.5;\"/>\n   </g>\n   <g id=\"line2d_124\">\n    <path clip-path=\"url(#pb4a19abe3c)\" d=\"M 47.360085 72.119537 \nL 50.983462 59.912146 \nL 54.606838 48.314628 \nL 58.230215 37.78934 \nL 61.853592 28.755892 \nL 65.476968 21.574419 \nL 69.100345 16.531223 \nL 72.723722 13.827361 \nL 76.347098 13.570628 \nL 79.970475 15.771258 \nL 83.593851 20.341519 \nL 87.217228 27.09921 \nL 90.840605 35.774922 \nL 94.463981 46.022783 \nL 98.087358 57.434242 \nL 101.710735 69.554361 \nL 105.334111 81.899948 \nL 108.957488 93.978825 \nL 112.580864 105.309443 \nL 116.204241 115.440089 \nL 119.827618 123.966884 \nL 123.450994 130.549892 \nL 127.074371 134.926669 \nL 130.697748 136.922727 \nL 134.321124 136.45849 \nL 137.944501 133.552465 \nL 141.567877 128.320507 \nL 145.191254 120.971196 \nL 148.814631 111.797527 \nL 152.438007 101.165225 \nL 156.061384 89.498166 \nL 159.684761 77.26148 \nL 163.308137 64.943003 \nL 166.931514 53.033836 \nL 170.55489 42.008758 \nL 174.178267 32.307306 \nL 177.801644 24.316244 \nL 181.42502 18.354153 \nL 185.048397 14.65872 \nL 188.671774 13.377273 \nL 192.29515 14.560897 \nL 195.918527 18.162406 \nL 199.541903 24.038219 \nL 203.16528 31.954085 \nL 206.788657 41.594424 \nL 210.412033 52.574907 \nL 214.03541 64.457775 \nL 217.658787 76.769297 \n\" style=\"fill:none;stroke:#1f77b4;stroke-linecap:square;stroke-width:1.5;\"/>\n   </g>\n   <g id=\"line2d_125\">\n    <path clip-path=\"url(#pb4a19abe3c)\" d=\"M 54.606838 21.734435 \nL 72.723722 68.053524 \nL 90.840605 120.952157 \nL 108.957488 131.795574 \nL 127.074371 90.614388 \nL 145.191254 35.270391 \nL 163.308137 16.646599 \nL 181.42502 51.865641 \nL 199.541903 108.547291 \n\" style=\"fill:none;stroke:#ff7f0e;stroke-dasharray:5.55,2.4;stroke-dashoffset:0;stroke-width:1.5;\"/>\n   </g>\n   <g id=\"line2d_126\">\n    <path clip-path=\"url(#pb4a19abe3c)\" d=\"M 47.360085 72.119537 \nL 50.983462 59.912146 \nL 54.606838 48.314628 \nL 58.230215 37.78934 \nL 61.853592 28.755892 \nL 65.476968 21.574419 \nL 69.100345 16.531223 \nL 72.723722 13.827361 \nL 76.347098 13.570628 \nL 79.970475 15.771258 \nL 83.593851 20.341519 \nL 87.217228 27.09921 \nL 90.840605 35.774922 \nL 94.463981 46.022783 \nL 98.087358 57.434242 \nL 101.710735 69.554361 \nL 105.334111 81.899948 \nL 108.957488 93.978825 \nL 112.580864 105.309443 \nL 116.204241 115.440089 \nL 119.827618 123.966884 \nL 123.450994 130.549892 \nL 127.074371 134.926669 \nL 130.697748 136.922727 \nL 134.321124 136.45849 \nL 137.944501 133.552465 \nL 141.567877 128.320507 \nL 145.191254 120.971196 \nL 148.814631 111.797527 \nL 152.438007 101.165225 \nL 156.061384 89.498166 \nL 159.684761 77.26148 \nL 163.308137 64.943003 \nL 166.931514 53.033836 \nL 170.55489 42.008758 \nL 174.178267 32.307306 \nL 177.801644 24.316244 \nL 181.42502 18.354153 \nL 185.048397 14.65872 \nL 188.671774 13.377273 \nL 192.29515 14.560897 \nL 195.918527 18.162406 \nL 199.541903 24.038219 \nL 203.16528 31.954085 \nL 206.788657 41.594424 \nL 210.412033 52.574907 \nL 214.03541 64.457775 \nL 217.658787 76.769297 \nL 221.282163 89.018651 \n\" style=\"fill:none;stroke:#1f77b4;stroke-linecap:square;stroke-width:1.5;\"/>\n   </g>\n   <g id=\"line2d_127\">\n    <path clip-path=\"url(#pb4a19abe3c)\" d=\"M 54.606838 21.734435 \nL 72.723722 68.053524 \nL 90.840605 120.952157 \nL 108.957488 131.795574 \nL 127.074371 90.614388 \nL 145.191254 35.270391 \nL 163.308137 16.646599 \nL 181.42502 51.865641 \nL 199.541903 108.547291 \n\" style=\"fill:none;stroke:#ff7f0e;stroke-dasharray:5.55,2.4;stroke-dashoffset:0;stroke-width:1.5;\"/>\n   </g>\n   <g id=\"line2d_128\">\n    <path clip-path=\"url(#pb4a19abe3c)\" d=\"M 47.360085 72.119537 \nL 50.983462 59.912146 \nL 54.606838 48.314628 \nL 58.230215 37.78934 \nL 61.853592 28.755892 \nL 65.476968 21.574419 \nL 69.100345 16.531223 \nL 72.723722 13.827361 \nL 76.347098 13.570628 \nL 79.970475 15.771258 \nL 83.593851 20.341519 \nL 87.217228 27.09921 \nL 90.840605 35.774922 \nL 94.463981 46.022783 \nL 98.087358 57.434242 \nL 101.710735 69.554361 \nL 105.334111 81.899948 \nL 108.957488 93.978825 \nL 112.580864 105.309443 \nL 116.204241 115.440089 \nL 119.827618 123.966884 \nL 123.450994 130.549892 \nL 127.074371 134.926669 \nL 130.697748 136.922727 \nL 134.321124 136.45849 \nL 137.944501 133.552465 \nL 141.567877 128.320507 \nL 145.191254 120.971196 \nL 148.814631 111.797527 \nL 152.438007 101.165225 \nL 156.061384 89.498166 \nL 159.684761 77.26148 \nL 163.308137 64.943003 \nL 166.931514 53.033836 \nL 170.55489 42.008758 \nL 174.178267 32.307306 \nL 177.801644 24.316244 \nL 181.42502 18.354153 \nL 185.048397 14.65872 \nL 188.671774 13.377273 \nL 192.29515 14.560897 \nL 195.918527 18.162406 \nL 199.541903 24.038219 \nL 203.16528 31.954085 \nL 206.788657 41.594424 \nL 210.412033 52.574907 \nL 214.03541 64.457775 \nL 217.658787 76.769297 \nL 221.282163 89.018651 \nL 224.90554 100.717494 \n\" style=\"fill:none;stroke:#1f77b4;stroke-linecap:square;stroke-width:1.5;\"/>\n   </g>\n   <g id=\"line2d_129\">\n    <path clip-path=\"url(#pb4a19abe3c)\" d=\"M 54.606838 21.734435 \nL 72.723722 68.053524 \nL 90.840605 120.952157 \nL 108.957488 131.795574 \nL 127.074371 90.614388 \nL 145.191254 35.270391 \nL 163.308137 16.646599 \nL 181.42502 51.865641 \nL 199.541903 108.547291 \n\" style=\"fill:none;stroke:#ff7f0e;stroke-dasharray:5.55,2.4;stroke-dashoffset:0;stroke-width:1.5;\"/>\n   </g>\n   <g id=\"line2d_130\">\n    <path clip-path=\"url(#pb4a19abe3c)\" d=\"M 47.360085 72.119537 \nL 50.983462 59.912146 \nL 54.606838 48.314628 \nL 58.230215 37.78934 \nL 61.853592 28.755892 \nL 65.476968 21.574419 \nL 69.100345 16.531223 \nL 72.723722 13.827361 \nL 76.347098 13.570628 \nL 79.970475 15.771258 \nL 83.593851 20.341519 \nL 87.217228 27.09921 \nL 90.840605 35.774922 \nL 94.463981 46.022783 \nL 98.087358 57.434242 \nL 101.710735 69.554361 \nL 105.334111 81.899948 \nL 108.957488 93.978825 \nL 112.580864 105.309443 \nL 116.204241 115.440089 \nL 119.827618 123.966884 \nL 123.450994 130.549892 \nL 127.074371 134.926669 \nL 130.697748 136.922727 \nL 134.321124 136.45849 \nL 137.944501 133.552465 \nL 141.567877 128.320507 \nL 145.191254 120.971196 \nL 148.814631 111.797527 \nL 152.438007 101.165225 \nL 156.061384 89.498166 \nL 159.684761 77.26148 \nL 163.308137 64.943003 \nL 166.931514 53.033836 \nL 170.55489 42.008758 \nL 174.178267 32.307306 \nL 177.801644 24.316244 \nL 181.42502 18.354153 \nL 185.048397 14.65872 \nL 188.671774 13.377273 \nL 192.29515 14.560897 \nL 195.918527 18.162406 \nL 199.541903 24.038219 \nL 203.16528 31.954085 \nL 206.788657 41.594424 \nL 210.412033 52.574907 \nL 214.03541 64.457775 \nL 217.658787 76.769297 \nL 221.282163 89.018651 \nL 224.90554 100.717494 \n\" style=\"fill:none;stroke:#1f77b4;stroke-linecap:square;stroke-width:1.5;\"/>\n   </g>\n   <g id=\"line2d_131\">\n    <path clip-path=\"url(#pb4a19abe3c)\" d=\"M 54.606838 21.734435 \nL 72.723722 68.053524 \nL 90.840605 120.952157 \nL 108.957488 131.795574 \nL 127.074371 90.614388 \nL 145.191254 35.270391 \nL 163.308137 16.646599 \nL 181.42502 51.865641 \nL 199.541903 108.547291 \nL 217.658787 134.578702 \n\" style=\"fill:none;stroke:#ff7f0e;stroke-dasharray:5.55,2.4;stroke-dashoffset:0;stroke-width:1.5;\"/>\n   </g>\n   <g id=\"patch_3\">\n    <path d=\"M 38.482813 143.1 \nL 38.482813 7.2 \n\" style=\"fill:none;stroke:#000000;stroke-linecap:square;stroke-linejoin:miter;stroke-width:0.8;\"/>\n   </g>\n   <g id=\"patch_4\">\n    <path d=\"M 233.782813 143.1 \nL 233.782813 7.2 \n\" style=\"fill:none;stroke:#000000;stroke-linecap:square;stroke-linejoin:miter;stroke-width:0.8;\"/>\n   </g>\n   <g id=\"patch_5\">\n    <path d=\"M 38.482813 143.1 \nL 233.782813 143.1 \n\" style=\"fill:none;stroke:#000000;stroke-linecap:square;stroke-linejoin:miter;stroke-width:0.8;\"/>\n   </g>\n   <g id=\"patch_6\">\n    <path d=\"M 38.482813 7.2 \nL 233.782813 7.2 \n\" style=\"fill:none;stroke:#000000;stroke-linecap:square;stroke-linejoin:miter;stroke-width:0.8;\"/>\n   </g>\n   <g id=\"legend_1\">\n    <g id=\"patch_7\">\n     <path d=\"M 177.95625 138.1 \nL 226.782813 138.1 \nQ 228.782813 138.1 228.782813 136.1 \nL 228.782813 107.74375 \nQ 228.782813 105.74375 226.782813 105.74375 \nL 177.95625 105.74375 \nQ 175.95625 105.74375 175.95625 107.74375 \nL 175.95625 136.1 \nQ 175.95625 138.1 177.95625 138.1 \nz\n\" style=\"fill:#ffffff;opacity:0.8;stroke:#cccccc;stroke-linejoin:miter;\"/>\n    </g>\n    <g id=\"line2d_132\">\n     <path d=\"M 179.95625 113.842187 \nL 199.95625 113.842187 \n\" style=\"fill:none;stroke:#1f77b4;stroke-linecap:square;stroke-width:1.5;\"/>\n    </g>\n    <g id=\"line2d_133\"/>\n    <g id=\"text_13\">\n     <!-- sin -->\n     <defs>\n      <path d=\"M 44.28125 53.078125 \nL 44.28125 44.578125 \nQ 40.484375 46.53125 36.375 47.5 \nQ 32.28125 48.484375 27.875 48.484375 \nQ 21.1875 48.484375 17.84375 46.4375 \nQ 14.5 44.390625 14.5 40.28125 \nQ 14.5 37.15625 16.890625 35.375 \nQ 19.28125 33.59375 26.515625 31.984375 \nL 29.59375 31.296875 \nQ 39.15625 29.25 43.1875 25.515625 \nQ 47.21875 21.78125 47.21875 15.09375 \nQ 47.21875 7.46875 41.1875 3.015625 \nQ 35.15625 -1.421875 24.609375 -1.421875 \nQ 20.21875 -1.421875 15.453125 -0.5625 \nQ 10.6875 0.296875 5.421875 2 \nL 5.421875 11.28125 \nQ 10.40625 8.6875 15.234375 7.390625 \nQ 20.0625 6.109375 24.8125 6.109375 \nQ 31.15625 6.109375 34.5625 8.28125 \nQ 37.984375 10.453125 37.984375 14.40625 \nQ 37.984375 18.0625 35.515625 20.015625 \nQ 33.0625 21.96875 24.703125 23.78125 \nL 21.578125 24.515625 \nQ 13.234375 26.265625 9.515625 29.90625 \nQ 5.8125 33.546875 5.8125 39.890625 \nQ 5.8125 47.609375 11.28125 51.796875 \nQ 16.75 56 26.8125 56 \nQ 31.78125 56 36.171875 55.265625 \nQ 40.578125 54.546875 44.28125 53.078125 \nz\n\" id=\"DejaVuSans-115\"/>\n      <path d=\"M 9.421875 54.6875 \nL 18.40625 54.6875 \nL 18.40625 0 \nL 9.421875 0 \nz\nM 9.421875 75.984375 \nL 18.40625 75.984375 \nL 18.40625 64.59375 \nL 9.421875 64.59375 \nz\n\" id=\"DejaVuSans-105\"/>\n      <path d=\"M 54.890625 33.015625 \nL 54.890625 0 \nL 45.90625 0 \nL 45.90625 32.71875 \nQ 45.90625 40.484375 42.875 44.328125 \nQ 39.84375 48.1875 33.796875 48.1875 \nQ 26.515625 48.1875 22.3125 43.546875 \nQ 18.109375 38.921875 18.109375 30.90625 \nL 18.109375 0 \nL 9.078125 0 \nL 9.078125 54.6875 \nL 18.109375 54.6875 \nL 18.109375 46.1875 \nQ 21.34375 51.125 25.703125 53.5625 \nQ 30.078125 56 35.796875 56 \nQ 45.21875 56 50.046875 50.171875 \nQ 54.890625 44.34375 54.890625 33.015625 \nz\n\" id=\"DejaVuSans-110\"/>\n     </defs>\n     <g transform=\"translate(207.95625 117.342187)scale(0.1 -0.1)\">\n      <use xlink:href=\"#DejaVuSans-115\"/>\n      <use x=\"52.099609\" xlink:href=\"#DejaVuSans-105\"/>\n      <use x=\"79.882812\" xlink:href=\"#DejaVuSans-110\"/>\n     </g>\n    </g>\n    <g id=\"line2d_134\">\n     <path d=\"M 179.95625 128.520312 \nL 199.95625 128.520312 \n\" style=\"fill:none;stroke:#ff7f0e;stroke-dasharray:5.55,2.4;stroke-dashoffset:0;stroke-width:1.5;\"/>\n    </g>\n    <g id=\"line2d_135\"/>\n    <g id=\"text_14\">\n     <!-- cos -->\n     <defs>\n      <path d=\"M 48.78125 52.59375 \nL 48.78125 44.1875 \nQ 44.96875 46.296875 41.140625 47.34375 \nQ 37.3125 48.390625 33.40625 48.390625 \nQ 24.65625 48.390625 19.8125 42.84375 \nQ 14.984375 37.3125 14.984375 27.296875 \nQ 14.984375 17.28125 19.8125 11.734375 \nQ 24.65625 6.203125 33.40625 6.203125 \nQ 37.3125 6.203125 41.140625 7.25 \nQ 44.96875 8.296875 48.78125 10.40625 \nL 48.78125 2.09375 \nQ 45.015625 0.34375 40.984375 -0.53125 \nQ 36.96875 -1.421875 32.421875 -1.421875 \nQ 20.0625 -1.421875 12.78125 6.34375 \nQ 5.515625 14.109375 5.515625 27.296875 \nQ 5.515625 40.671875 12.859375 48.328125 \nQ 20.21875 56 33.015625 56 \nQ 37.15625 56 41.109375 55.140625 \nQ 45.0625 54.296875 48.78125 52.59375 \nz\n\" id=\"DejaVuSans-99\"/>\n      <path d=\"M 30.609375 48.390625 \nQ 23.390625 48.390625 19.1875 42.75 \nQ 14.984375 37.109375 14.984375 27.296875 \nQ 14.984375 17.484375 19.15625 11.84375 \nQ 23.34375 6.203125 30.609375 6.203125 \nQ 37.796875 6.203125 41.984375 11.859375 \nQ 46.1875 17.53125 46.1875 27.296875 \nQ 46.1875 37.015625 41.984375 42.703125 \nQ 37.796875 48.390625 30.609375 48.390625 \nz\nM 30.609375 56 \nQ 42.328125 56 49.015625 48.375 \nQ 55.71875 40.765625 55.71875 27.296875 \nQ 55.71875 13.875 49.015625 6.21875 \nQ 42.328125 -1.421875 30.609375 -1.421875 \nQ 18.84375 -1.421875 12.171875 6.21875 \nQ 5.515625 13.875 5.515625 27.296875 \nQ 5.515625 40.765625 12.171875 48.375 \nQ 18.84375 56 30.609375 56 \nz\n\" id=\"DejaVuSans-111\"/>\n     </defs>\n     <g transform=\"translate(207.95625 132.020312)scale(0.1 -0.1)\">\n      <use xlink:href=\"#DejaVuSans-99\"/>\n      <use x=\"54.980469\" xlink:href=\"#DejaVuSans-111\"/>\n      <use x=\"116.162109\" xlink:href=\"#DejaVuSans-115\"/>\n     </g>\n    </g>\n   </g>\n  </g>\n </g>\n <defs>\n  <clipPath id=\"pb4a19abe3c\">\n   <rect height=\"135.9\" width=\"195.3\" x=\"38.482813\" y=\"7.2\"/>\n  </clipPath>\n </defs>\n</svg>\n"
          },
          "metadata": {
            "needs_background": "light"
          }
        }
      ],
      "source": [
        "board = d2l.ProgressBoard('x')\n",
        "for x in np.arange(0, 10, 0.1):\n",
        "    board.draw(x, np.sin(x), 'sin', every_n=2)\n",
        "    board.draw(x, np.cos(x), 'cos', every_n=10)"
      ]
    },
    {
      "cell_type": "markdown",
      "id": "c26e8413",
      "metadata": {
        "origin_pos": 19,
        "id": "c26e8413"
      },
      "source": [
        "## Models\n",
        ":label:`oo-design-models`\n",
        "\n",
        "The `Module` class  is the base class of all models we will implement. At a minimum we need to define three methods. The `__init__` method stores the learnable parameters, the `training_step` method accepts a data batch to return the loss value, the `configure_optimizers` method returns the optimization method, or a list of them, that is used to update the learnable parameters. Optionally we can define `validation_step` to report the evaluation measures.\n",
        "Sometimes we put the code to compute the output into a separate `forward` method to make it more reusable.\n"
      ]
    },
    {
      "cell_type": "code",
      "execution_count": 10,
      "id": "bdf4fa89",
      "metadata": {
        "execution": {
          "iopub.execute_input": "2022-09-07T22:08:42.102543Z",
          "iopub.status.busy": "2022-09-07T22:08:42.101884Z",
          "iopub.status.idle": "2022-09-07T22:08:42.111587Z",
          "shell.execute_reply": "2022-09-07T22:08:42.110630Z"
        },
        "origin_pos": 20,
        "tab": [
          "pytorch"
        ],
        "id": "bdf4fa89"
      },
      "outputs": [],
      "source": [
        "class Module(nn.Module, d2l.HyperParameters):  #@save\n",
        "    def __init__(self, plot_train_per_epoch=2, plot_valid_per_epoch=1):\n",
        "        super().__init__()\n",
        "        self.save_hyperparameters()\n",
        "        self.board = ProgressBoard()\n",
        "    def loss(self, y_hat, y):\n",
        "        raise NotImplementedError\n",
        "\n",
        "    def forward(self, X):\n",
        "        assert hasattr(self, 'net'), 'Neural network is defined'\n",
        "        return self.net(X)\n",
        "\n",
        "    def plot(self, key, value, train):\n",
        "        \"\"\"Plot a point in animation.\"\"\"\n",
        "        assert hasattr(self, 'trainer'), 'Trainer is not inited'\n",
        "        self.board.xlabel = 'epoch'\n",
        "        if train:\n",
        "            x = self.trainer.train_batch_idx / \\\n",
        "                self.trainer.num_train_batches\n",
        "            n = self.trainer.num_train_batches / \\\n",
        "                self.plot_train_per_epoch\n",
        "        else:\n",
        "            x = self.trainer.epoch + 1\n",
        "            n = self.trainer.num_val_batches / \\\n",
        "                self.plot_valid_per_epoch\n",
        "        self.board.draw(x, value.to(d2l.cpu()).detach().numpy(),\n",
        "                        ('train_' if train else 'val_') + key,\n",
        "                        every_n=int(n))\n",
        "\n",
        "    def training_step(self, batch):\n",
        "        l = self.loss(self(*batch[:-1]), batch[-1])\n",
        "        self.plot('loss', l, train=True)\n",
        "        return l\n",
        "\n",
        "    def validation_step(self, batch):\n",
        "        l = self.loss(self(*batch[:-1]), batch[-1])\n",
        "        self.plot('loss', l, train=False)\n",
        "\n",
        "    def configure_optimizers(self):\n",
        "        raise NotImplementedError"
      ]
    },
    {
      "cell_type": "markdown",
      "id": "a04cd6b2",
      "metadata": {
        "origin_pos": 22,
        "tab": [
          "pytorch"
        ],
        "id": "a04cd6b2"
      },
      "source": [
        "You may notice that `Module` is a subclass of `nn.Module`, the base class of neural networks in PyTorch.\n",
        "It provides convenient features to handle neural networks. For example, if we define a `forward` method, such as `forward(self, X)`, then for an instance `a` we can invoke this function by `a(X)`. This works since it calls the `forward` method in the built-in `__call__` method. You can find more details and examples about `nn.Module` in :numref:`sec_model_construction`.\n"
      ]
    },
    {
      "cell_type": "markdown",
      "id": "ec43b714",
      "metadata": {
        "origin_pos": 24,
        "id": "ec43b714"
      },
      "source": [
        "##  Data\n",
        ":label:`oo-design-data`\n",
        "\n",
        "The `DataModule` class is the base class for data. Quite frequently the `__init__` method is used to prepare the data. This includes downloading and preprocessing if needed. The `train_dataloader` returns the data loader for the training dataset. A data loader is a (Python) generator that yields a data batch each time it is used. This batch is then fed into the `training_step` method of `Module` to compute the loss. There is an optional `val_dataloader` to return the validation dataset loader. It behaves in the same manner, except that it yields data batches for the `validation_step` method in `Module`.\n"
      ]
    },
    {
      "cell_type": "code",
      "execution_count": 11,
      "id": "5fe73329",
      "metadata": {
        "execution": {
          "iopub.execute_input": "2022-09-07T22:08:42.115571Z",
          "iopub.status.busy": "2022-09-07T22:08:42.114976Z",
          "iopub.status.idle": "2022-09-07T22:08:42.120064Z",
          "shell.execute_reply": "2022-09-07T22:08:42.119204Z"
        },
        "origin_pos": 25,
        "tab": [
          "pytorch"
        ],
        "id": "5fe73329"
      },
      "outputs": [],
      "source": [
        "class DataModule(d2l.HyperParameters):  #@save\n",
        "    def __init__(self, root='../data', num_workers=4):\n",
        "        self.save_hyperparameters()\n",
        "\n",
        "    def get_dataloader(self, train):\n",
        "        raise NotImplementedError\n",
        "\n",
        "    def train_dataloader(self):\n",
        "        return self.get_dataloader(train=True)\n",
        "\n",
        "    def val_dataloader(self):\n",
        "        return self.get_dataloader(train=False)"
      ]
    },
    {
      "cell_type": "markdown",
      "id": "97dbdfeb",
      "metadata": {
        "origin_pos": 26,
        "id": "97dbdfeb"
      },
      "source": [
        "## Training\n",
        ":label:`oo-design-training`\n",
        "\n",
        "The `Trainer` class trains the learnable parameters in the `Module` class with data specified in `DataModule`. The key method is `fit`, which accepts two arguments: `model`, an instance of `Module`, and `data`, an instance of `DataModule`. It then iterates over the entire dataset `max_epochs` times to train the model. As before, we will defer the implementation of this function to later chapters.\n"
      ]
    },
    {
      "cell_type": "code",
      "execution_count": 12,
      "id": "e3ecb6c9",
      "metadata": {
        "execution": {
          "iopub.execute_input": "2022-09-07T22:08:42.124369Z",
          "iopub.status.busy": "2022-09-07T22:08:42.123602Z",
          "iopub.status.idle": "2022-09-07T22:08:42.131329Z",
          "shell.execute_reply": "2022-09-07T22:08:42.130401Z"
        },
        "origin_pos": 27,
        "tab": [
          "pytorch"
        ],
        "id": "e3ecb6c9"
      },
      "outputs": [],
      "source": [
        "class Trainer(d2l.HyperParameters):  #@save\n",
        "    def __init__(self, max_epochs, num_gpus=0, gradient_clip_val=0):\n",
        "        self.save_hyperparameters()\n",
        "        assert num_gpus == 0, 'No GPU support yet'\n",
        "\n",
        "    def prepare_data(self, data):\n",
        "        self.train_dataloader = data.train_dataloader()\n",
        "        self.val_dataloader = data.val_dataloader()\n",
        "        self.num_train_batches = len(self.train_dataloader)\n",
        "        self.num_val_batches = (len(self.val_dataloader)\n",
        "                                if self.val_dataloader is not None else 0)\n",
        "\n",
        "    def prepare_model(self, model):\n",
        "        model.trainer = self\n",
        "        model.board.xlim = [0, self.max_epochs]\n",
        "        self.model = model\n",
        "\n",
        "    def fit(self, model, data):\n",
        "        self.prepare_data(data)\n",
        "        self.prepare_model(model)\n",
        "        self.optim = model.configure_optimizers()\n",
        "        self.epoch = 0\n",
        "        self.train_batch_idx = 0\n",
        "        self.val_batch_idx = 0\n",
        "        for self.epoch in range(self.max_epochs):\n",
        "            self.fit_epoch()\n",
        "\n",
        "    def fit_epoch(self):\n",
        "        raise NotImplementedError"
      ]
    },
    {
      "cell_type": "markdown",
      "id": "4c694c3e",
      "metadata": {
        "origin_pos": 28,
        "id": "4c694c3e"
      },
      "source": [
        "## Summary\n",
        "\n",
        "To highlight the object-oriented design\n",
        "for our future deep learning implementation,\n",
        "the above classes just show how their objects \n",
        "store data and interact with each other.\n",
        "We will keep enriching implementations of these classes,\n",
        "such as via `@add_to_class`,\n",
        "in the rest of the book.\n",
        "Moreover,\n",
        "these fully implemented classes\n",
        "are saved in the [d2l library](https://github.com/d2l-ai/d2l-en/tree/master/d2l),\n",
        "a *lightweight toolkit* that makes structured modeling for deep learning easy. \n",
        "In particular, it facilitates reusing many components between projects without changing much at all. For instance, we can replace just the optimizer, just the model, just the dataset, etc.;\n",
        "this degree of modularity pays dividends throughout the book in terms of conciseness and simplicity (this is why we added it) and it can do the same for your own projects. \n",
        "\n",
        "\n",
        "## Exercises\n",
        "\n",
        "1. Locate full implementations of the above classes that are saved in the [d2l library](https://github.com/d2l-ai/d2l-en/tree/master/d2l). We strongly recommend that you look at the implementation in detail once you have gained some more familiarity with deep learning modeling.\n",
        "1. Remove the `save_hyperparameters` statement in the `B` class. Can you still print `self.a` and `self.b`? Optional: if you have dived into the full implementation of the `HyperParameters` class, can you explain why?\n"
      ]
    },
    {
      "cell_type": "markdown",
      "id": "c2191285",
      "metadata": {
        "origin_pos": 30,
        "tab": [
          "pytorch"
        ],
        "id": "c2191285"
      },
      "source": [
        "[Discussions](https://discuss.d2l.ai/t/6646)\n"
      ]
    }
  ],
  "metadata": {
    "accelerator": "GPU",
    "kernelspec": {
      "display_name": "Python 3",
      "name": "python3"
    },
    "language_info": {
      "name": "python"
    },
    "colab": {
      "provenance": []
    }
  },
  "nbformat": 4,
  "nbformat_minor": 5
}