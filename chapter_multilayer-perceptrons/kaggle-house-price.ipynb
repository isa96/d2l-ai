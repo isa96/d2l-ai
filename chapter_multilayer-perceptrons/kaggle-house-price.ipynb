{
  "cells": [
    {
      "cell_type": "markdown",
      "id": "7c07fc6a",
      "metadata": {
        "id": "7c07fc6a"
      },
      "source": [
        "The following additional libraries are needed to run this\n",
        "notebook. Note that running on Colab is experimental, please report a Github\n",
        "issue if you have any problem."
      ]
    },
    {
      "cell_type": "code",
      "execution_count": 1,
      "id": "c52e14a3",
      "metadata": {
        "id": "c52e14a3",
        "outputId": "ccc719a3-0212-43f3-de35-d123882a4a58",
        "colab": {
          "base_uri": "https://localhost:8080/"
        }
      },
      "outputs": [
        {
          "output_type": "stream",
          "name": "stdout",
          "text": [
            "Looking in indexes: https://pypi.org/simple, https://us-python.pkg.dev/colab-wheels/public/simple/\n",
            "Collecting d2l==1.0.0-alpha1.post0\n",
            "  Downloading d2l-1.0.0a1.post0-py3-none-any.whl (93 kB)\n",
            "\u001b[K     |████████████████████████████████| 93 kB 1.2 MB/s \n",
            "\u001b[?25hRequirement already satisfied: numpy in /usr/local/lib/python3.7/dist-packages (from d2l==1.0.0-alpha1.post0) (1.21.6)\n",
            "Requirement already satisfied: matplotlib in /usr/local/lib/python3.7/dist-packages (from d2l==1.0.0-alpha1.post0) (3.2.2)\n",
            "Requirement already satisfied: requests in /usr/local/lib/python3.7/dist-packages (from d2l==1.0.0-alpha1.post0) (2.23.0)\n",
            "Collecting jupyter\n",
            "  Downloading jupyter-1.0.0-py2.py3-none-any.whl (2.7 kB)\n",
            "Requirement already satisfied: pandas in /usr/local/lib/python3.7/dist-packages (from d2l==1.0.0-alpha1.post0) (1.3.5)\n",
            "Collecting matplotlib-inline\n",
            "  Downloading matplotlib_inline-0.1.6-py3-none-any.whl (9.4 kB)\n",
            "Requirement already satisfied: gym in /usr/local/lib/python3.7/dist-packages (from d2l==1.0.0-alpha1.post0) (0.25.2)\n",
            "Requirement already satisfied: cloudpickle>=1.2.0 in /usr/local/lib/python3.7/dist-packages (from gym->d2l==1.0.0-alpha1.post0) (1.5.0)\n",
            "Requirement already satisfied: importlib-metadata>=4.8.0 in /usr/local/lib/python3.7/dist-packages (from gym->d2l==1.0.0-alpha1.post0) (4.13.0)\n",
            "Requirement already satisfied: gym-notices>=0.0.4 in /usr/local/lib/python3.7/dist-packages (from gym->d2l==1.0.0-alpha1.post0) (0.0.8)\n",
            "Requirement already satisfied: typing-extensions>=3.6.4 in /usr/local/lib/python3.7/dist-packages (from importlib-metadata>=4.8.0->gym->d2l==1.0.0-alpha1.post0) (4.1.1)\n",
            "Requirement already satisfied: zipp>=0.5 in /usr/local/lib/python3.7/dist-packages (from importlib-metadata>=4.8.0->gym->d2l==1.0.0-alpha1.post0) (3.9.0)\n",
            "Collecting qtconsole\n",
            "  Downloading qtconsole-5.3.2-py3-none-any.whl (120 kB)\n",
            "\u001b[K     |████████████████████████████████| 120 kB 39.5 MB/s \n",
            "\u001b[?25hRequirement already satisfied: ipywidgets in /usr/local/lib/python3.7/dist-packages (from jupyter->d2l==1.0.0-alpha1.post0) (7.7.1)\n",
            "Requirement already satisfied: ipykernel in /usr/local/lib/python3.7/dist-packages (from jupyter->d2l==1.0.0-alpha1.post0) (5.3.4)\n",
            "Requirement already satisfied: jupyter-console in /usr/local/lib/python3.7/dist-packages (from jupyter->d2l==1.0.0-alpha1.post0) (6.1.0)\n",
            "Requirement already satisfied: nbconvert in /usr/local/lib/python3.7/dist-packages (from jupyter->d2l==1.0.0-alpha1.post0) (5.6.1)\n",
            "Requirement already satisfied: notebook in /usr/local/lib/python3.7/dist-packages (from jupyter->d2l==1.0.0-alpha1.post0) (5.5.0)\n",
            "Requirement already satisfied: tornado>=4.2 in /usr/local/lib/python3.7/dist-packages (from ipykernel->jupyter->d2l==1.0.0-alpha1.post0) (5.1.1)\n",
            "Requirement already satisfied: traitlets>=4.1.0 in /usr/local/lib/python3.7/dist-packages (from ipykernel->jupyter->d2l==1.0.0-alpha1.post0) (5.1.1)\n",
            "Requirement already satisfied: jupyter-client in /usr/local/lib/python3.7/dist-packages (from ipykernel->jupyter->d2l==1.0.0-alpha1.post0) (6.1.12)\n",
            "Requirement already satisfied: ipython>=5.0.0 in /usr/local/lib/python3.7/dist-packages (from ipykernel->jupyter->d2l==1.0.0-alpha1.post0) (7.9.0)\n",
            "Requirement already satisfied: decorator in /usr/local/lib/python3.7/dist-packages (from ipython>=5.0.0->ipykernel->jupyter->d2l==1.0.0-alpha1.post0) (4.4.2)\n",
            "Requirement already satisfied: pygments in /usr/local/lib/python3.7/dist-packages (from ipython>=5.0.0->ipykernel->jupyter->d2l==1.0.0-alpha1.post0) (2.6.1)\n",
            "Requirement already satisfied: prompt-toolkit<2.1.0,>=2.0.0 in /usr/local/lib/python3.7/dist-packages (from ipython>=5.0.0->ipykernel->jupyter->d2l==1.0.0-alpha1.post0) (2.0.10)\n",
            "Requirement already satisfied: setuptools>=18.5 in /usr/local/lib/python3.7/dist-packages (from ipython>=5.0.0->ipykernel->jupyter->d2l==1.0.0-alpha1.post0) (57.4.0)\n",
            "Requirement already satisfied: backcall in /usr/local/lib/python3.7/dist-packages (from ipython>=5.0.0->ipykernel->jupyter->d2l==1.0.0-alpha1.post0) (0.2.0)\n",
            "Requirement already satisfied: pexpect in /usr/local/lib/python3.7/dist-packages (from ipython>=5.0.0->ipykernel->jupyter->d2l==1.0.0-alpha1.post0) (4.8.0)\n",
            "Requirement already satisfied: pickleshare in /usr/local/lib/python3.7/dist-packages (from ipython>=5.0.0->ipykernel->jupyter->d2l==1.0.0-alpha1.post0) (0.7.5)\n",
            "Collecting jedi>=0.10\n",
            "  Downloading jedi-0.18.1-py2.py3-none-any.whl (1.6 MB)\n",
            "\u001b[K     |████████████████████████████████| 1.6 MB 54.0 MB/s \n",
            "\u001b[?25hRequirement already satisfied: parso<0.9.0,>=0.8.0 in /usr/local/lib/python3.7/dist-packages (from jedi>=0.10->ipython>=5.0.0->ipykernel->jupyter->d2l==1.0.0-alpha1.post0) (0.8.3)\n",
            "Requirement already satisfied: six>=1.9.0 in /usr/local/lib/python3.7/dist-packages (from prompt-toolkit<2.1.0,>=2.0.0->ipython>=5.0.0->ipykernel->jupyter->d2l==1.0.0-alpha1.post0) (1.15.0)\n",
            "Requirement already satisfied: wcwidth in /usr/local/lib/python3.7/dist-packages (from prompt-toolkit<2.1.0,>=2.0.0->ipython>=5.0.0->ipykernel->jupyter->d2l==1.0.0-alpha1.post0) (0.2.5)\n",
            "Requirement already satisfied: jupyterlab-widgets>=1.0.0 in /usr/local/lib/python3.7/dist-packages (from ipywidgets->jupyter->d2l==1.0.0-alpha1.post0) (3.0.3)\n",
            "Requirement already satisfied: ipython-genutils~=0.2.0 in /usr/local/lib/python3.7/dist-packages (from ipywidgets->jupyter->d2l==1.0.0-alpha1.post0) (0.2.0)\n",
            "Requirement already satisfied: widgetsnbextension~=3.6.0 in /usr/local/lib/python3.7/dist-packages (from ipywidgets->jupyter->d2l==1.0.0-alpha1.post0) (3.6.1)\n",
            "Requirement already satisfied: nbformat in /usr/local/lib/python3.7/dist-packages (from notebook->jupyter->d2l==1.0.0-alpha1.post0) (5.7.0)\n",
            "Requirement already satisfied: pyzmq>=17 in /usr/local/lib/python3.7/dist-packages (from notebook->jupyter->d2l==1.0.0-alpha1.post0) (23.2.1)\n",
            "Requirement already satisfied: Send2Trash in /usr/local/lib/python3.7/dist-packages (from notebook->jupyter->d2l==1.0.0-alpha1.post0) (1.8.0)\n",
            "Requirement already satisfied: jinja2 in /usr/local/lib/python3.7/dist-packages (from notebook->jupyter->d2l==1.0.0-alpha1.post0) (2.11.3)\n",
            "Requirement already satisfied: jupyter-core>=4.4.0 in /usr/local/lib/python3.7/dist-packages (from notebook->jupyter->d2l==1.0.0-alpha1.post0) (4.11.1)\n",
            "Requirement already satisfied: terminado>=0.8.1 in /usr/local/lib/python3.7/dist-packages (from notebook->jupyter->d2l==1.0.0-alpha1.post0) (0.13.3)\n",
            "Requirement already satisfied: python-dateutil>=2.1 in /usr/local/lib/python3.7/dist-packages (from jupyter-client->ipykernel->jupyter->d2l==1.0.0-alpha1.post0) (2.8.2)\n",
            "Requirement already satisfied: ptyprocess in /usr/local/lib/python3.7/dist-packages (from terminado>=0.8.1->notebook->jupyter->d2l==1.0.0-alpha1.post0) (0.7.0)\n",
            "Requirement already satisfied: MarkupSafe>=0.23 in /usr/local/lib/python3.7/dist-packages (from jinja2->notebook->jupyter->d2l==1.0.0-alpha1.post0) (2.0.1)\n",
            "Requirement already satisfied: pyparsing!=2.0.4,!=2.1.2,!=2.1.6,>=2.0.1 in /usr/local/lib/python3.7/dist-packages (from matplotlib->d2l==1.0.0-alpha1.post0) (3.0.9)\n",
            "Requirement already satisfied: kiwisolver>=1.0.1 in /usr/local/lib/python3.7/dist-packages (from matplotlib->d2l==1.0.0-alpha1.post0) (1.4.4)\n",
            "Requirement already satisfied: cycler>=0.10 in /usr/local/lib/python3.7/dist-packages (from matplotlib->d2l==1.0.0-alpha1.post0) (0.11.0)\n",
            "Requirement already satisfied: testpath in /usr/local/lib/python3.7/dist-packages (from nbconvert->jupyter->d2l==1.0.0-alpha1.post0) (0.6.0)\n",
            "Requirement already satisfied: entrypoints>=0.2.2 in /usr/local/lib/python3.7/dist-packages (from nbconvert->jupyter->d2l==1.0.0-alpha1.post0) (0.4)\n",
            "Requirement already satisfied: defusedxml in /usr/local/lib/python3.7/dist-packages (from nbconvert->jupyter->d2l==1.0.0-alpha1.post0) (0.7.1)\n",
            "Requirement already satisfied: bleach in /usr/local/lib/python3.7/dist-packages (from nbconvert->jupyter->d2l==1.0.0-alpha1.post0) (5.0.1)\n",
            "Requirement already satisfied: pandocfilters>=1.4.1 in /usr/local/lib/python3.7/dist-packages (from nbconvert->jupyter->d2l==1.0.0-alpha1.post0) (1.5.0)\n",
            "Requirement already satisfied: mistune<2,>=0.8.1 in /usr/local/lib/python3.7/dist-packages (from nbconvert->jupyter->d2l==1.0.0-alpha1.post0) (0.8.4)\n",
            "Requirement already satisfied: jsonschema>=2.6 in /usr/local/lib/python3.7/dist-packages (from nbformat->notebook->jupyter->d2l==1.0.0-alpha1.post0) (4.3.3)\n",
            "Requirement already satisfied: fastjsonschema in /usr/local/lib/python3.7/dist-packages (from nbformat->notebook->jupyter->d2l==1.0.0-alpha1.post0) (2.16.2)\n",
            "Requirement already satisfied: importlib-resources>=1.4.0 in /usr/local/lib/python3.7/dist-packages (from jsonschema>=2.6->nbformat->notebook->jupyter->d2l==1.0.0-alpha1.post0) (5.10.0)\n",
            "Requirement already satisfied: attrs>=17.4.0 in /usr/local/lib/python3.7/dist-packages (from jsonschema>=2.6->nbformat->notebook->jupyter->d2l==1.0.0-alpha1.post0) (22.1.0)\n",
            "Requirement already satisfied: pyrsistent!=0.17.0,!=0.17.1,!=0.17.2,>=0.14.0 in /usr/local/lib/python3.7/dist-packages (from jsonschema>=2.6->nbformat->notebook->jupyter->d2l==1.0.0-alpha1.post0) (0.18.1)\n",
            "Requirement already satisfied: webencodings in /usr/local/lib/python3.7/dist-packages (from bleach->nbconvert->jupyter->d2l==1.0.0-alpha1.post0) (0.5.1)\n",
            "Requirement already satisfied: pytz>=2017.3 in /usr/local/lib/python3.7/dist-packages (from pandas->d2l==1.0.0-alpha1.post0) (2022.4)\n",
            "Collecting qtpy>=2.0.1\n",
            "  Downloading QtPy-2.2.1-py3-none-any.whl (82 kB)\n",
            "\u001b[K     |████████████████████████████████| 82 kB 1.0 MB/s \n",
            "\u001b[?25hRequirement already satisfied: packaging in /usr/local/lib/python3.7/dist-packages (from qtpy>=2.0.1->qtconsole->jupyter->d2l==1.0.0-alpha1.post0) (21.3)\n",
            "Requirement already satisfied: urllib3!=1.25.0,!=1.25.1,<1.26,>=1.21.1 in /usr/local/lib/python3.7/dist-packages (from requests->d2l==1.0.0-alpha1.post0) (1.24.3)\n",
            "Requirement already satisfied: idna<3,>=2.5 in /usr/local/lib/python3.7/dist-packages (from requests->d2l==1.0.0-alpha1.post0) (2.10)\n",
            "Requirement already satisfied: certifi>=2017.4.17 in /usr/local/lib/python3.7/dist-packages (from requests->d2l==1.0.0-alpha1.post0) (2022.9.24)\n",
            "Requirement already satisfied: chardet<4,>=3.0.2 in /usr/local/lib/python3.7/dist-packages (from requests->d2l==1.0.0-alpha1.post0) (3.0.4)\n",
            "Installing collected packages: jedi, qtpy, qtconsole, matplotlib-inline, jupyter, d2l\n",
            "Successfully installed d2l-1.0.0a1.post0 jedi-0.18.1 jupyter-1.0.0 matplotlib-inline-0.1.6 qtconsole-5.3.2 qtpy-2.2.1\n"
          ]
        }
      ],
      "source": [
        "!pip install d2l==1.0.0-alpha1.post0\n"
      ]
    },
    {
      "cell_type": "markdown",
      "id": "de2634b9",
      "metadata": {
        "origin_pos": 1,
        "id": "de2634b9"
      },
      "source": [
        "# Predicting House Prices on Kaggle\n",
        ":label:`sec_kaggle_house`\n",
        "\n",
        "Now that we have introduced some basic tools\n",
        "for building and training deep networks\n",
        "and regularizing them with techniques including\n",
        "weight decay and dropout,\n",
        "we are ready to put all this knowledge into practice\n",
        "by participating in a Kaggle competition.\n",
        "The house price prediction competition\n",
        "is a great place to start.\n",
        "The data is fairly generic and do not exhibit exotic structure\n",
        "that might require specialized models (as audio or video might).\n",
        "This dataset, collected by Bart de Cock in 2011 :cite:`De-Cock.2011`,\n",
        "covers house prices in Ames, IA from the period of 2006--2010.\n",
        "It is considerably larger than the famous [Boston housing dataset](https://archive.ics.uci.edu/ml/machine-learning-databases/housing/housing.names) of Harrison and Rubinfeld (1978),\n",
        "boasting both more examples and more features.\n",
        "\n",
        "\n",
        "In this section, we will walk you through details of\n",
        "data preprocessing, model design, and hyperparameter selection.\n",
        "We hope that through a hands-on approach,\n",
        "you will gain some intuitions that will guide you\n",
        "in your career as a data scientist.\n",
        "\n",
        "\n",
        "## Downloading Data\n",
        "\n",
        "Throughout the book, we will train and test models\n",
        "on various downloaded datasets.\n",
        "Here, we (**implement two utility functions**)\n",
        "to download files and extract zip or tar files.\n",
        "Again, we defer their implementations into :numref:`sec_utils`.\n"
      ]
    },
    {
      "cell_type": "code",
      "execution_count": 2,
      "id": "568f3492",
      "metadata": {
        "attributes": {
          "classes": [],
          "id": "",
          "n": "2"
        },
        "execution": {
          "iopub.execute_input": "2022-09-07T22:03:26.578702Z",
          "iopub.status.busy": "2022-09-07T22:03:26.577664Z",
          "iopub.status.idle": "2022-09-07T22:03:26.591479Z",
          "shell.execute_reply": "2022-09-07T22:03:26.590467Z"
        },
        "origin_pos": 2,
        "tab": [
          "pytorch"
        ],
        "id": "568f3492"
      },
      "outputs": [],
      "source": [
        "def download(url, folder, sha1_hash=None):\n",
        "    \"\"\"Download a file to folder and return the local filepath.\"\"\"\n",
        "\n",
        "def extract(filename, folder):\n",
        "    \"\"\"Extract a zip/tar file into folder.\"\"\""
      ]
    },
    {
      "cell_type": "markdown",
      "id": "5b72adec",
      "metadata": {
        "origin_pos": 3,
        "id": "5b72adec"
      },
      "source": [
        "## Kaggle\n",
        "\n",
        "[Kaggle](https://www.kaggle.com) is a popular platform\n",
        "that hosts machine learning competitions.\n",
        "Each competition centers on a dataset and many\n",
        "are sponsored by stakeholders who offer prizes\n",
        "to the winning solutions.\n",
        "The platform helps users to interact\n",
        "via forums and shared code,\n",
        "fostering both collaboration and competition.\n",
        "While leaderboard chasing often spirals out of control,\n",
        "with researchers focusing myopically on preprocessing steps\n",
        "rather than asking fundamental questions,\n",
        "there is also tremendous value in the objectivity of a platform\n",
        "that facilitates direct quantitative comparisons\n",
        "among competing approaches as well as code sharing\n",
        "so that everyone can learn what did and did not work.\n",
        "If you want to participate in a Kaggle competition,\n",
        "you will first need to register for an account\n",
        "(see :numref:`fig_kaggle`).\n",
        "\n",
        "![The Kaggle website.](https://github.com/d2l-ai/d2l-pytorch-colab/blob/master/img/kaggle.png?raw=1)\n",
        ":width:`400px`\n",
        ":label:`fig_kaggle`\n",
        "\n",
        "On the house price prediction competition page, as illustrated\n",
        "in :numref:`fig_house_pricing`,\n",
        "you can find the dataset (under the \"Data\" tab),\n",
        "submit predictions, and see your ranking,\n",
        "The URL is right here:\n",
        "\n",
        "> https://www.kaggle.com/c/house-prices-advanced-regression-techniques\n",
        "\n",
        "![The house price prediction competition page.](https://github.com/d2l-ai/d2l-pytorch-colab/blob/master/img/house-pricing.png?raw=1)\n",
        ":width:`400px`\n",
        ":label:`fig_house_pricing`\n",
        "\n",
        "## Accessing and Reading the Dataset\n",
        "\n",
        "Note that the competition data is separated\n",
        "into training and test sets.\n",
        "Each record includes the property value of the house\n",
        "and attributes such as street type, year of construction,\n",
        "roof type, basement condition, etc.\n",
        "The features consist of various data types.\n",
        "For example, the year of construction\n",
        "is represented by an integer,\n",
        "the roof type by discrete categorical assignments,\n",
        "and other features by floating point numbers.\n",
        "And here is where reality complicates things:\n",
        "for some examples, some data is altogether missing\n",
        "with the missing value marked simply as \"na\".\n",
        "The price of each house is included\n",
        "for the training set only\n",
        "(it is a competition after all).\n",
        "We will want to partition the training set\n",
        "to create a validation set,\n",
        "but we only get to evaluate our models on the official test set\n",
        "after uploading predictions to Kaggle.\n",
        "The \"Data\" tab on the competition tab\n",
        "in :numref:`fig_house_pricing`\n",
        "has links to download the data.\n"
      ]
    },
    {
      "cell_type": "code",
      "execution_count": 3,
      "id": "0976e9ec",
      "metadata": {
        "attributes": {
          "classes": [],
          "id": "",
          "n": "4"
        },
        "execution": {
          "iopub.execute_input": "2022-09-07T22:03:26.594927Z",
          "iopub.status.busy": "2022-09-07T22:03:26.594627Z",
          "iopub.status.idle": "2022-09-07T22:03:28.513768Z",
          "shell.execute_reply": "2022-09-07T22:03:28.512937Z"
        },
        "origin_pos": 5,
        "tab": [
          "pytorch"
        ],
        "id": "0976e9ec"
      },
      "outputs": [],
      "source": [
        "%matplotlib inline\n",
        "import numpy as np\n",
        "import pandas as pd\n",
        "import torch\n",
        "from torch import nn\n",
        "from d2l import torch as d2l"
      ]
    },
    {
      "cell_type": "markdown",
      "id": "67992c62",
      "metadata": {
        "origin_pos": 7,
        "id": "67992c62"
      },
      "source": [
        "To get started, we will [**read in and process the data\n",
        "using `pandas`**], which we have introduced in :numref:`sec_pandas`.\n",
        "For convenience, we can download and cache\n",
        "the Kaggle housing dataset.\n",
        "If a file corresponding to this dataset already exists in the cache directory and its SHA-1 matches `sha1_hash`, our code will use the cached file to avoid clogging up your internet with redundant downloads.\n"
      ]
    },
    {
      "cell_type": "code",
      "execution_count": 4,
      "id": "44b6c314",
      "metadata": {
        "attributes": {
          "classes": [],
          "id": "",
          "n": "30"
        },
        "execution": {
          "iopub.execute_input": "2022-09-07T22:03:28.517832Z",
          "iopub.status.busy": "2022-09-07T22:03:28.517276Z",
          "iopub.status.idle": "2022-09-07T22:03:28.523004Z",
          "shell.execute_reply": "2022-09-07T22:03:28.522236Z"
        },
        "origin_pos": 8,
        "tab": [
          "pytorch"
        ],
        "id": "44b6c314"
      },
      "outputs": [],
      "source": [
        "class KaggleHouse(d2l.DataModule):\n",
        "    def __init__(self, batch_size, train=None, val=None):\n",
        "        super().__init__()\n",
        "        self.save_hyperparameters()\n",
        "        if self.train is None:\n",
        "            self.raw_train = pd.read_csv(d2l.download(\n",
        "                d2l.DATA_URL + 'kaggle_house_pred_train.csv', self.root,\n",
        "                sha1_hash='585e9cc93e70b39160e7921475f9bcd7d31219ce'))\n",
        "            self.raw_val = pd.read_csv(d2l.download(\n",
        "                d2l.DATA_URL + 'kaggle_house_pred_test.csv', self.root,\n",
        "                sha1_hash='fa19780a7b011d9b009e8bff8e99922a8ee2eb90'))"
      ]
    },
    {
      "cell_type": "markdown",
      "id": "8f146174",
      "metadata": {
        "origin_pos": 9,
        "id": "8f146174"
      },
      "source": [
        "The training dataset includes 1460 examples,\n",
        "80 features, and 1 label, while the validation data\n",
        "contains 1459 examples and 80 features.\n"
      ]
    },
    {
      "cell_type": "code",
      "execution_count": 5,
      "id": "072e17c3",
      "metadata": {
        "attributes": {
          "classes": [],
          "id": "",
          "n": "31"
        },
        "execution": {
          "iopub.execute_input": "2022-09-07T22:03:28.526395Z",
          "iopub.status.busy": "2022-09-07T22:03:28.525980Z",
          "iopub.status.idle": "2022-09-07T22:03:28.842469Z",
          "shell.execute_reply": "2022-09-07T22:03:28.841657Z"
        },
        "origin_pos": 10,
        "tab": [
          "pytorch"
        ],
        "id": "072e17c3",
        "outputId": "eeacc681-9069-4386-b71e-4b80caab80d3",
        "colab": {
          "base_uri": "https://localhost:8080/"
        }
      },
      "outputs": [
        {
          "output_type": "stream",
          "name": "stdout",
          "text": [
            "Downloading ../data/kaggle_house_pred_train.csv from http://d2l-data.s3-accelerate.amazonaws.com/kaggle_house_pred_train.csv...\n",
            "Downloading ../data/kaggle_house_pred_test.csv from http://d2l-data.s3-accelerate.amazonaws.com/kaggle_house_pred_test.csv...\n",
            "(1460, 81)\n",
            "(1459, 80)\n"
          ]
        }
      ],
      "source": [
        "data = KaggleHouse(batch_size=64)\n",
        "print(data.raw_train.shape)\n",
        "print(data.raw_val.shape)"
      ]
    },
    {
      "cell_type": "markdown",
      "id": "c212de68",
      "metadata": {
        "origin_pos": 11,
        "id": "c212de68"
      },
      "source": [
        "## Data Preprocessing\n",
        "\n",
        "Let's [**take a look at the first four and last two features\n",
        "as well as the label (SalePrice)**] from the first four examples.\n"
      ]
    },
    {
      "cell_type": "code",
      "execution_count": 6,
      "id": "9c6671be",
      "metadata": {
        "attributes": {
          "classes": [],
          "id": "",
          "n": "10"
        },
        "execution": {
          "iopub.execute_input": "2022-09-07T22:03:28.846158Z",
          "iopub.status.busy": "2022-09-07T22:03:28.845695Z",
          "iopub.status.idle": "2022-09-07T22:03:28.855255Z",
          "shell.execute_reply": "2022-09-07T22:03:28.854431Z"
        },
        "origin_pos": 12,
        "tab": [
          "pytorch"
        ],
        "id": "9c6671be",
        "outputId": "eb1dcb8c-2119-49d9-9faa-a4589b33f7d6",
        "colab": {
          "base_uri": "https://localhost:8080/"
        }
      },
      "outputs": [
        {
          "output_type": "stream",
          "name": "stdout",
          "text": [
            "   Id  MSSubClass MSZoning  LotFrontage SaleType SaleCondition  SalePrice\n",
            "0   1          60       RL         65.0       WD        Normal     208500\n",
            "1   2          20       RL         80.0       WD        Normal     181500\n",
            "2   3          60       RL         68.0       WD        Normal     223500\n",
            "3   4          70       RL         60.0       WD       Abnorml     140000\n"
          ]
        }
      ],
      "source": [
        "print(data.raw_train.iloc[:4, [0, 1, 2, 3, -3, -2, -1]])"
      ]
    },
    {
      "cell_type": "markdown",
      "id": "e6150cf9",
      "metadata": {
        "origin_pos": 13,
        "id": "e6150cf9"
      },
      "source": [
        "We can see that in each example, the first feature is the ID.\n",
        "This helps the model identify each training example.\n",
        "While this is convenient, it does not carry\n",
        "any information for prediction purposes.\n",
        "Hence, we will remove it from the dataset\n",
        "before feeding the data into the model.\n",
        "Besides, given a wide variety of data types,\n",
        "we will need to preprocess the data before we can start modeling.\n",
        "\n",
        "\n",
        "Let's start with the numerical features.\n",
        "First, we apply a heuristic,\n",
        "[**replacing all missing values\n",
        "by the corresponding feature's mean.**]\n",
        "Then, to put all features on a common scale,\n",
        "we (***standardize* the data by\n",
        "rescaling features to zero mean and unit variance**):\n",
        "\n",
        "$$x \\leftarrow \\frac{x - \\mu}{\\sigma},$$\n",
        "\n",
        "where $\\mu$ and $\\sigma$ denote mean and standard deviation, respectively.\n",
        "To verify that this indeed transforms\n",
        "our feature (variable) such that it has zero mean and unit variance,\n",
        "note that $E[\\frac{x-\\mu}{\\sigma}] = \\frac{\\mu - \\mu}{\\sigma} = 0$\n",
        "and that $E[(x-\\mu)^2] = (\\sigma^2 + \\mu^2) - 2\\mu^2+\\mu^2 = \\sigma^2$.\n",
        "Intuitively, we standardize the data\n",
        "for two reasons.\n",
        "First, it proves convenient for optimization.\n",
        "Second, because we do not know *a priori*\n",
        "which features will be relevant,\n",
        "we do not want to penalize coefficients\n",
        "assigned to one feature more than on any other.\n",
        "\n",
        "[**Next we deal with discrete values.**]\n",
        "This includes features such as \"MSZoning\".\n",
        "(**We replace them by a one-hot encoding**)\n",
        "in the same way that we previously transformed\n",
        "multiclass labels into vectors (see :numref:`subsec_classification-problem`).\n",
        "For instance, \"MSZoning\" assumes the values \"RL\" and \"RM\".\n",
        "Dropping the \"MSZoning\" feature,\n",
        "two new indicator features\n",
        "\"MSZoning_RL\" and \"MSZoning_RM\" are created with values being either 0 or 1.\n",
        "According to one-hot encoding,\n",
        "if the original value of \"MSZoning\" is \"RL\",\n",
        "then \"MSZoning_RL\" is 1 and \"MSZoning_RM\" is 0.\n",
        "The `pandas` package does this automatically for us.\n"
      ]
    },
    {
      "cell_type": "code",
      "execution_count": 7,
      "id": "bbad0847",
      "metadata": {
        "attributes": {
          "classes": [],
          "id": "",
          "n": "32"
        },
        "execution": {
          "iopub.execute_input": "2022-09-07T22:03:28.858582Z",
          "iopub.status.busy": "2022-09-07T22:03:28.858155Z",
          "iopub.status.idle": "2022-09-07T22:03:28.864597Z",
          "shell.execute_reply": "2022-09-07T22:03:28.863841Z"
        },
        "origin_pos": 14,
        "tab": [
          "pytorch"
        ],
        "id": "bbad0847"
      },
      "outputs": [],
      "source": [
        "@d2l.add_to_class(KaggleHouse)\n",
        "def preprocess(self):\n",
        "    # Remove the ID and label columns\n",
        "    label = 'SalePrice'\n",
        "    features = pd.concat(\n",
        "        (self.raw_train.drop(columns=['Id', label]),\n",
        "         self.raw_val.drop(columns=['Id'])))\n",
        "    # Standardize numerical columns\n",
        "    numeric_features = features.dtypes[features.dtypes != 'object'].index\n",
        "    features[numeric_features] = features[numeric_features].apply(\n",
        "        lambda x: (x - x.mean()) / (x.std()))\n",
        "    # Replace NAN numerical features by 0\n",
        "    features[numeric_features] = features[numeric_features].fillna(0)\n",
        "    # Replace discrete features by one-hot encoding.\n",
        "    features = pd.get_dummies(features, dummy_na=True)\n",
        "    # Save preprocessed features\n",
        "    self.train = features[:self.raw_train.shape[0]].copy()\n",
        "    self.train[label] = self.raw_train[label]\n",
        "    self.val = features[self.raw_train.shape[0]:].copy()"
      ]
    },
    {
      "cell_type": "markdown",
      "id": "b9e52281",
      "metadata": {
        "origin_pos": 15,
        "id": "b9e52281"
      },
      "source": [
        "You can see that this conversion increases\n",
        "the number of features from 79 to 331 (excluding ID and label columns).\n"
      ]
    },
    {
      "cell_type": "code",
      "execution_count": 8,
      "id": "3fd765d1",
      "metadata": {
        "attributes": {
          "classes": [],
          "id": "",
          "n": "33"
        },
        "execution": {
          "iopub.execute_input": "2022-09-07T22:03:28.867888Z",
          "iopub.status.busy": "2022-09-07T22:03:28.867476Z",
          "iopub.status.idle": "2022-09-07T22:03:28.992068Z",
          "shell.execute_reply": "2022-09-07T22:03:28.991239Z"
        },
        "origin_pos": 16,
        "tab": [
          "pytorch"
        ],
        "id": "3fd765d1",
        "outputId": "6393b4bc-b8c9-4090-96c6-f1a85f1a6fbf",
        "colab": {
          "base_uri": "https://localhost:8080/"
        }
      },
      "outputs": [
        {
          "output_type": "execute_result",
          "data": {
            "text/plain": [
              "(1460, 332)"
            ]
          },
          "metadata": {},
          "execution_count": 8
        }
      ],
      "source": [
        "data.preprocess()\n",
        "data.train.shape"
      ]
    },
    {
      "cell_type": "markdown",
      "id": "5cca20ca",
      "metadata": {
        "origin_pos": 17,
        "id": "5cca20ca"
      },
      "source": [
        "## Error Measure\n",
        "\n",
        "To get started we will train a linear model with squared loss. Not surprisingly, our linear model will not lead to a competition-winning submission but it provides a sanity check to see whether there is meaningful information in the data. If we cannot do better than random guessing here, then there might be a good chance that we have a data processing bug. And if things work, the linear model will serve as a baseline giving us some intuition about how close the simple model gets to the best reported models, giving us a sense of how much gain we should expect from fancier models.\n",
        "\n",
        "With house prices, as with stock prices,\n",
        "we care about relative quantities\n",
        "more than absolute quantities.\n",
        "Thus [**we tend to care more about\n",
        "the relative error $\\frac{y - \\hat{y}}{y}$**]\n",
        "than about the absolute error $y - \\hat{y}$.\n",
        "For instance, if our prediction is off by USD 100,000\n",
        "when estimating the price of a house in Rural Ohio,\n",
        "where the value of a typical house is 125,000 USD,\n",
        "then we are probably doing a horrible job.\n",
        "On the other hand, if we err by this amount\n",
        "in Los Altos Hills, California,\n",
        "this might represent a stunningly accurate prediction\n",
        "(there, the median house price exceeds 4 million USD).\n",
        "\n",
        "(**One way to address this problem is to\n",
        "measure the discrepancy in the logarithm of the price estimates.**)\n",
        "In fact, this is also the official error measure\n",
        "used by the competition to evaluate the quality of submissions.\n",
        "After all, a small value $\\delta$ for $|\\log y - \\log \\hat{y}| \\leq \\delta$\n",
        "translates into $e^{-\\delta} \\leq \\frac{\\hat{y}}{y} \\leq e^\\delta$.\n",
        "This leads to the following root-mean-squared-error between the logarithm of the predicted price and the logarithm of the label price:\n",
        "\n",
        "$$\\sqrt{\\frac{1}{n}\\sum_{i=1}^n\\left(\\log y_i -\\log \\hat{y}_i\\right)^2}.$$\n"
      ]
    },
    {
      "cell_type": "code",
      "execution_count": 9,
      "id": "01994fb5",
      "metadata": {
        "attributes": {
          "classes": [],
          "id": "",
          "n": "60"
        },
        "execution": {
          "iopub.execute_input": "2022-09-07T22:03:28.996030Z",
          "iopub.status.busy": "2022-09-07T22:03:28.995459Z",
          "iopub.status.idle": "2022-09-07T22:03:29.001369Z",
          "shell.execute_reply": "2022-09-07T22:03:29.000542Z"
        },
        "origin_pos": 18,
        "tab": [
          "pytorch"
        ],
        "id": "01994fb5"
      },
      "outputs": [],
      "source": [
        "@d2l.add_to_class(KaggleHouse)\n",
        "def get_dataloader(self, train):\n",
        "    label = 'SalePrice'\n",
        "    data = self.train if train else self.val\n",
        "    if label not in data: return\n",
        "    get_tensor = lambda x: torch.tensor(x.values, dtype=torch.float32)\n",
        "    # Logarithm of prices\n",
        "    tensors = (get_tensor(data.drop(columns=[label])),  # X\n",
        "               torch.log(get_tensor(data[label])).reshape((-1, 1)))  # Y\n",
        "    return self.get_tensorloader(tensors, train)"
      ]
    },
    {
      "cell_type": "markdown",
      "id": "d7593225",
      "metadata": {
        "origin_pos": 19,
        "id": "d7593225"
      },
      "source": [
        "## $K$-Fold Cross-Validation\n",
        "\n",
        "You might recall that we introduced [**cross-validation**]\n",
        "in :numref:`subsec_generalization-model-selection`, where we discussed how to deal\n",
        "with model selection.\n",
        "We will put this to good use to select the model design\n",
        "and to adjust the hyperparameters.\n",
        "We first need a function that returns\n",
        "the $i^\\mathrm{th}$ fold of the data\n",
        "in a $K$-fold cross-validation procedure.\n",
        "It proceeds by slicing out the $i^\\mathrm{th}$ segment\n",
        "as validation data and returning the rest as training data.\n",
        "Note that this is not the most efficient way of handling data\n",
        "and we would definitely do something much smarter\n",
        "if our dataset was considerably larger.\n",
        "But this added complexity might obfuscate our code unnecessarily\n",
        "so we can safely omit it here owing to the simplicity of our problem.\n"
      ]
    },
    {
      "cell_type": "code",
      "execution_count": 10,
      "id": "b37b6ab5",
      "metadata": {
        "execution": {
          "iopub.execute_input": "2022-09-07T22:03:29.005024Z",
          "iopub.status.busy": "2022-09-07T22:03:29.004337Z",
          "iopub.status.idle": "2022-09-07T22:03:29.010261Z",
          "shell.execute_reply": "2022-09-07T22:03:29.009288Z"
        },
        "origin_pos": 20,
        "tab": [
          "pytorch"
        ],
        "id": "b37b6ab5"
      },
      "outputs": [],
      "source": [
        "def k_fold_data(data, k):\n",
        "    rets = []\n",
        "    fold_size = data.train.shape[0] // k\n",
        "    for j in range(k):\n",
        "        idx = range(j * fold_size, (j+1) * fold_size)\n",
        "        rets.append(KaggleHouse(data.batch_size, data.train.drop(index=idx),\n",
        "                                data.train.loc[idx]))\n",
        "    return rets"
      ]
    },
    {
      "cell_type": "markdown",
      "id": "ee02ebf4",
      "metadata": {
        "origin_pos": 21,
        "id": "ee02ebf4"
      },
      "source": [
        "[**The average validation error is returned**]\n",
        "when we train $K$ times in the $K$-fold cross-validation.\n"
      ]
    },
    {
      "cell_type": "code",
      "execution_count": 11,
      "id": "35ad99dc",
      "metadata": {
        "execution": {
          "iopub.execute_input": "2022-09-07T22:03:29.014044Z",
          "iopub.status.busy": "2022-09-07T22:03:29.013419Z",
          "iopub.status.idle": "2022-09-07T22:03:29.019645Z",
          "shell.execute_reply": "2022-09-07T22:03:29.018715Z"
        },
        "origin_pos": 22,
        "tab": [
          "pytorch"
        ],
        "id": "35ad99dc"
      },
      "outputs": [],
      "source": [
        "def k_fold(trainer, data, k, lr):\n",
        "    val_loss, models = [], []\n",
        "    for i, data_fold in enumerate(k_fold_data(data, k)):\n",
        "        model = d2l.LinearRegression(lr)\n",
        "        model.board.yscale='log'\n",
        "        if i != 0: model.board.display = False\n",
        "        trainer.fit(model, data_fold)\n",
        "        val_loss.append(float(model.board.data['val_loss'][-1].y))\n",
        "        models.append(model)\n",
        "    print(f'average validation log mse = {sum(val_loss)/len(val_loss)}')\n",
        "    return models"
      ]
    },
    {
      "cell_type": "markdown",
      "id": "1c084844",
      "metadata": {
        "origin_pos": 23,
        "id": "1c084844"
      },
      "source": [
        "## [**Model Selection**]\n",
        "\n",
        "In this example, we pick an untuned set of hyperparameters\n",
        "and leave it up to the reader to improve the model.\n",
        "Finding a good choice can take time,\n",
        "depending on how many variables one optimizes over.\n",
        "With a large enough dataset,\n",
        "and the normal sorts of hyperparameters,\n",
        "$K$-fold cross-validation tends to be\n",
        "reasonably resilient against multiple testing.\n",
        "However, if we try an unreasonably large number of options\n",
        "we might just get lucky and find that our validation\n",
        "performance is no longer representative of the true error.\n"
      ]
    },
    {
      "cell_type": "code",
      "execution_count": 12,
      "id": "9cbc6016",
      "metadata": {
        "execution": {
          "iopub.execute_input": "2022-09-07T22:03:29.023172Z",
          "iopub.status.busy": "2022-09-07T22:03:29.022605Z",
          "iopub.status.idle": "2022-09-07T22:03:39.975163Z",
          "shell.execute_reply": "2022-09-07T22:03:39.973974Z"
        },
        "origin_pos": 24,
        "tab": [
          "pytorch"
        ],
        "id": "9cbc6016",
        "outputId": "d5713305-5950-48e9-d5f3-93a25fbc4f79",
        "colab": {
          "base_uri": "https://localhost:8080/",
          "height": 279
        }
      },
      "outputs": [
        {
          "output_type": "stream",
          "name": "stdout",
          "text": [
            "average validation log mse = 0.1811174914240837\n"
          ]
        },
        {
          "output_type": "display_data",
          "data": {
            "text/plain": [
              "<Figure size 252x180 with 1 Axes>"
            ],
            "image/svg+xml": "<?xml version=\"1.0\" encoding=\"utf-8\" standalone=\"no\"?>\n<!DOCTYPE svg PUBLIC \"-//W3C//DTD SVG 1.1//EN\"\n  \"http://www.w3.org/Graphics/SVG/1.1/DTD/svg11.dtd\">\n<!-- Created with matplotlib (https://matplotlib.org/) -->\n<svg height=\"180.65625pt\" version=\"1.1\" viewBox=\"0 0 240.6625 180.65625\" width=\"240.6625pt\" xmlns=\"http://www.w3.org/2000/svg\" xmlns:xlink=\"http://www.w3.org/1999/xlink\">\n <defs>\n  <style type=\"text/css\">\n*{stroke-linecap:butt;stroke-linejoin:round;}\n  </style>\n </defs>\n <g id=\"figure_1\">\n  <g id=\"patch_1\">\n   <path d=\"M 0 180.65625 \nL 240.6625 180.65625 \nL 240.6625 0 \nL 0 0 \nz\n\" style=\"fill:none;\"/>\n  </g>\n  <g id=\"axes_1\">\n   <g id=\"patch_2\">\n    <path d=\"M 31.8 143.1 \nL 227.1 143.1 \nL 227.1 7.2 \nL 31.8 7.2 \nz\n\" style=\"fill:#ffffff;\"/>\n   </g>\n   <g id=\"matplotlib.axis_1\">\n    <g id=\"xtick_1\">\n     <g id=\"line2d_1\">\n      <defs>\n       <path d=\"M 0 0 \nL 0 3.5 \n\" id=\"m6f13737a6e\" style=\"stroke:#000000;stroke-width:0.8;\"/>\n      </defs>\n      <g>\n       <use style=\"stroke:#000000;stroke-width:0.8;\" x=\"31.8\" xlink:href=\"#m6f13737a6e\" y=\"143.1\"/>\n      </g>\n     </g>\n     <g id=\"text_1\">\n      <!-- 0 -->\n      <defs>\n       <path d=\"M 31.78125 66.40625 \nQ 24.171875 66.40625 20.328125 58.90625 \nQ 16.5 51.421875 16.5 36.375 \nQ 16.5 21.390625 20.328125 13.890625 \nQ 24.171875 6.390625 31.78125 6.390625 \nQ 39.453125 6.390625 43.28125 13.890625 \nQ 47.125 21.390625 47.125 36.375 \nQ 47.125 51.421875 43.28125 58.90625 \nQ 39.453125 66.40625 31.78125 66.40625 \nz\nM 31.78125 74.21875 \nQ 44.046875 74.21875 50.515625 64.515625 \nQ 56.984375 54.828125 56.984375 36.375 \nQ 56.984375 17.96875 50.515625 8.265625 \nQ 44.046875 -1.421875 31.78125 -1.421875 \nQ 19.53125 -1.421875 13.0625 8.265625 \nQ 6.59375 17.96875 6.59375 36.375 \nQ 6.59375 54.828125 13.0625 64.515625 \nQ 19.53125 74.21875 31.78125 74.21875 \nz\n\" id=\"DejaVuSans-48\"/>\n      </defs>\n      <g transform=\"translate(28.61875 157.698438)scale(0.1 -0.1)\">\n       <use xlink:href=\"#DejaVuSans-48\"/>\n      </g>\n     </g>\n    </g>\n    <g id=\"xtick_2\">\n     <g id=\"line2d_2\">\n      <g>\n       <use style=\"stroke:#000000;stroke-width:0.8;\" x=\"70.86\" xlink:href=\"#m6f13737a6e\" y=\"143.1\"/>\n      </g>\n     </g>\n     <g id=\"text_2\">\n      <!-- 2 -->\n      <defs>\n       <path d=\"M 19.1875 8.296875 \nL 53.609375 8.296875 \nL 53.609375 0 \nL 7.328125 0 \nL 7.328125 8.296875 \nQ 12.9375 14.109375 22.625 23.890625 \nQ 32.328125 33.6875 34.8125 36.53125 \nQ 39.546875 41.84375 41.421875 45.53125 \nQ 43.3125 49.21875 43.3125 52.78125 \nQ 43.3125 58.59375 39.234375 62.25 \nQ 35.15625 65.921875 28.609375 65.921875 \nQ 23.96875 65.921875 18.8125 64.3125 \nQ 13.671875 62.703125 7.8125 59.421875 \nL 7.8125 69.390625 \nQ 13.765625 71.78125 18.9375 73 \nQ 24.125 74.21875 28.421875 74.21875 \nQ 39.75 74.21875 46.484375 68.546875 \nQ 53.21875 62.890625 53.21875 53.421875 \nQ 53.21875 48.921875 51.53125 44.890625 \nQ 49.859375 40.875 45.40625 35.40625 \nQ 44.1875 33.984375 37.640625 27.21875 \nQ 31.109375 20.453125 19.1875 8.296875 \nz\n\" id=\"DejaVuSans-50\"/>\n      </defs>\n      <g transform=\"translate(67.67875 157.698438)scale(0.1 -0.1)\">\n       <use xlink:href=\"#DejaVuSans-50\"/>\n      </g>\n     </g>\n    </g>\n    <g id=\"xtick_3\">\n     <g id=\"line2d_3\">\n      <g>\n       <use style=\"stroke:#000000;stroke-width:0.8;\" x=\"109.92\" xlink:href=\"#m6f13737a6e\" y=\"143.1\"/>\n      </g>\n     </g>\n     <g id=\"text_3\">\n      <!-- 4 -->\n      <defs>\n       <path d=\"M 37.796875 64.3125 \nL 12.890625 25.390625 \nL 37.796875 25.390625 \nz\nM 35.203125 72.90625 \nL 47.609375 72.90625 \nL 47.609375 25.390625 \nL 58.015625 25.390625 \nL 58.015625 17.1875 \nL 47.609375 17.1875 \nL 47.609375 0 \nL 37.796875 0 \nL 37.796875 17.1875 \nL 4.890625 17.1875 \nL 4.890625 26.703125 \nz\n\" id=\"DejaVuSans-52\"/>\n      </defs>\n      <g transform=\"translate(106.73875 157.698438)scale(0.1 -0.1)\">\n       <use xlink:href=\"#DejaVuSans-52\"/>\n      </g>\n     </g>\n    </g>\n    <g id=\"xtick_4\">\n     <g id=\"line2d_4\">\n      <g>\n       <use style=\"stroke:#000000;stroke-width:0.8;\" x=\"148.98\" xlink:href=\"#m6f13737a6e\" y=\"143.1\"/>\n      </g>\n     </g>\n     <g id=\"text_4\">\n      <!-- 6 -->\n      <defs>\n       <path d=\"M 33.015625 40.375 \nQ 26.375 40.375 22.484375 35.828125 \nQ 18.609375 31.296875 18.609375 23.390625 \nQ 18.609375 15.53125 22.484375 10.953125 \nQ 26.375 6.390625 33.015625 6.390625 \nQ 39.65625 6.390625 43.53125 10.953125 \nQ 47.40625 15.53125 47.40625 23.390625 \nQ 47.40625 31.296875 43.53125 35.828125 \nQ 39.65625 40.375 33.015625 40.375 \nz\nM 52.59375 71.296875 \nL 52.59375 62.3125 \nQ 48.875 64.0625 45.09375 64.984375 \nQ 41.3125 65.921875 37.59375 65.921875 \nQ 27.828125 65.921875 22.671875 59.328125 \nQ 17.53125 52.734375 16.796875 39.40625 \nQ 19.671875 43.65625 24.015625 45.921875 \nQ 28.375 48.1875 33.59375 48.1875 \nQ 44.578125 48.1875 50.953125 41.515625 \nQ 57.328125 34.859375 57.328125 23.390625 \nQ 57.328125 12.15625 50.6875 5.359375 \nQ 44.046875 -1.421875 33.015625 -1.421875 \nQ 20.359375 -1.421875 13.671875 8.265625 \nQ 6.984375 17.96875 6.984375 36.375 \nQ 6.984375 53.65625 15.1875 63.9375 \nQ 23.390625 74.21875 37.203125 74.21875 \nQ 40.921875 74.21875 44.703125 73.484375 \nQ 48.484375 72.75 52.59375 71.296875 \nz\n\" id=\"DejaVuSans-54\"/>\n      </defs>\n      <g transform=\"translate(145.79875 157.698438)scale(0.1 -0.1)\">\n       <use xlink:href=\"#DejaVuSans-54\"/>\n      </g>\n     </g>\n    </g>\n    <g id=\"xtick_5\">\n     <g id=\"line2d_5\">\n      <g>\n       <use style=\"stroke:#000000;stroke-width:0.8;\" x=\"188.04\" xlink:href=\"#m6f13737a6e\" y=\"143.1\"/>\n      </g>\n     </g>\n     <g id=\"text_5\">\n      <!-- 8 -->\n      <defs>\n       <path d=\"M 31.78125 34.625 \nQ 24.75 34.625 20.71875 30.859375 \nQ 16.703125 27.09375 16.703125 20.515625 \nQ 16.703125 13.921875 20.71875 10.15625 \nQ 24.75 6.390625 31.78125 6.390625 \nQ 38.8125 6.390625 42.859375 10.171875 \nQ 46.921875 13.96875 46.921875 20.515625 \nQ 46.921875 27.09375 42.890625 30.859375 \nQ 38.875 34.625 31.78125 34.625 \nz\nM 21.921875 38.8125 \nQ 15.578125 40.375 12.03125 44.71875 \nQ 8.5 49.078125 8.5 55.328125 \nQ 8.5 64.0625 14.71875 69.140625 \nQ 20.953125 74.21875 31.78125 74.21875 \nQ 42.671875 74.21875 48.875 69.140625 \nQ 55.078125 64.0625 55.078125 55.328125 \nQ 55.078125 49.078125 51.53125 44.71875 \nQ 48 40.375 41.703125 38.8125 \nQ 48.828125 37.15625 52.796875 32.3125 \nQ 56.78125 27.484375 56.78125 20.515625 \nQ 56.78125 9.90625 50.3125 4.234375 \nQ 43.84375 -1.421875 31.78125 -1.421875 \nQ 19.734375 -1.421875 13.25 4.234375 \nQ 6.78125 9.90625 6.78125 20.515625 \nQ 6.78125 27.484375 10.78125 32.3125 \nQ 14.796875 37.15625 21.921875 38.8125 \nz\nM 18.3125 54.390625 \nQ 18.3125 48.734375 21.84375 45.5625 \nQ 25.390625 42.390625 31.78125 42.390625 \nQ 38.140625 42.390625 41.71875 45.5625 \nQ 45.3125 48.734375 45.3125 54.390625 \nQ 45.3125 60.0625 41.71875 63.234375 \nQ 38.140625 66.40625 31.78125 66.40625 \nQ 25.390625 66.40625 21.84375 63.234375 \nQ 18.3125 60.0625 18.3125 54.390625 \nz\n\" id=\"DejaVuSans-56\"/>\n      </defs>\n      <g transform=\"translate(184.85875 157.698438)scale(0.1 -0.1)\">\n       <use xlink:href=\"#DejaVuSans-56\"/>\n      </g>\n     </g>\n    </g>\n    <g id=\"xtick_6\">\n     <g id=\"line2d_6\">\n      <g>\n       <use style=\"stroke:#000000;stroke-width:0.8;\" x=\"227.1\" xlink:href=\"#m6f13737a6e\" y=\"143.1\"/>\n      </g>\n     </g>\n     <g id=\"text_6\">\n      <!-- 10 -->\n      <defs>\n       <path d=\"M 12.40625 8.296875 \nL 28.515625 8.296875 \nL 28.515625 63.921875 \nL 10.984375 60.40625 \nL 10.984375 69.390625 \nL 28.421875 72.90625 \nL 38.28125 72.90625 \nL 38.28125 8.296875 \nL 54.390625 8.296875 \nL 54.390625 0 \nL 12.40625 0 \nz\n\" id=\"DejaVuSans-49\"/>\n      </defs>\n      <g transform=\"translate(220.7375 157.698438)scale(0.1 -0.1)\">\n       <use xlink:href=\"#DejaVuSans-49\"/>\n       <use x=\"63.623047\" xlink:href=\"#DejaVuSans-48\"/>\n      </g>\n     </g>\n    </g>\n    <g id=\"text_7\">\n     <!-- epoch -->\n     <defs>\n      <path d=\"M 56.203125 29.59375 \nL 56.203125 25.203125 \nL 14.890625 25.203125 \nQ 15.484375 15.921875 20.484375 11.0625 \nQ 25.484375 6.203125 34.421875 6.203125 \nQ 39.59375 6.203125 44.453125 7.46875 \nQ 49.3125 8.734375 54.109375 11.28125 \nL 54.109375 2.78125 \nQ 49.265625 0.734375 44.1875 -0.34375 \nQ 39.109375 -1.421875 33.890625 -1.421875 \nQ 20.796875 -1.421875 13.15625 6.1875 \nQ 5.515625 13.8125 5.515625 26.8125 \nQ 5.515625 40.234375 12.765625 48.109375 \nQ 20.015625 56 32.328125 56 \nQ 43.359375 56 49.78125 48.890625 \nQ 56.203125 41.796875 56.203125 29.59375 \nz\nM 47.21875 32.234375 \nQ 47.125 39.59375 43.09375 43.984375 \nQ 39.0625 48.390625 32.421875 48.390625 \nQ 24.90625 48.390625 20.390625 44.140625 \nQ 15.875 39.890625 15.1875 32.171875 \nz\n\" id=\"DejaVuSans-101\"/>\n      <path d=\"M 18.109375 8.203125 \nL 18.109375 -20.796875 \nL 9.078125 -20.796875 \nL 9.078125 54.6875 \nL 18.109375 54.6875 \nL 18.109375 46.390625 \nQ 20.953125 51.265625 25.265625 53.625 \nQ 29.59375 56 35.59375 56 \nQ 45.5625 56 51.78125 48.09375 \nQ 58.015625 40.1875 58.015625 27.296875 \nQ 58.015625 14.40625 51.78125 6.484375 \nQ 45.5625 -1.421875 35.59375 -1.421875 \nQ 29.59375 -1.421875 25.265625 0.953125 \nQ 20.953125 3.328125 18.109375 8.203125 \nz\nM 48.6875 27.296875 \nQ 48.6875 37.203125 44.609375 42.84375 \nQ 40.53125 48.484375 33.40625 48.484375 \nQ 26.265625 48.484375 22.1875 42.84375 \nQ 18.109375 37.203125 18.109375 27.296875 \nQ 18.109375 17.390625 22.1875 11.75 \nQ 26.265625 6.109375 33.40625 6.109375 \nQ 40.53125 6.109375 44.609375 11.75 \nQ 48.6875 17.390625 48.6875 27.296875 \nz\n\" id=\"DejaVuSans-112\"/>\n      <path d=\"M 30.609375 48.390625 \nQ 23.390625 48.390625 19.1875 42.75 \nQ 14.984375 37.109375 14.984375 27.296875 \nQ 14.984375 17.484375 19.15625 11.84375 \nQ 23.34375 6.203125 30.609375 6.203125 \nQ 37.796875 6.203125 41.984375 11.859375 \nQ 46.1875 17.53125 46.1875 27.296875 \nQ 46.1875 37.015625 41.984375 42.703125 \nQ 37.796875 48.390625 30.609375 48.390625 \nz\nM 30.609375 56 \nQ 42.328125 56 49.015625 48.375 \nQ 55.71875 40.765625 55.71875 27.296875 \nQ 55.71875 13.875 49.015625 6.21875 \nQ 42.328125 -1.421875 30.609375 -1.421875 \nQ 18.84375 -1.421875 12.171875 6.21875 \nQ 5.515625 13.875 5.515625 27.296875 \nQ 5.515625 40.765625 12.171875 48.375 \nQ 18.84375 56 30.609375 56 \nz\n\" id=\"DejaVuSans-111\"/>\n      <path d=\"M 48.78125 52.59375 \nL 48.78125 44.1875 \nQ 44.96875 46.296875 41.140625 47.34375 \nQ 37.3125 48.390625 33.40625 48.390625 \nQ 24.65625 48.390625 19.8125 42.84375 \nQ 14.984375 37.3125 14.984375 27.296875 \nQ 14.984375 17.28125 19.8125 11.734375 \nQ 24.65625 6.203125 33.40625 6.203125 \nQ 37.3125 6.203125 41.140625 7.25 \nQ 44.96875 8.296875 48.78125 10.40625 \nL 48.78125 2.09375 \nQ 45.015625 0.34375 40.984375 -0.53125 \nQ 36.96875 -1.421875 32.421875 -1.421875 \nQ 20.0625 -1.421875 12.78125 6.34375 \nQ 5.515625 14.109375 5.515625 27.296875 \nQ 5.515625 40.671875 12.859375 48.328125 \nQ 20.21875 56 33.015625 56 \nQ 37.15625 56 41.109375 55.140625 \nQ 45.0625 54.296875 48.78125 52.59375 \nz\n\" id=\"DejaVuSans-99\"/>\n      <path d=\"M 54.890625 33.015625 \nL 54.890625 0 \nL 45.90625 0 \nL 45.90625 32.71875 \nQ 45.90625 40.484375 42.875 44.328125 \nQ 39.84375 48.1875 33.796875 48.1875 \nQ 26.515625 48.1875 22.3125 43.546875 \nQ 18.109375 38.921875 18.109375 30.90625 \nL 18.109375 0 \nL 9.078125 0 \nL 9.078125 75.984375 \nL 18.109375 75.984375 \nL 18.109375 46.1875 \nQ 21.34375 51.125 25.703125 53.5625 \nQ 30.078125 56 35.796875 56 \nQ 45.21875 56 50.046875 50.171875 \nQ 54.890625 44.34375 54.890625 33.015625 \nz\n\" id=\"DejaVuSans-104\"/>\n     </defs>\n     <g transform=\"translate(114.221875 171.376563)scale(0.1 -0.1)\">\n      <use xlink:href=\"#DejaVuSans-101\"/>\n      <use x=\"61.523438\" xlink:href=\"#DejaVuSans-112\"/>\n      <use x=\"125\" xlink:href=\"#DejaVuSans-111\"/>\n      <use x=\"186.181641\" xlink:href=\"#DejaVuSans-99\"/>\n      <use x=\"241.162109\" xlink:href=\"#DejaVuSans-104\"/>\n     </g>\n    </g>\n   </g>\n   <g id=\"matplotlib.axis_2\">\n    <g id=\"ytick_1\">\n     <g id=\"line2d_7\">\n      <defs>\n       <path d=\"M 0 0 \nL -3.5 0 \n\" id=\"m9473d28f85\" style=\"stroke:#000000;stroke-width:0.8;\"/>\n      </defs>\n      <g>\n       <use style=\"stroke:#000000;stroke-width:0.8;\" x=\"31.8\" xlink:href=\"#m9473d28f85\" y=\"88.97451\"/>\n      </g>\n     </g>\n     <g id=\"text_8\">\n      <!-- $\\mathdefault{10^{0}}$ -->\n      <g transform=\"translate(7.2 92.773729)scale(0.1 -0.1)\">\n       <use transform=\"translate(0 0.765625)\" xlink:href=\"#DejaVuSans-49\"/>\n       <use transform=\"translate(63.623047 0.765625)\" xlink:href=\"#DejaVuSans-48\"/>\n       <use transform=\"translate(128.203125 39.046875)scale(0.7)\" xlink:href=\"#DejaVuSans-48\"/>\n      </g>\n     </g>\n    </g>\n    <g id=\"ytick_2\">\n     <g id=\"line2d_8\">\n      <g>\n       <use style=\"stroke:#000000;stroke-width:0.8;\" x=\"31.8\" xlink:href=\"#m9473d28f85\" y=\"32.075869\"/>\n      </g>\n     </g>\n     <g id=\"text_9\">\n      <!-- $\\mathdefault{10^{1}}$ -->\n      <g transform=\"translate(7.2 35.875088)scale(0.1 -0.1)\">\n       <use transform=\"translate(0 0.684375)\" xlink:href=\"#DejaVuSans-49\"/>\n       <use transform=\"translate(63.623047 0.684375)\" xlink:href=\"#DejaVuSans-48\"/>\n       <use transform=\"translate(128.203125 38.965625)scale(0.7)\" xlink:href=\"#DejaVuSans-49\"/>\n      </g>\n     </g>\n    </g>\n    <g id=\"ytick_3\">\n     <g id=\"line2d_9\">\n      <defs>\n       <path d=\"M 0 0 \nL -2 0 \n\" id=\"m138b0ee897\" style=\"stroke:#000000;stroke-width:0.6;\"/>\n      </defs>\n      <g>\n       <use style=\"stroke:#000000;stroke-width:0.6;\" x=\"31.8\" xlink:href=\"#m138b0ee897\" y=\"128.744954\"/>\n      </g>\n     </g>\n    </g>\n    <g id=\"ytick_4\">\n     <g id=\"line2d_10\">\n      <g>\n       <use style=\"stroke:#000000;stroke-width:0.6;\" x=\"31.8\" xlink:href=\"#m138b0ee897\" y=\"118.7256\"/>\n      </g>\n     </g>\n    </g>\n    <g id=\"ytick_5\">\n     <g id=\"line2d_11\">\n      <g>\n       <use style=\"stroke:#000000;stroke-width:0.6;\" x=\"31.8\" xlink:href=\"#m138b0ee897\" y=\"111.616756\"/>\n      </g>\n     </g>\n    </g>\n    <g id=\"ytick_6\">\n     <g id=\"line2d_12\">\n      <g>\n       <use style=\"stroke:#000000;stroke-width:0.6;\" x=\"31.8\" xlink:href=\"#m138b0ee897\" y=\"106.102708\"/>\n      </g>\n     </g>\n    </g>\n    <g id=\"ytick_7\">\n     <g id=\"line2d_13\">\n      <g>\n       <use style=\"stroke:#000000;stroke-width:0.6;\" x=\"31.8\" xlink:href=\"#m138b0ee897\" y=\"101.597403\"/>\n      </g>\n     </g>\n    </g>\n    <g id=\"ytick_8\">\n     <g id=\"line2d_14\">\n      <g>\n       <use style=\"stroke:#000000;stroke-width:0.6;\" x=\"31.8\" xlink:href=\"#m138b0ee897\" y=\"97.788221\"/>\n      </g>\n     </g>\n    </g>\n    <g id=\"ytick_9\">\n     <g id=\"line2d_15\">\n      <g>\n       <use style=\"stroke:#000000;stroke-width:0.6;\" x=\"31.8\" xlink:href=\"#m138b0ee897\" y=\"94.488558\"/>\n      </g>\n     </g>\n    </g>\n    <g id=\"ytick_10\">\n     <g id=\"line2d_16\">\n      <g>\n       <use style=\"stroke:#000000;stroke-width:0.6;\" x=\"31.8\" xlink:href=\"#m138b0ee897\" y=\"91.578049\"/>\n      </g>\n     </g>\n    </g>\n    <g id=\"ytick_11\">\n     <g id=\"line2d_17\">\n      <g>\n       <use style=\"stroke:#000000;stroke-width:0.6;\" x=\"31.8\" xlink:href=\"#m138b0ee897\" y=\"71.846313\"/>\n      </g>\n     </g>\n    </g>\n    <g id=\"ytick_12\">\n     <g id=\"line2d_18\">\n      <g>\n       <use style=\"stroke:#000000;stroke-width:0.6;\" x=\"31.8\" xlink:href=\"#m138b0ee897\" y=\"61.826959\"/>\n      </g>\n     </g>\n    </g>\n    <g id=\"ytick_13\">\n     <g id=\"line2d_19\">\n      <g>\n       <use style=\"stroke:#000000;stroke-width:0.6;\" x=\"31.8\" xlink:href=\"#m138b0ee897\" y=\"54.718115\"/>\n      </g>\n     </g>\n    </g>\n    <g id=\"ytick_14\">\n     <g id=\"line2d_20\">\n      <g>\n       <use style=\"stroke:#000000;stroke-width:0.6;\" x=\"31.8\" xlink:href=\"#m138b0ee897\" y=\"49.204067\"/>\n      </g>\n     </g>\n    </g>\n    <g id=\"ytick_15\">\n     <g id=\"line2d_21\">\n      <g>\n       <use style=\"stroke:#000000;stroke-width:0.6;\" x=\"31.8\" xlink:href=\"#m138b0ee897\" y=\"44.698762\"/>\n      </g>\n     </g>\n    </g>\n    <g id=\"ytick_16\">\n     <g id=\"line2d_22\">\n      <g>\n       <use style=\"stroke:#000000;stroke-width:0.6;\" x=\"31.8\" xlink:href=\"#m138b0ee897\" y=\"40.88958\"/>\n      </g>\n     </g>\n    </g>\n    <g id=\"ytick_17\">\n     <g id=\"line2d_23\">\n      <g>\n       <use style=\"stroke:#000000;stroke-width:0.6;\" x=\"31.8\" xlink:href=\"#m138b0ee897\" y=\"37.589917\"/>\n      </g>\n     </g>\n    </g>\n    <g id=\"ytick_18\">\n     <g id=\"line2d_24\">\n      <g>\n       <use style=\"stroke:#000000;stroke-width:0.6;\" x=\"31.8\" xlink:href=\"#m138b0ee897\" y=\"34.679408\"/>\n      </g>\n     </g>\n    </g>\n    <g id=\"ytick_19\">\n     <g id=\"line2d_25\">\n      <g>\n       <use style=\"stroke:#000000;stroke-width:0.6;\" x=\"31.8\" xlink:href=\"#m138b0ee897\" y=\"14.947672\"/>\n      </g>\n     </g>\n    </g>\n   </g>\n   <g id=\"line2d_26\">\n    <path clip-path=\"url(#pe4da087157)\" d=\"M 35.911579 13.377273 \n\" style=\"fill:none;stroke:#1f77b4;stroke-linecap:square;stroke-width:1.5;\"/>\n   </g>\n   <g id=\"line2d_27\">\n    <path clip-path=\"url(#pe4da087157)\" d=\"M 35.911579 13.377273 \nL 45.162632 103.298003 \n\" style=\"fill:none;stroke:#1f77b4;stroke-linecap:square;stroke-width:1.5;\"/>\n   </g>\n   <g id=\"line2d_28\">\n    <path clip-path=\"url(#pe4da087157)\" d=\"M 35.911579 13.377273 \nL 45.162632 103.298003 \n\" style=\"fill:none;stroke:#1f77b4;stroke-linecap:square;stroke-width:1.5;\"/>\n   </g>\n   <g id=\"line2d_29\">\n    <path clip-path=\"url(#pe4da087157)\" d=\"M 51.33 106.457623 \n\" style=\"fill:none;stroke:#ff7f0e;stroke-dasharray:5.55,2.4;stroke-dashoffset:0;stroke-width:1.5;\"/>\n   </g>\n   <g id=\"line2d_30\">\n    <path clip-path=\"url(#pe4da087157)\" d=\"M 35.911579 13.377273 \nL 45.162632 103.298003 \nL 54.413684 108.29053 \n\" style=\"fill:none;stroke:#1f77b4;stroke-linecap:square;stroke-width:1.5;\"/>\n   </g>\n   <g id=\"line2d_31\">\n    <path clip-path=\"url(#pe4da087157)\" d=\"M 51.33 106.457623 \n\" style=\"fill:none;stroke:#ff7f0e;stroke-dasharray:5.55,2.4;stroke-dashoffset:0;stroke-width:1.5;\"/>\n   </g>\n   <g id=\"line2d_32\">\n    <path clip-path=\"url(#pe4da087157)\" d=\"M 35.911579 13.377273 \nL 45.162632 103.298003 \nL 54.413684 108.29053 \nL 63.664737 113.575916 \n\" style=\"fill:none;stroke:#1f77b4;stroke-linecap:square;stroke-width:1.5;\"/>\n   </g>\n   <g id=\"line2d_33\">\n    <path clip-path=\"url(#pe4da087157)\" d=\"M 51.33 106.457623 \n\" style=\"fill:none;stroke:#ff7f0e;stroke-dasharray:5.55,2.4;stroke-dashoffset:0;stroke-width:1.5;\"/>\n   </g>\n   <g id=\"line2d_34\">\n    <path clip-path=\"url(#pe4da087157)\" d=\"M 35.911579 13.377273 \nL 45.162632 103.298003 \nL 54.413684 108.29053 \nL 63.664737 113.575916 \n\" style=\"fill:none;stroke:#1f77b4;stroke-linecap:square;stroke-width:1.5;\"/>\n   </g>\n   <g id=\"line2d_35\">\n    <path clip-path=\"url(#pe4da087157)\" d=\"M 51.33 106.457623 \nL 70.86 112.107622 \n\" style=\"fill:none;stroke:#ff7f0e;stroke-dasharray:5.55,2.4;stroke-dashoffset:0;stroke-width:1.5;\"/>\n   </g>\n   <g id=\"line2d_36\">\n    <path clip-path=\"url(#pe4da087157)\" d=\"M 35.911579 13.377273 \nL 45.162632 103.298003 \nL 54.413684 108.29053 \nL 63.664737 113.575916 \nL 72.915789 112.168871 \n\" style=\"fill:none;stroke:#1f77b4;stroke-linecap:square;stroke-width:1.5;\"/>\n   </g>\n   <g id=\"line2d_37\">\n    <path clip-path=\"url(#pe4da087157)\" d=\"M 51.33 106.457623 \nL 70.86 112.107622 \n\" style=\"fill:none;stroke:#ff7f0e;stroke-dasharray:5.55,2.4;stroke-dashoffset:0;stroke-width:1.5;\"/>\n   </g>\n   <g id=\"line2d_38\">\n    <path clip-path=\"url(#pe4da087157)\" d=\"M 35.911579 13.377273 \nL 45.162632 103.298003 \nL 54.413684 108.29053 \nL 63.664737 113.575916 \nL 72.915789 112.168871 \nL 82.166842 118.250249 \n\" style=\"fill:none;stroke:#1f77b4;stroke-linecap:square;stroke-width:1.5;\"/>\n   </g>\n   <g id=\"line2d_39\">\n    <path clip-path=\"url(#pe4da087157)\" d=\"M 51.33 106.457623 \nL 70.86 112.107622 \n\" style=\"fill:none;stroke:#ff7f0e;stroke-dasharray:5.55,2.4;stroke-dashoffset:0;stroke-width:1.5;\"/>\n   </g>\n   <g id=\"line2d_40\">\n    <path clip-path=\"url(#pe4da087157)\" d=\"M 35.911579 13.377273 \nL 45.162632 103.298003 \nL 54.413684 108.29053 \nL 63.664737 113.575916 \nL 72.915789 112.168871 \nL 82.166842 118.250249 \n\" style=\"fill:none;stroke:#1f77b4;stroke-linecap:square;stroke-width:1.5;\"/>\n   </g>\n   <g id=\"line2d_41\">\n    <path clip-path=\"url(#pe4da087157)\" d=\"M 51.33 106.457623 \nL 70.86 112.107622 \nL 90.39 118.146434 \n\" style=\"fill:none;stroke:#ff7f0e;stroke-dasharray:5.55,2.4;stroke-dashoffset:0;stroke-width:1.5;\"/>\n   </g>\n   <g id=\"line2d_42\">\n    <path clip-path=\"url(#pe4da087157)\" d=\"M 35.911579 13.377273 \nL 45.162632 103.298003 \nL 54.413684 108.29053 \nL 63.664737 113.575916 \nL 72.915789 112.168871 \nL 82.166842 118.250249 \nL 91.417895 120.631214 \n\" style=\"fill:none;stroke:#1f77b4;stroke-linecap:square;stroke-width:1.5;\"/>\n   </g>\n   <g id=\"line2d_43\">\n    <path clip-path=\"url(#pe4da087157)\" d=\"M 51.33 106.457623 \nL 70.86 112.107622 \nL 90.39 118.146434 \n\" style=\"fill:none;stroke:#ff7f0e;stroke-dasharray:5.55,2.4;stroke-dashoffset:0;stroke-width:1.5;\"/>\n   </g>\n   <g id=\"line2d_44\">\n    <path clip-path=\"url(#pe4da087157)\" d=\"M 35.911579 13.377273 \nL 45.162632 103.298003 \nL 54.413684 108.29053 \nL 63.664737 113.575916 \nL 72.915789 112.168871 \nL 82.166842 118.250249 \nL 91.417895 120.631214 \nL 100.668947 119.971136 \n\" style=\"fill:none;stroke:#1f77b4;stroke-linecap:square;stroke-width:1.5;\"/>\n   </g>\n   <g id=\"line2d_45\">\n    <path clip-path=\"url(#pe4da087157)\" d=\"M 51.33 106.457623 \nL 70.86 112.107622 \nL 90.39 118.146434 \n\" style=\"fill:none;stroke:#ff7f0e;stroke-dasharray:5.55,2.4;stroke-dashoffset:0;stroke-width:1.5;\"/>\n   </g>\n   <g id=\"line2d_46\">\n    <path clip-path=\"url(#pe4da087157)\" d=\"M 35.911579 13.377273 \nL 45.162632 103.298003 \nL 54.413684 108.29053 \nL 63.664737 113.575916 \nL 72.915789 112.168871 \nL 82.166842 118.250249 \nL 91.417895 120.631214 \nL 100.668947 119.971136 \n\" style=\"fill:none;stroke:#1f77b4;stroke-linecap:square;stroke-width:1.5;\"/>\n   </g>\n   <g id=\"line2d_47\">\n    <path clip-path=\"url(#pe4da087157)\" d=\"M 51.33 106.457623 \nL 70.86 112.107622 \nL 90.39 118.146434 \nL 109.92 118.081248 \n\" style=\"fill:none;stroke:#ff7f0e;stroke-dasharray:5.55,2.4;stroke-dashoffset:0;stroke-width:1.5;\"/>\n   </g>\n   <g id=\"line2d_48\">\n    <path clip-path=\"url(#pe4da087157)\" d=\"M 35.911579 13.377273 \nL 45.162632 103.298003 \nL 54.413684 108.29053 \nL 63.664737 113.575916 \nL 72.915789 112.168871 \nL 82.166842 118.250249 \nL 91.417895 120.631214 \nL 100.668947 119.971136 \nL 109.92 124.306766 \n\" style=\"fill:none;stroke:#1f77b4;stroke-linecap:square;stroke-width:1.5;\"/>\n   </g>\n   <g id=\"line2d_49\">\n    <path clip-path=\"url(#pe4da087157)\" d=\"M 51.33 106.457623 \nL 70.86 112.107622 \nL 90.39 118.146434 \nL 109.92 118.081248 \n\" style=\"fill:none;stroke:#ff7f0e;stroke-dasharray:5.55,2.4;stroke-dashoffset:0;stroke-width:1.5;\"/>\n   </g>\n   <g id=\"line2d_50\">\n    <path clip-path=\"url(#pe4da087157)\" d=\"M 35.911579 13.377273 \nL 45.162632 103.298003 \nL 54.413684 108.29053 \nL 63.664737 113.575916 \nL 72.915789 112.168871 \nL 82.166842 118.250249 \nL 91.417895 120.631214 \nL 100.668947 119.971136 \nL 109.92 124.306766 \nL 119.171053 123.651167 \n\" style=\"fill:none;stroke:#1f77b4;stroke-linecap:square;stroke-width:1.5;\"/>\n   </g>\n   <g id=\"line2d_51\">\n    <path clip-path=\"url(#pe4da087157)\" d=\"M 51.33 106.457623 \nL 70.86 112.107622 \nL 90.39 118.146434 \nL 109.92 118.081248 \n\" style=\"fill:none;stroke:#ff7f0e;stroke-dasharray:5.55,2.4;stroke-dashoffset:0;stroke-width:1.5;\"/>\n   </g>\n   <g id=\"line2d_52\">\n    <path clip-path=\"url(#pe4da087157)\" d=\"M 35.911579 13.377273 \nL 45.162632 103.298003 \nL 54.413684 108.29053 \nL 63.664737 113.575916 \nL 72.915789 112.168871 \nL 82.166842 118.250249 \nL 91.417895 120.631214 \nL 100.668947 119.971136 \nL 109.92 124.306766 \nL 119.171053 123.651167 \n\" style=\"fill:none;stroke:#1f77b4;stroke-linecap:square;stroke-width:1.5;\"/>\n   </g>\n   <g id=\"line2d_53\">\n    <path clip-path=\"url(#pe4da087157)\" d=\"M 51.33 106.457623 \nL 70.86 112.107622 \nL 90.39 118.146434 \nL 109.92 118.081248 \nL 129.45 125.497496 \n\" style=\"fill:none;stroke:#ff7f0e;stroke-dasharray:5.55,2.4;stroke-dashoffset:0;stroke-width:1.5;\"/>\n   </g>\n   <g id=\"line2d_54\">\n    <path clip-path=\"url(#pe4da087157)\" d=\"M 35.911579 13.377273 \nL 45.162632 103.298003 \nL 54.413684 108.29053 \nL 63.664737 113.575916 \nL 72.915789 112.168871 \nL 82.166842 118.250249 \nL 91.417895 120.631214 \nL 100.668947 119.971136 \nL 109.92 124.306766 \nL 119.171053 123.651167 \nL 128.422105 122.852698 \n\" style=\"fill:none;stroke:#1f77b4;stroke-linecap:square;stroke-width:1.5;\"/>\n   </g>\n   <g id=\"line2d_55\">\n    <path clip-path=\"url(#pe4da087157)\" d=\"M 51.33 106.457623 \nL 70.86 112.107622 \nL 90.39 118.146434 \nL 109.92 118.081248 \nL 129.45 125.497496 \n\" style=\"fill:none;stroke:#ff7f0e;stroke-dasharray:5.55,2.4;stroke-dashoffset:0;stroke-width:1.5;\"/>\n   </g>\n   <g id=\"line2d_56\">\n    <path clip-path=\"url(#pe4da087157)\" d=\"M 35.911579 13.377273 \nL 45.162632 103.298003 \nL 54.413684 108.29053 \nL 63.664737 113.575916 \nL 72.915789 112.168871 \nL 82.166842 118.250249 \nL 91.417895 120.631214 \nL 100.668947 119.971136 \nL 109.92 124.306766 \nL 119.171053 123.651167 \nL 128.422105 122.852698 \nL 137.673158 125.71137 \n\" style=\"fill:none;stroke:#1f77b4;stroke-linecap:square;stroke-width:1.5;\"/>\n   </g>\n   <g id=\"line2d_57\">\n    <path clip-path=\"url(#pe4da087157)\" d=\"M 51.33 106.457623 \nL 70.86 112.107622 \nL 90.39 118.146434 \nL 109.92 118.081248 \nL 129.45 125.497496 \n\" style=\"fill:none;stroke:#ff7f0e;stroke-dasharray:5.55,2.4;stroke-dashoffset:0;stroke-width:1.5;\"/>\n   </g>\n   <g id=\"line2d_58\">\n    <path clip-path=\"url(#pe4da087157)\" d=\"M 35.911579 13.377273 \nL 45.162632 103.298003 \nL 54.413684 108.29053 \nL 63.664737 113.575916 \nL 72.915789 112.168871 \nL 82.166842 118.250249 \nL 91.417895 120.631214 \nL 100.668947 119.971136 \nL 109.92 124.306766 \nL 119.171053 123.651167 \nL 128.422105 122.852698 \nL 137.673158 125.71137 \n\" style=\"fill:none;stroke:#1f77b4;stroke-linecap:square;stroke-width:1.5;\"/>\n   </g>\n   <g id=\"line2d_59\">\n    <path clip-path=\"url(#pe4da087157)\" d=\"M 51.33 106.457623 \nL 70.86 112.107622 \nL 90.39 118.146434 \nL 109.92 118.081248 \nL 129.45 125.497496 \nL 148.98 127.132723 \n\" style=\"fill:none;stroke:#ff7f0e;stroke-dasharray:5.55,2.4;stroke-dashoffset:0;stroke-width:1.5;\"/>\n   </g>\n   <g id=\"line2d_60\">\n    <path clip-path=\"url(#pe4da087157)\" d=\"M 35.911579 13.377273 \nL 45.162632 103.298003 \nL 54.413684 108.29053 \nL 63.664737 113.575916 \nL 72.915789 112.168871 \nL 82.166842 118.250249 \nL 91.417895 120.631214 \nL 100.668947 119.971136 \nL 109.92 124.306766 \nL 119.171053 123.651167 \nL 128.422105 122.852698 \nL 137.673158 125.71137 \nL 146.924211 128.730879 \n\" style=\"fill:none;stroke:#1f77b4;stroke-linecap:square;stroke-width:1.5;\"/>\n   </g>\n   <g id=\"line2d_61\">\n    <path clip-path=\"url(#pe4da087157)\" d=\"M 51.33 106.457623 \nL 70.86 112.107622 \nL 90.39 118.146434 \nL 109.92 118.081248 \nL 129.45 125.497496 \nL 148.98 127.132723 \n\" style=\"fill:none;stroke:#ff7f0e;stroke-dasharray:5.55,2.4;stroke-dashoffset:0;stroke-width:1.5;\"/>\n   </g>\n   <g id=\"line2d_62\">\n    <path clip-path=\"url(#pe4da087157)\" d=\"M 35.911579 13.377273 \nL 45.162632 103.298003 \nL 54.413684 108.29053 \nL 63.664737 113.575916 \nL 72.915789 112.168871 \nL 82.166842 118.250249 \nL 91.417895 120.631214 \nL 100.668947 119.971136 \nL 109.92 124.306766 \nL 119.171053 123.651167 \nL 128.422105 122.852698 \nL 137.673158 125.71137 \nL 146.924211 128.730879 \nL 156.175263 128.864827 \n\" style=\"fill:none;stroke:#1f77b4;stroke-linecap:square;stroke-width:1.5;\"/>\n   </g>\n   <g id=\"line2d_63\">\n    <path clip-path=\"url(#pe4da087157)\" d=\"M 51.33 106.457623 \nL 70.86 112.107622 \nL 90.39 118.146434 \nL 109.92 118.081248 \nL 129.45 125.497496 \nL 148.98 127.132723 \n\" style=\"fill:none;stroke:#ff7f0e;stroke-dasharray:5.55,2.4;stroke-dashoffset:0;stroke-width:1.5;\"/>\n   </g>\n   <g id=\"line2d_64\">\n    <path clip-path=\"url(#pe4da087157)\" d=\"M 35.911579 13.377273 \nL 45.162632 103.298003 \nL 54.413684 108.29053 \nL 63.664737 113.575916 \nL 72.915789 112.168871 \nL 82.166842 118.250249 \nL 91.417895 120.631214 \nL 100.668947 119.971136 \nL 109.92 124.306766 \nL 119.171053 123.651167 \nL 128.422105 122.852698 \nL 137.673158 125.71137 \nL 146.924211 128.730879 \nL 156.175263 128.864827 \n\" style=\"fill:none;stroke:#1f77b4;stroke-linecap:square;stroke-width:1.5;\"/>\n   </g>\n   <g id=\"line2d_65\">\n    <path clip-path=\"url(#pe4da087157)\" d=\"M 51.33 106.457623 \nL 70.86 112.107622 \nL 90.39 118.146434 \nL 109.92 118.081248 \nL 129.45 125.497496 \nL 148.98 127.132723 \nL 168.51 129.696473 \n\" style=\"fill:none;stroke:#ff7f0e;stroke-dasharray:5.55,2.4;stroke-dashoffset:0;stroke-width:1.5;\"/>\n   </g>\n   <g id=\"line2d_66\">\n    <path clip-path=\"url(#pe4da087157)\" d=\"M 35.911579 13.377273 \nL 45.162632 103.298003 \nL 54.413684 108.29053 \nL 63.664737 113.575916 \nL 72.915789 112.168871 \nL 82.166842 118.250249 \nL 91.417895 120.631214 \nL 100.668947 119.971136 \nL 109.92 124.306766 \nL 119.171053 123.651167 \nL 128.422105 122.852698 \nL 137.673158 125.71137 \nL 146.924211 128.730879 \nL 156.175263 128.864827 \nL 165.426316 130.489262 \n\" style=\"fill:none;stroke:#1f77b4;stroke-linecap:square;stroke-width:1.5;\"/>\n   </g>\n   <g id=\"line2d_67\">\n    <path clip-path=\"url(#pe4da087157)\" d=\"M 51.33 106.457623 \nL 70.86 112.107622 \nL 90.39 118.146434 \nL 109.92 118.081248 \nL 129.45 125.497496 \nL 148.98 127.132723 \nL 168.51 129.696473 \n\" style=\"fill:none;stroke:#ff7f0e;stroke-dasharray:5.55,2.4;stroke-dashoffset:0;stroke-width:1.5;\"/>\n   </g>\n   <g id=\"line2d_68\">\n    <path clip-path=\"url(#pe4da087157)\" d=\"M 35.911579 13.377273 \nL 45.162632 103.298003 \nL 54.413684 108.29053 \nL 63.664737 113.575916 \nL 72.915789 112.168871 \nL 82.166842 118.250249 \nL 91.417895 120.631214 \nL 100.668947 119.971136 \nL 109.92 124.306766 \nL 119.171053 123.651167 \nL 128.422105 122.852698 \nL 137.673158 125.71137 \nL 146.924211 128.730879 \nL 156.175263 128.864827 \nL 165.426316 130.489262 \nL 174.677368 132.582537 \n\" style=\"fill:none;stroke:#1f77b4;stroke-linecap:square;stroke-width:1.5;\"/>\n   </g>\n   <g id=\"line2d_69\">\n    <path clip-path=\"url(#pe4da087157)\" d=\"M 51.33 106.457623 \nL 70.86 112.107622 \nL 90.39 118.146434 \nL 109.92 118.081248 \nL 129.45 125.497496 \nL 148.98 127.132723 \nL 168.51 129.696473 \n\" style=\"fill:none;stroke:#ff7f0e;stroke-dasharray:5.55,2.4;stroke-dashoffset:0;stroke-width:1.5;\"/>\n   </g>\n   <g id=\"line2d_70\">\n    <path clip-path=\"url(#pe4da087157)\" d=\"M 35.911579 13.377273 \nL 45.162632 103.298003 \nL 54.413684 108.29053 \nL 63.664737 113.575916 \nL 72.915789 112.168871 \nL 82.166842 118.250249 \nL 91.417895 120.631214 \nL 100.668947 119.971136 \nL 109.92 124.306766 \nL 119.171053 123.651167 \nL 128.422105 122.852698 \nL 137.673158 125.71137 \nL 146.924211 128.730879 \nL 156.175263 128.864827 \nL 165.426316 130.489262 \nL 174.677368 132.582537 \n\" style=\"fill:none;stroke:#1f77b4;stroke-linecap:square;stroke-width:1.5;\"/>\n   </g>\n   <g id=\"line2d_71\">\n    <path clip-path=\"url(#pe4da087157)\" d=\"M 51.33 106.457623 \nL 70.86 112.107622 \nL 90.39 118.146434 \nL 109.92 118.081248 \nL 129.45 125.497496 \nL 148.98 127.132723 \nL 168.51 129.696473 \nL 188.04 132.038167 \n\" style=\"fill:none;stroke:#ff7f0e;stroke-dasharray:5.55,2.4;stroke-dashoffset:0;stroke-width:1.5;\"/>\n   </g>\n   <g id=\"line2d_72\">\n    <path clip-path=\"url(#pe4da087157)\" d=\"M 35.911579 13.377273 \nL 45.162632 103.298003 \nL 54.413684 108.29053 \nL 63.664737 113.575916 \nL 72.915789 112.168871 \nL 82.166842 118.250249 \nL 91.417895 120.631214 \nL 100.668947 119.971136 \nL 109.92 124.306766 \nL 119.171053 123.651167 \nL 128.422105 122.852698 \nL 137.673158 125.71137 \nL 146.924211 128.730879 \nL 156.175263 128.864827 \nL 165.426316 130.489262 \nL 174.677368 132.582537 \nL 183.928421 129.888589 \n\" style=\"fill:none;stroke:#1f77b4;stroke-linecap:square;stroke-width:1.5;\"/>\n   </g>\n   <g id=\"line2d_73\">\n    <path clip-path=\"url(#pe4da087157)\" d=\"M 51.33 106.457623 \nL 70.86 112.107622 \nL 90.39 118.146434 \nL 109.92 118.081248 \nL 129.45 125.497496 \nL 148.98 127.132723 \nL 168.51 129.696473 \nL 188.04 132.038167 \n\" style=\"fill:none;stroke:#ff7f0e;stroke-dasharray:5.55,2.4;stroke-dashoffset:0;stroke-width:1.5;\"/>\n   </g>\n   <g id=\"line2d_74\">\n    <path clip-path=\"url(#pe4da087157)\" d=\"M 35.911579 13.377273 \nL 45.162632 103.298003 \nL 54.413684 108.29053 \nL 63.664737 113.575916 \nL 72.915789 112.168871 \nL 82.166842 118.250249 \nL 91.417895 120.631214 \nL 100.668947 119.971136 \nL 109.92 124.306766 \nL 119.171053 123.651167 \nL 128.422105 122.852698 \nL 137.673158 125.71137 \nL 146.924211 128.730879 \nL 156.175263 128.864827 \nL 165.426316 130.489262 \nL 174.677368 132.582537 \nL 183.928421 129.888589 \nL 193.179474 133.73078 \n\" style=\"fill:none;stroke:#1f77b4;stroke-linecap:square;stroke-width:1.5;\"/>\n   </g>\n   <g id=\"line2d_75\">\n    <path clip-path=\"url(#pe4da087157)\" d=\"M 51.33 106.457623 \nL 70.86 112.107622 \nL 90.39 118.146434 \nL 109.92 118.081248 \nL 129.45 125.497496 \nL 148.98 127.132723 \nL 168.51 129.696473 \nL 188.04 132.038167 \n\" style=\"fill:none;stroke:#ff7f0e;stroke-dasharray:5.55,2.4;stroke-dashoffset:0;stroke-width:1.5;\"/>\n   </g>\n   <g id=\"line2d_76\">\n    <path clip-path=\"url(#pe4da087157)\" d=\"M 35.911579 13.377273 \nL 45.162632 103.298003 \nL 54.413684 108.29053 \nL 63.664737 113.575916 \nL 72.915789 112.168871 \nL 82.166842 118.250249 \nL 91.417895 120.631214 \nL 100.668947 119.971136 \nL 109.92 124.306766 \nL 119.171053 123.651167 \nL 128.422105 122.852698 \nL 137.673158 125.71137 \nL 146.924211 128.730879 \nL 156.175263 128.864827 \nL 165.426316 130.489262 \nL 174.677368 132.582537 \nL 183.928421 129.888589 \nL 193.179474 133.73078 \nL 202.430526 131.585611 \n\" style=\"fill:none;stroke:#1f77b4;stroke-linecap:square;stroke-width:1.5;\"/>\n   </g>\n   <g id=\"line2d_77\">\n    <path clip-path=\"url(#pe4da087157)\" d=\"M 51.33 106.457623 \nL 70.86 112.107622 \nL 90.39 118.146434 \nL 109.92 118.081248 \nL 129.45 125.497496 \nL 148.98 127.132723 \nL 168.51 129.696473 \nL 188.04 132.038167 \n\" style=\"fill:none;stroke:#ff7f0e;stroke-dasharray:5.55,2.4;stroke-dashoffset:0;stroke-width:1.5;\"/>\n   </g>\n   <g id=\"line2d_78\">\n    <path clip-path=\"url(#pe4da087157)\" d=\"M 35.911579 13.377273 \nL 45.162632 103.298003 \nL 54.413684 108.29053 \nL 63.664737 113.575916 \nL 72.915789 112.168871 \nL 82.166842 118.250249 \nL 91.417895 120.631214 \nL 100.668947 119.971136 \nL 109.92 124.306766 \nL 119.171053 123.651167 \nL 128.422105 122.852698 \nL 137.673158 125.71137 \nL 146.924211 128.730879 \nL 156.175263 128.864827 \nL 165.426316 130.489262 \nL 174.677368 132.582537 \nL 183.928421 129.888589 \nL 193.179474 133.73078 \nL 202.430526 131.585611 \n\" style=\"fill:none;stroke:#1f77b4;stroke-linecap:square;stroke-width:1.5;\"/>\n   </g>\n   <g id=\"line2d_79\">\n    <path clip-path=\"url(#pe4da087157)\" d=\"M 51.33 106.457623 \nL 70.86 112.107622 \nL 90.39 118.146434 \nL 109.92 118.081248 \nL 129.45 125.497496 \nL 148.98 127.132723 \nL 168.51 129.696473 \nL 188.04 132.038167 \nL 207.57 133.339717 \n\" style=\"fill:none;stroke:#ff7f0e;stroke-dasharray:5.55,2.4;stroke-dashoffset:0;stroke-width:1.5;\"/>\n   </g>\n   <g id=\"line2d_80\">\n    <path clip-path=\"url(#pe4da087157)\" d=\"M 35.911579 13.377273 \nL 45.162632 103.298003 \nL 54.413684 108.29053 \nL 63.664737 113.575916 \nL 72.915789 112.168871 \nL 82.166842 118.250249 \nL 91.417895 120.631214 \nL 100.668947 119.971136 \nL 109.92 124.306766 \nL 119.171053 123.651167 \nL 128.422105 122.852698 \nL 137.673158 125.71137 \nL 146.924211 128.730879 \nL 156.175263 128.864827 \nL 165.426316 130.489262 \nL 174.677368 132.582537 \nL 183.928421 129.888589 \nL 193.179474 133.73078 \nL 202.430526 131.585611 \nL 211.681579 134.539194 \n\" style=\"fill:none;stroke:#1f77b4;stroke-linecap:square;stroke-width:1.5;\"/>\n   </g>\n   <g id=\"line2d_81\">\n    <path clip-path=\"url(#pe4da087157)\" d=\"M 51.33 106.457623 \nL 70.86 112.107622 \nL 90.39 118.146434 \nL 109.92 118.081248 \nL 129.45 125.497496 \nL 148.98 127.132723 \nL 168.51 129.696473 \nL 188.04 132.038167 \nL 207.57 133.339717 \n\" style=\"fill:none;stroke:#ff7f0e;stroke-dasharray:5.55,2.4;stroke-dashoffset:0;stroke-width:1.5;\"/>\n   </g>\n   <g id=\"line2d_82\">\n    <path clip-path=\"url(#pe4da087157)\" d=\"M 35.911579 13.377273 \nL 45.162632 103.298003 \nL 54.413684 108.29053 \nL 63.664737 113.575916 \nL 72.915789 112.168871 \nL 82.166842 118.250249 \nL 91.417895 120.631214 \nL 100.668947 119.971136 \nL 109.92 124.306766 \nL 119.171053 123.651167 \nL 128.422105 122.852698 \nL 137.673158 125.71137 \nL 146.924211 128.730879 \nL 156.175263 128.864827 \nL 165.426316 130.489262 \nL 174.677368 132.582537 \nL 183.928421 129.888589 \nL 193.179474 133.73078 \nL 202.430526 131.585611 \nL 211.681579 134.539194 \nL 220.932632 136.922727 \n\" style=\"fill:none;stroke:#1f77b4;stroke-linecap:square;stroke-width:1.5;\"/>\n   </g>\n   <g id=\"line2d_83\">\n    <path clip-path=\"url(#pe4da087157)\" d=\"M 51.33 106.457623 \nL 70.86 112.107622 \nL 90.39 118.146434 \nL 109.92 118.081248 \nL 129.45 125.497496 \nL 148.98 127.132723 \nL 168.51 129.696473 \nL 188.04 132.038167 \nL 207.57 133.339717 \n\" style=\"fill:none;stroke:#ff7f0e;stroke-dasharray:5.55,2.4;stroke-dashoffset:0;stroke-width:1.5;\"/>\n   </g>\n   <g id=\"line2d_84\">\n    <path clip-path=\"url(#pe4da087157)\" d=\"M 35.911579 13.377273 \nL 45.162632 103.298003 \nL 54.413684 108.29053 \nL 63.664737 113.575916 \nL 72.915789 112.168871 \nL 82.166842 118.250249 \nL 91.417895 120.631214 \nL 100.668947 119.971136 \nL 109.92 124.306766 \nL 119.171053 123.651167 \nL 128.422105 122.852698 \nL 137.673158 125.71137 \nL 146.924211 128.730879 \nL 156.175263 128.864827 \nL 165.426316 130.489262 \nL 174.677368 132.582537 \nL 183.928421 129.888589 \nL 193.179474 133.73078 \nL 202.430526 131.585611 \nL 211.681579 134.539194 \nL 220.932632 136.922727 \n\" style=\"fill:none;stroke:#1f77b4;stroke-linecap:square;stroke-width:1.5;\"/>\n   </g>\n   <g id=\"line2d_85\">\n    <path clip-path=\"url(#pe4da087157)\" d=\"M 51.33 106.457623 \nL 70.86 112.107622 \nL 90.39 118.146434 \nL 109.92 118.081248 \nL 129.45 125.497496 \nL 148.98 127.132723 \nL 168.51 129.696473 \nL 188.04 132.038167 \nL 207.57 133.339717 \nL 227.1 134.799107 \n\" style=\"fill:none;stroke:#ff7f0e;stroke-dasharray:5.55,2.4;stroke-dashoffset:0;stroke-width:1.5;\"/>\n   </g>\n   <g id=\"patch_3\">\n    <path d=\"M 31.8 143.1 \nL 31.8 7.2 \n\" style=\"fill:none;stroke:#000000;stroke-linecap:square;stroke-linejoin:miter;stroke-width:0.8;\"/>\n   </g>\n   <g id=\"patch_4\">\n    <path d=\"M 227.1 143.1 \nL 227.1 7.2 \n\" style=\"fill:none;stroke:#000000;stroke-linecap:square;stroke-linejoin:miter;stroke-width:0.8;\"/>\n   </g>\n   <g id=\"patch_5\">\n    <path d=\"M 31.8 143.1 \nL 227.1 143.1 \n\" style=\"fill:none;stroke:#000000;stroke-linecap:square;stroke-linejoin:miter;stroke-width:0.8;\"/>\n   </g>\n   <g id=\"patch_6\">\n    <path d=\"M 31.8 7.2 \nL 227.1 7.2 \n\" style=\"fill:none;stroke:#000000;stroke-linecap:square;stroke-linejoin:miter;stroke-width:0.8;\"/>\n   </g>\n   <g id=\"legend_1\">\n    <g id=\"patch_7\">\n     <path d=\"M 140.509375 45.1125 \nL 220.1 45.1125 \nQ 222.1 45.1125 222.1 43.1125 \nL 222.1 14.2 \nQ 222.1 12.2 220.1 12.2 \nL 140.509375 12.2 \nQ 138.509375 12.2 138.509375 14.2 \nL 138.509375 43.1125 \nQ 138.509375 45.1125 140.509375 45.1125 \nz\n\" style=\"fill:#ffffff;opacity:0.8;stroke:#cccccc;stroke-linejoin:miter;\"/>\n    </g>\n    <g id=\"line2d_86\">\n     <path d=\"M 142.509375 20.298437 \nL 162.509375 20.298437 \n\" style=\"fill:none;stroke:#1f77b4;stroke-linecap:square;stroke-width:1.5;\"/>\n    </g>\n    <g id=\"line2d_87\"/>\n    <g id=\"text_10\">\n     <!-- train_loss -->\n     <defs>\n      <path d=\"M 18.3125 70.21875 \nL 18.3125 54.6875 \nL 36.8125 54.6875 \nL 36.8125 47.703125 \nL 18.3125 47.703125 \nL 18.3125 18.015625 \nQ 18.3125 11.328125 20.140625 9.421875 \nQ 21.96875 7.515625 27.59375 7.515625 \nL 36.8125 7.515625 \nL 36.8125 0 \nL 27.59375 0 \nQ 17.1875 0 13.234375 3.875 \nQ 9.28125 7.765625 9.28125 18.015625 \nL 9.28125 47.703125 \nL 2.6875 47.703125 \nL 2.6875 54.6875 \nL 9.28125 54.6875 \nL 9.28125 70.21875 \nz\n\" id=\"DejaVuSans-116\"/>\n      <path d=\"M 41.109375 46.296875 \nQ 39.59375 47.171875 37.8125 47.578125 \nQ 36.03125 48 33.890625 48 \nQ 26.265625 48 22.1875 43.046875 \nQ 18.109375 38.09375 18.109375 28.8125 \nL 18.109375 0 \nL 9.078125 0 \nL 9.078125 54.6875 \nL 18.109375 54.6875 \nL 18.109375 46.1875 \nQ 20.953125 51.171875 25.484375 53.578125 \nQ 30.03125 56 36.53125 56 \nQ 37.453125 56 38.578125 55.875 \nQ 39.703125 55.765625 41.0625 55.515625 \nz\n\" id=\"DejaVuSans-114\"/>\n      <path d=\"M 34.28125 27.484375 \nQ 23.390625 27.484375 19.1875 25 \nQ 14.984375 22.515625 14.984375 16.5 \nQ 14.984375 11.71875 18.140625 8.90625 \nQ 21.296875 6.109375 26.703125 6.109375 \nQ 34.1875 6.109375 38.703125 11.40625 \nQ 43.21875 16.703125 43.21875 25.484375 \nL 43.21875 27.484375 \nz\nM 52.203125 31.203125 \nL 52.203125 0 \nL 43.21875 0 \nL 43.21875 8.296875 \nQ 40.140625 3.328125 35.546875 0.953125 \nQ 30.953125 -1.421875 24.3125 -1.421875 \nQ 15.921875 -1.421875 10.953125 3.296875 \nQ 6 8.015625 6 15.921875 \nQ 6 25.140625 12.171875 29.828125 \nQ 18.359375 34.515625 30.609375 34.515625 \nL 43.21875 34.515625 \nL 43.21875 35.40625 \nQ 43.21875 41.609375 39.140625 45 \nQ 35.0625 48.390625 27.6875 48.390625 \nQ 23 48.390625 18.546875 47.265625 \nQ 14.109375 46.140625 10.015625 43.890625 \nL 10.015625 52.203125 \nQ 14.9375 54.109375 19.578125 55.046875 \nQ 24.21875 56 28.609375 56 \nQ 40.484375 56 46.34375 49.84375 \nQ 52.203125 43.703125 52.203125 31.203125 \nz\n\" id=\"DejaVuSans-97\"/>\n      <path d=\"M 9.421875 54.6875 \nL 18.40625 54.6875 \nL 18.40625 0 \nL 9.421875 0 \nz\nM 9.421875 75.984375 \nL 18.40625 75.984375 \nL 18.40625 64.59375 \nL 9.421875 64.59375 \nz\n\" id=\"DejaVuSans-105\"/>\n      <path d=\"M 54.890625 33.015625 \nL 54.890625 0 \nL 45.90625 0 \nL 45.90625 32.71875 \nQ 45.90625 40.484375 42.875 44.328125 \nQ 39.84375 48.1875 33.796875 48.1875 \nQ 26.515625 48.1875 22.3125 43.546875 \nQ 18.109375 38.921875 18.109375 30.90625 \nL 18.109375 0 \nL 9.078125 0 \nL 9.078125 54.6875 \nL 18.109375 54.6875 \nL 18.109375 46.1875 \nQ 21.34375 51.125 25.703125 53.5625 \nQ 30.078125 56 35.796875 56 \nQ 45.21875 56 50.046875 50.171875 \nQ 54.890625 44.34375 54.890625 33.015625 \nz\n\" id=\"DejaVuSans-110\"/>\n      <path d=\"M 50.984375 -16.609375 \nL 50.984375 -23.578125 \nL -0.984375 -23.578125 \nL -0.984375 -16.609375 \nz\n\" id=\"DejaVuSans-95\"/>\n      <path d=\"M 9.421875 75.984375 \nL 18.40625 75.984375 \nL 18.40625 0 \nL 9.421875 0 \nz\n\" id=\"DejaVuSans-108\"/>\n      <path d=\"M 44.28125 53.078125 \nL 44.28125 44.578125 \nQ 40.484375 46.53125 36.375 47.5 \nQ 32.28125 48.484375 27.875 48.484375 \nQ 21.1875 48.484375 17.84375 46.4375 \nQ 14.5 44.390625 14.5 40.28125 \nQ 14.5 37.15625 16.890625 35.375 \nQ 19.28125 33.59375 26.515625 31.984375 \nL 29.59375 31.296875 \nQ 39.15625 29.25 43.1875 25.515625 \nQ 47.21875 21.78125 47.21875 15.09375 \nQ 47.21875 7.46875 41.1875 3.015625 \nQ 35.15625 -1.421875 24.609375 -1.421875 \nQ 20.21875 -1.421875 15.453125 -0.5625 \nQ 10.6875 0.296875 5.421875 2 \nL 5.421875 11.28125 \nQ 10.40625 8.6875 15.234375 7.390625 \nQ 20.0625 6.109375 24.8125 6.109375 \nQ 31.15625 6.109375 34.5625 8.28125 \nQ 37.984375 10.453125 37.984375 14.40625 \nQ 37.984375 18.0625 35.515625 20.015625 \nQ 33.0625 21.96875 24.703125 23.78125 \nL 21.578125 24.515625 \nQ 13.234375 26.265625 9.515625 29.90625 \nQ 5.8125 33.546875 5.8125 39.890625 \nQ 5.8125 47.609375 11.28125 51.796875 \nQ 16.75 56 26.8125 56 \nQ 31.78125 56 36.171875 55.265625 \nQ 40.578125 54.546875 44.28125 53.078125 \nz\n\" id=\"DejaVuSans-115\"/>\n     </defs>\n     <g transform=\"translate(170.509375 23.798437)scale(0.1 -0.1)\">\n      <use xlink:href=\"#DejaVuSans-116\"/>\n      <use x=\"39.208984\" xlink:href=\"#DejaVuSans-114\"/>\n      <use x=\"80.322266\" xlink:href=\"#DejaVuSans-97\"/>\n      <use x=\"141.601562\" xlink:href=\"#DejaVuSans-105\"/>\n      <use x=\"169.384766\" xlink:href=\"#DejaVuSans-110\"/>\n      <use x=\"232.763672\" xlink:href=\"#DejaVuSans-95\"/>\n      <use x=\"282.763672\" xlink:href=\"#DejaVuSans-108\"/>\n      <use x=\"310.546875\" xlink:href=\"#DejaVuSans-111\"/>\n      <use x=\"371.728516\" xlink:href=\"#DejaVuSans-115\"/>\n      <use x=\"423.828125\" xlink:href=\"#DejaVuSans-115\"/>\n     </g>\n    </g>\n    <g id=\"line2d_88\">\n     <path d=\"M 142.509375 35.254687 \nL 162.509375 35.254687 \n\" style=\"fill:none;stroke:#ff7f0e;stroke-dasharray:5.55,2.4;stroke-dashoffset:0;stroke-width:1.5;\"/>\n    </g>\n    <g id=\"line2d_89\"/>\n    <g id=\"text_11\">\n     <!-- val_loss -->\n     <defs>\n      <path d=\"M 2.984375 54.6875 \nL 12.5 54.6875 \nL 29.59375 8.796875 \nL 46.6875 54.6875 \nL 56.203125 54.6875 \nL 35.6875 0 \nL 23.484375 0 \nz\n\" id=\"DejaVuSans-118\"/>\n     </defs>\n     <g transform=\"translate(170.509375 38.754687)scale(0.1 -0.1)\">\n      <use xlink:href=\"#DejaVuSans-118\"/>\n      <use x=\"59.179688\" xlink:href=\"#DejaVuSans-97\"/>\n      <use x=\"120.458984\" xlink:href=\"#DejaVuSans-108\"/>\n      <use x=\"148.242188\" xlink:href=\"#DejaVuSans-95\"/>\n      <use x=\"198.242188\" xlink:href=\"#DejaVuSans-108\"/>\n      <use x=\"226.025391\" xlink:href=\"#DejaVuSans-111\"/>\n      <use x=\"287.207031\" xlink:href=\"#DejaVuSans-115\"/>\n      <use x=\"339.306641\" xlink:href=\"#DejaVuSans-115\"/>\n     </g>\n    </g>\n   </g>\n  </g>\n </g>\n <defs>\n  <clipPath id=\"pe4da087157\">\n   <rect height=\"135.9\" width=\"195.3\" x=\"31.8\" y=\"7.2\"/>\n  </clipPath>\n </defs>\n</svg>\n"
          },
          "metadata": {
            "needs_background": "light"
          }
        }
      ],
      "source": [
        "trainer = d2l.Trainer(max_epochs=10)\n",
        "models = k_fold(trainer, data, k=5, lr=0.01)"
      ]
    },
    {
      "cell_type": "markdown",
      "id": "44d298d6",
      "metadata": {
        "origin_pos": 25,
        "id": "44d298d6"
      },
      "source": [
        "Notice that sometimes the number of training errors\n",
        "for a set of hyperparameters can be very low,\n",
        "even as the number of errors on $K$-fold cross-validation\n",
        "is considerably higher.\n",
        "This indicates that we are overfitting.\n",
        "Throughout training you will want to monitor both numbers.\n",
        "Less overfitting might indicate that our data can support a more powerful model.\n",
        "Massive overfitting might suggest that we can gain\n",
        "by incorporating regularization techniques.\n",
        "\n",
        "##  [**Submitting Predictions on Kaggle**]\n",
        "\n",
        "Now that we know what a good choice of hyperparameters should be,\n",
        "we might \n",
        "calculate the average predictions \n",
        "on the test set\n",
        "by all the $K$ models.\n",
        "Saving the predictions in a csv file\n",
        "will simplify uploading the results to Kaggle.\n",
        "The following code will generate a file called `submission.csv`.\n"
      ]
    },
    {
      "cell_type": "code",
      "execution_count": 13,
      "id": "de628abc",
      "metadata": {
        "execution": {
          "iopub.execute_input": "2022-09-07T22:03:39.979421Z",
          "iopub.status.busy": "2022-09-07T22:03:39.978801Z",
          "iopub.status.idle": "2022-09-07T22:03:39.999161Z",
          "shell.execute_reply": "2022-09-07T22:03:39.997981Z"
        },
        "origin_pos": 26,
        "tab": [
          "pytorch"
        ],
        "id": "de628abc"
      },
      "outputs": [],
      "source": [
        "preds = [model(torch.tensor(data.val.values, dtype=torch.float32))\n",
        "         for model in models]\n",
        "# Taking exponentiation of predictions in the logarithm scale\n",
        "ensemble_preds = torch.exp(torch.cat(preds, 1)).mean(1)\n",
        "submission = pd.DataFrame({'Id':data.raw_val.Id,\n",
        "                           'SalePrice':ensemble_preds.detach().numpy()})\n",
        "submission.to_csv('submission.csv', index=False)"
      ]
    },
    {
      "cell_type": "markdown",
      "id": "3270c68f",
      "metadata": {
        "origin_pos": 27,
        "id": "3270c68f"
      },
      "source": [
        "Next, as demonstrated in :numref:`fig_kaggle_submit2`,\n",
        "we can submit our predictions on Kaggle\n",
        "and see how they compare with the actual house prices (labels)\n",
        "on the test set.\n",
        "The steps are quite simple:\n",
        "\n",
        "* Log in to the Kaggle website and visit the house price prediction competition page.\n",
        "* Click the “Submit Predictions” or “Late Submission” button (as of this writing, the button is located on the right).\n",
        "* Click the “Upload Submission File” button in the dashed box at the bottom of the page and select the prediction file you wish to upload.\n",
        "* Click the “Make Submission” button at the bottom of the page to view your results.\n",
        "\n",
        "![Submitting data to Kaggle](https://github.com/d2l-ai/d2l-pytorch-colab/blob/master/img/kaggle-submit2.png?raw=1)\n",
        ":width:`400px`\n",
        ":label:`fig_kaggle_submit2`\n",
        "\n",
        "## Summary\n",
        "\n",
        "* Real data often contains a mix of different data types and need to be preprocessed.\n",
        "* Rescaling real-valued data to zero mean and unit variance is a good default. So is replacing missing values with their mean.\n",
        "* Transforming categorical features into indicator features allows us to treat them like one-hot vectors.\n",
        "* We can use $K$-fold cross-validation to select the model and adjust the hyperparameters.\n",
        "* Logarithms are useful for relative errors.\n",
        "\n",
        "\n",
        "## Exercises\n",
        "\n",
        "1. Submit your predictions for this section to Kaggle. How good are your predictions?\n",
        "1. Is it always a good idea to replace missing values by their mean? Hint: can you construct a situation where the values are not missing at random?\n",
        "1. Improve the score on Kaggle by tuning the hyperparameters through $K$-fold cross-validation.\n",
        "1. Improve the score by improving the model (e.g., layers, weight decay, and dropout).\n",
        "1. What happens if we do not standardize the continuous numerical features like what we have done in this section?\n"
      ]
    },
    {
      "cell_type": "markdown",
      "id": "2699a733",
      "metadata": {
        "origin_pos": 29,
        "tab": [
          "pytorch"
        ],
        "id": "2699a733"
      },
      "source": [
        "[Discussions](https://discuss.d2l.ai/t/107)\n"
      ]
    }
  ],
  "metadata": {
    "kernelspec": {
      "display_name": "Python 3",
      "name": "python3"
    },
    "language_info": {
      "name": "python"
    },
    "colab": {
      "provenance": []
    }
  },
  "nbformat": 4,
  "nbformat_minor": 5
}