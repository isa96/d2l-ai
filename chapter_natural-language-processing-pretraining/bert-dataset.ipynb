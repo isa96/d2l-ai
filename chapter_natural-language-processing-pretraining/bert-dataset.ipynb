{
  "cells": [
    {
      "cell_type": "markdown",
      "id": "88d090a2",
      "metadata": {
        "id": "88d090a2"
      },
      "source": [
        "The following additional libraries are needed to run this\n",
        "notebook. Note that running on Colab is experimental, please report a Github\n",
        "issue if you have any problem."
      ]
    },
    {
      "cell_type": "code",
      "execution_count": 1,
      "id": "b81121b8",
      "metadata": {
        "id": "b81121b8",
        "outputId": "d952a294-6a4f-411a-b604-d6ad2a547638",
        "colab": {
          "base_uri": "https://localhost:8080/"
        }
      },
      "outputs": [
        {
          "output_type": "stream",
          "name": "stdout",
          "text": [
            "Looking in indexes: https://pypi.org/simple, https://us-python.pkg.dev/colab-wheels/public/simple/\n",
            "Collecting d2l==1.0.0-alpha1.post0\n",
            "  Downloading d2l-1.0.0a1.post0-py3-none-any.whl (93 kB)\n",
            "\u001b[K     |████████████████████████████████| 93 kB 994 kB/s \n",
            "\u001b[?25hRequirement already satisfied: pandas in /usr/local/lib/python3.7/dist-packages (from d2l==1.0.0-alpha1.post0) (1.3.5)\n",
            "Collecting jupyter\n",
            "  Downloading jupyter-1.0.0-py2.py3-none-any.whl (2.7 kB)\n",
            "Requirement already satisfied: gym in /usr/local/lib/python3.7/dist-packages (from d2l==1.0.0-alpha1.post0) (0.25.2)\n",
            "Requirement already satisfied: requests in /usr/local/lib/python3.7/dist-packages (from d2l==1.0.0-alpha1.post0) (2.23.0)\n",
            "Requirement already satisfied: matplotlib in /usr/local/lib/python3.7/dist-packages (from d2l==1.0.0-alpha1.post0) (3.2.2)\n",
            "Requirement already satisfied: numpy in /usr/local/lib/python3.7/dist-packages (from d2l==1.0.0-alpha1.post0) (1.21.6)\n",
            "Collecting matplotlib-inline\n",
            "  Downloading matplotlib_inline-0.1.6-py3-none-any.whl (9.4 kB)\n",
            "Requirement already satisfied: cloudpickle>=1.2.0 in /usr/local/lib/python3.7/dist-packages (from gym->d2l==1.0.0-alpha1.post0) (1.5.0)\n",
            "Requirement already satisfied: importlib-metadata>=4.8.0 in /usr/local/lib/python3.7/dist-packages (from gym->d2l==1.0.0-alpha1.post0) (4.13.0)\n",
            "Requirement already satisfied: gym-notices>=0.0.4 in /usr/local/lib/python3.7/dist-packages (from gym->d2l==1.0.0-alpha1.post0) (0.0.8)\n",
            "Requirement already satisfied: typing-extensions>=3.6.4 in /usr/local/lib/python3.7/dist-packages (from importlib-metadata>=4.8.0->gym->d2l==1.0.0-alpha1.post0) (4.1.1)\n",
            "Requirement already satisfied: zipp>=0.5 in /usr/local/lib/python3.7/dist-packages (from importlib-metadata>=4.8.0->gym->d2l==1.0.0-alpha1.post0) (3.9.0)\n",
            "Requirement already satisfied: ipywidgets in /usr/local/lib/python3.7/dist-packages (from jupyter->d2l==1.0.0-alpha1.post0) (7.7.1)\n",
            "Collecting qtconsole\n",
            "  Downloading qtconsole-5.3.2-py3-none-any.whl (120 kB)\n",
            "\u001b[K     |████████████████████████████████| 120 kB 31.5 MB/s \n",
            "\u001b[?25hRequirement already satisfied: notebook in /usr/local/lib/python3.7/dist-packages (from jupyter->d2l==1.0.0-alpha1.post0) (5.5.0)\n",
            "Requirement already satisfied: ipykernel in /usr/local/lib/python3.7/dist-packages (from jupyter->d2l==1.0.0-alpha1.post0) (5.3.4)\n",
            "Requirement already satisfied: nbconvert in /usr/local/lib/python3.7/dist-packages (from jupyter->d2l==1.0.0-alpha1.post0) (5.6.1)\n",
            "Requirement already satisfied: jupyter-console in /usr/local/lib/python3.7/dist-packages (from jupyter->d2l==1.0.0-alpha1.post0) (6.1.0)\n",
            "Requirement already satisfied: ipython>=5.0.0 in /usr/local/lib/python3.7/dist-packages (from ipykernel->jupyter->d2l==1.0.0-alpha1.post0) (7.9.0)\n",
            "Requirement already satisfied: jupyter-client in /usr/local/lib/python3.7/dist-packages (from ipykernel->jupyter->d2l==1.0.0-alpha1.post0) (6.1.12)\n",
            "Requirement already satisfied: traitlets>=4.1.0 in /usr/local/lib/python3.7/dist-packages (from ipykernel->jupyter->d2l==1.0.0-alpha1.post0) (5.1.1)\n",
            "Requirement already satisfied: tornado>=4.2 in /usr/local/lib/python3.7/dist-packages (from ipykernel->jupyter->d2l==1.0.0-alpha1.post0) (5.1.1)\n",
            "Requirement already satisfied: backcall in /usr/local/lib/python3.7/dist-packages (from ipython>=5.0.0->ipykernel->jupyter->d2l==1.0.0-alpha1.post0) (0.2.0)\n",
            "Requirement already satisfied: pygments in /usr/local/lib/python3.7/dist-packages (from ipython>=5.0.0->ipykernel->jupyter->d2l==1.0.0-alpha1.post0) (2.6.1)\n",
            "Requirement already satisfied: pexpect in /usr/local/lib/python3.7/dist-packages (from ipython>=5.0.0->ipykernel->jupyter->d2l==1.0.0-alpha1.post0) (4.8.0)\n",
            "Collecting jedi>=0.10\n",
            "  Downloading jedi-0.18.1-py2.py3-none-any.whl (1.6 MB)\n",
            "\u001b[K     |████████████████████████████████| 1.6 MB 47.6 MB/s \n",
            "\u001b[?25hRequirement already satisfied: setuptools>=18.5 in /usr/local/lib/python3.7/dist-packages (from ipython>=5.0.0->ipykernel->jupyter->d2l==1.0.0-alpha1.post0) (57.4.0)\n",
            "Requirement already satisfied: decorator in /usr/local/lib/python3.7/dist-packages (from ipython>=5.0.0->ipykernel->jupyter->d2l==1.0.0-alpha1.post0) (4.4.2)\n",
            "Requirement already satisfied: pickleshare in /usr/local/lib/python3.7/dist-packages (from ipython>=5.0.0->ipykernel->jupyter->d2l==1.0.0-alpha1.post0) (0.7.5)\n",
            "Requirement already satisfied: prompt-toolkit<2.1.0,>=2.0.0 in /usr/local/lib/python3.7/dist-packages (from ipython>=5.0.0->ipykernel->jupyter->d2l==1.0.0-alpha1.post0) (2.0.10)\n",
            "Requirement already satisfied: parso<0.9.0,>=0.8.0 in /usr/local/lib/python3.7/dist-packages (from jedi>=0.10->ipython>=5.0.0->ipykernel->jupyter->d2l==1.0.0-alpha1.post0) (0.8.3)\n",
            "Requirement already satisfied: wcwidth in /usr/local/lib/python3.7/dist-packages (from prompt-toolkit<2.1.0,>=2.0.0->ipython>=5.0.0->ipykernel->jupyter->d2l==1.0.0-alpha1.post0) (0.2.5)\n",
            "Requirement already satisfied: six>=1.9.0 in /usr/local/lib/python3.7/dist-packages (from prompt-toolkit<2.1.0,>=2.0.0->ipython>=5.0.0->ipykernel->jupyter->d2l==1.0.0-alpha1.post0) (1.15.0)\n",
            "Requirement already satisfied: widgetsnbextension~=3.6.0 in /usr/local/lib/python3.7/dist-packages (from ipywidgets->jupyter->d2l==1.0.0-alpha1.post0) (3.6.1)\n",
            "Requirement already satisfied: jupyterlab-widgets>=1.0.0 in /usr/local/lib/python3.7/dist-packages (from ipywidgets->jupyter->d2l==1.0.0-alpha1.post0) (3.0.3)\n",
            "Requirement already satisfied: ipython-genutils~=0.2.0 in /usr/local/lib/python3.7/dist-packages (from ipywidgets->jupyter->d2l==1.0.0-alpha1.post0) (0.2.0)\n",
            "Requirement already satisfied: jinja2 in /usr/local/lib/python3.7/dist-packages (from notebook->jupyter->d2l==1.0.0-alpha1.post0) (2.11.3)\n",
            "Requirement already satisfied: Send2Trash in /usr/local/lib/python3.7/dist-packages (from notebook->jupyter->d2l==1.0.0-alpha1.post0) (1.8.0)\n",
            "Requirement already satisfied: pyzmq>=17 in /usr/local/lib/python3.7/dist-packages (from notebook->jupyter->d2l==1.0.0-alpha1.post0) (23.2.1)\n",
            "Requirement already satisfied: jupyter-core>=4.4.0 in /usr/local/lib/python3.7/dist-packages (from notebook->jupyter->d2l==1.0.0-alpha1.post0) (4.11.1)\n",
            "Requirement already satisfied: terminado>=0.8.1 in /usr/local/lib/python3.7/dist-packages (from notebook->jupyter->d2l==1.0.0-alpha1.post0) (0.13.3)\n",
            "Requirement already satisfied: nbformat in /usr/local/lib/python3.7/dist-packages (from notebook->jupyter->d2l==1.0.0-alpha1.post0) (5.7.0)\n",
            "Requirement already satisfied: python-dateutil>=2.1 in /usr/local/lib/python3.7/dist-packages (from jupyter-client->ipykernel->jupyter->d2l==1.0.0-alpha1.post0) (2.8.2)\n",
            "Requirement already satisfied: ptyprocess in /usr/local/lib/python3.7/dist-packages (from terminado>=0.8.1->notebook->jupyter->d2l==1.0.0-alpha1.post0) (0.7.0)\n",
            "Requirement already satisfied: MarkupSafe>=0.23 in /usr/local/lib/python3.7/dist-packages (from jinja2->notebook->jupyter->d2l==1.0.0-alpha1.post0) (2.0.1)\n",
            "Requirement already satisfied: kiwisolver>=1.0.1 in /usr/local/lib/python3.7/dist-packages (from matplotlib->d2l==1.0.0-alpha1.post0) (1.4.4)\n",
            "Requirement already satisfied: cycler>=0.10 in /usr/local/lib/python3.7/dist-packages (from matplotlib->d2l==1.0.0-alpha1.post0) (0.11.0)\n",
            "Requirement already satisfied: pyparsing!=2.0.4,!=2.1.2,!=2.1.6,>=2.0.1 in /usr/local/lib/python3.7/dist-packages (from matplotlib->d2l==1.0.0-alpha1.post0) (3.0.9)\n",
            "Requirement already satisfied: entrypoints>=0.2.2 in /usr/local/lib/python3.7/dist-packages (from nbconvert->jupyter->d2l==1.0.0-alpha1.post0) (0.4)\n",
            "Requirement already satisfied: testpath in /usr/local/lib/python3.7/dist-packages (from nbconvert->jupyter->d2l==1.0.0-alpha1.post0) (0.6.0)\n",
            "Requirement already satisfied: bleach in /usr/local/lib/python3.7/dist-packages (from nbconvert->jupyter->d2l==1.0.0-alpha1.post0) (5.0.1)\n",
            "Requirement already satisfied: mistune<2,>=0.8.1 in /usr/local/lib/python3.7/dist-packages (from nbconvert->jupyter->d2l==1.0.0-alpha1.post0) (0.8.4)\n",
            "Requirement already satisfied: pandocfilters>=1.4.1 in /usr/local/lib/python3.7/dist-packages (from nbconvert->jupyter->d2l==1.0.0-alpha1.post0) (1.5.0)\n",
            "Requirement already satisfied: defusedxml in /usr/local/lib/python3.7/dist-packages (from nbconvert->jupyter->d2l==1.0.0-alpha1.post0) (0.7.1)\n",
            "Requirement already satisfied: fastjsonschema in /usr/local/lib/python3.7/dist-packages (from nbformat->notebook->jupyter->d2l==1.0.0-alpha1.post0) (2.16.2)\n",
            "Requirement already satisfied: jsonschema>=2.6 in /usr/local/lib/python3.7/dist-packages (from nbformat->notebook->jupyter->d2l==1.0.0-alpha1.post0) (4.3.3)\n",
            "Requirement already satisfied: attrs>=17.4.0 in /usr/local/lib/python3.7/dist-packages (from jsonschema>=2.6->nbformat->notebook->jupyter->d2l==1.0.0-alpha1.post0) (22.1.0)\n",
            "Requirement already satisfied: pyrsistent!=0.17.0,!=0.17.1,!=0.17.2,>=0.14.0 in /usr/local/lib/python3.7/dist-packages (from jsonschema>=2.6->nbformat->notebook->jupyter->d2l==1.0.0-alpha1.post0) (0.18.1)\n",
            "Requirement already satisfied: importlib-resources>=1.4.0 in /usr/local/lib/python3.7/dist-packages (from jsonschema>=2.6->nbformat->notebook->jupyter->d2l==1.0.0-alpha1.post0) (5.10.0)\n",
            "Requirement already satisfied: webencodings in /usr/local/lib/python3.7/dist-packages (from bleach->nbconvert->jupyter->d2l==1.0.0-alpha1.post0) (0.5.1)\n",
            "Requirement already satisfied: pytz>=2017.3 in /usr/local/lib/python3.7/dist-packages (from pandas->d2l==1.0.0-alpha1.post0) (2022.4)\n",
            "Collecting qtpy>=2.0.1\n",
            "  Downloading QtPy-2.2.1-py3-none-any.whl (82 kB)\n",
            "\u001b[K     |████████████████████████████████| 82 kB 843 kB/s \n",
            "\u001b[?25hRequirement already satisfied: packaging in /usr/local/lib/python3.7/dist-packages (from qtpy>=2.0.1->qtconsole->jupyter->d2l==1.0.0-alpha1.post0) (21.3)\n",
            "Requirement already satisfied: idna<3,>=2.5 in /usr/local/lib/python3.7/dist-packages (from requests->d2l==1.0.0-alpha1.post0) (2.10)\n",
            "Requirement already satisfied: urllib3!=1.25.0,!=1.25.1,<1.26,>=1.21.1 in /usr/local/lib/python3.7/dist-packages (from requests->d2l==1.0.0-alpha1.post0) (1.24.3)\n",
            "Requirement already satisfied: certifi>=2017.4.17 in /usr/local/lib/python3.7/dist-packages (from requests->d2l==1.0.0-alpha1.post0) (2022.9.24)\n",
            "Requirement already satisfied: chardet<4,>=3.0.2 in /usr/local/lib/python3.7/dist-packages (from requests->d2l==1.0.0-alpha1.post0) (3.0.4)\n",
            "Installing collected packages: jedi, qtpy, qtconsole, matplotlib-inline, jupyter, d2l\n",
            "Successfully installed d2l-1.0.0a1.post0 jedi-0.18.1 jupyter-1.0.0 matplotlib-inline-0.1.6 qtconsole-5.3.2 qtpy-2.2.1\n"
          ]
        }
      ],
      "source": [
        "!pip install d2l==1.0.0-alpha1.post0\n"
      ]
    },
    {
      "cell_type": "markdown",
      "id": "c8e84ba9",
      "metadata": {
        "origin_pos": 0,
        "id": "c8e84ba9"
      },
      "source": [
        "# The Dataset for Pretraining BERT\n",
        ":label:`sec_bert-dataset`\n",
        "\n",
        "To pretrain the BERT model as implemented in :numref:`sec_bert`,\n",
        "we need to generate the dataset in the ideal format to facilitate\n",
        "the two pretraining tasks:\n",
        "masked language modeling and next sentence prediction.\n",
        "On the one hand,\n",
        "the original BERT model is pretrained on the concatenation of\n",
        "two huge corpora BookCorpus and English Wikipedia (see :numref:`subsec_bert_pretraining_tasks`),\n",
        "making it hard to run for most readers of this book.\n",
        "On the other hand,\n",
        "the off-the-shelf pretrained BERT model\n",
        "may not fit for applications from specific domains like medicine.\n",
        "Thus, it is getting popular to pretrain BERT on a customized dataset.\n",
        "To facilitate the demonstration of BERT pretraining,\n",
        "we use a smaller corpus WikiText-2 :cite:`Merity.Xiong.Bradbury.ea.2016`.\n",
        "\n",
        "Comparing with the PTB dataset used for pretraining word2vec in :numref:`sec_word2vec_data`,\n",
        "WikiText-2 (i) retains the original punctuation, making it suitable for next sentence prediction; (ii) retains the original case and numbers; (iii) is over twice larger.\n"
      ]
    },
    {
      "cell_type": "code",
      "execution_count": 2,
      "id": "08a79405",
      "metadata": {
        "execution": {
          "iopub.execute_input": "2022-09-07T22:13:11.994910Z",
          "iopub.status.busy": "2022-09-07T22:13:11.993877Z",
          "iopub.status.idle": "2022-09-07T22:13:14.083726Z",
          "shell.execute_reply": "2022-09-07T22:13:14.082880Z"
        },
        "origin_pos": 2,
        "tab": [
          "pytorch"
        ],
        "id": "08a79405"
      },
      "outputs": [],
      "source": [
        "import os\n",
        "import random\n",
        "import torch\n",
        "from d2l import torch as d2l"
      ]
    },
    {
      "cell_type": "markdown",
      "id": "e399a848",
      "metadata": {
        "origin_pos": 3,
        "id": "e399a848"
      },
      "source": [
        "In [**the WikiText-2 dataset**],\n",
        "each line represents a paragraph where\n",
        "space is inserted between any punctuation and its preceding token.\n",
        "Paragraphs with at least two sentences are retained.\n",
        "To split sentences, we only use the period as the delimiter for simplicity.\n",
        "We leave discussions of more complex sentence splitting techniques in the exercises\n",
        "at the end of this section.\n"
      ]
    },
    {
      "cell_type": "code",
      "execution_count": 3,
      "id": "f4f92a62",
      "metadata": {
        "execution": {
          "iopub.execute_input": "2022-09-07T22:13:14.088562Z",
          "iopub.status.busy": "2022-09-07T22:13:14.087911Z",
          "iopub.status.idle": "2022-09-07T22:13:14.093904Z",
          "shell.execute_reply": "2022-09-07T22:13:14.092931Z"
        },
        "origin_pos": 4,
        "tab": [
          "pytorch"
        ],
        "id": "f4f92a62"
      },
      "outputs": [],
      "source": [
        "#@save\n",
        "d2l.DATA_HUB['wikitext-2'] = (\n",
        "    'https://s3.amazonaws.com/research.metamind.io/wikitext/'\n",
        "    'wikitext-2-v1.zip', '3c914d17d80b1459be871a5039ac23e752a53cbe')\n",
        "\n",
        "#@save\n",
        "def _read_wiki(data_dir):\n",
        "    file_name = os.path.join(data_dir, 'wiki.train.tokens')\n",
        "    with open(file_name, 'r') as f:\n",
        "        lines = f.readlines()\n",
        "    # Uppercase letters are converted to lowercase ones\n",
        "    paragraphs = [line.strip().lower().split(' . ')\n",
        "                  for line in lines if len(line.split(' . ')) >= 2]\n",
        "    random.shuffle(paragraphs)\n",
        "    return paragraphs"
      ]
    },
    {
      "cell_type": "markdown",
      "id": "a7ea2ae7",
      "metadata": {
        "origin_pos": 5,
        "id": "a7ea2ae7"
      },
      "source": [
        "## Defining Helper Functions for Pretraining Tasks\n",
        "\n",
        "In the following,\n",
        "we begin by implementing helper functions for the two BERT pretraining tasks:\n",
        "next sentence prediction and masked language modeling.\n",
        "These helper functions will be invoked later\n",
        "when transforming the raw text corpus\n",
        "into the dataset of the ideal format to pretrain BERT.\n",
        "\n",
        "### [**Generating the Next Sentence Prediction Task**]\n",
        "\n",
        "According to descriptions of :numref:`subsec_nsp`,\n",
        "the `_get_next_sentence` function generates a training example\n",
        "for the binary classification task.\n"
      ]
    },
    {
      "cell_type": "code",
      "execution_count": 4,
      "id": "5e8985d5",
      "metadata": {
        "execution": {
          "iopub.execute_input": "2022-09-07T22:13:14.098096Z",
          "iopub.status.busy": "2022-09-07T22:13:14.097399Z",
          "iopub.status.idle": "2022-09-07T22:13:14.104016Z",
          "shell.execute_reply": "2022-09-07T22:13:14.103027Z"
        },
        "origin_pos": 6,
        "tab": [
          "pytorch"
        ],
        "id": "5e8985d5"
      },
      "outputs": [],
      "source": [
        "#@save\n",
        "def _get_next_sentence(sentence, next_sentence, paragraphs):\n",
        "    if random.random() < 0.5:\n",
        "        is_next = True\n",
        "    else:\n",
        "        # `paragraphs` is a list of lists of lists\n",
        "        next_sentence = random.choice(random.choice(paragraphs))\n",
        "        is_next = False\n",
        "    return sentence, next_sentence, is_next"
      ]
    },
    {
      "cell_type": "markdown",
      "id": "09421fb9",
      "metadata": {
        "origin_pos": 7,
        "id": "09421fb9"
      },
      "source": [
        "The following function generates training examples for next sentence prediction\n",
        "from the input `paragraph` by invoking the `_get_next_sentence` function.\n",
        "Here `paragraph` is a list of sentences, where each sentence is a list of tokens.\n",
        "The argument `max_len` specifies the maximum length of a BERT input sequence during pretraining.\n"
      ]
    },
    {
      "cell_type": "code",
      "execution_count": 5,
      "id": "bb08a936",
      "metadata": {
        "execution": {
          "iopub.execute_input": "2022-09-07T22:13:14.107627Z",
          "iopub.status.busy": "2022-09-07T22:13:14.107197Z",
          "iopub.status.idle": "2022-09-07T22:13:14.112593Z",
          "shell.execute_reply": "2022-09-07T22:13:14.111831Z"
        },
        "origin_pos": 8,
        "tab": [
          "pytorch"
        ],
        "id": "bb08a936"
      },
      "outputs": [],
      "source": [
        "#@save\n",
        "def _get_nsp_data_from_paragraph(paragraph, paragraphs, vocab, max_len):\n",
        "    nsp_data_from_paragraph = []\n",
        "    for i in range(len(paragraph) - 1):\n",
        "        tokens_a, tokens_b, is_next = _get_next_sentence(\n",
        "            paragraph[i], paragraph[i + 1], paragraphs)\n",
        "        # Consider 1 '<cls>' token and 2 '<sep>' tokens\n",
        "        if len(tokens_a) + len(tokens_b) + 3 > max_len:\n",
        "            continue\n",
        "        tokens, segments = d2l.get_tokens_and_segments(tokens_a, tokens_b)\n",
        "        nsp_data_from_paragraph.append((tokens, segments, is_next))\n",
        "    return nsp_data_from_paragraph"
      ]
    },
    {
      "cell_type": "markdown",
      "id": "dcf947b0",
      "metadata": {
        "origin_pos": 9,
        "id": "dcf947b0"
      },
      "source": [
        "### [**Generating the Masked Language Modeling Task**]\n",
        ":label:`subsec_prepare_mlm_data`\n",
        "\n",
        "In order to generate training examples\n",
        "for the masked language modeling task\n",
        "from a BERT input sequence,\n",
        "we define the following `_replace_mlm_tokens` function.\n",
        "In its inputs, `tokens` is a list of tokens representing a BERT input sequence,\n",
        "`candidate_pred_positions` is a list of token indices of the BERT input sequence\n",
        "excluding those of special tokens (special tokens are not predicted in the masked language modeling task),\n",
        "and `num_mlm_preds` indicates the number of predictions (recall 15% random tokens to predict).\n",
        "Following the definition of the masked language modeling task in :numref:`subsec_mlm`,\n",
        "at each prediction position, the input may be replaced by\n",
        "a special “&lt;mask&gt;” token or a random token, or remain unchanged.\n",
        "In the end, the function returns the input tokens after possible replacement,\n",
        "the token indices where predictions take place and labels for these predictions.\n"
      ]
    },
    {
      "cell_type": "code",
      "execution_count": 6,
      "id": "fbea0de1",
      "metadata": {
        "execution": {
          "iopub.execute_input": "2022-09-07T22:13:14.116389Z",
          "iopub.status.busy": "2022-09-07T22:13:14.115660Z",
          "iopub.status.idle": "2022-09-07T22:13:14.123838Z",
          "shell.execute_reply": "2022-09-07T22:13:14.122992Z"
        },
        "origin_pos": 10,
        "tab": [
          "pytorch"
        ],
        "id": "fbea0de1"
      },
      "outputs": [],
      "source": [
        "#@save\n",
        "def _replace_mlm_tokens(tokens, candidate_pred_positions, num_mlm_preds,\n",
        "                        vocab):\n",
        "    # For the input of a masked language model, make a new copy of tokens and\n",
        "    # replace some of them by '<mask>' or random tokens\n",
        "    mlm_input_tokens = [token for token in tokens]\n",
        "    pred_positions_and_labels = []\n",
        "    # Shuffle for getting 15% random tokens for prediction in the masked\n",
        "    # language modeling task\n",
        "    random.shuffle(candidate_pred_positions)\n",
        "    for mlm_pred_position in candidate_pred_positions:\n",
        "        if len(pred_positions_and_labels) >= num_mlm_preds:\n",
        "            break\n",
        "        masked_token = None\n",
        "        # 80% of the time: replace the word with the '<mask>' token\n",
        "        if random.random() < 0.8:\n",
        "            masked_token = '<mask>'\n",
        "        else:\n",
        "            # 10% of the time: keep the word unchanged\n",
        "            if random.random() < 0.5:\n",
        "                masked_token = tokens[mlm_pred_position]\n",
        "            # 10% of the time: replace the word with a random word\n",
        "            else:\n",
        "                masked_token = random.choice(vocab.idx_to_token)\n",
        "        mlm_input_tokens[mlm_pred_position] = masked_token\n",
        "        pred_positions_and_labels.append(\n",
        "            (mlm_pred_position, tokens[mlm_pred_position]))\n",
        "    return mlm_input_tokens, pred_positions_and_labels"
      ]
    },
    {
      "cell_type": "markdown",
      "id": "556e8e8b",
      "metadata": {
        "origin_pos": 11,
        "id": "556e8e8b"
      },
      "source": [
        "By invoking the aforementioned `_replace_mlm_tokens` function,\n",
        "the following function takes a BERT input sequence (`tokens`)\n",
        "as an input and returns indices of the input tokens\n",
        "(after possible token replacement as described in :numref:`subsec_mlm`),\n",
        "the token indices where predictions take place,\n",
        "and label indices for these predictions.\n"
      ]
    },
    {
      "cell_type": "code",
      "execution_count": 7,
      "id": "7d781537",
      "metadata": {
        "execution": {
          "iopub.execute_input": "2022-09-07T22:13:14.128311Z",
          "iopub.status.busy": "2022-09-07T22:13:14.127705Z",
          "iopub.status.idle": "2022-09-07T22:13:14.137204Z",
          "shell.execute_reply": "2022-09-07T22:13:14.136009Z"
        },
        "origin_pos": 12,
        "tab": [
          "pytorch"
        ],
        "id": "7d781537"
      },
      "outputs": [],
      "source": [
        "#@save\n",
        "def _get_mlm_data_from_tokens(tokens, vocab):\n",
        "    candidate_pred_positions = []\n",
        "    # `tokens` is a list of strings\n",
        "    for i, token in enumerate(tokens):\n",
        "        # Special tokens are not predicted in the masked language modeling\n",
        "        # task\n",
        "        if token in ['<cls>', '<sep>']:\n",
        "            continue\n",
        "        candidate_pred_positions.append(i)\n",
        "    # 15% of random tokens are predicted in the masked language modeling task\n",
        "    num_mlm_preds = max(1, round(len(tokens) * 0.15))\n",
        "    mlm_input_tokens, pred_positions_and_labels = _replace_mlm_tokens(\n",
        "        tokens, candidate_pred_positions, num_mlm_preds, vocab)\n",
        "    pred_positions_and_labels = sorted(pred_positions_and_labels,\n",
        "                                       key=lambda x: x[0])\n",
        "    pred_positions = [v[0] for v in pred_positions_and_labels]\n",
        "    mlm_pred_labels = [v[1] for v in pred_positions_and_labels]\n",
        "    return vocab[mlm_input_tokens], pred_positions, vocab[mlm_pred_labels]"
      ]
    },
    {
      "cell_type": "markdown",
      "id": "d9653191",
      "metadata": {
        "origin_pos": 13,
        "id": "d9653191"
      },
      "source": [
        "## Transforming Text into the Pretraining Dataset\n",
        "\n",
        "Now we are almost ready to customize a `Dataset` class for pretraining BERT.\n",
        "Before that, \n",
        "we still need to define a helper function `_pad_bert_inputs`\n",
        "to [**append the special “&lt;pad&gt;” tokens to the inputs.**]\n",
        "Its argument `examples` contain the outputs from the helper functions `_get_nsp_data_from_paragraph` and `_get_mlm_data_from_tokens` for the two pretraining tasks.\n"
      ]
    },
    {
      "cell_type": "code",
      "execution_count": 8,
      "id": "4b6910ea",
      "metadata": {
        "execution": {
          "iopub.execute_input": "2022-09-07T22:13:14.140641Z",
          "iopub.status.busy": "2022-09-07T22:13:14.140182Z",
          "iopub.status.idle": "2022-09-07T22:13:14.149503Z",
          "shell.execute_reply": "2022-09-07T22:13:14.148418Z"
        },
        "origin_pos": 15,
        "tab": [
          "pytorch"
        ],
        "id": "4b6910ea"
      },
      "outputs": [],
      "source": [
        "#@save\n",
        "def _pad_bert_inputs(examples, max_len, vocab):\n",
        "    max_num_mlm_preds = round(max_len * 0.15)\n",
        "    all_token_ids, all_segments, valid_lens,  = [], [], []\n",
        "    all_pred_positions, all_mlm_weights, all_mlm_labels = [], [], []\n",
        "    nsp_labels = []\n",
        "    for (token_ids, pred_positions, mlm_pred_label_ids, segments,\n",
        "         is_next) in examples:\n",
        "        all_token_ids.append(torch.tensor(token_ids + [vocab['<pad>']] * (\n",
        "            max_len - len(token_ids)), dtype=torch.long))\n",
        "        all_segments.append(torch.tensor(segments + [0] * (\n",
        "            max_len - len(segments)), dtype=torch.long))\n",
        "        # `valid_lens` excludes count of '<pad>' tokens\n",
        "        valid_lens.append(torch.tensor(len(token_ids), dtype=torch.float32))\n",
        "        all_pred_positions.append(torch.tensor(pred_positions + [0] * (\n",
        "            max_num_mlm_preds - len(pred_positions)), dtype=torch.long))\n",
        "        # Predictions of padded tokens will be filtered out in the loss via\n",
        "        # multiplication of 0 weights\n",
        "        all_mlm_weights.append(\n",
        "            torch.tensor([1.0] * len(mlm_pred_label_ids) + [0.0] * (\n",
        "                max_num_mlm_preds - len(pred_positions)),\n",
        "                dtype=torch.float32))\n",
        "        all_mlm_labels.append(torch.tensor(mlm_pred_label_ids + [0] * (\n",
        "            max_num_mlm_preds - len(mlm_pred_label_ids)), dtype=torch.long))\n",
        "        nsp_labels.append(torch.tensor(is_next, dtype=torch.long))\n",
        "    return (all_token_ids, all_segments, valid_lens, all_pred_positions,\n",
        "            all_mlm_weights, all_mlm_labels, nsp_labels)"
      ]
    },
    {
      "cell_type": "markdown",
      "id": "0d6db877",
      "metadata": {
        "origin_pos": 16,
        "id": "0d6db877"
      },
      "source": [
        "Putting the helper functions for\n",
        "generating training examples of the two pretraining tasks,\n",
        "and the helper function for padding inputs together,\n",
        "we customize the following `_WikiTextDataset` class as [**the WikiText-2 dataset for pretraining BERT**].\n",
        "By implementing the `__getitem__ `function,\n",
        "we can arbitrarily access the pretraining (masked language modeling and next sentence prediction) examples \n",
        "generated from a pair of sentences from the WikiText-2 corpus.\n",
        "\n",
        "The original BERT model uses WordPiece embeddings whose vocabulary size is 30000 :cite:`Wu.Schuster.Chen.ea.2016`.\n",
        "The tokenization method of WordPiece is a slight modification of\n",
        "the original byte pair encoding algorithm in :numref:`subsec_Byte_Pair_Encoding`.\n",
        "For simplicity, we use the `d2l.tokenize` function for tokenization.\n",
        "Infrequent tokens that appear less than five times are filtered out.\n"
      ]
    },
    {
      "cell_type": "code",
      "execution_count": 9,
      "id": "f6846612",
      "metadata": {
        "execution": {
          "iopub.execute_input": "2022-09-07T22:13:14.153631Z",
          "iopub.status.busy": "2022-09-07T22:13:14.153162Z",
          "iopub.status.idle": "2022-09-07T22:13:14.162276Z",
          "shell.execute_reply": "2022-09-07T22:13:14.161191Z"
        },
        "origin_pos": 18,
        "tab": [
          "pytorch"
        ],
        "id": "f6846612"
      },
      "outputs": [],
      "source": [
        "#@save\n",
        "class _WikiTextDataset(torch.utils.data.Dataset):\n",
        "    def __init__(self, paragraphs, max_len):\n",
        "        # Input `paragraphs[i]` is a list of sentence strings representing a\n",
        "        # paragraph; while output `paragraphs[i]` is a list of sentences\n",
        "        # representing a paragraph, where each sentence is a list of tokens\n",
        "        paragraphs = [d2l.tokenize(\n",
        "            paragraph, token='word') for paragraph in paragraphs]\n",
        "        sentences = [sentence for paragraph in paragraphs\n",
        "                     for sentence in paragraph]\n",
        "        self.vocab = d2l.Vocab(sentences, min_freq=5, reserved_tokens=[\n",
        "            '<pad>', '<mask>', '<cls>', '<sep>'])\n",
        "        # Get data for the next sentence prediction task\n",
        "        examples = []\n",
        "        for paragraph in paragraphs:\n",
        "            examples.extend(_get_nsp_data_from_paragraph(\n",
        "                paragraph, paragraphs, self.vocab, max_len))\n",
        "        # Get data for the masked language model task\n",
        "        examples = [(_get_mlm_data_from_tokens(tokens, self.vocab)\n",
        "                      + (segments, is_next))\n",
        "                     for tokens, segments, is_next in examples]\n",
        "        # Pad inputs\n",
        "        (self.all_token_ids, self.all_segments, self.valid_lens,\n",
        "         self.all_pred_positions, self.all_mlm_weights,\n",
        "         self.all_mlm_labels, self.nsp_labels) = _pad_bert_inputs(\n",
        "            examples, max_len, self.vocab)\n",
        "\n",
        "    def __getitem__(self, idx):\n",
        "        return (self.all_token_ids[idx], self.all_segments[idx],\n",
        "                self.valid_lens[idx], self.all_pred_positions[idx],\n",
        "                self.all_mlm_weights[idx], self.all_mlm_labels[idx],\n",
        "                self.nsp_labels[idx])\n",
        "\n",
        "    def __len__(self):\n",
        "        return len(self.all_token_ids)"
      ]
    },
    {
      "cell_type": "markdown",
      "id": "a2642f79",
      "metadata": {
        "origin_pos": 19,
        "id": "a2642f79"
      },
      "source": [
        "By using the `_read_wiki` function and the `_WikiTextDataset` class,\n",
        "we define the following `load_data_wiki` to [**download and WikiText-2 dataset\n",
        "and generate pretraining examples**] from it.\n"
      ]
    },
    {
      "cell_type": "code",
      "execution_count": 10,
      "id": "34c8ca69",
      "metadata": {
        "execution": {
          "iopub.execute_input": "2022-09-07T22:13:14.166369Z",
          "iopub.status.busy": "2022-09-07T22:13:14.165912Z",
          "iopub.status.idle": "2022-09-07T22:13:14.171907Z",
          "shell.execute_reply": "2022-09-07T22:13:14.170823Z"
        },
        "origin_pos": 21,
        "tab": [
          "pytorch"
        ],
        "id": "34c8ca69"
      },
      "outputs": [],
      "source": [
        "#@save\n",
        "def load_data_wiki(batch_size, max_len):\n",
        "    \"\"\"Load the WikiText-2 dataset.\"\"\"\n",
        "    num_workers = d2l.get_dataloader_workers()\n",
        "    data_dir = d2l.download_extract('wikitext-2', 'wikitext-2')\n",
        "    paragraphs = _read_wiki(data_dir)\n",
        "    train_set = _WikiTextDataset(paragraphs, max_len)\n",
        "    train_iter = torch.utils.data.DataLoader(train_set, batch_size,\n",
        "                                        shuffle=True, num_workers=num_workers)\n",
        "    return train_iter, train_set.vocab"
      ]
    },
    {
      "cell_type": "markdown",
      "id": "637334cb",
      "metadata": {
        "origin_pos": 22,
        "id": "637334cb"
      },
      "source": [
        "Setting the batch size to 512 and the maximum length of a BERT input sequence to be 64,\n",
        "we [**print out the shapes of a minibatch of BERT pretraining examples**].\n",
        "Note that in each BERT input sequence,\n",
        "$10$ ($64 \\times 0.15$) positions are predicted for the masked language modeling task.\n"
      ]
    },
    {
      "cell_type": "code",
      "execution_count": 11,
      "id": "11339ece",
      "metadata": {
        "execution": {
          "iopub.execute_input": "2022-09-07T22:13:14.176731Z",
          "iopub.status.busy": "2022-09-07T22:13:14.176148Z",
          "iopub.status.idle": "2022-09-07T22:13:22.552015Z",
          "shell.execute_reply": "2022-09-07T22:13:22.550232Z"
        },
        "origin_pos": 23,
        "tab": [
          "pytorch"
        ],
        "id": "11339ece",
        "outputId": "f9fdd83e-bc22-452f-f5fe-a5ec5b7aa06b",
        "colab": {
          "base_uri": "https://localhost:8080/"
        }
      },
      "outputs": [
        {
          "output_type": "stream",
          "name": "stdout",
          "text": [
            "Downloading ../data/wikitext-2-v1.zip from https://s3.amazonaws.com/research.metamind.io/wikitext/wikitext-2-v1.zip...\n"
          ]
        },
        {
          "output_type": "stream",
          "name": "stderr",
          "text": [
            "/usr/local/lib/python3.7/dist-packages/torch/utils/data/dataloader.py:566: UserWarning: This DataLoader will create 4 worker processes in total. Our suggested max number of worker in current system is 2, which is smaller than what this DataLoader is going to create. Please be aware that excessive worker creation might get DataLoader running slow or even freeze, lower the worker number to avoid potential slowness/freeze if necessary.\n",
            "  cpuset_checked))\n"
          ]
        },
        {
          "output_type": "stream",
          "name": "stdout",
          "text": [
            "torch.Size([512, 64]) torch.Size([512, 64]) torch.Size([512]) torch.Size([512, 10]) torch.Size([512, 10]) torch.Size([512, 10]) torch.Size([512])\n"
          ]
        }
      ],
      "source": [
        "batch_size, max_len = 512, 64\n",
        "train_iter, vocab = load_data_wiki(batch_size, max_len)\n",
        "\n",
        "for (tokens_X, segments_X, valid_lens_x, pred_positions_X, mlm_weights_X,\n",
        "     mlm_Y, nsp_y) in train_iter:\n",
        "    print(tokens_X.shape, segments_X.shape, valid_lens_x.shape,\n",
        "          pred_positions_X.shape, mlm_weights_X.shape, mlm_Y.shape,\n",
        "          nsp_y.shape)\n",
        "    break"
      ]
    },
    {
      "cell_type": "markdown",
      "id": "63b81cfa",
      "metadata": {
        "origin_pos": 24,
        "id": "63b81cfa"
      },
      "source": [
        "In the end, let's take a look at the vocabulary size.\n",
        "Even after filtering out infrequent tokens,\n",
        "it is still over twice larger than that of the PTB dataset.\n"
      ]
    },
    {
      "cell_type": "code",
      "execution_count": 12,
      "id": "067bf7f2",
      "metadata": {
        "execution": {
          "iopub.execute_input": "2022-09-07T22:13:22.558409Z",
          "iopub.status.busy": "2022-09-07T22:13:22.557474Z",
          "iopub.status.idle": "2022-09-07T22:13:22.570434Z",
          "shell.execute_reply": "2022-09-07T22:13:22.569377Z"
        },
        "origin_pos": 25,
        "tab": [
          "pytorch"
        ],
        "id": "067bf7f2",
        "outputId": "22c43cc9-700d-4ef6-adb9-c039bf653891",
        "colab": {
          "base_uri": "https://localhost:8080/"
        }
      },
      "outputs": [
        {
          "output_type": "execute_result",
          "data": {
            "text/plain": [
              "20256"
            ]
          },
          "metadata": {},
          "execution_count": 12
        }
      ],
      "source": [
        "len(vocab)"
      ]
    },
    {
      "cell_type": "markdown",
      "id": "d1583d3a",
      "metadata": {
        "origin_pos": 26,
        "id": "d1583d3a"
      },
      "source": [
        "## Summary\n",
        "\n",
        "* Comparing with the PTB dataset, the WikiText-2 dateset retains the original punctuation, case and numbers, and is over twice larger.\n",
        "* We can arbitrarily access the pretraining (masked language modeling and next sentence prediction) examples generated from a pair of sentences from the WikiText-2 corpus.\n",
        "\n",
        "\n",
        "\n",
        "## Exercises\n",
        "\n",
        "1. For simplicity, the period is used as the only delimiter for splitting sentences. Try other sentence splitting techniques, such as the spaCy and NLTK. Take NLTK as an example. You need to install NLTK first: `pip install nltk`. In the code, first `import nltk`. Then, download the Punkt sentence tokenizer: `nltk.download('punkt')`. To split sentences such as `sentences = 'This is great ! Why not ?'`, invoking `nltk.tokenize.sent_tokenize(sentences)` will return a list of two sentence strings: `['This is great !', 'Why not ?']`.\n",
        "1. What is the vocabulary size if we do not filter out any infrequent token?\n"
      ]
    },
    {
      "cell_type": "markdown",
      "id": "ed984e79",
      "metadata": {
        "origin_pos": 28,
        "tab": [
          "pytorch"
        ],
        "id": "ed984e79"
      },
      "source": [
        "[Discussions](https://discuss.d2l.ai/t/1496)\n"
      ]
    }
  ],
  "metadata": {
    "kernelspec": {
      "display_name": "Python 3",
      "name": "python3"
    },
    "language_info": {
      "name": "python"
    },
    "colab": {
      "provenance": []
    }
  },
  "nbformat": 4,
  "nbformat_minor": 5
}