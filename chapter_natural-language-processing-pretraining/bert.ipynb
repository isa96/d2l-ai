{
  "cells": [
    {
      "cell_type": "markdown",
      "id": "6a8f5e2b",
      "metadata": {
        "id": "6a8f5e2b"
      },
      "source": [
        "The following additional libraries are needed to run this\n",
        "notebook. Note that running on Colab is experimental, please report a Github\n",
        "issue if you have any problem."
      ]
    },
    {
      "cell_type": "code",
      "execution_count": 1,
      "id": "21487fee",
      "metadata": {
        "id": "21487fee",
        "outputId": "50207ed3-85bf-459f-91fb-8ca477aeb5b4",
        "colab": {
          "base_uri": "https://localhost:8080/"
        }
      },
      "outputs": [
        {
          "output_type": "stream",
          "name": "stdout",
          "text": [
            "Looking in indexes: https://pypi.org/simple, https://us-python.pkg.dev/colab-wheels/public/simple/\n",
            "Collecting d2l==1.0.0-alpha1.post0\n",
            "  Downloading d2l-1.0.0a1.post0-py3-none-any.whl (93 kB)\n",
            "\u001b[K     |████████████████████████████████| 93 kB 960 kB/s \n",
            "\u001b[?25hCollecting jupyter\n",
            "  Downloading jupyter-1.0.0-py2.py3-none-any.whl (2.7 kB)\n",
            "Collecting matplotlib-inline\n",
            "  Downloading matplotlib_inline-0.1.6-py3-none-any.whl (9.4 kB)\n",
            "Requirement already satisfied: requests in /usr/local/lib/python3.7/dist-packages (from d2l==1.0.0-alpha1.post0) (2.23.0)\n",
            "Requirement already satisfied: numpy in /usr/local/lib/python3.7/dist-packages (from d2l==1.0.0-alpha1.post0) (1.21.6)\n",
            "Requirement already satisfied: pandas in /usr/local/lib/python3.7/dist-packages (from d2l==1.0.0-alpha1.post0) (1.3.5)\n",
            "Requirement already satisfied: matplotlib in /usr/local/lib/python3.7/dist-packages (from d2l==1.0.0-alpha1.post0) (3.2.2)\n",
            "Requirement already satisfied: gym in /usr/local/lib/python3.7/dist-packages (from d2l==1.0.0-alpha1.post0) (0.25.2)\n",
            "Requirement already satisfied: cloudpickle>=1.2.0 in /usr/local/lib/python3.7/dist-packages (from gym->d2l==1.0.0-alpha1.post0) (1.5.0)\n",
            "Requirement already satisfied: gym-notices>=0.0.4 in /usr/local/lib/python3.7/dist-packages (from gym->d2l==1.0.0-alpha1.post0) (0.0.8)\n",
            "Requirement already satisfied: importlib-metadata>=4.8.0 in /usr/local/lib/python3.7/dist-packages (from gym->d2l==1.0.0-alpha1.post0) (4.13.0)\n",
            "Requirement already satisfied: typing-extensions>=3.6.4 in /usr/local/lib/python3.7/dist-packages (from importlib-metadata>=4.8.0->gym->d2l==1.0.0-alpha1.post0) (4.1.1)\n",
            "Requirement already satisfied: zipp>=0.5 in /usr/local/lib/python3.7/dist-packages (from importlib-metadata>=4.8.0->gym->d2l==1.0.0-alpha1.post0) (3.9.0)\n",
            "Requirement already satisfied: jupyter-console in /usr/local/lib/python3.7/dist-packages (from jupyter->d2l==1.0.0-alpha1.post0) (6.1.0)\n",
            "Collecting qtconsole\n",
            "  Downloading qtconsole-5.3.2-py3-none-any.whl (120 kB)\n",
            "\u001b[K     |████████████████████████████████| 120 kB 19.7 MB/s \n",
            "\u001b[?25hRequirement already satisfied: ipykernel in /usr/local/lib/python3.7/dist-packages (from jupyter->d2l==1.0.0-alpha1.post0) (5.3.4)\n",
            "Requirement already satisfied: ipywidgets in /usr/local/lib/python3.7/dist-packages (from jupyter->d2l==1.0.0-alpha1.post0) (7.7.1)\n",
            "Requirement already satisfied: nbconvert in /usr/local/lib/python3.7/dist-packages (from jupyter->d2l==1.0.0-alpha1.post0) (5.6.1)\n",
            "Requirement already satisfied: notebook in /usr/local/lib/python3.7/dist-packages (from jupyter->d2l==1.0.0-alpha1.post0) (5.5.0)\n",
            "Requirement already satisfied: jupyter-client in /usr/local/lib/python3.7/dist-packages (from ipykernel->jupyter->d2l==1.0.0-alpha1.post0) (6.1.12)\n",
            "Requirement already satisfied: traitlets>=4.1.0 in /usr/local/lib/python3.7/dist-packages (from ipykernel->jupyter->d2l==1.0.0-alpha1.post0) (5.1.1)\n",
            "Requirement already satisfied: ipython>=5.0.0 in /usr/local/lib/python3.7/dist-packages (from ipykernel->jupyter->d2l==1.0.0-alpha1.post0) (7.9.0)\n",
            "Requirement already satisfied: tornado>=4.2 in /usr/local/lib/python3.7/dist-packages (from ipykernel->jupyter->d2l==1.0.0-alpha1.post0) (5.1.1)\n",
            "Requirement already satisfied: setuptools>=18.5 in /usr/local/lib/python3.7/dist-packages (from ipython>=5.0.0->ipykernel->jupyter->d2l==1.0.0-alpha1.post0) (57.4.0)\n",
            "Requirement already satisfied: backcall in /usr/local/lib/python3.7/dist-packages (from ipython>=5.0.0->ipykernel->jupyter->d2l==1.0.0-alpha1.post0) (0.2.0)\n",
            "Collecting jedi>=0.10\n",
            "  Downloading jedi-0.18.1-py2.py3-none-any.whl (1.6 MB)\n",
            "\u001b[K     |████████████████████████████████| 1.6 MB 49.1 MB/s \n",
            "\u001b[?25hRequirement already satisfied: prompt-toolkit<2.1.0,>=2.0.0 in /usr/local/lib/python3.7/dist-packages (from ipython>=5.0.0->ipykernel->jupyter->d2l==1.0.0-alpha1.post0) (2.0.10)\n",
            "Requirement already satisfied: decorator in /usr/local/lib/python3.7/dist-packages (from ipython>=5.0.0->ipykernel->jupyter->d2l==1.0.0-alpha1.post0) (4.4.2)\n",
            "Requirement already satisfied: pickleshare in /usr/local/lib/python3.7/dist-packages (from ipython>=5.0.0->ipykernel->jupyter->d2l==1.0.0-alpha1.post0) (0.7.5)\n",
            "Requirement already satisfied: pygments in /usr/local/lib/python3.7/dist-packages (from ipython>=5.0.0->ipykernel->jupyter->d2l==1.0.0-alpha1.post0) (2.6.1)\n",
            "Requirement already satisfied: pexpect in /usr/local/lib/python3.7/dist-packages (from ipython>=5.0.0->ipykernel->jupyter->d2l==1.0.0-alpha1.post0) (4.8.0)\n",
            "Requirement already satisfied: parso<0.9.0,>=0.8.0 in /usr/local/lib/python3.7/dist-packages (from jedi>=0.10->ipython>=5.0.0->ipykernel->jupyter->d2l==1.0.0-alpha1.post0) (0.8.3)\n",
            "Requirement already satisfied: wcwidth in /usr/local/lib/python3.7/dist-packages (from prompt-toolkit<2.1.0,>=2.0.0->ipython>=5.0.0->ipykernel->jupyter->d2l==1.0.0-alpha1.post0) (0.2.5)\n",
            "Requirement already satisfied: six>=1.9.0 in /usr/local/lib/python3.7/dist-packages (from prompt-toolkit<2.1.0,>=2.0.0->ipython>=5.0.0->ipykernel->jupyter->d2l==1.0.0-alpha1.post0) (1.15.0)\n",
            "Requirement already satisfied: ipython-genutils~=0.2.0 in /usr/local/lib/python3.7/dist-packages (from ipywidgets->jupyter->d2l==1.0.0-alpha1.post0) (0.2.0)\n",
            "Requirement already satisfied: jupyterlab-widgets>=1.0.0 in /usr/local/lib/python3.7/dist-packages (from ipywidgets->jupyter->d2l==1.0.0-alpha1.post0) (3.0.3)\n",
            "Requirement already satisfied: widgetsnbextension~=3.6.0 in /usr/local/lib/python3.7/dist-packages (from ipywidgets->jupyter->d2l==1.0.0-alpha1.post0) (3.6.1)\n",
            "Requirement already satisfied: jupyter-core>=4.4.0 in /usr/local/lib/python3.7/dist-packages (from notebook->jupyter->d2l==1.0.0-alpha1.post0) (4.11.1)\n",
            "Requirement already satisfied: nbformat in /usr/local/lib/python3.7/dist-packages (from notebook->jupyter->d2l==1.0.0-alpha1.post0) (5.7.0)\n",
            "Requirement already satisfied: Send2Trash in /usr/local/lib/python3.7/dist-packages (from notebook->jupyter->d2l==1.0.0-alpha1.post0) (1.8.0)\n",
            "Requirement already satisfied: pyzmq>=17 in /usr/local/lib/python3.7/dist-packages (from notebook->jupyter->d2l==1.0.0-alpha1.post0) (23.2.1)\n",
            "Requirement already satisfied: jinja2 in /usr/local/lib/python3.7/dist-packages (from notebook->jupyter->d2l==1.0.0-alpha1.post0) (2.11.3)\n",
            "Requirement already satisfied: terminado>=0.8.1 in /usr/local/lib/python3.7/dist-packages (from notebook->jupyter->d2l==1.0.0-alpha1.post0) (0.13.3)\n",
            "Requirement already satisfied: python-dateutil>=2.1 in /usr/local/lib/python3.7/dist-packages (from jupyter-client->ipykernel->jupyter->d2l==1.0.0-alpha1.post0) (2.8.2)\n",
            "Requirement already satisfied: ptyprocess in /usr/local/lib/python3.7/dist-packages (from terminado>=0.8.1->notebook->jupyter->d2l==1.0.0-alpha1.post0) (0.7.0)\n",
            "Requirement already satisfied: MarkupSafe>=0.23 in /usr/local/lib/python3.7/dist-packages (from jinja2->notebook->jupyter->d2l==1.0.0-alpha1.post0) (2.0.1)\n",
            "Requirement already satisfied: pyparsing!=2.0.4,!=2.1.2,!=2.1.6,>=2.0.1 in /usr/local/lib/python3.7/dist-packages (from matplotlib->d2l==1.0.0-alpha1.post0) (3.0.9)\n",
            "Requirement already satisfied: kiwisolver>=1.0.1 in /usr/local/lib/python3.7/dist-packages (from matplotlib->d2l==1.0.0-alpha1.post0) (1.4.4)\n",
            "Requirement already satisfied: cycler>=0.10 in /usr/local/lib/python3.7/dist-packages (from matplotlib->d2l==1.0.0-alpha1.post0) (0.11.0)\n",
            "Requirement already satisfied: entrypoints>=0.2.2 in /usr/local/lib/python3.7/dist-packages (from nbconvert->jupyter->d2l==1.0.0-alpha1.post0) (0.4)\n",
            "Requirement already satisfied: pandocfilters>=1.4.1 in /usr/local/lib/python3.7/dist-packages (from nbconvert->jupyter->d2l==1.0.0-alpha1.post0) (1.5.0)\n",
            "Requirement already satisfied: bleach in /usr/local/lib/python3.7/dist-packages (from nbconvert->jupyter->d2l==1.0.0-alpha1.post0) (5.0.1)\n",
            "Requirement already satisfied: testpath in /usr/local/lib/python3.7/dist-packages (from nbconvert->jupyter->d2l==1.0.0-alpha1.post0) (0.6.0)\n",
            "Requirement already satisfied: defusedxml in /usr/local/lib/python3.7/dist-packages (from nbconvert->jupyter->d2l==1.0.0-alpha1.post0) (0.7.1)\n",
            "Requirement already satisfied: mistune<2,>=0.8.1 in /usr/local/lib/python3.7/dist-packages (from nbconvert->jupyter->d2l==1.0.0-alpha1.post0) (0.8.4)\n",
            "Requirement already satisfied: jsonschema>=2.6 in /usr/local/lib/python3.7/dist-packages (from nbformat->notebook->jupyter->d2l==1.0.0-alpha1.post0) (4.3.3)\n",
            "Requirement already satisfied: fastjsonschema in /usr/local/lib/python3.7/dist-packages (from nbformat->notebook->jupyter->d2l==1.0.0-alpha1.post0) (2.16.2)\n",
            "Requirement already satisfied: pyrsistent!=0.17.0,!=0.17.1,!=0.17.2,>=0.14.0 in /usr/local/lib/python3.7/dist-packages (from jsonschema>=2.6->nbformat->notebook->jupyter->d2l==1.0.0-alpha1.post0) (0.18.1)\n",
            "Requirement already satisfied: importlib-resources>=1.4.0 in /usr/local/lib/python3.7/dist-packages (from jsonschema>=2.6->nbformat->notebook->jupyter->d2l==1.0.0-alpha1.post0) (5.10.0)\n",
            "Requirement already satisfied: attrs>=17.4.0 in /usr/local/lib/python3.7/dist-packages (from jsonschema>=2.6->nbformat->notebook->jupyter->d2l==1.0.0-alpha1.post0) (22.1.0)\n",
            "Requirement already satisfied: webencodings in /usr/local/lib/python3.7/dist-packages (from bleach->nbconvert->jupyter->d2l==1.0.0-alpha1.post0) (0.5.1)\n",
            "Requirement already satisfied: pytz>=2017.3 in /usr/local/lib/python3.7/dist-packages (from pandas->d2l==1.0.0-alpha1.post0) (2022.4)\n",
            "Collecting qtpy>=2.0.1\n",
            "  Downloading QtPy-2.2.1-py3-none-any.whl (82 kB)\n",
            "\u001b[K     |████████████████████████████████| 82 kB 715 kB/s \n",
            "\u001b[?25hRequirement already satisfied: packaging in /usr/local/lib/python3.7/dist-packages (from qtpy>=2.0.1->qtconsole->jupyter->d2l==1.0.0-alpha1.post0) (21.3)\n",
            "Requirement already satisfied: chardet<4,>=3.0.2 in /usr/local/lib/python3.7/dist-packages (from requests->d2l==1.0.0-alpha1.post0) (3.0.4)\n",
            "Requirement already satisfied: idna<3,>=2.5 in /usr/local/lib/python3.7/dist-packages (from requests->d2l==1.0.0-alpha1.post0) (2.10)\n",
            "Requirement already satisfied: urllib3!=1.25.0,!=1.25.1,<1.26,>=1.21.1 in /usr/local/lib/python3.7/dist-packages (from requests->d2l==1.0.0-alpha1.post0) (1.24.3)\n",
            "Requirement already satisfied: certifi>=2017.4.17 in /usr/local/lib/python3.7/dist-packages (from requests->d2l==1.0.0-alpha1.post0) (2022.9.24)\n",
            "Installing collected packages: jedi, qtpy, qtconsole, matplotlib-inline, jupyter, d2l\n",
            "Successfully installed d2l-1.0.0a1.post0 jedi-0.18.1 jupyter-1.0.0 matplotlib-inline-0.1.6 qtconsole-5.3.2 qtpy-2.2.1\n"
          ]
        }
      ],
      "source": [
        "!pip install d2l==1.0.0-alpha1.post0\n"
      ]
    },
    {
      "cell_type": "markdown",
      "id": "b623ba3a",
      "metadata": {
        "origin_pos": 0,
        "id": "b623ba3a"
      },
      "source": [
        "# Bidirectional Encoder Representations from Transformers (BERT)\n",
        ":label:`sec_bert`\n",
        "\n",
        "We have introduced several word embedding models for natural language understanding.\n",
        "After pretraining, the output can be thought of as a matrix\n",
        "where each row is a vector that represents a word of a predefined vocabulary.\n",
        "In fact, these word embedding models are all *context-independent*.\n",
        "Let's begin by illustrating this property.\n",
        "\n",
        "\n",
        "## From Context-Independent to Context-Sensitive\n",
        "\n",
        "Recall the experiments in :numref:`sec_word2vec_pretraining` and :numref:`sec_synonyms`.\n",
        "For instance, word2vec and GloVe both assign the same pretrained vector to the same word regardless of the context of the word (if any).\n",
        "Formally, a context-independent representation of any token $x$\n",
        "is a function $f(x)$ that only takes $x$ as its input.\n",
        "Given the abundance of polysemy and complex semantics in natural languages,\n",
        "context-independent representations have obvious limitations.\n",
        "For instance, the word \"crane\" in contexts\n",
        "\"a crane is flying\" and \"a crane driver came\" has completely different meanings;\n",
        "thus, the same word may be assigned different representations depending on contexts.\n",
        "\n",
        "This motivates the development of *context-sensitive* word representations,\n",
        "where representations of words depend on their contexts.\n",
        "Hence, a context-sensitive representation of token $x$ is a function $f(x, c(x))$\n",
        "depending on both $x$ and its context $c(x)$.\n",
        "Popular context-sensitive representations\n",
        "include TagLM (language-model-augmented sequence tagger) :cite:`Peters.Ammar.Bhagavatula.ea.2017`,\n",
        "CoVe (Context Vectors) :cite:`McCann.Bradbury.Xiong.ea.2017`,\n",
        "and ELMo (Embeddings from Language Models) :cite:`Peters.Neumann.Iyyer.ea.2018`.\n",
        "\n",
        "For example, by taking the entire sequence as input,\n",
        "ELMo is a function that assigns a representation to each word from the input sequence.\n",
        "Specifically, ELMo combines all the intermediate layer representations from pretrained bidirectional LSTM as the output representation.\n",
        "Then the ELMo representation will be added to a downstream task's existing supervised model\n",
        "as additional features, such as by concatenating ELMo representation and the original representation (e.g., GloVe) of tokens in the existing model.\n",
        "On the one hand,\n",
        "all the weights in the pretrained bidirectional LSTM model are frozen after ELMo representations are added.\n",
        "On the other hand,\n",
        "the existing supervised model is specifically customized for a given task.\n",
        "Leveraging different best models for different tasks at that time,\n",
        "adding ELMo improved the state of the art across six natural language processing tasks:\n",
        "sentiment analysis, natural language inference,\n",
        "semantic role labeling, coreference resolution,\n",
        "named entity recognition, and question answering.\n",
        "\n",
        "\n",
        "## From Task-Specific to Task-Agnostic\n",
        "\n",
        "Although ELMo has significantly improved solutions to a diverse set of natural language processing tasks,\n",
        "each solution still hinges on a *task-specific* architecture.\n",
        "However, it is practically non-trivial to craft a specific architecture for every natural language processing task.\n",
        "The GPT (Generative Pre-Training) model represents an effort in designing\n",
        "a general *task-agnostic* model for context-sensitive representations :cite:`Radford.Narasimhan.Salimans.ea.2018`.\n",
        "Built on a transformer decoder,\n",
        "GPT pretrains a language model that will be used to represent text sequences.\n",
        "When applying GPT to a downstream task,\n",
        "the output of the language model will be fed into an added linear output layer\n",
        "to predict the label of the task.\n",
        "In sharp contrast to ELMo that freezes parameters of the pretrained model,\n",
        "GPT fine-tunes *all* the parameters in the pretrained transformer decoder\n",
        "during supervised learning of the downstream task.\n",
        "GPT was evaluated on twelve tasks of natural language inference,\n",
        "question answering, sentence similarity, and classification,\n",
        "and improved the state of the art in nine of them with minimal changes\n",
        "to the model architecture.\n",
        "\n",
        "However, due to the autoregressive nature of language models,\n",
        "GPT only looks forward (left-to-right).\n",
        "In contexts \"i went to the bank to deposit cash\" and \"i went to the bank to sit down\",\n",
        "as \"bank\" is sensitive to the context to its left,\n",
        "GPT will return the same representation for \"bank\",\n",
        "though it has different meanings.\n",
        "\n",
        "\n",
        "## BERT: Combining the Best of Both Worlds\n",
        "\n",
        "As we have seen,\n",
        "ELMo encodes context bidirectionally but uses task-specific architectures;\n",
        "while GPT is task-agnostic but encodes context left-to-right.\n",
        "Combining the best of both worlds,\n",
        "BERT (Bidirectional Encoder Representations from Transformers)\n",
        "encodes context bidirectionally and requires minimal architecture changes\n",
        "for a wide range of natural language processing tasks :cite:`Devlin.Chang.Lee.ea.2018`.\n",
        "Using a pretrained transformer encoder,\n",
        "BERT is able to represent any token based on its bidirectional context.\n",
        "During supervised learning of downstream tasks,\n",
        "BERT is similar to GPT in two aspects.\n",
        "First, BERT representations will be fed into an added output layer,\n",
        "with minimal changes to the model architecture depending on nature of tasks,\n",
        "such as predicting for every token vs. predicting for the entire sequence.\n",
        "Second,\n",
        "all the parameters of the pretrained transformer encoder are fine-tuned,\n",
        "while the additional output layer will be trained from scratch.\n",
        ":numref:`fig_elmo-gpt-bert` depicts the differences among ELMo, GPT, and BERT.\n",
        "\n",
        "![A comparison of ELMo, GPT, and BERT.](https://github.com/d2l-ai/d2l-pytorch-colab/blob/master/img/elmo-gpt-bert.svg?raw=1)\n",
        ":label:`fig_elmo-gpt-bert`\n",
        "\n",
        "\n",
        "BERT further improved the state of the art on eleven natural language processing tasks\n",
        "under broad categories of (i) single text classification (e.g., sentiment analysis), (ii) text pair classification (e.g., natural language inference),\n",
        "(iii) question answering, (iv) text tagging (e.g., named entity recognition).\n",
        "All proposed in 2018,\n",
        "from context-sensitive ELMo to task-agnostic GPT and BERT,\n",
        "conceptually simple yet empirically powerful pretraining of deep representations for natural languages have revolutionized solutions to various natural language processing tasks.\n",
        "\n",
        "In the rest of this chapter,\n",
        "we will dive into the pretraining of BERT.\n",
        "When natural language processing applications are explained in :numref:`chap_nlp_app`,\n",
        "we will illustrate fine-tuning of BERT for downstream applications.\n"
      ]
    },
    {
      "cell_type": "code",
      "execution_count": 2,
      "id": "ce507506",
      "metadata": {
        "execution": {
          "iopub.execute_input": "2022-09-07T22:05:47.139014Z",
          "iopub.status.busy": "2022-09-07T22:05:47.138287Z",
          "iopub.status.idle": "2022-09-07T22:05:49.312714Z",
          "shell.execute_reply": "2022-09-07T22:05:49.311231Z"
        },
        "origin_pos": 2,
        "tab": [
          "pytorch"
        ],
        "id": "ce507506"
      },
      "outputs": [],
      "source": [
        "import torch\n",
        "from torch import nn\n",
        "from d2l import torch as d2l"
      ]
    },
    {
      "cell_type": "markdown",
      "id": "fdfd227b",
      "metadata": {
        "origin_pos": 3,
        "id": "fdfd227b"
      },
      "source": [
        "## [**Input Representation**]\n",
        ":label:`subsec_bert_input_rep`\n",
        "\n",
        "In natural language processing,\n",
        "some tasks (e.g., sentiment analysis) take single text as input,\n",
        "while in some other tasks (e.g., natural language inference),\n",
        "the input is a pair of text sequences.\n",
        "The BERT input sequence unambiguously represents both single text and text pairs.\n",
        "In the former,\n",
        "the BERT input sequence is the concatenation of\n",
        "the special classification token “&lt;cls&gt;”,\n",
        "tokens of a text sequence,\n",
        "and the special separation token “&lt;sep&gt;”.\n",
        "In the latter,\n",
        "the BERT input sequence is the concatenation of\n",
        "“&lt;cls&gt;”, tokens of the first text sequence,\n",
        "“&lt;sep&gt;”, tokens of the second text sequence, and “&lt;sep&gt;”.\n",
        "We will consistently distinguish the terminology \"BERT input sequence\"\n",
        "from other types of \"sequences\".\n",
        "For instance, one *BERT input sequence* may include either one *text sequence* or two *text sequences*.\n",
        "\n",
        "To distinguish text pairs,\n",
        "the learned segment embeddings $\\mathbf{e}_A$ and $\\mathbf{e}_B$\n",
        "are added to the token embeddings of the first sequence and the second sequence, respectively.\n",
        "For single text inputs, only $\\mathbf{e}_A$ is used.\n",
        "\n",
        "The following `get_tokens_and_segments` takes either one sentence or two sentences\n",
        "as input, then returns tokens of the BERT input sequence\n",
        "and their corresponding segment IDs.\n"
      ]
    },
    {
      "cell_type": "code",
      "execution_count": 3,
      "id": "5530f192",
      "metadata": {
        "execution": {
          "iopub.execute_input": "2022-09-07T22:05:49.319884Z",
          "iopub.status.busy": "2022-09-07T22:05:49.318923Z",
          "iopub.status.idle": "2022-09-07T22:05:49.327348Z",
          "shell.execute_reply": "2022-09-07T22:05:49.326099Z"
        },
        "origin_pos": 4,
        "tab": [
          "pytorch"
        ],
        "id": "5530f192"
      },
      "outputs": [],
      "source": [
        "#@save\n",
        "def get_tokens_and_segments(tokens_a, tokens_b=None):\n",
        "    \"\"\"Get tokens of the BERT input sequence and their segment IDs.\"\"\"\n",
        "    tokens = ['<cls>'] + tokens_a + ['<sep>']\n",
        "    # 0 and 1 are marking segment A and B, respectively\n",
        "    segments = [0] * (len(tokens_a) + 2)\n",
        "    if tokens_b is not None:\n",
        "        tokens += tokens_b + ['<sep>']\n",
        "        segments += [1] * (len(tokens_b) + 1)\n",
        "    return tokens, segments"
      ]
    },
    {
      "cell_type": "markdown",
      "id": "905261a5",
      "metadata": {
        "origin_pos": 5,
        "id": "905261a5"
      },
      "source": [
        "BERT chooses the transformer encoder as its bidirectional architecture.\n",
        "Common in the transformer encoder,\n",
        "positional embeddings are added at every position of the BERT input sequence.\n",
        "However, different from the original transformer encoder,\n",
        "BERT uses *learnable* positional embeddings.\n",
        "To sum up, :numref:`fig_bert-input` shows that\n",
        "the embeddings of the BERT input sequence are the sum\n",
        "of the token embeddings, segment embeddings, and positional embeddings.\n",
        "\n",
        "![The embeddings of the BERT input sequence are the sum\n",
        "of the token embeddings, segment embeddings, and positional embeddings.](https://github.com/d2l-ai/d2l-pytorch-colab/blob/master/img/bert-input.svg?raw=1)\n",
        ":label:`fig_bert-input`\n",
        "\n",
        "The following [**`BERTEncoder` class**] is similar to the `TransformerEncoder` class\n",
        "as implemented in :numref:`sec_transformer`.\n",
        "Different from `TransformerEncoder`, `BERTEncoder` uses\n",
        "segment embeddings and learnable positional embeddings.\n"
      ]
    },
    {
      "cell_type": "code",
      "execution_count": 4,
      "id": "be2a399d",
      "metadata": {
        "execution": {
          "iopub.execute_input": "2022-09-07T22:05:49.331409Z",
          "iopub.status.busy": "2022-09-07T22:05:49.330873Z",
          "iopub.status.idle": "2022-09-07T22:05:49.340963Z",
          "shell.execute_reply": "2022-09-07T22:05:49.339867Z"
        },
        "origin_pos": 7,
        "tab": [
          "pytorch"
        ],
        "id": "be2a399d"
      },
      "outputs": [],
      "source": [
        "#@save\n",
        "class BERTEncoder(nn.Module):\n",
        "    \"\"\"BERT encoder.\"\"\"\n",
        "    def __init__(self, vocab_size, num_hiddens, ffn_num_hiddens, num_heads,\n",
        "                 num_blks, dropout, max_len=1000, **kwargs):\n",
        "        super(BERTEncoder, self).__init__(**kwargs)\n",
        "        self.token_embedding = nn.Embedding(vocab_size, num_hiddens)\n",
        "        self.segment_embedding = nn.Embedding(2, num_hiddens)\n",
        "        self.blks = nn.Sequential()\n",
        "        for i in range(num_blks):\n",
        "            self.blks.add_module(f\"{i}\", d2l.TransformerEncoderBlock(\n",
        "                num_hiddens, ffn_num_hiddens, num_heads, dropout, True))\n",
        "        # In BERT, positional embeddings are learnable, thus we create a\n",
        "        # parameter of positional embeddings that are long enough\n",
        "        self.pos_embedding = nn.Parameter(torch.randn(1, max_len,\n",
        "                                                      num_hiddens))\n",
        "\n",
        "    def forward(self, tokens, segments, valid_lens):\n",
        "        # Shape of `X` remains unchanged in the following code snippet:\n",
        "        # (batch size, max sequence length, `num_hiddens`)\n",
        "        X = self.token_embedding(tokens) + self.segment_embedding(segments)\n",
        "        X = X + self.pos_embedding[:, :X.shape[1], :]\n",
        "        for blk in self.blks:\n",
        "            X = blk(X, valid_lens)\n",
        "        return X"
      ]
    },
    {
      "cell_type": "markdown",
      "id": "b842ffe4",
      "metadata": {
        "origin_pos": 8,
        "id": "b842ffe4"
      },
      "source": [
        "Suppose that the vocabulary size is 10000.\n",
        "To demonstrate forward [**inference of `BERTEncoder`**],\n",
        "let's create an instance of it and initialize its parameters.\n"
      ]
    },
    {
      "cell_type": "code",
      "execution_count": 5,
      "id": "8c709aef",
      "metadata": {
        "execution": {
          "iopub.execute_input": "2022-09-07T22:05:49.344671Z",
          "iopub.status.busy": "2022-09-07T22:05:49.344124Z",
          "iopub.status.idle": "2022-09-07T22:05:49.472093Z",
          "shell.execute_reply": "2022-09-07T22:05:49.470573Z"
        },
        "origin_pos": 10,
        "tab": [
          "pytorch"
        ],
        "id": "8c709aef",
        "outputId": "bbef5a52-e4a2-4f5f-bd62-88e8405b40e6",
        "colab": {
          "base_uri": "https://localhost:8080/"
        }
      },
      "outputs": [
        {
          "output_type": "stream",
          "name": "stderr",
          "text": [
            "/usr/local/lib/python3.7/dist-packages/torch/nn/modules/lazy.py:178: UserWarning: Lazy modules are a new feature under heavy development so changes to the API or functionality can happen at any moment.\n",
            "  warnings.warn('Lazy modules are a new feature under heavy development '\n"
          ]
        }
      ],
      "source": [
        "vocab_size, num_hiddens, ffn_num_hiddens, num_heads = 10000, 768, 1024, 4\n",
        "ffn_num_input, num_blks, dropout = 768, 2, 0.2\n",
        "encoder = BERTEncoder(vocab_size, num_hiddens, ffn_num_hiddens, num_heads,\n",
        "                      num_blks, dropout)"
      ]
    },
    {
      "cell_type": "markdown",
      "id": "db97568d",
      "metadata": {
        "origin_pos": 11,
        "id": "db97568d"
      },
      "source": [
        "We define `tokens` to be 2 BERT input sequences of length 8,\n",
        "where each token is an index of the vocabulary.\n",
        "The forward inference of `BERTEncoder` with the input `tokens`\n",
        "returns the encoded result where each token is represented by a vector\n",
        "whose length is predefined by the hyperparameter `num_hiddens`.\n",
        "This hyperparameter is usually referred to as the *hidden size*\n",
        "(number of hidden units) of the transformer encoder.\n"
      ]
    },
    {
      "cell_type": "code",
      "execution_count": 6,
      "id": "a6374848",
      "metadata": {
        "execution": {
          "iopub.execute_input": "2022-09-07T22:05:49.477922Z",
          "iopub.status.busy": "2022-09-07T22:05:49.477050Z",
          "iopub.status.idle": "2022-09-07T22:05:49.635712Z",
          "shell.execute_reply": "2022-09-07T22:05:49.634379Z"
        },
        "origin_pos": 13,
        "tab": [
          "pytorch"
        ],
        "id": "a6374848",
        "outputId": "2523ff3d-a008-4e89-f398-40c8b026ebec",
        "colab": {
          "base_uri": "https://localhost:8080/"
        }
      },
      "outputs": [
        {
          "output_type": "execute_result",
          "data": {
            "text/plain": [
              "torch.Size([2, 8, 768])"
            ]
          },
          "metadata": {},
          "execution_count": 6
        }
      ],
      "source": [
        "tokens = torch.randint(0, vocab_size, (2, 8))\n",
        "segments = torch.tensor([[0, 0, 0, 0, 1, 1, 1, 1], [0, 0, 0, 1, 1, 1, 1, 1]])\n",
        "encoded_X = encoder(tokens, segments, None)\n",
        "encoded_X.shape"
      ]
    },
    {
      "cell_type": "markdown",
      "id": "3735e743",
      "metadata": {
        "origin_pos": 14,
        "id": "3735e743"
      },
      "source": [
        "## Pretraining Tasks\n",
        ":label:`subsec_bert_pretraining_tasks`\n",
        "\n",
        "The forward inference of `BERTEncoder` gives the BERT representation\n",
        "of each token of the input text and the inserted\n",
        "special tokens “&lt;cls&gt;” and “&lt;seq&gt;”.\n",
        "Next, we will use these representations to compute the loss function\n",
        "for pretraining BERT.\n",
        "The pretraining is composed of the following two tasks:\n",
        "masked language modeling and next sentence prediction.\n",
        "\n",
        "### [**Masked Language Modeling**]\n",
        ":label:`subsec_mlm`\n",
        "\n",
        "As illustrated in :numref:`sec_language-model`,\n",
        "a language model predicts a token using the context on its left.\n",
        "To encode context bidirectionally for representing each token,\n",
        "BERT randomly masks tokens and uses tokens from the bidirectional context to\n",
        "predict the masked tokens in a self-supervised fashion.\n",
        "This task is referred to as a *masked language model*.\n",
        "\n",
        "In this pretraining task,\n",
        "15% of tokens will be selected at random as the masked tokens for prediction.\n",
        "To predict a masked token without cheating by using the label,\n",
        "one straightforward approach is to always replace it with a special “&lt;mask&gt;” token in the BERT input sequence.\n",
        "However, the artificial special token “&lt;mask&gt;” will never appear\n",
        "in fine-tuning.\n",
        "To avoid such a mismatch between pretraining and fine-tuning,\n",
        "if a token is masked for prediction (e.g., \"great\" is selected to be masked and predicted in \"this movie is great\"),\n",
        "in the input it will be replaced with:\n",
        "\n",
        "* a special “&lt;mask&gt;” token for 80% of the time (e.g., \"this movie is great\" becomes \"this movie is &lt;mask&gt;\");\n",
        "* a random token for 10% of the time (e.g., \"this movie is great\" becomes \"this movie is drink\");\n",
        "* the unchanged label token for 10% of the time (e.g., \"this movie is great\" becomes \"this movie is great\").\n",
        "\n",
        "Note that for 10% of 15% time a random token is inserted.\n",
        "This occasional noise encourages BERT to be less biased towards the masked token (especially when the label token remains unchanged) in its bidirectional context encoding.\n",
        "\n",
        "We implement the following `MaskLM` class to predict masked tokens\n",
        "in the masked language model task of BERT pretraining.\n",
        "The prediction uses a one-hidden-layer MLP (`self.mlp`).\n",
        "In forward inference, it takes two inputs:\n",
        "the encoded result of `BERTEncoder` and the token positions for prediction.\n",
        "The output is the prediction results at these positions.\n"
      ]
    },
    {
      "cell_type": "code",
      "execution_count": 7,
      "id": "5263d3e5",
      "metadata": {
        "execution": {
          "iopub.execute_input": "2022-09-07T22:05:49.640562Z",
          "iopub.status.busy": "2022-09-07T22:05:49.640037Z",
          "iopub.status.idle": "2022-09-07T22:05:49.649070Z",
          "shell.execute_reply": "2022-09-07T22:05:49.648272Z"
        },
        "origin_pos": 16,
        "tab": [
          "pytorch"
        ],
        "id": "5263d3e5"
      },
      "outputs": [],
      "source": [
        "#@save\n",
        "class MaskLM(nn.Module):\n",
        "    \"\"\"The masked language model task of BERT.\"\"\"\n",
        "    def __init__(self, vocab_size, num_hiddens, **kwargs):\n",
        "        super(MaskLM, self).__init__(**kwargs)\n",
        "        self.mlp = nn.Sequential(nn.LazyLinear(num_hiddens),\n",
        "                                 nn.ReLU(),\n",
        "                                 nn.LayerNorm(num_hiddens),\n",
        "                                 nn.LazyLinear(vocab_size))\n",
        "\n",
        "    def forward(self, X, pred_positions):\n",
        "        num_pred_positions = pred_positions.shape[1]\n",
        "        pred_positions = pred_positions.reshape(-1)\n",
        "        batch_size = X.shape[0]\n",
        "        batch_idx = torch.arange(0, batch_size)\n",
        "        # Suppose that `batch_size` = 2, `num_pred_positions` = 3, then\n",
        "        # `batch_idx` is `torch.tensor([0, 0, 0, 1, 1, 1])`\n",
        "        batch_idx = torch.repeat_interleave(batch_idx, num_pred_positions)\n",
        "        masked_X = X[batch_idx, pred_positions]\n",
        "        masked_X = masked_X.reshape((batch_size, num_pred_positions, -1))\n",
        "        mlm_Y_hat = self.mlp(masked_X)\n",
        "        return mlm_Y_hat"
      ]
    },
    {
      "cell_type": "markdown",
      "id": "50711246",
      "metadata": {
        "origin_pos": 17,
        "id": "50711246"
      },
      "source": [
        "To demonstrate [**the forward inference of `MaskLM`**],\n",
        "we create its instance `mlm` and initialize it.\n",
        "Recall that `encoded_X` from the forward inference of `BERTEncoder`\n",
        "represents 2 BERT input sequences.\n",
        "We define `mlm_positions` as the 3 indices to predict in either BERT input sequence of `encoded_X`.\n",
        "The forward inference of `mlm` returns prediction results `mlm_Y_hat`\n",
        "at all the masked positions `mlm_positions` of `encoded_X`.\n",
        "For each prediction, the size of the result is equal to the vocabulary size.\n"
      ]
    },
    {
      "cell_type": "code",
      "execution_count": 8,
      "id": "0f0c41ee",
      "metadata": {
        "execution": {
          "iopub.execute_input": "2022-09-07T22:05:49.652668Z",
          "iopub.status.busy": "2022-09-07T22:05:49.652229Z",
          "iopub.status.idle": "2022-09-07T22:05:49.754640Z",
          "shell.execute_reply": "2022-09-07T22:05:49.753569Z"
        },
        "origin_pos": 19,
        "tab": [
          "pytorch"
        ],
        "id": "0f0c41ee",
        "outputId": "f8baf1ef-d7ed-403d-ba14-ca4265cd6026",
        "colab": {
          "base_uri": "https://localhost:8080/"
        }
      },
      "outputs": [
        {
          "output_type": "execute_result",
          "data": {
            "text/plain": [
              "torch.Size([2, 3, 10000])"
            ]
          },
          "metadata": {},
          "execution_count": 8
        }
      ],
      "source": [
        "mlm = MaskLM(vocab_size, num_hiddens)\n",
        "mlm_positions = torch.tensor([[1, 5, 2], [6, 1, 5]])\n",
        "mlm_Y_hat = mlm(encoded_X, mlm_positions)\n",
        "mlm_Y_hat.shape"
      ]
    },
    {
      "cell_type": "markdown",
      "id": "c5c547d9",
      "metadata": {
        "origin_pos": 20,
        "id": "c5c547d9"
      },
      "source": [
        "With the ground truth labels `mlm_Y` of the predicted tokens `mlm_Y_hat` under masks,\n",
        "we can calculate the cross-entropy loss of the masked language model task in BERT pretraining.\n"
      ]
    },
    {
      "cell_type": "code",
      "execution_count": 9,
      "id": "c2cdee70",
      "metadata": {
        "execution": {
          "iopub.execute_input": "2022-09-07T22:05:49.758726Z",
          "iopub.status.busy": "2022-09-07T22:05:49.758410Z",
          "iopub.status.idle": "2022-09-07T22:05:49.769582Z",
          "shell.execute_reply": "2022-09-07T22:05:49.768274Z"
        },
        "origin_pos": 22,
        "tab": [
          "pytorch"
        ],
        "id": "c2cdee70",
        "outputId": "9096a7db-f256-4a27-d640-2194d6b886c3",
        "colab": {
          "base_uri": "https://localhost:8080/"
        }
      },
      "outputs": [
        {
          "output_type": "execute_result",
          "data": {
            "text/plain": [
              "torch.Size([6])"
            ]
          },
          "metadata": {},
          "execution_count": 9
        }
      ],
      "source": [
        "mlm_Y = torch.tensor([[7, 8, 9], [10, 20, 30]])\n",
        "loss = nn.CrossEntropyLoss(reduction='none')\n",
        "mlm_l = loss(mlm_Y_hat.reshape((-1, vocab_size)), mlm_Y.reshape(-1))\n",
        "mlm_l.shape"
      ]
    },
    {
      "cell_type": "markdown",
      "id": "27c8fdf8",
      "metadata": {
        "origin_pos": 23,
        "id": "27c8fdf8"
      },
      "source": [
        "### [**Next Sentence Prediction**]\n",
        ":label:`subsec_nsp`\n",
        "\n",
        "Although masked language modeling is able to encode bidirectional context\n",
        "for representing words, it does not explicitly model the logical relationship\n",
        "between text pairs.\n",
        "To help understand the relationship between two text sequences,\n",
        "BERT considers a binary classification task, *next sentence prediction*, in its pretraining.\n",
        "When generating sentence pairs for pretraining,\n",
        "for half of the time they are indeed consecutive sentences with the label \"True\";\n",
        "while for the other half of the time the second sentence is randomly sampled from the corpus with the label \"False\".\n",
        "\n",
        "The following `NextSentencePred` class uses a one-hidden-layer MLP\n",
        "to predict whether the second sentence is the next sentence of the first\n",
        "in the BERT input sequence.\n",
        "Due to self-attention in the transformer encoder,\n",
        "the BERT representation of the special token “&lt;cls&gt;”\n",
        "encodes both the two sentences from the input.\n",
        "Hence, the output layer (`self.output`) of the MLP classifier takes `X` as input,\n",
        "where `X` is the output of the MLP hidden layer whose input is the encoded “&lt;cls&gt;” token.\n"
      ]
    },
    {
      "cell_type": "code",
      "execution_count": 10,
      "id": "cecf56df",
      "metadata": {
        "execution": {
          "iopub.execute_input": "2022-09-07T22:05:49.775546Z",
          "iopub.status.busy": "2022-09-07T22:05:49.774527Z",
          "iopub.status.idle": "2022-09-07T22:05:49.781868Z",
          "shell.execute_reply": "2022-09-07T22:05:49.780839Z"
        },
        "origin_pos": 25,
        "tab": [
          "pytorch"
        ],
        "id": "cecf56df"
      },
      "outputs": [],
      "source": [
        "#@save\n",
        "class NextSentencePred(nn.Module):\n",
        "    \"\"\"The next sentence prediction task of BERT.\"\"\"\n",
        "    def __init__(self, **kwargs):\n",
        "        super(NextSentencePred, self).__init__(**kwargs)\n",
        "        self.output = nn.LazyLinear(2)\n",
        "\n",
        "    def forward(self, X):\n",
        "        # `X` shape: (batch size, `num_hiddens`)\n",
        "        return self.output(X)"
      ]
    },
    {
      "cell_type": "markdown",
      "id": "58828c38",
      "metadata": {
        "origin_pos": 26,
        "id": "58828c38"
      },
      "source": [
        "We can see that [**the forward inference of an `NextSentencePred`**] instance\n",
        "returns binary predictions for each BERT input sequence.\n"
      ]
    },
    {
      "cell_type": "code",
      "execution_count": 11,
      "id": "1dd7dcdd",
      "metadata": {
        "execution": {
          "iopub.execute_input": "2022-09-07T22:05:49.786321Z",
          "iopub.status.busy": "2022-09-07T22:05:49.785494Z",
          "iopub.status.idle": "2022-09-07T22:05:49.795916Z",
          "shell.execute_reply": "2022-09-07T22:05:49.794733Z"
        },
        "origin_pos": 28,
        "tab": [
          "pytorch"
        ],
        "id": "1dd7dcdd",
        "outputId": "973517f0-98ac-4810-835d-ae3edabbf8d2",
        "colab": {
          "base_uri": "https://localhost:8080/"
        }
      },
      "outputs": [
        {
          "output_type": "execute_result",
          "data": {
            "text/plain": [
              "torch.Size([2, 2])"
            ]
          },
          "metadata": {},
          "execution_count": 11
        }
      ],
      "source": [
        "# PyTorch by default won't flatten the tensor as seen in mxnet where, if\n",
        "# flatten=True, all but the first axis of input data are collapsed together\n",
        "encoded_X = torch.flatten(encoded_X, start_dim=1)\n",
        "# input_shape for NSP: (batch size, `num_hiddens`)\n",
        "nsp = NextSentencePred()\n",
        "nsp_Y_hat = nsp(encoded_X)\n",
        "nsp_Y_hat.shape"
      ]
    },
    {
      "cell_type": "markdown",
      "id": "9ea150cb",
      "metadata": {
        "origin_pos": 29,
        "id": "9ea150cb"
      },
      "source": [
        "The cross-entropy loss of the 2 binary classifications can also be computed.\n"
      ]
    },
    {
      "cell_type": "code",
      "execution_count": 12,
      "id": "a4cfd1b4",
      "metadata": {
        "execution": {
          "iopub.execute_input": "2022-09-07T22:05:49.800823Z",
          "iopub.status.busy": "2022-09-07T22:05:49.800257Z",
          "iopub.status.idle": "2022-09-07T22:05:49.808507Z",
          "shell.execute_reply": "2022-09-07T22:05:49.807532Z"
        },
        "origin_pos": 31,
        "tab": [
          "pytorch"
        ],
        "id": "a4cfd1b4",
        "outputId": "27a2c1fb-79d6-4350-ec3a-0ced8804e77f",
        "colab": {
          "base_uri": "https://localhost:8080/"
        }
      },
      "outputs": [
        {
          "output_type": "execute_result",
          "data": {
            "text/plain": [
              "torch.Size([2])"
            ]
          },
          "metadata": {},
          "execution_count": 12
        }
      ],
      "source": [
        "nsp_y = torch.tensor([0, 1])\n",
        "nsp_l = loss(nsp_Y_hat, nsp_y)\n",
        "nsp_l.shape"
      ]
    },
    {
      "cell_type": "markdown",
      "id": "432fe7bd",
      "metadata": {
        "origin_pos": 32,
        "id": "432fe7bd"
      },
      "source": [
        "It is noteworthy that all the labels in both the aforementioned pretraining tasks\n",
        "can be trivially obtained from the pretraining corpus without manual labeling effort.\n",
        "The original BERT has been pretrained on the concatenation of BookCorpus :cite:`Zhu.Kiros.Zemel.ea.2015`\n",
        "and English Wikipedia.\n",
        "These two text corpora are huge:\n",
        "they have 800 million words and 2.5 billion words, respectively.\n",
        "\n",
        "\n",
        "## [**Putting It All Together**]\n",
        "\n",
        "When pretraining BERT, the final loss function is a linear combination of\n",
        "both the loss functions for masked language modeling and next sentence prediction.\n",
        "Now we can define the `BERTModel` class by instantiating the three classes\n",
        "`BERTEncoder`, `MaskLM`, and `NextSentencePred`.\n",
        "The forward inference returns the encoded BERT representations `encoded_X`,\n",
        "predictions of masked language modeling `mlm_Y_hat`,\n",
        "and next sentence predictions `nsp_Y_hat`.\n"
      ]
    },
    {
      "cell_type": "code",
      "execution_count": 13,
      "id": "e1064c3e",
      "metadata": {
        "execution": {
          "iopub.execute_input": "2022-09-07T22:05:49.813234Z",
          "iopub.status.busy": "2022-09-07T22:05:49.812659Z",
          "iopub.status.idle": "2022-09-07T22:05:49.819956Z",
          "shell.execute_reply": "2022-09-07T22:05:49.818975Z"
        },
        "origin_pos": 34,
        "tab": [
          "pytorch"
        ],
        "id": "e1064c3e"
      },
      "outputs": [],
      "source": [
        "#@save\n",
        "class BERTModel(nn.Module):\n",
        "    \"\"\"The BERT model.\"\"\"\n",
        "    def __init__(self, vocab_size, num_hiddens, ffn_num_hiddens,\n",
        "                 num_heads, num_blks, dropout, max_len=1000):\n",
        "        super(BERTModel, self).__init__()\n",
        "        self.encoder = BERTEncoder(vocab_size, num_hiddens, ffn_num_hiddens,\n",
        "                                   num_heads, num_blks, dropout,\n",
        "                                   max_len=max_len)\n",
        "        self.hidden = nn.Sequential(nn.LazyLinear(num_hiddens),\n",
        "                                    nn.Tanh())\n",
        "        self.mlm = MaskLM(vocab_size, num_hiddens)\n",
        "        self.nsp = NextSentencePred()\n",
        "\n",
        "    def forward(self, tokens, segments, valid_lens=None, pred_positions=None):\n",
        "        encoded_X = self.encoder(tokens, segments, valid_lens)\n",
        "        if pred_positions is not None:\n",
        "            mlm_Y_hat = self.mlm(encoded_X, pred_positions)\n",
        "        else:\n",
        "            mlm_Y_hat = None\n",
        "        # The hidden layer of the MLP classifier for next sentence prediction.\n",
        "        # 0 is the index of the '<cls>' token\n",
        "        nsp_Y_hat = self.nsp(self.hidden(encoded_X[:, 0, :]))\n",
        "        return encoded_X, mlm_Y_hat, nsp_Y_hat"
      ]
    },
    {
      "cell_type": "markdown",
      "id": "34670f58",
      "metadata": {
        "origin_pos": 35,
        "id": "34670f58"
      },
      "source": [
        "## Summary\n",
        "\n",
        "* Word embedding models such as word2vec and GloVe are context-independent. They assign the same pretrained vector to the same word regardless of the context of the word (if any). It is hard for them to handle well polysemy or complex semantics in natural languages.\n",
        "* For context-sensitive word representations such as ELMo and GPT, representations of words depend on their contexts.\n",
        "* ELMo encodes context bidirectionally but uses task-specific architectures (however, it is practically non-trivial to craft a specific architecture for every natural language processing task); while GPT is task-agnostic but encodes context left-to-right.\n",
        "* BERT combines the best of both worlds: it encodes context bidirectionally and requires minimal architecture changes for a wide range of natural language processing tasks.\n",
        "* The embeddings of the BERT input sequence are the sum of the token embeddings, segment embeddings, and positional embeddings.\n",
        "* Pretraining BERT is composed of two tasks: masked language modeling and next sentence prediction. The former is able to encode bidirectional context for representing words, while the latter explicitly models the logical relationship between text pairs.\n",
        "\n",
        "\n",
        "\n",
        "## Exercises\n",
        "\n",
        "1. All other things being equal, will a masked language model require more or fewer pretraining steps to converge than a left-to-right language model? Why?\n",
        "1. In the original implementation of BERT, the positionwise feed-forward network in `BERTEncoder` (via `d2l.TransformerEncoderBlock`) and the fully connected layer in `MaskLM` both use the Gaussian error linear unit (GELU) :cite:`Hendrycks.Gimpel.2016` as the activation function. Research into the difference between GELU and ReLU.\n"
      ]
    },
    {
      "cell_type": "markdown",
      "id": "0348b8db",
      "metadata": {
        "origin_pos": 37,
        "tab": [
          "pytorch"
        ],
        "id": "0348b8db"
      },
      "source": [
        "[Discussions](https://discuss.d2l.ai/t/1490)\n"
      ]
    }
  ],
  "metadata": {
    "kernelspec": {
      "display_name": "Python 3",
      "name": "python3"
    },
    "language_info": {
      "name": "python"
    },
    "colab": {
      "provenance": []
    }
  },
  "nbformat": 4,
  "nbformat_minor": 5
}