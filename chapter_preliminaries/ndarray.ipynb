{
  "cells": [
    {
      "cell_type": "markdown",
      "id": "4de640b1",
      "metadata": {
        "origin_pos": 1,
        "id": "4de640b1"
      },
      "source": [
        "# Data Manipulation\n",
        ":label:`sec_ndarray`\n",
        "\n",
        "In order to get anything done, \n",
        "we need some way to store and manipulate data.\n",
        "Generally, there are two important things \n",
        "we need to do with data: \n",
        "(i) acquire them; \n",
        "and (ii) process them once they are inside the computer. \n",
        "There is no point in acquiring data \n",
        "without some way to store it, \n",
        "so to start, let's get our hands dirty\n",
        "with $n$-dimensional arrays, \n",
        "which we also call *tensors*.\n",
        "If you already know the NumPy \n",
        "scientific computing package, \n",
        "this will be a breeze.\n",
        "For all modern deep learning frameworks,\n",
        "the *tensor class* (`ndarray` in MXNet, \n",
        "`Tensor` in PyTorch and TensorFlow) \n",
        "resembles NumPy's `ndarray`,\n",
        "with a few killer features added.\n",
        "First, the tensor class\n",
        "supports automatic differentiation.\n",
        "Second, it leverages GPUs\n",
        "to accelerate numerical computation,\n",
        "whereas NumPy only runs on CPUs.\n",
        "These properties make neural networks\n",
        "both easy to code and fast to run.\n",
        "\n",
        "\n",
        "\n",
        "## Getting Started\n"
      ]
    },
    {
      "cell_type": "markdown",
      "id": "d8a4175d",
      "metadata": {
        "origin_pos": 3,
        "tab": [
          "pytorch"
        ],
        "id": "d8a4175d"
      },
      "source": [
        "(**To start, we import the PyTorch library.\n",
        "Note that the package name is `torch`.**)\n"
      ]
    },
    {
      "cell_type": "code",
      "execution_count": 1,
      "id": "8dc095d3",
      "metadata": {
        "execution": {
          "iopub.execute_input": "2022-09-07T22:06:49.255013Z",
          "iopub.status.busy": "2022-09-07T22:06:49.254302Z",
          "iopub.status.idle": "2022-09-07T22:06:50.276945Z",
          "shell.execute_reply": "2022-09-07T22:06:50.275729Z"
        },
        "origin_pos": 6,
        "tab": [
          "pytorch"
        ],
        "id": "8dc095d3"
      },
      "outputs": [],
      "source": [
        "import torch"
      ]
    },
    {
      "cell_type": "markdown",
      "id": "5009e000",
      "metadata": {
        "origin_pos": 8,
        "id": "5009e000"
      },
      "source": [
        "[**A tensor represents a (possibly multi-dimensional) array of numerical values.**]\n",
        "With one axis, a tensor is called a *vector*.\n",
        "With two axes, a tensor is called a *matrix*.\n",
        "With $k > 2$ axes, we drop the specialized names\n",
        "and just refer to the object as a $k^\\mathrm{th}$ *order tensor*.\n"
      ]
    },
    {
      "cell_type": "markdown",
      "id": "e7f66f0f",
      "metadata": {
        "origin_pos": 10,
        "tab": [
          "pytorch"
        ],
        "id": "e7f66f0f"
      },
      "source": [
        "PyTorch provides a variety of functions \n",
        "for creating new tensors \n",
        "prepopulated with values. \n",
        "For example, by invoking `arange(n)`,\n",
        "we can create a vector of evenly spaced values,\n",
        "starting at 0 (included) \n",
        "and ending at `n` (not included).\n",
        "By default, the interval size is $1$.\n",
        "Unless otherwise specified, \n",
        "new tensors are stored in main memory \n",
        "and designated for CPU-based computation.\n"
      ]
    },
    {
      "cell_type": "code",
      "execution_count": 2,
      "id": "02b38032",
      "metadata": {
        "execution": {
          "iopub.execute_input": "2022-09-07T22:06:50.283274Z",
          "iopub.status.busy": "2022-09-07T22:06:50.282566Z",
          "iopub.status.idle": "2022-09-07T22:06:50.300683Z",
          "shell.execute_reply": "2022-09-07T22:06:50.299396Z"
        },
        "origin_pos": 13,
        "tab": [
          "pytorch"
        ],
        "colab": {
          "base_uri": "https://localhost:8080/"
        },
        "id": "02b38032",
        "outputId": "a65603e7-4a7c-4433-d065-642f2503fb17"
      },
      "outputs": [
        {
          "output_type": "execute_result",
          "data": {
            "text/plain": [
              "tensor([ 0.,  1.,  2.,  3.,  4.,  5.,  6.,  7.,  8.,  9., 10., 11.])"
            ]
          },
          "metadata": {},
          "execution_count": 2
        }
      ],
      "source": [
        "x = torch.arange(12, dtype=torch.float32)\n",
        "x"
      ]
    },
    {
      "cell_type": "markdown",
      "id": "2786d4ec",
      "metadata": {
        "origin_pos": 16,
        "tab": [
          "pytorch"
        ],
        "id": "2786d4ec"
      },
      "source": [
        "Each of these values is called\n",
        "an *element* of the tensor.\n",
        "The tensor `x` contains 12 elements.\n",
        "We can inspect the total number of elements \n",
        "in a tensor via its `numel` method.\n"
      ]
    },
    {
      "cell_type": "code",
      "execution_count": 3,
      "id": "afc1cb28",
      "metadata": {
        "execution": {
          "iopub.execute_input": "2022-09-07T22:06:50.305362Z",
          "iopub.status.busy": "2022-09-07T22:06:50.304681Z",
          "iopub.status.idle": "2022-09-07T22:06:50.310310Z",
          "shell.execute_reply": "2022-09-07T22:06:50.309376Z"
        },
        "origin_pos": 19,
        "tab": [
          "pytorch"
        ],
        "colab": {
          "base_uri": "https://localhost:8080/"
        },
        "id": "afc1cb28",
        "outputId": "042b0a02-5690-4658-cefc-a9c18033d7be"
      },
      "outputs": [
        {
          "output_type": "execute_result",
          "data": {
            "text/plain": [
              "12"
            ]
          },
          "metadata": {},
          "execution_count": 3
        }
      ],
      "source": [
        "x.numel()"
      ]
    },
    {
      "cell_type": "markdown",
      "id": "4880fbac",
      "metadata": {
        "origin_pos": 21,
        "id": "4880fbac"
      },
      "source": [
        "(**We can access a tensor's *shape***) \n",
        "(the length along each axis)\n",
        "by inspecting its `shape` attribute.\n",
        "Because we are dealing with a vector here,\n",
        "the `shape` contains just a single element\n",
        "and is identical to the size.\n"
      ]
    },
    {
      "cell_type": "code",
      "execution_count": 4,
      "id": "72b5e455",
      "metadata": {
        "execution": {
          "iopub.execute_input": "2022-09-07T22:06:50.313846Z",
          "iopub.status.busy": "2022-09-07T22:06:50.313403Z",
          "iopub.status.idle": "2022-09-07T22:06:50.318674Z",
          "shell.execute_reply": "2022-09-07T22:06:50.317793Z"
        },
        "origin_pos": 22,
        "tab": [
          "pytorch"
        ],
        "colab": {
          "base_uri": "https://localhost:8080/"
        },
        "id": "72b5e455",
        "outputId": "059ad098-e8df-4a7e-c13c-9a2e2f005784"
      },
      "outputs": [
        {
          "output_type": "execute_result",
          "data": {
            "text/plain": [
              "torch.Size([12])"
            ]
          },
          "metadata": {},
          "execution_count": 4
        }
      ],
      "source": [
        "x.shape"
      ]
    },
    {
      "cell_type": "markdown",
      "id": "9ee433d9",
      "metadata": {
        "origin_pos": 23,
        "id": "9ee433d9"
      },
      "source": [
        "We can [**change the shape of a tensor\n",
        "without altering its size or values**],\n",
        "by invoking `reshape`.\n",
        "For example, we can transform \n",
        "our vector `x` whose shape is (12,) \n",
        "to a matrix `X`  with shape (3, 4).\n",
        "This new tensor retains all elements\n",
        "but reconfigures them into a matrix.\n",
        "Notice that the elements of our vector\n",
        "are laid out one row at a time and thus\n",
        "`x[3] == X[0, 3]`.\n"
      ]
    },
    {
      "cell_type": "code",
      "execution_count": 5,
      "id": "bfd847f0",
      "metadata": {
        "execution": {
          "iopub.execute_input": "2022-09-07T22:06:50.322491Z",
          "iopub.status.busy": "2022-09-07T22:06:50.321832Z",
          "iopub.status.idle": "2022-09-07T22:06:50.328491Z",
          "shell.execute_reply": "2022-09-07T22:06:50.327757Z"
        },
        "origin_pos": 24,
        "tab": [
          "pytorch"
        ],
        "colab": {
          "base_uri": "https://localhost:8080/"
        },
        "id": "bfd847f0",
        "outputId": "6e8af50a-0e8a-487b-d429-1d965b4b3913"
      },
      "outputs": [
        {
          "output_type": "execute_result",
          "data": {
            "text/plain": [
              "tensor([[ 0.,  1.,  2.,  3.],\n",
              "        [ 4.,  5.,  6.,  7.],\n",
              "        [ 8.,  9., 10., 11.]])"
            ]
          },
          "metadata": {},
          "execution_count": 5
        }
      ],
      "source": [
        "X = x.reshape(3, 4)\n",
        "X"
      ]
    },
    {
      "cell_type": "markdown",
      "id": "ecb32630",
      "metadata": {
        "origin_pos": 26,
        "id": "ecb32630"
      },
      "source": [
        "Note that specifying every shape component\n",
        "to `reshape` is redundant.\n",
        "Because we already know our tensor's size,\n",
        "we can work out one component of the shape given the rest.\n",
        "For example, given a tensor of size $n$\n",
        "and target shape ($h$, $w$),\n",
        "we know that $w = n/h$.\n",
        "To automatically infer one component of the shape,\n",
        "we can place a `-1` for the shape component\n",
        "that should be inferred automatically.\n",
        "In our case, instead of calling `x.reshape(3, 4)`,\n",
        "we could have equivalently called `x.reshape(-1, 4)` or `x.reshape(3, -1)`.\n",
        "\n",
        "Practitioners often need to work with tensors\n",
        "initialized to contain all zeros or ones.\n",
        "[**We can construct a tensor with all elements set to zero**] (~~or one~~)\n",
        "and a shape of (2, 3, 4) via the `zeros` function.\n"
      ]
    },
    {
      "cell_type": "code",
      "execution_count": 6,
      "id": "025cf97b",
      "metadata": {
        "execution": {
          "iopub.execute_input": "2022-09-07T22:06:50.332426Z",
          "iopub.status.busy": "2022-09-07T22:06:50.331837Z",
          "iopub.status.idle": "2022-09-07T22:06:50.349646Z",
          "shell.execute_reply": "2022-09-07T22:06:50.346774Z"
        },
        "origin_pos": 28,
        "tab": [
          "pytorch"
        ],
        "colab": {
          "base_uri": "https://localhost:8080/"
        },
        "id": "025cf97b",
        "outputId": "2df24450-4d83-4d95-b691-1c8e581dfcd0"
      },
      "outputs": [
        {
          "output_type": "execute_result",
          "data": {
            "text/plain": [
              "tensor([[[0., 0., 0., 0.],\n",
              "         [0., 0., 0., 0.],\n",
              "         [0., 0., 0., 0.]],\n",
              "\n",
              "        [[0., 0., 0., 0.],\n",
              "         [0., 0., 0., 0.],\n",
              "         [0., 0., 0., 0.]]])"
            ]
          },
          "metadata": {},
          "execution_count": 6
        }
      ],
      "source": [
        "torch.zeros((2, 3, 4))"
      ]
    },
    {
      "cell_type": "markdown",
      "id": "1ad3df40",
      "metadata": {
        "origin_pos": 30,
        "id": "1ad3df40"
      },
      "source": [
        "Similarly, we can create a tensor \n",
        "with all ones by invoking `ones`.\n"
      ]
    },
    {
      "cell_type": "code",
      "execution_count": 7,
      "id": "c3768a41",
      "metadata": {
        "execution": {
          "iopub.execute_input": "2022-09-07T22:06:50.357307Z",
          "iopub.status.busy": "2022-09-07T22:06:50.356667Z",
          "iopub.status.idle": "2022-09-07T22:06:50.363293Z",
          "shell.execute_reply": "2022-09-07T22:06:50.362475Z"
        },
        "origin_pos": 32,
        "tab": [
          "pytorch"
        ],
        "colab": {
          "base_uri": "https://localhost:8080/"
        },
        "id": "c3768a41",
        "outputId": "d4e89462-779d-4c1a-fa52-81edd028f29b"
      },
      "outputs": [
        {
          "output_type": "execute_result",
          "data": {
            "text/plain": [
              "tensor([[[1., 1., 1., 1.],\n",
              "         [1., 1., 1., 1.],\n",
              "         [1., 1., 1., 1.]],\n",
              "\n",
              "        [[1., 1., 1., 1.],\n",
              "         [1., 1., 1., 1.],\n",
              "         [1., 1., 1., 1.]]])"
            ]
          },
          "metadata": {},
          "execution_count": 7
        }
      ],
      "source": [
        "torch.ones((2, 3, 4))"
      ]
    },
    {
      "cell_type": "markdown",
      "id": "ce45c305",
      "metadata": {
        "origin_pos": 34,
        "id": "ce45c305"
      },
      "source": [
        "We often wish to \n",
        "[**sample each element randomly (and independently)**] \n",
        "from a given probability distribution.\n",
        "For example, the parameters of neural networks\n",
        "are often initialized randomly.\n",
        "The following snippet creates a tensor \n",
        "with elements drawn from \n",
        "a standard Gaussian (normal) distribution\n",
        "with mean 0 and standard deviation 1.\n"
      ]
    },
    {
      "cell_type": "code",
      "execution_count": 8,
      "id": "8fd6e781",
      "metadata": {
        "execution": {
          "iopub.execute_input": "2022-09-07T22:06:50.366923Z",
          "iopub.status.busy": "2022-09-07T22:06:50.366306Z",
          "iopub.status.idle": "2022-09-07T22:06:50.372113Z",
          "shell.execute_reply": "2022-09-07T22:06:50.371317Z"
        },
        "origin_pos": 36,
        "tab": [
          "pytorch"
        ],
        "colab": {
          "base_uri": "https://localhost:8080/"
        },
        "id": "8fd6e781",
        "outputId": "f2a3a156-7f4a-448e-9409-484607f9fdf0"
      },
      "outputs": [
        {
          "output_type": "execute_result",
          "data": {
            "text/plain": [
              "tensor([[-0.2663, -0.9401,  0.1721, -1.8815],\n",
              "        [ 0.1152,  1.4312, -1.1438, -0.8558],\n",
              "        [-0.8916,  0.2689,  0.4092, -0.3039]])"
            ]
          },
          "metadata": {},
          "execution_count": 8
        }
      ],
      "source": [
        "torch.randn(3, 4)"
      ]
    },
    {
      "cell_type": "markdown",
      "id": "abe08d31",
      "metadata": {
        "origin_pos": 38,
        "id": "abe08d31"
      },
      "source": [
        "Finally, we can construct tensors by\n",
        "[**supplying the exact values for each element**] \n",
        "by supplying (possibly nested) Python list(s) \n",
        "containing numerical literals.\n",
        "Here, we construct a matrix with a list of lists,\n",
        "where the outermost list corresponds to axis 0,\n",
        "and the inner list to axis 1.\n"
      ]
    },
    {
      "cell_type": "code",
      "execution_count": 9,
      "id": "8ee5bf8d",
      "metadata": {
        "execution": {
          "iopub.execute_input": "2022-09-07T22:06:50.375771Z",
          "iopub.status.busy": "2022-09-07T22:06:50.375201Z",
          "iopub.status.idle": "2022-09-07T22:06:50.381516Z",
          "shell.execute_reply": "2022-09-07T22:06:50.380469Z"
        },
        "origin_pos": 40,
        "tab": [
          "pytorch"
        ],
        "colab": {
          "base_uri": "https://localhost:8080/"
        },
        "id": "8ee5bf8d",
        "outputId": "f4ebfe0d-3427-4da5-8943-d182cc84de2e"
      },
      "outputs": [
        {
          "output_type": "execute_result",
          "data": {
            "text/plain": [
              "tensor([[2, 1, 4, 3],\n",
              "        [1, 2, 3, 4],\n",
              "        [4, 3, 2, 1]])"
            ]
          },
          "metadata": {},
          "execution_count": 9
        }
      ],
      "source": [
        "torch.tensor([[2, 1, 4, 3], [1, 2, 3, 4], [4, 3, 2, 1]])"
      ]
    },
    {
      "cell_type": "markdown",
      "id": "8d0b4e68",
      "metadata": {
        "origin_pos": 42,
        "id": "8d0b4e68"
      },
      "source": [
        "## Indexing and Slicing\n",
        "\n",
        "As with  Python lists,\n",
        "we can access tensor elements \n",
        "by indexing (starting with 0).\n",
        "To access an element based on its position\n",
        "relative to the end of the list,\n",
        "we can use negative indexing.\n",
        "Finally, we can access whole ranges of indices \n",
        "via slicing (e.g., `X[start:stop]`), \n",
        "where the returned value includes \n",
        "the first index (`start`) *but not the last* (`stop`).\n",
        "Finally, when only one index (or slice)\n",
        "is specified for a $k^\\mathrm{th}$ order tensor,\n",
        "it is applied along axis 0.\n",
        "Thus, in the following code,\n",
        "[**`[-1]` selects the last row and `[1:3]`\n",
        "selects the second and third rows**].\n"
      ]
    },
    {
      "cell_type": "code",
      "execution_count": 10,
      "id": "4a8f3496",
      "metadata": {
        "execution": {
          "iopub.execute_input": "2022-09-07T22:06:50.386172Z",
          "iopub.status.busy": "2022-09-07T22:06:50.385579Z",
          "iopub.status.idle": "2022-09-07T22:06:50.392629Z",
          "shell.execute_reply": "2022-09-07T22:06:50.391894Z"
        },
        "origin_pos": 43,
        "tab": [
          "pytorch"
        ],
        "colab": {
          "base_uri": "https://localhost:8080/"
        },
        "id": "4a8f3496",
        "outputId": "942ba007-27ce-4ff0-c657-d626b06662ee"
      },
      "outputs": [
        {
          "output_type": "execute_result",
          "data": {
            "text/plain": [
              "(tensor([ 8.,  9., 10., 11.]), tensor([[ 4.,  5.,  6.,  7.],\n",
              "         [ 8.,  9., 10., 11.]]))"
            ]
          },
          "metadata": {},
          "execution_count": 10
        }
      ],
      "source": [
        "X[-1], X[1:3]"
      ]
    },
    {
      "cell_type": "markdown",
      "id": "f8020ad8",
      "metadata": {
        "origin_pos": 44,
        "tab": [
          "pytorch"
        ],
        "id": "f8020ad8"
      },
      "source": [
        "Beyond reading, (**we can also write elements of a matrix by specifying indices.**)\n"
      ]
    },
    {
      "cell_type": "code",
      "execution_count": 11,
      "id": "0726a74a",
      "metadata": {
        "execution": {
          "iopub.execute_input": "2022-09-07T22:06:50.396003Z",
          "iopub.status.busy": "2022-09-07T22:06:50.395461Z",
          "iopub.status.idle": "2022-09-07T22:06:50.401901Z",
          "shell.execute_reply": "2022-09-07T22:06:50.401141Z"
        },
        "origin_pos": 46,
        "tab": [
          "pytorch"
        ],
        "colab": {
          "base_uri": "https://localhost:8080/"
        },
        "id": "0726a74a",
        "outputId": "303f391c-efdc-4bfd-a1d5-c3aa3e359fd1"
      },
      "outputs": [
        {
          "output_type": "execute_result",
          "data": {
            "text/plain": [
              "tensor([[ 0.,  1.,  2.,  3.],\n",
              "        [ 4.,  5., 17.,  7.],\n",
              "        [ 8.,  9., 10., 11.]])"
            ]
          },
          "metadata": {},
          "execution_count": 11
        }
      ],
      "source": [
        "X[1, 2] = 17\n",
        "X"
      ]
    },
    {
      "cell_type": "markdown",
      "id": "d531a10f",
      "metadata": {
        "origin_pos": 48,
        "id": "d531a10f"
      },
      "source": [
        "If we want [**to assign multiple elements the same value,\n",
        "we apply the indexing on the left-hand side \n",
        "of the assignment operation.**]\n",
        "For instance, `[:2, :]`  accesses \n",
        "the first and second rows,\n",
        "where `:` takes all the elements along axis 1 (column).\n",
        "While we discussed indexing for matrices,\n",
        "this also works for vectors\n",
        "and for tensors of more than 2 dimensions.\n"
      ]
    },
    {
      "cell_type": "code",
      "execution_count": 12,
      "id": "0e43c329",
      "metadata": {
        "execution": {
          "iopub.execute_input": "2022-09-07T22:06:50.405513Z",
          "iopub.status.busy": "2022-09-07T22:06:50.405081Z",
          "iopub.status.idle": "2022-09-07T22:06:50.411495Z",
          "shell.execute_reply": "2022-09-07T22:06:50.410629Z"
        },
        "origin_pos": 49,
        "tab": [
          "pytorch"
        ],
        "colab": {
          "base_uri": "https://localhost:8080/"
        },
        "id": "0e43c329",
        "outputId": "f29d729f-7cd8-40f2-f75b-6e65bcb68009"
      },
      "outputs": [
        {
          "output_type": "execute_result",
          "data": {
            "text/plain": [
              "tensor([[12., 12., 12., 12.],\n",
              "        [12., 12., 12., 12.],\n",
              "        [ 8.,  9., 10., 11.]])"
            ]
          },
          "metadata": {},
          "execution_count": 12
        }
      ],
      "source": [
        "X[:2, :] = 12\n",
        "X"
      ]
    },
    {
      "cell_type": "markdown",
      "id": "413229f0",
      "metadata": {
        "origin_pos": 51,
        "id": "413229f0"
      },
      "source": [
        "## Operations\n",
        "\n",
        "Now that we know how to construct tensors\n",
        "and how to read from and write to their elements,\n",
        "we can begin to manipulate them\n",
        "with various mathematical operations.\n",
        "Among the most useful tools \n",
        "are the *elementwise* operations.\n",
        "These apply a standard scalar operation\n",
        "to each element of a tensor.\n",
        "For functions that take two tensors as inputs,\n",
        "elementwise operations apply some standard binary operator\n",
        "on each pair of corresponding elements.\n",
        "We can create an elementwise function \n",
        "from any function that maps \n",
        "from a scalar to a scalar.\n",
        "\n",
        "In mathematical notation, we denote such\n",
        "*unary* scalar operators (taking one input)\n",
        "by the signature \n",
        "$f: \\mathbb{R} \\rightarrow \\mathbb{R}$.\n",
        "This just means that the function maps\n",
        "from any real number onto some other real number.\n",
        "Most standard operators can be applied elementwise\n",
        "including unary operators like $e^x$.\n"
      ]
    },
    {
      "cell_type": "code",
      "execution_count": 13,
      "id": "3c2a464d",
      "metadata": {
        "execution": {
          "iopub.execute_input": "2022-09-07T22:06:50.415088Z",
          "iopub.status.busy": "2022-09-07T22:06:50.414563Z",
          "iopub.status.idle": "2022-09-07T22:06:50.420890Z",
          "shell.execute_reply": "2022-09-07T22:06:50.420056Z"
        },
        "origin_pos": 53,
        "tab": [
          "pytorch"
        ],
        "colab": {
          "base_uri": "https://localhost:8080/"
        },
        "id": "3c2a464d",
        "outputId": "08c954b6-83dd-4c5d-93c8-94da383da881"
      },
      "outputs": [
        {
          "output_type": "execute_result",
          "data": {
            "text/plain": [
              "tensor([162754.7969, 162754.7969, 162754.7969, 162754.7969, 162754.7969,\n",
              "        162754.7969, 162754.7969, 162754.7969,   2980.9580,   8103.0840,\n",
              "         22026.4648,  59874.1406])"
            ]
          },
          "metadata": {},
          "execution_count": 13
        }
      ],
      "source": [
        "torch.exp(x)"
      ]
    },
    {
      "cell_type": "markdown",
      "id": "bb6c6f7d",
      "metadata": {
        "origin_pos": 55,
        "id": "bb6c6f7d"
      },
      "source": [
        "Likewise, we denote *binary* scalar operators,\n",
        "which map pairs of real numbers\n",
        "to a (single) real number\n",
        "via the signature \n",
        "$f: \\mathbb{R}, \\mathbb{R} \\rightarrow \\mathbb{R}$.\n",
        "Given any two vectors $\\mathbf{u}$ \n",
        "and $\\mathbf{v}$ *of the same shape*,\n",
        "and a binary operator $f$, we can produce a vector\n",
        "$\\mathbf{c} = F(\\mathbf{u},\\mathbf{v})$\n",
        "by setting $c_i \\gets f(u_i, v_i)$ for all $i$,\n",
        "where $c_i, u_i$, and $v_i$ are the $i^\\mathrm{th}$ elements\n",
        "of vectors $\\mathbf{c}, \\mathbf{u}$, and $\\mathbf{v}$.\n",
        "Here, we produced the vector-valued\n",
        "$F: \\mathbb{R}^d, \\mathbb{R}^d \\rightarrow \\mathbb{R}^d$\n",
        "by *lifting* the scalar function\n",
        "to an elementwise vector operation.\n",
        "The common standard arithmetic operators\n",
        "for addition (`+`), subtraction (`-`), \n",
        "multiplication (`*`), division (`/`), \n",
        "and exponentiation (`**`)\n",
        "have all been *lifted* to elementwise operations\n",
        "for identically-shaped tensors of arbitrary shape.\n"
      ]
    },
    {
      "cell_type": "code",
      "execution_count": 14,
      "id": "88e3af90",
      "metadata": {
        "execution": {
          "iopub.execute_input": "2022-09-07T22:06:50.425794Z",
          "iopub.status.busy": "2022-09-07T22:06:50.425006Z",
          "iopub.status.idle": "2022-09-07T22:06:50.438164Z",
          "shell.execute_reply": "2022-09-07T22:06:50.436816Z"
        },
        "origin_pos": 57,
        "tab": [
          "pytorch"
        ],
        "colab": {
          "base_uri": "https://localhost:8080/"
        },
        "id": "88e3af90",
        "outputId": "2448389c-5a86-44f3-8437-dd1268c6970c"
      },
      "outputs": [
        {
          "output_type": "execute_result",
          "data": {
            "text/plain": [
              "(tensor([ 3.,  4.,  6., 10.]),\n",
              " tensor([-1.,  0.,  2.,  6.]),\n",
              " tensor([ 2.,  4.,  8., 16.]),\n",
              " tensor([0.5000, 1.0000, 2.0000, 4.0000]),\n",
              " tensor([ 1.,  4., 16., 64.]))"
            ]
          },
          "metadata": {},
          "execution_count": 14
        }
      ],
      "source": [
        "x = torch.tensor([1.0, 2, 4, 8])\n",
        "y = torch.tensor([2, 2, 2, 2])\n",
        "x + y, x - y, x * y, x / y, x ** y"
      ]
    },
    {
      "cell_type": "markdown",
      "id": "981d84cc",
      "metadata": {
        "origin_pos": 59,
        "id": "981d84cc"
      },
      "source": [
        "In addition to elementwise computations,\n",
        "we can also perform linear algebra operations,\n",
        "such as dot products and matrix multiplications.\n",
        "We will elaborate on these shortly\n",
        "in :numref:`sec_linear-algebra`.\n",
        "\n",
        "We can also [***concatenate* multiple tensors together,**]\n",
        "stacking them end-to-end to form a larger tensor.\n",
        "We just need to provide a list of tensors\n",
        "and tell the system along which axis to concatenate.\n",
        "The example below shows what happens when we concatenate\n",
        "two matrices along rows (axis 0)\n",
        "vs. columns (axis 1).\n",
        "We can see that the first output's axis-0 length ($6$)\n",
        "is the sum of the two input tensors' axis-0 lengths ($3 + 3$);\n",
        "while the second output's axis-1 length ($8$)\n",
        "is the sum of the two input tensors' axis-1 lengths ($4 + 4$).\n"
      ]
    },
    {
      "cell_type": "code",
      "execution_count": 15,
      "id": "5980f49f",
      "metadata": {
        "execution": {
          "iopub.execute_input": "2022-09-07T22:06:50.442205Z",
          "iopub.status.busy": "2022-09-07T22:06:50.441508Z",
          "iopub.status.idle": "2022-09-07T22:06:50.454700Z",
          "shell.execute_reply": "2022-09-07T22:06:50.453636Z"
        },
        "origin_pos": 61,
        "tab": [
          "pytorch"
        ],
        "colab": {
          "base_uri": "https://localhost:8080/"
        },
        "id": "5980f49f",
        "outputId": "1a91552c-ec5c-44b8-9c35-126af5a63cb8"
      },
      "outputs": [
        {
          "output_type": "execute_result",
          "data": {
            "text/plain": [
              "(tensor([[ 0.,  1.,  2.,  3.],\n",
              "         [ 4.,  5.,  6.,  7.],\n",
              "         [ 8.,  9., 10., 11.],\n",
              "         [ 2.,  1.,  4.,  3.],\n",
              "         [ 1.,  2.,  3.,  4.],\n",
              "         [ 4.,  3.,  2.,  1.]]),\n",
              " tensor([[ 0.,  1.,  2.,  3.,  2.,  1.,  4.,  3.],\n",
              "         [ 4.,  5.,  6.,  7.,  1.,  2.,  3.,  4.],\n",
              "         [ 8.,  9., 10., 11.,  4.,  3.,  2.,  1.]]))"
            ]
          },
          "metadata": {},
          "execution_count": 15
        }
      ],
      "source": [
        "X = torch.arange(12, dtype=torch.float32).reshape((3,4))\n",
        "Y = torch.tensor([[2.0, 1, 4, 3], [1, 2, 3, 4], [4, 3, 2, 1]])\n",
        "torch.cat((X, Y), dim=0), torch.cat((X, Y), dim=1)"
      ]
    },
    {
      "cell_type": "markdown",
      "id": "719703e2",
      "metadata": {
        "origin_pos": 63,
        "id": "719703e2"
      },
      "source": [
        "Sometimes, we want to \n",
        "[**construct a binary tensor via *logical statements*.**]\n",
        "Take `X == Y` as an example.\n",
        "For each position `i, j`, if `X[i, j]` and `Y[i, j]` are equal, \n",
        "then the corresponding entry in the result takes value `1`,\n",
        "otherwise it takes value `0`.\n"
      ]
    },
    {
      "cell_type": "code",
      "execution_count": 16,
      "id": "b1f04884",
      "metadata": {
        "execution": {
          "iopub.execute_input": "2022-09-07T22:06:50.458952Z",
          "iopub.status.busy": "2022-09-07T22:06:50.458068Z",
          "iopub.status.idle": "2022-09-07T22:06:50.465318Z",
          "shell.execute_reply": "2022-09-07T22:06:50.464334Z"
        },
        "origin_pos": 64,
        "tab": [
          "pytorch"
        ],
        "colab": {
          "base_uri": "https://localhost:8080/"
        },
        "id": "b1f04884",
        "outputId": "48137ff6-828d-466a-faf3-df4e6062ba2f"
      },
      "outputs": [
        {
          "output_type": "execute_result",
          "data": {
            "text/plain": [
              "tensor([[False,  True, False,  True],\n",
              "        [False, False, False, False],\n",
              "        [False, False, False, False]])"
            ]
          },
          "metadata": {},
          "execution_count": 16
        }
      ],
      "source": [
        "X == Y"
      ]
    },
    {
      "cell_type": "markdown",
      "id": "06c1b07a",
      "metadata": {
        "origin_pos": 65,
        "id": "06c1b07a"
      },
      "source": [
        "[**Summing all the elements in the tensor**] yields a tensor with only one element.\n"
      ]
    },
    {
      "cell_type": "code",
      "execution_count": 17,
      "id": "af9f28fe",
      "metadata": {
        "execution": {
          "iopub.execute_input": "2022-09-07T22:06:50.470213Z",
          "iopub.status.busy": "2022-09-07T22:06:50.469373Z",
          "iopub.status.idle": "2022-09-07T22:06:50.477427Z",
          "shell.execute_reply": "2022-09-07T22:06:50.476264Z"
        },
        "origin_pos": 66,
        "tab": [
          "pytorch"
        ],
        "colab": {
          "base_uri": "https://localhost:8080/"
        },
        "id": "af9f28fe",
        "outputId": "9a6741d6-ec49-4948-c749-52677fc5f359"
      },
      "outputs": [
        {
          "output_type": "execute_result",
          "data": {
            "text/plain": [
              "tensor(66.)"
            ]
          },
          "metadata": {},
          "execution_count": 17
        }
      ],
      "source": [
        "X.sum()"
      ]
    },
    {
      "cell_type": "markdown",
      "id": "f3057da2",
      "metadata": {
        "origin_pos": 68,
        "id": "f3057da2"
      },
      "source": [
        "## Broadcasting\n",
        ":label:`subsec_broadcasting`\n",
        "\n",
        "By now, you know how to perform \n",
        "elementwise binary operations\n",
        "on two tensors of the same shape. \n",
        "Under certain conditions,\n",
        "even when shapes differ, \n",
        "we can still [**perform elementwise binary operations\n",
        "by invoking the *broadcasting mechanism*.**]\n",
        "Broadcasting works according to \n",
        "the following two-step procedure:\n",
        "(i) expand one or both arrays\n",
        "by copying elements along axes with length 1\n",
        "so that after this transformation,\n",
        "the two tensors have the same shape;\n",
        "(ii) perform an elementwise operation\n",
        "on the resulting arrays.\n"
      ]
    },
    {
      "cell_type": "code",
      "execution_count": 18,
      "id": "25f870f9",
      "metadata": {
        "execution": {
          "iopub.execute_input": "2022-09-07T22:06:50.481852Z",
          "iopub.status.busy": "2022-09-07T22:06:50.481064Z",
          "iopub.status.idle": "2022-09-07T22:06:50.489634Z",
          "shell.execute_reply": "2022-09-07T22:06:50.488639Z"
        },
        "origin_pos": 70,
        "tab": [
          "pytorch"
        ],
        "colab": {
          "base_uri": "https://localhost:8080/"
        },
        "id": "25f870f9",
        "outputId": "c1a92442-9e56-47eb-eb67-62f6ad009b62"
      },
      "outputs": [
        {
          "output_type": "execute_result",
          "data": {
            "text/plain": [
              "(tensor([[0],\n",
              "         [1],\n",
              "         [2]]), tensor([[0, 1]]))"
            ]
          },
          "metadata": {},
          "execution_count": 18
        }
      ],
      "source": [
        "a = torch.arange(3).reshape((3, 1))\n",
        "b = torch.arange(2).reshape((1, 2))\n",
        "a, b"
      ]
    },
    {
      "cell_type": "markdown",
      "id": "b975f121",
      "metadata": {
        "origin_pos": 72,
        "id": "b975f121"
      },
      "source": [
        "Since `a` and `b` are $3\\times1$ \n",
        "and $1\\times2$ matrices, respectively,\n",
        "their shapes do not match up.\n",
        "Broadcasting produces a larger $3\\times2$ matrix \n",
        "by replicating matrix `a` along the columns\n",
        "and matrix `b` along the rows\n",
        "before adding them elementwise.\n"
      ]
    },
    {
      "cell_type": "code",
      "execution_count": 19,
      "id": "99dc8f6e",
      "metadata": {
        "execution": {
          "iopub.execute_input": "2022-09-07T22:06:50.493847Z",
          "iopub.status.busy": "2022-09-07T22:06:50.493063Z",
          "iopub.status.idle": "2022-09-07T22:06:50.499965Z",
          "shell.execute_reply": "2022-09-07T22:06:50.498966Z"
        },
        "origin_pos": 73,
        "tab": [
          "pytorch"
        ],
        "colab": {
          "base_uri": "https://localhost:8080/"
        },
        "id": "99dc8f6e",
        "outputId": "b51b8b73-9f1d-40e8-e8b2-21ff41b13d20"
      },
      "outputs": [
        {
          "output_type": "execute_result",
          "data": {
            "text/plain": [
              "tensor([[0, 1],\n",
              "        [1, 2],\n",
              "        [2, 3]])"
            ]
          },
          "metadata": {},
          "execution_count": 19
        }
      ],
      "source": [
        "a + b"
      ]
    },
    {
      "cell_type": "markdown",
      "id": "51806ade",
      "metadata": {
        "origin_pos": 74,
        "id": "51806ade"
      },
      "source": [
        "## Saving Memory\n",
        "\n",
        "[**Running operations can cause new memory to be\n",
        "allocated to host results.**]\n",
        "For example, if we write `Y = X + Y`,\n",
        "we dereference the tensor that `Y` used to point to\n",
        "and instead point `Y` at the newly allocated memory.\n",
        "We can demonstrate this issue with Python's `id()` function,\n",
        "which gives us the exact address \n",
        "of the referenced object in memory.\n",
        "Note that after we run `Y = Y + X`,\n",
        "`id(Y)` points to a different location.\n",
        "That's because Python first evaluates `Y + X`,\n",
        "allocating new memory for the result \n",
        "and then points `Y` to this new location in memory.\n"
      ]
    },
    {
      "cell_type": "code",
      "execution_count": 20,
      "id": "53cec000",
      "metadata": {
        "execution": {
          "iopub.execute_input": "2022-09-07T22:06:50.504157Z",
          "iopub.status.busy": "2022-09-07T22:06:50.503368Z",
          "iopub.status.idle": "2022-09-07T22:06:50.510917Z",
          "shell.execute_reply": "2022-09-07T22:06:50.509746Z"
        },
        "origin_pos": 75,
        "tab": [
          "pytorch"
        ],
        "colab": {
          "base_uri": "https://localhost:8080/"
        },
        "id": "53cec000",
        "outputId": "59626f0e-d27b-412c-d5c3-b1750b0040d6"
      },
      "outputs": [
        {
          "output_type": "execute_result",
          "data": {
            "text/plain": [
              "False"
            ]
          },
          "metadata": {},
          "execution_count": 20
        }
      ],
      "source": [
        "before = id(Y)\n",
        "Y = Y + X\n",
        "id(Y) == before"
      ]
    },
    {
      "cell_type": "markdown",
      "id": "998bfa1b",
      "metadata": {
        "origin_pos": 76,
        "id": "998bfa1b"
      },
      "source": [
        "This might be undesirable for two reasons.\n",
        "First, we do not want to run around\n",
        "allocating memory unnecessarily all the time.\n",
        "In machine learning, we often have\n",
        "hundreds of megabytes of parameters\n",
        "and update all of them multiple times per second.\n",
        "Whenever possible, we want to perform these updates *in place*.\n",
        "Second, we might point at the \n",
        "same parameters from multiple variables.\n",
        "If we do not update in place, \n",
        "we must be careful to update all of these references,\n",
        "lest we spring a memory leak \n",
        "or inadvertently refer to stale parameters.\n"
      ]
    },
    {
      "cell_type": "markdown",
      "id": "d72a38c3",
      "metadata": {
        "origin_pos": 77,
        "tab": [
          "pytorch"
        ],
        "id": "d72a38c3"
      },
      "source": [
        "Fortunately, (**performing in-place operations**) is easy.\n",
        "We can assign the result of an operation\n",
        "to a previously allocated array `Y`\n",
        "by using slice notation: `Y[:] = <expression>`.\n",
        "To illustrate this concept, \n",
        "we overwrite the values of tensor `Z`,\n",
        "after initializing it, using `zeros_like`,\n",
        "to have the same shape as `Y`.\n"
      ]
    },
    {
      "cell_type": "code",
      "execution_count": 21,
      "id": "8b011a51",
      "metadata": {
        "execution": {
          "iopub.execute_input": "2022-09-07T22:06:50.515204Z",
          "iopub.status.busy": "2022-09-07T22:06:50.514402Z",
          "iopub.status.idle": "2022-09-07T22:06:50.521246Z",
          "shell.execute_reply": "2022-09-07T22:06:50.520204Z"
        },
        "origin_pos": 80,
        "tab": [
          "pytorch"
        ],
        "colab": {
          "base_uri": "https://localhost:8080/"
        },
        "id": "8b011a51",
        "outputId": "dfb0b047-bf9d-4b0c-97e0-5bbd403cb9c4"
      },
      "outputs": [
        {
          "output_type": "stream",
          "name": "stdout",
          "text": [
            "id(Z): 140222379345488\n",
            "id(Z): 140222379345488\n"
          ]
        }
      ],
      "source": [
        "Z = torch.zeros_like(Y)\n",
        "print('id(Z):', id(Z))\n",
        "Z[:] = X + Y\n",
        "print('id(Z):', id(Z))"
      ]
    },
    {
      "cell_type": "markdown",
      "id": "4f2afde0",
      "metadata": {
        "origin_pos": 82,
        "tab": [
          "pytorch"
        ],
        "id": "4f2afde0"
      },
      "source": [
        "[**If the value of `X` is not reused in subsequent computations,\n",
        "we can also use `X[:] = X + Y` or `X += Y`\n",
        "to reduce the memory overhead of the operation.**]\n"
      ]
    },
    {
      "cell_type": "code",
      "execution_count": 22,
      "id": "29020ae4",
      "metadata": {
        "execution": {
          "iopub.execute_input": "2022-09-07T22:06:50.525408Z",
          "iopub.status.busy": "2022-09-07T22:06:50.524608Z",
          "iopub.status.idle": "2022-09-07T22:06:50.531375Z",
          "shell.execute_reply": "2022-09-07T22:06:50.530591Z"
        },
        "origin_pos": 84,
        "tab": [
          "pytorch"
        ],
        "colab": {
          "base_uri": "https://localhost:8080/"
        },
        "id": "29020ae4",
        "outputId": "5bbc708f-6700-4b83-b834-fa36516ec167"
      },
      "outputs": [
        {
          "output_type": "execute_result",
          "data": {
            "text/plain": [
              "True"
            ]
          },
          "metadata": {},
          "execution_count": 22
        }
      ],
      "source": [
        "before = id(X)\n",
        "X += Y\n",
        "id(X) == before"
      ]
    },
    {
      "cell_type": "markdown",
      "id": "796714e2",
      "metadata": {
        "origin_pos": 86,
        "id": "796714e2"
      },
      "source": [
        "## Conversion to Other Python Objects\n"
      ]
    },
    {
      "cell_type": "markdown",
      "id": "983f6d62",
      "metadata": {
        "origin_pos": 88,
        "tab": [
          "pytorch"
        ],
        "id": "983f6d62"
      },
      "source": [
        "[**Converting to a NumPy tensor (`ndarray`)**], or vice versa, is easy.\n",
        "The torch Tensor and numpy array \n",
        "will share their underlying memory, \n",
        "and changing one through an in-place operation \n",
        "will also change the other.\n"
      ]
    },
    {
      "cell_type": "code",
      "execution_count": 23,
      "id": "0f7205a2",
      "metadata": {
        "execution": {
          "iopub.execute_input": "2022-09-07T22:06:50.535330Z",
          "iopub.status.busy": "2022-09-07T22:06:50.535051Z",
          "iopub.status.idle": "2022-09-07T22:06:50.540519Z",
          "shell.execute_reply": "2022-09-07T22:06:50.539767Z"
        },
        "origin_pos": 90,
        "tab": [
          "pytorch"
        ],
        "colab": {
          "base_uri": "https://localhost:8080/"
        },
        "id": "0f7205a2",
        "outputId": "99684367-266f-4b54-9267-788f177969f7"
      },
      "outputs": [
        {
          "output_type": "execute_result",
          "data": {
            "text/plain": [
              "(numpy.ndarray, torch.Tensor)"
            ]
          },
          "metadata": {},
          "execution_count": 23
        }
      ],
      "source": [
        "A = X.numpy()\n",
        "B = torch.from_numpy(A)\n",
        "type(A), type(B)"
      ]
    },
    {
      "cell_type": "markdown",
      "id": "42410c87",
      "metadata": {
        "origin_pos": 92,
        "id": "42410c87"
      },
      "source": [
        "To (**convert a size-1 tensor to a Python scalar**),\n",
        "we can invoke the `item` function or Python's built-in functions.\n"
      ]
    },
    {
      "cell_type": "code",
      "execution_count": 24,
      "id": "5fe80e14",
      "metadata": {
        "execution": {
          "iopub.execute_input": "2022-09-07T22:06:50.543614Z",
          "iopub.status.busy": "2022-09-07T22:06:50.543333Z",
          "iopub.status.idle": "2022-09-07T22:06:50.549677Z",
          "shell.execute_reply": "2022-09-07T22:06:50.548910Z"
        },
        "origin_pos": 94,
        "tab": [
          "pytorch"
        ],
        "colab": {
          "base_uri": "https://localhost:8080/"
        },
        "id": "5fe80e14",
        "outputId": "3b177e0f-5d58-4238-d83f-567bcda700be"
      },
      "outputs": [
        {
          "output_type": "execute_result",
          "data": {
            "text/plain": [
              "(tensor([3.5000]), 3.5, 3.5, 3)"
            ]
          },
          "metadata": {},
          "execution_count": 24
        }
      ],
      "source": [
        "a = torch.tensor([3.5])\n",
        "a, a.item(), float(a), int(a)"
      ]
    },
    {
      "cell_type": "markdown",
      "id": "0e0c67d3",
      "metadata": {
        "origin_pos": 96,
        "id": "0e0c67d3"
      },
      "source": [
        "## Summary\n",
        "\n",
        " * The tensor class is the main interface for storing and manipulating data in deep learning libraries.\n",
        " * Tensors provide a variety of functionalities including construction routines; indexing and slicing; basic mathematics operations; broadcasting; memory-efficient assignment; and conversion to and from other Python objects.\n",
        "\n",
        "\n",
        "## Exercises\n",
        "\n",
        "1. Run the code in this section. Change the conditional statement `X == Y` to `X < Y` or `X > Y`, and then see what kind of tensor you can get.\n",
        "1. Replace the two tensors that operate by element in the broadcasting mechanism with other shapes, e.g., 3-dimensional tensors. Is the result the same as expected?\n"
      ]
    },
    {
      "cell_type": "markdown",
      "source": [
        "## Answer"
      ],
      "metadata": {
        "id": "67foF2k1TPYf"
      },
      "id": "67foF2k1TPYf"
    },
    {
      "cell_type": "code",
      "source": [
        "# No 1\n",
        "Xi = torch.arange(12, dtype=torch.float32).reshape((3,4))\n",
        "Yi = torch.tensor([[2.0, 1, 4, 3], [1, 2, 3, 4], [4, 3, 2, 1]])\n",
        "torch.cat((Xi, Yi), dim=0), torch.cat((Xi, Yi), dim=1)\n",
        "\n",
        "print(Xi < Yi)\n",
        "print(Xi > Yi)"
      ],
      "metadata": {
        "id": "416qzUZ6TMkQ",
        "outputId": "9e4cdb35-e039-45d7-cfe6-e914c222142d",
        "colab": {
          "base_uri": "https://localhost:8080/"
        }
      },
      "id": "416qzUZ6TMkQ",
      "execution_count": 25,
      "outputs": [
        {
          "output_type": "stream",
          "name": "stdout",
          "text": [
            "tensor([[ True, False,  True, False],\n",
            "        [False, False, False, False],\n",
            "        [False, False, False, False]])\n",
            "tensor([[False, False, False, False],\n",
            "        [ True,  True,  True,  True],\n",
            "        [ True,  True,  True,  True]])\n"
          ]
        }
      ]
    },
    {
      "cell_type": "code",
      "source": [
        "# No 2\n",
        "a = torch.arange(3).reshape((1, 3))\n",
        "b = torch.arange(2).reshape((2, 1))\n",
        "print(a, b)\n",
        "print(a+b)"
      ],
      "metadata": {
        "id": "uTWguP1EURzh",
        "outputId": "d70c7f6b-951e-45c3-83a3-7eea226bff95",
        "colab": {
          "base_uri": "https://localhost:8080/"
        }
      },
      "id": "uTWguP1EURzh",
      "execution_count": 30,
      "outputs": [
        {
          "output_type": "stream",
          "name": "stdout",
          "text": [
            "tensor([[0, 1, 2]]) tensor([[0],\n",
            "        [1]])\n",
            "tensor([[0, 1, 2],\n",
            "        [1, 2, 3]])\n"
          ]
        }
      ]
    },
    {
      "cell_type": "markdown",
      "id": "caaeb97e",
      "metadata": {
        "origin_pos": 98,
        "tab": [
          "pytorch"
        ],
        "id": "caaeb97e"
      },
      "source": [
        "[Discussions](https://discuss.d2l.ai/t/27)\n"
      ]
    }
  ],
  "metadata": {
    "kernelspec": {
      "display_name": "Python 3",
      "name": "python3"
    },
    "language_info": {
      "name": "python"
    },
    "colab": {
      "provenance": []
    }
  },
  "nbformat": 4,
  "nbformat_minor": 5
}