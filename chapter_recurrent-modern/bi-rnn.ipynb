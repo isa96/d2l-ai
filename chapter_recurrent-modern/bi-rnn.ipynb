{
  "cells": [
    {
      "cell_type": "markdown",
      "id": "9ea1b342",
      "metadata": {
        "id": "9ea1b342"
      },
      "source": [
        "The following additional libraries are needed to run this\n",
        "notebook. Note that running on Colab is experimental, please report a Github\n",
        "issue if you have any problem."
      ]
    },
    {
      "cell_type": "code",
      "execution_count": 1,
      "id": "8044862b",
      "metadata": {
        "id": "8044862b",
        "outputId": "60be9a82-6750-4cf1-b8bf-722f1ffee2f5",
        "colab": {
          "base_uri": "https://localhost:8080/"
        }
      },
      "outputs": [
        {
          "output_type": "stream",
          "name": "stdout",
          "text": [
            "Looking in indexes: https://pypi.org/simple, https://us-python.pkg.dev/colab-wheels/public/simple/\n",
            "Collecting d2l==1.0.0-alpha1.post0\n",
            "  Downloading d2l-1.0.0a1.post0-py3-none-any.whl (93 kB)\n",
            "\u001b[K     |████████████████████████████████| 93 kB 1.0 MB/s \n",
            "\u001b[?25hRequirement already satisfied: pandas in /usr/local/lib/python3.7/dist-packages (from d2l==1.0.0-alpha1.post0) (1.3.5)\n",
            "Requirement already satisfied: requests in /usr/local/lib/python3.7/dist-packages (from d2l==1.0.0-alpha1.post0) (2.23.0)\n",
            "Requirement already satisfied: gym in /usr/local/lib/python3.7/dist-packages (from d2l==1.0.0-alpha1.post0) (0.25.2)\n",
            "Collecting matplotlib-inline\n",
            "  Downloading matplotlib_inline-0.1.6-py3-none-any.whl (9.4 kB)\n",
            "Requirement already satisfied: matplotlib in /usr/local/lib/python3.7/dist-packages (from d2l==1.0.0-alpha1.post0) (3.2.2)\n",
            "Collecting jupyter\n",
            "  Downloading jupyter-1.0.0-py2.py3-none-any.whl (2.7 kB)\n",
            "Requirement already satisfied: numpy in /usr/local/lib/python3.7/dist-packages (from d2l==1.0.0-alpha1.post0) (1.21.6)\n",
            "Requirement already satisfied: gym-notices>=0.0.4 in /usr/local/lib/python3.7/dist-packages (from gym->d2l==1.0.0-alpha1.post0) (0.0.8)\n",
            "Requirement already satisfied: importlib-metadata>=4.8.0 in /usr/local/lib/python3.7/dist-packages (from gym->d2l==1.0.0-alpha1.post0) (4.13.0)\n",
            "Requirement already satisfied: cloudpickle>=1.2.0 in /usr/local/lib/python3.7/dist-packages (from gym->d2l==1.0.0-alpha1.post0) (1.5.0)\n",
            "Requirement already satisfied: typing-extensions>=3.6.4 in /usr/local/lib/python3.7/dist-packages (from importlib-metadata>=4.8.0->gym->d2l==1.0.0-alpha1.post0) (4.1.1)\n",
            "Requirement already satisfied: zipp>=0.5 in /usr/local/lib/python3.7/dist-packages (from importlib-metadata>=4.8.0->gym->d2l==1.0.0-alpha1.post0) (3.9.0)\n",
            "Requirement already satisfied: ipykernel in /usr/local/lib/python3.7/dist-packages (from jupyter->d2l==1.0.0-alpha1.post0) (5.3.4)\n",
            "Requirement already satisfied: jupyter-console in /usr/local/lib/python3.7/dist-packages (from jupyter->d2l==1.0.0-alpha1.post0) (6.1.0)\n",
            "Requirement already satisfied: notebook in /usr/local/lib/python3.7/dist-packages (from jupyter->d2l==1.0.0-alpha1.post0) (5.5.0)\n",
            "Requirement already satisfied: nbconvert in /usr/local/lib/python3.7/dist-packages (from jupyter->d2l==1.0.0-alpha1.post0) (5.6.1)\n",
            "Requirement already satisfied: ipywidgets in /usr/local/lib/python3.7/dist-packages (from jupyter->d2l==1.0.0-alpha1.post0) (7.7.1)\n",
            "Collecting qtconsole\n",
            "  Downloading qtconsole-5.3.2-py3-none-any.whl (120 kB)\n",
            "\u001b[K     |████████████████████████████████| 120 kB 43.0 MB/s \n",
            "\u001b[?25hRequirement already satisfied: ipython>=5.0.0 in /usr/local/lib/python3.7/dist-packages (from ipykernel->jupyter->d2l==1.0.0-alpha1.post0) (7.9.0)\n",
            "Requirement already satisfied: traitlets>=4.1.0 in /usr/local/lib/python3.7/dist-packages (from ipykernel->jupyter->d2l==1.0.0-alpha1.post0) (5.1.1)\n",
            "Requirement already satisfied: jupyter-client in /usr/local/lib/python3.7/dist-packages (from ipykernel->jupyter->d2l==1.0.0-alpha1.post0) (6.1.12)\n",
            "Requirement already satisfied: tornado>=4.2 in /usr/local/lib/python3.7/dist-packages (from ipykernel->jupyter->d2l==1.0.0-alpha1.post0) (5.1.1)\n",
            "Requirement already satisfied: decorator in /usr/local/lib/python3.7/dist-packages (from ipython>=5.0.0->ipykernel->jupyter->d2l==1.0.0-alpha1.post0) (4.4.2)\n",
            "Requirement already satisfied: backcall in /usr/local/lib/python3.7/dist-packages (from ipython>=5.0.0->ipykernel->jupyter->d2l==1.0.0-alpha1.post0) (0.2.0)\n",
            "Requirement already satisfied: prompt-toolkit<2.1.0,>=2.0.0 in /usr/local/lib/python3.7/dist-packages (from ipython>=5.0.0->ipykernel->jupyter->d2l==1.0.0-alpha1.post0) (2.0.10)\n",
            "Requirement already satisfied: setuptools>=18.5 in /usr/local/lib/python3.7/dist-packages (from ipython>=5.0.0->ipykernel->jupyter->d2l==1.0.0-alpha1.post0) (57.4.0)\n",
            "Collecting jedi>=0.10\n",
            "  Downloading jedi-0.18.1-py2.py3-none-any.whl (1.6 MB)\n",
            "\u001b[K     |████████████████████████████████| 1.6 MB 55.2 MB/s \n",
            "\u001b[?25hRequirement already satisfied: pexpect in /usr/local/lib/python3.7/dist-packages (from ipython>=5.0.0->ipykernel->jupyter->d2l==1.0.0-alpha1.post0) (4.8.0)\n",
            "Requirement already satisfied: pygments in /usr/local/lib/python3.7/dist-packages (from ipython>=5.0.0->ipykernel->jupyter->d2l==1.0.0-alpha1.post0) (2.6.1)\n",
            "Requirement already satisfied: pickleshare in /usr/local/lib/python3.7/dist-packages (from ipython>=5.0.0->ipykernel->jupyter->d2l==1.0.0-alpha1.post0) (0.7.5)\n",
            "Requirement already satisfied: parso<0.9.0,>=0.8.0 in /usr/local/lib/python3.7/dist-packages (from jedi>=0.10->ipython>=5.0.0->ipykernel->jupyter->d2l==1.0.0-alpha1.post0) (0.8.3)\n",
            "Requirement already satisfied: six>=1.9.0 in /usr/local/lib/python3.7/dist-packages (from prompt-toolkit<2.1.0,>=2.0.0->ipython>=5.0.0->ipykernel->jupyter->d2l==1.0.0-alpha1.post0) (1.15.0)\n",
            "Requirement already satisfied: wcwidth in /usr/local/lib/python3.7/dist-packages (from prompt-toolkit<2.1.0,>=2.0.0->ipython>=5.0.0->ipykernel->jupyter->d2l==1.0.0-alpha1.post0) (0.2.5)\n",
            "Requirement already satisfied: jupyterlab-widgets>=1.0.0 in /usr/local/lib/python3.7/dist-packages (from ipywidgets->jupyter->d2l==1.0.0-alpha1.post0) (3.0.3)\n",
            "Requirement already satisfied: ipython-genutils~=0.2.0 in /usr/local/lib/python3.7/dist-packages (from ipywidgets->jupyter->d2l==1.0.0-alpha1.post0) (0.2.0)\n",
            "Requirement already satisfied: widgetsnbextension~=3.6.0 in /usr/local/lib/python3.7/dist-packages (from ipywidgets->jupyter->d2l==1.0.0-alpha1.post0) (3.6.1)\n",
            "Requirement already satisfied: nbformat in /usr/local/lib/python3.7/dist-packages (from notebook->jupyter->d2l==1.0.0-alpha1.post0) (5.7.0)\n",
            "Requirement already satisfied: jupyter-core>=4.4.0 in /usr/local/lib/python3.7/dist-packages (from notebook->jupyter->d2l==1.0.0-alpha1.post0) (4.11.1)\n",
            "Requirement already satisfied: terminado>=0.8.1 in /usr/local/lib/python3.7/dist-packages (from notebook->jupyter->d2l==1.0.0-alpha1.post0) (0.13.3)\n",
            "Requirement already satisfied: jinja2 in /usr/local/lib/python3.7/dist-packages (from notebook->jupyter->d2l==1.0.0-alpha1.post0) (2.11.3)\n",
            "Requirement already satisfied: Send2Trash in /usr/local/lib/python3.7/dist-packages (from notebook->jupyter->d2l==1.0.0-alpha1.post0) (1.8.0)\n",
            "Requirement already satisfied: pyzmq>=17 in /usr/local/lib/python3.7/dist-packages (from notebook->jupyter->d2l==1.0.0-alpha1.post0) (23.2.1)\n",
            "Requirement already satisfied: python-dateutil>=2.1 in /usr/local/lib/python3.7/dist-packages (from jupyter-client->ipykernel->jupyter->d2l==1.0.0-alpha1.post0) (2.8.2)\n",
            "Requirement already satisfied: ptyprocess in /usr/local/lib/python3.7/dist-packages (from terminado>=0.8.1->notebook->jupyter->d2l==1.0.0-alpha1.post0) (0.7.0)\n",
            "Requirement already satisfied: MarkupSafe>=0.23 in /usr/local/lib/python3.7/dist-packages (from jinja2->notebook->jupyter->d2l==1.0.0-alpha1.post0) (2.0.1)\n",
            "Requirement already satisfied: cycler>=0.10 in /usr/local/lib/python3.7/dist-packages (from matplotlib->d2l==1.0.0-alpha1.post0) (0.11.0)\n",
            "Requirement already satisfied: pyparsing!=2.0.4,!=2.1.2,!=2.1.6,>=2.0.1 in /usr/local/lib/python3.7/dist-packages (from matplotlib->d2l==1.0.0-alpha1.post0) (3.0.9)\n",
            "Requirement already satisfied: kiwisolver>=1.0.1 in /usr/local/lib/python3.7/dist-packages (from matplotlib->d2l==1.0.0-alpha1.post0) (1.4.4)\n",
            "Requirement already satisfied: testpath in /usr/local/lib/python3.7/dist-packages (from nbconvert->jupyter->d2l==1.0.0-alpha1.post0) (0.6.0)\n",
            "Requirement already satisfied: bleach in /usr/local/lib/python3.7/dist-packages (from nbconvert->jupyter->d2l==1.0.0-alpha1.post0) (5.0.1)\n",
            "Requirement already satisfied: defusedxml in /usr/local/lib/python3.7/dist-packages (from nbconvert->jupyter->d2l==1.0.0-alpha1.post0) (0.7.1)\n",
            "Requirement already satisfied: entrypoints>=0.2.2 in /usr/local/lib/python3.7/dist-packages (from nbconvert->jupyter->d2l==1.0.0-alpha1.post0) (0.4)\n",
            "Requirement already satisfied: pandocfilters>=1.4.1 in /usr/local/lib/python3.7/dist-packages (from nbconvert->jupyter->d2l==1.0.0-alpha1.post0) (1.5.0)\n",
            "Requirement already satisfied: mistune<2,>=0.8.1 in /usr/local/lib/python3.7/dist-packages (from nbconvert->jupyter->d2l==1.0.0-alpha1.post0) (0.8.4)\n",
            "Requirement already satisfied: fastjsonschema in /usr/local/lib/python3.7/dist-packages (from nbformat->notebook->jupyter->d2l==1.0.0-alpha1.post0) (2.16.2)\n",
            "Requirement already satisfied: jsonschema>=2.6 in /usr/local/lib/python3.7/dist-packages (from nbformat->notebook->jupyter->d2l==1.0.0-alpha1.post0) (4.3.3)\n",
            "Requirement already satisfied: pyrsistent!=0.17.0,!=0.17.1,!=0.17.2,>=0.14.0 in /usr/local/lib/python3.7/dist-packages (from jsonschema>=2.6->nbformat->notebook->jupyter->d2l==1.0.0-alpha1.post0) (0.18.1)\n",
            "Requirement already satisfied: attrs>=17.4.0 in /usr/local/lib/python3.7/dist-packages (from jsonschema>=2.6->nbformat->notebook->jupyter->d2l==1.0.0-alpha1.post0) (22.1.0)\n",
            "Requirement already satisfied: importlib-resources>=1.4.0 in /usr/local/lib/python3.7/dist-packages (from jsonschema>=2.6->nbformat->notebook->jupyter->d2l==1.0.0-alpha1.post0) (5.10.0)\n",
            "Requirement already satisfied: webencodings in /usr/local/lib/python3.7/dist-packages (from bleach->nbconvert->jupyter->d2l==1.0.0-alpha1.post0) (0.5.1)\n",
            "Requirement already satisfied: pytz>=2017.3 in /usr/local/lib/python3.7/dist-packages (from pandas->d2l==1.0.0-alpha1.post0) (2022.4)\n",
            "Collecting qtpy>=2.0.1\n",
            "  Downloading QtPy-2.2.1-py3-none-any.whl (82 kB)\n",
            "\u001b[K     |████████████████████████████████| 82 kB 833 kB/s \n",
            "\u001b[?25hRequirement already satisfied: packaging in /usr/local/lib/python3.7/dist-packages (from qtpy>=2.0.1->qtconsole->jupyter->d2l==1.0.0-alpha1.post0) (21.3)\n",
            "Requirement already satisfied: idna<3,>=2.5 in /usr/local/lib/python3.7/dist-packages (from requests->d2l==1.0.0-alpha1.post0) (2.10)\n",
            "Requirement already satisfied: urllib3!=1.25.0,!=1.25.1,<1.26,>=1.21.1 in /usr/local/lib/python3.7/dist-packages (from requests->d2l==1.0.0-alpha1.post0) (1.24.3)\n",
            "Requirement already satisfied: chardet<4,>=3.0.2 in /usr/local/lib/python3.7/dist-packages (from requests->d2l==1.0.0-alpha1.post0) (3.0.4)\n",
            "Requirement already satisfied: certifi>=2017.4.17 in /usr/local/lib/python3.7/dist-packages (from requests->d2l==1.0.0-alpha1.post0) (2022.9.24)\n",
            "Installing collected packages: jedi, qtpy, qtconsole, matplotlib-inline, jupyter, d2l\n",
            "Successfully installed d2l-1.0.0a1.post0 jedi-0.18.1 jupyter-1.0.0 matplotlib-inline-0.1.6 qtconsole-5.3.2 qtpy-2.2.1\n"
          ]
        }
      ],
      "source": [
        "!pip install d2l==1.0.0-alpha1.post0\n"
      ]
    },
    {
      "cell_type": "markdown",
      "id": "1dfdd208",
      "metadata": {
        "origin_pos": 0,
        "id": "1dfdd208"
      },
      "source": [
        "# Bidirectional Recurrent Neural Networks\n",
        ":label:`sec_bi_rnn`\n",
        "\n",
        "So far, our working example of a sequence learning task has been language modeling,\n",
        "where we aim to predict the next token given all previous tokens in a sequence. \n",
        "In this scenario, we wish only to condition upon the leftward context,\n",
        "and thus the unidirectional chaining of a standard RNN seems appropriate. \n",
        "However, there are many other sequence learning tasks contexts \n",
        "where it's perfectly fine to condition the prediction at every time step\n",
        "on both the leftward and the rightward context. \n",
        "Consider, for example, part of speech detection. \n",
        "Why shouldn't we take the context in both directions into account\n",
        "when assessing the part of speech associated with a given word?\n",
        "\n",
        "Another common task---often useful as a pretraining exercise\n",
        "prior to fine-tuning a model on an actual task of interest---is\n",
        "to mask out random tokens in a text document and then to train \n",
        "a sequence model to predict the values of the missing tokens.\n",
        "Note that depending on what comes after the blank,\n",
        "the likely value of the missing token changes dramatically:\n",
        "\n",
        "* I am `___`.\n",
        "* I am `___` hungry.\n",
        "* I am `___` hungry, and I can eat half a pig.\n",
        "\n",
        "In the first sentence \"happy\" seems to be a likely candidate.\n",
        "The words \"not\" and \"very\" seem plausible in the second sentence, \n",
        "but \"not\" seems incompatible with the third sentences. \n",
        "\n",
        "\n",
        "Fortunately, a simple technique transforms any unidirectional RNN \n",
        "into a bidrectional RNN :cite:`Schuster.Paliwal.1997`.\n",
        "We simply implement two unidirectional RNN layers\n",
        "chained together in opposite directions \n",
        "and acting on the same input (:numref:`fig_birnn`).\n",
        "For the first RNN layer,\n",
        "the first input is $\\mathbf{x}_1$\n",
        "and the last input is $\\mathbf{x}_T$,\n",
        "but for the second RNN layer, \n",
        "the first input is $\\mathbf{x}_T$\n",
        "and the last input is $\\mathbf{x}_1$.\n",
        "To produce the output of this bidirectional RNN layer,\n",
        "we simply concatenate together the corresponding outputs\n",
        "of the two underlying unidirectional RNN layers. \n",
        "\n",
        "\n",
        "![Architecture of a bidirectional RNN.](http://d2l.ai/_images/birnn.svg)\n",
        ":label:`fig_birnn`\n",
        "\n",
        "\n",
        "Formally for any time step $t$,\n",
        "we consider a minibatch input $\\mathbf{X}_t \\in \\mathbb{R}^{n \\times d}$ \n",
        "(number of examples: $n$, number of inputs in each example: $d$) \n",
        "and let the hidden layer activation function be $\\phi$.\n",
        "In the bidirectional architecture,\n",
        "the forward and backward hidden states for this time step \n",
        "are $\\overrightarrow{\\mathbf{H}}_t  \\in \\mathbb{R}^{n \\times h}$ \n",
        "and $\\overleftarrow{\\mathbf{H}}_t  \\in \\mathbb{R}^{n \\times h}$, respectively,\n",
        "where $h$ is the number of hidden units.\n",
        "The forward and backward hidden state updates are as follows:\n",
        "\n",
        "\n",
        "$$\n",
        "\\begin{aligned}\n",
        "\\overrightarrow{\\mathbf{H}}_t &= \\phi(\\mathbf{X}_t \\mathbf{W}_{xh}^{(f)} + \\overrightarrow{\\mathbf{H}}_{t-1} \\mathbf{W}_{hh}^{(f)}  + \\mathbf{b}_h^{(f)}),\\\\\n",
        "\\overleftarrow{\\mathbf{H}}_t &= \\phi(\\mathbf{X}_t \\mathbf{W}_{xh}^{(b)} + \\overleftarrow{\\mathbf{H}}_{t+1} \\mathbf{W}_{hh}^{(b)}  + \\mathbf{b}_h^{(b)}),\n",
        "\\end{aligned}\n",
        "$$\n",
        "\n",
        "where the weights $\\mathbf{W}_{xh}^{(f)} \\in \\mathbb{R}^{d \\times h}, \\mathbf{W}_{hh}^{(f)} \\in \\mathbb{R}^{h \\times h}, \\mathbf{W}_{xh}^{(b)} \\in \\mathbb{R}^{d \\times h}, \\text{ and } \\mathbf{W}_{hh}^{(b)} \\in \\mathbb{R}^{h \\times h}$, and biases $\\mathbf{b}_h^{(f)} \\in \\mathbb{R}^{1 \\times h}$ and $\\mathbf{b}_h^{(b)} \\in \\mathbb{R}^{1 \\times h}$ are all the model parameters.\n",
        "\n",
        "Next, we concatenate the forward and backward hidden states\n",
        "$\\overrightarrow{\\mathbf{H}}_t$ and $\\overleftarrow{\\mathbf{H}}_t$\n",
        "to obtain the hidden state $\\mathbf{H}_t \\in \\mathbb{R}^{n \\times 2h}$ to be fed into the output layer.\n",
        "In deep bidirectional RNNs with multiple hidden layers,\n",
        "such information is passed on as *input* to the next bidirectional layer. \n",
        "Last, the output layer computes the output \n",
        "$\\mathbf{O}_t \\in \\mathbb{R}^{n \\times q}$ (number of outputs: $q$):\n",
        "\n",
        "$$\\mathbf{O}_t = \\mathbf{H}_t \\mathbf{W}_{hq} + \\mathbf{b}_q.$$\n",
        "\n",
        "Here, the weight matrix $\\mathbf{W}_{hq} \\in \\mathbb{R}^{2h \\times q}$ \n",
        "and the bias $\\mathbf{b}_q \\in \\mathbb{R}^{1 \\times q}$ \n",
        "are the model parameters of the output layer. \n",
        "While technically, the two directions can have different numbers of hidden units,\n",
        "this design choice is seldom made in practice. \n",
        "We now demonstrate a simple implementation of a bidirectional RNN.\n"
      ]
    },
    {
      "cell_type": "code",
      "execution_count": 2,
      "id": "7ad2bc32",
      "metadata": {
        "execution": {
          "iopub.execute_input": "2022-09-07T22:08:09.083159Z",
          "iopub.status.busy": "2022-09-07T22:08:09.082433Z",
          "iopub.status.idle": "2022-09-07T22:08:10.975565Z",
          "shell.execute_reply": "2022-09-07T22:08:10.974623Z"
        },
        "origin_pos": 3,
        "tab": [
          "pytorch"
        ],
        "id": "7ad2bc32"
      },
      "outputs": [],
      "source": [
        "import torch\n",
        "from torch import nn\n",
        "from d2l import torch as d2l"
      ]
    },
    {
      "cell_type": "markdown",
      "id": "c11bb0ec",
      "metadata": {
        "origin_pos": 5,
        "id": "c11bb0ec"
      },
      "source": [
        "### Implementation from Scratch\n",
        "\n",
        "To implement a bidirectional RNN from scratch, we can\n",
        "include two unidirectional `RNNScratch` instances\n",
        "with separate learnable parameters.\n"
      ]
    },
    {
      "cell_type": "code",
      "execution_count": 3,
      "id": "34748a9b",
      "metadata": {
        "execution": {
          "iopub.execute_input": "2022-09-07T22:08:10.979814Z",
          "iopub.status.busy": "2022-09-07T22:08:10.979236Z",
          "iopub.status.idle": "2022-09-07T22:08:10.984412Z",
          "shell.execute_reply": "2022-09-07T22:08:10.983668Z"
        },
        "origin_pos": 6,
        "tab": [
          "pytorch"
        ],
        "id": "34748a9b"
      },
      "outputs": [],
      "source": [
        "class BiRNNScratch(d2l.Module):\n",
        "    def __init__(self, num_inputs, num_hiddens, sigma=0.01):\n",
        "        super().__init__()\n",
        "        self.save_hyperparameters()\n",
        "        self.f_rnn = d2l.RNNScratch(num_inputs, num_hiddens, sigma)\n",
        "        self.b_rnn = d2l.RNNScratch(num_inputs, num_hiddens, sigma)\n",
        "        self.num_hiddens *= 2  # The output dimension will be doubled"
      ]
    },
    {
      "cell_type": "markdown",
      "id": "baadddde",
      "metadata": {
        "origin_pos": 7,
        "id": "baadddde"
      },
      "source": [
        "States of forward and backward RNNs\n",
        "are updated separately,\n",
        "while outputs of these two RNNs are concatenated.\n"
      ]
    },
    {
      "cell_type": "code",
      "execution_count": 4,
      "id": "8fcfd27f",
      "metadata": {
        "execution": {
          "iopub.execute_input": "2022-09-07T22:08:10.987810Z",
          "iopub.status.busy": "2022-09-07T22:08:10.987379Z",
          "iopub.status.idle": "2022-09-07T22:08:10.992598Z",
          "shell.execute_reply": "2022-09-07T22:08:10.991849Z"
        },
        "origin_pos": 8,
        "tab": [
          "pytorch"
        ],
        "id": "8fcfd27f"
      },
      "outputs": [],
      "source": [
        "@d2l.add_to_class(BiRNNScratch)\n",
        "def forward(self, inputs, Hs=None):\n",
        "    f_H, b_H = Hs if Hs is not None else (None, None)\n",
        "    f_outputs, f_H = self.f_rnn(inputs, f_H)\n",
        "    b_outputs, b_H = self.b_rnn(reversed(inputs), b_H)\n",
        "    outputs = [torch.cat((f, b), -1) for f, b in zip(f_outputs, b_outputs)]\n",
        "    return outputs, (f_H, b_H)"
      ]
    },
    {
      "cell_type": "markdown",
      "id": "872fdc14",
      "metadata": {
        "origin_pos": 9,
        "id": "872fdc14"
      },
      "source": [
        "### Concise Implementation\n",
        "\n",
        "Using the high-level APIs,\n",
        "we can implement bidirectional RNNs more concisely.\n",
        "Here we take a GRU model as an example.\n"
      ]
    },
    {
      "cell_type": "code",
      "execution_count": 5,
      "id": "46bd120f",
      "metadata": {
        "execution": {
          "iopub.execute_input": "2022-09-07T22:08:10.997144Z",
          "iopub.status.busy": "2022-09-07T22:08:10.996602Z",
          "iopub.status.idle": "2022-09-07T22:08:11.001216Z",
          "shell.execute_reply": "2022-09-07T22:08:11.000421Z"
        },
        "origin_pos": 10,
        "tab": [
          "pytorch"
        ],
        "id": "46bd120f"
      },
      "outputs": [],
      "source": [
        "class BiGRU(d2l.RNN):\n",
        "    def __init__(self, num_inputs, num_hiddens):\n",
        "        d2l.Module.__init__(self)\n",
        "        self.save_hyperparameters()\n",
        "        self.rnn = nn.GRU(num_inputs, num_hiddens, bidirectional=True)\n",
        "        self.num_hiddens *= 2"
      ]
    },
    {
      "cell_type": "markdown",
      "id": "498c8663",
      "metadata": {
        "origin_pos": 11,
        "id": "498c8663"
      },
      "source": [
        "## Summary\n",
        "\n",
        "In bidirectional RNNs, the hidden state for each time step is simultaneously determined by the data prior to and after the current time step. Bidirectional RNNs are mostly useful for sequence encoding and the estimation of observations given bidirectional context. Bidirectional RNNs are very costly to train due to long gradient chains.\n",
        "\n",
        "## Exercises\n",
        "\n",
        "1. If the different directions use a different number of hidden units, how will the shape of $\\mathbf{H}_t$ change?\n",
        "1. Design a bidirectional RNN with multiple hidden layers.\n",
        "1. Polysemy is common in natural languages. For example, the word \"bank\" has different meanings in contexts “i went to the bank to deposit cash” and “i went to the bank to sit down”. How can we design a neural network model such that given a context sequence and a word, a vector representation of the word in the context will be returned? What type of neural architectures is preferred for handling polysemy?\n"
      ]
    },
    {
      "cell_type": "markdown",
      "id": "f4b2db94",
      "metadata": {
        "origin_pos": 13,
        "tab": [
          "pytorch"
        ],
        "id": "f4b2db94"
      },
      "source": [
        "[Discussions](https://discuss.d2l.ai/t/1059)\n"
      ]
    }
  ],
  "metadata": {
    "kernelspec": {
      "display_name": "Python 3",
      "name": "python3"
    },
    "language_info": {
      "name": "python"
    },
    "colab": {
      "provenance": []
    }
  },
  "nbformat": 4,
  "nbformat_minor": 5
}